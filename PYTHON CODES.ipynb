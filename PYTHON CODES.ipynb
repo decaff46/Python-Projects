{
 "cells": [
  {
   "cell_type": "code",
   "execution_count": 1,
   "metadata": {},
   "outputs": [],
   "source": [
    "def pretty_print_coefs(coefs, names = None, sort = False):\n",
    "    if names == None:\n",
    "        names = [\"X%s\" % x for x in range(len(coefs))]\n",
    "    lst = zip(coefs, names)\n",
    "    if sort:\n",
    "        lst = sorted(lst,  key = lambda x:-np.abs(x[0]))\n",
    "    return \" + \".join(\"%s * %s\" % (round(coef, 3), name)\n",
    "                                   for coef, name in lst)"
   ]
  },
  {
   "cell_type": "code",
   "execution_count": 2,
   "metadata": {},
   "outputs": [
    {
     "ename": "NameError",
     "evalue": "name 'ridge_reg' is not defined",
     "output_type": "error",
     "traceback": [
      "\u001b[1;31m---------------------------------------------------------------------------\u001b[0m",
      "\u001b[1;31mNameError\u001b[0m                                 Traceback (most recent call last)",
      "\u001b[1;32m<ipython-input-2-5d9c2e13140b>\u001b[0m in \u001b[0;36m<module>\u001b[1;34m\u001b[0m\n\u001b[1;32m----> 1\u001b[1;33m \u001b[0mprint\u001b[0m \u001b[1;33m(\u001b[0m\u001b[1;34m\"Ridge model:\"\u001b[0m\u001b[1;33m,\u001b[0m \u001b[0mpretty_print_coefs\u001b[0m\u001b[1;33m(\u001b[0m\u001b[0mridge_reg\u001b[0m\u001b[1;33m.\u001b[0m\u001b[0mparams_\u001b[0m\u001b[1;33m)\u001b[0m\u001b[1;33m)\u001b[0m\u001b[1;33m\u001b[0m\u001b[1;33m\u001b[0m\u001b[0m\n\u001b[0m",
      "\u001b[1;31mNameError\u001b[0m: name 'ridge_reg' is not defined"
     ]
    }
   ],
   "source": [
    "print (\"Ridge model:\", pretty_print_coefs(ridge_reg.params_))"
   ]
  },
  {
   "cell_type": "code",
   "execution_count": null,
   "metadata": {},
   "outputs": [],
   "source": [
    "pd.crosstab(d['agekd_binomial'], d['premarsx_binomial'], normalize='columns')"
   ]
  },
  {
   "cell_type": "code",
   "execution_count": null,
   "metadata": {},
   "outputs": [],
   "source": [
    "conditions = [\n",
    "    ((d['PREMARSX'] == 1) | (d['PREMARSX'] == 2)),\n",
    "    ((d['PREMARSX'] == 3) | (d['PREMARSX'] == 4))]\n",
    "choices = [1,0]\n",
    "d['premarsx_binomial'] = np.select(conditions, choices, default=np.nan)\n",
    "d['premarsx_binomial'].value_counts()\n",
    "\n",
    "\n",
    "conditions = [\n",
    "    ((dat['relig'] == 1) | (dat['relig'] == 2) | (dat['relig'] == 11)) ,\n",
    "     (dat['relig'] == 3), \n",
    "     (dat['relig'] == 6), \n",
    "     (dat['relig'] == 9),\n",
    "     ((dat['relig'] != 1) & ((dat['relig'] != 2)) & (dat['relig'] != 11) & (dat['relig'] != 3) & \n",
    "    (dat['relig'] != 6) & (dat['relig'] != 9))\n",
    "]\n",
    "category = ['Christian', 'Jewish', 'Buddhism', 'Muslim', 'others'] #Christian, Jewish, Buddhism, Muslim, and others\n",
    "dat['relig_new'] = np.select(conditions, category, default=np.nan)\n",
    "\n",
    "dat.relig_new.value_counts()"
   ]
  },
  {
   "cell_type": "code",
   "execution_count": null,
   "metadata": {},
   "outputs": [],
   "source": [
    "exp = np.exp(result.params)\n",
    "ci = np.exp(result.conf_int())\n",
    "ci.columns = [\"2.5%\", \"97.5%\"]\n",
    "ci['exp'] = exp\n",
    "ci['odds %'] = round((exp - 1), 2)*100\n",
    "ci"
   ]
  },
  {
   "cell_type": "code",
   "execution_count": null,
   "metadata": {},
   "outputs": [],
   "source": [
    "lm_fd = FirstDifferenceOLS.from_formula(formula2, dat2)\n",
    "res_fd = lm_fd.fit(cov_type='clustered', cluster_entity=True)\n",
    "print(res_fd)"
   ]
  },
  {
   "cell_type": "code",
   "execution_count": null,
   "metadata": {},
   "outputs": [],
   "source": []
  },
  {
   "cell_type": "code",
   "execution_count": null,
   "metadata": {},
   "outputs": [],
   "source": [
    "agekd_binomial_tab = pd.crosstab(index=d[\"agekd_binomial\"],  # Make a crosstab\n",
    "                              columns=\"count\")     \n",
    "\n",
    "def compute_percentage(x):\n",
    "      pct = float(x/agekd_binomail_tab['count'].sum()) * 100\n",
    "      return round(pct, 2)\n",
    "\n",
    "agekd_binomial_tab['%'] = agekd_binomial_tab.apply(compute_percentage, axis=1)\n",
    "\n",
    "agekd_binomial_tab"
   ]
  },
  {
   "cell_type": "code",
   "execution_count": null,
   "metadata": {},
   "outputs": [],
   "source": [
    "## Cut them into age basket ##\n",
    "d['agekd_cut'] = pd.cut(d['AGEKDBRN'], bins=[12,20,30,40,50], labels=None, include_lowest= True)\n",
    "print (pd.value_counts(d[\"agekd_cut\"], sort=True))"
   ]
  },
  {
   "cell_type": "code",
   "execution_count": null,
   "metadata": {},
   "outputs": [],
   "source": [
    "bb = d[['AGEKDBRN','ID']].groupby('AGEKDBRN').count()\n",
    "bb['%'] = bb/bb.ID.sum()*100\n",
    "bb = bb.rename(columns = {'ID' : 'Total'})"
   ]
  },
  {
   "cell_type": "code",
   "execution_count": null,
   "metadata": {},
   "outputs": [],
   "source": [
    "res = pd.crosstab(d.SIBS, d.sib_cut)\n",
    "res.astype('float').div(res.sum(axis=0), axis=1)"
   ]
  },
  {
   "cell_type": "code",
   "execution_count": null,
   "metadata": {},
   "outputs": [],
   "source": [
    "sib_cuts.sort_values(ascending = False)"
   ]
  },
  {
   "cell_type": "code",
   "execution_count": null,
   "metadata": {},
   "outputs": [],
   "source": [
    "dat.filter(like='age').columns\n",
    "\n",
    "aa = dat.filter(like = \"age\").columns\n",
    "\n",
    "for x in aa: \n",
    "    print(dat[x].describe())"
   ]
  },
  {
   "cell_type": "code",
   "execution_count": null,
   "metadata": {},
   "outputs": [],
   "source": [
    "wvs[['manner','sex','ses','immigrant','education','live with parents','privacy','marital', 'age']].head() "
   ]
  },
  {
   "cell_type": "code",
   "execution_count": null,
   "metadata": {},
   "outputs": [],
   "source": [
    "wvs['manner']=7-(wvs['manner']) ## reverse respond : higher variable means more mannered ... ##"
   ]
  },
  {
   "cell_type": "code",
   "execution_count": null,
   "metadata": {},
   "outputs": [],
   "source": [
    "wvssub = pd.concat([wvs_new.manner, wvs_new.age, wvs_new.citizen, wvs_new.education, wvs_new.parenting, wvs_new.secret_survey, wvs_new.female, wvs_new.married, wvs_new.V2, \n",
    "                   pd.get_dummies(wvs_new.ses.astype(int), prefix='ses')],  axis = 1 )\n",
    "wvssub.columns\n",
    " "
   ]
  },
  {
   "cell_type": "code",
   "execution_count": null,
   "metadata": {},
   "outputs": [],
   "source": [
    "lm2 = smf.ols(formula = f, \n",
    "              data = wvssub, \n",
    "              subset = (wvssub['V2']==840)).fit()"
   ]
  },
  {
   "cell_type": "code",
   "execution_count": null,
   "metadata": {},
   "outputs": [],
   "source": [
    "lm_ln = smf.ols(formula = \"ln_agewed ~ ln_realrinc\", data = dat).fit(cov_type='HC3')"
   ]
  },
  {
   "cell_type": "code",
   "execution_count": null,
   "metadata": {},
   "outputs": [],
   "source": [
    "# partial F-test\n",
    "sm.stats.anova_lm(lm1, lm3)"
   ]
  },
  {
   "cell_type": "code",
   "execution_count": null,
   "metadata": {},
   "outputs": [],
   "source": [
    "# Let's try dummy variable this time\n",
    "lm1_dummy = smf.ols(formula = 'Neighbors ~ C(Robberies) + C(Alcohol_consumption) + C(Police_deprive) + C(Racist) + C(Drug_sale)', data = wvs_new, subset= (wvs_new['Country'] == 840)).fit()\n",
    "print (lm1_dummy.summary())"
   ]
  },
  {
   "cell_type": "code",
   "execution_count": null,
   "metadata": {},
   "outputs": [],
   "source": [
    "plt.plot(sub_dat[\"age\"], lm_interaction.params[0] + lm_interaction.params[1] * 1 + lm_interaction.params[2] * sub_dat[\"age\"] + lm_interaction.params[3] * 1 * sub_dat[\"age\"], 'b', label = 'Egypt', alpha = 0.9)\n",
    "plt.plot(sub_dat[\"age\"], lm_interaction.params[0] + lm_interaction.params[1] * 0 + lm_interaction.params[2] * sub_dat[\"age\"] + lm_interaction.params[3] * 0 * sub_dat[\"age\"], 'r', label = 'America', alpha = 0.9)\n",
    "plt.title(\"Reading a newspaper, America (red) vs. Egypt (blue)\")\n",
    "plt.xlabel(\"age\")\n",
    "plt.ylabel(\"Reading newspaper\")\n",
    "plt.show()"
   ]
  },
  {
   "cell_type": "code",
   "execution_count": null,
   "metadata": {},
   "outputs": [],
   "source": [
    "plt.figure()\n",
    "plt.hist(degree_lm.resid, color = \"skyblue\", ec=\"black\")\n",
    "plt.xlabel(\"Residuals\")\n",
    "plt.ylabel(\"Density\")\n",
    "plt.show()"
   ]
  },
  {
   "cell_type": "code",
   "execution_count": null,
   "metadata": {},
   "outputs": [],
   "source": [
    "degree_glm = smf.glm(formula=formula, data=sub, family = sm.families.Binomial())\n",
    "result = degree_glm.fit()\n",
    "print(result.summary())\n",
    "\n",
    "\n",
    "degree_logit = sm.formula.logit(formula = formula, data = sub).fit()\n",
    "print (degree_logit.summary()) "
   ]
  },
  {
   "cell_type": "code",
   "execution_count": null,
   "metadata": {},
   "outputs": [],
   "source": [
    "def logit2prob (logit):\n",
    "    odds = np.exp(logit)\n",
    "    prob = odds / (1 + odds) \n",
    "    return(prob);\n",
    "\n",
    "\n",
    "intercept = degree_logit.params.Intercept\n",
    "b_joblose = degree_logit.params.joblose\n",
    "b_jobfind = degree_logit.params.jobfind\n",
    "b_satjob = degree_logit.params.satjob\n",
    "b_satfin = degree_logit.params.satfin\n",
    "b_finalter = degree_logit.params.finalter\n",
    "b_income06 = degree_logit.params.income06\n",
    "b_class_1 = degree_logit.params.class_1"
   ]
  },
  {
   "cell_type": "code",
   "execution_count": null,
   "metadata": {},
   "outputs": [],
   "source": [
    "# Person A's predicted prob model:\n",
    "\n",
    "'''\n",
    "A does not think that he/she will lose his/her job (4),\n",
    "-- A thought that finding a job was very easy (3),\n",
    "-- A is very satisfied with the current position (4) and financial status (4),\n",
    "-- A thinks that his/her financial status is improving (3),\n",
    "-- A's income falls at the top tier (25),\n",
    "-- A's social class is the upper class (4)\n",
    "'''\n",
    "\n",
    "logits_degree1 = intercept + (4 * b_joblose) + (3 * b_jobfind) + (4 * b_satjob) + (3 * b_satfin) + (3 * b_finalter) + (25 * b_income06) + (4 * b_class_1)\n",
    "logit2prob(logits_degree1)"
   ]
  },
  {
   "cell_type": "code",
   "execution_count": null,
   "metadata": {},
   "outputs": [],
   "source": [
    "abrape_tab = pd.crosstab(index = dat['abrape'], columns = 'count')\n",
    "abrape_tab['%'] = 100 * abrape_tab / abrape_tab.sum()\n",
    "abrape_tab['cum_%'] = 100 * abrape_tab['count'].cumsum()/abrape_tab['count'].sum()\n",
    "abrape_tab"
   ]
  },
  {
   "cell_type": "code",
   "execution_count": null,
   "metadata": {},
   "outputs": [],
   "source": [
    "dat.loc[dat['educ'] == 98] = np.nan\n",
    "dat.loc[dat['educ'] == 99] = np.nan\n",
    "dat = dat.dropna(subset = ['educ'])\n",
    "plt.hist(dat.educ, bins='auto', color='#0504aa', alpha=0.7, rwidth=0.85, align = 'mid')\n",
    "plt.title(\"Distribution of Education\")\n",
    "plt.show()"
   ]
  },
  {
   "cell_type": "code",
   "execution_count": null,
   "metadata": {},
   "outputs": [],
   "source": [
    "## plot out the realinc distribtuion \n",
    "dat = dat.dropna(subset = ['realinc'])\n",
    "import seaborn as sns\n",
    "sns.distplot(dat.realinc).set_title(\"Distribution of family real income\")"
   ]
  },
  {
   "cell_type": "code",
   "execution_count": null,
   "metadata": {},
   "outputs": [],
   "source": []
  }
 ],
 "metadata": {
  "kernelspec": {
   "display_name": "Python 3",
   "language": "python",
   "name": "python3"
  },
  "language_info": {
   "codemirror_mode": {
    "name": "ipython",
    "version": 3
   },
   "file_extension": ".py",
   "mimetype": "text/x-python",
   "name": "python",
   "nbconvert_exporter": "python",
   "pygments_lexer": "ipython3",
   "version": "3.7.3"
  }
 },
 "nbformat": 4,
 "nbformat_minor": 2
}
