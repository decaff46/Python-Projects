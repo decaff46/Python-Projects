{
 "cells": [
  {
   "cell_type": "code",
   "execution_count": 264,
   "metadata": {},
   "outputs": [
    {
     "name": "stdout",
     "output_type": "stream",
     "text": [
      "2020-04-10\n"
     ]
    }
   ],
   "source": [
    "from datetime import date\n",
    "print(date.today())"
   ]
  },
  {
   "cell_type": "code",
   "execution_count": 1,
   "metadata": {},
   "outputs": [
    {
     "data": {
      "text/plain": [
       "[5, 4, 3, 2, 1]"
      ]
     },
     "execution_count": 1,
     "metadata": {},
     "output_type": "execute_result"
    }
   ],
   "source": [
    "#[1, 3, 5, 4, 2]라는 리스트를 [5, 4, 3, 2, 1]로 만들어보자.\n",
    "a = [1,3,5,4,2,]\n",
    "a.sort()\n",
    "a.reverse()\n",
    "a"
   ]
  },
  {
   "cell_type": "code",
   "execution_count": 9,
   "metadata": {},
   "outputs": [
    {
     "name": "stdout",
     "output_type": "stream",
     "text": [
      "Life is too short\n",
      "Lifeistooshort\n"
     ]
    }
   ],
   "source": [
    "# ['Life', 'is', 'too', 'short'] 라는 리스트를 Life is too short라는 문자열로 만들어 출력해 보자.\n",
    "a = ['Life', 'is', 'too', 'short']\n",
    "\n",
    "b_space = ' '.join(a)\n",
    "c_no_space = ''.join(a)\n",
    "\n",
    "print(b_space +'\\n' + c_no_space)\n"
   ]
  },
  {
   "cell_type": "code",
   "execution_count": 13,
   "metadata": {},
   "outputs": [
    {
     "data": {
      "text/plain": [
       "(1, 2, 3, 4)"
      ]
     },
     "execution_count": 13,
     "metadata": {},
     "output_type": "execute_result"
    }
   ],
   "source": [
    "# (1,2,3)이라는 튜플에 4라는 값을 추가하여 (1,2,3,4)처럼 만들어 출력해 보자.\n",
    "\n",
    "a = (1,2,3)\n",
    "a = a + (4,) ## make sure add (4,)!! cant do 4, or (4)\n",
    "a"
   ]
  },
  {
   "cell_type": "code",
   "execution_count": 286,
   "metadata": {},
   "outputs": [
    {
     "name": "stdout",
     "output_type": "stream",
     "text": [
      "a # b # c # d "
     ]
    }
   ],
   "source": [
    "# tuple index is same as list [i]\n",
    "for i in range(len(a)):\n",
    "    print(a[i] , end = \" \")"
   ]
  },
  {
   "cell_type": "code",
   "execution_count": 253,
   "metadata": {},
   "outputs": [
    {
     "name": "stdout",
     "output_type": "stream",
     "text": [
      "[(1, 4), (2, 5), (3, 6)]\n",
      "[(1, 4, 7), (2, 5, 8), (3, 6, 9)]\n",
      "[('a', 'd'), ('b', 'e'), ('c', 'f')]\n"
     ]
    }
   ],
   "source": [
    "print(list(zip([1, 2, 3], [4, 5, 6])))\n",
    "\n",
    "print(list(zip([1, 2, 3], [4, 5, 6], [7, 8, 9])))\n",
    "\n",
    "print(list(zip(\"abc\", \"def\")))\n"
   ]
  },
  {
   "cell_type": "code",
   "execution_count": 20,
   "metadata": {},
   "outputs": [
    {
     "ename": "TypeError",
     "evalue": "unhashable type: 'list'",
     "output_type": "error",
     "traceback": [
      "\u001b[1;31m---------------------------------------------------------------------------\u001b[0m",
      "\u001b[1;31mTypeError\u001b[0m                                 Traceback (most recent call last)",
      "\u001b[1;32m<ipython-input-20-fd630cde2745>\u001b[0m in \u001b[0;36m<module>\u001b[1;34m\u001b[0m\n\u001b[0;32m      1\u001b[0m \u001b[0ma\u001b[0m \u001b[1;33m=\u001b[0m \u001b[1;33m{\u001b[0m\u001b[1;33m}\u001b[0m\u001b[1;33m\u001b[0m\u001b[1;33m\u001b[0m\u001b[0m\n\u001b[1;32m----> 2\u001b[1;33m \u001b[0ma\u001b[0m\u001b[1;33m[\u001b[0m\u001b[1;33m[\u001b[0m\u001b[1;36m1\u001b[0m\u001b[1;33m]\u001b[0m\u001b[1;33m]\u001b[0m \u001b[1;33m=\u001b[0m \u001b[1;34m'python'\u001b[0m\u001b[1;33m\u001b[0m\u001b[1;33m\u001b[0m\u001b[0m\n\u001b[0m",
      "\u001b[1;31mTypeError\u001b[0m: unhashable type: 'list'"
     ]
    }
   ],
   "source": [
    "a = {}\n",
    "a[[1]] = 'python'\n",
    "'''\n",
    "오류가 발생하는 이유는 딕셔너리의 키로는 변하는(mutable) 값을 사용할 수 없기 때문이다. \n",
    "위 예에서 키로 사용된 [1]은 리스트이므로 변하는 값이다. \n",
    "다른 예에서 키로 사용된 문자열, 튜플, 숫자는 변하지 않는(immutable) 값이므로 딕셔너리의 키로 사용이 가능하다.\n",
    "'''"
   ]
  },
  {
   "cell_type": "code",
   "execution_count": 266,
   "metadata": {},
   "outputs": [
    {
     "name": "stdout",
     "output_type": "stream",
     "text": [
      "80\n",
      "{'A': 90, 'C': 70}\n",
      "80\n"
     ]
    }
   ],
   "source": [
    "# 딕셔너리 a에서 'B'에 해당되는 값을 추출해 보자.\n",
    "\n",
    "a = {'A':90, 'B':80, 'C':70}\n",
    "\n",
    "#a[\"A\"]\n",
    "print(a.get('B'))\n",
    "result = a.pop('B')\n",
    "print(a)\n",
    "print(result)\n"
   ]
  },
  {
   "cell_type": "code",
   "execution_count": 267,
   "metadata": {},
   "outputs": [
    {
     "data": {
      "text/plain": [
       "0"
      ]
     },
     "execution_count": 267,
     "metadata": {},
     "output_type": "execute_result"
    }
   ],
   "source": [
    "a.items()\n",
    "list(a.keys()).index('A')"
   ]
  },
  {
   "cell_type": "code",
   "execution_count": 273,
   "metadata": {},
   "outputs": [
    {
     "name": "stdout",
     "output_type": "stream",
     "text": [
      "1\n",
      "None\n",
      "item: [('all', 1), ('food', 2), ('good', 3), ('have', 4)]\n",
      "the index of \" good \" is [2]\n",
      "the index of \" good \" is 2\n"
     ]
    }
   ],
   "source": [
    "test_dict = {'all' : 1, 'food' : 2, 'good' : 3, 'have' : 4} \n",
    "search_key = 'good'\n",
    "\n",
    "print(test_dict.get('all'))\n",
    "print(test_dict.get('falase', None))\n",
    "\n",
    "items = list(test_dict.items())\n",
    "list(enumerate(items))\n",
    "\n",
    "print('item:', items)\n",
    "result = [indx for indx, key in enumerate(items) if key[0] == search_key]\n",
    "print('the index of \"',search_key,'\" is', result)\n",
    "\n",
    "res = list(test_dict.keys()).index(search_key) \n",
    "print('the index of \"',search_key,'\" is', res)"
   ]
  },
  {
   "cell_type": "code",
   "execution_count": 48,
   "metadata": {},
   "outputs": [
    {
     "data": {
      "text/plain": [
       "[1, 2, 3, 4, 5]"
      ]
     },
     "execution_count": 48,
     "metadata": {},
     "output_type": "execute_result"
    }
   ],
   "source": [
    "# a 리스트에서 중복된 숫자들을 제거해 보자.\n",
    "a = [1, 1, 1, 2, 2, 3, 3, 3, 4, 4, 5]\n",
    "\n",
    "a = set(a)\n",
    "a # this is set type --> set() will return set() types not list()\n",
    "a = list(set(a))\n",
    "a"
   ]
  },
  {
   "cell_type": "code",
   "execution_count": 67,
   "metadata": {},
   "outputs": [
    {
     "name": "stdout",
     "output_type": "stream",
     "text": [
      "79.0\n"
     ]
    }
   ],
   "source": [
    "# for loop 사용 평균 구하기 \n",
    "A = [70, 60, 55, 75, 95, 90, 80, 80, 85, 100]\n",
    "\n",
    "temp = 0\n",
    "#count = 0\n",
    "for i in A:\n",
    "    temp += i\n",
    "    #count +=1\n",
    "\n",
    "#print(temp / count)\n",
    "print(temp/len(A))   "
   ]
  },
  {
   "cell_type": "code",
   "execution_count": 285,
   "metadata": {},
   "outputs": [
    {
     "name": "stdout",
     "output_type": "stream",
     "text": [
      "True\n",
      "40 110 134 164 90 66 180 174 200 50 "
     ]
    }
   ],
   "source": [
    "print(list(map(lambda x:x*2, A)) == [x*2 for x in A])\n",
    "\n",
    "temp = lambda x:x*2 \n",
    "for i in A:\n",
    "    print(temp(i) , end = \" \")"
   ]
  },
  {
   "cell_type": "code",
   "execution_count": 255,
   "metadata": {},
   "outputs": [
    {
     "data": {
      "text/plain": [
       "[2, 6, 10]"
      ]
     },
     "execution_count": 255,
     "metadata": {},
     "output_type": "execute_result"
    }
   ],
   "source": [
    "'''\n",
    "리스트 중에서 홀수에만 2를 곱하여 저장하는 다음과 같은 코드가 있다.\n",
    "\n",
    "result = []\n",
    "for n in numbers:\n",
    "    if n % 2 == 1:\n",
    "        result.append(n*2)\n",
    "        \n",
    "위 코드를 리스트 내포(list comprehension)를 사용하여 표현해 보자.\n",
    "\n",
    "리스트 내포로 표현하면 다음과 같다.        \n",
    "'''\n",
    "numbers = [1, 2, 3, 4, 5]\n",
    "result =[x*2 for x in numbers if x % 2 == 1]\n",
    "result"
   ]
  },
  {
   "cell_type": "code",
   "execution_count": 56,
   "metadata": {},
   "outputs": [
    {
     "name": "stdout",
     "output_type": "stream",
     "text": [
      "Odd\n",
      "Even\n",
      "Odd\n",
      "Even\n",
      "Odd\n"
     ]
    }
   ],
   "source": [
    "# 람다와 조건부 표현식을 사용해 홀 짝 맞추기 \n",
    "\n",
    "temp = lambda x: 'Odd' if x%2 != 0 else 'Even' \n",
    "\n",
    "for i in range(1, 6):\n",
    "    print(temp(i))"
   ]
  },
  {
   "cell_type": "code",
   "execution_count": 72,
   "metadata": {},
   "outputs": [
    {
     "data": {
      "text/plain": [
       "4.5"
      ]
     },
     "execution_count": 72,
     "metadata": {},
     "output_type": "execute_result"
    }
   ],
   "source": [
    "# 입력으로 들어오는 모든 수의 평균 값을 계산해 주는 함수를 작성해 보자.\n",
    "\n",
    "def avg_all(*args): # *args를 씀으로써 몇개가 들오오든지 계산 할 수 있음 \n",
    "    temp= 0 \n",
    "    \n",
    "    for i in args:\n",
    "        temp +=i\n",
    "    result = temp /len(args)\n",
    "    return(result)\n",
    "\n",
    "avg_all(1, 2)\n",
    "avg_all(1,2,3,4,5)\n",
    "avg_all(1,2,3,4,5,6,7,8)"
   ]
  },
  {
   "cell_type": "code",
   "execution_count": 76,
   "metadata": {},
   "outputs": [
    {
     "name": "stdout",
     "output_type": "stream",
     "text": [
      "첫 번째 숫자를 입력하세요:1\n",
      "두 번째 숫자를 입력하세요:1\n",
      "두수의 합은 11 (문자열) 입니다\n",
      "두수의 합은 2 (숫자) 입니다\n"
     ]
    }
   ],
   "source": [
    "# 오류 수정!\n",
    "input1 = input(\"첫 번째 숫자를 입력하세요:\")\n",
    "input2 = input(\"두 번째 숫자를 입력하세요:\")\n",
    "\n",
    "total = input1 + input2\n",
    "total2 = int(input1) + int(input2) # 입력은 항상 문자열이므로 숫자로 바꾸어 주어야 한다.\n",
    "print(\"두수의 합은 %s (문자열) 입니다\" %total)\n",
    "print(\"두수의 합은 %s (숫자) 입니다\" %total2)"
   ]
  },
  {
   "cell_type": "code",
   "execution_count": 77,
   "metadata": {},
   "outputs": [
    {
     "name": "stdout",
     "output_type": "stream",
     "text": [
      "youneedpython\n",
      "youneedpython\n",
      "you need python\n",
      "youneedpython\n"
     ]
    }
   ],
   "source": [
    "# 콤마가 있는 경우 공백이 삽입되어 더해진다.\n",
    "print(\"you\" \"need\" \"python\") # youneedpython\n",
    "print(\"you\"+\"need\"+\"python\") # youneedpython\n",
    "print(\"you\", \"need\", \"python\") # you need python\n",
    "print(\"\".join([\"you\", \"need\", \"python\"])) # youneedpython"
   ]
  },
  {
   "cell_type": "code",
   "execution_count": 88,
   "metadata": {},
   "outputs": [
    {
     "data": {
      "text/plain": [
       "__main__.fourcal"
      ]
     },
     "execution_count": 88,
     "metadata": {},
     "output_type": "execute_result"
    }
   ],
   "source": [
    "class fourcal:\n",
    "    pass\n",
    "\n",
    "a = fourcal()\n",
    "type(a)"
   ]
  },
  {
   "cell_type": "code",
   "execution_count": 94,
   "metadata": {},
   "outputs": [
    {
     "name": "stdout",
     "output_type": "stream",
     "text": [
      "4\n",
      "2\n",
      "6\n",
      "8\n",
      "2.0\n",
      "##########\n",
      "3\n",
      "1\n",
      "4\n",
      "3\n",
      "3.0\n"
     ]
    }
   ],
   "source": [
    "class fourcal:\n",
    "    def setData(self, first, second):\n",
    "        self.first = first\n",
    "        self.second = second\n",
    "    def add(self):\n",
    "        return self.first + self.second\n",
    "    def sub(self):\n",
    "        return self.first - self.second\n",
    "    def mul(self):\n",
    "        return self.first * self.second\n",
    "    def div(self):\n",
    "        return self.first / self.second\n",
    "    \n",
    "        \n",
    "a = fourcal()\n",
    "a.setData(4,2)\n",
    "print(a.first)\n",
    "print(a.second)\n",
    "print(a.add())\n",
    "print(a.mul())\n",
    "print(a.div())\n",
    "print(\"#\"*10)\n",
    "b = fourcal()\n",
    "b.setData(3,1)\n",
    "print(b.first)\n",
    "print(b.second)\n",
    "print(b.add())\n",
    "print(b.mul())\n",
    "print(b.div())"
   ]
  },
  {
   "cell_type": "code",
   "execution_count": 100,
   "metadata": {},
   "outputs": [
    {
     "data": {
      "text/plain": [
       "6"
      ]
     },
     "execution_count": 100,
     "metadata": {},
     "output_type": "execute_result"
    }
   ],
   "source": [
    "class fourcal:\n",
    "    def __init__(self, first, second):\n",
    "        self.first = first\n",
    "        self.second = second\n",
    "    \n",
    "    def setData(self, first, second):\n",
    "        self.first = first\n",
    "        self.second = second\n",
    "    def add(self):\n",
    "        return self.first + self.second\n",
    "    def sub(self):\n",
    "        return self.first - self.second\n",
    "    def mul(self):\n",
    "        return self.first * self.second\n",
    "    def div(self):\n",
    "        return self.first / self.second\n",
    "\n",
    "#a= fourcal()\n",
    "#이렇게 처음부터 숫자를 넣어줘야만 한다! __init__\n",
    "a= fourcal(4,2) \n",
    "a.first\n",
    "a.add()"
   ]
  },
  {
   "cell_type": "code",
   "execution_count": 101,
   "metadata": {},
   "outputs": [
    {
     "data": {
      "text/plain": [
       "6"
      ]
     },
     "execution_count": 101,
     "metadata": {},
     "output_type": "execute_result"
    }
   ],
   "source": [
    "class Morecal(fourcal):\n",
    "    pass\n",
    "\n",
    "a=Morecal(4,2)\n",
    "a.add()"
   ]
  },
  {
   "cell_type": "code",
   "execution_count": 102,
   "metadata": {},
   "outputs": [
    {
     "data": {
      "text/plain": [
       "16"
      ]
     },
     "execution_count": 102,
     "metadata": {},
     "output_type": "execute_result"
    }
   ],
   "source": [
    "class Morecal(fourcal):\n",
    "    def pow(self):\n",
    "        return self.first ** self.second\n",
    "    \n",
    "a=Morecal(2,4)\n",
    "a.pow()"
   ]
  },
  {
   "cell_type": "code",
   "execution_count": 104,
   "metadata": {},
   "outputs": [
    {
     "data": {
      "text/plain": [
       "0"
      ]
     },
     "execution_count": 104,
     "metadata": {},
     "output_type": "execute_result"
    }
   ],
   "source": [
    "class safecal(fourcal):\n",
    "    def div(self):\n",
    "        if self.second ==0:\n",
    "            return 0\n",
    "        else:\n",
    "            return self.first/self.second\n",
    "\n",
    "a=Morecal(4,0)\n",
    "#a.div() ## 앞전의 div에서는 0 으로 나눠주는걸 잡아 주지 않아서 division by zero 오류가 뜸\n",
    "a=safecal(4,0)\n",
    "a.div()"
   ]
  },
  {
   "cell_type": "code",
   "execution_count": 107,
   "metadata": {},
   "outputs": [
    {
     "name": "stdout",
     "output_type": "stream",
     "text": [
      "-1\n"
     ]
    }
   ],
   "source": [
    "#위 클래스를 상속하는 UpgradeCalculator를 만들고 값을 뺄 수 있는 minus 메서드를 추가해 보자.\n",
    "class Calculator:\n",
    "    def __init__(self):\n",
    "        self.result = 0\n",
    "\n",
    "    def add(self, num):\n",
    "        self.result += num\n",
    "        return self.result\n",
    "    \n",
    "\n",
    "class UpgradeCalculator(Calculator):\n",
    "    def sub(self, val):\n",
    "        \n",
    "        self.result -= val\n",
    "        return self.result\n",
    " \n",
    "cal3 = UpgradeCalculator()\n",
    "print(cal3.sub(1))"
   ]
  },
  {
   "cell_type": "code",
   "execution_count": 110,
   "metadata": {},
   "outputs": [
    {
     "data": {
      "text/plain": [
       "[1, 3, 8]"
      ]
     },
     "execution_count": 110,
     "metadata": {},
     "output_type": "execute_result"
    }
   ],
   "source": [
    "#filter와 lambda를 사용하여 리스트 [1, -2, 3, -5, 8, -3]에서 음수를 모두 제거해 보자.\n",
    "list(filter(lambda x:x>0, [1, -2, 3, -5, 8, -3]))"
   ]
  },
  {
   "cell_type": "code",
   "execution_count": 117,
   "metadata": {},
   "outputs": [
    {
     "data": {
      "text/plain": [
       "[1, 3, 8]"
      ]
     },
     "execution_count": 117,
     "metadata": {},
     "output_type": "execute_result"
    }
   ],
   "source": [
    "nums = [1, -2, 3, -5, 8, -3]\n",
    "no_neg= [x for x in nums if x >0]\n",
    "no_neg"
   ]
  },
  {
   "cell_type": "code",
   "execution_count": 118,
   "metadata": {},
   "outputs": [
    {
     "data": {
      "text/plain": [
       "[3, 6, 9, 12]"
      ]
     },
     "execution_count": 118,
     "metadata": {},
     "output_type": "execute_result"
    }
   ],
   "source": [
    "# map과 lambda를 사용하여 [1, 2, 3, 4] 라는 리스트의 각 요솟값에 3이 곱해진 리스트 [3, 6, 9, 12]를 만들어 보자.\n",
    "list(map(lambda x:x*3,[1, 2, 3, 4]))"
   ]
  },
  {
   "cell_type": "code",
   "execution_count": 119,
   "metadata": {},
   "outputs": [
    {
     "data": {
      "text/plain": [
       "[3, 6, 9, 12]"
      ]
     },
     "execution_count": 119,
     "metadata": {},
     "output_type": "execute_result"
    }
   ],
   "source": [
    "nums =[1, 2, 3, 4]\n",
    "[x*3 for x in nums]"
   ]
  },
  {
   "cell_type": "code",
   "execution_count": 280,
   "metadata": {},
   "outputs": [
    {
     "name": "stdout",
     "output_type": "stream",
     "text": [
      "A: a#b#c#d\n",
      "B: ['a', 'b', 'c', 'd']\n",
      "C: a b c d\n"
     ]
    }
   ],
   "source": [
    "s = \"a:b:c:d\"\n",
    "a= s.replace(\":\",\"#\")\n",
    "print(\"A:\", a)\n",
    "\n",
    "b= s.split(':')\n",
    "print(\"B:\", b)\n",
    "\n",
    "c =\" \".join(b)\n",
    "print(\"C:\", c)"
   ]
  },
  {
   "cell_type": "code",
   "execution_count": 259,
   "metadata": {},
   "outputs": [
    {
     "name": "stdout",
     "output_type": "stream",
     "text": [
      "None\n",
      "10\n",
      "dict_keys(['A', 'B'])\n",
      "dict_values([90, 80])\n"
     ]
    }
   ],
   "source": [
    "a = {'A':90, 'B':80}\n",
    "a.get(\"A\") == a[\"A\"]\n",
    "\n",
    "print(a.get(\"C\")) # return nothing since there is no c\n",
    "#a['C'] # return error\n",
    "print(a.get('C', 10)) # return 10 \n",
    "\n",
    "print(a.keys())\n",
    "print(a.values())"
   ]
  },
  {
   "cell_type": "code",
   "execution_count": 135,
   "metadata": {},
   "outputs": [
    {
     "data": {
      "text/plain": [
       "[1, 2, 3, 4, 5, 4, 5]"
      ]
     },
     "execution_count": 135,
     "metadata": {},
     "output_type": "execute_result"
    }
   ],
   "source": [
    "# list 합치기 [1,2,3,4,5]\n",
    "a= [1,2,3] \n",
    "a= a+[4,5] # 이렇게 하면 메모리 더 차지 \n",
    "a\n",
    "\n",
    "a.extend([4,5]) \n",
    "a"
   ]
  },
  {
   "cell_type": "code",
   "execution_count": 281,
   "metadata": {},
   "outputs": [
    {
     "data": {
      "text/plain": [
       "481"
      ]
     },
     "execution_count": 281,
     "metadata": {},
     "output_type": "execute_result"
    }
   ],
   "source": [
    "# 50 이상만 더하기 \n",
    "A = [20, 55, 67, 82, 45, 33, 90, 87, 100, 25]\n",
    "\n",
    "temp = list(filter(lambda x:x > 50, A))\n",
    "temp = [x for x in A if x > 50]\n",
    "\n",
    "result = 0\n",
    "for x in temp:\n",
    "    result += x\n",
    "result "
   ]
  },
  {
   "cell_type": "code",
   "execution_count": 283,
   "metadata": {},
   "outputs": [
    {
     "name": "stdout",
     "output_type": "stream",
     "text": [
      "True\n",
      "True\n"
     ]
    }
   ],
   "source": [
    "print([x for x in A if x >50] == list(filter(lambda x: x >50 , A)))\n",
    "\n",
    "print(list(map(lambda x: x*-1, A)) == [-x for x in A])"
   ]
  },
  {
   "cell_type": "code",
   "execution_count": 284,
   "metadata": {},
   "outputs": [
    {
     "name": "stdout",
     "output_type": "stream",
     "text": [
      "0 1 1 2 3 5 8 13 21 34 "
     ]
    }
   ],
   "source": [
    "#피보나치 함수\n",
    "\n",
    "def fib(n):\n",
    "    if n ==0: return 0\n",
    "    if n ==1: return 1\n",
    "    return fib(n-2) + fib(n-1)\n",
    "\n",
    "\n",
    "for i in range(10):\n",
    "    print(fib(i), end =\" \")"
   ]
  },
  {
   "cell_type": "code",
   "execution_count": 153,
   "metadata": {},
   "outputs": [
    {
     "name": "stdout",
     "output_type": "stream",
     "text": [
      "Enter number (seperate numbers by ,) 65,45,2,3,45,8\n",
      "168\n"
     ]
    }
   ],
   "source": [
    "#숫자 총합 구하기\n",
    "\n",
    "user_input= input(\"Enter number (seperate numbers by ,)\") # this will return str\n",
    "numb = user_input.split(',')\n",
    "total= 0\n",
    "for i in numb:\n",
    "    total += int(i)\n",
    "print(total)"
   ]
  },
  {
   "cell_type": "code",
   "execution_count": 154,
   "metadata": {},
   "outputs": [
    {
     "name": "stdout",
     "output_type": "stream",
     "text": [
      "구구단을 출력할 숫자를 입력하세요(2~9):9\n",
      "9,18,27,36,45,54,63,72,81,"
     ]
    }
   ],
   "source": [
    "# 한줄 구구단\n",
    "user_input = input(\"구구단을 출력할 숫자를 입력하세요(2~9):\")\n",
    "mul = int(user_input)\n",
    "for i in range(1,10):\n",
    "    print(mul*i, end=',')"
   ]
  },
  {
   "cell_type": "code",
   "execution_count": 190,
   "metadata": {},
   "outputs": [
    {
     "name": "stdout",
     "output_type": "stream",
     "text": [
      "(1, 2, 34, 3, 4)\n",
      "(1, 2, 34, 3, 4, 5)\n",
      "[1, 2, 34, 3, 4]\n",
      "[1, 2, 34, 3, 4, 5]\n",
      "[1, 2, 34, 3, 4]\n",
      "{'a': 1, 'b': 2, 'c': 3, 'd': 4}\n",
      "{'a': 1, 'b': 2, 'c': 3}\n",
      "{'a': 1, 'b': 10, 'c': 3}\n"
     ]
    }
   ],
   "source": [
    "a= (1,2,34)\n",
    "a= a+(3,4,) # tuple must end with ,\n",
    "print(a)\n",
    "a= a+(5,)\n",
    "print(a)\n",
    "del a\n",
    "#print(a) # tuple should be deleted as whole!\n",
    "\n",
    "\n",
    "b= [1,2,34]\n",
    "b= b+[3,4] # list dont require , \n",
    "print(b)\n",
    "b= b+[5]\n",
    "print(b)\n",
    "del b[5]\n",
    "print(b)\n",
    "\n",
    "c={'a':1,'b':2,'c':3}\n",
    "c['d'] =4\n",
    "print(c)\n",
    "del c['d']\n",
    "print(c)\n",
    "c['b'] = 10\n",
    "print(c)"
   ]
  },
  {
   "cell_type": "code",
   "execution_count": 193,
   "metadata": {},
   "outputs": [
    {
     "name": "stdout",
     "output_type": "stream",
     "text": [
      "[4, 5, 4, 6, 7, 9, 3]\n",
      "[8, 10, 8, 12, 14, 18, 6]\n",
      "[8, 10, 8, 12, 14, 18, 6]\n",
      "{0: 4, 1: 5, 2: 4, 3: 6, 4: 7, 5: 9, 6: 3}\n",
      "7\n",
      "dict_keys([0, 1, 2, 3, 4, 5, 6])\n",
      "dict_items([(0, 4), (1, 5), (2, 4), (3, 6), (4, 7), (5, 9), (6, 3)])\n",
      "dict_values([4, 5, 4, 6, 7, 9, 3])\n"
     ]
    }
   ],
   "source": [
    "# str to num ; num*2 ; dictionary type\n",
    "data= \"4546793\"\n",
    "num= list(map(int, data))\n",
    "num2= [x*2 for x in num]\n",
    "num3= list(map(lambda x:x*2, num))\n",
    "dic= {i : num for i, num in enumerate(num)}\n",
    "\n",
    "print(num)\n",
    "print(num2)\n",
    "print(num3)\n",
    "print(dic)\n",
    "print(dic.get(4))\n",
    "print(dic.keys())\n",
    "print(dic.items())\n",
    "print(dic.values())"
   ]
  },
  {
   "cell_type": "code",
   "execution_count": 207,
   "metadata": {},
   "outputs": [
    {
     "name": "stdout",
     "output_type": "stream",
     "text": [
      "[1, 3, 5, 6, 8, 4, 1, 3]\n",
      "1-3-5..6*8*4..1-3\n"
     ]
    }
   ],
   "source": [
    "# 연속 홀수 - ; 연속짝수 * 표시\n",
    "data= \"13568413\" \n",
    "num= list(map(int, data))\n",
    "print(num)\n",
    "result = []\n",
    "for i, n in enumerate(num):\n",
    "    result.append(str(n))\n",
    "    if i < len(num)-1:                       #다음 수가 있다면 \n",
    "        is_odd = n%2 ==1                     #현재 수가 홀수\n",
    "        is_nxt_odd = num[i+1]%2==1           #다음 수가 홀수\n",
    "        if is_odd and is_nxt_odd:            #연속 홀수\n",
    "            result.append('-')\n",
    "        elif not is_odd and not is_nxt_odd:  #연속짝수\n",
    "            result.append('*')\n",
    "        else:                                #암것도 아닌경우\n",
    "            result.append('..')\n",
    "            \n",
    "print(''.join(result))\n",
    "        "
   ]
  },
  {
   "cell_type": "code",
   "execution_count": 212,
   "metadata": {},
   "outputs": [
    {
     "name": "stdout",
     "output_type": "stream",
     "text": [
      "a3b2c6a1\n"
     ]
    }
   ],
   "source": [
    "# \"aaabbcccccca\" --> 'a3b2c6a1'\n",
    "def compress_string(s):\n",
    "    _c=''\n",
    "    cnt=0\n",
    "    result=''\n",
    "    for c in s:\n",
    "        if c !=_c:\n",
    "            _c = c\n",
    "            if cnt:\n",
    "                result += str(cnt)\n",
    "            result += c\n",
    "            cnt = 1\n",
    "        else:\n",
    "            cnt += 1\n",
    "            \n",
    "    if cnt:                  #마지막 알파벳\n",
    "        result += str(cnt)\n",
    "    \n",
    "    return result\n",
    "\n",
    "print(compress_string(\"aaabbcccccca\")) "
   ]
  },
  {
   "cell_type": "code",
   "execution_count": 213,
   "metadata": {},
   "outputs": [
    {
     "name": "stdout",
     "output_type": "stream",
     "text": [
      "True\n",
      "False\n",
      "False\n",
      "True\n",
      "False\n"
     ]
    }
   ],
   "source": [
    "# 0~9의 모든 수를 중복 없이 썼는지 체크\n",
    "\n",
    "def checkDuplicates(s):\n",
    "    result = []\n",
    "    for num in s:\n",
    "        if num not in result:\n",
    "            result.append(num)\n",
    "        else:\n",
    "            return False\n",
    "    return len(result) == 10\n",
    "\n",
    "print(checkDuplicates(\"0123456789\"))      # True 리턴\n",
    "print(checkDuplicates(\"01234\"))           # False 리턴\n",
    "print(checkDuplicates(\"01234567890\"))     # False 리턴\n",
    "print(checkDuplicates(\"6789012345\"))      # True 리턴\n",
    "print(checkDuplicates(\"012322456789\"))    # False 리턴    "
   ]
  },
  {
   "cell_type": "code",
   "execution_count": 214,
   "metadata": {},
   "outputs": [
    {
     "name": "stdout",
     "output_type": "stream",
     "text": [
      "HE SLEEPS EARLY \n"
     ]
    }
   ],
   "source": [
    "#모스코드:모스 부호 문자열을 먼저 단어(공백 문자 2개)로 구분한다. \n",
    "#그 후 단어(공백 문자 1개)를 문자로 구분하여 해당 모스 부호 값을 딕셔너리에서 찾아서 그 결괏값을 구한\n",
    "dic = {\n",
    "    '.-':'A','-...':'B','-.-.':'C','-..':'D','.':'E','..-.':'F',\n",
    "    '--.':'G','....':'H','..':'I','.---':'J','-.-':'K','.-..':'L',\n",
    "    '--':'M','-.':'N','---':'O','.--.':'P','--.-':'Q','.-.':'R',\n",
    "    '...':'S','-':'T','..-':'U','...-':'V','.--':'W','-..-':'X',\n",
    "    '-.--':'Y','--..':'Z'\n",
    "}\n",
    "\n",
    "\n",
    "def morse(src):\n",
    "    result = []\n",
    "    for word in src.split(\"  \"): #['.... .', '... .-.. . . .--. ...', '. .- .-. .-.. -.--']\n",
    "        for char in word.split(\" \"): #['....', '.']\n",
    "            result.append(dic[char]) #dic['....'] = H\n",
    "        result.append(\" \")\n",
    "    return \"\".join(result)\n",
    "\n",
    "print(morse('.... .  ... .-.. . . .--. ...  . .- .-. .-.. -.--'))"
   ]
  },
  {
   "cell_type": "code",
   "execution_count": 233,
   "metadata": {},
   "outputs": [
    {
     "name": "stdout",
     "output_type": "stream",
     "text": [
      "First loop: ['.... .', '... .-.. . . .--. ...', '. .- .-. .-.. -.--']\n",
      "Second loop: [['....', '.'], ['...', '.-..', '.', '.', '.--.', '...'], ['.', '.-', '.-.', '.-..', '-.--']]\n"
     ]
    }
   ],
   "source": [
    "temp = '.... .  ... .-.. . . .--. ...  . .- .-. .-.. -.--'\n",
    "\n",
    "a =temp.split(\"  \")\n",
    "b = list(map(lambda x:x.split(\" \"), a))\n",
    "print(\"First loop:\", a)\n",
    "print(\"Second loop:\" ,b)"
   ]
  },
  {
   "cell_type": "code",
   "execution_count": 240,
   "metadata": {},
   "outputs": [
    {
     "data": {
      "text/plain": [
       "{0: 'body', 1: 'foo', 2: 'bar'}"
      ]
     },
     "execution_count": 240,
     "metadata": {},
     "output_type": "execute_result"
    }
   ],
   "source": [
    "[key  for i, key in enumerate(['body', 'foo', 'bar'])]\n",
    "{i:key for i, key in enumerate(['body', 'foo', 'bar'])}\n"
   ]
  }
 ],
 "metadata": {
  "kernelspec": {
   "display_name": "Python 3",
   "language": "python",
   "name": "python3"
  },
  "language_info": {
   "codemirror_mode": {
    "name": "ipython",
    "version": 3
   },
   "file_extension": ".py",
   "mimetype": "text/x-python",
   "name": "python",
   "nbconvert_exporter": "python",
   "pygments_lexer": "ipython3",
   "version": "3.7.3"
  }
 },
 "nbformat": 4,
 "nbformat_minor": 2
}
