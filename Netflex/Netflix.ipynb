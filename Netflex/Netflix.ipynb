{
 "cells": [
  {
   "cell_type": "code",
   "execution_count": 1,
   "metadata": {},
   "outputs": [
    {
     "name": "stdout",
     "output_type": "stream",
     "text": [
      "2020-03-30\n"
     ]
    }
   ],
   "source": [
    "from datetime import date\n",
    "\n",
    "print(date.today())"
   ]
  },
  {
   "cell_type": "code",
   "execution_count": 2,
   "metadata": {},
   "outputs": [
    {
     "name": "stdout",
     "output_type": "stream",
     "text": [
      "['netflix-shows.zip']\n"
     ]
    }
   ],
   "source": [
    "import pandas as pd\n",
    "import matplotlib.pyplot as plt\n",
    "import datetime \n",
    "import os \n",
    "import seaborn as sns\n",
    "import warnings\n",
    "warnings.filterwarnings('ignore')\n",
    "print(os.listdir(\"data/\"))"
   ]
  },
  {
   "cell_type": "code",
   "execution_count": 3,
   "metadata": {},
   "outputs": [
    {
     "data": {
      "text/html": [
       "<div>\n",
       "<style scoped>\n",
       "    .dataframe tbody tr th:only-of-type {\n",
       "        vertical-align: middle;\n",
       "    }\n",
       "\n",
       "    .dataframe tbody tr th {\n",
       "        vertical-align: top;\n",
       "    }\n",
       "\n",
       "    .dataframe thead th {\n",
       "        text-align: right;\n",
       "    }\n",
       "</style>\n",
       "<table border=\"1\" class=\"dataframe\">\n",
       "  <thead>\n",
       "    <tr style=\"text-align: right;\">\n",
       "      <th></th>\n",
       "      <th>show_id</th>\n",
       "      <th>type</th>\n",
       "      <th>title</th>\n",
       "      <th>director</th>\n",
       "      <th>cast</th>\n",
       "      <th>country</th>\n",
       "      <th>date_added</th>\n",
       "      <th>release_year</th>\n",
       "      <th>rating</th>\n",
       "      <th>duration</th>\n",
       "      <th>listed_in</th>\n",
       "      <th>description</th>\n",
       "    </tr>\n",
       "  </thead>\n",
       "  <tbody>\n",
       "    <tr>\n",
       "      <th>0</th>\n",
       "      <td>81145628</td>\n",
       "      <td>Movie</td>\n",
       "      <td>Norm of the North: King Sized Adventure</td>\n",
       "      <td>Richard Finn, Tim Maltby</td>\n",
       "      <td>Alan Marriott, Andrew Toth, Brian Dobson, Cole...</td>\n",
       "      <td>United States, India, South Korea, China</td>\n",
       "      <td>September 9, 2019</td>\n",
       "      <td>2019</td>\n",
       "      <td>TV-PG</td>\n",
       "      <td>90 min</td>\n",
       "      <td>Children &amp; Family Movies, Comedies</td>\n",
       "      <td>Before planning an awesome wedding for his gra...</td>\n",
       "    </tr>\n",
       "    <tr>\n",
       "      <th>1</th>\n",
       "      <td>80117401</td>\n",
       "      <td>Movie</td>\n",
       "      <td>Jandino: Whatever it Takes</td>\n",
       "      <td>NaN</td>\n",
       "      <td>Jandino Asporaat</td>\n",
       "      <td>United Kingdom</td>\n",
       "      <td>September 9, 2016</td>\n",
       "      <td>2016</td>\n",
       "      <td>TV-MA</td>\n",
       "      <td>94 min</td>\n",
       "      <td>Stand-Up Comedy</td>\n",
       "      <td>Jandino Asporaat riffs on the challenges of ra...</td>\n",
       "    </tr>\n",
       "    <tr>\n",
       "      <th>2</th>\n",
       "      <td>70234439</td>\n",
       "      <td>TV Show</td>\n",
       "      <td>Transformers Prime</td>\n",
       "      <td>NaN</td>\n",
       "      <td>Peter Cullen, Sumalee Montano, Frank Welker, J...</td>\n",
       "      <td>United States</td>\n",
       "      <td>September 8, 2018</td>\n",
       "      <td>2013</td>\n",
       "      <td>TV-Y7-FV</td>\n",
       "      <td>1 Season</td>\n",
       "      <td>Kids' TV</td>\n",
       "      <td>With the help of three human allies, the Autob...</td>\n",
       "    </tr>\n",
       "  </tbody>\n",
       "</table>\n",
       "</div>"
      ],
      "text/plain": [
       "    show_id     type                                    title  \\\n",
       "0  81145628    Movie  Norm of the North: King Sized Adventure   \n",
       "1  80117401    Movie               Jandino: Whatever it Takes   \n",
       "2  70234439  TV Show                       Transformers Prime   \n",
       "\n",
       "                   director  \\\n",
       "0  Richard Finn, Tim Maltby   \n",
       "1                       NaN   \n",
       "2                       NaN   \n",
       "\n",
       "                                                cast  \\\n",
       "0  Alan Marriott, Andrew Toth, Brian Dobson, Cole...   \n",
       "1                                   Jandino Asporaat   \n",
       "2  Peter Cullen, Sumalee Montano, Frank Welker, J...   \n",
       "\n",
       "                                    country         date_added  release_year  \\\n",
       "0  United States, India, South Korea, China  September 9, 2019          2019   \n",
       "1                            United Kingdom  September 9, 2016          2016   \n",
       "2                             United States  September 8, 2018          2013   \n",
       "\n",
       "     rating  duration                           listed_in  \\\n",
       "0     TV-PG    90 min  Children & Family Movies, Comedies   \n",
       "1     TV-MA    94 min                     Stand-Up Comedy   \n",
       "2  TV-Y7-FV  1 Season                            Kids' TV   \n",
       "\n",
       "                                         description  \n",
       "0  Before planning an awesome wedding for his gra...  \n",
       "1  Jandino Asporaat riffs on the challenges of ra...  \n",
       "2  With the help of three human allies, the Autob...  "
      ]
     },
     "execution_count": 3,
     "metadata": {},
     "output_type": "execute_result"
    }
   ],
   "source": [
    "dat = pd.read_csv('data/netflix-shows.zip')\n",
    "dat.head(3)"
   ]
  },
  {
   "cell_type": "code",
   "execution_count": 4,
   "metadata": {},
   "outputs": [
    {
     "name": "stdout",
     "output_type": "stream",
     "text": [
      "There are 6234 numbers of rows and 12 numbers of features\n"
     ]
    }
   ],
   "source": [
    "print(f\"There are {dat.shape[0]} numbers of rows and {dat.shape[1]} numbers of features\")"
   ]
  },
  {
   "cell_type": "code",
   "execution_count": 5,
   "metadata": {},
   "outputs": [
    {
     "data": {
      "text/plain": [
       "show_id            0\n",
       "type               0\n",
       "title              0\n",
       "director        1969\n",
       "cast             570\n",
       "country          476\n",
       "date_added        11\n",
       "release_year       0\n",
       "rating            10\n",
       "duration           0\n",
       "listed_in          0\n",
       "description        0\n",
       "dtype: int64"
      ]
     },
     "execution_count": 5,
     "metadata": {},
     "output_type": "execute_result"
    }
   ],
   "source": [
    "dat.isna().sum()"
   ]
  },
  {
   "cell_type": "code",
   "execution_count": 6,
   "metadata": {},
   "outputs": [],
   "source": [
    "# !pip install missingno"
   ]
  },
  {
   "cell_type": "code",
   "execution_count": 7,
   "metadata": {},
   "outputs": [
    {
     "data": {
      "text/plain": [
       "<Figure size 576x360 with 0 Axes>"
      ]
     },
     "metadata": {},
     "output_type": "display_data"
    },
    {
     "data": {
      "image/png": "[encoded data removed]",
      "text/plain": [
       "<Figure size 1800x720 with 2 Axes>"
      ]
     },
     "metadata": {
      "needs_background": "light"
     },
     "output_type": "display_data"
    }
   ],
   "source": [
    "# there is a package that visualize the missing values, called missingno\n",
    "import missingno as miss\n",
    "fig = plt.figure(figsize= (8,5))\n",
    "miss.matrix(dat)\n",
    "plt.show()"
   ]
  },
  {
   "cell_type": "code",
   "execution_count": 8,
   "metadata": {},
   "outputs": [
    {
     "name": "stdout",
     "output_type": "stream",
     "text": [
      "The missing rate of director is : 31.584857234520374 %\n",
      "The missing rate of cast is : 9.143407122232915 %\n",
      "The missing rate of country is : 7.635547000320821 %\n",
      "The missing rate of date_added is : 0.17645171639396856 %\n",
      "The missing rate of rating is : 0.16041065126724416 %\n"
     ]
    }
   ],
   "source": [
    "for i in dat.columns:\n",
    "    miss_rate = (dat[i].isna().sum() / dat.shape[0]) * 100\n",
    "    if miss_rate > 0: \n",
    "        print(f\"The missing rate of {i} is : {miss_rate} %\")"
   ]
  },
  {
   "cell_type": "code",
   "execution_count": 9,
   "metadata": {},
   "outputs": [
    {
     "data": {
      "text/html": [
       "<div>\n",
       "<style scoped>\n",
       "    .dataframe tbody tr th:only-of-type {\n",
       "        vertical-align: middle;\n",
       "    }\n",
       "\n",
       "    .dataframe tbody tr th {\n",
       "        vertical-align: top;\n",
       "    }\n",
       "\n",
       "    .dataframe thead th {\n",
       "        text-align: right;\n",
       "    }\n",
       "</style>\n",
       "<table border=\"1\" class=\"dataframe\">\n",
       "  <thead>\n",
       "    <tr style=\"text-align: right;\">\n",
       "      <th></th>\n",
       "      <th>show_id</th>\n",
       "      <th>type</th>\n",
       "      <th>title</th>\n",
       "      <th>director</th>\n",
       "      <th>cast</th>\n",
       "      <th>country</th>\n",
       "      <th>date_added</th>\n",
       "      <th>release_year</th>\n",
       "      <th>rating</th>\n",
       "      <th>duration</th>\n",
       "      <th>listed_in</th>\n",
       "      <th>description</th>\n",
       "    </tr>\n",
       "  </thead>\n",
       "  <tbody>\n",
       "    <tr>\n",
       "      <th>count</th>\n",
       "      <td>6234.0</td>\n",
       "      <td>6234</td>\n",
       "      <td>6234</td>\n",
       "      <td>4265</td>\n",
       "      <td>5664</td>\n",
       "      <td>5758</td>\n",
       "      <td>6223</td>\n",
       "      <td>6234.0</td>\n",
       "      <td>6224</td>\n",
       "      <td>6234</td>\n",
       "      <td>6234</td>\n",
       "      <td>6234</td>\n",
       "    </tr>\n",
       "    <tr>\n",
       "      <th>unique</th>\n",
       "      <td>NaN</td>\n",
       "      <td>2</td>\n",
       "      <td>6172</td>\n",
       "      <td>3301</td>\n",
       "      <td>5469</td>\n",
       "      <td>554</td>\n",
       "      <td>1524</td>\n",
       "      <td>NaN</td>\n",
       "      <td>14</td>\n",
       "      <td>201</td>\n",
       "      <td>461</td>\n",
       "      <td>6226</td>\n",
       "    </tr>\n",
       "    <tr>\n",
       "      <th>top</th>\n",
       "      <td>NaN</td>\n",
       "      <td>Movie</td>\n",
       "      <td>Love</td>\n",
       "      <td>Raúl Campos, Jan Suter</td>\n",
       "      <td>David Attenborough</td>\n",
       "      <td>United States</td>\n",
       "      <td>January 1, 2020</td>\n",
       "      <td>NaN</td>\n",
       "      <td>TV-MA</td>\n",
       "      <td>1 Season</td>\n",
       "      <td>Documentaries</td>\n",
       "      <td>A surly septuagenarian gets another chance at ...</td>\n",
       "    </tr>\n",
       "    <tr>\n",
       "      <th>freq</th>\n",
       "      <td>NaN</td>\n",
       "      <td>4265</td>\n",
       "      <td>3</td>\n",
       "      <td>18</td>\n",
       "      <td>18</td>\n",
       "      <td>2032</td>\n",
       "      <td>122</td>\n",
       "      <td>NaN</td>\n",
       "      <td>2027</td>\n",
       "      <td>1321</td>\n",
       "      <td>299</td>\n",
       "      <td>3</td>\n",
       "    </tr>\n",
       "  </tbody>\n",
       "</table>\n",
       "</div>"
      ],
      "text/plain": [
       "        show_id   type title                director                cast  \\\n",
       "count    6234.0   6234  6234                    4265                5664   \n",
       "unique      NaN      2  6172                    3301                5469   \n",
       "top         NaN  Movie  Love  Raúl Campos, Jan Suter  David Attenborough   \n",
       "freq        NaN   4265     3                      18                  18   \n",
       "\n",
       "              country       date_added  release_year rating  duration  \\\n",
       "count            5758             6223        6234.0   6224      6234   \n",
       "unique            554             1524           NaN     14       201   \n",
       "top     United States  January 1, 2020           NaN  TV-MA  1 Season   \n",
       "freq             2032              122           NaN   2027      1321   \n",
       "\n",
       "            listed_in                                        description  \n",
       "count            6234                                               6234  \n",
       "unique            461                                               6226  \n",
       "top     Documentaries  A surly septuagenarian gets another chance at ...  \n",
       "freq              299                                                  3  "
      ]
     },
     "execution_count": 9,
     "metadata": {},
     "output_type": "execute_result"
    }
   ],
   "source": [
    "dat.describe(include='all').head(4)"
   ]
  },
  {
   "cell_type": "code",
   "execution_count": 10,
   "metadata": {},
   "outputs": [
    {
     "name": "stdout",
     "output_type": "stream",
     "text": [
      "<class 'pandas.core.frame.DataFrame'>\n",
      "RangeIndex: 6234 entries, 0 to 6233\n",
      "Data columns (total 12 columns):\n",
      "show_id         6234 non-null int64\n",
      "type            6234 non-null object\n",
      "title           6234 non-null object\n",
      "director        4265 non-null object\n",
      "cast            5664 non-null object\n",
      "country         5758 non-null object\n",
      "date_added      6223 non-null object\n",
      "release_year    6234 non-null int64\n",
      "rating          6224 non-null object\n",
      "duration        6234 non-null object\n",
      "listed_in       6234 non-null object\n",
      "description     6234 non-null object\n",
      "dtypes: int64(2), object(10)\n",
      "memory usage: 584.5+ KB\n"
     ]
    }
   ],
   "source": [
    "dat.info()"
   ]
  },
  {
   "cell_type": "code",
   "execution_count": 11,
   "metadata": {},
   "outputs": [
    {
     "name": "stdout",
     "output_type": "stream",
     "text": [
      "<class 'pandas.core.frame.DataFrame'>\n",
      "RangeIndex: 6234 entries, 0 to 6233\n",
      "Data columns (total 14 columns):\n",
      "show_id         6234 non-null int64\n",
      "type            6234 non-null object\n",
      "title           6234 non-null object\n",
      "director        4265 non-null object\n",
      "cast            5664 non-null object\n",
      "country         5758 non-null object\n",
      "date_added      6223 non-null datetime64[ns]\n",
      "release_year    6234 non-null int64\n",
      "rating          6224 non-null object\n",
      "duration        6234 non-null object\n",
      "listed_in       6234 non-null object\n",
      "description     6234 non-null object\n",
      "year_added      6223 non-null float64\n",
      "month_added     6223 non-null float64\n",
      "dtypes: datetime64[ns](1), float64(2), int64(2), object(9)\n",
      "memory usage: 681.9+ KB\n"
     ]
    }
   ],
   "source": [
    "# date_added should be in the date type! let's fix that first \n",
    "import datetime as dt\n",
    "dat['date_added'] = pd.to_datetime(dat['date_added'])\n",
    "dat['year_added'] = dat['date_added'].dt.year\n",
    "dat['month_added'] = dat['date_added'].dt.month\n",
    "\n",
    "dat.info()"
   ]
  },
  {
   "cell_type": "code",
   "execution_count": 12,
   "metadata": {
    "scrolled": true
   },
   "outputs": [
    {
     "data": {
      "text/html": [
       "<div>\n",
       "<style scoped>\n",
       "    .dataframe tbody tr th:only-of-type {\n",
       "        vertical-align: middle;\n",
       "    }\n",
       "\n",
       "    .dataframe tbody tr th {\n",
       "        vertical-align: top;\n",
       "    }\n",
       "\n",
       "    .dataframe thead th {\n",
       "        text-align: right;\n",
       "    }\n",
       "</style>\n",
       "<table border=\"1\" class=\"dataframe\">\n",
       "  <thead>\n",
       "    <tr style=\"text-align: right;\">\n",
       "      <th></th>\n",
       "      <th>show_id</th>\n",
       "      <th>type</th>\n",
       "      <th>title</th>\n",
       "      <th>director</th>\n",
       "      <th>cast</th>\n",
       "      <th>country</th>\n",
       "      <th>date_added</th>\n",
       "      <th>release_year</th>\n",
       "      <th>rating</th>\n",
       "      <th>duration</th>\n",
       "      <th>listed_in</th>\n",
       "      <th>description</th>\n",
       "      <th>year_added</th>\n",
       "      <th>month_added</th>\n",
       "      <th>season</th>\n",
       "    </tr>\n",
       "  </thead>\n",
       "  <tbody>\n",
       "    <tr>\n",
       "      <th>0</th>\n",
       "      <td>81145628</td>\n",
       "      <td>Movie</td>\n",
       "      <td>Norm of the North: King Sized Adventure</td>\n",
       "      <td>Richard Finn, Tim Maltby</td>\n",
       "      <td>Alan Marriott, Andrew Toth, Brian Dobson, Cole...</td>\n",
       "      <td>United States, India, South Korea, China</td>\n",
       "      <td>2019-09-09</td>\n",
       "      <td>2019</td>\n",
       "      <td>TV-PG</td>\n",
       "      <td>90</td>\n",
       "      <td>Children &amp; Family Movies, Comedies</td>\n",
       "      <td>Before planning an awesome wedding for his gra...</td>\n",
       "      <td>2019.0</td>\n",
       "      <td>9.0</td>\n",
       "      <td></td>\n",
       "    </tr>\n",
       "    <tr>\n",
       "      <th>1</th>\n",
       "      <td>80117401</td>\n",
       "      <td>Movie</td>\n",
       "      <td>Jandino: Whatever it Takes</td>\n",
       "      <td>NaN</td>\n",
       "      <td>Jandino Asporaat</td>\n",
       "      <td>United Kingdom</td>\n",
       "      <td>2016-09-09</td>\n",
       "      <td>2016</td>\n",
       "      <td>TV-MA</td>\n",
       "      <td>94</td>\n",
       "      <td>Stand-Up Comedy</td>\n",
       "      <td>Jandino Asporaat riffs on the challenges of ra...</td>\n",
       "      <td>2016.0</td>\n",
       "      <td>9.0</td>\n",
       "      <td></td>\n",
       "    </tr>\n",
       "    <tr>\n",
       "      <th>2</th>\n",
       "      <td>70234439</td>\n",
       "      <td>TV Show</td>\n",
       "      <td>Transformers Prime</td>\n",
       "      <td>NaN</td>\n",
       "      <td>Peter Cullen, Sumalee Montano, Frank Welker, J...</td>\n",
       "      <td>United States</td>\n",
       "      <td>2018-09-08</td>\n",
       "      <td>2013</td>\n",
       "      <td>TV-Y7-FV</td>\n",
       "      <td></td>\n",
       "      <td>Kids' TV</td>\n",
       "      <td>With the help of three human allies, the Autob...</td>\n",
       "      <td>2018.0</td>\n",
       "      <td>9.0</td>\n",
       "      <td>1</td>\n",
       "    </tr>\n",
       "    <tr>\n",
       "      <th>3</th>\n",
       "      <td>80058654</td>\n",
       "      <td>TV Show</td>\n",
       "      <td>Transformers: Robots in Disguise</td>\n",
       "      <td>NaN</td>\n",
       "      <td>Will Friedle, Darren Criss, Constance Zimmer, ...</td>\n",
       "      <td>United States</td>\n",
       "      <td>2018-09-08</td>\n",
       "      <td>2016</td>\n",
       "      <td>TV-Y7</td>\n",
       "      <td></td>\n",
       "      <td>Kids' TV</td>\n",
       "      <td>When a prison ship crash unleashes hundreds of...</td>\n",
       "      <td>2018.0</td>\n",
       "      <td>9.0</td>\n",
       "      <td>1</td>\n",
       "    </tr>\n",
       "    <tr>\n",
       "      <th>4</th>\n",
       "      <td>80125979</td>\n",
       "      <td>Movie</td>\n",
       "      <td>#realityhigh</td>\n",
       "      <td>Fernando Lebrija</td>\n",
       "      <td>Nesta Cooper, Kate Walsh, John Michael Higgins...</td>\n",
       "      <td>United States</td>\n",
       "      <td>2017-09-08</td>\n",
       "      <td>2017</td>\n",
       "      <td>TV-14</td>\n",
       "      <td>99</td>\n",
       "      <td>Comedies</td>\n",
       "      <td>When nerdy high schooler Dani finally attracts...</td>\n",
       "      <td>2017.0</td>\n",
       "      <td>9.0</td>\n",
       "      <td></td>\n",
       "    </tr>\n",
       "  </tbody>\n",
       "</table>\n",
       "</div>"
      ],
      "text/plain": [
       "    show_id     type                                    title  \\\n",
       "0  81145628    Movie  Norm of the North: King Sized Adventure   \n",
       "1  80117401    Movie               Jandino: Whatever it Takes   \n",
       "2  70234439  TV Show                       Transformers Prime   \n",
       "3  80058654  TV Show         Transformers: Robots in Disguise   \n",
       "4  80125979    Movie                             #realityhigh   \n",
       "\n",
       "                   director  \\\n",
       "0  Richard Finn, Tim Maltby   \n",
       "1                       NaN   \n",
       "2                       NaN   \n",
       "3                       NaN   \n",
       "4          Fernando Lebrija   \n",
       "\n",
       "                                                cast  \\\n",
       "0  Alan Marriott, Andrew Toth, Brian Dobson, Cole...   \n",
       "1                                   Jandino Asporaat   \n",
       "2  Peter Cullen, Sumalee Montano, Frank Welker, J...   \n",
       "3  Will Friedle, Darren Criss, Constance Zimmer, ...   \n",
       "4  Nesta Cooper, Kate Walsh, John Michael Higgins...   \n",
       "\n",
       "                                    country date_added  release_year  \\\n",
       "0  United States, India, South Korea, China 2019-09-09          2019   \n",
       "1                            United Kingdom 2016-09-09          2016   \n",
       "2                             United States 2018-09-08          2013   \n",
       "3                             United States 2018-09-08          2016   \n",
       "4                             United States 2017-09-08          2017   \n",
       "\n",
       "     rating duration                           listed_in  \\\n",
       "0     TV-PG       90  Children & Family Movies, Comedies   \n",
       "1     TV-MA       94                     Stand-Up Comedy   \n",
       "2  TV-Y7-FV                                     Kids' TV   \n",
       "3     TV-Y7                                     Kids' TV   \n",
       "4     TV-14       99                            Comedies   \n",
       "\n",
       "                                         description  year_added  month_added  \\\n",
       "0  Before planning an awesome wedding for his gra...      2019.0          9.0   \n",
       "1  Jandino Asporaat riffs on the challenges of ra...      2016.0          9.0   \n",
       "2  With the help of three human allies, the Autob...      2018.0          9.0   \n",
       "3  When a prison ship crash unleashes hundreds of...      2018.0          9.0   \n",
       "4  When nerdy high schooler Dani finally attracts...      2017.0          9.0   \n",
       "\n",
       "  season  \n",
       "0         \n",
       "1         \n",
       "2      1  \n",
       "3      1  \n",
       "4         "
      ]
     },
     "execution_count": 12,
     "metadata": {},
     "output_type": "execute_result"
    }
   ],
   "source": [
    "dat.head() # there is in consistancy in duration: 90 mins vs. 1 season and such\n",
    "# lets make new columns for season and keep it consistant for duration\n",
    "dat['season'] = dat.apply(lambda x : x['duration'].split(\" \")[0] if \"Season\" in x['duration'] else \"\", axis = 1)\n",
    "dat['duration'] = dat.apply(lambda x: x['duration'].split(\" \")[0] if \"Season\" not in x['duration'] else \"\", axis = 1)\n",
    "\n",
    "dat.head()"
   ]
  },
  {
   "cell_type": "markdown",
   "metadata": {},
   "source": [
    "Let's see how the each content account for"
   ]
  },
  {
   "cell_type": "code",
   "execution_count": 13,
   "metadata": {
    "scrolled": true
   },
   "outputs": [
    {
     "data": {
      "text/plain": [
       "Text(0.5, 1, 'Contents Ratio')"
      ]
     },
     "execution_count": 13,
     "metadata": {},
     "output_type": "execute_result"
    },
    {
     "data": {
      "image/png": "[encoded data removed]",
      "text/plain": [
       "<Figure size 216x216 with 1 Axes>"
      ]
     },
     "metadata": {},
     "output_type": "display_data"
    }
   ],
   "source": [
    "fig = plt.figure(figsize=(3,3))\n",
    "\n",
    "labeles = dat['type'].value_counts().index.tolist()\n",
    "sizes = dat['type'].value_counts().tolist()\n",
    "colors = ['#99ff99','#66b3ff']\n",
    "plt.pie(sizes, \n",
    "       labels=labeles, \n",
    "       colors= colors, \n",
    "       startangle= 100,\n",
    "       autopct='%1.1f%%')\n",
    "\n",
    "plt.tight_layout()\n",
    "\n",
    "plt.title('Contents Ratio', \n",
    "          fontdict=None, \n",
    "          position = [0.5,1],\n",
    "          size = 'x-large'\n",
    "         )\n",
    "\n"
   ]
  },
  {
   "cell_type": "markdown",
   "metadata": {},
   "source": [
    "Numb of Contents increases based on the events"
   ]
  },
  {
   "cell_type": "code",
   "execution_count": 14,
   "metadata": {},
   "outputs": [],
   "source": [
    "# Preparing data for plot. Here, nan were filled with 0\n",
    "\n",
    "year_data = dat['year_added'].value_counts().sort_index().fillna(0).loc[:2019]\n",
    "type_data = dat.groupby('type')['year_added'].value_counts().sort_index().unstack().fillna(0).T.loc[:2019] "
   ]
  },
  {
   "cell_type": "code",
   "execution_count": 15,
   "metadata": {},
   "outputs": [
    {
     "data": {
      "text/plain": [
       "<matplotlib.legend.Legend at 0x13c7aa705f8>"
      ]
     },
     "execution_count": 15,
     "metadata": {},
     "output_type": "execute_result"
    },
    {
     "data": {
      "image/png": "[encoded data removed]",
      "text/plain": [
       "<Figure size 720x432 with 1 Axes>"
      ]
     },
     "metadata": {
      "needs_background": "light"
     },
     "output_type": "display_data"
    }
   ],
   "source": [
    "import matplotlib.patheffects as path_effects\n",
    "\n",
    "fig, ax = plt.subplots(1,1, figsize=(10, 6))\n",
    "ax.plot(year_data.index, year_data,  color=\"white\", linewidth=5, label='Total', path_effects=[path_effects.SimpleLineShadow(),\n",
    "                       path_effects.Normal()])\n",
    "ax.plot(type_data.index, type_data['Movie'], color='#a678de', linewidth=5, label='Movie')\n",
    "ax.plot(type_data.index, type_data['TV Show'], color='#6ad49b', linewidth=5, label='TV Show')\n",
    "\n",
    "ax.set_xlim(2006, 2020)\n",
    "ax.set_ylim(0, 2700)\n",
    "\n",
    "t = [2008,2010.8,2012.1,2013.1,2015.7,2016.1,2016.9]\n",
    "\n",
    "events = [\n",
    "    \"Launch Streaming Video\\n2007.1\",\n",
    "    \"Expanding Streaming Service\\nStarting with Candata | 2010.11\",\n",
    "    \"Expanding to Europe\\n2012.1\",\n",
    "    \"First Original Content\\n2013.2\",\n",
    "    \"Expanding to Japan\\n2015.9\",\n",
    "    \"Original targeting Kids\\n2016/1\",\n",
    "    \"Offline Playback Features to all of Users\\n2016/11\"\n",
    "]\n",
    "\n",
    "up_down = [100,110,280,110,0,0,0] # this sets up the position of box up/down\n",
    "\n",
    "left_right = [-1,-0,-0,-0,-1,-1,-1.6] # this sets up the position of box left/right\n",
    "\n",
    "for t_i, event_i, ud_i, lr_i in zip(t, events, up_down, left_right):\n",
    "    ax.annotate(event_i,\n",
    "                xy=(t_i + lr_i, year_data[int(t_i)] * (int(t_i+1)-t_i) + year_data[int(t_i)+1]  * (t_i-int(t_i)) + ud_i),\n",
    "                xytext=(0,0), textcoords='offset points',\n",
    "                va=\"center\", ha=\"center\",\n",
    "                color=\"w\", fontsize= 6,\n",
    "                bbox=dict(boxstyle='round4', pad=0.5, color='#303030', alpha=0.90))\n",
    "    \n",
    "# A proportional expression to draw the middle of the year\n",
    "    ax.scatter(t_i, year_data[int(t_i)] * (int(t_i+1)-t_i) + year_data[int(t_i)+1]  * (t_i-int(t_i)), color='#E50914', s=10)\n",
    "\n",
    "ax.set_facecolor((0.4, 0.4, 0.4))\n",
    "ax.set_title(\"Increase in contents over th?\", position=(0.23, 1.0+0.03), fontsize=15, fontweight='bold')\n",
    "ax.yaxis.set_tick_params(labelsize=10)\n",
    "ax.xaxis.set_tick_params(labelsize=10)\n",
    "plt.legend(loc='upper left', fontsize=10)\n"
   ]
  },
  {
   "cell_type": "markdown",
   "metadata": {},
   "source": [
    "By the month"
   ]
  },
  {
   "cell_type": "code",
   "execution_count": 16,
   "metadata": {
    "scrolled": true
   },
   "outputs": [
    {
     "data": {
      "text/plain": [
       "<matplotlib.legend.Legend at 0x13c7aa42cc0>"
      ]
     },
     "execution_count": 16,
     "metadata": {},
     "output_type": "execute_result"
    },
    {
     "data": {
      "image/png": "[encoded data removed]",
      "text/plain": [
       "<Figure size 720x432 with 1 Axes>"
      ]
     },
     "metadata": {
      "needs_background": "light"
     },
     "output_type": "display_data"
    }
   ],
   "source": [
    "month_data = dat['month_added'].value_counts().sort_index().fillna(0)\n",
    "type_data = dat.groupby('type')['month_added'].value_counts().sort_index().unstack().fillna(0).T\n",
    "\n",
    "fig, ax = plt.subplots(1,1, figsize=(10, 6))\n",
    "ax.set_facecolor((0.4, 0.4, 0.4))\n",
    "ax.plot(month_data.index, month_data,  color=\"white\", linewidth=5, label='Total', path_effects=[path_effects.SimpleLineShadow(),\n",
    "                       path_effects.Normal()])\n",
    "ax.plot(type_data.index, type_data['Movie'], color='#a678de', linewidth=5, label='Movie')\n",
    "ax.plot(type_data.index, type_data['TV Show'], color='#6ad49b', linewidth=5, label='TV Show')\n",
    "ax.set_title(\"Increase in contents over th?\", position=(0.23, 1.0+0.03), fontsize=15, fontweight='bold')\n",
    "plt.legend(loc='upper left', fontsize=10)\n"
   ]
  },
  {
   "cell_type": "code",
   "execution_count": 17,
   "metadata": {},
   "outputs": [
    {
     "data": {
      "image/png": "[encoded data removed]",
      "text/plain": [
       "<Figure size 432x288 with 1 Axes>"
      ]
     },
     "metadata": {
      "needs_background": "light"
     },
     "output_type": "display_data"
    }
   ],
   "source": [
    "# now lets take a look at it by overall \n",
    "\n",
    "month_data = dat['month_added'].value_counts().reset_index()\n",
    "month_data = month_data.rename(columns = {'month_added' :'count', 'index': 'month_added'})\n",
    "month_data['perc'] = month_data['count'].apply(lambda x: x*100/ sum(month_data['count']))\n",
    "month_data.sort_values('month_added')\n",
    "\n",
    "sns.barplot(data=month_data, x='month_added', y= 'perc')\n",
    "plt.title(\"Contents creation by the month\", fontsize=10)\n",
    "plt.xlabel(\"Month\", fontsize=8)\n",
    "plt.xticks(rotation=45)\n",
    "plt.ylabel(\"Numb of Contents\", fontsize=8)\n",
    "plt.show()"
   ]
  },
  {
   "cell_type": "markdown",
   "metadata": {},
   "source": [
    "Now, lets take a look at the number of contents by country "
   ]
  },
  {
   "cell_type": "code",
   "execution_count": 18,
   "metadata": {
    "scrolled": true
   },
   "outputs": [
    {
     "data": {
      "text/plain": [
       "United States                    2032\n",
       "India                             777\n",
       "United Kingdom                    348\n",
       "Japan                             176\n",
       "Canada                            141\n",
       "South Korea                       136\n",
       "Spain                             117\n",
       "France                             90\n",
       "Mexico                             83\n",
       "Turkey                             79\n",
       "Australia                          71\n",
       "Taiwan                             69\n",
       "Hong Kong                          51\n",
       "Egypt                              50\n",
       "Brazil                             50\n",
       "United Kingdom, United States      50\n",
       "China                              50\n",
       "Thailand                           50\n",
       "Indonesia                          44\n",
       "Philippines                        44\n",
       "Name: country, dtype: int64"
      ]
     },
     "execution_count": 18,
     "metadata": {},
     "output_type": "execute_result"
    }
   ],
   "source": [
    "country_data = dat['country'].value_counts()\n",
    "# top 20 countries\n",
    "country_data[:20]"
   ]
  },
  {
   "cell_type": "code",
   "execution_count": 29,
   "metadata": {},
   "outputs": [
    {
     "name": "stdout",
     "output_type": "stream",
     "text": [
      "total : 5758\n",
      "top 20 countries : 4508\n",
      "percentage of contents that created by top 20 countries: 78.29 %\n"
     ]
    }
   ],
   "source": [
    "con_dat = dat['country'].value_counts().reset_index(name= 'counts')\n",
    "total = sum(con_dat['counts'])\n",
    "top_20_total = sum(con_dat[:20]['counts'])\n",
    "print(f'total : {total}')\n",
    "print(f'top 20 countries : {top_20_total}')\n",
    "print(f'percentage of contents that created by top 20 countries: {round(100 * top_20_total/total, 2)} %')"
   ]
  },
  {
   "cell_type": "code",
   "execution_count": 31,
   "metadata": {},
   "outputs": [
    {
     "data": {
      "image/png": "[encoded data removed]",
      "text/plain": [
       "<Figure size 1440x432 with 2 Axes>"
      ]
     },
     "metadata": {
      "needs_background": "light"
     },
     "output_type": "display_data"
    }
   ],
   "source": [
    "from matplotlib import gridspec\n",
    "#fig, ax = plt.subplots(1,2, figsize = (14,5))\n",
    "\n",
    "country_data = dat['country'].value_counts()\n",
    "\n",
    "fig = plt.figure(figsize=(20, 6))\n",
    "gs = gridspec.GridSpec(nrows=1, ncols=2,\n",
    "                       height_ratios=[6], \n",
    "                       width_ratios=[10, 5])\n",
    "explode = [0 for _ in range(20)]\n",
    "explode[0] = 0.06\n",
    "\n",
    "ax = plt.subplot(gs[0])\n",
    "sns.barplot(country_data[:20].index, country_data[:20], ax=ax, palette=\"RdGy\")\n",
    "ax.set_xticklabels(country_data[:20].index, rotation='90')\n",
    "ax.set_title('Top 20 producing countries', fontsize=15, fontweight='bold')\n",
    "\n",
    "ax2 = plt.subplot(gs[1])\n",
    "ax2.pie(country_data[:20], \n",
    "        labels=country_data[:20].index,\n",
    "        startangle=0,\n",
    "        explode= explode,\n",
    "        colors=sns.color_palette(\"RdGy\", n_colors=20)\n",
    "       )\n",
    "ax2.axis('equal') \n",
    "\n",
    "plt.show()"
   ]
  },
  {
   "cell_type": "code",
   "execution_count": null,
   "metadata": {},
   "outputs": [],
   "source": [
    "#!pip install plotly.express"
   ]
  },
  {
   "cell_type": "code",
   "execution_count": 52,
   "metadata": {},
   "outputs": [
    {
     "data": {
      "application/vnd.plotly.v1+json": {
       "config": {
        "plotlyServerURL": "https://plot.ly"
       },
       "data": [
        {
         "coloraxis": "coloraxis",
         "geo": "geo",
         "hoverlabel": {
          "namelength": 0
         },
         "hovertemplate": "year=2008.0<br>country=%{location}<br>counts=%{z}",
         "locationmode": "country names",
         "locations": [
          "United States"
         ],
         "name": "",
         "type": "choropleth",
         "z": [
          2
         ]
        }
       ],
       "frames": [
        {
         "data": [
          {
           "coloraxis": "coloraxis",
           "geo": "geo",
           "hoverlabel": {
            "namelength": 0
           },
           "hovertemplate": "year=2008.0<br>country=%{location}<br>counts=%{z}",
           "locationmode": "country names",
           "locations": [
            "United States"
           ],
           "name": "",
           "type": "choropleth",
           "z": [
            2
           ]
          }
         ],
         "name": "2008.0"
        },
        {
         "data": [
          {
           "coloraxis": "coloraxis",
           "geo": "geo",
           "hoverlabel": {
            "namelength": 0
           },
           "hovertemplate": "year=2009.0<br>country=%{location}<br>counts=%{z}",
           "locationmode": "country names",
           "locations": [
            "Denmark",
            "United States"
           ],
           "name": "",
           "type": "choropleth",
           "z": [
            1,
            1
           ]
          }
         ],
         "name": "2009.0"
        },
        {
         "data": [
          {
           "coloraxis": "coloraxis",
           "geo": "geo",
           "hoverlabel": {
            "namelength": 0
           },
           "hovertemplate": "year=2010.0<br>country=%{location}<br>counts=%{z}",
           "locationmode": "country names",
           "locations": [
            "United States"
           ],
           "name": "",
           "type": "choropleth",
           "z": [
            1
           ]
          }
         ],
         "name": "2010.0"
        },
        {
         "data": [
          {
           "coloraxis": "coloraxis",
           "geo": "geo",
           "hoverlabel": {
            "namelength": 0
           },
           "hovertemplate": "year=2011.0<br>country=%{location}<br>counts=%{z}",
           "locationmode": "country names",
           "locations": [
            "United States",
            "Spain, Mexico, France"
           ],
           "name": "",
           "type": "choropleth",
           "z": [
            12,
            1
           ]
          }
         ],
         "name": "2011.0"
        },
        {
         "data": [
          {
           "coloraxis": "coloraxis",
           "geo": "geo",
           "hoverlabel": {
            "namelength": 0
           },
           "hovertemplate": "year=2012.0<br>country=%{location}<br>counts=%{z}",
           "locationmode": "country names",
           "locations": [
            "United States",
            "United States, Mexico"
           ],
           "name": "",
           "type": "choropleth",
           "z": [
            5,
            1
           ]
          }
         ],
         "name": "2012.0"
        },
        {
         "data": [
          {
           "coloraxis": "coloraxis",
           "geo": "geo",
           "hoverlabel": {
            "namelength": 0
           },
           "hovertemplate": "year=2013.0<br>country=%{location}<br>counts=%{z}",
           "locationmode": "country names",
           "locations": [
            "United States",
            "Canada",
            "United States, Ireland",
            "United States, United Kingdom"
           ],
           "name": "",
           "type": "choropleth",
           "z": [
            9,
            1,
            1,
            1
           ]
          }
         ],
         "name": "2013.0"
        },
        {
         "data": [
          {
           "coloraxis": "coloraxis",
           "geo": "geo",
           "hoverlabel": {
            "namelength": 0
           },
           "hovertemplate": "year=2014.0<br>country=%{location}<br>counts=%{z}",
           "locationmode": "country names",
           "locations": [
            "United States",
            "Canada",
            "Canada, United States",
            "Norway, United States",
            "United Kingdom,",
            "United Kingdom, Egypt, United States",
            "United Kingdom, United States",
            "United States, Bermuda, Ecuador",
            "United States, Canada",
            "United States, Hungary, Ireland, Canada"
           ],
           "name": "",
           "type": "choropleth",
           "z": [
            16,
            1,
            1,
            1,
            1,
            1,
            1,
            1,
            1,
            1
           ]
          }
         ],
         "name": "2014.0"
        },
        {
         "data": [
          {
           "coloraxis": "coloraxis",
           "geo": "geo",
           "hoverlabel": {
            "namelength": 0
           },
           "hovertemplate": "year=2015.0<br>country=%{location}<br>counts=%{z}",
           "locationmode": "country names",
           "locations": [
            "United States",
            "Canada",
            "United Kingdom",
            "France",
            "France, Belgium",
            "United States, United Kingdom",
            "Australia",
            "Australia, France, Ireland",
            "Australia, United Kingdom, United States, New Zealand, Italy, France",
            "Belgium",
            "Canada, Australia",
            "Canada, United States",
            "Germany",
            "Germany, Australia",
            "Italy, France",
            "Japan",
            "Mexico",
            "New Zealand",
            "Nigeria",
            "Norway, United Kingdom, France, Ireland",
            "United Kingdom, Ukraine, United States",
            "United Kingdom, United States, Greece, Italy, Germany",
            "United States, Canada",
            "United States, Italy"
           ],
           "name": "",
           "type": "choropleth",
           "z": [
            53,
            4,
            4,
            3,
            2,
            2,
            1,
            1,
            1,
            1,
            1,
            1,
            1,
            1,
            1,
            1,
            1,
            1,
            1,
            1,
            1,
            1,
            1,
            1
           ]
          }
         ],
         "name": "2015.0"
        },
        {
         "data": [
          {
           "coloraxis": "coloraxis",
           "geo": "geo",
           "hoverlabel": {
            "namelength": 0
           },
           "hovertemplate": "year=2016.0<br>country=%{location}<br>counts=%{z}",
           "locationmode": "country names",
           "locations": [
            "United States",
            "United Kingdom",
            "Taiwan",
            "Japan",
            "Canada",
            "India",
            "Spain",
            "France",
            "Australia",
            "Mexico",
            "South Korea",
            "United States, France, Japan",
            "Canada, United States",
            "Germany",
            "United Kingdom, United States, Spain, Germany, Greece, Canada",
            "China",
            "Italy",
            "Netherlands",
            "Norway",
            "Pakistan",
            "Turkey",
            "United States, Canada",
            "United States, Japan",
            "Argentina",
            "Brazil",
            "Colombia",
            "Denmark",
            "France, Belgium",
            "Hong Kong, China",
            "United States, New Zealand",
            "Argentina, Chile, Peru",
            "Austria",
            "Belgium, France",
            "Brazil, Canada",
            "Canada, Japan, Netherlands",
            "Canada, United Kingdom",
            "Canada, United Kingdom, Netherlands",
            "Canada, United Kingdom, United States",
            "Chile, United States, France",
            "China, Germany, India, United States",
            "China, Hong Kong",
            "China, United States",
            "Croatia, Slovenia, Serbia, Montenegro",
            "Denmark, Indonesia, Finland, Norway, United Kingdom, Israel, France, United States, Germany, Netherlands",
            "Denmark, United Kingdom",
            "Denmark, United States",
            "Denmark, Zimbabwe",
            "France, Belgium, Spain",
            "France, Germany",
            "France, Qatar",
            "France, South Korea, Japan",
            "France, United States, Canada",
            "Hong Kong",
            "Iceland",
            "India, United Kingdom",
            "Ireland",
            "Ireland, South Africa",
            "Ireland, United Kingdom, United States",
            "Israel",
            "Israel, Germany, France",
            "Japan, United States",
            "Mexico, France",
            "Netherlands, Denmark, South Africa",
            "Nigeria",
            "Pakistan, Norway, United States",
            "Peru",
            "Peru, United States, United Kingdom",
            "Poland",
            "Russia",
            "Spain, Cuba",
            "Sweden",
            "Switzerland",
            "Turkey, Azerbaijan",
            "United Arab Emirates, Jordan",
            "United Kingdom, Australia, Canada, United States",
            "United Kingdom, France",
            "United Kingdom, Germany, Canada",
            "United Kingdom, India, United States",
            "United States, Australia",
            "United States, France",
            "United States, Greece, United Kingdom",
            "United States, Hungary",
            "United States, Kazakhstan",
            "United States, Netherlands, Japan, France",
            "United States, New Zealand, Japan",
            "United States, Russia",
            "United States, South Korea, China"
           ],
           "name": "",
           "type": "choropleth",
           "z": [
            167,
            37,
            29,
            19,
            15,
            12,
            12,
            10,
            8,
            8,
            8,
            6,
            5,
            5,
            4,
            3,
            3,
            3,
            3,
            3,
            3,
            3,
            3,
            2,
            2,
            2,
            2,
            2,
            2,
            2,
            1,
            1,
            1,
            1,
            1,
            1,
            1,
            1,
            1,
            1,
            1,
            1,
            1,
            1,
            1,
            1,
            1,
            1,
            1,
            1,
            1,
            1,
            1,
            1,
            1,
            1,
            1,
            1,
            1,
            1,
            1,
            1,
            1,
            1,
            1,
            1,
            1,
            1,
            1,
            1,
            1,
            1,
            1,
            1,
            1,
            1,
            1,
            1,
            1,
            1,
            1,
            1,
            1,
            1,
            1,
            1,
            1
           ]
          }
         ],
         "name": "2016.0"
        },
        {
         "data": [
          {
           "coloraxis": "coloraxis",
           "geo": "geo",
           "hoverlabel": {
            "namelength": 0
           },
           "hovertemplate": "year=2017.0<br>country=%{location}<br>counts=%{z}",
           "locationmode": "country names",
           "locations": [
            "United States",
            "India",
            "United Kingdom",
            "Turkey",
            "South Korea",
            "Canada",
            "Japan",
            "Mexico",
            "Spain",
            "France",
            "Australia",
            "Brazil",
            "China",
            "Germany",
            "Taiwan",
            "Canada, United States",
            "France, Belgium",
            "United Kingdom, United States",
            "Singapore",
            "Argentina",
            "Malaysia",
            "United States, Canada",
            "Italy",
            "Chile",
            "Russia",
            "China, Hong Kong",
            "Israel",
            "Pakistan",
            "United States, United Kingdom",
            "Australia, United States",
            "Japan, United States",
            "Norway",
            "Argentina, Spain",
            "Belgium, France",
            "Colombia",
            "India, France",
            "India, Soviet Union",
            "India, United States",
            "Indonesia",
            "Ireland",
            "Italy, France",
            "Mexico, United States",
            "New Zealand",
            "Spain, Argentina",
            "Sweden",
            "Sweden, United States",
            "United States, Australia",
            "United States, Japan",
            "United States, Spain",
            "Argentina, Italy",
            "Argentina, Uruguay, Spain, France",
            "Australia, Armenia, Japan, Jordan, Mexico, Mongolia, New Zealand, Philippines, South Africa, Sweden, United States, Uruguay",
            "Australia, Canada",
            "Australia, India",
            "Australia, New Zealand, United States",
            "Australia, United Arab Emirates",
            "Austria, Czech Republic",
            "Belgium",
            "Belgium, India, Australia",
            "Belgium, Ireland, Netherlands, Germany, Afghanistan",
            "Brazil, France",
            "Brazil, Netherlands, United States, Colombia, Austria, Germany",
            "Bulgaria, United States, Spain, Canada",
            "Cambodia, United States",
            "Canada, France",
            "Canada, Germany, South Africa",
            "Canada, India",
            "Canada, India, Thailand, United States, United Arab Emirates",
            "Canada, Ireland, United States",
            "Canada, Spain",
            "Canada, United Kingdom, United States",
            "Canada, United States, United Kingdom",
            "Chile, Argentina, France, Spain, United States",
            "Chile, France",
            "Chile, Spain, Argentina, Germany",
            "China, India, Nepal",
            "China, South Korea, United States",
            "Colombia, Mexico, United States",
            "Colombia, United States",
            "Czech Republic, France",
            "Czech Republic, Slovakia",
            "Denmark",
            "Denmark, United Kingdom, South Africa, Sweden, Belgium",
            "Finland, Sweden, Norway, Latvia, Germany",
            "France, Canada",
            "France, Canada, Belgium",
            "France, China, Canada",
            "France, Germany, Switzerland",
            "France, Morocco",
            "France, United Kingdom",
            "France, United Kingdom, India",
            "France, United Kingdom, United States",
            "Georgia, Germany, France",
            "Germany, Jordan, Netherlands",
            "Germany, Sri Lanka",
            "Germany, United States, Hong Kong, Singapore",
            "Germany, United States, Italy",
            "Hong Kong",
            "Hong Kong, China",
            "Iceland",
            "India, Canada",
            "India, Germany",
            "India, Malaysia",
            "India, Mexico",
            "India, Switzerland",
            "Ireland, United Kingdom",
            "Ireland, United Kingdom, Italy, United States",
            "Israel, Sweden, Germany, Netherlands",
            "Italy, Canada, France",
            "Italy, Germany",
            "Italy, India",
            "Italy, United States",
            "Lebanon, Qatar",
            "Netherlands",
            "Netherlands, Belgium",
            "Netherlands, Belgium, United Kingdom, United States",
            "Netherlands, United States",
            "Nigeria",
            "Norway, Denmark, Sweden",
            "Norway, Germany",
            "Pakistan, United States",
            "Portugal, Spain",
            "Russia, United States",
            "Saudi Arabia",
            "Singapore, France",
            "Slovenia, Croatia, Germany, Czech Republic, Qatar",
            "South Africa, United States, Germany",
            "South Korea, China, United States",
            "South Korea, United States",
            "Spain, Belgium, Switzerland, United States, China, United Kingdom",
            "Spain, France, Uruguay",
            "Spain, Germany",
            "Spain, Italy, Argentina",
            "Spain, Mexico",
            "Spain, Switzerland",
            "Switzerland, France",
            "Thailand",
            "Thailand, United States",
            "Turkey, France, Germany, Poland",
            "Ukraine",
            "United Arab Emirates",
            "United Arab Emirates, Romania",
            "United Kingdom, Canada, Japan",
            "United Kingdom, France",
            "United Kingdom, France, Belgium",
            "United Kingdom, France, Belgium, United States",
            "United Kingdom, France, Canada, Belgium, United States",
            "United Kingdom, India",
            "United Kingdom, India, Sweden",
            "United Kingdom, Ireland",
            "United Kingdom, Israel, Russia",
            "United Kingdom, Italy, Israel, Peru, United States",
            "United Kingdom, Japan, United States",
            "United Kingdom, Jordan, Qatar, Iran",
            "United Kingdom, Russia",
            "United Kingdom, Singapore",
            "United Kingdom, South Africa",
            "United Kingdom, Spain, Belgium",
            "United States, Argentina",
            "United States, Australia, China",
            "United States, Australia, Samoa, United Kingdom",
            "United States, Botswana",
            "United States, Brazil",
            "United States, Bulgaria",
            "United States, Canada, Japan, Panama",
            "United States, Chile",
            "United States, Colombia, Mexico",
            "United States, Denmark",
            "United States, France",
            "United States, France, Canada, Lebanon, Qatar",
            "United States, Germany",
            "United States, Greece, Brazil",
            "United States, Hong Kong",
            "United States, Iceland",
            "United States, India",
            "United States, Italy",
            "United States, Japan, Canada",
            "United States, Mexico",
            "United States, Nicaragua",
            "United States, Senegal",
            "United States, South Korea, China",
            "United States, United Kingdom, Australia",
            "United States, United Kingdom, Denmark, Sweden",
            "United States, Uruguay",
            "United States, Venezuela",
            "Uruguay",
            "Venezuela",
            "Vietnam",
            "West Germany"
           ],
           "name": "",
           "type": "choropleth",
           "z": [
            381,
            181,
            98,
            43,
            42,
            36,
            36,
            28,
            25,
            17,
            16,
            13,
            13,
            13,
            11,
            9,
            9,
            9,
            8,
            7,
            7,
            7,
            6,
            5,
            5,
            4,
            4,
            4,
            4,
            3,
            3,
            3,
            2,
            2,
            2,
            2,
            2,
            2,
            2,
            2,
            2,
            2,
            2,
            2,
            2,
            2,
            2,
            2,
            2,
            1,
            1,
            1,
            1,
            1,
            1,
            1,
            1,
            1,
            1,
            1,
            1,
            1,
            1,
            1,
            1,
            1,
            1,
            1,
            1,
            1,
            1,
            1,
            1,
            1,
            1,
            1,
            1,
            1,
            1,
            1,
            1,
            1,
            1,
            1,
            1,
            1,
            1,
            1,
            1,
            1,
            1,
            1,
            1,
            1,
            1,
            1,
            1,
            1,
            1,
            1,
            1,
            1,
            1,
            1,
            1,
            1,
            1,
            1,
            1,
            1,
            1,
            1,
            1,
            1,
            1,
            1,
            1,
            1,
            1,
            1,
            1,
            1,
            1,
            1,
            1,
            1,
            1,
            1,
            1,
            1,
            1,
            1,
            1,
            1,
            1,
            1,
            1,
            1,
            1,
            1,
            1,
            1,
            1,
            1,
            1,
            1,
            1,
            1,
            1,
            1,
            1,
            1,
            1,
            1,
            1,
            1,
            1,
            1,
            1,
            1,
            1,
            1,
            1,
            1,
            1,
            1,
            1,
            1,
            1,
            1,
            1,
            1,
            1,
            1,
            1,
            1,
            1,
            1,
            1,
            1,
            1,
            1,
            1,
            1,
            1,
            1,
            1,
            1,
            1
           ]
          }
         ],
         "name": "2017.0"
        },
        {
         "data": [
          {
           "coloraxis": "coloraxis",
           "geo": "geo",
           "hoverlabel": {
            "namelength": 0
           },
           "hovertemplate": "year=2018.0<br>country=%{location}<br>counts=%{z}",
           "locationmode": "country names",
           "locations": [
            "United States",
            "India",
            "United Kingdom",
            "Japan",
            "Hong Kong",
            "Thailand",
            "Canada",
            "Spain",
            "South Korea",
            "France",
            "Indonesia",
            "Australia",
            "Mexico",
            "China",
            "Argentina",
            "Brazil",
            "United Kingdom, United States",
            "Colombia",
            "Canada, United States",
            "Turkey",
            "Germany",
            "United States, Canada",
            "Taiwan",
            "Hong Kong, China",
            "Chile",
            "France, Belgium",
            "Ireland",
            "Singapore",
            "China, Hong Kong",
            "Israel",
            "Italy",
            "Pakistan",
            "United States, United Kingdom",
            "Mexico, United States",
            "Philippines",
            "Russia",
            "Argentina, Spain",
            "Denmark",
            "Malaysia",
            "United Kingdom, Canada, United States",
            "United States, India",
            "United States, Mexico",
            "Australia, United Arab Emirates",
            "Australia, United States",
            "Bulgaria, United States",
            "Czech Republic, United States",
            "Hungary",
            "India, United States",
            "Netherlands",
            "New Zealand",
            "Nigeria",
            "Peru",
            "Poland",
            "Poland, United States",
            "South Africa",
            "South Korea, United States",
            "Spain, France",
            "Sweden",
            "Switzerland, United States",
            "United Arab Emirates, United States",
            "United Kingdom, Canada",
            "United States, Brazil, South Korea, Mexico, Japan, Germany",
            "United States, Czech Republic",
            "United States, France",
            "United States, Sweden",
            "United States, United Kingdom, France",
            "Vietnam",
            "Argentina, Brazil, France, Poland, Germany, Denmark",
            "Argentina, Chile",
            "Argentina, France",
            "Argentina, France, Germany",
            "Argentina, Italy",
            "Australia, Iraq",
            "Australia, New Zealand",
            "Australia, United Kingdom, Canada",
            "Australia, United Kingdom, United Arab Emirates, Canada",
            "Belgium",
            "Belgium, United Kingdom, United States",
            "Brazil, France",
            "Brazil, India, China, United States",
            "Bulgaria",
            "Cambodia",
            "Canada, France, Italy, Morocco, United States",
            "Canada, Germany, France, United States",
            "Canada, Japan, United States",
            "Canada, Mexico, Germany, South Africa",
            "Canada, Spain, France",
            "Canada, United States, France",
            "Chile, Peru",
            "China, Canada, United States",
            "China, Japan",
            "China, Morocco, Hong Kong",
            "China, United States, Australia",
            "China, United States, United Kingdom",
            "Colombia, Mexico",
            "Czech Republic, United Kingdom, France",
            "Denmark, France, United States, Sweden",
            "Denmark, Germany, Belgium, United Kingdom, France",
            "Denmark, Germany, Belgium, United Kingdom, France, Sweden",
            "Denmark, Sweden, Israel, United States",
            "Egypt",
            "Egypt, France",
            "Finland, Germany",
            "France, Belgium, China, United States",
            "France, Iran, United States",
            "France, Luxembourg, United States",
            "France, Netherlands, South Africa, Finland",
            "France, Poland",
            "Georgia",
            "Germany, Australia",
            "Germany, Belgium",
            "Germany, France, Luxembourg, United Kingdom, United States",
            "Germany, France, Russia",
            "Germany, United Kingdom",
            "Germany, United States",
            "Germany, United States, Canada",
            "Guatemala",
            "Hong Kong, China, United States",
            "Hong Kong, Taiwan",
            "Hong Kong, United States",
            "Iceland",
            "India, Australia",
            "India, France",
            "India, Germany, Austria",
            "India, Iran",
            "Indonesia, United States",
            "Ireland, Canada",
            "Ireland, Canada, Luxembourg, United States",
            "Ireland, Canada, United Kingdom, United States",
            "Ireland, Canada, United States, United Kingdom",
            "Ireland, United Kingdom, Greece, France, Netherlands",
            "Ireland, United Kingdom, United States",
            "Israel, Germany",
            "Israel, United States",
            "Italy, Switzerland, Albania, Poland",
            "Italy, Switzerland, France, Germany",
            "Italy, Turkey",
            "Italy, United States",
            "Italy, United States, Argentina",
            "Japan, Canada",
            "Japan, United States",
            "Lebanon",
            "Mexico, Argentina",
            "Mexico, Netherlands",
            "Mexico, Spain",
            "Netherlands, Belgium, Germany, Jordan",
            "Netherlands, Denmark, France, Germany",
            "New Zealand, United Kingdom",
            "New Zealand, United Kingdom, Australia",
            "Norway",
            "Norway, Denmark, Netherlands, Sweden",
            "Norway, Germany, Sweden",
            "Norway, Iceland, United States",
            "Philippines, Qatar",
            "Portugal, France, Poland, United States",
            "Russia, Poland, Serbia",
            "Russia, Spain",
            "Saudi Arabia, Syria, Egypt, Lebanon, Kuwait",
            "Serbia, South Korea, Slovenia",
            "Serbia, United States",
            "Singapore, United States",
            "Somalia, Kenya, Sudan, South Africa, United States",
            "South Africa, China, United States",
            "South Africa, Germany, Netherlands, France",
            "South Africa, United States",
            "South Korea, France",
            "Soviet Union, India",
            "Spain, Colombia",
            "Spain, Mexico",
            "Spain, Portugal",
            "Sweden, Netherlands",
            "Switzerland, United Kingdom, United States",
            "Thailand, Canada, United States",
            "Turkey, India",
            "Turkey, United States",
            "Ukraine",
            "United Arab Emirates, United States, United Kingdom",
            "United Kingdom, Canada, Italy",
            "United Kingdom, Canada, United States, Cayman Islands",
            "United Kingdom, China, Canada, Indonesia, Singapore, United States",
            "United Kingdom, China, United States",
            "United Kingdom, Denmark, Canada, Croatia",
            "United Kingdom, France",
            "United Kingdom, France, United States",
            "United Kingdom, Germany",
            "United Kingdom, India",
            "United Kingdom, India, United States",
            "United Kingdom, Italy, France, United States",
            "United Kingdom, Japan, United States",
            "United Kingdom, Namibia, South Africa, Zimbabwe, United States",
            "United Kingdom, New Zealand",
            "United Kingdom, South Africa, Australia, United States",
            "United Kingdom, Spain, United States, Germany",
            "United Kingdom, United States, Australia",
            "United Kingdom, United States, Dominican Republic",
            "United Kingdom, United States, Morocco",
            "United Kingdom, West Germany",
            "United States,",
            "United States, Australia",
            "United States, Australia, South Africa, United Kingdom",
            "United States, Brazil, India, Uganda, China",
            "United States, Bulgaria",
            "United States, Canada, Belgium, United Kingdom",
            "United States, Canada, Ireland",
            "United States, Chile",
            "United States, China, Hong Kong",
            "United States, France, Canada",
            "United States, France, South Korea, Indonesia",
            "United States, India, Bangladesh",
            "United States, Indonesia",
            "United States, Ireland, United Kingdom",
            "United States, Israel, Italy, South Africa",
            "United States, Israel, United Kingdom, Canada",
            "United States, Italy",
            "United States, Japan, Canada",
            "United States, Mexico, Colombia",
            "United States, New Zealand",
            "United States, South Africa",
            "United States, United Arab Emirates",
            "United States, United Kingdom, Canada, Japan",
            "United States, United Kingdom, Germany",
            "United States, United Kingdom, Morocco",
            "United States, United Kingdom, Spain, South Korea",
            "Uruguay",
            "Uruguay, Argentina, Spain",
            "Venezuela, Colombia"
           ],
           "name": "",
           "type": "choropleth",
           "z": [
            483,
            347,
            86,
            47,
            40,
            34,
            33,
            32,
            27,
            25,
            25,
            24,
            18,
            17,
            16,
            16,
            15,
            12,
            11,
            11,
            10,
            10,
            8,
            7,
            6,
            6,
            6,
            6,
            5,
            5,
            5,
            5,
            5,
            4,
            4,
            4,
            3,
            3,
            3,
            3,
            3,
            3,
            2,
            2,
            2,
            2,
            2,
            2,
            2,
            2,
            2,
            2,
            2,
            2,
            2,
            2,
            2,
            2,
            2,
            2,
            2,
            2,
            2,
            2,
            2,
            2,
            2,
            1,
            1,
            1,
            1,
            1,
            1,
            1,
            1,
            1,
            1,
            1,
            1,
            1,
            1,
            1,
            1,
            1,
            1,
            1,
            1,
            1,
            1,
            1,
            1,
            1,
            1,
            1,
            1,
            1,
            1,
            1,
            1,
            1,
            1,
            1,
            1,
            1,
            1,
            1,
            1,
            1,
            1,
            1,
            1,
            1,
            1,
            1,
            1,
            1,
            1,
            1,
            1,
            1,
            1,
            1,
            1,
            1,
            1,
            1,
            1,
            1,
            1,
            1,
            1,
            1,
            1,
            1,
            1,
            1,
            1,
            1,
            1,
            1,
            1,
            1,
            1,
            1,
            1,
            1,
            1,
            1,
            1,
            1,
            1,
            1,
            1,
            1,
            1,
            1,
            1,
            1,
            1,
            1,
            1,
            1,
            1,
            1,
            1,
            1,
            1,
            1,
            1,
            1,
            1,
            1,
            1,
            1,
            1,
            1,
            1,
            1,
            1,
            1,
            1,
            1,
            1,
            1,
            1,
            1,
            1,
            1,
            1,
            1,
            1,
            1,
            1,
            1,
            1,
            1,
            1,
            1,
            1,
            1,
            1,
            1,
            1,
            1,
            1,
            1,
            1,
            1,
            1,
            1,
            1,
            1,
            1,
            1,
            1,
            1,
            1,
            1,
            1,
            1,
            1,
            1,
            1,
            1,
            1,
            1
           ]
          }
         ],
         "name": "2018.0"
        },
        {
         "data": [
          {
           "coloraxis": "coloraxis",
           "geo": "geo",
           "hoverlabel": {
            "namelength": 0
           },
           "hovertemplate": "year=2019.0<br>country=%{location}<br>counts=%{z}",
           "locationmode": "country names",
           "locations": [
            "United States",
            "India",
            "United Kingdom",
            "Japan",
            "South Korea",
            "Egypt",
            "Canada",
            "Spain",
            "Philippines",
            "France",
            "Nigeria",
            "Mexico",
            "Turkey",
            "Australia",
            "Taiwan",
            "Brazil",
            "United Kingdom, United States",
            "United States, United Kingdom",
            "China",
            "Indonesia",
            "Thailand",
            "United States, Canada",
            "Argentina",
            "Germany",
            "Canada, United States",
            "Colombia",
            "Hong Kong",
            "Italy",
            "Poland",
            "United States, Germany",
            "Malaysia",
            "United States, Japan",
            "Hong Kong, China",
            "Netherlands",
            "Pakistan",
            "China, Hong Kong",
            "Denmark",
            "France, Belgium",
            "United States, Australia",
            "United States, China",
            "United States, France",
            "France, United States",
            "Germany, United States",
            "Lebanon",
            "Mexico, United States",
            "Romania",
            "United States, Mexico",
            "India, Turkey",
            "India, United States",
            "Israel",
            "New Zealand",
            "South Africa",
            "Spain, France",
            "United Arab Emirates",
            "United Kingdom, France",
            "United States, United Kingdom, Australia",
            "Argentina, Spain",
            "Australia, United States",
            "Bangladesh",
            "Belgium",
            "Belgium, Netherlands",
            "France, Canada",
            "Hong Kong, United States",
            "Indonesia, Singapore",
            "Ireland",
            "Israel, United States",
            "Russia",
            "South Korea, United States",
            "Sweden",
            "United Kingdom, Germany",
            "United States, Czech Republic",
            "United States, Germany, Canada",
            "United States, South Africa",
            "United States, United Arab Emirates",
            "Argentina, United States",
            "Argentina, United States, Mexico",
            "Argentina, Uruguay, Serbia",
            "Australia, Canada",
            "Australia, France",
            "Austria",
            "Austria, Iraq, United States",
            "Austria, United States",
            "Belgium, Luxembourg, France",
            "Brazil, United States",
            "Bulgaria, United States",
            "Canada, Australia",
            "Canada, Brazil",
            "Canada, France, United States",
            "Canada, India",
            "Canada, Luxembourg",
            "Canada, Norway",
            "Canada, United Kingdom",
            "Canada, United Kingdom, United States",
            "Canada, United States, India, United Kingdom",
            "Canada, United States, United Kingdom",
            "Chile",
            "Chile, Argentina",
            "China, Hong Kong, United States",
            "China, Taiwan",
            "China, United Kingdom",
            "Colombia, Mexico, United States",
            "Croatia",
            "Cyprus, Austria, Thailand",
            "Denmark, Brazil, France, Portugal, Sweden",
            "Denmark, China",
            "Denmark, France, Italy, Belgium, Netherlands",
            "Denmark, France, Poland",
            "Denmark, Singapore, Canada, United States",
            "Denmark, Spain",
            "Denmark, United States",
            "Dominican Republic",
            "Egypt, Austria, United States",
            "Finland",
            "Finland, France",
            "Finland, Germany, Belgium",
            "France, China, Japan, United States",
            "France, Germany, Czech Republic, Belgium",
            "France, Japan",
            "France, Luxembourg, Canada",
            "France, Netherlands, Singapore",
            "France, Senegal, Belgium",
            "France, South Korea, Japan",
            "France, Switzerland, Spain, United States, United Arab Emirates",
            "France, United States, Mexico",
            "Germany, Canada, United States",
            "Germany, Italy",
            "Germany, United Kingdom",
            "Germany, United Kingdom, United States",
            "Germany, United States, Canada",
            "Germany, United States, Sweden",
            "Ghana",
            "Ghana, United States",
            "Hong Kong, China, Singapore",
            "Iceland, Sweden, Belgium",
            "India, France",
            "India, Germany",
            "India, Germany, France",
            "India, Japan",
            "India, Nepal",
            "India, Pakistan",
            "India, United Kingdom, Canada, United States",
            "Iran, France",
            "Ireland, United States, France",
            "Israel, Germany, Poland, Luxembourg, Belgium, France, United States",
            "Italy, Belgium, France",
            "Italy, France",
            "Italy, France, Switzerland",
            "Italy, South Africa, West Germany, Australia, United States",
            "Italy, United Kingdom, France",
            "Italy, United States",
            "Japan, Canada, South Korea",
            "Japan, United States",
            "Lebanon, Jordan",
            "Malaysia, Singapore, Hong Kong",
            "Mauritius, South Africa",
            "Mexico, Finland",
            "Norway",
            "Norway, Sweden",
            "Pakistan, United Arab Emirates",
            "Paraguay, Argentina",
            "Peru",
            "Philippines, Singapore",
            "Poland,",
            "Poland, United States",
            "Poland, West Germany",
            "Romania, Bulgaria, Hungary",
            "Singapore, Japan, France",
            "Singapore, Malaysia",
            "Singapore, United States",
            "South Africa, United States",
            "South Africa, United States, New Zealand, Canada",
            "South Korea, Canada, United States, China",
            "South Korea, Czech Republic",
            "Spain, Belgium",
            "Spain, France, Italy",
            "Spain, United Kingdom",
            "Spain, United Kingdom, United States",
            "Sweden, United Kingdom, Finland",
            "Sweden, United States",
            "Switzerland",
            "Switzerland, Vatican City, Italy, Germany, France",
            "Taiwan, China, France, United States",
            "Taiwan, Hong Kong, United States, China",
            "Thailand, China, United States",
            "United Arab Emirates, United Kingdom, India",
            "United Kingdom, Belgium, Sweden",
            "United Kingdom, Brazil, Germany",
            "United Kingdom, Canada",
            "United Kingdom, Canada, France, United States",
            "United Kingdom, Canada, United States",
            "United Kingdom, France, Belgium",
            "United Kingdom, France, Germany",
            "United Kingdom, France, Germany, Spain",
            "United Kingdom, France, United States",
            "United Kingdom, Germany, Canada, United States",
            "United Kingdom, Germany, United States",
            "United Kingdom, Hong Kong",
            "United Kingdom, Ireland",
            "United Kingdom, Italy, Argentina, United States",
            "United Kingdom, Malawi",
            "United Kingdom, Norway, Denmark, Germany, Sweden",
            "United Kingdom, Pakistan",
            "United Kingdom, Poland",
            "United Kingdom, Poland, United States",
            "United Kingdom, South Korea",
            "United Kingdom, Thailand",
            "United Kingdom, United States, Czech Republic",
            "United Kingdom, United States, France, Germany",
            "United Kingdom, United States, Germany, Denmark, Belgium, Japan",
            "United Kingdom, United States, Russia",
            "United States, Australia, Mexico",
            "United States, Cambodia",
            "United States, Canada, United Kingdom",
            "United States, Colombia",
            "United States, Czech Republic, United Kingdom",
            "United States, France, Canada, Spain",
            "United States, France, Japan",
            "United States, France, United Kingdom, Japan",
            "United States, Germany, Australia",
            "United States, Germany, United Kingdom",
            "United States, India",
            "United States, India, South Korea, China",
            "United States, India, United Arab Emirates",
            "United States, Ireland",
            "United States, Italy",
            "United States, Italy, United Kingdom, Liechtenstein",
            "United States, Malta, United Kingdom",
            "United States, Mexico, Spain, Malta",
            "United States, Morocco",
            "United States, New Zealand, United Kingdom",
            "United States, South Korea, Japan",
            "United States, Spain",
            "United States, Spain, Chile, Peru",
            "United States, Spain, Colombia, Mexico",
            "United States, Spain, Germany",
            "United States, Spain, Italy",
            "United States, Sweden",
            "United States, Taiwan",
            "United States, United Kingdom, Canada",
            "United States, United Kingdom, France",
            "United States, United Kingdom, Germany",
            "United States, United Kingdom, Italy",
            "Uruguay, Spain, Mexico",
            "Vietnam"
           ],
           "name": "",
           "type": "choropleth",
           "z": [
            812,
            230,
            116,
            67,
            58,
            49,
            47,
            46,
            40,
            34,
            31,
            26,
            22,
            21,
            21,
            19,
            19,
            17,
            16,
            16,
            15,
            14,
            13,
            11,
            9,
            9,
            9,
            8,
            8,
            8,
            7,
            7,
            6,
            6,
            6,
            5,
            5,
            5,
            5,
            5,
            5,
            4,
            4,
            4,
            4,
            4,
            4,
            3,
            3,
            3,
            3,
            3,
            3,
            3,
            3,
            3,
            2,
            2,
            2,
            2,
            2,
            2,
            2,
            2,
            2,
            2,
            2,
            2,
            2,
            2,
            2,
            2,
            2,
            2,
            1,
            1,
            1,
            1,
            1,
            1,
            1,
            1,
            1,
            1,
            1,
            1,
            1,
            1,
            1,
            1,
            1,
            1,
            1,
            1,
            1,
            1,
            1,
            1,
            1,
            1,
            1,
            1,
            1,
            1,
            1,
            1,
            1,
            1,
            1,
            1,
            1,
            1,
            1,
            1,
            1,
            1,
            1,
            1,
            1,
            1,
            1,
            1,
            1,
            1,
            1,
            1,
            1,
            1,
            1,
            1,
            1,
            1,
            1,
            1,
            1,
            1,
            1,
            1,
            1,
            1,
            1,
            1,
            1,
            1,
            1,
            1,
            1,
            1,
            1,
            1,
            1,
            1,
            1,
            1,
            1,
            1,
            1,
            1,
            1,
            1,
            1,
            1,
            1,
            1,
            1,
            1,
            1,
            1,
            1,
            1,
            1,
            1,
            1,
            1,
            1,
            1,
            1,
            1,
            1,
            1,
            1,
            1,
            1,
            1,
            1,
            1,
            1,
            1,
            1,
            1,
            1,
            1,
            1,
            1,
            1,
            1,
            1,
            1,
            1,
            1,
            1,
            1,
            1,
            1,
            1,
            1,
            1,
            1,
            1,
            1,
            1,
            1,
            1,
            1,
            1,
            1,
            1,
            1,
            1,
            1,
            1,
            1,
            1,
            1,
            1,
            1,
            1,
            1,
            1,
            1,
            1,
            1,
            1,
            1,
            1,
            1,
            1,
            1,
            1,
            1,
            1,
            1,
            1,
            1
           ]
          }
         ],
         "name": "2019.0"
        },
        {
         "data": [
          {
           "coloraxis": "coloraxis",
           "geo": "geo",
           "hoverlabel": {
            "namelength": 0
           },
           "hovertemplate": "year=2020.0<br>country=%{location}<br>counts=%{z}",
           "locationmode": "country names",
           "locations": [
            "United States",
            "India",
            "United Kingdom",
            "United Kingdom, United States",
            "Japan",
            "Canada",
            "United States, Germany",
            "United States, Canada",
            "United States, United Kingdom",
            "Mexico",
            "New Zealand, United States",
            "Spain",
            "United States, Australia",
            "United States, Japan",
            "Australia, United Kingdom",
            "Austria",
            "Belgium",
            "Brazil, France, Germany",
            "China",
            "France",
            "Germany, France, United States, Canada, United Kingdom",
            "Germany, United States",
            "Germany, United States, United Kingdom, Canada",
            "Indonesia",
            "Indonesia, South Korea, Singapore",
            "Mexico, Spain",
            "Netherlands, Germany, Italy, Canada",
            "Poland",
            "Russia",
            "South Africa, United States",
            "South Korea",
            "South Korea, United States",
            "United Kingdom, France, United States",
            "United Kingdom, Japan, United States",
            "United States, Canada, France",
            "United States, Canada, Germany",
            "United States, East Germany, West Germany",
            "United States, France, Italy, United Kingdom",
            "United States, France, Mexico",
            "United States, Germany, Mexico",
            "United States, Germany, United Kingdom",
            "United States, Germany, United Kingdom, Italy",
            "United States, Hong Kong",
            "United States, India",
            "United States, India, Malaysia, Taiwan, Canada, United Kingdom",
            "United States, South Korea",
            "United States, United Kingdom, Canada",
            "United States, United Kingdom, France, Germany, Japan"
           ],
           "name": "",
           "type": "choropleth",
           "z": [
            84,
            7,
            6,
            6,
            5,
            4,
            4,
            3,
            3,
            2,
            2,
            2,
            2,
            2,
            1,
            1,
            1,
            1,
            1,
            1,
            1,
            1,
            1,
            1,
            1,
            1,
            1,
            1,
            1,
            1,
            1,
            1,
            1,
            1,
            1,
            1,
            1,
            1,
            1,
            1,
            1,
            1,
            1,
            1,
            1,
            1,
            1,
            1
           ]
          }
         ],
         "name": "2020.0"
        }
       ],
       "layout": {
        "coloraxis": {
         "cmax": 200,
         "cmin": 0,
         "colorbar": {
          "title": {
           "text": "counts"
          }
         },
         "colorscale": [
          [
           0,
           "rgb(255,247,236)"
          ],
          [
           0.125,
           "rgb(254,232,200)"
          ],
          [
           0.25,
           "rgb(253,212,158)"
          ],
          [
           0.375,
           "rgb(253,187,132)"
          ],
          [
           0.5,
           "rgb(252,141,89)"
          ],
          [
           0.625,
           "rgb(239,101,72)"
          ],
          [
           0.75,
           "rgb(215,48,31)"
          ],
          [
           0.875,
           "rgb(179,0,0)"
          ],
          [
           1,
           "rgb(127,0,0)"
          ]
         ]
        },
        "geo": {
         "center": {},
         "domain": {
          "x": [
           0,
           1
          ],
          "y": [
           0,
           1
          ]
         }
        },
        "legend": {
         "tracegroupgap": 0
        },
        "margin": {
         "t": 60
        },
        "sliders": [
         {
          "active": 0,
          "currentvalue": {
           "prefix": "year="
          },
          "len": 0.9,
          "pad": {
           "b": 10,
           "t": 60
          },
          "steps": [
           {
            "args": [
             [
              "2008.0"
             ],
             {
              "frame": {
               "duration": 0,
               "redraw": true
              },
              "fromcurrent": true,
              "mode": "immediate",
              "transition": {
               "duration": 0,
               "easing": "linear"
              }
             }
            ],
            "label": "2008.0",
            "method": "animate"
           },
           {
            "args": [
             [
              "2009.0"
             ],
             {
              "frame": {
               "duration": 0,
               "redraw": true
              },
              "fromcurrent": true,
              "mode": "immediate",
              "transition": {
               "duration": 0,
               "easing": "linear"
              }
             }
            ],
            "label": "2009.0",
            "method": "animate"
           },
           {
            "args": [
             [
              "2010.0"
             ],
             {
              "frame": {
               "duration": 0,
               "redraw": true
              },
              "fromcurrent": true,
              "mode": "immediate",
              "transition": {
               "duration": 0,
               "easing": "linear"
              }
             }
            ],
            "label": "2010.0",
            "method": "animate"
           },
           {
            "args": [
             [
              "2011.0"
             ],
             {
              "frame": {
               "duration": 0,
               "redraw": true
              },
              "fromcurrent": true,
              "mode": "immediate",
              "transition": {
               "duration": 0,
               "easing": "linear"
              }
             }
            ],
            "label": "2011.0",
            "method": "animate"
           },
           {
            "args": [
             [
              "2012.0"
             ],
             {
              "frame": {
               "duration": 0,
               "redraw": true
              },
              "fromcurrent": true,
              "mode": "immediate",
              "transition": {
               "duration": 0,
               "easing": "linear"
              }
             }
            ],
            "label": "2012.0",
            "method": "animate"
           },
           {
            "args": [
             [
              "2013.0"
             ],
             {
              "frame": {
               "duration": 0,
               "redraw": true
              },
              "fromcurrent": true,
              "mode": "immediate",
              "transition": {
               "duration": 0,
               "easing": "linear"
              }
             }
            ],
            "label": "2013.0",
            "method": "animate"
           },
           {
            "args": [
             [
              "2014.0"
             ],
             {
              "frame": {
               "duration": 0,
               "redraw": true
              },
              "fromcurrent": true,
              "mode": "immediate",
              "transition": {
               "duration": 0,
               "easing": "linear"
              }
             }
            ],
            "label": "2014.0",
            "method": "animate"
           },
           {
            "args": [
             [
              "2015.0"
             ],
             {
              "frame": {
               "duration": 0,
               "redraw": true
              },
              "fromcurrent": true,
              "mode": "immediate",
              "transition": {
               "duration": 0,
               "easing": "linear"
              }
             }
            ],
            "label": "2015.0",
            "method": "animate"
           },
           {
            "args": [
             [
              "2016.0"
             ],
             {
              "frame": {
               "duration": 0,
               "redraw": true
              },
              "fromcurrent": true,
              "mode": "immediate",
              "transition": {
               "duration": 0,
               "easing": "linear"
              }
             }
            ],
            "label": "2016.0",
            "method": "animate"
           },
           {
            "args": [
             [
              "2017.0"
             ],
             {
              "frame": {
               "duration": 0,
               "redraw": true
              },
              "fromcurrent": true,
              "mode": "immediate",
              "transition": {
               "duration": 0,
               "easing": "linear"
              }
             }
            ],
            "label": "2017.0",
            "method": "animate"
           },
           {
            "args": [
             [
              "2018.0"
             ],
             {
              "frame": {
               "duration": 0,
               "redraw": true
              },
              "fromcurrent": true,
              "mode": "immediate",
              "transition": {
               "duration": 0,
               "easing": "linear"
              }
             }
            ],
            "label": "2018.0",
            "method": "animate"
           },
           {
            "args": [
             [
              "2019.0"
             ],
             {
              "frame": {
               "duration": 0,
               "redraw": true
              },
              "fromcurrent": true,
              "mode": "immediate",
              "transition": {
               "duration": 0,
               "easing": "linear"
              }
             }
            ],
            "label": "2019.0",
            "method": "animate"
           },
           {
            "args": [
             [
              "2020.0"
             ],
             {
              "frame": {
               "duration": 0,
               "redraw": true
              },
              "fromcurrent": true,
              "mode": "immediate",
              "transition": {
               "duration": 0,
               "easing": "linear"
              }
             }
            ],
            "label": "2020.0",
            "method": "animate"
           }
          ],
          "x": 0.1,
          "xanchor": "left",
          "y": 0,
          "yanchor": "top"
         }
        ],
        "template": {
         "data": {
          "bar": [
           {
            "error_x": {
             "color": "#2a3f5f"
            },
            "error_y": {
             "color": "#2a3f5f"
            },
            "marker": {
             "line": {
              "color": "#E5ECF6",
              "width": 0.5
             }
            },
            "type": "bar"
           }
          ],
          "barpolar": [
           {
            "marker": {
             "line": {
              "color": "#E5ECF6",
              "width": 0.5
             }
            },
            "type": "barpolar"
           }
          ],
          "carpet": [
           {
            "aaxis": {
             "endlinecolor": "#2a3f5f",
             "gridcolor": "white",
             "linecolor": "white",
             "minorgridcolor": "white",
             "startlinecolor": "#2a3f5f"
            },
            "baxis": {
             "endlinecolor": "#2a3f5f",
             "gridcolor": "white",
             "linecolor": "white",
             "minorgridcolor": "white",
             "startlinecolor": "#2a3f5f"
            },
            "type": "carpet"
           }
          ],
          "choropleth": [
           {
            "colorbar": {
             "outlinewidth": 0,
             "ticks": ""
            },
            "type": "choropleth"
           }
          ],
          "contour": [
           {
            "colorbar": {
             "outlinewidth": 0,
             "ticks": ""
            },
            "colorscale": [
             [
              0,
              "#0d0887"
             ],
             [
              0.1111111111111111,
              "#46039f"
             ],
             [
              0.2222222222222222,
              "#7201a8"
             ],
             [
              0.3333333333333333,
              "#9c179e"
             ],
             [
              0.4444444444444444,
              "#bd3786"
             ],
             [
              0.5555555555555556,
              "#d8576b"
             ],
             [
              0.6666666666666666,
              "#ed7953"
             ],
             [
              0.7777777777777778,
              "#fb9f3a"
             ],
             [
              0.8888888888888888,
              "#fdca26"
             ],
             [
              1,
              "#f0f921"
             ]
            ],
            "type": "contour"
           }
          ],
          "contourcarpet": [
           {
            "colorbar": {
             "outlinewidth": 0,
             "ticks": ""
            },
            "type": "contourcarpet"
           }
          ],
          "heatmap": [
           {
            "colorbar": {
             "outlinewidth": 0,
             "ticks": ""
            },
            "colorscale": [
             [
              0,
              "#0d0887"
             ],
             [
              0.1111111111111111,
              "#46039f"
             ],
             [
              0.2222222222222222,
              "#7201a8"
             ],
             [
              0.3333333333333333,
              "#9c179e"
             ],
             [
              0.4444444444444444,
              "#bd3786"
             ],
             [
              0.5555555555555556,
              "#d8576b"
             ],
             [
              0.6666666666666666,
              "#ed7953"
             ],
             [
              0.7777777777777778,
              "#fb9f3a"
             ],
             [
              0.8888888888888888,
              "#fdca26"
             ],
             [
              1,
              "#f0f921"
             ]
            ],
            "type": "heatmap"
           }
          ],
          "heatmapgl": [
           {
            "colorbar": {
             "outlinewidth": 0,
             "ticks": ""
            },
            "colorscale": [
             [
              0,
              "#0d0887"
             ],
             [
              0.1111111111111111,
              "#46039f"
             ],
             [
              0.2222222222222222,
              "#7201a8"
             ],
             [
              0.3333333333333333,
              "#9c179e"
             ],
             [
              0.4444444444444444,
              "#bd3786"
             ],
             [
              0.5555555555555556,
              "#d8576b"
             ],
             [
              0.6666666666666666,
              "#ed7953"
             ],
             [
              0.7777777777777778,
              "#fb9f3a"
             ],
             [
              0.8888888888888888,
              "#fdca26"
             ],
             [
              1,
              "#f0f921"
             ]
            ],
            "type": "heatmapgl"
           }
          ],
          "histogram": [
           {
            "marker": {
             "colorbar": {
              "outlinewidth": 0,
              "ticks": ""
             }
            },
            "type": "histogram"
           }
          ],
          "histogram2d": [
           {
            "colorbar": {
             "outlinewidth": 0,
             "ticks": ""
            },
            "colorscale": [
             [
              0,
              "#0d0887"
             ],
             [
              0.1111111111111111,
              "#46039f"
             ],
             [
              0.2222222222222222,
              "#7201a8"
             ],
             [
              0.3333333333333333,
              "#9c179e"
             ],
             [
              0.4444444444444444,
              "#bd3786"
             ],
             [
              0.5555555555555556,
              "#d8576b"
             ],
             [
              0.6666666666666666,
              "#ed7953"
             ],
             [
              0.7777777777777778,
              "#fb9f3a"
             ],
             [
              0.8888888888888888,
              "#fdca26"
             ],
             [
              1,
              "#f0f921"
             ]
            ],
            "type": "histogram2d"
           }
          ],
          "histogram2dcontour": [
           {
            "colorbar": {
             "outlinewidth": 0,
             "ticks": ""
            },
            "colorscale": [
             [
              0,
              "#0d0887"
             ],
             [
              0.1111111111111111,
              "#46039f"
             ],
             [
              0.2222222222222222,
              "#7201a8"
             ],
             [
              0.3333333333333333,
              "#9c179e"
             ],
             [
              0.4444444444444444,
              "#bd3786"
             ],
             [
              0.5555555555555556,
              "#d8576b"
             ],
             [
              0.6666666666666666,
              "#ed7953"
             ],
             [
              0.7777777777777778,
              "#fb9f3a"
             ],
             [
              0.8888888888888888,
              "#fdca26"
             ],
             [
              1,
              "#f0f921"
             ]
            ],
            "type": "histogram2dcontour"
           }
          ],
          "mesh3d": [
           {
            "colorbar": {
             "outlinewidth": 0,
             "ticks": ""
            },
            "type": "mesh3d"
           }
          ],
          "parcoords": [
           {
            "line": {
             "colorbar": {
              "outlinewidth": 0,
              "ticks": ""
             }
            },
            "type": "parcoords"
           }
          ],
          "pie": [
           {
            "automargin": true,
            "type": "pie"
           }
          ],
          "scatter": [
           {
            "marker": {
             "colorbar": {
              "outlinewidth": 0,
              "ticks": ""
             }
            },
            "type": "scatter"
           }
          ],
          "scatter3d": [
           {
            "line": {
             "colorbar": {
              "outlinewidth": 0,
              "ticks": ""
             }
            },
            "marker": {
             "colorbar": {
              "outlinewidth": 0,
              "ticks": ""
             }
            },
            "type": "scatter3d"
           }
          ],
          "scattercarpet": [
           {
            "marker": {
             "colorbar": {
              "outlinewidth": 0,
              "ticks": ""
             }
            },
            "type": "scattercarpet"
           }
          ],
          "scattergeo": [
           {
            "marker": {
             "colorbar": {
              "outlinewidth": 0,
              "ticks": ""
             }
            },
            "type": "scattergeo"
           }
          ],
          "scattergl": [
           {
            "marker": {
             "colorbar": {
              "outlinewidth": 0,
              "ticks": ""
             }
            },
            "type": "scattergl"
           }
          ],
          "scattermapbox": [
           {
            "marker": {
             "colorbar": {
              "outlinewidth": 0,
              "ticks": ""
             }
            },
            "type": "scattermapbox"
           }
          ],
          "scatterpolar": [
           {
            "marker": {
             "colorbar": {
              "outlinewidth": 0,
              "ticks": ""
             }
            },
            "type": "scatterpolar"
           }
          ],
          "scatterpolargl": [
           {
            "marker": {
             "colorbar": {
              "outlinewidth": 0,
              "ticks": ""
             }
            },
            "type": "scatterpolargl"
           }
          ],
          "scatterternary": [
           {
            "marker": {
             "colorbar": {
              "outlinewidth": 0,
              "ticks": ""
             }
            },
            "type": "scatterternary"
           }
          ],
          "surface": [
           {
            "colorbar": {
             "outlinewidth": 0,
             "ticks": ""
            },
            "colorscale": [
             [
              0,
              "#0d0887"
             ],
             [
              0.1111111111111111,
              "#46039f"
             ],
             [
              0.2222222222222222,
              "#7201a8"
             ],
             [
              0.3333333333333333,
              "#9c179e"
             ],
             [
              0.4444444444444444,
              "#bd3786"
             ],
             [
              0.5555555555555556,
              "#d8576b"
             ],
             [
              0.6666666666666666,
              "#ed7953"
             ],
             [
              0.7777777777777778,
              "#fb9f3a"
             ],
             [
              0.8888888888888888,
              "#fdca26"
             ],
             [
              1,
              "#f0f921"
             ]
            ],
            "type": "surface"
           }
          ],
          "table": [
           {
            "cells": {
             "fill": {
              "color": "#EBF0F8"
             },
             "line": {
              "color": "white"
             }
            },
            "header": {
             "fill": {
              "color": "#C8D4E3"
             },
             "line": {
              "color": "white"
             }
            },
            "type": "table"
           }
          ]
         },
         "layout": {
          "annotationdefaults": {
           "arrowcolor": "#2a3f5f",
           "arrowhead": 0,
           "arrowwidth": 1
          },
          "coloraxis": {
           "colorbar": {
            "outlinewidth": 0,
            "ticks": ""
           }
          },
          "colorscale": {
           "diverging": [
            [
             0,
             "#8e0152"
            ],
            [
             0.1,
             "#c51b7d"
            ],
            [
             0.2,
             "#de77ae"
            ],
            [
             0.3,
             "#f1b6da"
            ],
            [
             0.4,
             "#fde0ef"
            ],
            [
             0.5,
             "#f7f7f7"
            ],
            [
             0.6,
             "#e6f5d0"
            ],
            [
             0.7,
             "#b8e186"
            ],
            [
             0.8,
             "#7fbc41"
            ],
            [
             0.9,
             "#4d9221"
            ],
            [
             1,
             "#276419"
            ]
           ],
           "sequential": [
            [
             0,
             "#0d0887"
            ],
            [
             0.1111111111111111,
             "#46039f"
            ],
            [
             0.2222222222222222,
             "#7201a8"
            ],
            [
             0.3333333333333333,
             "#9c179e"
            ],
            [
             0.4444444444444444,
             "#bd3786"
            ],
            [
             0.5555555555555556,
             "#d8576b"
            ],
            [
             0.6666666666666666,
             "#ed7953"
            ],
            [
             0.7777777777777778,
             "#fb9f3a"
            ],
            [
             0.8888888888888888,
             "#fdca26"
            ],
            [
             1,
             "#f0f921"
            ]
           ],
           "sequentialminus": [
            [
             0,
             "#0d0887"
            ],
            [
             0.1111111111111111,
             "#46039f"
            ],
            [
             0.2222222222222222,
             "#7201a8"
            ],
            [
             0.3333333333333333,
             "#9c179e"
            ],
            [
             0.4444444444444444,
             "#bd3786"
            ],
            [
             0.5555555555555556,
             "#d8576b"
            ],
            [
             0.6666666666666666,
             "#ed7953"
            ],
            [
             0.7777777777777778,
             "#fb9f3a"
            ],
            [
             0.8888888888888888,
             "#fdca26"
            ],
            [
             1,
             "#f0f921"
            ]
           ]
          },
          "colorway": [
           "#636efa",
           "#EF553B",
           "#00cc96",
           "#ab63fa",
           "#FFA15A",
           "#19d3f3",
           "#FF6692",
           "#B6E880",
           "#FF97FF",
           "#FECB52"
          ],
          "font": {
           "color": "#2a3f5f"
          },
          "geo": {
           "bgcolor": "white",
           "lakecolor": "white",
           "landcolor": "#E5ECF6",
           "showlakes": true,
           "showland": true,
           "subunitcolor": "white"
          },
          "hoverlabel": {
           "align": "left"
          },
          "hovermode": "closest",
          "mapbox": {
           "style": "light"
          },
          "paper_bgcolor": "white",
          "plot_bgcolor": "#E5ECF6",
          "polar": {
           "angularaxis": {
            "gridcolor": "white",
            "linecolor": "white",
            "ticks": ""
           },
           "bgcolor": "#E5ECF6",
           "radialaxis": {
            "gridcolor": "white",
            "linecolor": "white",
            "ticks": ""
           }
          },
          "scene": {
           "xaxis": {
            "backgroundcolor": "#E5ECF6",
            "gridcolor": "white",
            "gridwidth": 2,
            "linecolor": "white",
            "showbackground": true,
            "ticks": "",
            "zerolinecolor": "white"
           },
           "yaxis": {
            "backgroundcolor": "#E5ECF6",
            "gridcolor": "white",
            "gridwidth": 2,
            "linecolor": "white",
            "showbackground": true,
            "ticks": "",
            "zerolinecolor": "white"
           },
           "zaxis": {
            "backgroundcolor": "#E5ECF6",
            "gridcolor": "white",
            "gridwidth": 2,
            "linecolor": "white",
            "showbackground": true,
            "ticks": "",
            "zerolinecolor": "white"
           }
          },
          "shapedefaults": {
           "line": {
            "color": "#2a3f5f"
           }
          },
          "ternary": {
           "aaxis": {
            "gridcolor": "white",
            "linecolor": "white",
            "ticks": ""
           },
           "baxis": {
            "gridcolor": "white",
            "linecolor": "white",
            "ticks": ""
           },
           "bgcolor": "#E5ECF6",
           "caxis": {
            "gridcolor": "white",
            "linecolor": "white",
            "ticks": ""
           }
          },
          "title": {
           "x": 0.05
          },
          "xaxis": {
           "automargin": true,
           "gridcolor": "white",
           "linecolor": "white",
           "ticks": "",
           "title": {
            "standoff": 15
           },
           "zerolinecolor": "white",
           "zerolinewidth": 2
          },
          "yaxis": {
           "automargin": true,
           "gridcolor": "white",
           "linecolor": "white",
           "ticks": "",
           "title": {
            "standoff": 15
           },
           "zerolinecolor": "white",
           "zerolinewidth": 2
          }
         }
        },
        "title": {
         "text": "Yearly Comparison by Country"
        },
        "updatemenus": [
         {
          "buttons": [
           {
            "args": [
             null,
             {
              "frame": {
               "duration": 500,
               "redraw": true
              },
              "fromcurrent": true,
              "mode": "immediate",
              "transition": {
               "duration": 500,
               "easing": "linear"
              }
             }
            ],
            "label": "&#9654;",
            "method": "animate"
           },
           {
            "args": [
             [
              null
             ],
             {
              "frame": {
               "duration": 0,
               "redraw": true
              },
              "fromcurrent": true,
              "mode": "immediate",
              "transition": {
               "duration": 0,
               "easing": "linear"
              }
             }
            ],
            "label": "&#9724;",
            "method": "animate"
           }
          ],
          "direction": "left",
          "pad": {
           "r": 10,
           "t": 70
          },
          "showactive": false,
          "type": "buttons",
          "x": 0.1,
          "xanchor": "right",
          "y": 0,
          "yanchor": "top"
         }
        ]
       }
      },
      "text/html": [
       "<div>\n",
       "        \n",
       "        \n",
       "            <div id=\"a61d99e2-1638-49c5-ad53-8078a80ce311\" class=\"plotly-graph-div\" style=\"height:525px; width:100%;\"></div>\n",
       "            <script type=\"text/javascript\">\n",
       "                require([\"plotly\"], function(Plotly) {\n",
       "                    window.PLOTLYENV=window.PLOTLYENV || {};\n",
       "                    \n",
       "                if (document.getElementById(\"a61d99e2-1638-49c5-ad53-8078a80ce311\")) {\n",
       "                    Plotly.newPlot(\n",
       "                        'a61d99e2-1638-49c5-ad53-8078a80ce311',\n",
       "                        [{\"coloraxis\": \"coloraxis\", \"geo\": \"geo\", \"hoverlabel\": {\"namelength\": 0}, \"hovertemplate\": \"year=2008.0<br>country=%{location}<br>counts=%{z}\", \"locationmode\": \"country names\", \"locations\": [\"United States\"], \"name\": \"\", \"type\": \"choropleth\", \"z\": [2]}],\n",
       "                        {\"coloraxis\": {\"cmax\": 200, \"cmin\": 0, \"colorbar\": {\"title\": {\"text\": \"counts\"}}, \"colorscale\": [[0.0, \"rgb(255,247,236)\"], [0.125, \"rgb(254,232,200)\"], [0.25, \"rgb(253,212,158)\"], [0.375, \"rgb(253,187,132)\"], [0.5, \"rgb(252,141,89)\"], [0.625, \"rgb(239,101,72)\"], [0.75, \"rgb(215,48,31)\"], [0.875, \"rgb(179,0,0)\"], [1.0, \"rgb(127,0,0)\"]]}, \"geo\": {\"center\": {}, \"domain\": {\"x\": [0.0, 1.0], \"y\": [0.0, 1.0]}}, \"legend\": {\"tracegroupgap\": 0}, \"margin\": {\"t\": 60}, \"sliders\": [{\"active\": 0, \"currentvalue\": {\"prefix\": \"year=\"}, \"len\": 0.9, \"pad\": {\"b\": 10, \"t\": 60}, \"steps\": [{\"args\": [[\"2008.0\"], {\"frame\": {\"duration\": 0, \"redraw\": true}, \"fromcurrent\": true, \"mode\": \"immediate\", \"transition\": {\"duration\": 0, \"easing\": \"linear\"}}], \"label\": \"2008.0\", \"method\": \"animate\"}, {\"args\": [[\"2009.0\"], {\"frame\": {\"duration\": 0, \"redraw\": true}, \"fromcurrent\": true, \"mode\": \"immediate\", \"transition\": {\"duration\": 0, \"easing\": \"linear\"}}], \"label\": \"2009.0\", \"method\": \"animate\"}, {\"args\": [[\"2010.0\"], {\"frame\": {\"duration\": 0, \"redraw\": true}, \"fromcurrent\": true, \"mode\": \"immediate\", \"transition\": {\"duration\": 0, \"easing\": \"linear\"}}], \"label\": \"2010.0\", \"method\": \"animate\"}, {\"args\": [[\"2011.0\"], {\"frame\": {\"duration\": 0, \"redraw\": true}, \"fromcurrent\": true, \"mode\": \"immediate\", \"transition\": {\"duration\": 0, \"easing\": \"linear\"}}], \"label\": \"2011.0\", \"method\": \"animate\"}, {\"args\": [[\"2012.0\"], {\"frame\": {\"duration\": 0, \"redraw\": true}, \"fromcurrent\": true, \"mode\": \"immediate\", \"transition\": {\"duration\": 0, \"easing\": \"linear\"}}], \"label\": \"2012.0\", \"method\": \"animate\"}, {\"args\": [[\"2013.0\"], {\"frame\": {\"duration\": 0, \"redraw\": true}, \"fromcurrent\": true, \"mode\": \"immediate\", \"transition\": {\"duration\": 0, \"easing\": \"linear\"}}], \"label\": \"2013.0\", \"method\": \"animate\"}, {\"args\": [[\"2014.0\"], {\"frame\": {\"duration\": 0, \"redraw\": true}, \"fromcurrent\": true, \"mode\": \"immediate\", \"transition\": {\"duration\": 0, \"easing\": \"linear\"}}], \"label\": \"2014.0\", \"method\": \"animate\"}, {\"args\": [[\"2015.0\"], {\"frame\": {\"duration\": 0, \"redraw\": true}, \"fromcurrent\": true, \"mode\": \"immediate\", \"transition\": {\"duration\": 0, \"easing\": \"linear\"}}], \"label\": \"2015.0\", \"method\": \"animate\"}, {\"args\": [[\"2016.0\"], {\"frame\": {\"duration\": 0, \"redraw\": true}, \"fromcurrent\": true, \"mode\": \"immediate\", \"transition\": {\"duration\": 0, \"easing\": \"linear\"}}], \"label\": \"2016.0\", \"method\": \"animate\"}, {\"args\": [[\"2017.0\"], {\"frame\": {\"duration\": 0, \"redraw\": true}, \"fromcurrent\": true, \"mode\": \"immediate\", \"transition\": {\"duration\": 0, \"easing\": \"linear\"}}], \"label\": \"2017.0\", \"method\": \"animate\"}, {\"args\": [[\"2018.0\"], {\"frame\": {\"duration\": 0, \"redraw\": true}, \"fromcurrent\": true, \"mode\": \"immediate\", \"transition\": {\"duration\": 0, \"easing\": \"linear\"}}], \"label\": \"2018.0\", \"method\": \"animate\"}, {\"args\": [[\"2019.0\"], {\"frame\": {\"duration\": 0, \"redraw\": true}, \"fromcurrent\": true, \"mode\": \"immediate\", \"transition\": {\"duration\": 0, \"easing\": \"linear\"}}], \"label\": \"2019.0\", \"method\": \"animate\"}, {\"args\": [[\"2020.0\"], {\"frame\": {\"duration\": 0, \"redraw\": true}, \"fromcurrent\": true, \"mode\": \"immediate\", \"transition\": {\"duration\": 0, \"easing\": \"linear\"}}], \"label\": \"2020.0\", \"method\": \"animate\"}], \"x\": 0.1, \"xanchor\": \"left\", \"y\": 0, \"yanchor\": \"top\"}], \"template\": {\"data\": {\"bar\": [{\"error_x\": {\"color\": \"#2a3f5f\"}, \"error_y\": {\"color\": \"#2a3f5f\"}, \"marker\": {\"line\": {\"color\": \"#E5ECF6\", \"width\": 0.5}}, \"type\": \"bar\"}], \"barpolar\": [{\"marker\": {\"line\": {\"color\": \"#E5ECF6\", \"width\": 0.5}}, \"type\": \"barpolar\"}], \"carpet\": [{\"aaxis\": {\"endlinecolor\": \"#2a3f5f\", \"gridcolor\": \"white\", \"linecolor\": \"white\", \"minorgridcolor\": \"white\", \"startlinecolor\": \"#2a3f5f\"}, \"baxis\": {\"endlinecolor\": \"#2a3f5f\", \"gridcolor\": \"white\", \"linecolor\": \"white\", \"minorgridcolor\": \"white\", \"startlinecolor\": \"#2a3f5f\"}, \"type\": \"carpet\"}], \"choropleth\": [{\"colorbar\": {\"outlinewidth\": 0, \"ticks\": \"\"}, \"type\": \"choropleth\"}], \"contour\": [{\"colorbar\": {\"outlinewidth\": 0, \"ticks\": \"\"}, \"colorscale\": [[0.0, \"#0d0887\"], [0.1111111111111111, \"#46039f\"], [0.2222222222222222, \"#7201a8\"], [0.3333333333333333, \"#9c179e\"], [0.4444444444444444, \"#bd3786\"], [0.5555555555555556, \"#d8576b\"], [0.6666666666666666, \"#ed7953\"], [0.7777777777777778, \"#fb9f3a\"], [0.8888888888888888, \"#fdca26\"], [1.0, \"#f0f921\"]], \"type\": \"contour\"}], \"contourcarpet\": [{\"colorbar\": {\"outlinewidth\": 0, \"ticks\": \"\"}, \"type\": \"contourcarpet\"}], \"heatmap\": [{\"colorbar\": {\"outlinewidth\": 0, \"ticks\": \"\"}, \"colorscale\": [[0.0, \"#0d0887\"], [0.1111111111111111, \"#46039f\"], [0.2222222222222222, \"#7201a8\"], [0.3333333333333333, \"#9c179e\"], [0.4444444444444444, \"#bd3786\"], [0.5555555555555556, \"#d8576b\"], [0.6666666666666666, \"#ed7953\"], [0.7777777777777778, \"#fb9f3a\"], [0.8888888888888888, \"#fdca26\"], [1.0, \"#f0f921\"]], \"type\": \"heatmap\"}], \"heatmapgl\": [{\"colorbar\": {\"outlinewidth\": 0, \"ticks\": \"\"}, \"colorscale\": [[0.0, \"#0d0887\"], [0.1111111111111111, \"#46039f\"], [0.2222222222222222, \"#7201a8\"], [0.3333333333333333, \"#9c179e\"], [0.4444444444444444, \"#bd3786\"], [0.5555555555555556, \"#d8576b\"], [0.6666666666666666, \"#ed7953\"], [0.7777777777777778, \"#fb9f3a\"], [0.8888888888888888, \"#fdca26\"], [1.0, \"#f0f921\"]], \"type\": \"heatmapgl\"}], \"histogram\": [{\"marker\": {\"colorbar\": {\"outlinewidth\": 0, \"ticks\": \"\"}}, \"type\": \"histogram\"}], \"histogram2d\": [{\"colorbar\": {\"outlinewidth\": 0, \"ticks\": \"\"}, \"colorscale\": [[0.0, \"#0d0887\"], [0.1111111111111111, \"#46039f\"], [0.2222222222222222, \"#7201a8\"], [0.3333333333333333, \"#9c179e\"], [0.4444444444444444, \"#bd3786\"], [0.5555555555555556, \"#d8576b\"], [0.6666666666666666, \"#ed7953\"], [0.7777777777777778, \"#fb9f3a\"], [0.8888888888888888, \"#fdca26\"], [1.0, \"#f0f921\"]], \"type\": \"histogram2d\"}], \"histogram2dcontour\": [{\"colorbar\": {\"outlinewidth\": 0, \"ticks\": \"\"}, \"colorscale\": [[0.0, \"#0d0887\"], [0.1111111111111111, \"#46039f\"], [0.2222222222222222, \"#7201a8\"], [0.3333333333333333, \"#9c179e\"], [0.4444444444444444, \"#bd3786\"], [0.5555555555555556, \"#d8576b\"], [0.6666666666666666, \"#ed7953\"], [0.7777777777777778, \"#fb9f3a\"], [0.8888888888888888, \"#fdca26\"], [1.0, \"#f0f921\"]], \"type\": \"histogram2dcontour\"}], \"mesh3d\": [{\"colorbar\": {\"outlinewidth\": 0, \"ticks\": \"\"}, \"type\": \"mesh3d\"}], \"parcoords\": [{\"line\": {\"colorbar\": {\"outlinewidth\": 0, \"ticks\": \"\"}}, \"type\": \"parcoords\"}], \"pie\": [{\"automargin\": true, \"type\": \"pie\"}], \"scatter\": [{\"marker\": {\"colorbar\": {\"outlinewidth\": 0, \"ticks\": \"\"}}, \"type\": \"scatter\"}], \"scatter3d\": [{\"line\": {\"colorbar\": {\"outlinewidth\": 0, \"ticks\": \"\"}}, \"marker\": {\"colorbar\": {\"outlinewidth\": 0, \"ticks\": \"\"}}, \"type\": \"scatter3d\"}], \"scattercarpet\": [{\"marker\": {\"colorbar\": {\"outlinewidth\": 0, \"ticks\": \"\"}}, \"type\": \"scattercarpet\"}], \"scattergeo\": [{\"marker\": {\"colorbar\": {\"outlinewidth\": 0, \"ticks\": \"\"}}, \"type\": \"scattergeo\"}], \"scattergl\": [{\"marker\": {\"colorbar\": {\"outlinewidth\": 0, \"ticks\": \"\"}}, \"type\": \"scattergl\"}], \"scattermapbox\": [{\"marker\": {\"colorbar\": {\"outlinewidth\": 0, \"ticks\": \"\"}}, \"type\": \"scattermapbox\"}], \"scatterpolar\": [{\"marker\": {\"colorbar\": {\"outlinewidth\": 0, \"ticks\": \"\"}}, \"type\": \"scatterpolar\"}], \"scatterpolargl\": [{\"marker\": {\"colorbar\": {\"outlinewidth\": 0, \"ticks\": \"\"}}, \"type\": \"scatterpolargl\"}], \"scatterternary\": [{\"marker\": {\"colorbar\": {\"outlinewidth\": 0, \"ticks\": \"\"}}, \"type\": \"scatterternary\"}], \"surface\": [{\"colorbar\": {\"outlinewidth\": 0, \"ticks\": \"\"}, \"colorscale\": [[0.0, \"#0d0887\"], [0.1111111111111111, \"#46039f\"], [0.2222222222222222, \"#7201a8\"], [0.3333333333333333, \"#9c179e\"], [0.4444444444444444, \"#bd3786\"], [0.5555555555555556, \"#d8576b\"], [0.6666666666666666, \"#ed7953\"], [0.7777777777777778, \"#fb9f3a\"], [0.8888888888888888, \"#fdca26\"], [1.0, \"#f0f921\"]], \"type\": \"surface\"}], \"table\": [{\"cells\": {\"fill\": {\"color\": \"#EBF0F8\"}, \"line\": {\"color\": \"white\"}}, \"header\": {\"fill\": {\"color\": \"#C8D4E3\"}, \"line\": {\"color\": \"white\"}}, \"type\": \"table\"}]}, \"layout\": {\"annotationdefaults\": {\"arrowcolor\": \"#2a3f5f\", \"arrowhead\": 0, \"arrowwidth\": 1}, \"coloraxis\": {\"colorbar\": {\"outlinewidth\": 0, \"ticks\": \"\"}}, \"colorscale\": {\"diverging\": [[0, \"#8e0152\"], [0.1, \"#c51b7d\"], [0.2, \"#de77ae\"], [0.3, \"#f1b6da\"], [0.4, \"#fde0ef\"], [0.5, \"#f7f7f7\"], [0.6, \"#e6f5d0\"], [0.7, \"#b8e186\"], [0.8, \"#7fbc41\"], [0.9, \"#4d9221\"], [1, \"#276419\"]], \"sequential\": [[0.0, \"#0d0887\"], [0.1111111111111111, \"#46039f\"], [0.2222222222222222, \"#7201a8\"], [0.3333333333333333, \"#9c179e\"], [0.4444444444444444, \"#bd3786\"], [0.5555555555555556, \"#d8576b\"], [0.6666666666666666, \"#ed7953\"], [0.7777777777777778, \"#fb9f3a\"], [0.8888888888888888, \"#fdca26\"], [1.0, \"#f0f921\"]], \"sequentialminus\": [[0.0, \"#0d0887\"], [0.1111111111111111, \"#46039f\"], [0.2222222222222222, \"#7201a8\"], [0.3333333333333333, \"#9c179e\"], [0.4444444444444444, \"#bd3786\"], [0.5555555555555556, \"#d8576b\"], [0.6666666666666666, \"#ed7953\"], [0.7777777777777778, \"#fb9f3a\"], [0.8888888888888888, \"#fdca26\"], [1.0, \"#f0f921\"]]}, \"colorway\": [\"#636efa\", \"#EF553B\", \"#00cc96\", \"#ab63fa\", \"#FFA15A\", \"#19d3f3\", \"#FF6692\", \"#B6E880\", \"#FF97FF\", \"#FECB52\"], \"font\": {\"color\": \"#2a3f5f\"}, \"geo\": {\"bgcolor\": \"white\", \"lakecolor\": \"white\", \"landcolor\": \"#E5ECF6\", \"showlakes\": true, \"showland\": true, \"subunitcolor\": \"white\"}, \"hoverlabel\": {\"align\": \"left\"}, \"hovermode\": \"closest\", \"mapbox\": {\"style\": \"light\"}, \"paper_bgcolor\": \"white\", \"plot_bgcolor\": \"#E5ECF6\", \"polar\": {\"angularaxis\": {\"gridcolor\": \"white\", \"linecolor\": \"white\", \"ticks\": \"\"}, \"bgcolor\": \"#E5ECF6\", \"radialaxis\": {\"gridcolor\": \"white\", \"linecolor\": \"white\", \"ticks\": \"\"}}, \"scene\": {\"xaxis\": {\"backgroundcolor\": \"#E5ECF6\", \"gridcolor\": \"white\", \"gridwidth\": 2, \"linecolor\": \"white\", \"showbackground\": true, \"ticks\": \"\", \"zerolinecolor\": \"white\"}, \"yaxis\": {\"backgroundcolor\": \"#E5ECF6\", \"gridcolor\": \"white\", \"gridwidth\": 2, \"linecolor\": \"white\", \"showbackground\": true, \"ticks\": \"\", \"zerolinecolor\": \"white\"}, \"zaxis\": {\"backgroundcolor\": \"#E5ECF6\", \"gridcolor\": \"white\", \"gridwidth\": 2, \"linecolor\": \"white\", \"showbackground\": true, \"ticks\": \"\", \"zerolinecolor\": \"white\"}}, \"shapedefaults\": {\"line\": {\"color\": \"#2a3f5f\"}}, \"ternary\": {\"aaxis\": {\"gridcolor\": \"white\", \"linecolor\": \"white\", \"ticks\": \"\"}, \"baxis\": {\"gridcolor\": \"white\", \"linecolor\": \"white\", \"ticks\": \"\"}, \"bgcolor\": \"#E5ECF6\", \"caxis\": {\"gridcolor\": \"white\", \"linecolor\": \"white\", \"ticks\": \"\"}}, \"title\": {\"x\": 0.05}, \"xaxis\": {\"automargin\": true, \"gridcolor\": \"white\", \"linecolor\": \"white\", \"ticks\": \"\", \"title\": {\"standoff\": 15}, \"zerolinecolor\": \"white\", \"zerolinewidth\": 2}, \"yaxis\": {\"automargin\": true, \"gridcolor\": \"white\", \"linecolor\": \"white\", \"ticks\": \"\", \"title\": {\"standoff\": 15}, \"zerolinecolor\": \"white\", \"zerolinewidth\": 2}}}, \"title\": {\"text\": \"Yearly Comparison by Country\"}, \"updatemenus\": [{\"buttons\": [{\"args\": [null, {\"frame\": {\"duration\": 500, \"redraw\": true}, \"fromcurrent\": true, \"mode\": \"immediate\", \"transition\": {\"duration\": 500, \"easing\": \"linear\"}}], \"label\": \"&#9654;\", \"method\": \"animate\"}, {\"args\": [[null], {\"frame\": {\"duration\": 0, \"redraw\": true}, \"fromcurrent\": true, \"mode\": \"immediate\", \"transition\": {\"duration\": 0, \"easing\": \"linear\"}}], \"label\": \"&#9724;\", \"method\": \"animate\"}], \"direction\": \"left\", \"pad\": {\"r\": 10, \"t\": 70}, \"showactive\": false, \"type\": \"buttons\", \"x\": 0.1, \"xanchor\": \"right\", \"y\": 0, \"yanchor\": \"top\"}]},\n",
       "                        {\"responsive\": true}\n",
       "                    ).then(function(){\n",
       "                            Plotly.addFrames('a61d99e2-1638-49c5-ad53-8078a80ce311', [{\"data\": [{\"coloraxis\": \"coloraxis\", \"geo\": \"geo\", \"hoverlabel\": {\"namelength\": 0}, \"hovertemplate\": \"year=2008.0<br>country=%{location}<br>counts=%{z}\", \"locationmode\": \"country names\", \"locations\": [\"United States\"], \"name\": \"\", \"z\": [2], \"type\": \"choropleth\"}], \"name\": \"2008.0\"}, {\"data\": [{\"coloraxis\": \"coloraxis\", \"geo\": \"geo\", \"hoverlabel\": {\"namelength\": 0}, \"hovertemplate\": \"year=2009.0<br>country=%{location}<br>counts=%{z}\", \"locationmode\": \"country names\", \"locations\": [\"Denmark\", \"United States\"], \"name\": \"\", \"z\": [1, 1], \"type\": \"choropleth\"}], \"name\": \"2009.0\"}, {\"data\": [{\"coloraxis\": \"coloraxis\", \"geo\": \"geo\", \"hoverlabel\": {\"namelength\": 0}, \"hovertemplate\": \"year=2010.0<br>country=%{location}<br>counts=%{z}\", \"locationmode\": \"country names\", \"locations\": [\"United States\"], \"name\": \"\", \"z\": [1], \"type\": \"choropleth\"}], \"name\": \"2010.0\"}, {\"data\": [{\"coloraxis\": \"coloraxis\", \"geo\": \"geo\", \"hoverlabel\": {\"namelength\": 0}, \"hovertemplate\": \"year=2011.0<br>country=%{location}<br>counts=%{z}\", \"locationmode\": \"country names\", \"locations\": [\"United States\", \"Spain, Mexico, France\"], \"name\": \"\", \"z\": [12, 1], \"type\": \"choropleth\"}], \"name\": \"2011.0\"}, {\"data\": [{\"coloraxis\": \"coloraxis\", \"geo\": \"geo\", \"hoverlabel\": {\"namelength\": 0}, \"hovertemplate\": \"year=2012.0<br>country=%{location}<br>counts=%{z}\", \"locationmode\": \"country names\", \"locations\": [\"United States\", \"United States, Mexico\"], \"name\": \"\", \"z\": [5, 1], \"type\": \"choropleth\"}], \"name\": \"2012.0\"}, {\"data\": [{\"coloraxis\": \"coloraxis\", \"geo\": \"geo\", \"hoverlabel\": {\"namelength\": 0}, \"hovertemplate\": \"year=2013.0<br>country=%{location}<br>counts=%{z}\", \"locationmode\": \"country names\", \"locations\": [\"United States\", \"Canada\", \"United States, Ireland\", \"United States, United Kingdom\"], \"name\": \"\", \"z\": [9, 1, 1, 1], \"type\": \"choropleth\"}], \"name\": \"2013.0\"}, {\"data\": [{\"coloraxis\": \"coloraxis\", \"geo\": \"geo\", \"hoverlabel\": {\"namelength\": 0}, \"hovertemplate\": \"year=2014.0<br>country=%{location}<br>counts=%{z}\", \"locationmode\": \"country names\", \"locations\": [\"United States\", \"Canada\", \"Canada, United States\", \"Norway, United States\", \"United Kingdom,\", \"United Kingdom, Egypt, United States\", \"United Kingdom, United States\", \"United States, Bermuda, Ecuador\", \"United States, Canada\", \"United States, Hungary, Ireland, Canada\"], \"name\": \"\", \"z\": [16, 1, 1, 1, 1, 1, 1, 1, 1, 1], \"type\": \"choropleth\"}], \"name\": \"2014.0\"}, {\"data\": [{\"coloraxis\": \"coloraxis\", \"geo\": \"geo\", \"hoverlabel\": {\"namelength\": 0}, \"hovertemplate\": \"year=2015.0<br>country=%{location}<br>counts=%{z}\", \"locationmode\": \"country names\", \"locations\": [\"United States\", \"Canada\", \"United Kingdom\", \"France\", \"France, Belgium\", \"United States, United Kingdom\", \"Australia\", \"Australia, France, Ireland\", \"Australia, United Kingdom, United States, New Zealand, Italy, France\", \"Belgium\", \"Canada, Australia\", \"Canada, United States\", \"Germany\", \"Germany, Australia\", \"Italy, France\", \"Japan\", \"Mexico\", \"New Zealand\", \"Nigeria\", \"Norway, United Kingdom, France, Ireland\", \"United Kingdom, Ukraine, United States\", \"United Kingdom, United States, Greece, Italy, Germany\", \"United States, Canada\", \"United States, Italy\"], \"name\": \"\", \"z\": [53, 4, 4, 3, 2, 2, 1, 1, 1, 1, 1, 1, 1, 1, 1, 1, 1, 1, 1, 1, 1, 1, 1, 1], \"type\": \"choropleth\"}], \"name\": \"2015.0\"}, {\"data\": [{\"coloraxis\": \"coloraxis\", \"geo\": \"geo\", \"hoverlabel\": {\"namelength\": 0}, \"hovertemplate\": \"year=2016.0<br>country=%{location}<br>counts=%{z}\", \"locationmode\": \"country names\", \"locations\": [\"United States\", \"United Kingdom\", \"Taiwan\", \"Japan\", \"Canada\", \"India\", \"Spain\", \"France\", \"Australia\", \"Mexico\", \"South Korea\", \"United States, France, Japan\", \"Canada, United States\", \"Germany\", \"United Kingdom, United States, Spain, Germany, Greece, Canada\", \"China\", \"Italy\", \"Netherlands\", \"Norway\", \"Pakistan\", \"Turkey\", \"United States, Canada\", \"United States, Japan\", \"Argentina\", \"Brazil\", \"Colombia\", \"Denmark\", \"France, Belgium\", \"Hong Kong, China\", \"United States, New Zealand\", \"Argentina, Chile, Peru\", \"Austria\", \"Belgium, France\", \"Brazil, Canada\", \"Canada, Japan, Netherlands\", \"Canada, United Kingdom\", \"Canada, United Kingdom, Netherlands\", \"Canada, United Kingdom, United States\", \"Chile, United States, France\", \"China, Germany, India, United States\", \"China, Hong Kong\", \"China, United States\", \"Croatia, Slovenia, Serbia, Montenegro\", \"Denmark, Indonesia, Finland, Norway, United Kingdom, Israel, France, United States, Germany, Netherlands\", \"Denmark, United Kingdom\", \"Denmark, United States\", \"Denmark, Zimbabwe\", \"France, Belgium, Spain\", \"France, Germany\", \"France, Qatar\", \"France, South Korea, Japan\", \"France, United States, Canada\", \"Hong Kong\", \"Iceland\", \"India, United Kingdom\", \"Ireland\", \"Ireland, South Africa\", \"Ireland, United Kingdom, United States\", \"Israel\", \"Israel, Germany, France\", \"Japan, United States\", \"Mexico, France\", \"Netherlands, Denmark, South Africa\", \"Nigeria\", \"Pakistan, Norway, United States\", \"Peru\", \"Peru, United States, United Kingdom\", \"Poland\", \"Russia\", \"Spain, Cuba\", \"Sweden\", \"Switzerland\", \"Turkey, Azerbaijan\", \"United Arab Emirates, Jordan\", \"United Kingdom, Australia, Canada, United States\", \"United Kingdom, France\", \"United Kingdom, Germany, Canada\", \"United Kingdom, India, United States\", \"United States, Australia\", \"United States, France\", \"United States, Greece, United Kingdom\", \"United States, Hungary\", \"United States, Kazakhstan\", \"United States, Netherlands, Japan, France\", \"United States, New Zealand, Japan\", \"United States, Russia\", \"United States, South Korea, China\"], \"name\": \"\", \"z\": [167, 37, 29, 19, 15, 12, 12, 10, 8, 8, 8, 6, 5, 5, 4, 3, 3, 3, 3, 3, 3, 3, 3, 2, 2, 2, 2, 2, 2, 2, 1, 1, 1, 1, 1, 1, 1, 1, 1, 1, 1, 1, 1, 1, 1, 1, 1, 1, 1, 1, 1, 1, 1, 1, 1, 1, 1, 1, 1, 1, 1, 1, 1, 1, 1, 1, 1, 1, 1, 1, 1, 1, 1, 1, 1, 1, 1, 1, 1, 1, 1, 1, 1, 1, 1, 1, 1], \"type\": \"choropleth\"}], \"name\": \"2016.0\"}, {\"data\": [{\"coloraxis\": \"coloraxis\", \"geo\": \"geo\", \"hoverlabel\": {\"namelength\": 0}, \"hovertemplate\": \"year=2017.0<br>country=%{location}<br>counts=%{z}\", \"locationmode\": \"country names\", \"locations\": [\"United States\", \"India\", \"United Kingdom\", \"Turkey\", \"South Korea\", \"Canada\", \"Japan\", \"Mexico\", \"Spain\", \"France\", \"Australia\", \"Brazil\", \"China\", \"Germany\", \"Taiwan\", \"Canada, United States\", \"France, Belgium\", \"United Kingdom, United States\", \"Singapore\", \"Argentina\", \"Malaysia\", \"United States, Canada\", \"Italy\", \"Chile\", \"Russia\", \"China, Hong Kong\", \"Israel\", \"Pakistan\", \"United States, United Kingdom\", \"Australia, United States\", \"Japan, United States\", \"Norway\", \"Argentina, Spain\", \"Belgium, France\", \"Colombia\", \"India, France\", \"India, Soviet Union\", \"India, United States\", \"Indonesia\", \"Ireland\", \"Italy, France\", \"Mexico, United States\", \"New Zealand\", \"Spain, Argentina\", \"Sweden\", \"Sweden, United States\", \"United States, Australia\", \"United States, Japan\", \"United States, Spain\", \"Argentina, Italy\", \"Argentina, Uruguay, Spain, France\", \"Australia, Armenia, Japan, Jordan, Mexico, Mongolia, New Zealand, Philippines, South Africa, Sweden, United States, Uruguay\", \"Australia, Canada\", \"Australia, India\", \"Australia, New Zealand, United States\", \"Australia, United Arab Emirates\", \"Austria, Czech Republic\", \"Belgium\", \"Belgium, India, Australia\", \"Belgium, Ireland, Netherlands, Germany, Afghanistan\", \"Brazil, France\", \"Brazil, Netherlands, United States, Colombia, Austria, Germany\", \"Bulgaria, United States, Spain, Canada\", \"Cambodia, United States\", \"Canada, France\", \"Canada, Germany, South Africa\", \"Canada, India\", \"Canada, India, Thailand, United States, United Arab Emirates\", \"Canada, Ireland, United States\", \"Canada, Spain\", \"Canada, United Kingdom, United States\", \"Canada, United States, United Kingdom\", \"Chile, Argentina, France, Spain, United States\", \"Chile, France\", \"Chile, Spain, Argentina, Germany\", \"China, India, Nepal\", \"China, South Korea, United States\", \"Colombia, Mexico, United States\", \"Colombia, United States\", \"Czech Republic, France\", \"Czech Republic, Slovakia\", \"Denmark\", \"Denmark, United Kingdom, South Africa, Sweden, Belgium\", \"Finland, Sweden, Norway, Latvia, Germany\", \"France, Canada\", \"France, Canada, Belgium\", \"France, China, Canada\", \"France, Germany, Switzerland\", \"France, Morocco\", \"France, United Kingdom\", \"France, United Kingdom, India\", \"France, United Kingdom, United States\", \"Georgia, Germany, France\", \"Germany, Jordan, Netherlands\", \"Germany, Sri Lanka\", \"Germany, United States, Hong Kong, Singapore\", \"Germany, United States, Italy\", \"Hong Kong\", \"Hong Kong, China\", \"Iceland\", \"India, Canada\", \"India, Germany\", \"India, Malaysia\", \"India, Mexico\", \"India, Switzerland\", \"Ireland, United Kingdom\", \"Ireland, United Kingdom, Italy, United States\", \"Israel, Sweden, Germany, Netherlands\", \"Italy, Canada, France\", \"Italy, Germany\", \"Italy, India\", \"Italy, United States\", \"Lebanon, Qatar\", \"Netherlands\", \"Netherlands, Belgium\", \"Netherlands, Belgium, United Kingdom, United States\", \"Netherlands, United States\", \"Nigeria\", \"Norway, Denmark, Sweden\", \"Norway, Germany\", \"Pakistan, United States\", \"Portugal, Spain\", \"Russia, United States\", \"Saudi Arabia\", \"Singapore, France\", \"Slovenia, Croatia, Germany, Czech Republic, Qatar\", \"South Africa, United States, Germany\", \"South Korea, China, United States\", \"South Korea, United States\", \"Spain, Belgium, Switzerland, United States, China, United Kingdom\", \"Spain, France, Uruguay\", \"Spain, Germany\", \"Spain, Italy, Argentina\", \"Spain, Mexico\", \"Spain, Switzerland\", \"Switzerland, France\", \"Thailand\", \"Thailand, United States\", \"Turkey, France, Germany, Poland\", \"Ukraine\", \"United Arab Emirates\", \"United Arab Emirates, Romania\", \"United Kingdom, Canada, Japan\", \"United Kingdom, France\", \"United Kingdom, France, Belgium\", \"United Kingdom, France, Belgium, United States\", \"United Kingdom, France, Canada, Belgium, United States\", \"United Kingdom, India\", \"United Kingdom, India, Sweden\", \"United Kingdom, Ireland\", \"United Kingdom, Israel, Russia\", \"United Kingdom, Italy, Israel, Peru, United States\", \"United Kingdom, Japan, United States\", \"United Kingdom, Jordan, Qatar, Iran\", \"United Kingdom, Russia\", \"United Kingdom, Singapore\", \"United Kingdom, South Africa\", \"United Kingdom, Spain, Belgium\", \"United States, Argentina\", \"United States, Australia, China\", \"United States, Australia, Samoa, United Kingdom\", \"United States, Botswana\", \"United States, Brazil\", \"United States, Bulgaria\", \"United States, Canada, Japan, Panama\", \"United States, Chile\", \"United States, Colombia, Mexico\", \"United States, Denmark\", \"United States, France\", \"United States, France, Canada, Lebanon, Qatar\", \"United States, Germany\", \"United States, Greece, Brazil\", \"United States, Hong Kong\", \"United States, Iceland\", \"United States, India\", \"United States, Italy\", \"United States, Japan, Canada\", \"United States, Mexico\", \"United States, Nicaragua\", \"United States, Senegal\", \"United States, South Korea, China\", \"United States, United Kingdom, Australia\", \"United States, United Kingdom, Denmark, Sweden\", \"United States, Uruguay\", \"United States, Venezuela\", \"Uruguay\", \"Venezuela\", \"Vietnam\", \"West Germany\"], \"name\": \"\", \"z\": [381, 181, 98, 43, 42, 36, 36, 28, 25, 17, 16, 13, 13, 13, 11, 9, 9, 9, 8, 7, 7, 7, 6, 5, 5, 4, 4, 4, 4, 3, 3, 3, 2, 2, 2, 2, 2, 2, 2, 2, 2, 2, 2, 2, 2, 2, 2, 2, 2, 1, 1, 1, 1, 1, 1, 1, 1, 1, 1, 1, 1, 1, 1, 1, 1, 1, 1, 1, 1, 1, 1, 1, 1, 1, 1, 1, 1, 1, 1, 1, 1, 1, 1, 1, 1, 1, 1, 1, 1, 1, 1, 1, 1, 1, 1, 1, 1, 1, 1, 1, 1, 1, 1, 1, 1, 1, 1, 1, 1, 1, 1, 1, 1, 1, 1, 1, 1, 1, 1, 1, 1, 1, 1, 1, 1, 1, 1, 1, 1, 1, 1, 1, 1, 1, 1, 1, 1, 1, 1, 1, 1, 1, 1, 1, 1, 1, 1, 1, 1, 1, 1, 1, 1, 1, 1, 1, 1, 1, 1, 1, 1, 1, 1, 1, 1, 1, 1, 1, 1, 1, 1, 1, 1, 1, 1, 1, 1, 1, 1, 1, 1, 1, 1, 1, 1, 1, 1, 1, 1], \"type\": \"choropleth\"}], \"name\": \"2017.0\"}, {\"data\": [{\"coloraxis\": \"coloraxis\", \"geo\": \"geo\", \"hoverlabel\": {\"namelength\": 0}, \"hovertemplate\": \"year=2018.0<br>country=%{location}<br>counts=%{z}\", \"locationmode\": \"country names\", \"locations\": [\"United States\", \"India\", \"United Kingdom\", \"Japan\", \"Hong Kong\", \"Thailand\", \"Canada\", \"Spain\", \"South Korea\", \"France\", \"Indonesia\", \"Australia\", \"Mexico\", \"China\", \"Argentina\", \"Brazil\", \"United Kingdom, United States\", \"Colombia\", \"Canada, United States\", \"Turkey\", \"Germany\", \"United States, Canada\", \"Taiwan\", \"Hong Kong, China\", \"Chile\", \"France, Belgium\", \"Ireland\", \"Singapore\", \"China, Hong Kong\", \"Israel\", \"Italy\", \"Pakistan\", \"United States, United Kingdom\", \"Mexico, United States\", \"Philippines\", \"Russia\", \"Argentina, Spain\", \"Denmark\", \"Malaysia\", \"United Kingdom, Canada, United States\", \"United States, India\", \"United States, Mexico\", \"Australia, United Arab Emirates\", \"Australia, United States\", \"Bulgaria, United States\", \"Czech Republic, United States\", \"Hungary\", \"India, United States\", \"Netherlands\", \"New Zealand\", \"Nigeria\", \"Peru\", \"Poland\", \"Poland, United States\", \"South Africa\", \"South Korea, United States\", \"Spain, France\", \"Sweden\", \"Switzerland, United States\", \"United Arab Emirates, United States\", \"United Kingdom, Canada\", \"United States, Brazil, South Korea, Mexico, Japan, Germany\", \"United States, Czech Republic\", \"United States, France\", \"United States, Sweden\", \"United States, United Kingdom, France\", \"Vietnam\", \"Argentina, Brazil, France, Poland, Germany, Denmark\", \"Argentina, Chile\", \"Argentina, France\", \"Argentina, France, Germany\", \"Argentina, Italy\", \"Australia, Iraq\", \"Australia, New Zealand\", \"Australia, United Kingdom, Canada\", \"Australia, United Kingdom, United Arab Emirates, Canada\", \"Belgium\", \"Belgium, United Kingdom, United States\", \"Brazil, France\", \"Brazil, India, China, United States\", \"Bulgaria\", \"Cambodia\", \"Canada, France, Italy, Morocco, United States\", \"Canada, Germany, France, United States\", \"Canada, Japan, United States\", \"Canada, Mexico, Germany, South Africa\", \"Canada, Spain, France\", \"Canada, United States, France\", \"Chile, Peru\", \"China, Canada, United States\", \"China, Japan\", \"China, Morocco, Hong Kong\", \"China, United States, Australia\", \"China, United States, United Kingdom\", \"Colombia, Mexico\", \"Czech Republic, United Kingdom, France\", \"Denmark, France, United States, Sweden\", \"Denmark, Germany, Belgium, United Kingdom, France\", \"Denmark, Germany, Belgium, United Kingdom, France, Sweden\", \"Denmark, Sweden, Israel, United States\", \"Egypt\", \"Egypt, France\", \"Finland, Germany\", \"France, Belgium, China, United States\", \"France, Iran, United States\", \"France, Luxembourg, United States\", \"France, Netherlands, South Africa, Finland\", \"France, Poland\", \"Georgia\", \"Germany, Australia\", \"Germany, Belgium\", \"Germany, France, Luxembourg, United Kingdom, United States\", \"Germany, France, Russia\", \"Germany, United Kingdom\", \"Germany, United States\", \"Germany, United States, Canada\", \"Guatemala\", \"Hong Kong, China, United States\", \"Hong Kong, Taiwan\", \"Hong Kong, United States\", \"Iceland\", \"India, Australia\", \"India, France\", \"India, Germany, Austria\", \"India, Iran\", \"Indonesia, United States\", \"Ireland, Canada\", \"Ireland, Canada, Luxembourg, United States\", \"Ireland, Canada, United Kingdom, United States\", \"Ireland, Canada, United States, United Kingdom\", \"Ireland, United Kingdom, Greece, France, Netherlands\", \"Ireland, United Kingdom, United States\", \"Israel, Germany\", \"Israel, United States\", \"Italy, Switzerland, Albania, Poland\", \"Italy, Switzerland, France, Germany\", \"Italy, Turkey\", \"Italy, United States\", \"Italy, United States, Argentina\", \"Japan, Canada\", \"Japan, United States\", \"Lebanon\", \"Mexico, Argentina\", \"Mexico, Netherlands\", \"Mexico, Spain\", \"Netherlands, Belgium, Germany, Jordan\", \"Netherlands, Denmark, France, Germany\", \"New Zealand, United Kingdom\", \"New Zealand, United Kingdom, Australia\", \"Norway\", \"Norway, Denmark, Netherlands, Sweden\", \"Norway, Germany, Sweden\", \"Norway, Iceland, United States\", \"Philippines, Qatar\", \"Portugal, France, Poland, United States\", \"Russia, Poland, Serbia\", \"Russia, Spain\", \"Saudi Arabia, Syria, Egypt, Lebanon, Kuwait\", \"Serbia, South Korea, Slovenia\", \"Serbia, United States\", \"Singapore, United States\", \"Somalia, Kenya, Sudan, South Africa, United States\", \"South Africa, China, United States\", \"South Africa, Germany, Netherlands, France\", \"South Africa, United States\", \"South Korea, France\", \"Soviet Union, India\", \"Spain, Colombia\", \"Spain, Mexico\", \"Spain, Portugal\", \"Sweden, Netherlands\", \"Switzerland, United Kingdom, United States\", \"Thailand, Canada, United States\", \"Turkey, India\", \"Turkey, United States\", \"Ukraine\", \"United Arab Emirates, United States, United Kingdom\", \"United Kingdom, Canada, Italy\", \"United Kingdom, Canada, United States, Cayman Islands\", \"United Kingdom, China, Canada, Indonesia, Singapore, United States\", \"United Kingdom, China, United States\", \"United Kingdom, Denmark, Canada, Croatia\", \"United Kingdom, France\", \"United Kingdom, France, United States\", \"United Kingdom, Germany\", \"United Kingdom, India\", \"United Kingdom, India, United States\", \"United Kingdom, Italy, France, United States\", \"United Kingdom, Japan, United States\", \"United Kingdom, Namibia, South Africa, Zimbabwe, United States\", \"United Kingdom, New Zealand\", \"United Kingdom, South Africa, Australia, United States\", \"United Kingdom, Spain, United States, Germany\", \"United Kingdom, United States, Australia\", \"United Kingdom, United States, Dominican Republic\", \"United Kingdom, United States, Morocco\", \"United Kingdom, West Germany\", \"United States,\", \"United States, Australia\", \"United States, Australia, South Africa, United Kingdom\", \"United States, Brazil, India, Uganda, China\", \"United States, Bulgaria\", \"United States, Canada, Belgium, United Kingdom\", \"United States, Canada, Ireland\", \"United States, Chile\", \"United States, China, Hong Kong\", \"United States, France, Canada\", \"United States, France, South Korea, Indonesia\", \"United States, India, Bangladesh\", \"United States, Indonesia\", \"United States, Ireland, United Kingdom\", \"United States, Israel, Italy, South Africa\", \"United States, Israel, United Kingdom, Canada\", \"United States, Italy\", \"United States, Japan, Canada\", \"United States, Mexico, Colombia\", \"United States, New Zealand\", \"United States, South Africa\", \"United States, United Arab Emirates\", \"United States, United Kingdom, Canada, Japan\", \"United States, United Kingdom, Germany\", \"United States, United Kingdom, Morocco\", \"United States, United Kingdom, Spain, South Korea\", \"Uruguay\", \"Uruguay, Argentina, Spain\", \"Venezuela, Colombia\"], \"name\": \"\", \"z\": [483, 347, 86, 47, 40, 34, 33, 32, 27, 25, 25, 24, 18, 17, 16, 16, 15, 12, 11, 11, 10, 10, 8, 7, 6, 6, 6, 6, 5, 5, 5, 5, 5, 4, 4, 4, 3, 3, 3, 3, 3, 3, 2, 2, 2, 2, 2, 2, 2, 2, 2, 2, 2, 2, 2, 2, 2, 2, 2, 2, 2, 2, 2, 2, 2, 2, 2, 1, 1, 1, 1, 1, 1, 1, 1, 1, 1, 1, 1, 1, 1, 1, 1, 1, 1, 1, 1, 1, 1, 1, 1, 1, 1, 1, 1, 1, 1, 1, 1, 1, 1, 1, 1, 1, 1, 1, 1, 1, 1, 1, 1, 1, 1, 1, 1, 1, 1, 1, 1, 1, 1, 1, 1, 1, 1, 1, 1, 1, 1, 1, 1, 1, 1, 1, 1, 1, 1, 1, 1, 1, 1, 1, 1, 1, 1, 1, 1, 1, 1, 1, 1, 1, 1, 1, 1, 1, 1, 1, 1, 1, 1, 1, 1, 1, 1, 1, 1, 1, 1, 1, 1, 1, 1, 1, 1, 1, 1, 1, 1, 1, 1, 1, 1, 1, 1, 1, 1, 1, 1, 1, 1, 1, 1, 1, 1, 1, 1, 1, 1, 1, 1, 1, 1, 1, 1, 1, 1, 1, 1, 1, 1, 1, 1, 1, 1, 1, 1, 1, 1, 1, 1, 1, 1, 1, 1, 1], \"type\": \"choropleth\"}], \"name\": \"2018.0\"}, {\"data\": [{\"coloraxis\": \"coloraxis\", \"geo\": \"geo\", \"hoverlabel\": {\"namelength\": 0}, \"hovertemplate\": \"year=2019.0<br>country=%{location}<br>counts=%{z}\", \"locationmode\": \"country names\", \"locations\": [\"United States\", \"India\", \"United Kingdom\", \"Japan\", \"South Korea\", \"Egypt\", \"Canada\", \"Spain\", \"Philippines\", \"France\", \"Nigeria\", \"Mexico\", \"Turkey\", \"Australia\", \"Taiwan\", \"Brazil\", \"United Kingdom, United States\", \"United States, United Kingdom\", \"China\", \"Indonesia\", \"Thailand\", \"United States, Canada\", \"Argentina\", \"Germany\", \"Canada, United States\", \"Colombia\", \"Hong Kong\", \"Italy\", \"Poland\", \"United States, Germany\", \"Malaysia\", \"United States, Japan\", \"Hong Kong, China\", \"Netherlands\", \"Pakistan\", \"China, Hong Kong\", \"Denmark\", \"France, Belgium\", \"United States, Australia\", \"United States, China\", \"United States, France\", \"France, United States\", \"Germany, United States\", \"Lebanon\", \"Mexico, United States\", \"Romania\", \"United States, Mexico\", \"India, Turkey\", \"India, United States\", \"Israel\", \"New Zealand\", \"South Africa\", \"Spain, France\", \"United Arab Emirates\", \"United Kingdom, France\", \"United States, United Kingdom, Australia\", \"Argentina, Spain\", \"Australia, United States\", \"Bangladesh\", \"Belgium\", \"Belgium, Netherlands\", \"France, Canada\", \"Hong Kong, United States\", \"Indonesia, Singapore\", \"Ireland\", \"Israel, United States\", \"Russia\", \"South Korea, United States\", \"Sweden\", \"United Kingdom, Germany\", \"United States, Czech Republic\", \"United States, Germany, Canada\", \"United States, South Africa\", \"United States, United Arab Emirates\", \"Argentina, United States\", \"Argentina, United States, Mexico\", \"Argentina, Uruguay, Serbia\", \"Australia, Canada\", \"Australia, France\", \"Austria\", \"Austria, Iraq, United States\", \"Austria, United States\", \"Belgium, Luxembourg, France\", \"Brazil, United States\", \"Bulgaria, United States\", \"Canada, Australia\", \"Canada, Brazil\", \"Canada, France, United States\", \"Canada, India\", \"Canada, Luxembourg\", \"Canada, Norway\", \"Canada, United Kingdom\", \"Canada, United Kingdom, United States\", \"Canada, United States, India, United Kingdom\", \"Canada, United States, United Kingdom\", \"Chile\", \"Chile, Argentina\", \"China, Hong Kong, United States\", \"China, Taiwan\", \"China, United Kingdom\", \"Colombia, Mexico, United States\", \"Croatia\", \"Cyprus, Austria, Thailand\", \"Denmark, Brazil, France, Portugal, Sweden\", \"Denmark, China\", \"Denmark, France, Italy, Belgium, Netherlands\", \"Denmark, France, Poland\", \"Denmark, Singapore, Canada, United States\", \"Denmark, Spain\", \"Denmark, United States\", \"Dominican Republic\", \"Egypt, Austria, United States\", \"Finland\", \"Finland, France\", \"Finland, Germany, Belgium\", \"France, China, Japan, United States\", \"France, Germany, Czech Republic, Belgium\", \"France, Japan\", \"France, Luxembourg, Canada\", \"France, Netherlands, Singapore\", \"France, Senegal, Belgium\", \"France, South Korea, Japan\", \"France, Switzerland, Spain, United States, United Arab Emirates\", \"France, United States, Mexico\", \"Germany, Canada, United States\", \"Germany, Italy\", \"Germany, United Kingdom\", \"Germany, United Kingdom, United States\", \"Germany, United States, Canada\", \"Germany, United States, Sweden\", \"Ghana\", \"Ghana, United States\", \"Hong Kong, China, Singapore\", \"Iceland, Sweden, Belgium\", \"India, France\", \"India, Germany\", \"India, Germany, France\", \"India, Japan\", \"India, Nepal\", \"India, Pakistan\", \"India, United Kingdom, Canada, United States\", \"Iran, France\", \"Ireland, United States, France\", \"Israel, Germany, Poland, Luxembourg, Belgium, France, United States\", \"Italy, Belgium, France\", \"Italy, France\", \"Italy, France, Switzerland\", \"Italy, South Africa, West Germany, Australia, United States\", \"Italy, United Kingdom, France\", \"Italy, United States\", \"Japan, Canada, South Korea\", \"Japan, United States\", \"Lebanon, Jordan\", \"Malaysia, Singapore, Hong Kong\", \"Mauritius, South Africa\", \"Mexico, Finland\", \"Norway\", \"Norway, Sweden\", \"Pakistan, United Arab Emirates\", \"Paraguay, Argentina\", \"Peru\", \"Philippines, Singapore\", \"Poland,\", \"Poland, United States\", \"Poland, West Germany\", \"Romania, Bulgaria, Hungary\", \"Singapore, Japan, France\", \"Singapore, Malaysia\", \"Singapore, United States\", \"South Africa, United States\", \"South Africa, United States, New Zealand, Canada\", \"South Korea, Canada, United States, China\", \"South Korea, Czech Republic\", \"Spain, Belgium\", \"Spain, France, Italy\", \"Spain, United Kingdom\", \"Spain, United Kingdom, United States\", \"Sweden, United Kingdom, Finland\", \"Sweden, United States\", \"Switzerland\", \"Switzerland, Vatican City, Italy, Germany, France\", \"Taiwan, China, France, United States\", \"Taiwan, Hong Kong, United States, China\", \"Thailand, China, United States\", \"United Arab Emirates, United Kingdom, India\", \"United Kingdom, Belgium, Sweden\", \"United Kingdom, Brazil, Germany\", \"United Kingdom, Canada\", \"United Kingdom, Canada, France, United States\", \"United Kingdom, Canada, United States\", \"United Kingdom, France, Belgium\", \"United Kingdom, France, Germany\", \"United Kingdom, France, Germany, Spain\", \"United Kingdom, France, United States\", \"United Kingdom, Germany, Canada, United States\", \"United Kingdom, Germany, United States\", \"United Kingdom, Hong Kong\", \"United Kingdom, Ireland\", \"United Kingdom, Italy, Argentina, United States\", \"United Kingdom, Malawi\", \"United Kingdom, Norway, Denmark, Germany, Sweden\", \"United Kingdom, Pakistan\", \"United Kingdom, Poland\", \"United Kingdom, Poland, United States\", \"United Kingdom, South Korea\", \"United Kingdom, Thailand\", \"United Kingdom, United States, Czech Republic\", \"United Kingdom, United States, France, Germany\", \"United Kingdom, United States, Germany, Denmark, Belgium, Japan\", \"United Kingdom, United States, Russia\", \"United States, Australia, Mexico\", \"United States, Cambodia\", \"United States, Canada, United Kingdom\", \"United States, Colombia\", \"United States, Czech Republic, United Kingdom\", \"United States, France, Canada, Spain\", \"United States, France, Japan\", \"United States, France, United Kingdom, Japan\", \"United States, Germany, Australia\", \"United States, Germany, United Kingdom\", \"United States, India\", \"United States, India, South Korea, China\", \"United States, India, United Arab Emirates\", \"United States, Ireland\", \"United States, Italy\", \"United States, Italy, United Kingdom, Liechtenstein\", \"United States, Malta, United Kingdom\", \"United States, Mexico, Spain, Malta\", \"United States, Morocco\", \"United States, New Zealand, United Kingdom\", \"United States, South Korea, Japan\", \"United States, Spain\", \"United States, Spain, Chile, Peru\", \"United States, Spain, Colombia, Mexico\", \"United States, Spain, Germany\", \"United States, Spain, Italy\", \"United States, Sweden\", \"United States, Taiwan\", \"United States, United Kingdom, Canada\", \"United States, United Kingdom, France\", \"United States, United Kingdom, Germany\", \"United States, United Kingdom, Italy\", \"Uruguay, Spain, Mexico\", \"Vietnam\"], \"name\": \"\", \"z\": [812, 230, 116, 67, 58, 49, 47, 46, 40, 34, 31, 26, 22, 21, 21, 19, 19, 17, 16, 16, 15, 14, 13, 11, 9, 9, 9, 8, 8, 8, 7, 7, 6, 6, 6, 5, 5, 5, 5, 5, 5, 4, 4, 4, 4, 4, 4, 3, 3, 3, 3, 3, 3, 3, 3, 3, 2, 2, 2, 2, 2, 2, 2, 2, 2, 2, 2, 2, 2, 2, 2, 2, 2, 2, 1, 1, 1, 1, 1, 1, 1, 1, 1, 1, 1, 1, 1, 1, 1, 1, 1, 1, 1, 1, 1, 1, 1, 1, 1, 1, 1, 1, 1, 1, 1, 1, 1, 1, 1, 1, 1, 1, 1, 1, 1, 1, 1, 1, 1, 1, 1, 1, 1, 1, 1, 1, 1, 1, 1, 1, 1, 1, 1, 1, 1, 1, 1, 1, 1, 1, 1, 1, 1, 1, 1, 1, 1, 1, 1, 1, 1, 1, 1, 1, 1, 1, 1, 1, 1, 1, 1, 1, 1, 1, 1, 1, 1, 1, 1, 1, 1, 1, 1, 1, 1, 1, 1, 1, 1, 1, 1, 1, 1, 1, 1, 1, 1, 1, 1, 1, 1, 1, 1, 1, 1, 1, 1, 1, 1, 1, 1, 1, 1, 1, 1, 1, 1, 1, 1, 1, 1, 1, 1, 1, 1, 1, 1, 1, 1, 1, 1, 1, 1, 1, 1, 1, 1, 1, 1, 1, 1, 1, 1, 1, 1, 1, 1, 1, 1, 1, 1, 1, 1, 1], \"type\": \"choropleth\"}], \"name\": \"2019.0\"}, {\"data\": [{\"coloraxis\": \"coloraxis\", \"geo\": \"geo\", \"hoverlabel\": {\"namelength\": 0}, \"hovertemplate\": \"year=2020.0<br>country=%{location}<br>counts=%{z}\", \"locationmode\": \"country names\", \"locations\": [\"United States\", \"India\", \"United Kingdom\", \"United Kingdom, United States\", \"Japan\", \"Canada\", \"United States, Germany\", \"United States, Canada\", \"United States, United Kingdom\", \"Mexico\", \"New Zealand, United States\", \"Spain\", \"United States, Australia\", \"United States, Japan\", \"Australia, United Kingdom\", \"Austria\", \"Belgium\", \"Brazil, France, Germany\", \"China\", \"France\", \"Germany, France, United States, Canada, United Kingdom\", \"Germany, United States\", \"Germany, United States, United Kingdom, Canada\", \"Indonesia\", \"Indonesia, South Korea, Singapore\", \"Mexico, Spain\", \"Netherlands, Germany, Italy, Canada\", \"Poland\", \"Russia\", \"South Africa, United States\", \"South Korea\", \"South Korea, United States\", \"United Kingdom, France, United States\", \"United Kingdom, Japan, United States\", \"United States, Canada, France\", \"United States, Canada, Germany\", \"United States, East Germany, West Germany\", \"United States, France, Italy, United Kingdom\", \"United States, France, Mexico\", \"United States, Germany, Mexico\", \"United States, Germany, United Kingdom\", \"United States, Germany, United Kingdom, Italy\", \"United States, Hong Kong\", \"United States, India\", \"United States, India, Malaysia, Taiwan, Canada, United Kingdom\", \"United States, South Korea\", \"United States, United Kingdom, Canada\", \"United States, United Kingdom, France, Germany, Japan\"], \"name\": \"\", \"z\": [84, 7, 6, 6, 5, 4, 4, 3, 3, 2, 2, 2, 2, 2, 1, 1, 1, 1, 1, 1, 1, 1, 1, 1, 1, 1, 1, 1, 1, 1, 1, 1, 1, 1, 1, 1, 1, 1, 1, 1, 1, 1, 1, 1, 1, 1, 1, 1], \"type\": \"choropleth\"}], \"name\": \"2020.0\"}]);\n",
       "                        }).then(function(){\n",
       "                            \n",
       "var gd = document.getElementById('a61d99e2-1638-49c5-ad53-8078a80ce311');\n",
       "var x = new MutationObserver(function (mutations, observer) {{\n",
       "        var display = window.getComputedStyle(gd).display;\n",
       "        if (!display || display === 'none') {{\n",
       "            console.log([gd, 'removed!']);\n",
       "            Plotly.purge(gd);\n",
       "            observer.disconnect();\n",
       "        }}\n",
       "}});\n",
       "\n",
       "// Listen for the removal of the full notebook cells\n",
       "var notebookContainer = gd.closest('#notebook-container');\n",
       "if (notebookContainer) {{\n",
       "    x.observe(notebookContainer, {childList: true});\n",
       "}}\n",
       "\n",
       "// Listen for the clearing of the current output cell\n",
       "var outputEl = gd.closest('.output');\n",
       "if (outputEl) {{\n",
       "    x.observe(outputEl, {childList: true});\n",
       "}}\n",
       "\n",
       "                        })\n",
       "                };\n",
       "                });\n",
       "            </script>\n",
       "        </div>"
      ]
     },
     "metadata": {},
     "output_type": "display_data"
    }
   ],
   "source": [
    "import plotly.express as px\n",
    "year_country = dat.groupby('year_added')['country'].value_counts().reset_index(name='counts')\n",
    "year_country = year_country.rename(columns = {'year_added':'year'})\n",
    "\n",
    "fig = px.choropleth(year_country, locations=\"country\", color=\"counts\", \n",
    "                    locationmode='country names',\n",
    "                    animation_frame='year',\n",
    "                    range_color=[0,200],\n",
    "                    color_continuous_scale=px.colors.sequential.OrRd\n",
    "                   )\n",
    "\n",
    "fig.update_layout(title='Yearly Comparison by Country')\n",
    "fig.show()"
   ]
  },
  {
   "cell_type": "markdown",
   "metadata": {},
   "source": [
    "By Genre"
   ]
  },
  {
   "cell_type": "code",
   "execution_count": 55,
   "metadata": {
    "scrolled": true
   },
   "outputs": [
    {
     "name": "stdout",
     "output_type": "stream",
     "text": [
      "There are 42 types in the Netflix Dataset\n"
     ]
    }
   ],
   "source": [
    "dat['genre'] = dat['listed_in'].apply(lambda x: x.replace(' ,',',').replace(', ',',').split(','))\n",
    "#dat['genre']\n",
    "\n",
    "types = []\n",
    "for i in dat['genre']: \n",
    "    types += i\n",
    "    \n",
    "types = set(types)\n",
    "print(f\"There are {len(types)} types in the Netflix Dataset\")   "
   ]
  },
  {
   "cell_type": "code",
   "execution_count": 57,
   "metadata": {},
   "outputs": [],
   "source": [
    "movies = dat[dat['type']=='Movie']\n",
    "tvs = dat[dat['type'] == 'TV Show']"
   ]
  },
  {
   "cell_type": "code",
   "execution_count": 75,
   "metadata": {},
   "outputs": [],
   "source": [
    "from sklearn.preprocessing import MultiLabelBinarizer\n",
    "import numpy as np\n",
    "def genre_corr(dat, type):\n",
    "    \n",
    "    types = []\n",
    "    for i in dat['genre']: types +=i\n",
    "        \n",
    "    types = set(types)\n",
    "    print(f\"There are {len(types)} types of the Netflix {type}\")\n",
    "    \n",
    "    test = dat['genre']\n",
    "    mlb = MultiLabelBinarizer()\n",
    "    res = pd.DataFrame(mlb.fit_transform(test), columns=mlb.classes_, index=test.index)\n",
    "    corr = res.corr()\n",
    "    mask = np.zeros_like(corr, dtype=np.bool)\n",
    "    mask[np.triu_indices_from(mask)] = True\n",
    "    fig, ax = plt.subplots(figsize=(10, 10))\n",
    "    pl = sns.heatmap(corr, mask=mask, cmap= \"coolwarm\", vmax=.5, vmin=-.5, center=0, square=True, linewidths=.7, cbar_kws={\"shrink\": 0.6})\n",
    "    \n",
    "    plt.show()"
   ]
  },
  {
   "cell_type": "code",
   "execution_count": 76,
   "metadata": {
    "scrolled": true
   },
   "outputs": [
    {
     "name": "stdout",
     "output_type": "stream",
     "text": [
      "There are 20 types of the Netflix Movies\n"
     ]
    },
    {
     "data": {
      "image/png": "[encoded data removed]",
      "text/plain": [
       "<Figure size 720x720 with 2 Axes>"
      ]
     },
     "metadata": {},
     "output_type": "display_data"
    }
   ],
   "source": [
    "genre_corr(movies, 'Movies')"
   ]
  },
  {
   "cell_type": "code",
   "execution_count": 77,
   "metadata": {
    "scrolled": true
   },
   "outputs": [
    {
     "name": "stdout",
     "output_type": "stream",
     "text": [
      "There are 22 types of the Netflix TV Shows\n"
     ]
    },
    {
     "data": {
      "image/png": "[encoded data removed]",
      "text/plain": [
       "<Figure size 720x720 with 2 Axes>"
      ]
     },
     "metadata": {},
     "output_type": "display_data"
    }
   ],
   "source": [
    "genre_corr(tvs, 'TV Shows')"
   ]
  },
  {
   "cell_type": "markdown",
   "metadata": {},
   "source": [
    "By Ratings"
   ]
  },
  {
   "cell_type": "code",
   "execution_count": 78,
   "metadata": {},
   "outputs": [],
   "source": [
    "rating_order =  ['G', 'TV-Y', 'TV-G', 'PG', 'TV-Y7', 'TV-Y7-FV', 'TV-PG', 'PG-13', 'TV-14', 'R', 'NC-17', 'TV-MA']\n",
    "\n",
    "movie_rating = movies['rating'].value_counts()[rating_order]\n",
    "tv_rating = tvs['rating'].value_counts()[rating_order].fillna(0)"
   ]
  },
  {
   "cell_type": "code",
   "execution_count": 100,
   "metadata": {},
   "outputs": [],
   "source": [
    "def rating_barplot(dat, title, height, h_lim=None):\n",
    "    fig, ax = plt.subplots(1,1, figsize=(8, 5))\n",
    "    if h_lim :\n",
    "        ax.set_ylim(0, h_lim)\n",
    "    \n",
    "    ax.bar(dat.index, dat,  color=\"#d0d0d0\", width=0.6, edgecolor='black')\n",
    "\n",
    "    color =  ['green',  'blue',  'purple',  'red']\n",
    "    span_range = [[0, 2], [3, 6], [7, 8], [9, 11]]\n",
    "\n",
    "    for idx, sub_title in enumerate(['Little Kids', 'Older Kids', 'Teens', 'Mature']):\n",
    "        ax.annotate(sub_title,\n",
    "                    xy=(sum(span_range[idx])/2 ,height),\n",
    "                    xytext=(0,0), textcoords='offset points',\n",
    "                    va=\"center\", ha=\"center\",\n",
    "                    color=\"w\", fontsize=16, fontweight='bold',\n",
    "                    bbox=dict(boxstyle='round4', pad=0.4, color=color[idx], alpha=0.6))\n",
    "        ax.axvspan(span_range[idx][0]-0.4,span_range[idx][1]+0.4,  color=color[idx], alpha=0.1)\n",
    "\n",
    "    ax.set_title(f'Distribution of {title} Rating', fontsize=10, fontweight='bold', position=(0.5, 1.0+0.03))\n",
    "    plt.show()"
   ]
  },
  {
   "cell_type": "code",
   "execution_count": 101,
   "metadata": {
    "scrolled": true
   },
   "outputs": [
    {
     "data": {
      "image/png": "[encoded data removed]",
      "text/plain": [
       "<Figure size 576x360 with 1 Axes>"
      ]
     },
     "metadata": {},
     "output_type": "display_data"
    }
   ],
   "source": [
    "rating_barplot(movie_rating,'Movie', 1200)"
   ]
  },
  {
   "cell_type": "code",
   "execution_count": 103,
   "metadata": {
    "scrolled": true
   },
   "outputs": [
    {
     "data": {
      "image/png": "[encoded data removed]",
      "text/plain": [
       "<Figure size 576x360 with 1 Axes>"
      ]
     },
     "metadata": {},
     "output_type": "display_data"
    }
   ],
   "source": [
    "rating_barplot(tv_rating, \"TV Shows\", 700)"
   ]
  }
 ],
 "metadata": {
  "kernelspec": {
   "display_name": "Python 3",
   "language": "python",
   "name": "python3"
  },
  "language_info": {
   "codemirror_mode": {
    "name": "ipython",
    "version": 3
   },
   "file_extension": ".py",
   "mimetype": "text/x-python",
   "name": "python",
   "nbconvert_exporter": "python",
   "pygments_lexer": "ipython3",
   "version": "3.7.3"
  }
 },
 "nbformat": 4,
 "nbformat_minor": 2
}
