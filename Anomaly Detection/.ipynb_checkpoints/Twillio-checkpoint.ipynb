{
 "cells": [
  {
   "cell_type": "code",
   "execution_count": 2,
   "metadata": {},
   "outputs": [],
   "source": [
    "import pandas as pd \n",
    "import numpy as np\n",
    "import matplotlib.pyplot as plt\n",
    "from matplotlib import pyplot\n",
    "from pylab import *\n",
    "from datetime import datetime\n",
    "#import plotly.graph_objects as go\n",
    "import seaborn as sns\n",
    "\n",
    "from matplotlib.pyplot import figure\n",
    "figure(num=None, figsize=(10, 6), dpi=80, facecolor='w', edgecolor='k')\n",
    "\n",
    "%matplotlib inline"
   ]
  },
  {
   "cell_type": "code",
   "execution_count": 5,
   "metadata": {},
   "outputs": [
    {
     "name": "stdout",
     "output_type": "stream",
     "text": [
      "['.ipynb_checkpoints', 'Module 1 - EDA for Stock Market Data_Twilio.ipynb', 'S&P Benchmark.zip', 'Twillio_data.zip', 'Twillo.ipynb', 'untitled.md']\n"
     ]
    }
   ],
   "source": [
    "import os\n",
    "\n",
    "print(os.listdir(\"../Anomaly Detection/\"))"
   ]
  },
  {
   "cell_type": "code",
   "execution_count": 22,
   "metadata": {},
   "outputs": [
    {
     "data": {
      "text/html": [
       "<div>\n",
       "<style scoped>\n",
       "    .dataframe tbody tr th:only-of-type {\n",
       "        vertical-align: middle;\n",
       "    }\n",
       "\n",
       "    .dataframe tbody tr th {\n",
       "        vertical-align: top;\n",
       "    }\n",
       "\n",
       "    .dataframe thead th {\n",
       "        text-align: right;\n",
       "    }\n",
       "</style>\n",
       "<table border=\"1\" class=\"dataframe\">\n",
       "  <thead>\n",
       "    <tr style=\"text-align: right;\">\n",
       "      <th></th>\n",
       "      <th>Date</th>\n",
       "      <th>Open</th>\n",
       "      <th>High</th>\n",
       "      <th>Low</th>\n",
       "      <th>Close</th>\n",
       "      <th>Adj Close</th>\n",
       "      <th>Volume</th>\n",
       "    </tr>\n",
       "  </thead>\n",
       "  <tbody>\n",
       "    <tr>\n",
       "      <th>0</th>\n",
       "      <td>9/1/2017</td>\n",
       "      <td>29.350000</td>\n",
       "      <td>29.695000</td>\n",
       "      <td>28.799999</td>\n",
       "      <td>28.959999</td>\n",
       "      <td>28.959999</td>\n",
       "      <td>1225700</td>\n",
       "    </tr>\n",
       "    <tr>\n",
       "      <th>1</th>\n",
       "      <td>9/5/2017</td>\n",
       "      <td>28.780001</td>\n",
       "      <td>29.430000</td>\n",
       "      <td>28.430000</td>\n",
       "      <td>29.350000</td>\n",
       "      <td>29.350000</td>\n",
       "      <td>1455000</td>\n",
       "    </tr>\n",
       "    <tr>\n",
       "      <th>2</th>\n",
       "      <td>9/6/2017</td>\n",
       "      <td>29.260000</td>\n",
       "      <td>30.194000</td>\n",
       "      <td>29.170000</td>\n",
       "      <td>29.879999</td>\n",
       "      <td>29.879999</td>\n",
       "      <td>1696200</td>\n",
       "    </tr>\n",
       "    <tr>\n",
       "      <th>3</th>\n",
       "      <td>9/7/2017</td>\n",
       "      <td>29.910000</td>\n",
       "      <td>30.280001</td>\n",
       "      <td>29.500000</td>\n",
       "      <td>29.730000</td>\n",
       "      <td>29.730000</td>\n",
       "      <td>1175300</td>\n",
       "    </tr>\n",
       "    <tr>\n",
       "      <th>4</th>\n",
       "      <td>9/8/2017</td>\n",
       "      <td>29.639999</td>\n",
       "      <td>30.280001</td>\n",
       "      <td>29.523001</td>\n",
       "      <td>29.770000</td>\n",
       "      <td>29.770000</td>\n",
       "      <td>994500</td>\n",
       "    </tr>\n",
       "  </tbody>\n",
       "</table>\n",
       "</div>"
      ],
      "text/plain": [
       "       Date       Open       High        Low      Close  Adj Close   Volume\n",
       "0  9/1/2017  29.350000  29.695000  28.799999  28.959999  28.959999  1225700\n",
       "1  9/5/2017  28.780001  29.430000  28.430000  29.350000  29.350000  1455000\n",
       "2  9/6/2017  29.260000  30.194000  29.170000  29.879999  29.879999  1696200\n",
       "3  9/7/2017  29.910000  30.280001  29.500000  29.730000  29.730000  1175300\n",
       "4  9/8/2017  29.639999  30.280001  29.523001  29.770000  29.770000   994500"
      ]
     },
     "execution_count": 22,
     "metadata": {},
     "output_type": "execute_result"
    }
   ],
   "source": [
    "dat = pd.read_csv(\"Twillio_data.zip\")\n",
    "dat.head()"
   ]
  },
  {
   "cell_type": "code",
   "execution_count": 12,
   "metadata": {},
   "outputs": [
    {
     "name": "stdout",
     "output_type": "stream",
     "text": [
      "<class 'pandas.core.frame.DataFrame'>\n",
      "RangeIndex: 510 entries, 0 to 509\n",
      "Data columns (total 7 columns):\n",
      "Date         510 non-null object\n",
      "Open         510 non-null float64\n",
      "High         510 non-null float64\n",
      "Low          510 non-null float64\n",
      "Close        510 non-null float64\n",
      "Adj Close    510 non-null float64\n",
      "Volume       510 non-null int64\n",
      "dtypes: float64(5), int64(1), object(1)\n",
      "memory usage: 28.0+ KB\n"
     ]
    }
   ],
   "source": [
    "dat.info() # convert date -> date!"
   ]
  },
  {
   "cell_type": "code",
   "execution_count": 43,
   "metadata": {
    "scrolled": false
   },
   "outputs": [
    {
     "data": {
      "text/html": [
       "<div>\n",
       "<style scoped>\n",
       "    .dataframe tbody tr th:only-of-type {\n",
       "        vertical-align: middle;\n",
       "    }\n",
       "\n",
       "    .dataframe tbody tr th {\n",
       "        vertical-align: top;\n",
       "    }\n",
       "\n",
       "    .dataframe thead th {\n",
       "        text-align: right;\n",
       "    }\n",
       "</style>\n",
       "<table border=\"1\" class=\"dataframe\">\n",
       "  <thead>\n",
       "    <tr style=\"text-align: right;\">\n",
       "      <th></th>\n",
       "      <th>Date</th>\n",
       "      <th>Open</th>\n",
       "      <th>High</th>\n",
       "      <th>Low</th>\n",
       "      <th>Close</th>\n",
       "      <th>Adj Close</th>\n",
       "      <th>Volume</th>\n",
       "    </tr>\n",
       "  </thead>\n",
       "  <tbody>\n",
       "    <tr>\n",
       "      <th>0</th>\n",
       "      <td>9/1/2017</td>\n",
       "      <td>2474.419922</td>\n",
       "      <td>2480.379883</td>\n",
       "      <td>2473.850098</td>\n",
       "      <td>2476.550049</td>\n",
       "      <td>2476.550049</td>\n",
       "      <td>2710730000</td>\n",
       "    </tr>\n",
       "    <tr>\n",
       "      <th>1</th>\n",
       "      <td>9/5/2017</td>\n",
       "      <td>2470.350098</td>\n",
       "      <td>2471.969971</td>\n",
       "      <td>2446.550049</td>\n",
       "      <td>2457.850098</td>\n",
       "      <td>2457.850098</td>\n",
       "      <td>3490260000</td>\n",
       "    </tr>\n",
       "    <tr>\n",
       "      <th>2</th>\n",
       "      <td>9/6/2017</td>\n",
       "      <td>2463.830078</td>\n",
       "      <td>2469.639893</td>\n",
       "      <td>2459.199951</td>\n",
       "      <td>2465.540039</td>\n",
       "      <td>2465.540039</td>\n",
       "      <td>3374410000</td>\n",
       "    </tr>\n",
       "    <tr>\n",
       "      <th>3</th>\n",
       "      <td>9/7/2017</td>\n",
       "      <td>2468.060059</td>\n",
       "      <td>2468.620117</td>\n",
       "      <td>2460.290039</td>\n",
       "      <td>2465.100098</td>\n",
       "      <td>2465.100098</td>\n",
       "      <td>3353930000</td>\n",
       "    </tr>\n",
       "    <tr>\n",
       "      <th>4</th>\n",
       "      <td>9/8/2017</td>\n",
       "      <td>2462.250000</td>\n",
       "      <td>2467.110107</td>\n",
       "      <td>2459.399902</td>\n",
       "      <td>2461.429932</td>\n",
       "      <td>2461.429932</td>\n",
       "      <td>3302490000</td>\n",
       "    </tr>\n",
       "  </tbody>\n",
       "</table>\n",
       "</div>"
      ],
      "text/plain": [
       "       Date         Open         High          Low        Close    Adj Close  \\\n",
       "0  9/1/2017  2474.419922  2480.379883  2473.850098  2476.550049  2476.550049   \n",
       "1  9/5/2017  2470.350098  2471.969971  2446.550049  2457.850098  2457.850098   \n",
       "2  9/6/2017  2463.830078  2469.639893  2459.199951  2465.540039  2465.540039   \n",
       "3  9/7/2017  2468.060059  2468.620117  2460.290039  2465.100098  2465.100098   \n",
       "4  9/8/2017  2462.250000  2467.110107  2459.399902  2461.429932  2461.429932   \n",
       "\n",
       "       Volume  \n",
       "0  2710730000  \n",
       "1  3490260000  \n",
       "2  3374410000  \n",
       "3  3353930000  \n",
       "4  3302490000  "
      ]
     },
     "execution_count": 43,
     "metadata": {},
     "output_type": "execute_result"
    }
   ],
   "source": [
    "sp_dat = pd.read_csv(\"S&P Benchmark.zip\")\n",
    "sp_dat.head()"
   ]
  },
  {
   "cell_type": "code",
   "execution_count": 44,
   "metadata": {},
   "outputs": [
    {
     "name": "stdout",
     "output_type": "stream",
     "text": [
      "<class 'pandas.core.frame.DataFrame'>\n",
      "RangeIndex: 510 entries, 0 to 509\n",
      "Data columns (total 7 columns):\n",
      "Date         510 non-null object\n",
      "Open         510 non-null float64\n",
      "High         510 non-null float64\n",
      "Low          510 non-null float64\n",
      "Close        510 non-null float64\n",
      "Adj Close    510 non-null float64\n",
      "Volume       510 non-null int64\n",
      "dtypes: float64(5), int64(1), object(1)\n",
      "memory usage: 28.0+ KB\n"
     ]
    }
   ],
   "source": [
    "sp_dat.info() # same need to convert the date ! "
   ]
  },
  {
   "cell_type": "code",
   "execution_count": 100,
   "metadata": {},
   "outputs": [],
   "source": [
    "def convt_date(data): \n",
    "    data['Date'] = pd.to_datetime(data['Date'])\n",
    "    data['year'] = data['Date'].apply(lambda x:x.year)\n",
    "    data['month'] = data['Date'].apply(lambda x:x.month)\n",
    "    data['day'] = data['Date'].apply(lambda x:x.day)\n",
    "    data['weekday'] = data['Date'].apply(lambda x:x.weekday())\n",
    "    \n",
    "    data['weekday'] = data['weekday'].astype('category')\n",
    "    \n",
    "    return data"
   ]
  },
  {
   "cell_type": "code",
   "execution_count": 101,
   "metadata": {},
   "outputs": [
    {
     "name": "stdout",
     "output_type": "stream",
     "text": [
      "<class 'pandas.core.frame.DataFrame'>\n",
      "RangeIndex: 510 entries, 0 to 509\n",
      "Data columns (total 12 columns):\n",
      "Date           510 non-null datetime64[ns]\n",
      "Open           510 non-null float64\n",
      "High           510 non-null float64\n",
      "Low            510 non-null float64\n",
      "Close          510 non-null float64\n",
      "Adj Close      510 non-null float64\n",
      "Volume         510 non-null int64\n",
      "perc_change    510 non-null float64\n",
      "year           510 non-null int64\n",
      "month          510 non-null int64\n",
      "day            510 non-null int64\n",
      "weekday        510 non-null category\n",
      "dtypes: category(1), datetime64[ns](1), float64(6), int64(4)\n",
      "memory usage: 44.6 KB\n"
     ]
    }
   ],
   "source": [
    "convt_date(data=sp_dat)\n",
    "sp_dat.info()"
   ]
  },
  {
   "cell_type": "code",
   "execution_count": 105,
   "metadata": {},
   "outputs": [
    {
     "name": "stdout",
     "output_type": "stream",
     "text": [
      "<class 'pandas.core.frame.DataFrame'>\n",
      "RangeIndex: 510 entries, 0 to 509\n",
      "Data columns (total 14 columns):\n",
      "Date              510 non-null datetime64[ns]\n",
      "Open              510 non-null float64\n",
      "High              510 non-null float64\n",
      "Low               510 non-null float64\n",
      "Close             510 non-null float64\n",
      "Adj Close         510 non-null float64\n",
      "Volume            510 non-null int64\n",
      "year              510 non-null int64\n",
      "month             510 non-null int64\n",
      "day               510 non-null int64\n",
      "perc_change       510 non-null float64\n",
      "normalized vol    510 non-null float64\n",
      "log_vol           510 non-null float64\n",
      "weekday           510 non-null category\n",
      "dtypes: category(1), datetime64[ns](1), float64(8), int64(4)\n",
      "memory usage: 52.6 KB\n"
     ]
    }
   ],
   "source": [
    "convt_date(data = dat)\n",
    "dat.info()"
   ]
  },
  {
   "cell_type": "code",
   "execution_count": 106,
   "metadata": {},
   "outputs": [],
   "source": [
    "def perc_change(beg, end, digits = 3):\n",
    "    perc = round((end - beg / beg) *100, digits)\n",
    "    return perc"
   ]
  },
  {
   "cell_type": "code",
   "execution_count": 45,
   "metadata": {},
   "outputs": [],
   "source": [
    "dat['perc_change'] = perc_change(beg= dat['Open'], end= dat['Close'], digits = 2)\n",
    "sp_dat['perc_change'] = perc_change(sp_dat['Open'], sp_dat['Close'], 2)"
   ]
  },
  {
   "cell_type": "code",
   "execution_count": 41,
   "metadata": {},
   "outputs": [
    {
     "name": "stdout",
     "output_type": "stream",
     "text": [
      "Twillo mean of perc change:  7628.958823529411\n",
      "S&P mean of perc change:  275224.7961960784\n"
     ]
    }
   ],
   "source": [
    "print(\"Twillo mean of perc change: \", dat['perc_change'].mean())\n",
    "print(\"S&P mean of perc change: \", sp_dat['perc_change'].mean())\n"
   ]
  },
  {
   "cell_type": "code",
   "execution_count": 77,
   "metadata": {},
   "outputs": [],
   "source": [
    "# basic info for open and close \n",
    "dat_sm = pd.DataFrame({'twillo_open' : dat['Open'].agg(['min','max','median','mean'])})\n",
    "dat_sm2 = pd.DataFrame({'twillo_close' : dat['Close'].agg(['min','max','median','mean'])})\n",
    "sp_dat_sm = pd.DataFrame({'sp_open' : sp_dat['Open'].agg(['min','max','median','mean'])})\n",
    "sp_dat_sm2 = pd.DataFrame({'sp_close' : sp_dat['Close'].agg(['min','max','median','mean'])})\n",
    "                               \n",
    "comb_sm = pd.concat([dat_sm, sp_dat_sm, dat_sm2, sp_dat_sm2], axis=1)     \n",
    "\n",
    "del dat_sm, dat_sm2, sp_dat_sm, sp_dat_sm2\n"
   ]
  },
  {
   "cell_type": "code",
   "execution_count": 78,
   "metadata": {},
   "outputs": [
    {
     "data": {
      "text/html": [
       "<div>\n",
       "<style scoped>\n",
       "    .dataframe tbody tr th:only-of-type {\n",
       "        vertical-align: middle;\n",
       "    }\n",
       "\n",
       "    .dataframe tbody tr th {\n",
       "        vertical-align: top;\n",
       "    }\n",
       "\n",
       "    .dataframe thead th {\n",
       "        text-align: right;\n",
       "    }\n",
       "</style>\n",
       "<table border=\"1\" class=\"dataframe\">\n",
       "  <thead>\n",
       "    <tr style=\"text-align: right;\">\n",
       "      <th></th>\n",
       "      <th>twillo_open</th>\n",
       "      <th>sp_open</th>\n",
       "      <th>twillo_close</th>\n",
       "      <th>sp_close</th>\n",
       "    </tr>\n",
       "  </thead>\n",
       "  <tbody>\n",
       "    <tr>\n",
       "      <th>min</th>\n",
       "      <td>23.719999</td>\n",
       "      <td>2363.120117</td>\n",
       "      <td>23.600000</td>\n",
       "      <td>2351.100098</td>\n",
       "    </tr>\n",
       "    <tr>\n",
       "      <th>max</th>\n",
       "      <td>150.000000</td>\n",
       "      <td>3024.469971</td>\n",
       "      <td>149.949997</td>\n",
       "      <td>3025.860107</td>\n",
       "    </tr>\n",
       "    <tr>\n",
       "      <th>median</th>\n",
       "      <td>74.720001</td>\n",
       "      <td>2754.025024</td>\n",
       "      <td>75.159999</td>\n",
       "      <td>2752.035034</td>\n",
       "    </tr>\n",
       "    <tr>\n",
       "      <th>mean</th>\n",
       "      <td>77.245363</td>\n",
       "      <td>2753.194531</td>\n",
       "      <td>77.289588</td>\n",
       "      <td>2753.247961</td>\n",
       "    </tr>\n",
       "  </tbody>\n",
       "</table>\n",
       "</div>"
      ],
      "text/plain": [
       "        twillo_open      sp_open  twillo_close     sp_close\n",
       "min       23.719999  2363.120117     23.600000  2351.100098\n",
       "max      150.000000  3024.469971    149.949997  3025.860107\n",
       "median    74.720001  2754.025024     75.159999  2752.035034\n",
       "mean      77.245363  2753.194531     77.289588  2753.247961"
      ]
     },
     "execution_count": 78,
     "metadata": {},
     "output_type": "execute_result"
    }
   ],
   "source": [
    "comb_sm"
   ]
  },
  {
   "cell_type": "code",
   "execution_count": 81,
   "metadata": {},
   "outputs": [
    {
     "data": {
      "text/html": [
       "<div>\n",
       "<style scoped>\n",
       "    .dataframe tbody tr th:only-of-type {\n",
       "        vertical-align: middle;\n",
       "    }\n",
       "\n",
       "    .dataframe tbody tr th {\n",
       "        vertical-align: top;\n",
       "    }\n",
       "\n",
       "    .dataframe thead th {\n",
       "        text-align: right;\n",
       "    }\n",
       "</style>\n",
       "<table border=\"1\" class=\"dataframe\">\n",
       "  <thead>\n",
       "    <tr style=\"text-align: right;\">\n",
       "      <th></th>\n",
       "      <th>twillo_open</th>\n",
       "      <th>sp_open</th>\n",
       "      <th>twillo_close</th>\n",
       "      <th>sp_close</th>\n",
       "      <th>open_diff</th>\n",
       "      <th>clse_diff</th>\n",
       "    </tr>\n",
       "  </thead>\n",
       "  <tbody>\n",
       "    <tr>\n",
       "      <th>min</th>\n",
       "      <td>23.719999</td>\n",
       "      <td>2363.120117</td>\n",
       "      <td>23.600000</td>\n",
       "      <td>2351.100098</td>\n",
       "      <td>1.003758</td>\n",
       "      <td>1.003785</td>\n",
       "    </tr>\n",
       "    <tr>\n",
       "      <th>max</th>\n",
       "      <td>150.000000</td>\n",
       "      <td>3024.469971</td>\n",
       "      <td>149.949997</td>\n",
       "      <td>3025.860107</td>\n",
       "      <td>4.959547</td>\n",
       "      <td>4.955616</td>\n",
       "    </tr>\n",
       "    <tr>\n",
       "      <th>median</th>\n",
       "      <td>74.720001</td>\n",
       "      <td>2754.025024</td>\n",
       "      <td>75.159999</td>\n",
       "      <td>2752.035034</td>\n",
       "      <td>2.713120</td>\n",
       "      <td>2.731070</td>\n",
       "    </tr>\n",
       "    <tr>\n",
       "      <th>mean</th>\n",
       "      <td>77.245363</td>\n",
       "      <td>2753.194531</td>\n",
       "      <td>77.289588</td>\n",
       "      <td>2753.247961</td>\n",
       "      <td>2.805663</td>\n",
       "      <td>2.807215</td>\n",
       "    </tr>\n",
       "  </tbody>\n",
       "</table>\n",
       "</div>"
      ],
      "text/plain": [
       "        twillo_open      sp_open  twillo_close     sp_close  open_diff  \\\n",
       "min       23.719999  2363.120117     23.600000  2351.100098   1.003758   \n",
       "max      150.000000  3024.469971    149.949997  3025.860107   4.959547   \n",
       "median    74.720001  2754.025024     75.159999  2752.035034   2.713120   \n",
       "mean      77.245363  2753.194531     77.289588  2753.247961   2.805663   \n",
       "\n",
       "        clse_diff  \n",
       "min      1.003785  \n",
       "max      4.955616  \n",
       "median   2.731070  \n",
       "mean     2.807215  "
      ]
     },
     "execution_count": 81,
     "metadata": {},
     "output_type": "execute_result"
    }
   ],
   "source": [
    "comb_sm.assign(open_diff = lambda x: comb_sm['twillo_open'] / comb_sm['sp_open'] *100,\n",
    "               clse_diff = lambda x: comb_sm['twillo_close'] / comb_sm['sp_close'] * 100)"
   ]
  },
  {
   "cell_type": "code",
   "execution_count": 89,
   "metadata": {},
   "outputs": [
    {
     "data": {
      "image/png": "[encoded data removed]",
      "text/plain": [
       "<Figure size 360x216 with 1 Axes>"
      ]
     },
     "metadata": {
      "needs_background": "light"
     },
     "output_type": "display_data"
    }
   ],
   "source": [
    "pp = plt.figure(figsize=[5,3])\n",
    "pp = sns.distplot(dat['Volume'])"
   ]
  },
  {
   "cell_type": "code",
   "execution_count": 91,
   "metadata": {},
   "outputs": [],
   "source": [
    "def normalize(vol):\n",
    "    mean = vol.mean()\n",
    "    std = vol.std()\n",
    "    scr = (vol - mean) / std\n",
    "    return scr"
   ]
  },
  {
   "cell_type": "code",
   "execution_count": 92,
   "metadata": {},
   "outputs": [],
   "source": [
    "dat['normalized vol'] = normalize(dat['Volume'])"
   ]
  },
  {
   "cell_type": "code",
   "execution_count": 94,
   "metadata": {},
   "outputs": [
    {
     "data": {
      "text/plain": [
       "<matplotlib.axes._subplots.AxesSubplot at 0x1d698a29978>"
      ]
     },
     "execution_count": 94,
     "metadata": {},
     "output_type": "execute_result"
    },
    {
     "data": {
      "image/png": "[encoded data removed]",
      "text/plain": [
       "<Figure size 720x216 with 2 Axes>"
      ]
     },
     "metadata": {
      "needs_background": "light"
     },
     "output_type": "display_data"
    }
   ],
   "source": [
    "pp,(ax1,ax2)= plt.subplots(ncols=2)\n",
    "pp.set_size_inches(10,3)\n",
    "\n",
    "sns.distplot(dat['Volume'],ax=ax1)\n",
    "sns.distplot(dat['normalized vol'],ax=ax2)"
   ]
  },
  {
   "cell_type": "code",
   "execution_count": 95,
   "metadata": {},
   "outputs": [
    {
     "data": {
      "text/plain": [
       "<matplotlib.axes._subplots.AxesSubplot at 0x1d697065860>"
      ]
     },
     "execution_count": 95,
     "metadata": {},
     "output_type": "execute_result"
    },
    {
     "data": {
      "image/png": "[encoded data removed]",
      "text/plain": [
       "<Figure size 432x288 with 1 Axes>"
      ]
     },
     "metadata": {
      "needs_background": "light"
     },
     "output_type": "display_data"
    }
   ],
   "source": [
    "dat['log_vol'] = np.log1p(dat['Volume'])\n",
    "sns.distplot(dat['log_vol'])"
   ]
  },
  {
   "cell_type": "code",
   "execution_count": 116,
   "metadata": {},
   "outputs": [],
   "source": [
    "# range of a day: \n",
    "def cal_range(data, high, low): \n",
    "    data['range'] = high - low \n",
    "    "
   ]
  },
  {
   "cell_type": "code",
   "execution_count": 117,
   "metadata": {},
   "outputs": [],
   "source": [
    "cal_range(dat, dat['High'], dat['Low'])\n",
    "cal_range(sp_dat,sp_dat['High'], sp_dat['Low'])"
   ]
  },
  {
   "cell_type": "code",
   "execution_count": 145,
   "metadata": {},
   "outputs": [],
   "source": [
    "def count_better_than_previous(data, var): \n",
    "    count = 0 \n",
    "    arr = data[var]\n",
    "    n = len(arr)\n",
    "    for i in range(1, n - 1, 1): \n",
    "        if (arr[i] > arr[i - 1] and \n",
    "            arr[i] > arr[i + 1]): \n",
    "                count = count+1\n",
    "    return count\n"
   ]
  },
  {
   "cell_type": "code",
   "execution_count": 147,
   "metadata": {},
   "outputs": [
    {
     "data": {
      "text/plain": [
       "123"
      ]
     },
     "execution_count": 147,
     "metadata": {},
     "output_type": "execute_result"
    }
   ],
   "source": [
    "count_better_than_previous(dat, 'Close')\n",
    "count_better_than_previous(sp_dat, 'Close')"
   ]
  }
 ],
 "metadata": {
  "kernelspec": {
   "display_name": "Python 3",
   "language": "python",
   "name": "python3"
  },
  "language_info": {
   "codemirror_mode": {
    "name": "ipython",
    "version": 3
   },
   "file_extension": ".py",
   "mimetype": "text/x-python",
   "name": "python",
   "nbconvert_exporter": "python",
   "pygments_lexer": "ipython3",
   "version": "3.7.3"
  }
 },
 "nbformat": 4,
 "nbformat_minor": 2
}
