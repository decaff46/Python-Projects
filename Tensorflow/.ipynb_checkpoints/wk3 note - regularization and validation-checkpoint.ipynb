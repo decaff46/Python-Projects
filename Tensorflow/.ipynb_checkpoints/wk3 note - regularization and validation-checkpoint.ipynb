{
 "cells": [
  {
   "cell_type": "markdown",
   "metadata": {},
   "source": [
    "## DO NOT RUN THE FILE this is a NOTE "
   ]
  },
  {
   "cell_type": "code",
   "execution_count": 1,
   "metadata": {
    "collapsed": true
   },
   "outputs": [
    {
     "ename": "NameError",
     "evalue": "name 'inputs' is not defined",
     "output_type": "error",
     "traceback": [
      "\u001b[1;31m---------------------------------------------------------------------------\u001b[0m",
      "\u001b[1;31mNameError\u001b[0m                                 Traceback (most recent call last)",
      "\u001b[1;32m<ipython-input-1-aa7c3982c0c0>\u001b[0m in \u001b[0;36m<module>\u001b[1;34m\u001b[0m\n\u001b[0;32m      9\u001b[0m \u001b[0mopt\u001b[0m \u001b[1;33m=\u001b[0m \u001b[0mAdam\u001b[0m\u001b[1;33m(\u001b[0m\u001b[0mlearning_rate\u001b[0m \u001b[1;33m=\u001b[0m \u001b[1;36m0.05\u001b[0m\u001b[1;33m)\u001b[0m\u001b[1;33m\u001b[0m\u001b[1;33m\u001b[0m\u001b[0m\n\u001b[0;32m     10\u001b[0m \u001b[0mmodel\u001b[0m\u001b[1;33m.\u001b[0m\u001b[0mcompile\u001b[0m\u001b[1;33m(\u001b[0m\u001b[0moptimizer\u001b[0m \u001b[1;33m=\u001b[0m \u001b[0mopt\u001b[0m\u001b[1;33m,\u001b[0m \u001b[0mloss\u001b[0m \u001b[1;33m=\u001b[0m \u001b[1;34m'mse'\u001b[0m\u001b[1;33m,\u001b[0m \u001b[0mmetrics\u001b[0m \u001b[1;33m=\u001b[0m \u001b[1;33m[\u001b[0m\u001b[1;34m'mape'\u001b[0m\u001b[1;33m]\u001b[0m\u001b[1;33m)\u001b[0m\u001b[1;33m\u001b[0m\u001b[1;33m\u001b[0m\u001b[0m\n\u001b[1;32m---> 11\u001b[1;33m \u001b[0mmodel\u001b[0m\u001b[1;33m.\u001b[0m\u001b[0mfit\u001b[0m\u001b[1;33m(\u001b[0m\u001b[0minputs\u001b[0m\u001b[1;33m,\u001b[0m \u001b[0mtargets\u001b[0m\u001b[1;33m,\u001b[0m \u001b[0mvalidation_split\u001b[0m \u001b[1;33m=\u001b[0m \u001b[1;36m0.2\u001b[0m\u001b[1;33m)\u001b[0m\u001b[1;33m\u001b[0m\u001b[1;33m\u001b[0m\u001b[0m\n\u001b[0m",
      "\u001b[1;31mNameError\u001b[0m: name 'inputs' is not defined"
     ]
    }
   ],
   "source": [
    "from tensorflow.keras.models import Sequential \n",
    "from tensorflow.keras.layers import Dense\n",
    "from tensorflow.keras.optimizers import Adam\n",
    "\n",
    "model = Sequential()\n",
    "model.add(Dense(128, activation= 'tanh'))\n",
    "model.add(Dense(2))\n",
    "\n",
    "opt = Adam(learning_rate = 0.05)\n",
    "model.compile(optimizer = opt, loss = 'mse', metrics = ['mape'])\n",
    "\n",
    "## example case:\n",
    "history = model.fit(inputs, targets, validation_split = 0.2)\n",
    "print(history, history.keys()) # dict_keys(['loss', 'mape', 'val_loss', 'val_mape'])\n"
   ]
  },
  {
   "cell_type": "code",
   "execution_count": 2,
   "metadata": {},
   "outputs": [
    {
     "name": "stdout",
     "output_type": "stream",
     "text": [
      "Downloading data from https://storage.googleapis.com/tensorflow/tf-keras-datasets/train-labels-idx1-ubyte.gz\n",
      "32768/29515 [=================================] - 0s 0us/step\n",
      "Downloading data from https://storage.googleapis.com/tensorflow/tf-keras-datasets/train-images-idx3-ubyte.gz\n",
      "26427392/26421880 [==============================] - 2s 0us/step\n",
      "Downloading data from https://storage.googleapis.com/tensorflow/tf-keras-datasets/t10k-labels-idx1-ubyte.gz\n",
      "8192/5148 [===============================================] - 0s 0us/step\n",
      "Downloading data from https://storage.googleapis.com/tensorflow/tf-keras-datasets/t10k-images-idx3-ubyte.gz\n",
      "4423680/4422102 [==============================] - 0s 0us/step\n"
     ]
    }
   ],
   "source": [
    "import tensorflow as tf \n",
    "(trainX, trainY), (testX, testY) = tf.keras.datasets.fashion_mnist.load_data()"
   ]
  },
  {
   "cell_type": "markdown",
   "metadata": {},
   "source": [
    "#### Validation"
   ]
  },
  {
   "cell_type": "code",
   "execution_count": null,
   "metadata": {},
   "outputs": [],
   "source": [
    "model.fit(trainX,trainY, validation_data=(testX, testY)) \n",
    "'''\n",
    "#In case train/val/test = 60/20/20:\n",
    "from sklearn.model_selection import train_test_split\n",
    "X_train, X_test, y_train, y_test = train_test_split(X, y, test_size=p1)\n",
    "model.fit(X_train, y_train, validation_split=p2)\n",
    "p1 = 0.2; p2 = .25 #0.8*0.25 = 0.2\n",
    "'''\n"
   ]
  },
  {
   "cell_type": "markdown",
   "metadata": {},
   "source": [
    "#### Regularization"
   ]
  },
  {
   "cell_type": "code",
   "execution_count": null,
   "metadata": {},
   "outputs": [],
   "source": [
    "model = Sequential([    #tf.keras.regularizers.l2(xxx) # #tf.keras.regularizers.le_l2(l1 = xx, l2= xx)\n",
    "    Dense(64, activation = 'relu', kernel_regularizer = tf.keras.regularizers.l2(0.001),\n",
    "         bias_regularizer = tf.keras.regularizers.l2(0.001)),\n",
    "    Dense(1, activation = 'sigmoid')\n",
    "])\n",
    "\n",
    "model.compile(optimizer = 'adadelta', loss= 'binary_crossentropy', metrics=['acc'])\n",
    "model.fit(inputs, target, validation_split = 0.25)\n"
   ]
  },
  {
   "cell_type": "code",
   "execution_count": null,
   "metadata": {},
   "outputs": [],
   "source": [
    "model = Sequential([\n",
    "    Dense(64, activation = 'relu'), \n",
    "    Dropout(0.5), #Bernulio dropout also has regulaization effect; drop out happens independantly to each other\n",
    "    Dense(1, activation = 'sigmoid')\n",
    "])\n",
    "\n",
    "model.compile(optimizer = 'adadelta', loss = 'binary_crossentropy', metrics = ['acc'])\n",
    "\n",
    "model.fit(inputs, target, validation_split= 0.25) # Training mode WITH DROPOUT \n",
    "model.evaluate(val_inputs, val_target)            # Testing mode W/O DROPOUT\n",
    "model.predict(test_input)                         # Testing mode W/O DROPOUT"
   ]
  },
  {
   "cell_type": "markdown",
   "metadata": {},
   "source": [
    "#### Callback\n",
    "\n",
    "monitor the loss and metrics of validation and training, and performs some actions depends on the loss & metrics"
   ]
  },
  {
   "cell_type": "code",
   "execution_count": null,
   "metadata": {},
   "outputs": [],
   "source": [
    "from tensorflow.keras.callbacks import Callback\n",
    "\n",
    "class my_callback(Callback):\n",
    "    \n",
    "    def on_train_begin(self, logs= None):\n",
    "        # at the start of training\n",
    "    \n",
    "    def on_train_batch_begin(self, batch, logs = None):\n",
    "        # at every batch iteration\n",
    "        \n",
    "    def on_epoch_end(self, epoch, logs= None):\n",
    "        # at the end of every epoch\n",
    "        \n",
    "\n",
    "history = model.fit(trainX, trainY, epoch = 5, callbacks = [my_callback()])\n"
   ]
  },
  {
   "cell_type": "markdown",
   "metadata": {},
   "source": [
    "####  Early Stopping"
   ]
  },
  {
   "cell_type": "code",
   "execution_count": null,
   "metadata": {},
   "outputs": [],
   "source": [
    "from tensorflow.keras.layers import Conv1D, Flatten, Dense, MaxPool1D\n",
    "from tensorflow.keras.callbacks import EarlyStopping\n",
    "\n",
    "model = Sequential([\n",
    "    Conv1D(16, 5, activation ='relu', input_shape= (128,1)), \n",
    "    MaxPool1D(4), \n",
    "    Flatten(), \n",
    "    Dense(10, activation= 'softmax')\n",
    "])\n",
    "\n",
    "model.compile(optimizer = 'adam', loss='categorical_crossentropy', metrics = ['accuracy'])\n",
    "                                   \n",
    "                              #'val_accuracy'     \n",
    "early_stopping= EarlyStopping(monitor = 'val_loss', patience = 5, min_delta = 0.01, mode= 'max') \n",
    "'''\n",
    "EarlyStopping() monitors the given metrics! as a default val_loss is set up. \n",
    "And the name it uses is same as the names in the history. \n",
    "patience = 0 (DF)this means that as soon as the next val_loss gets worse it stops\n",
    "min_dalta = if monitor = 'val_accuracy' then val_accuracy must improve by 0.01. Otherwise, patience counter +=1\n",
    "mode = depends on monitoring factor it's either increase or decrease, ie. loss = decrease, accuracy = increase. \n",
    "by df, it is set at 'Auto' which means that it knows already; however, i can play with it by changing to others. \n",
    "such as 'max': maximize the monitoring performace metrics. \n",
    "'''\n",
    "model.fit(trainX, trainY, validataion_split = 0.2, epoch= 100, callbacks=[early_stopping])"
   ]
  },
  {
   "cell_type": "code",
   "execution_count": null,
   "metadata": {},
   "outputs": [],
   "source": []
  }
 ],
 "metadata": {
  "kernelspec": {
   "display_name": "Python 3",
   "language": "python",
   "name": "python3"
  },
  "language_info": {
   "codemirror_mode": {
    "name": "ipython",
    "version": 3
   },
   "file_extension": ".py",
   "mimetype": "text/x-python",
   "name": "python",
   "nbconvert_exporter": "python",
   "pygments_lexer": "ipython3",
   "version": "3.7.3"
  }
 },
 "nbformat": 4,
 "nbformat_minor": 2
}
