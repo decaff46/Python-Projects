{
 "cells": [
  {
   "cell_type": "code",
   "execution_count": 1,
   "metadata": {},
   "outputs": [
    {
     "name": "stdout",
     "output_type": "stream",
     "text": [
      "Today's date: 2020-02-25\n"
     ]
    }
   ],
   "source": [
    "from datetime import date \n",
    "today = date.today()\n",
    "print(\"Today's date:\", today)"
   ]
  },
  {
   "cell_type": "code",
   "execution_count": 117,
   "metadata": {},
   "outputs": [],
   "source": [
    "import pandas as pd\n",
    "import numpy as np\n",
    "import matplotlib.pyplot as plt \n",
    "import seaborn as sn\n",
    "import os\n",
    "import random\n",
    "import seaborn as sns\n",
    "import warnings\n",
    "warnings.filterwarnings('ignore')"
   ]
  },
  {
   "cell_type": "code",
   "execution_count": 3,
   "metadata": {},
   "outputs": [
    {
     "name": "stdout",
     "output_type": "stream",
     "text": [
      "['test.zip', 'train.zip']\n"
     ]
    }
   ],
   "source": [
    "print(os.listdir(\"data/data1/\"))"
   ]
  },
  {
   "cell_type": "code",
   "execution_count": 31,
   "metadata": {},
   "outputs": [],
   "source": [
    "train = \"data/data1/train.zip\"\n",
    "test = 'data/data1/test.zip'\n",
    "\n",
    "train = pd.read_csv(train)\n",
    "test = pd.read_csv(test)"
   ]
  },
  {
   "cell_type": "code",
   "execution_count": 32,
   "metadata": {
    "scrolled": true
   },
   "outputs": [
    {
     "data": {
      "text/plain": [
       "age                             0\n",
       "cost_of_ad                      0\n",
       "device_type                     0\n",
       "gender                        269\n",
       "in_initial_launch_location      0\n",
       "income                          0\n",
       "n_drivers                       0\n",
       "n_vehicles                      0\n",
       "prior_ins_tenure                0\n",
       "outcome                         0\n",
       "dtype: int64"
      ]
     },
     "execution_count": 32,
     "metadata": {},
     "output_type": "execute_result"
    }
   ],
   "source": [
    "train.isna().sum()"
   ]
  },
  {
   "cell_type": "code",
   "execution_count": 33,
   "metadata": {},
   "outputs": [
    {
     "name": "stdout",
     "output_type": "stream",
     "text": [
      "Percent of missing \"Gender\" records is 2.69%\n"
     ]
    }
   ],
   "source": [
    "print('Percent of missing \"Gender\" records is %.2f%%' %((train['gender'].isnull().sum()/train.shape[0])*100))"
   ]
  },
  {
   "cell_type": "code",
   "execution_count": 34,
   "metadata": {},
   "outputs": [
    {
     "data": {
      "text/plain": [
       "age                             0\n",
       "cost_of_ad                      0\n",
       "device_type                     0\n",
       "gender                        249\n",
       "in_initial_launch_location      0\n",
       "income                          0\n",
       "n_drivers                       0\n",
       "n_vehicles                      0\n",
       "prior_ins_tenure                0\n",
       "dtype: int64"
      ]
     },
     "execution_count": 34,
     "metadata": {},
     "output_type": "execute_result"
    }
   ],
   "source": [
    "test.isna().sum()"
   ]
  },
  {
   "cell_type": "code",
   "execution_count": 35,
   "metadata": {},
   "outputs": [
    {
     "name": "stdout",
     "output_type": "stream",
     "text": [
      "Percent of missing \"Gender\" records is 2.49%\n"
     ]
    }
   ],
   "source": [
    "print('Percent of missing \"Gender\" records is %.2f%%' %((test['gender'].isnull().sum()/len(test))*100))"
   ]
  },
  {
   "cell_type": "code",
   "execution_count": 38,
   "metadata": {
    "scrolled": true
   },
   "outputs": [
    {
     "data": {
      "text/html": [
       "<div>\n",
       "<style scoped>\n",
       "    .dataframe tbody tr th:only-of-type {\n",
       "        vertical-align: middle;\n",
       "    }\n",
       "\n",
       "    .dataframe tbody tr th {\n",
       "        vertical-align: top;\n",
       "    }\n",
       "\n",
       "    .dataframe thead th {\n",
       "        text-align: right;\n",
       "    }\n",
       "</style>\n",
       "<table border=\"1\" class=\"dataframe\">\n",
       "  <thead>\n",
       "    <tr style=\"text-align: right;\">\n",
       "      <th></th>\n",
       "      <th>age</th>\n",
       "      <th>cost_of_ad</th>\n",
       "      <th>device_type</th>\n",
       "      <th>gender</th>\n",
       "      <th>in_initial_launch_location</th>\n",
       "      <th>income</th>\n",
       "      <th>n_drivers</th>\n",
       "      <th>n_vehicles</th>\n",
       "      <th>prior_ins_tenure</th>\n",
       "      <th>outcome</th>\n",
       "    </tr>\n",
       "  </thead>\n",
       "  <tbody>\n",
       "    <tr>\n",
       "      <th>15</th>\n",
       "      <td>32</td>\n",
       "      <td>0.003519</td>\n",
       "      <td>Android</td>\n",
       "      <td>NaN</td>\n",
       "      <td>0</td>\n",
       "      <td>71909</td>\n",
       "      <td>1</td>\n",
       "      <td>3</td>\n",
       "      <td>8</td>\n",
       "      <td>0</td>\n",
       "    </tr>\n",
       "    <tr>\n",
       "      <th>38</th>\n",
       "      <td>54</td>\n",
       "      <td>0.005529</td>\n",
       "      <td>iPhone</td>\n",
       "      <td>NaN</td>\n",
       "      <td>0</td>\n",
       "      <td>87122</td>\n",
       "      <td>2</td>\n",
       "      <td>3</td>\n",
       "      <td>8</td>\n",
       "      <td>0</td>\n",
       "    </tr>\n",
       "    <tr>\n",
       "      <th>91</th>\n",
       "      <td>35</td>\n",
       "      <td>0.005510</td>\n",
       "      <td>iPhone</td>\n",
       "      <td>NaN</td>\n",
       "      <td>0</td>\n",
       "      <td>52343</td>\n",
       "      <td>1</td>\n",
       "      <td>3</td>\n",
       "      <td>3</td>\n",
       "      <td>0</td>\n",
       "    </tr>\n",
       "    <tr>\n",
       "      <th>113</th>\n",
       "      <td>41</td>\n",
       "      <td>0.004282</td>\n",
       "      <td>Android</td>\n",
       "      <td>NaN</td>\n",
       "      <td>0</td>\n",
       "      <td>72978</td>\n",
       "      <td>2</td>\n",
       "      <td>2</td>\n",
       "      <td>11</td>\n",
       "      <td>0</td>\n",
       "    </tr>\n",
       "    <tr>\n",
       "      <th>122</th>\n",
       "      <td>34</td>\n",
       "      <td>0.005518</td>\n",
       "      <td>iPhone</td>\n",
       "      <td>NaN</td>\n",
       "      <td>0</td>\n",
       "      <td>50425</td>\n",
       "      <td>2</td>\n",
       "      <td>3</td>\n",
       "      <td>3</td>\n",
       "      <td>0</td>\n",
       "    </tr>\n",
       "    <tr>\n",
       "      <th>161</th>\n",
       "      <td>30</td>\n",
       "      <td>0.003810</td>\n",
       "      <td>laptop</td>\n",
       "      <td>NaN</td>\n",
       "      <td>1</td>\n",
       "      <td>64773</td>\n",
       "      <td>1</td>\n",
       "      <td>1</td>\n",
       "      <td>1</td>\n",
       "      <td>0</td>\n",
       "    </tr>\n",
       "    <tr>\n",
       "      <th>163</th>\n",
       "      <td>54</td>\n",
       "      <td>0.005794</td>\n",
       "      <td>iPhone</td>\n",
       "      <td>NaN</td>\n",
       "      <td>0</td>\n",
       "      <td>84405</td>\n",
       "      <td>1</td>\n",
       "      <td>3</td>\n",
       "      <td>15</td>\n",
       "      <td>0</td>\n",
       "    </tr>\n",
       "    <tr>\n",
       "      <th>189</th>\n",
       "      <td>48</td>\n",
       "      <td>0.003734</td>\n",
       "      <td>desktop</td>\n",
       "      <td>NaN</td>\n",
       "      <td>0</td>\n",
       "      <td>72464</td>\n",
       "      <td>2</td>\n",
       "      <td>2</td>\n",
       "      <td>12</td>\n",
       "      <td>0</td>\n",
       "    </tr>\n",
       "    <tr>\n",
       "      <th>190</th>\n",
       "      <td>17</td>\n",
       "      <td>0.005405</td>\n",
       "      <td>iPhone</td>\n",
       "      <td>NaN</td>\n",
       "      <td>1</td>\n",
       "      <td>55135</td>\n",
       "      <td>2</td>\n",
       "      <td>1</td>\n",
       "      <td>0</td>\n",
       "      <td>0</td>\n",
       "    </tr>\n",
       "    <tr>\n",
       "      <th>199</th>\n",
       "      <td>18</td>\n",
       "      <td>0.003851</td>\n",
       "      <td>Android</td>\n",
       "      <td>NaN</td>\n",
       "      <td>1</td>\n",
       "      <td>22917</td>\n",
       "      <td>2</td>\n",
       "      <td>3</td>\n",
       "      <td>0</td>\n",
       "      <td>0</td>\n",
       "    </tr>\n",
       "  </tbody>\n",
       "</table>\n",
       "</div>"
      ],
      "text/plain": [
       "     age  cost_of_ad device_type gender  in_initial_launch_location  income  \\\n",
       "15    32    0.003519     Android    NaN                           0   71909   \n",
       "38    54    0.005529      iPhone    NaN                           0   87122   \n",
       "91    35    0.005510      iPhone    NaN                           0   52343   \n",
       "113   41    0.004282     Android    NaN                           0   72978   \n",
       "122   34    0.005518      iPhone    NaN                           0   50425   \n",
       "161   30    0.003810      laptop    NaN                           1   64773   \n",
       "163   54    0.005794      iPhone    NaN                           0   84405   \n",
       "189   48    0.003734     desktop    NaN                           0   72464   \n",
       "190   17    0.005405      iPhone    NaN                           1   55135   \n",
       "199   18    0.003851     Android    NaN                           1   22917   \n",
       "\n",
       "     n_drivers  n_vehicles  prior_ins_tenure  outcome  \n",
       "15           1           3                 8        0  \n",
       "38           2           3                 8        0  \n",
       "91           1           3                 3        0  \n",
       "113          2           2                11        0  \n",
       "122          2           3                 3        0  \n",
       "161          1           1                 1        0  \n",
       "163          1           3                15        0  \n",
       "189          2           2                12        0  \n",
       "190          2           1                 0        0  \n",
       "199          2           3                 0        0  "
      ]
     },
     "execution_count": 38,
     "metadata": {},
     "output_type": "execute_result"
    }
   ],
   "source": [
    "train[train.isnull().any(axis=1)].head(10)"
   ]
  },
  {
   "cell_type": "code",
   "execution_count": 39,
   "metadata": {},
   "outputs": [
    {
     "data": {
      "text/html": [
       "<div>\n",
       "<style scoped>\n",
       "    .dataframe tbody tr th:only-of-type {\n",
       "        vertical-align: middle;\n",
       "    }\n",
       "\n",
       "    .dataframe tbody tr th {\n",
       "        vertical-align: top;\n",
       "    }\n",
       "\n",
       "    .dataframe thead th {\n",
       "        text-align: right;\n",
       "    }\n",
       "</style>\n",
       "<table border=\"1\" class=\"dataframe\">\n",
       "  <thead>\n",
       "    <tr style=\"text-align: right;\">\n",
       "      <th></th>\n",
       "      <th>age</th>\n",
       "      <th>cost_of_ad</th>\n",
       "      <th>device_type</th>\n",
       "      <th>gender</th>\n",
       "      <th>in_initial_launch_location</th>\n",
       "      <th>income</th>\n",
       "      <th>n_drivers</th>\n",
       "      <th>n_vehicles</th>\n",
       "      <th>prior_ins_tenure</th>\n",
       "    </tr>\n",
       "  </thead>\n",
       "  <tbody>\n",
       "    <tr>\n",
       "      <th>69</th>\n",
       "      <td>30</td>\n",
       "      <td>0.003440</td>\n",
       "      <td>desktop</td>\n",
       "      <td>NaN</td>\n",
       "      <td>0</td>\n",
       "      <td>68949</td>\n",
       "      <td>1</td>\n",
       "      <td>2</td>\n",
       "      <td>2</td>\n",
       "    </tr>\n",
       "    <tr>\n",
       "      <th>78</th>\n",
       "      <td>31</td>\n",
       "      <td>0.003442</td>\n",
       "      <td>other</td>\n",
       "      <td>NaN</td>\n",
       "      <td>0</td>\n",
       "      <td>35738</td>\n",
       "      <td>2</td>\n",
       "      <td>2</td>\n",
       "      <td>5</td>\n",
       "    </tr>\n",
       "    <tr>\n",
       "      <th>81</th>\n",
       "      <td>44</td>\n",
       "      <td>0.003662</td>\n",
       "      <td>desktop</td>\n",
       "      <td>NaN</td>\n",
       "      <td>0</td>\n",
       "      <td>71453</td>\n",
       "      <td>1</td>\n",
       "      <td>3</td>\n",
       "      <td>5</td>\n",
       "    </tr>\n",
       "    <tr>\n",
       "      <th>109</th>\n",
       "      <td>22</td>\n",
       "      <td>0.003578</td>\n",
       "      <td>Android</td>\n",
       "      <td>NaN</td>\n",
       "      <td>0</td>\n",
       "      <td>25662</td>\n",
       "      <td>2</td>\n",
       "      <td>3</td>\n",
       "      <td>3</td>\n",
       "    </tr>\n",
       "    <tr>\n",
       "      <th>222</th>\n",
       "      <td>22</td>\n",
       "      <td>0.003304</td>\n",
       "      <td>Android</td>\n",
       "      <td>NaN</td>\n",
       "      <td>1</td>\n",
       "      <td>51174</td>\n",
       "      <td>1</td>\n",
       "      <td>1</td>\n",
       "      <td>2</td>\n",
       "    </tr>\n",
       "    <tr>\n",
       "      <th>277</th>\n",
       "      <td>58</td>\n",
       "      <td>0.004315</td>\n",
       "      <td>laptop</td>\n",
       "      <td>NaN</td>\n",
       "      <td>1</td>\n",
       "      <td>67637</td>\n",
       "      <td>2</td>\n",
       "      <td>3</td>\n",
       "      <td>1</td>\n",
       "    </tr>\n",
       "    <tr>\n",
       "      <th>294</th>\n",
       "      <td>23</td>\n",
       "      <td>0.003803</td>\n",
       "      <td>desktop</td>\n",
       "      <td>NaN</td>\n",
       "      <td>1</td>\n",
       "      <td>46932</td>\n",
       "      <td>1</td>\n",
       "      <td>2</td>\n",
       "      <td>3</td>\n",
       "    </tr>\n",
       "    <tr>\n",
       "      <th>318</th>\n",
       "      <td>33</td>\n",
       "      <td>0.003681</td>\n",
       "      <td>desktop</td>\n",
       "      <td>NaN</td>\n",
       "      <td>1</td>\n",
       "      <td>67986</td>\n",
       "      <td>2</td>\n",
       "      <td>3</td>\n",
       "      <td>6</td>\n",
       "    </tr>\n",
       "    <tr>\n",
       "      <th>325</th>\n",
       "      <td>49</td>\n",
       "      <td>0.004353</td>\n",
       "      <td>desktop</td>\n",
       "      <td>NaN</td>\n",
       "      <td>0</td>\n",
       "      <td>79820</td>\n",
       "      <td>1</td>\n",
       "      <td>2</td>\n",
       "      <td>13</td>\n",
       "    </tr>\n",
       "    <tr>\n",
       "      <th>335</th>\n",
       "      <td>24</td>\n",
       "      <td>0.004162</td>\n",
       "      <td>other</td>\n",
       "      <td>NaN</td>\n",
       "      <td>0</td>\n",
       "      <td>34999</td>\n",
       "      <td>2</td>\n",
       "      <td>3</td>\n",
       "      <td>4</td>\n",
       "    </tr>\n",
       "  </tbody>\n",
       "</table>\n",
       "</div>"
      ],
      "text/plain": [
       "     age  cost_of_ad device_type gender  in_initial_launch_location  income  \\\n",
       "69    30    0.003440     desktop    NaN                           0   68949   \n",
       "78    31    0.003442       other    NaN                           0   35738   \n",
       "81    44    0.003662     desktop    NaN                           0   71453   \n",
       "109   22    0.003578     Android    NaN                           0   25662   \n",
       "222   22    0.003304     Android    NaN                           1   51174   \n",
       "277   58    0.004315      laptop    NaN                           1   67637   \n",
       "294   23    0.003803     desktop    NaN                           1   46932   \n",
       "318   33    0.003681     desktop    NaN                           1   67986   \n",
       "325   49    0.004353     desktop    NaN                           0   79820   \n",
       "335   24    0.004162       other    NaN                           0   34999   \n",
       "\n",
       "     n_drivers  n_vehicles  prior_ins_tenure  \n",
       "69           1           2                 2  \n",
       "78           2           2                 5  \n",
       "81           1           3                 5  \n",
       "109          2           3                 3  \n",
       "222          1           1                 2  \n",
       "277          2           3                 1  \n",
       "294          1           2                 3  \n",
       "318          2           3                 6  \n",
       "325          1           2                13  \n",
       "335          2           3                 4  "
      ]
     },
     "execution_count": 39,
     "metadata": {},
     "output_type": "execute_result"
    }
   ],
   "source": [
    "test[test.isnull().any(axis=1)].head(10)"
   ]
  },
  {
   "cell_type": "markdown",
   "metadata": {},
   "source": [
    "It seems bit impossible to impute the missing values for gender with given data. Having said that I will simply drop the missing values bot both test and train. \n",
    "\n",
    "Let's clean up the missing values first!"
   ]
  },
  {
   "cell_type": "code",
   "execution_count": 40,
   "metadata": {},
   "outputs": [],
   "source": [
    "train['type'] = 'train' # leave mark for splitting later\n",
    "test['type'] = 'test'\n",
    "dat = pd.concat([train,test], axis = 0, sort = False)"
   ]
  },
  {
   "cell_type": "code",
   "execution_count": 41,
   "metadata": {
    "scrolled": true
   },
   "outputs": [
    {
     "data": {
      "text/html": [
       "<div>\n",
       "<style scoped>\n",
       "    .dataframe tbody tr th:only-of-type {\n",
       "        vertical-align: middle;\n",
       "    }\n",
       "\n",
       "    .dataframe tbody tr th {\n",
       "        vertical-align: top;\n",
       "    }\n",
       "\n",
       "    .dataframe thead th {\n",
       "        text-align: right;\n",
       "    }\n",
       "</style>\n",
       "<table border=\"1\" class=\"dataframe\">\n",
       "  <thead>\n",
       "    <tr style=\"text-align: right;\">\n",
       "      <th></th>\n",
       "      <th>age</th>\n",
       "      <th>cost_of_ad</th>\n",
       "      <th>device_type</th>\n",
       "      <th>gender</th>\n",
       "      <th>in_initial_launch_location</th>\n",
       "      <th>income</th>\n",
       "      <th>n_drivers</th>\n",
       "      <th>n_vehicles</th>\n",
       "      <th>prior_ins_tenure</th>\n",
       "      <th>outcome</th>\n",
       "      <th>type</th>\n",
       "    </tr>\n",
       "  </thead>\n",
       "  <tbody>\n",
       "    <tr>\n",
       "      <th>0</th>\n",
       "      <td>56</td>\n",
       "      <td>0.005737</td>\n",
       "      <td>iPhone</td>\n",
       "      <td>M</td>\n",
       "      <td>0</td>\n",
       "      <td>62717</td>\n",
       "      <td>2</td>\n",
       "      <td>1</td>\n",
       "      <td>4</td>\n",
       "      <td>0.0</td>\n",
       "      <td>train</td>\n",
       "    </tr>\n",
       "    <tr>\n",
       "      <th>1</th>\n",
       "      <td>50</td>\n",
       "      <td>0.004733</td>\n",
       "      <td>desktop</td>\n",
       "      <td>F</td>\n",
       "      <td>0</td>\n",
       "      <td>64328</td>\n",
       "      <td>2</td>\n",
       "      <td>3</td>\n",
       "      <td>2</td>\n",
       "      <td>0.0</td>\n",
       "      <td>train</td>\n",
       "    </tr>\n",
       "    <tr>\n",
       "      <th>2</th>\n",
       "      <td>54</td>\n",
       "      <td>0.004129</td>\n",
       "      <td>laptop</td>\n",
       "      <td>M</td>\n",
       "      <td>0</td>\n",
       "      <td>83439</td>\n",
       "      <td>1</td>\n",
       "      <td>3</td>\n",
       "      <td>7</td>\n",
       "      <td>0.0</td>\n",
       "      <td>train</td>\n",
       "    </tr>\n",
       "    <tr>\n",
       "      <th>3</th>\n",
       "      <td>16</td>\n",
       "      <td>0.005117</td>\n",
       "      <td>Android</td>\n",
       "      <td>F</td>\n",
       "      <td>0</td>\n",
       "      <td>30110</td>\n",
       "      <td>2</td>\n",
       "      <td>3</td>\n",
       "      <td>0</td>\n",
       "      <td>0.0</td>\n",
       "      <td>train</td>\n",
       "    </tr>\n",
       "    <tr>\n",
       "      <th>4</th>\n",
       "      <td>37</td>\n",
       "      <td>0.003635</td>\n",
       "      <td>desktop</td>\n",
       "      <td>M</td>\n",
       "      <td>0</td>\n",
       "      <td>76565</td>\n",
       "      <td>2</td>\n",
       "      <td>1</td>\n",
       "      <td>5</td>\n",
       "      <td>0.0</td>\n",
       "      <td>train</td>\n",
       "    </tr>\n",
       "  </tbody>\n",
       "</table>\n",
       "</div>"
      ],
      "text/plain": [
       "   age  cost_of_ad device_type gender  in_initial_launch_location  income  \\\n",
       "0   56    0.005737      iPhone      M                           0   62717   \n",
       "1   50    0.004733     desktop      F                           0   64328   \n",
       "2   54    0.004129      laptop      M                           0   83439   \n",
       "3   16    0.005117     Android      F                           0   30110   \n",
       "4   37    0.003635     desktop      M                           0   76565   \n",
       "\n",
       "   n_drivers  n_vehicles  prior_ins_tenure  outcome   type  \n",
       "0          2           1                 4      0.0  train  \n",
       "1          2           3                 2      0.0  train  \n",
       "2          1           3                 7      0.0  train  \n",
       "3          2           3                 0      0.0  train  \n",
       "4          2           1                 5      0.0  train  "
      ]
     },
     "execution_count": 41,
     "metadata": {},
     "output_type": "execute_result"
    }
   ],
   "source": [
    "dat.head()"
   ]
  },
  {
   "cell_type": "markdown",
   "metadata": {},
   "source": [
    "the maximum row of the chart that our data varies in distribution; this will be important as we consider classification models. Standardization is an important requirement for many classification models that should be handled when implementing pre-processing."
   ]
  },
  {
   "cell_type": "code",
   "execution_count": 159,
   "metadata": {},
   "outputs": [],
   "source": [
    "def calculate_perc(data_frame, col):\n",
    "    col_vals = data_frame[col].value_counts().reset_index()\n",
    "\n",
    "    # If the number of unique instances in column exceeds 20 print warning\n",
    "    if len(col_vals['index']) > 20:\n",
    "        print('Warning: values in column are more than 20 \\nPlease try a column with lower value counts!')\n",
    "    # Else it calculates/prints percentage for each unique value in column\n",
    "    else:\n",
    "        # Create a function to output the percentage\n",
    "        f = lambda x, y: 100 * (x / sum(y))\n",
    "        for i in range(0, len(col_vals['index'])):\n",
    "            print('{0} accounts for {1:.2f}% of the {2} column'\\\n",
    "                .format(col_vals['index'][i],\n",
    "                        f(col_vals[col].iloc[i],\n",
    "                        col_vals[col]),\n",
    "                        col))"
   ]
  },
  {
   "cell_type": "code",
   "execution_count": 160,
   "metadata": {},
   "outputs": [
    {
     "name": "stdout",
     "output_type": "stream",
     "text": [
      "0.0 accounts for 90.00% of the outcome column\n",
      "1.0 accounts for 10.00% of the outcome column\n"
     ]
    }
   ],
   "source": [
    "calculate_perc(dat, 'outcome')"
   ]
  },
  {
   "cell_type": "code",
   "execution_count": 42,
   "metadata": {},
   "outputs": [],
   "source": [
    "dat = dat.dropna(subset = ['gender'])"
   ]
  },
  {
   "cell_type": "code",
   "execution_count": 43,
   "metadata": {
    "scrolled": true
   },
   "outputs": [
    {
     "name": "stdout",
     "output_type": "stream",
     "text": [
      "<class 'pandas.core.frame.DataFrame'>\n",
      "Int64Index: 19482 entries, 0 to 9999\n",
      "Data columns (total 11 columns):\n",
      "age                           19482 non-null int64\n",
      "cost_of_ad                    19482 non-null float64\n",
      "device_type                   19482 non-null object\n",
      "gender                        19482 non-null object\n",
      "in_initial_launch_location    19482 non-null int64\n",
      "income                        19482 non-null int64\n",
      "n_drivers                     19482 non-null int64\n",
      "n_vehicles                    19482 non-null int64\n",
      "prior_ins_tenure              19482 non-null int64\n",
      "outcome                       9731 non-null float64\n",
      "type                          19482 non-null object\n",
      "dtypes: float64(2), int64(6), object(3)\n",
      "memory usage: 1.8+ MB\n"
     ]
    }
   ],
   "source": [
    "dat.info()"
   ]
  },
  {
   "cell_type": "markdown",
   "metadata": {},
   "source": [
    "device_type and gender should be categorical, instead of obj. Let's fix them"
   ]
  },
  {
   "cell_type": "code",
   "execution_count": 44,
   "metadata": {
    "scrolled": true
   },
   "outputs": [
    {
     "name": "stdout",
     "output_type": "stream",
     "text": [
      "<class 'pandas.core.frame.DataFrame'>\n",
      "Int64Index: 19482 entries, 0 to 9999\n",
      "Data columns (total 11 columns):\n",
      "age                           19482 non-null int64\n",
      "cost_of_ad                    19482 non-null float64\n",
      "device_type                   19482 non-null category\n",
      "gender                        19482 non-null category\n",
      "in_initial_launch_location    19482 non-null int64\n",
      "income                        19482 non-null int64\n",
      "n_drivers                     19482 non-null int64\n",
      "n_vehicles                    19482 non-null int64\n",
      "prior_ins_tenure              19482 non-null int64\n",
      "outcome                       9731 non-null float64\n",
      "type                          19482 non-null object\n",
      "dtypes: category(2), float64(2), int64(6), object(1)\n",
      "memory usage: 1.5+ MB\n"
     ]
    }
   ],
   "source": [
    "category_columns = [\"device_type\",\"gender\"]\n",
    "\n",
    "for col in category_columns:\n",
    "    dat[col] = dat[col].astype('category')\n",
    "dat.info()"
   ]
  },
  {
   "cell_type": "code",
   "execution_count": null,
   "metadata": {},
   "outputs": [],
   "source": []
  },
  {
   "cell_type": "markdown",
   "metadata": {},
   "source": [
    "Splitting back to the train and test set"
   ]
  },
  {
   "cell_type": "code",
   "execution_count": 46,
   "metadata": {},
   "outputs": [],
   "source": [
    "train=dat[dat['type']=='train']\n",
    "test=dat[dat['type']=='test']"
   ]
  },
  {
   "cell_type": "code",
   "execution_count": 47,
   "metadata": {},
   "outputs": [],
   "source": [
    "# dropping the type column which no longer needed. Also, drop the outcome column from test set \n",
    "train = train.drop(['type'], axis = 1)\n",
    "test = test.drop(['type','outcome'], axis = 1)"
   ]
  },
  {
   "cell_type": "code",
   "execution_count": 48,
   "metadata": {},
   "outputs": [
    {
     "data": {
      "text/html": [
       "<div>\n",
       "<style scoped>\n",
       "    .dataframe tbody tr th:only-of-type {\n",
       "        vertical-align: middle;\n",
       "    }\n",
       "\n",
       "    .dataframe tbody tr th {\n",
       "        vertical-align: top;\n",
       "    }\n",
       "\n",
       "    .dataframe thead th {\n",
       "        text-align: right;\n",
       "    }\n",
       "</style>\n",
       "<table border=\"1\" class=\"dataframe\">\n",
       "  <thead>\n",
       "    <tr style=\"text-align: right;\">\n",
       "      <th></th>\n",
       "      <th>age</th>\n",
       "      <th>cost_of_ad</th>\n",
       "      <th>device_type</th>\n",
       "      <th>gender</th>\n",
       "      <th>in_initial_launch_location</th>\n",
       "      <th>income</th>\n",
       "      <th>n_drivers</th>\n",
       "      <th>n_vehicles</th>\n",
       "      <th>prior_ins_tenure</th>\n",
       "      <th>outcome</th>\n",
       "    </tr>\n",
       "  </thead>\n",
       "  <tbody>\n",
       "    <tr>\n",
       "      <th>0</th>\n",
       "      <td>56</td>\n",
       "      <td>0.005737</td>\n",
       "      <td>iPhone</td>\n",
       "      <td>M</td>\n",
       "      <td>0</td>\n",
       "      <td>62717</td>\n",
       "      <td>2</td>\n",
       "      <td>1</td>\n",
       "      <td>4</td>\n",
       "      <td>0.0</td>\n",
       "    </tr>\n",
       "    <tr>\n",
       "      <th>1</th>\n",
       "      <td>50</td>\n",
       "      <td>0.004733</td>\n",
       "      <td>desktop</td>\n",
       "      <td>F</td>\n",
       "      <td>0</td>\n",
       "      <td>64328</td>\n",
       "      <td>2</td>\n",
       "      <td>3</td>\n",
       "      <td>2</td>\n",
       "      <td>0.0</td>\n",
       "    </tr>\n",
       "    <tr>\n",
       "      <th>2</th>\n",
       "      <td>54</td>\n",
       "      <td>0.004129</td>\n",
       "      <td>laptop</td>\n",
       "      <td>M</td>\n",
       "      <td>0</td>\n",
       "      <td>83439</td>\n",
       "      <td>1</td>\n",
       "      <td>3</td>\n",
       "      <td>7</td>\n",
       "      <td>0.0</td>\n",
       "    </tr>\n",
       "    <tr>\n",
       "      <th>3</th>\n",
       "      <td>16</td>\n",
       "      <td>0.005117</td>\n",
       "      <td>Android</td>\n",
       "      <td>F</td>\n",
       "      <td>0</td>\n",
       "      <td>30110</td>\n",
       "      <td>2</td>\n",
       "      <td>3</td>\n",
       "      <td>0</td>\n",
       "      <td>0.0</td>\n",
       "    </tr>\n",
       "    <tr>\n",
       "      <th>4</th>\n",
       "      <td>37</td>\n",
       "      <td>0.003635</td>\n",
       "      <td>desktop</td>\n",
       "      <td>M</td>\n",
       "      <td>0</td>\n",
       "      <td>76565</td>\n",
       "      <td>2</td>\n",
       "      <td>1</td>\n",
       "      <td>5</td>\n",
       "      <td>0.0</td>\n",
       "    </tr>\n",
       "  </tbody>\n",
       "</table>\n",
       "</div>"
      ],
      "text/plain": [
       "   age  cost_of_ad device_type gender  in_initial_launch_location  income  \\\n",
       "0   56    0.005737      iPhone      M                           0   62717   \n",
       "1   50    0.004733     desktop      F                           0   64328   \n",
       "2   54    0.004129      laptop      M                           0   83439   \n",
       "3   16    0.005117     Android      F                           0   30110   \n",
       "4   37    0.003635     desktop      M                           0   76565   \n",
       "\n",
       "   n_drivers  n_vehicles  prior_ins_tenure  outcome  \n",
       "0          2           1                 4      0.0  \n",
       "1          2           3                 2      0.0  \n",
       "2          1           3                 7      0.0  \n",
       "3          2           3                 0      0.0  \n",
       "4          2           1                 5      0.0  "
      ]
     },
     "execution_count": 48,
     "metadata": {},
     "output_type": "execute_result"
    }
   ],
   "source": [
    "train.head()"
   ]
  },
  {
   "cell_type": "code",
   "execution_count": 49,
   "metadata": {},
   "outputs": [
    {
     "data": {
      "text/html": [
       "<div>\n",
       "<style scoped>\n",
       "    .dataframe tbody tr th:only-of-type {\n",
       "        vertical-align: middle;\n",
       "    }\n",
       "\n",
       "    .dataframe tbody tr th {\n",
       "        vertical-align: top;\n",
       "    }\n",
       "\n",
       "    .dataframe thead th {\n",
       "        text-align: right;\n",
       "    }\n",
       "</style>\n",
       "<table border=\"1\" class=\"dataframe\">\n",
       "  <thead>\n",
       "    <tr style=\"text-align: right;\">\n",
       "      <th></th>\n",
       "      <th>age</th>\n",
       "      <th>cost_of_ad</th>\n",
       "      <th>device_type</th>\n",
       "      <th>gender</th>\n",
       "      <th>in_initial_launch_location</th>\n",
       "      <th>income</th>\n",
       "      <th>n_drivers</th>\n",
       "      <th>n_vehicles</th>\n",
       "      <th>prior_ins_tenure</th>\n",
       "    </tr>\n",
       "  </thead>\n",
       "  <tbody>\n",
       "    <tr>\n",
       "      <th>0</th>\n",
       "      <td>34</td>\n",
       "      <td>0.005134</td>\n",
       "      <td>Android</td>\n",
       "      <td>F</td>\n",
       "      <td>1</td>\n",
       "      <td>40376</td>\n",
       "      <td>1</td>\n",
       "      <td>3</td>\n",
       "      <td>7</td>\n",
       "    </tr>\n",
       "    <tr>\n",
       "      <th>1</th>\n",
       "      <td>53</td>\n",
       "      <td>0.005223</td>\n",
       "      <td>desktop</td>\n",
       "      <td>F</td>\n",
       "      <td>1</td>\n",
       "      <td>84511</td>\n",
       "      <td>1</td>\n",
       "      <td>1</td>\n",
       "      <td>11</td>\n",
       "    </tr>\n",
       "    <tr>\n",
       "      <th>2</th>\n",
       "      <td>46</td>\n",
       "      <td>0.004939</td>\n",
       "      <td>laptop</td>\n",
       "      <td>F</td>\n",
       "      <td>0</td>\n",
       "      <td>79322</td>\n",
       "      <td>1</td>\n",
       "      <td>1</td>\n",
       "      <td>4</td>\n",
       "    </tr>\n",
       "    <tr>\n",
       "      <th>3</th>\n",
       "      <td>36</td>\n",
       "      <td>0.004924</td>\n",
       "      <td>Android</td>\n",
       "      <td>F</td>\n",
       "      <td>0</td>\n",
       "      <td>63295</td>\n",
       "      <td>1</td>\n",
       "      <td>2</td>\n",
       "      <td>0</td>\n",
       "    </tr>\n",
       "    <tr>\n",
       "      <th>4</th>\n",
       "      <td>28</td>\n",
       "      <td>0.005146</td>\n",
       "      <td>other</td>\n",
       "      <td>F</td>\n",
       "      <td>1</td>\n",
       "      <td>36170</td>\n",
       "      <td>1</td>\n",
       "      <td>3</td>\n",
       "      <td>3</td>\n",
       "    </tr>\n",
       "  </tbody>\n",
       "</table>\n",
       "</div>"
      ],
      "text/plain": [
       "   age  cost_of_ad device_type gender  in_initial_launch_location  income  \\\n",
       "0   34    0.005134     Android      F                           1   40376   \n",
       "1   53    0.005223     desktop      F                           1   84511   \n",
       "2   46    0.004939      laptop      F                           0   79322   \n",
       "3   36    0.004924     Android      F                           0   63295   \n",
       "4   28    0.005146       other      F                           1   36170   \n",
       "\n",
       "   n_drivers  n_vehicles  prior_ins_tenure  \n",
       "0          1           3                 7  \n",
       "1          1           1                11  \n",
       "2          1           1                 4  \n",
       "3          1           2                 0  \n",
       "4          1           3                 3  "
      ]
     },
     "execution_count": 49,
     "metadata": {},
     "output_type": "execute_result"
    }
   ],
   "source": [
    "test.head()"
   ]
  },
  {
   "cell_type": "markdown",
   "metadata": {},
   "source": [
    "Note: there is no target variable into test data (i.e. \"outcome\" column is missing), so the goal is to predict this target using different machine learning algorithms such as logistic regression. "
   ]
  },
  {
   "cell_type": "code",
   "execution_count": 50,
   "metadata": {},
   "outputs": [
    {
     "name": "stdout",
     "output_type": "stream",
     "text": [
      "The number of observation in the train data is 9731.\n",
      "The number of observation in the test data is 9751.\n"
     ]
    }
   ],
   "source": [
    "print('The number of observation in the train data is {}.'.format(train.shape[0]))\n",
    "print('The number of observation in the test data is {}.'.format(test.shape[0]))"
   ]
  },
  {
   "cell_type": "markdown",
   "metadata": {},
   "source": [
    "Note: due to the missing values, now the number of train set is smaller than that of test set."
   ]
  },
  {
   "cell_type": "markdown",
   "metadata": {},
   "source": [
    "### Data Cleaning & EDA"
   ]
  },
  {
   "cell_type": "code",
   "execution_count": 53,
   "metadata": {},
   "outputs": [
    {
     "name": "stdout",
     "output_type": "stream",
     "text": [
      "[iPhone, desktop, laptop, Android, other]\n",
      "Categories (5, object): [iPhone, desktop, laptop, Android, other]\n"
     ]
    },
    {
     "data": {
      "text/plain": [
       "desktop    1988\n",
       "Android    1980\n",
       "other      1936\n",
       "laptop     1922\n",
       "iPhone     1905\n",
       "Name: device_type, dtype: int64"
      ]
     },
     "execution_count": 53,
     "metadata": {},
     "output_type": "execute_result"
    }
   ],
   "source": [
    "print(train.device_type.unique())\n",
    "train.device_type.value_counts()"
   ]
  },
  {
   "cell_type": "code",
   "execution_count": 67,
   "metadata": {
    "scrolled": true
   },
   "outputs": [
    {
     "data": {
      "text/plain": [
       "<matplotlib.axes._subplots.AxesSubplot at 0x26f0667ba20>"
      ]
     },
     "execution_count": 67,
     "metadata": {},
     "output_type": "execute_result"
    },
    {
     "data": {
      "image/png": "[encoded data removed]",
      "text/plain": [
       "<Figure size 432x288 with 1 Axes>"
      ]
     },
     "metadata": {
      "needs_background": "light"
     },
     "output_type": "display_data"
    }
   ],
   "source": [
    "sns.countplot(x='device_type', data=train, palette='Set2')\n",
    "#plt.show()"
   ]
  },
  {
   "cell_type": "code",
   "execution_count": 81,
   "metadata": {},
   "outputs": [
    {
     "data": {
      "text/plain": [
       "<matplotlib.axes._subplots.AxesSubplot at 0x26f0ba0d208>"
      ]
     },
     "execution_count": 81,
     "metadata": {},
     "output_type": "execute_result"
    },
    {
     "data": {
      "image/png": "[encoded data removed]",
      "text/plain": [
       "<Figure size 432x288 with 1 Axes>"
      ]
     },
     "metadata": {
      "needs_background": "light"
     },
     "output_type": "display_data"
    }
   ],
   "source": [
    "sns.barplot(x = 'device_type', y = 'outcome', data = train.groupby('device_type')['outcome'].sum().reset_index().sort_values(by = 'outcome', ascending = False))"
   ]
  },
  {
   "cell_type": "markdown",
   "metadata": {},
   "source": [
    "even though the number of device types are pretty much the same, each type has differnt impact on the outcome"
   ]
  },
  {
   "cell_type": "code",
   "execution_count": 63,
   "metadata": {},
   "outputs": [
    {
     "data": {
      "text/plain": [
       "[Text(0.5, 0, 'Age')]"
      ]
     },
     "execution_count": 63,
     "metadata": {},
     "output_type": "execute_result"
    },
    {
     "data": {
      "image/png": "[encoded data removed]",
      "text/plain": [
       "<Figure size 432x288 with 1 Axes>"
      ]
     },
     "metadata": {
      "needs_background": "light"
     },
     "output_type": "display_data"
    }
   ],
   "source": [
    "ax = train[\"age\"].hist(bins=15, density=True, stacked=True, color='teal', alpha=0.6)\n",
    "train[\"age\"].plot(kind='density', color='teal')\n",
    "ax.set(xlabel='Age')\n",
    "# plt.xlim(-10,85)\n"
   ]
  },
  {
   "cell_type": "markdown",
   "metadata": {},
   "source": [
    "\"Age\" shows uniform distribution. It is not ideal still not a big problem."
   ]
  },
  {
   "cell_type": "code",
   "execution_count": 64,
   "metadata": {},
   "outputs": [
    {
     "name": "stdout",
     "output_type": "stream",
     "text": [
      "The mean of \"Age\" is 37.98\n",
      "The median of \"Age\" is 38.00\n"
     ]
    }
   ],
   "source": [
    "# mean age\n",
    "print('The mean of \"Age\" is %.2f' %(train[\"age\"].mean(skipna=True))) #skipna is not needed\n",
    "# median age\n",
    "print('The median of \"Age\" is %.2f' %(train[\"age\"].median(skipna=True)))"
   ]
  },
  {
   "cell_type": "code",
   "execution_count": 82,
   "metadata": {
    "scrolled": true
   },
   "outputs": [
    {
     "name": "stdout",
     "output_type": "stream",
     "text": [
      "The number of each gender:\n",
      "F    4970\n",
      "M    4761\n",
      "Name: gender, dtype: int64\n"
     ]
    },
    {
     "data": {
      "text/plain": [
       "<matplotlib.axes._subplots.AxesSubplot at 0x26f0b9abf98>"
      ]
     },
     "execution_count": 82,
     "metadata": {},
     "output_type": "execute_result"
    },
    {
     "data": {
      "image/png": "[encoded data removed]",
      "text/plain": [
       "<Figure size 432x288 with 1 Axes>"
      ]
     },
     "metadata": {
      "needs_background": "light"
     },
     "output_type": "display_data"
    }
   ],
   "source": [
    "print('The number of each gender:')\n",
    "print(train['gender'].value_counts())\n",
    "sns.countplot(x='gender', data=train, palette='Set2')"
   ]
  },
  {
   "cell_type": "markdown",
   "metadata": {},
   "source": [
    "Take a look at the age for each gender and device_type"
   ]
  },
  {
   "cell_type": "code",
   "execution_count": 85,
   "metadata": {
    "scrolled": true
   },
   "outputs": [
    {
     "name": "stdout",
     "output_type": "stream",
     "text": [
      "              age\n",
      "gender           \n",
      "F       38.051308\n",
      "M       37.903382\n",
      "                   age\n",
      "device_type           \n",
      "Android      38.413131\n",
      "desktop      37.586016\n",
      "iPhone       37.517585\n",
      "laptop       38.435484\n",
      "other        37.939050\n"
     ]
    }
   ],
   "source": [
    "var = ['gender', 'device_type']\n",
    "\n",
    "for i in var:\n",
    "    print(pd.pivot_table(train, values = ['age'], index = i, aggfunc = np.mean))"
   ]
  },
  {
   "cell_type": "code",
   "execution_count": 106,
   "metadata": {},
   "outputs": [],
   "source": [
    "#create categorical variables \n",
    "final_train = pd.get_dummies(train, columns =[\"gender\",\"device_type\"])\n",
    "final_test = pd.get_dummies(test, columns =[\"gender\",\"device_type\"])"
   ]
  },
  {
   "cell_type": "code",
   "execution_count": 107,
   "metadata": {
    "scrolled": true
   },
   "outputs": [
    {
     "data": {
      "text/html": [
       "<div>\n",
       "<style scoped>\n",
       "    .dataframe tbody tr th:only-of-type {\n",
       "        vertical-align: middle;\n",
       "    }\n",
       "\n",
       "    .dataframe tbody tr th {\n",
       "        vertical-align: top;\n",
       "    }\n",
       "\n",
       "    .dataframe thead th {\n",
       "        text-align: right;\n",
       "    }\n",
       "</style>\n",
       "<table border=\"1\" class=\"dataframe\">\n",
       "  <thead>\n",
       "    <tr style=\"text-align: right;\">\n",
       "      <th></th>\n",
       "      <th>age</th>\n",
       "      <th>cost_of_ad</th>\n",
       "      <th>in_initial_launch_location</th>\n",
       "      <th>income</th>\n",
       "      <th>n_drivers</th>\n",
       "      <th>n_vehicles</th>\n",
       "      <th>prior_ins_tenure</th>\n",
       "      <th>outcome</th>\n",
       "      <th>gender_F</th>\n",
       "      <th>gender_M</th>\n",
       "      <th>device_type_Android</th>\n",
       "      <th>device_type_desktop</th>\n",
       "      <th>device_type_iPhone</th>\n",
       "      <th>device_type_laptop</th>\n",
       "      <th>device_type_other</th>\n",
       "    </tr>\n",
       "  </thead>\n",
       "  <tbody>\n",
       "    <tr>\n",
       "      <th>0</th>\n",
       "      <td>56</td>\n",
       "      <td>0.005737</td>\n",
       "      <td>0</td>\n",
       "      <td>62717</td>\n",
       "      <td>2</td>\n",
       "      <td>1</td>\n",
       "      <td>4</td>\n",
       "      <td>0.0</td>\n",
       "      <td>0</td>\n",
       "      <td>1</td>\n",
       "      <td>0</td>\n",
       "      <td>0</td>\n",
       "      <td>1</td>\n",
       "      <td>0</td>\n",
       "      <td>0</td>\n",
       "    </tr>\n",
       "    <tr>\n",
       "      <th>1</th>\n",
       "      <td>50</td>\n",
       "      <td>0.004733</td>\n",
       "      <td>0</td>\n",
       "      <td>64328</td>\n",
       "      <td>2</td>\n",
       "      <td>3</td>\n",
       "      <td>2</td>\n",
       "      <td>0.0</td>\n",
       "      <td>1</td>\n",
       "      <td>0</td>\n",
       "      <td>0</td>\n",
       "      <td>1</td>\n",
       "      <td>0</td>\n",
       "      <td>0</td>\n",
       "      <td>0</td>\n",
       "    </tr>\n",
       "    <tr>\n",
       "      <th>2</th>\n",
       "      <td>54</td>\n",
       "      <td>0.004129</td>\n",
       "      <td>0</td>\n",
       "      <td>83439</td>\n",
       "      <td>1</td>\n",
       "      <td>3</td>\n",
       "      <td>7</td>\n",
       "      <td>0.0</td>\n",
       "      <td>0</td>\n",
       "      <td>1</td>\n",
       "      <td>0</td>\n",
       "      <td>0</td>\n",
       "      <td>0</td>\n",
       "      <td>1</td>\n",
       "      <td>0</td>\n",
       "    </tr>\n",
       "    <tr>\n",
       "      <th>3</th>\n",
       "      <td>16</td>\n",
       "      <td>0.005117</td>\n",
       "      <td>0</td>\n",
       "      <td>30110</td>\n",
       "      <td>2</td>\n",
       "      <td>3</td>\n",
       "      <td>0</td>\n",
       "      <td>0.0</td>\n",
       "      <td>1</td>\n",
       "      <td>0</td>\n",
       "      <td>1</td>\n",
       "      <td>0</td>\n",
       "      <td>0</td>\n",
       "      <td>0</td>\n",
       "      <td>0</td>\n",
       "    </tr>\n",
       "    <tr>\n",
       "      <th>4</th>\n",
       "      <td>37</td>\n",
       "      <td>0.003635</td>\n",
       "      <td>0</td>\n",
       "      <td>76565</td>\n",
       "      <td>2</td>\n",
       "      <td>1</td>\n",
       "      <td>5</td>\n",
       "      <td>0.0</td>\n",
       "      <td>0</td>\n",
       "      <td>1</td>\n",
       "      <td>0</td>\n",
       "      <td>1</td>\n",
       "      <td>0</td>\n",
       "      <td>0</td>\n",
       "      <td>0</td>\n",
       "    </tr>\n",
       "  </tbody>\n",
       "</table>\n",
       "</div>"
      ],
      "text/plain": [
       "   age  cost_of_ad  in_initial_launch_location  income  n_drivers  n_vehicles  \\\n",
       "0   56    0.005737                           0   62717          2           1   \n",
       "1   50    0.004733                           0   64328          2           3   \n",
       "2   54    0.004129                           0   83439          1           3   \n",
       "3   16    0.005117                           0   30110          2           3   \n",
       "4   37    0.003635                           0   76565          2           1   \n",
       "\n",
       "   prior_ins_tenure  outcome  gender_F  gender_M  device_type_Android  \\\n",
       "0                 4      0.0         0         1                    0   \n",
       "1                 2      0.0         1         0                    0   \n",
       "2                 7      0.0         0         1                    0   \n",
       "3                 0      0.0         1         0                    1   \n",
       "4                 5      0.0         0         1                    0   \n",
       "\n",
       "   device_type_desktop  device_type_iPhone  device_type_laptop  \\\n",
       "0                    0                   1                   0   \n",
       "1                    1                   0                   0   \n",
       "2                    0                   0                   1   \n",
       "3                    0                   0                   0   \n",
       "4                    1                   0                   0   \n",
       "\n",
       "   device_type_other  \n",
       "0                  0  \n",
       "1                  0  \n",
       "2                  0  \n",
       "3                  0  \n",
       "4                  0  "
      ]
     },
     "execution_count": 107,
     "metadata": {},
     "output_type": "execute_result"
    }
   ],
   "source": [
    "final_train.head()"
   ]
  },
  {
   "cell_type": "code",
   "execution_count": 97,
   "metadata": {},
   "outputs": [
    {
     "data": {
      "text/plain": [
       "[Text(0.5, 17.200000000000003, 'Age')]"
      ]
     },
     "execution_count": 97,
     "metadata": {},
     "output_type": "execute_result"
    },
    {
     "data": {
      "image/png": "[encoded data removed]",
      "text/plain": [
       "<Figure size 432x288 with 1 Axes>"
      ]
     },
     "metadata": {
      "needs_background": "light"
     },
     "output_type": "display_data"
    }
   ],
   "source": [
    "p1 = sns.kdeplot(final_train[\"age\"][final_train.outcome == 1], color=\"darkturquoise\", shade=True)\n",
    "p2 = sns.kdeplot(final_train[\"age\"][final_train.outcome == 0], color=\"lightcoral\", shade=True)\n",
    "ax.set(xlabel='Age')\n"
   ]
  },
  {
   "cell_type": "code",
   "execution_count": 99,
   "metadata": {},
   "outputs": [
    {
     "data": {
      "text/html": [
       "<div>\n",
       "<style scoped>\n",
       "    .dataframe tbody tr th:only-of-type {\n",
       "        vertical-align: middle;\n",
       "    }\n",
       "\n",
       "    .dataframe tbody tr th {\n",
       "        vertical-align: top;\n",
       "    }\n",
       "\n",
       "    .dataframe thead th {\n",
       "        text-align: right;\n",
       "    }\n",
       "</style>\n",
       "<table border=\"1\" class=\"dataframe\">\n",
       "  <thead>\n",
       "    <tr style=\"text-align: right;\">\n",
       "      <th></th>\n",
       "      <th>outcome</th>\n",
       "      <th>age</th>\n",
       "    </tr>\n",
       "  </thead>\n",
       "  <tbody>\n",
       "    <tr>\n",
       "      <th>0</th>\n",
       "      <td>0.0</td>\n",
       "      <td>38.036310</td>\n",
       "    </tr>\n",
       "    <tr>\n",
       "      <th>1</th>\n",
       "      <td>1.0</td>\n",
       "      <td>37.462487</td>\n",
       "    </tr>\n",
       "  </tbody>\n",
       "</table>\n",
       "</div>"
      ],
      "text/plain": [
       "   outcome        age\n",
       "0      0.0  38.036310\n",
       "1      1.0  37.462487"
      ]
     },
     "execution_count": 99,
     "metadata": {},
     "output_type": "execute_result"
    }
   ],
   "source": [
    "final_train[[\"age\", \"outcome\"]].groupby(['outcome'], as_index=False).mean()"
   ]
  },
  {
   "cell_type": "markdown",
   "metadata": {},
   "source": [
    "now it is ready to run the regression! "
   ]
  },
  {
   "cell_type": "markdown",
   "metadata": {},
   "source": [
    "###  Logistic Regression and Results"
   ]
  },
  {
   "cell_type": "markdown",
   "metadata": {},
   "source": [
    "##### Feature selection:\n",
    "\n",
    "###### Recursive feature elimination:\n",
    "Given an external estimator that assigns weights to features, recursive feature elimination (RFE) is to select features by recursively considering smaller and smaller sets of features. First, the estimator is trained on the initial set of features and the importance of each feature is obtained either through a coef_ attribute or through a feature_importances_ attribute. Then, the least important features are pruned from current set of features.That procedure is recursively repeated on the pruned set until the desired number of features to select is eventually reached."
   ]
  },
  {
   "cell_type": "code",
   "execution_count": 101,
   "metadata": {},
   "outputs": [],
   "source": [
    "from sklearn.linear_model import LogisticRegression\n",
    "from sklearn.feature_selection import RFE"
   ]
  },
  {
   "cell_type": "markdown",
   "metadata": {},
   "source": [
    "Before the feature selections, there are 15 columns, including dummies for categorical variables"
   ]
  },
  {
   "cell_type": "code",
   "execution_count": 103,
   "metadata": {},
   "outputs": [
    {
     "data": {
      "text/plain": [
       "15"
      ]
     },
     "execution_count": 103,
     "metadata": {},
     "output_type": "execute_result"
    }
   ],
   "source": [
    "len(final_training.columns)"
   ]
  },
  {
   "cell_type": "code",
   "execution_count": 119,
   "metadata": {
    "scrolled": true
   },
   "outputs": [
    {
     "name": "stdout",
     "output_type": "stream",
     "text": [
      "Selected features: ['in_initial_launch_location', 'n_drivers', 'n_vehicles', 'gender_F', 'device_type_Android', 'device_type_desktop', 'device_type_laptop', 'device_type_other']\n"
     ]
    }
   ],
   "source": [
    "X = final_train.drop(['outcome'], axis = 1)\n",
    "y = final_train['outcome']\n",
    "\n",
    "model = LogisticRegression()\n",
    "\n",
    "rfe = RFE(model, 8)\n",
    "rfe = rfe.fit(X, y)\n",
    "\n",
    "print('Selected features: %s' % list(X.columns[rfe.support_]))"
   ]
  },
  {
   "cell_type": "markdown",
   "metadata": {},
   "source": [
    "###### Feature ranking with recursive feature elimination and cross-validation\n",
    "\n",
    "RFECV performs RFE in a cross-validation loop to find the optimal number or the best number of features. Hereafter a recursive feature elimination applied on logistic regression with automatic tuning of the number of features selected with cross-validation.\n"
   ]
  },
  {
   "cell_type": "code",
   "execution_count": 118,
   "metadata": {
    "scrolled": true
   },
   "outputs": [
    {
     "name": "stdout",
     "output_type": "stream",
     "text": [
      "Optimal number of features: 6\n",
      "Selected features: ['in_initial_launch_location', 'n_drivers', 'n_vehicles', 'gender_F', 'device_type_laptop', 'device_type_other']\n"
     ]
    },
    {
     "data": {
      "image/png": "[encoded data removed]",
      "text/plain": [
       "<Figure size 720x432 with 1 Axes>"
      ]
     },
     "metadata": {
      "needs_background": "light"
     },
     "output_type": "display_data"
    }
   ],
   "source": [
    "from sklearn.feature_selection import RFECV\n",
    "\n",
    "rfecv = RFECV(estimator=LogisticRegression(), step=1, cv=10, scoring='accuracy')\n",
    "rfecv.fit(X, y)\n",
    "\n",
    "print(\"Optimal number of features: %d\" % rfecv.n_features_)\n",
    "print('Selected features: %s' % list(X.columns[rfecv.support_]))\n",
    "\n",
    "# Plot number of features VS. cross-validation scores\n",
    "plt.figure(figsize=(10,6))\n",
    "plt.xlabel(\"Number of features selected\")\n",
    "plt.ylabel(\"Cross validation score (nb of correct classifications)\")\n",
    "plt.plot(range(1, len(rfecv.grid_scores_) + 1), rfecv.grid_scores_)\n",
    "plt.show()"
   ]
  },
  {
   "cell_type": "markdown",
   "metadata": {},
   "source": [
    "According to the RFECV, 6 variables are impactful, instead of 8. "
   ]
  },
  {
   "cell_type": "code",
   "execution_count": 120,
   "metadata": {},
   "outputs": [
    {
     "data": {
      "image/png": "[encoded data removed]",
      "text/plain": [
       "<Figure size 576x360 with 2 Axes>"
      ]
     },
     "metadata": {
      "needs_background": "light"
     },
     "output_type": "display_data"
    }
   ],
   "source": [
    "Selected_features = ['in_initial_launch_location', 'n_drivers', 'n_vehicles', 'gender_F', 'device_type_laptop', 'device_type_other']\n",
    "X = final_train[Selected_features]\n",
    "\n",
    "plt.subplots(figsize=(8, 5))\n",
    "sns.heatmap(X.corr(), annot=True, cmap=\"RdYlGn\")\n",
    "plt.show()"
   ]
  },
  {
   "cell_type": "markdown",
   "metadata": {},
   "source": [
    "###### Review of model evaluation procedures\n",
    "\n",
    "Motivation: Need a way to choose between machine learning models\n",
    "\n",
    "    Goal is to estimate likely performance of a model on out-of-sample data\n",
    "\n",
    "Initial idea: Train and test on the same data\n",
    "\n",
    "    But, maximizing training accuracy rewards overly complex models which overfit the training data\n",
    "\n",
    "Alternative idea: Train/test split\n",
    "\n",
    "    Split the dataset into two pieces, so that the model can be trained and tested on different data\n",
    "    Testing accuracy is a better estimate than training accuracy of out-of-sample performance\n",
    "    Problem with train/test split\n",
    "        It provides a high variance estimate since changing which observations happen to be in the testing set can significantly change testing accuracy\n",
    "        Testing accuracy can change a lot depending on a which observation happen to be in the testing set\n"
   ]
  },
  {
   "cell_type": "markdown",
   "metadata": {},
   "source": [
    "###### Model evaluation based on simple train/test split using train_test_split() function"
   ]
  },
  {
   "cell_type": "code",
   "execution_count": 122,
   "metadata": {
    "scrolled": true
   },
   "outputs": [
    {
     "name": "stdout",
     "output_type": "stream",
     "text": [
      "Train/Test split results:\n",
      "LogisticRegression accuracy is 0.913\n",
      "LogisticRegression log_loss is 0.266\n",
      "LogisticRegression auc is 0.789\n"
     ]
    },
    {
     "data": {
      "image/png": "[encoded data removed]",
      "text/plain": [
       "<Figure size 432x288 with 1 Axes>"
      ]
     },
     "metadata": {
      "needs_background": "light"
     },
     "output_type": "display_data"
    },
    {
     "name": "stdout",
     "output_type": "stream",
     "text": [
      "Using a threshold of 0.019 guarantees a sensitivity of 0.953 and a specificity of 0.221, i.e. a false positive rate of 77.90%.\n"
     ]
    }
   ],
   "source": [
    "from sklearn.model_selection import train_test_split, cross_val_score\n",
    "from sklearn.metrics import accuracy_score, classification_report, precision_score, recall_score \n",
    "from sklearn.metrics import confusion_matrix, precision_recall_curve, roc_curve, auc, log_loss\n",
    "\n",
    "# create X (features) and y (response)\n",
    "X = final_train[Selected_features]\n",
    "y = final_train['outcome']\n",
    "\n",
    "# use train/test split with different random_state values\n",
    "# the scores change a lot, this is why testing scores is a high-variance estimate\n",
    "X_train, X_test, y_train, y_test = train_test_split(X, y, test_size=0.2, random_state=2)\n",
    "\n",
    "# check classification scores of logistic regression\n",
    "logreg = LogisticRegression()\n",
    "logreg.fit(X_train, y_train)\n",
    "\n",
    "y_pred = logreg.predict(X_test)\n",
    "y_pred_proba = logreg.predict_proba(X_test)[:, 1]\n",
    "[fpr, tpr, thr] = roc_curve(y_test, y_pred_proba)\n",
    "\n",
    "print('Train/Test split results:')\n",
    "print(logreg.__class__.__name__+\" accuracy is %2.3f\" % accuracy_score(y_test, y_pred))\n",
    "print(logreg.__class__.__name__+\" log_loss is %2.3f\" % log_loss(y_test, y_pred_proba))\n",
    "print(logreg.__class__.__name__+\" auc is %2.3f\" % auc(fpr, tpr))\n",
    "\n",
    "idx = np.min(np.where(tpr > 0.95)) # index of the first threshold for which the sensibility > 0.95\n",
    "\n",
    "plt.figure()\n",
    "plt.plot(fpr, tpr, color='coral', label='ROC curve (area = %0.3f)' % auc(fpr, tpr))\n",
    "plt.plot([0, 1], [0, 1], 'k--')\n",
    "plt.plot([0,fpr[idx]], [tpr[idx],tpr[idx]], 'k--', color='blue')\n",
    "plt.plot([fpr[idx],fpr[idx]], [0,tpr[idx]], 'k--', color='blue')\n",
    "plt.xlim([0.0, 1.0])\n",
    "plt.ylim([0.0, 1.05])\n",
    "plt.xlabel('False Positive Rate (1 - specificity)', fontsize=14)\n",
    "plt.ylabel('True Positive Rate (recall)', fontsize=14)\n",
    "plt.title('Receiver operating characteristic (ROC) curve')\n",
    "plt.legend(loc=\"lower right\")\n",
    "plt.show()\n",
    "\n",
    "print(\"Using a threshold of %.3f \" % thr[idx] + \"guarantees a sensitivity of %.3f \" % tpr[idx] +  \n",
    "      \"and a specificity of %.3f\" % (1-fpr[idx]) + \n",
    "      \", i.e. a false positive rate of %.2f%%.\" % (np.array(fpr[idx])*100))"
   ]
  },
  {
   "cell_type": "markdown",
   "metadata": {},
   "source": [
    "Still, not passing the min AUC score .825. Try K-fold cv"
   ]
  },
  {
   "cell_type": "code",
   "execution_count": 123,
   "metadata": {},
   "outputs": [
    {
     "name": "stdout",
     "output_type": "stream",
     "text": [
      "K-fold cross-validation results:\n",
      "LogisticRegression average accuracy is 0.908\n",
      "LogisticRegression average log_loss is 0.266\n",
      "LogisticRegression average auc is 0.800\n"
     ]
    }
   ],
   "source": [
    "# 10-fold cross-validation logistic regression\n",
    "logreg = LogisticRegression()\n",
    "# Use cross_val_score function\n",
    "# cv=10 for 10 folds\n",
    "# scoring = {'accuracy', 'neg_log_loss', 'roc_auc'} for evaluation metric - althought they are many\n",
    "scores_accuracy = cross_val_score(logreg, X, y, cv=10, scoring='accuracy')\n",
    "scores_log_loss = cross_val_score(logreg, X, y, cv=10, scoring='neg_log_loss')\n",
    "scores_auc = cross_val_score(logreg, X, y, cv=10, scoring='roc_auc')\n",
    "print('K-fold cross-validation results:')\n",
    "print(logreg.__class__.__name__+\" average accuracy is %2.3f\" % scores_accuracy.mean())\n",
    "print(logreg.__class__.__name__+\" average log_loss is %2.3f\" % -scores_log_loss.mean())\n",
    "print(logreg.__class__.__name__+\" average auc is %2.3f\" % scores_auc.mean())"
   ]
  },
  {
   "cell_type": "code",
   "execution_count": 124,
   "metadata": {},
   "outputs": [
    {
     "name": "stdout",
     "output_type": "stream",
     "text": [
      "K-fold cross-validation results:\n",
      "LogisticRegression average accuracy: 0.908 (+/-0.004)\n",
      "LogisticRegression average log_loss: 0.266 (+/-0.006)\n",
      "LogisticRegression average auc: 0.800 (+/-0.012)\n"
     ]
    }
   ],
   "source": [
    "from sklearn.model_selection import cross_validate\n",
    "\n",
    "scoring = {'accuracy': 'accuracy', 'log_loss': 'neg_log_loss', 'auc': 'roc_auc'}\n",
    "\n",
    "modelCV = LogisticRegression()\n",
    "\n",
    "results = cross_validate(modelCV, X, y, cv=10, scoring=list(scoring.values()), \n",
    "                         return_train_score=False)\n",
    "\n",
    "print('K-fold cross-validation results:')\n",
    "for sc in range(len(scoring)):\n",
    "    print(modelCV.__class__.__name__+\" average %s: %.3f (+/-%.3f)\" % (list(scoring.keys())[sc], -results['test_%s' % list(scoring.values())[sc]].mean()\n",
    "                               if list(scoring.values())[sc]=='neg_log_loss' \n",
    "                               else results['test_%s' % list(scoring.values())[sc]].mean(), \n",
    "                               results['test_%s' % list(scoring.values())[sc]].std()))"
   ]
  },
  {
   "cell_type": "code",
   "execution_count": 157,
   "metadata": {},
   "outputs": [
    {
     "name": "stdout",
     "output_type": "stream",
     "text": [
      "Followings are the final feateures in train set:\n",
      " Index(['age', 'cost_of_ad', 'in_initial_launch_location', 'income',\n",
      "       'n_drivers', 'n_vehicles', 'prior_ins_tenure', 'outcome', 'gender_F',\n",
      "       'gender_M', 'device_type_Android', 'device_type_desktop',\n",
      "       'device_type_iPhone', 'device_type_laptop', 'device_type_other'],\n",
      "      dtype='object')\n"
     ]
    }
   ],
   "source": [
    "print(\"Followings are the final feateures in train set:\\n\", final_train.columns)"
   ]
  },
  {
   "cell_type": "code",
   "execution_count": 156,
   "metadata": {
    "scrolled": false
   },
   "outputs": [
    {
     "name": "stdout",
     "output_type": "stream",
     "text": [
      "Followings are the selected feateures:\n",
      " ['in_initial_launch_location', 'n_drivers', 'n_vehicles', 'gender_F', 'device_type_laptop', 'device_type_other']\n"
     ]
    }
   ],
   "source": [
    "print(\"Followings are the selected feateures:\\n\", Selected_features)"
   ]
  },
  {
   "cell_type": "markdown",
   "metadata": {},
   "source": [
    "What if I incorporate Gender M and other devices?"
   ]
  },
  {
   "cell_type": "code",
   "execution_count": 131,
   "metadata": {},
   "outputs": [
    {
     "name": "stdout",
     "output_type": "stream",
     "text": [
      "K-fold cross-validation results:\n",
      "LogisticRegression average accuracy: 0.908 (+/-0.004)\n",
      "LogisticRegression average log_loss: 0.261 (+/-0.006)\n",
      "LogisticRegression average auc: 0.809 (+/-0.011)\n"
     ]
    }
   ],
   "source": [
    "cols = Selected_features + ['gender_M', 'device_type_Android', 'device_type_desktop', 'device_type_iPhone']\n",
    "X = final_train[cols]\n",
    "\n",
    "scoring = {'accuracy': 'accuracy', 'log_loss': 'neg_log_loss', 'auc': 'roc_auc'}\n",
    "\n",
    "modelCV = LogisticRegression()\n",
    "\n",
    "results = cross_validate(modelCV, final_train[cols], y, cv=10, scoring=list(scoring.values()), \n",
    "                         return_train_score=False)\n",
    "\n",
    "print('K-fold cross-validation results:')\n",
    "for sc in range(len(scoring)):\n",
    "    print(modelCV.__class__.__name__+\" average %s: %.3f (+/-%.3f)\" % (list(scoring.keys())[sc], -results['test_%s' % list(scoring.values())[sc]].mean()\n",
    "                               if list(scoring.values())[sc]=='neg_log_loss' \n",
    "                               else results['test_%s' % list(scoring.values())[sc]].mean(), \n",
    "                               results['test_%s' % list(scoring.values())[sc]].std()))"
   ]
  },
  {
   "cell_type": "markdown",
   "metadata": {},
   "source": [
    "not much but there is still an improvement in the AUC. \n",
    "\n",
    "Let's take a look at the correlation again and incorporate more variables! see how it goes"
   ]
  },
  {
   "cell_type": "code",
   "execution_count": 133,
   "metadata": {},
   "outputs": [],
   "source": [
    "def CorrMtx(df, size, dropDuplicates = True):\n",
    "    df = df.corr()\n",
    "\n",
    "    # Exclude duplicate correlations by masking uper right values\n",
    "    if dropDuplicates:    \n",
    "        mask = np.zeros_like(df, dtype=np.bool)\n",
    "        mask[np.triu_indices_from(mask)] = True\n",
    "\n",
    "    # Set background color / chart style\n",
    "    sns.set_style(style = 'white')\n",
    "\n",
    "    # Set up  matplotlib figure\n",
    "    f, ax = plt.subplots(figsize=(size[0], size[1]))\n",
    "\n",
    "    # Add diverging colormap from red to blue\n",
    "    cmap = sns.diverging_palette(250, 10, as_cmap=True)\n",
    "\n",
    "    # Draw correlation plot with or without duplicates\n",
    "    if dropDuplicates:\n",
    "        sns.heatmap(df, mask=mask, cmap=cmap, \n",
    "                square=True,\n",
    "                linewidth=.5, cbar_kws={\"shrink\": .5}, ax=ax)\n",
    "    else:\n",
    "        sns.heatmap(df, cmap=cmap, \n",
    "                square=True,\n",
    "                linewidth=.5, cbar_kws={\"shrink\": .5}, ax=ax)"
   ]
  },
  {
   "cell_type": "code",
   "execution_count": 134,
   "metadata": {},
   "outputs": [
    {
     "data": {
      "image/png": "[encoded data removed]",
      "text/plain": [
       "<Figure size 720x720 with 2 Axes>"
      ]
     },
     "metadata": {},
     "output_type": "display_data"
    }
   ],
   "source": [
    "CorrMtx(df= final_train, size = [10,10])"
   ]
  },
  {
   "cell_type": "code",
   "execution_count": 152,
   "metadata": {},
   "outputs": [
    {
     "name": "stdout",
     "output_type": "stream",
     "text": [
      "the 6 selected variables are :  ['in_initial_launch_location', 'n_drivers', 'n_vehicles', 'gender_F', 'device_type_laptop', 'device_type_other']\n",
      "the modified variables are:  ['in_initial_launch_location', 'n_drivers', 'n_vehicles', 'gender_F', 'device_type_laptop', 'device_type_other', 'gender_M', 'device_type_Android', 'device_type_desktop', 'device_type_iPhone', 'age', 'cost_of_ad', 'prior_ins_tenure']\n"
     ]
    }
   ],
   "source": [
    "print(\"the 6 selected variables are : \", Selected_features)\n",
    "print(\"the modified variables are: \", cols)"
   ]
  },
  {
   "cell_type": "code",
   "execution_count": 146,
   "metadata": {},
   "outputs": [
    {
     "name": "stdout",
     "output_type": "stream",
     "text": [
      "K-fold cross-validation results:\n",
      "LogisticRegression average accuracy: 0.908 (+/-0.004)\n",
      "LogisticRegression average log_loss: 0.261 (+/-0.007)\n",
      "LogisticRegression average auc: 0.811 (+/-0.013)\n"
     ]
    }
   ],
   "source": [
    "cols = Selected_features + ['gender_M', 'device_type_Android', 'device_type_desktop', 'device_type_iPhone', 'age', 'cost_of_ad','prior_ins_tenure']\n",
    "X = final_train[cols]\n",
    "\n",
    "scoring = {'accuracy': 'accuracy', 'log_loss': 'neg_log_loss', 'auc': 'roc_auc'}\n",
    "\n",
    "modelCV = LogisticRegression()\n",
    "\n",
    "results = cross_validate(modelCV, final_train[cols], y, cv=10, scoring=list(scoring.values()), \n",
    "                         return_train_score=False)\n",
    "\n",
    "print('K-fold cross-validation results:')\n",
    "for sc in range(len(scoring)):\n",
    "    print(modelCV.__class__.__name__+\" average %s: %.3f (+/-%.3f)\" % (list(scoring.keys())[sc], -results['test_%s' % list(scoring.values())[sc]].mean()\n",
    "                               if list(scoring.values())[sc]=='neg_log_loss' \n",
    "                               else results['test_%s' % list(scoring.values())[sc]].mean(), \n",
    "                               results['test_%s' % list(scoring.values())[sc]].std()))"
   ]
  },
  {
   "cell_type": "markdown",
   "metadata": {},
   "source": [
    "I pretty much used all variables except income, resulting in slight improvement in AUC. However, still not meet the min qualification, 0.825...."
   ]
  },
  {
   "cell_type": "markdown",
   "metadata": {},
   "source": [
    "###### GridSearchCV evaluating using multiple scorers simultaneously"
   ]
  },
  {
   "cell_type": "code",
   "execution_count": 147,
   "metadata": {
    "scrolled": true
   },
   "outputs": [
    {
     "name": "stdout",
     "output_type": "stream",
     "text": [
      "====================\n",
      "best params: LogisticRegression(C=0.10001, class_weight=None, dual=False,\n",
      "          fit_intercept=True, intercept_scaling=1, max_iter=100,\n",
      "          multi_class='warn', n_jobs=None, penalty='l2', random_state=None,\n",
      "          solver='warn', tol=0.0001, verbose=0, warm_start=False)\n",
      "best params: {'C': 0.10001}\n",
      "best score: 0.9083341897030109\n",
      "====================\n"
     ]
    },
    {
     "data": {
      "image/png": "[encoded data removed]",
      "text/plain": [
       "<Figure size 720x720 with 1 Axes>"
      ]
     },
     "metadata": {},
     "output_type": "display_data"
    }
   ],
   "source": [
    "from sklearn.model_selection import GridSearchCV\n",
    "\n",
    "X = final_train[Selected_features]\n",
    "\n",
    "param_grid = {'C': np.arange(1e-05, 3, 0.1)}\n",
    "scoring = {'Accuracy': 'accuracy', 'AUC': 'roc_auc', 'Log_loss': 'neg_log_loss'}\n",
    "\n",
    "gs = GridSearchCV(LogisticRegression(), return_train_score=True,\n",
    "                  param_grid=param_grid, scoring=scoring, cv=10, refit='Accuracy')\n",
    "\n",
    "gs.fit(X, y)\n",
    "results = gs.cv_results_\n",
    "\n",
    "print('='*20)\n",
    "print(\"best params: \" + str(gs.best_estimator_))\n",
    "print(\"best params: \" + str(gs.best_params_))\n",
    "print('best score:', gs.best_score_)\n",
    "print('='*20)\n",
    "\n",
    "plt.figure(figsize=(10, 10))\n",
    "plt.title(\"GridSearchCV evaluating using multiple scorers simultaneously\",fontsize=16)\n",
    "\n",
    "plt.xlabel(\"Inverse of regularization strength: C\")\n",
    "plt.ylabel(\"Score\")\n",
    "plt.grid()\n",
    "\n",
    "ax = plt.axes()\n",
    "ax.set_xlim(0, param_grid['C'].max()) \n",
    "ax.set_ylim(0.35, 0.95)\n",
    "\n",
    "# Get the regular numpy array from the MaskedArray\n",
    "X_axis = np.array(results['param_C'].data, dtype=float)\n",
    "\n",
    "for scorer, color in zip(list(scoring.keys()), ['g', 'k', 'b']): \n",
    "    for sample, style in (('train', '--'), ('test', '-')):\n",
    "        sample_score_mean = -results['mean_%s_%s' % (sample, scorer)] if scoring[scorer]=='neg_log_loss' else results['mean_%s_%s' % (sample, scorer)]\n",
    "        sample_score_std = results['std_%s_%s' % (sample, scorer)]\n",
    "        ax.fill_between(X_axis, sample_score_mean - sample_score_std,\n",
    "                        sample_score_mean + sample_score_std,\n",
    "                        alpha=0.1 if sample == 'test' else 0, color=color)\n",
    "        ax.plot(X_axis, sample_score_mean, style, color=color,\n",
    "                alpha=1 if sample == 'test' else 0.7,\n",
    "                label=\"%s (%s)\" % (scorer, sample))\n",
    "\n",
    "    best_index = np.nonzero(results['rank_test_%s' % scorer] == 1)[0][0]\n",
    "    best_score = -results['mean_test_%s' % scorer][best_index] if scoring[scorer]=='neg_log_loss' else results['mean_test_%s' % scorer][best_index]\n",
    "        \n",
    "    # Plot a dotted vertical line at the best score for that scorer marked by x\n",
    "    ax.plot([X_axis[best_index], ] * 2, [0, best_score],\n",
    "            linestyle='-.', color=color, marker='x', markeredgewidth=3, ms=8)\n",
    "\n",
    "    # Annotate the best score for that scorer\n",
    "    ax.annotate(\"%0.2f\" % best_score,\n",
    "                (X_axis[best_index], best_score + 0.005))\n",
    "\n",
    "plt.legend(loc=\"best\")\n",
    "plt.grid('off')\n",
    "plt.show()"
   ]
  },
  {
   "cell_type": "code",
   "execution_count": null,
   "metadata": {},
   "outputs": [],
   "source": [
    "print('GridSearchCV evaluating using multiple scorers simultaneously:')\n",
    "for sc in range(len(scoring)):\n",
    "    print(modelCV.__class__.__name__+\" average %s: %.3f (+/-%.3f)\" % (list(scoring.keys())[sc], -results['test_%s' % list(scoring.values())[sc]].mean()\n",
    "                               if list(scoring.values())[sc]=='neg_log_loss' \n",
    "                               else results['test_%s' % list(scoring.values())[sc]].mean(), \n",
    "                               results['test_%s' % list(scoring.values())[sc]].std()))"
   ]
  },
  {
   "cell_type": "markdown",
   "metadata": {},
   "source": [
    "GridSearchCV evaluating using multiple scorers, RepeatedStratifiedKFold and pipeline for preprocessing simultaneously\n",
    "\n",
    "I can applied many tasks together for more in-depth evaluation like gridsearch using cross-validation based on k-folds repeated many times, that can be scaled or no with respect to many scorers and tunning on parameter for a given estimator!"
   ]
  },
  {
   "cell_type": "code",
   "execution_count": 148,
   "metadata": {
    "scrolled": true
   },
   "outputs": [
    {
     "name": "stdout",
     "output_type": "stream",
     "text": [
      "====================\n",
      "best params: Pipeline(memory=None,\n",
      "     steps=[('scale', StandardScaler(copy=True, with_mean=False, with_std=False)), ('clf', LogisticRegression(C=0.20001000000000002, class_weight=None, dual=False,\n",
      "          fit_intercept=True, intercept_scaling=1, max_iter=100,\n",
      "          multi_class='warn', n_jobs=None, penalty='l2', random_state=None,\n",
      "          solver='warn', tol=0.0001, verbose=0, warm_start=False))])\n",
      "best params: {'clf__C': 0.20001000000000002}\n",
      "best score: 0.9083341897030109\n",
      "====================\n"
     ]
    },
    {
     "data": {
      "image/png": "[encoded data removed]",
      "text/plain": [
       "<Figure size 720x720 with 1 Axes>"
      ]
     },
     "metadata": {},
     "output_type": "display_data"
    }
   ],
   "source": [
    "from sklearn.preprocessing import StandardScaler\n",
    "from sklearn.model_selection import RepeatedStratifiedKFold\n",
    "from sklearn.pipeline import Pipeline\n",
    "\n",
    "#Define simple model\n",
    "###############################################################################\n",
    "C = np.arange(1e-05, 5.5, 0.1)\n",
    "scoring = {'Accuracy': 'accuracy', 'AUC': 'roc_auc', 'Log_loss': 'neg_log_loss'}\n",
    "log_reg = LogisticRegression()\n",
    "\n",
    "#Simple pre-processing estimators\n",
    "###############################################################################\n",
    "std_scale = StandardScaler(with_mean=False, with_std=False)\n",
    "\n",
    "#Defining the CV method: Using the Repeated Stratified K Fold\n",
    "###############################################################################\n",
    "\n",
    "n_folds=5\n",
    "n_repeats=5\n",
    "\n",
    "rskfold = RepeatedStratifiedKFold(n_splits=n_folds, n_repeats=n_repeats, random_state=2)\n",
    "\n",
    "#Creating simple pipeline and defining the gridsearch\n",
    "###############################################################################\n",
    "\n",
    "log_clf_pipe = Pipeline(steps=[('scale',std_scale), ('clf',log_reg)])\n",
    "\n",
    "log_clf = GridSearchCV(estimator=log_clf_pipe, cv=rskfold,\n",
    "              scoring=scoring, return_train_score=True,\n",
    "              param_grid=dict(clf__C=C), refit='Accuracy')\n",
    "\n",
    "log_clf.fit(X, y)\n",
    "results = log_clf.cv_results_\n",
    "\n",
    "print('='*20)\n",
    "print(\"best params: \" + str(log_clf.best_estimator_))\n",
    "print(\"best params: \" + str(log_clf.best_params_))\n",
    "print('best score:', log_clf.best_score_)\n",
    "print('='*20)\n",
    "\n",
    "plt.figure(figsize=(10, 10))\n",
    "plt.title(\"GridSearchCV evaluating using multiple scorers simultaneously\",fontsize=16)\n",
    "\n",
    "plt.xlabel(\"Inverse of regularization strength: C\")\n",
    "plt.ylabel(\"Score\")\n",
    "plt.grid()\n",
    "\n",
    "ax = plt.axes()\n",
    "ax.set_xlim(0, C.max()) \n",
    "ax.set_ylim(0.35, 0.95)\n",
    "\n",
    "# Get the regular numpy array from the MaskedArray\n",
    "X_axis = np.array(results['param_clf__C'].data, dtype=float)\n",
    "\n",
    "for scorer, color in zip(list(scoring.keys()), ['g', 'k', 'b']): \n",
    "    for sample, style in (('train', '--'), ('test', '-')):\n",
    "        sample_score_mean = -results['mean_%s_%s' % (sample, scorer)] if scoring[scorer]=='neg_log_loss' else results['mean_%s_%s' % (sample, scorer)]\n",
    "        sample_score_std = results['std_%s_%s' % (sample, scorer)]\n",
    "        ax.fill_between(X_axis, sample_score_mean - sample_score_std,\n",
    "                        sample_score_mean + sample_score_std,\n",
    "                        alpha=0.1 if sample == 'test' else 0, color=color)\n",
    "        ax.plot(X_axis, sample_score_mean, style, color=color,\n",
    "                alpha=1 if sample == 'test' else 0.7,\n",
    "                label=\"%s (%s)\" % (scorer, sample))\n",
    "\n",
    "    best_index = np.nonzero(results['rank_test_%s' % scorer] == 1)[0][0]\n",
    "    best_score = -results['mean_test_%s' % scorer][best_index] if scoring[scorer]=='neg_log_loss' else results['mean_test_%s' % scorer][best_index]\n",
    "        \n",
    "    # Plot a dotted vertical line at the best score for that scorer marked by x\n",
    "    ax.plot([X_axis[best_index], ] * 2, [0, best_score],\n",
    "            linestyle='-.', color=color, marker='x', markeredgewidth=3, ms=8)\n",
    "\n",
    "    # Annotate the best score for that scorer\n",
    "    ax.annotate(\"%0.2f\" % best_score,\n",
    "                (X_axis[best_index], best_score + 0.005))\n",
    "\n",
    "plt.legend(loc=\"best\")\n",
    "plt.grid('off')\n",
    "plt.show()"
   ]
  },
  {
   "cell_type": "code",
   "execution_count": 154,
   "metadata": {},
   "outputs": [],
   "source": [
    "from sklearn.ensemble import RandomForestClassifier \n"
   ]
  },
  {
   "cell_type": "code",
   "execution_count": 161,
   "metadata": {},
   "outputs": [],
   "source": [
    "rf = RandomForestClassifier()"
   ]
  },
  {
   "cell_type": "markdown",
   "metadata": {},
   "source": [
    "####  Simple RF model:"
   ]
  },
  {
   "cell_type": "code",
   "execution_count": 168,
   "metadata": {},
   "outputs": [
    {
     "name": "stdout",
     "output_type": "stream",
     "text": [
      "Best Parameters using grid search: \n",
      " {'bootstrap': True, 'criterion': 'entropy', 'max_depth': 5, 'max_features': 'auto'}\n",
      "Time taken in grid search:  79.16\n"
     ]
    }
   ],
   "source": [
    "toc = time.time()\n",
    "\n",
    "param_dist = {'max_depth': [2, 3, 4, 5],\n",
    "              'bootstrap': [True],\n",
    "              'max_features': ['auto', 'sqrt', 'log2', None],\n",
    "              'criterion': ['gini', 'entropy']}\n",
    "\n",
    "cv_rf = GridSearchCV(rf, \n",
    "                     cv = 10,\n",
    "                     param_grid=param_dist, \n",
    "                     n_jobs = 3)\n",
    "\n",
    "cv_rf.fit(X_train, y_train)\n",
    "print('Best Parameters using grid search: \\n', \n",
    "      cv_rf.best_params_)\n",
    "tic = time.time()\n",
    "print('Time taken in grid search: {0: .2f}'.format(tic - toc))"
   ]
  },
  {
   "cell_type": "code",
   "execution_count": 169,
   "metadata": {},
   "outputs": [
    {
     "data": {
      "text/plain": [
       "RandomForestClassifier(bootstrap=True, class_weight=None, criterion='entropy',\n",
       "            max_depth=5, max_features='auto', max_leaf_nodes=None,\n",
       "            min_impurity_decrease=0.0, min_impurity_split=None,\n",
       "            min_samples_leaf=1, min_samples_split=2,\n",
       "            min_weight_fraction_leaf=0.0, n_estimators=217, n_jobs=None,\n",
       "            oob_score=True, random_state=None, verbose=0, warm_start=False)"
      ]
     },
     "execution_count": 169,
     "metadata": {},
     "output_type": "execute_result"
    }
   ],
   "source": [
    "rf.set_params(criterion = 'entropy',\n",
    "                  max_features = 'auto', \n",
    "                  max_depth = 5)"
   ]
  },
  {
   "cell_type": "markdown",
   "metadata": {},
   "source": [
    "### Out of Bag Error Rate (OOB)\n",
    "Utilizing the OOB error rate that was created with the model gives us an unbiased error rate. Since OOB can be calculated with the model estimation, it's helpful when cross validating and/or optimizing hyperparameters prove to be too computationally expensive."
   ]
  },
  {
   "cell_type": "code",
   "execution_count": 170,
   "metadata": {},
   "outputs": [
    {
     "name": "stdout",
     "output_type": "stream",
     "text": [
      "Time taken in oob :  922.55\n"
     ]
    }
   ],
   "source": [
    "toc = time.time()\n",
    "rf.set_params(warm_start=False, \n",
    "              oob_score=True)\n",
    "\n",
    "min_estimators = 15\n",
    "max_estimators = 1000\n",
    "\n",
    "error_rate = {}\n",
    "\n",
    "for i in range(min_estimators, max_estimators + 1):\n",
    "    rf.set_params(n_estimators=i)\n",
    "    rf.fit(X_train, y_train)\n",
    "\n",
    "    oob_error = 1 - rf.oob_score_\n",
    "    error_rate[i] = oob_error\n",
    "\n",
    "tic = time.time()\n",
    "print('Time taken in oob : {0: .2f}'.format(tic - toc))"
   ]
  },
  {
   "cell_type": "code",
   "execution_count": 172,
   "metadata": {},
   "outputs": [],
   "source": [
    "# Convert dictionary to a pandas series for easy plotting \n",
    "oob_series = pd.Series(error_rate)"
   ]
  },
  {
   "cell_type": "code",
   "execution_count": 173,
   "metadata": {},
   "outputs": [
    {
     "data": {
      "text/plain": [
       "Text(0.5, 1.0, 'OOB Error Rate Across various Forest sizes \\n(From 15 to 1000 trees)')"
      ]
     },
     "execution_count": 173,
     "metadata": {},
     "output_type": "execute_result"
    },
    {
     "data": {
      "image/png": "[encoded data removed]",
      "text/plain": [
       "<Figure size 720x720 with 1 Axes>"
      ]
     },
     "metadata": {},
     "output_type": "display_data"
    }
   ],
   "source": [
    "fig, ax = plt.subplots(figsize=(10, 10))\n",
    "\n",
    "ax.set_facecolor('#fafafa')\n",
    "\n",
    "oob_series.plot(kind='line',\n",
    "                color = 'red')\n",
    "plt.axhline(0.055, \n",
    "            color='#875FDB',\n",
    "           linestyle='--')\n",
    "plt.axhline(0.05, \n",
    "            color='#875FDB',\n",
    "           linestyle='--')\n",
    "plt.xlabel('n_estimators')\n",
    "plt.ylabel('OOB Error Rate')\n",
    "plt.title('OOB Error Rate Across various Forest sizes \\n(From 15 to 1000 trees)')"
   ]
  },
  {
   "cell_type": "code",
   "execution_count": 174,
   "metadata": {},
   "outputs": [
    {
     "name": "stdout",
     "output_type": "stream",
     "text": [
      "OOB Error rate for 600 trees is: 0.09288\n"
     ]
    }
   ],
   "source": [
    "print('OOB Error rate for 600 trees is: {0:.5f}'.format(oob_series[600]))"
   ]
  },
  {
   "cell_type": "code",
   "execution_count": 181,
   "metadata": {},
   "outputs": [],
   "source": [
    "def variable_importance(fit):\n",
    "    try:\n",
    "        if not hasattr(fit, 'fit'):\n",
    "            return print(\"'{0}' is not an instantiated model from scikit-learn\".format(fit)) \n",
    "\n",
    "        # Captures whether the model has been trained\n",
    "        if not vars(fit)[\"estimators_\"]:\n",
    "            return print(\"Model does not appear to be trained.\")\n",
    "    except KeyError:\n",
    "        print(\"Model entered does not contain 'estimators_' attribute.\")\n",
    "\n",
    "    importances = fit.feature_importances_\n",
    "    indices = np.argsort(importances)[::-1]\n",
    "    return {'importance': importances,\n",
    "            'index': indices}\n",
    "\n",
    "def print_var_importance(importance, indices, name_index):\n",
    "    print(\"Feature ranking:\")\n",
    "\n",
    "    for f in range(0, indices.shape[0]):\n",
    "        i = f\n",
    "        print(\"{0}. The feature '{1}' has a Mean Decrease in Impurity of {2:.5f}\"\n",
    "              .format(f + 1,\n",
    "                      names_index[indices[i]],\n",
    "                      importance[indices[f]]))\n",
    "        \n",
    "def variable_importance_plot(importance, indices, name_index):\n",
    "    index = np.arange(len(names_index))\n",
    "\n",
    "    importance_desc = sorted(importance)\n",
    "    feature_space = []\n",
    "    for i in range(indices.shape[0] - 1, -1, -1):\n",
    "        feature_space.append(names_index[indices[i]])\n",
    "\n",
    "    fig, ax = plt.subplots(figsize=(10, 10))\n",
    "\n",
    "    #ax.set_axis_bgcolor('#fafafa')\n",
    "    plt.title('Feature importances for Random Forest Model\\\n",
    "    \\n Outcome ')\n",
    "    plt.barh(index,\n",
    "             importance_desc,\n",
    "             align=\"center\",\n",
    "             color = '#875FDB')\n",
    "    plt.yticks(index,\n",
    "               feature_space)\n",
    "\n",
    "    plt.ylim(-1, 30)\n",
    "    plt.xlim(0, max(importance_desc) + 0.01)\n",
    "    plt.xlabel('Mean Decrease in Impurity')\n",
    "    plt.ylabel('Feature')\n",
    "\n",
    "    plt.show()\n",
    "    plt.close()"
   ]
  },
  {
   "cell_type": "code",
   "execution_count": 184,
   "metadata": {},
   "outputs": [],
   "source": [
    "var_imp_rf = variable_importance(rf)\n",
    "\n",
    "importances_rf = var_imp_rf['importance']\n",
    "\n",
    "indices_rf = var_imp_rf['index']\n",
    "names_index = X_train.columns"
   ]
  },
  {
   "cell_type": "code",
   "execution_count": 185,
   "metadata": {},
   "outputs": [
    {
     "name": "stdout",
     "output_type": "stream",
     "text": [
      "Feature ranking:\n",
      "1. The feature 'n_vehicles' has a Mean Decrease in Impurity of 0.36637\n",
      "2. The feature 'gender_F' has a Mean Decrease in Impurity of 0.18898\n",
      "3. The feature 'in_initial_launch_location' has a Mean Decrease in Impurity of 0.12940\n",
      "4. The feature 'device_type_laptop' has a Mean Decrease in Impurity of 0.11371\n",
      "5. The feature 'device_type_other' has a Mean Decrease in Impurity of 0.10485\n",
      "6. The feature 'n_drivers' has a Mean Decrease in Impurity of 0.09669\n"
     ]
    }
   ],
   "source": [
    "print_var_importance(importances_rf, indices_rf, names_index)"
   ]
  },
  {
   "cell_type": "code",
   "execution_count": 186,
   "metadata": {},
   "outputs": [
    {
     "data": {
      "image/png": "[encoded data removed]",
      "text/plain": [
       "<Figure size 720x720 with 1 Axes>"
      ]
     },
     "metadata": {},
     "output_type": "display_data"
    }
   ],
   "source": [
    "variable_importance_plot(importances_rf, indices_rf, names_index)"
   ]
  },
  {
   "cell_type": "code",
   "execution_count": 187,
   "metadata": {},
   "outputs": [
    {
     "name": "stdout",
     "output_type": "stream",
     "text": [
      "RandomForestClassifier accuracy is 0.913\n",
      "RandomForestClassifier log_loss is 0.332\n",
      "RandomForestClassifier auc is 0.804\n"
     ]
    }
   ],
   "source": [
    "rf = RandomForestClassifier()\n",
    "rf.fit(X_train, y_train)\n",
    "\n",
    "y_pred = rf.predict(X_test)\n",
    "y_pred_proba = rf.predict_proba(X_test)[:, 1]\n",
    "[fpr, tpr, thr] = roc_curve(y_test, y_pred_proba)\n",
    "\n",
    "\n",
    "print(rf.__class__.__name__+\" accuracy is %2.3f\" % accuracy_score(y_test, y_pred))\n",
    "print(rf.__class__.__name__+\" log_loss is %2.3f\" % log_loss(y_test, y_pred_proba))\n",
    "print(rf.__class__.__name__+\" auc is %2.3f\" % auc(fpr, tpr))"
   ]
  }
 ],
 "metadata": {
  "kernelspec": {
   "display_name": "Python 3",
   "language": "python",
   "name": "python3"
  },
  "language_info": {
   "codemirror_mode": {
    "name": "ipython",
    "version": 3
   },
   "file_extension": ".py",
   "mimetype": "text/x-python",
   "name": "python",
   "nbconvert_exporter": "python",
   "pygments_lexer": "ipython3",
   "version": "3.7.3"
  }
 },
 "nbformat": 4,
 "nbformat_minor": 2
}
