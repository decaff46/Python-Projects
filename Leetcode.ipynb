{
 "cells": [
  {
   "cell_type": "code",
   "execution_count": 2,
   "metadata": {},
   "outputs": [
    {
     "name": "stdout",
     "output_type": "stream",
     "text": [
      "2020-04-09\n"
     ]
    }
   ],
   "source": [
    "from datetime import date\n",
    "print(date.today())"
   ]
  },
  {
   "cell_type": "code",
   "execution_count": 7,
   "metadata": {},
   "outputs": [
    {
     "data": {
      "text/plain": [
       "3"
      ]
     },
     "execution_count": 7,
     "metadata": {},
     "output_type": "execute_result"
    }
   ],
   "source": [
    "J = \"aA\"\n",
    "S = \"aAAbbbb\"\n",
    "def numJewelsInStones(J, S):\n",
    "        return(sum(s in J for s in S))\n",
    "    \n",
    "def numJewelsInStones(J, S):\n",
    "        count = 0\n",
    "        for s in S: \n",
    "            if s in J: \n",
    "                count += 1\n",
    "        return(count)\n",
    "    \n",
    "numJewelsInStones(J, S)"
   ]
  },
  {
   "cell_type": "code",
   "execution_count": 9,
   "metadata": {},
   "outputs": [
    {
     "data": {
      "text/plain": [
       "15"
      ]
     },
     "execution_count": 9,
     "metadata": {},
     "output_type": "execute_result"
    }
   ],
   "source": [
    "n = 234\n",
    "def subtractProductAndSum(n):\n",
    "        mul = 1\n",
    "        sum = 0\n",
    "        for i in str(n):\n",
    "            mul *= int(i)\n",
    "            sum += int(i)\n",
    "        \n",
    "        return(mul - sum)\n",
    "\n",
    "def subtractProductAndSum(n):    \n",
    "        new = []\n",
    "        \n",
    "        while n:\n",
    "            new.append(n%10)\n",
    "            n //=10\n",
    "            product = new[0] \n",
    "            sum = new[0]\n",
    "            \n",
    "            for i in range(1,len(new)):\n",
    "                product *= new[i]\n",
    "                sum += new[i] \n",
    "        return(product - sum)   \n",
    "    \n",
    "subtractProductAndSum(n)    "
   ]
  },
  {
   "cell_type": "code",
   "execution_count": 12,
   "metadata": {},
   "outputs": [
    {
     "data": {
      "text/plain": [
       "1"
      ]
     },
     "execution_count": 12,
     "metadata": {},
     "output_type": "execute_result"
    }
   ],
   "source": [
    "#Given an array nums of integers, return how many of them contain an even number of digits. \n",
    "nums = [12,345,2,6,7896]\n",
    "nums = [555,901,482,1771]\n",
    "\n",
    "def findNumbers(nums):\n",
    "        count = 0 \n",
    "\n",
    "        for i in nums:\n",
    "            if len(str(i)) % 2== 0:\n",
    "                count+=1\n",
    "        return(count)\n",
    "\n",
    "def findNumbers(nums):\n",
    "        even = 0\n",
    "\n",
    "        for i in nums:\n",
    "            count = 0\n",
    "            while i:\n",
    "                i //= 10\n",
    "                count +=1\n",
    "                \n",
    "            if count % 2==0:\n",
    "                even +=1\n",
    "                \n",
    "        return(even)\n",
    "    \n",
    "findNumbers(nums)    "
   ]
  },
  {
   "cell_type": "code",
   "execution_count": 14,
   "metadata": {},
   "outputs": [
    {
     "data": {
      "text/plain": [
       "4"
      ]
     },
     "execution_count": 14,
     "metadata": {},
     "output_type": "execute_result"
    }
   ],
   "source": [
    "# Given a non-negative integer num, return the number of steps to reduce it to zero. If the current number is even, you have to divide it by 2, otherwise, you have to subtract 1 from it.\n",
    "num = 14\n",
    "num = 8 \n",
    "def numberOfSteps(num):\n",
    "    count = 0\n",
    "    \n",
    "    while num : \n",
    "        if num % 2 == 0:\n",
    "            num /= 2\n",
    "        else: \n",
    "            num -= 1\n",
    "        count += 1 \n",
    "        \n",
    "    return(count)\n",
    "    \n",
    "numberOfSteps(num)"
   ]
  },
  {
   "cell_type": "code",
   "execution_count": 18,
   "metadata": {},
   "outputs": [
    {
     "data": {
      "text/plain": [
       "[4, 0, 1, 1, 3]"
      ]
     },
     "execution_count": 18,
     "metadata": {},
     "output_type": "execute_result"
    }
   ],
   "source": [
    "# Given the array nums, for each nums[i] find out how many numbers in the array are smaller than it. That is, for each nums[i] you have to count the number of valid j's such that j != i and nums[j] < nums[i].\n",
    "# Return the answer in an array.\n",
    "nums = [8,1,2,2,3]\n",
    "\n",
    "def smallerNumbersThanCurrent(nums):\n",
    "    result = []\n",
    "    \n",
    "    for i in nums:\n",
    "        count = 0\n",
    "        for j in nums:\n",
    "            if i > j:\n",
    "                count += 1\n",
    "        result.append(count)\n",
    "    return(result)\n",
    "    \n",
    "def smallerNumbersThanCurrent(nums):   \n",
    "    result = []\n",
    "    temp = nums.copy()\n",
    "    \n",
    "    while temp:\n",
    "        curr = temp.pop(0)\n",
    "        count = 0\n",
    "        \n",
    "        for i in nums:\n",
    "            if curr > i:\n",
    "                count +=1\n",
    "        result.append(count)\n",
    "    return result\n",
    "    \n",
    "smallerNumbersThanCurrent(nums)"
   ]
  },
  {
   "cell_type": "code",
   "execution_count": 20,
   "metadata": {},
   "outputs": [
    {
     "data": {
      "text/plain": [
       "4"
      ]
     },
     "execution_count": 20,
     "metadata": {},
     "output_type": "execute_result"
    }
   ],
   "source": [
    "'''\n",
    "There is a special keyboard with all keys in a single row.\n",
    "\n",
    "Given a string keyboard of length 26 indicating the layout of the keyboard (indexed from 0 to 25), initially your finger is at index 0. To type a character, you have to move your finger to the index of the desired character. The time taken to move your finger from index i to index j is |i - j|.\n",
    "\n",
    "You want to type a string word. Write a function to calculate how much time it takes to type it with one finger.\n",
    "'''\n",
    "\n",
    "keyboard = \"abcdefghijklmnopqrstuvwxyz\"\n",
    "word = \"cba\"\n",
    "\n",
    "def calculateTime(keyboard, word):\n",
    "    position = {key: i for i, key in enumerate(keyboard)}\n",
    "\n",
    "    # time = 0 OK! i need to get the time for the first alphabet\n",
    "    time = position[word[0]]\n",
    "    for i in range(1,len(word)): # and start from the second character...\n",
    "        time += abs(position[word[i-1]] - position[word[i]])\n",
    "    \n",
    "    return time\n",
    "\n",
    "calculateTime(keyboard, word)"
   ]
  },
  {
   "cell_type": "code",
   "execution_count": 26,
   "metadata": {},
   "outputs": [
    {
     "data": {
      "text/plain": [
       "'ltcdscmmntyfrcdrs'"
      ]
     },
     "execution_count": 26,
     "metadata": {},
     "output_type": "execute_result"
    }
   ],
   "source": [
    "'''\n",
    "Given a string S, remove the vowels 'a', 'e', 'i', 'o', and 'u' from it, and return the new string.\n",
    "'''\n",
    "\n",
    "S = \"leetcodeisacommunityforcoders\"\n",
    "\n",
    "def removeVowels(S):\n",
    "    vowels = ['a','i','e','o','u']\n",
    "    \n",
    "    temp =[]\n",
    "    for i in S:\n",
    "        if i not in vowels:\n",
    "            temp.append(i)\n",
    "            \n",
    "    result = ''.join(temp)\n",
    "    return(result)\n",
    "def removeVowels(S):\n",
    "    vowels = ['a','i','e','o','u']\n",
    "    \n",
    "    temp = [x for x in S if x not in vowels]\n",
    "    result = ''.join(temp)\n",
    "    return result\n",
    "\n",
    "removeVowels(S)"
   ]
  },
  {
   "cell_type": "code",
   "execution_count": 29,
   "metadata": {},
   "outputs": [
    {
     "data": {
      "text/plain": [
       "True"
      ]
     },
     "execution_count": 29,
     "metadata": {},
     "output_type": "execute_result"
    }
   ],
   "source": [
    "'''\n",
    "Given an array arr of integers, check if there exists two integers N and M such that N is the double of M ( i.e. N = 2 * M).\n",
    "\n",
    "More formally check if there exists two indices i and j such that :\n",
    "\n",
    "    i != j\n",
    "    0 <= i, j < arr.length\n",
    "    arr[i] == 2 * arr[j]\n",
    "\n",
    "'''\n",
    "\n",
    "arr = [10,2,5,3]\n",
    "\n",
    "def checkIfExist(arr):\n",
    "    temp = set()\n",
    "    \n",
    "    for i in arr:\n",
    "        if (i * 2 in temp) or (i % 2 ==0 and i // 2 in temp):\n",
    "            return True\n",
    "        temp.add(i)\n",
    "    return False\n",
    "\n",
    "checkIfExist(arr)"
   ]
  },
  {
   "cell_type": "code",
   "execution_count": 44,
   "metadata": {},
   "outputs": [
    {
     "data": {
      "text/plain": [
       "{2: 0, 7: 1, 11: 2, 15: 3}"
      ]
     },
     "execution_count": 44,
     "metadata": {},
     "output_type": "execute_result"
    }
   ],
   "source": [
    "dic = {}\n",
    "for i, num in enumerate(nums):\n",
    "    dic[num] = i\n",
    "dic"
   ]
  },
  {
   "cell_type": "code",
   "execution_count": 88,
   "metadata": {},
   "outputs": [
    {
     "data": {
      "text/plain": [
       "(1, 2)"
      ]
     },
     "execution_count": 88,
     "metadata": {},
     "output_type": "execute_result"
    }
   ],
   "source": [
    "# TWO SUM\n",
    "'''\n",
    "Given an array of integers, return indices of the two numbers such that they add up to a specific target.\n",
    "\n",
    "You may assume that each input would have exactly one solution, and you may not use the same element twice.\n",
    "'''\n",
    "nums = [2, 7, 11, 15]; target = 9\n",
    "nums = [3,2,4]; target = 6    \n",
    "#position = {x: i for i, x in enumerate(nums)}\n",
    "#position\n",
    "\n",
    "#for i in position:\n",
    "#    print(position[i]) # 0,1,2,3\n",
    "#    print(i) # 2,7,11,15\n",
    "\n",
    "#for i in position: \n",
    "#    if target - i in position:\n",
    "#        print(position[target-i], position[i])\n",
    "\n",
    "'''def twoSum(nums, target):\n",
    "    position = {x: i for i, x in enumerate(nums)}\n",
    "    for i in position:\n",
    "        if target - i in position:\n",
    "            return(position[target-i], position[i])\n",
    "이건 왜 안되는 거지???\n",
    "3,3 이 동일 시 하게 진행 되니까 replace를 못하게 막아야 함.. \n",
    "'''\n",
    "\n",
    "'''def twoSum(nums, target):\n",
    "    position = {}\n",
    "    for i, num in enumerate(nums):\n",
    "        if target - num in position:\n",
    "            return(position[target-num], i)\n",
    "        position[num] = i'''\n",
    "        \n",
    "twoSum(nums, target)"
   ]
  },
  {
   "cell_type": "code",
   "execution_count": 86,
   "metadata": {},
   "outputs": [
    {
     "name": "stdout",
     "output_type": "stream",
     "text": [
      "0 0\n",
      "1 1\n",
      "2 2\n",
      "{3: 0, 2: 1, 4: 2}\n"
     ]
    }
   ],
   "source": [
    "#position = {x: i for i, x in enumerate(nums)}\n",
    "\n",
    "position = {}\n",
    "for i, x in enumerate(nums):\n",
    "    position[x] = i\n",
    "    print(position[x], i)\n",
    "print(position)\n"
   ]
  },
  {
   "cell_type": "code",
   "execution_count": null,
   "metadata": {},
   "outputs": [],
   "source": [
    "'''Given a string containing just the characters '(', ')', '{', '}', '[' and ']', determine if the input string is valid.\n",
    "\n",
    "An input string is valid if:\n",
    "\n",
    "    Open brackets must be closed by the same type of brackets.\n",
    "    Open brackets must be closed in the correct order.\n",
    "\n",
    "Note that an empty string is also considered valid.\n",
    "Example 1:\n",
    "\n",
    "Input: \"()\"\n",
    "Output: true\n",
    "Input: \"([)]\"\n",
    "Output: false\n",
    "'''\n",
    "\n",
    "def isValid(s):\n",
    "    "
   ]
  },
  {
   "cell_type": "code",
   "execution_count": 1,
   "metadata": {},
   "outputs": [
    {
     "ename": "TypeError",
     "evalue": "'list' object is not callable",
     "output_type": "error",
     "traceback": [
      "\u001b[1;31m---------------------------------------------------------------------------\u001b[0m",
      "\u001b[1;31mTypeError\u001b[0m                                 Traceback (most recent call last)",
      "\u001b[1;32m<ipython-input-1-53c75b1e93f6>\u001b[0m in \u001b[0;36m<module>\u001b[1;34m\u001b[0m\n\u001b[0;32m     10\u001b[0m \u001b[0ml2\u001b[0m \u001b[1;33m=\u001b[0m \u001b[1;33m[\u001b[0m\u001b[1;36m1\u001b[0m\u001b[1;33m,\u001b[0m\u001b[1;36m3\u001b[0m\u001b[1;33m,\u001b[0m\u001b[1;36m4\u001b[0m\u001b[1;33m]\u001b[0m\u001b[1;33m\u001b[0m\u001b[1;33m\u001b[0m\u001b[0m\n\u001b[0;32m     11\u001b[0m \u001b[1;33m\u001b[0m\u001b[0m\n\u001b[1;32m---> 12\u001b[1;33m \u001b[0ml3\u001b[0m \u001b[1;33m=\u001b[0m \u001b[0ml1\u001b[0m\u001b[1;33m(\u001b[0m\u001b[1;33m-\u001b[0m\u001b[1;36m1\u001b[0m\u001b[1;33m)\u001b[0m\u001b[1;33m\u001b[0m\u001b[1;33m\u001b[0m\u001b[0m\n\u001b[0m\u001b[0;32m     13\u001b[0m \u001b[0ml1\u001b[0m\u001b[1;33m.\u001b[0m\u001b[0msort\u001b[0m\u001b[1;33m(\u001b[0m\u001b[1;33m)\u001b[0m\u001b[1;33m\u001b[0m\u001b[1;33m\u001b[0m\u001b[0m\n\u001b[0;32m     14\u001b[0m \u001b[0ml2\u001b[0m\u001b[1;33m.\u001b[0m\u001b[0msort\u001b[0m\u001b[1;33m(\u001b[0m\u001b[1;33m)\u001b[0m\u001b[1;33m\u001b[0m\u001b[1;33m\u001b[0m\u001b[0m\n",
      "\u001b[1;31mTypeError\u001b[0m: 'list' object is not callable"
     ]
    }
   ],
   "source": [
    "'''\n",
    "Merge two sorted linked lists and return it as a new list. \n",
    "The new list should be made by splicing together the nodes of the first two lists.\n",
    "\n",
    "Input: 1->2->4, 1->3->4\n",
    "Output: 1->1->2->3->4->4\n",
    "'''\n",
    "\n",
    "l1 = [1,4,2]\n",
    "l2 = [1,3,4]\n",
    "\n",
    "l3 = l1(-1)\n",
    "l1.sort()\n",
    "l2.sort()\n",
    "\n",
    "temp = []\n",
    "for i in l1:\n",
    "    temp.append(i)\n",
    "for j in l2:\n",
    "    temp.append(j)\n",
    "temp.sort()\n",
    "temp\n",
    "\n",
    "l3"
   ]
  },
  {
   "cell_type": "code",
   "execution_count": 25,
   "metadata": {},
   "outputs": [],
   "source": [
    "def addDigits(n):\n",
    "    temp = 0\n",
    "    while n:\n",
    "        temp += n % 10\n",
    "        n //= 10\n",
    "    \n",
    "    result = 0\n",
    "    for i in str(temp):\n",
    "        result += int(i)\n",
    "        \n",
    "    return result"
   ]
  },
  {
   "cell_type": "code",
   "execution_count": 26,
   "metadata": {},
   "outputs": [
    {
     "data": {
      "text/plain": [
       "2"
      ]
     },
     "execution_count": 26,
     "metadata": {},
     "output_type": "execute_result"
    }
   ],
   "source": [
    "addDigits(38)"
   ]
  }
 ],
 "metadata": {
  "kernelspec": {
   "display_name": "Python 3",
   "language": "python",
   "name": "python3"
  },
  "language_info": {
   "codemirror_mode": {
    "name": "ipython",
    "version": 3
   },
   "file_extension": ".py",
   "mimetype": "text/x-python",
   "name": "python",
   "nbconvert_exporter": "python",
   "pygments_lexer": "ipython3",
   "version": "3.7.3"
  }
 },
 "nbformat": 4,
 "nbformat_minor": 2
}
