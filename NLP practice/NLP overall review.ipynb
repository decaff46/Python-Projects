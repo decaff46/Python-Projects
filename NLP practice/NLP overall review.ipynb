{
 "cells": [
  {
   "cell_type": "code",
   "execution_count": 1,
   "metadata": {},
   "outputs": [
    {
     "name": "stdout",
     "output_type": "stream",
     "text": [
      "2020-06-22\n"
     ]
    }
   ],
   "source": [
    "from datetime import date\n",
    "\n",
    "print(date.today())"
   ]
  },
  {
   "cell_type": "markdown",
   "metadata": {},
   "source": [
    "Different results for differnt tokenizer:\n",
    "\n",
    "string = \"Don't be fooled by the dark sounding name, Mr. Jone's Orphanage is as cheery as cheery goes for a pastry shop.\"\n"
   ]
  },
  {
   "cell_type": "code",
   "execution_count": 7,
   "metadata": {},
   "outputs": [
    {
     "name": "stdout",
     "output_type": "stream",
     "text": [
      "['Do', \"n't\", 'be', 'fooled', 'by', 'the', 'dark', 'sounding', 'name', ',', 'Mr.', 'Jone', \"'s\", 'Orphanage', 'is', 'as', 'cheery', 'as', 'cheery', 'goes', 'for', 'a', 'pastry', 'shop', '.']\n"
     ]
    }
   ],
   "source": [
    "string = \"Don't be fooled by the dark sounding name, Mr. Jone's Orphanage is as cheery as cheery goes for a pastry shop.\"\n",
    "\n",
    "\n",
    "from nltk.tokenize import word_tokenize\n",
    "\n",
    "print(word_tokenize(string))# Do // n't // Jone // 's' "
   ]
  },
  {
   "cell_type": "code",
   "execution_count": 8,
   "metadata": {},
   "outputs": [
    {
     "name": "stdout",
     "output_type": "stream",
     "text": [
      "['Don', \"'\", 't', 'be', 'fooled', 'by', 'the', 'dark', 'sounding', 'name', ',', 'Mr', '.', 'Jone', \"'\", 's', 'Orphanage', 'is', 'as', 'cheery', 'as', 'cheery', 'goes', 'for', 'a', 'pastry', 'shop', '.']\n"
     ]
    }
   ],
   "source": [
    "from nltk.tokenize import WordPunctTokenizer\n",
    "\n",
    "print(WordPunctTokenizer().tokenize(string)) # Don // ' // t // Jone // ' // s "
   ]
  },
  {
   "cell_type": "code",
   "execution_count": 9,
   "metadata": {},
   "outputs": [
    {
     "name": "stdout",
     "output_type": "stream",
     "text": [
      "[\"don't\", 'be', 'fooled', 'by', 'the', 'dark', 'sounding', 'name', 'mr', \"jone's\", 'orphanage', 'is', 'as', 'cheery', 'as', 'cheery', 'goes', 'for', 'a', 'pastry', 'shop']\n"
     ]
    }
   ],
   "source": [
    "from keras.preprocessing.text import text_to_word_sequence\n",
    "\n",
    "print(text_to_word_sequence(string)) \n",
    "# all in small cases\n",
    "# don't //  jone's"
   ]
  },
  {
   "cell_type": "markdown",
   "metadata": {},
   "source": [
    "Penn Treebank Tokenization\n",
    "\n",
    "- Rule 1. keep as one word if a word is connected with '-'\n",
    "- Rule 2. doesn't --> \"does\" + \"n't\" keep it as this format"
   ]
  },
  {
   "cell_type": "code",
   "execution_count": 10,
   "metadata": {
    "scrolled": true
   },
   "outputs": [
    {
     "data": {
      "text/plain": [
       "['Starting',\n",
       " 'a',\n",
       " 'home-based',\n",
       " 'restaurant',\n",
       " 'may',\n",
       " 'be',\n",
       " 'an',\n",
       " 'ideal.',\n",
       " 'it',\n",
       " 'does',\n",
       " \"n't\",\n",
       " 'have',\n",
       " 'a',\n",
       " 'food',\n",
       " 'chain',\n",
       " 'or',\n",
       " 'restaurant',\n",
       " 'of',\n",
       " 'their',\n",
       " 'own',\n",
       " '.']"
      ]
     },
     "execution_count": 10,
     "metadata": {},
     "output_type": "execute_result"
    }
   ],
   "source": [
    "string = \"Starting a home-based restaurant may be an ideal. it doesn't have a food chain or restaurant of their own.\"\n",
    "\n",
    "from nltk.tokenize import TreebankWordTokenizer\n",
    "\n",
    "TreebankWordTokenizer().tokenize(string)"
   ]
  },
  {
   "cell_type": "markdown",
   "metadata": {},
   "source": [
    "#### sentence tokenize\n",
    "\n",
    "binary classifier\n",
    "\n",
    "- . is part of sentence, that is . is for abbreviation: ph.d.\n",
    "- . is a end of a sentence"
   ]
  },
  {
   "cell_type": "code",
   "execution_count": 13,
   "metadata": {},
   "outputs": [
    {
     "name": "stdout",
     "output_type": "stream",
     "text": [
      "['His barber kept his word.', 'But keeping such a huge secret to himself was driving him crazy.', 'Finally, the barber went up a mountain and almost to the edge of a cliff.', 'He dug a hole in the midst of some reeds.', 'He looked about, to mae sure no one was near.']\n"
     ]
    },
    {
     "data": {
      "text/plain": [
       "['I am actively looking for Ph.D. students.', 'and you are a Ph.D student.']"
      ]
     },
     "execution_count": 13,
     "metadata": {},
     "output_type": "execute_result"
    }
   ],
   "source": [
    "text=\"His barber kept his word. But keeping such a huge secret to himself was driving him crazy. Finally, the barber went up a mountain and almost to the edge of a cliff. He dug a hole in the midst of some reeds. He looked about, to mae sure no one was near.\"\n",
    "text2=\"I am actively looking for Ph.D. students. and you are a Ph.D student.\"\n",
    "from nltk.tokenize import sent_tokenize\n",
    "\n",
    "print(sent_tokenize(text))\n",
    "sent_tokenize(text2) # it does good job for ignoring . in ph.d."
   ]
  },
  {
   "cell_type": "markdown",
   "metadata": {},
   "source": [
    "#### Cleaning & Normalization\n",
    "    Cleaning : wipe out noise from corpus\n",
    "        - 1. removing rare words\n",
    "        - 2. removing words with very short length\n",
    "    Normalization : unify words that have different expression means"
   ]
  },
  {
   "cell_type": "markdown",
   "metadata": {},
   "source": [
    "\n",
    "*\n",
    "\n",
    "    Causes the resulting RE to match 0 or more repetitions of the preceding RE, as many repetitions as are possible. ab* will match ‘a’, ‘ab’, or ‘a’ followed by any number of ‘b’s.\n",
    "\n",
    "\n",
    "\\b\n",
    "\n",
    "    Matches the empty string, but only at the beginning or end of a word. A word is defined as a sequence of word characters. Note that formally, \\b is defined as the boundary between a \\w and a \\W character (or vice versa), or between \\w and the beginning/end of the string. This means that r'\\bfoo\\b' matches 'foo', 'foo.', '(foo)', 'bar foo baz' but not 'foobar' or 'foo3'.\n",
    "    \n",
    "\n",
    "\n",
    "\\w\n",
    "\n",
    "    For Unicode (str) patterns:\n",
    "\n",
    "        Matches Unicode word characters; this includes most characters that can be part of a word in any language, as well as numbers and the underscore. If the ASCII flag is used, only [a-zA-Z0-9_] is matched.\n",
    "    For 8-bit (bytes) patterns:\n",
    "\n",
    "        Matches characters considered alphanumeric in the ASCII character set; this is equivalent to [a-zA-Z0-9_]. If the LOCALE flag is used, matches characters considered alphanumeric in the current locale and the underscore.\n",
    "\n",
    "\\W\n",
    "\n",
    "    Matches any character which is not a word character. This is the opposite of \\w. If the ASCII flag is used this becomes the equivalent of [^a-zA-Z0-9_]. If the LOCALE flag is used, matches characters which are neither alphanumeric in the current locale nor the underscore.\n"
   ]
  },
  {
   "cell_type": "code",
   "execution_count": 18,
   "metadata": {},
   "outputs": [
    {
     "name": "stdout",
     "output_type": "stream",
     "text": [
      " was wondering anyone out there could enlighten this car.\n"
     ]
    }
   ],
   "source": [
    "import re\n",
    "text = \"I was wondering if anyone out there could enlighten me on this car.\"\n",
    "shortword = re.compile(r'\\W*\\b\\w{1,2}\\b')\n",
    "print(shortword.sub('', text))"
   ]
  },
  {
   "cell_type": "markdown",
   "metadata": {},
   "source": [
    "#### Stemming & Lemmatization \n"
   ]
  },
  {
   "cell_type": "code",
   "execution_count": 33,
   "metadata": {},
   "outputs": [
    {
     "name": "stdout",
     "output_type": "stream",
     "text": [
      "tokenized words: \n",
      " ['This', 'was', 'not', 'the', 'map', 'we', 'found', 'in', 'Billy', 'Bones', \"'s\", 'chest', ',', 'but', 'an', 'accurate', 'copy', ',', 'complete', 'in', 'all', 'things', '--', 'names', 'and', 'heights', 'and', 'soundings', '--', 'with', 'the', 'single', 'exception', 'of', 'the', 'red', 'crosses', 'and', 'the', 'written', 'notes', '.']\n",
      "Porter Stems: \n",
      " ['thi', 'wa', 'not', 'the', 'map', 'we', 'found', 'in', 'billi', 'bone', \"'s\", 'chest', ',', 'but', 'an', 'accur', 'copi', ',', 'complet', 'in', 'all', 'thing', '--', 'name', 'and', 'height', 'and', 'sound', '--', 'with', 'the', 'singl', 'except', 'of', 'the', 'red', 'cross', 'and', 'the', 'written', 'note', '.']\n",
      "Lancaster Stems: \n",
      " ['thi', 'was', 'not', 'the', 'map', 'we', 'found', 'in', 'bil', 'bon', \"'s\", 'chest', ',', 'but', 'an', 'acc', 'cop', ',', 'complet', 'in', 'al', 'thing', '--', 'nam', 'and', 'height', 'and', 'sound', '--', 'with', 'the', 'singl', 'exceiv', 'of', 'the', 'red', 'cross', 'and', 'the', 'writ', 'not', '.']\n"
     ]
    }
   ],
   "source": [
    "text = \"This was not the map we found in Billy Bones's chest, but an accurate copy, complete in all things--names and heights and soundings--with the single exception of the red crosses and the written notes.\"\n",
    "\n",
    "from nltk.stem import PorterStemmer, LancasterStemmer \n",
    "from nltk.tokenize import word_tokenize\n",
    "\n",
    "words = word_tokenize(text)\n",
    "print('tokenized words: \\n', words)\n",
    "\n",
    "#print('stems:', [PorterStemmer.stem(w) for w in word])\n",
    "p= PorterStemmer()\n",
    "print('Porter Stems: \\n', [p.stem(w) for w in words])\n",
    "l= LancasterStemmer()\n",
    "print('Lancaster Stems: \\n', [l.stem(w) for w in words])"
   ]
  },
  {
   "cell_type": "code",
   "execution_count": 21,
   "metadata": {},
   "outputs": [
    {
     "data": {
      "text/plain": [
       "['policy',\n",
       " 'doing',\n",
       " 'organization',\n",
       " 'ha',\n",
       " 'going',\n",
       " 'love',\n",
       " 'life',\n",
       " 'fly',\n",
       " 'dy',\n",
       " 'watched',\n",
       " 'science',\n",
       " 'starting']"
      ]
     },
     "execution_count": 21,
     "metadata": {},
     "output_type": "execute_result"
    }
   ],
   "source": [
    "words=['policies', 'doing', 'organizations', 'has', 'going', 'loves', 'lives', 'fly', 'dies', 'watched', 'science', 'starting']\n",
    "\n",
    "from nltk.stem import WordNetLemmatizer\n",
    "\n",
    "[WordNetLemmatizer().lemmatize(w) for w in words]"
   ]
  },
  {
   "cell_type": "markdown",
   "metadata": {},
   "source": [
    "#### Stopping words"
   ]
  },
  {
   "cell_type": "code",
   "execution_count": 35,
   "metadata": {},
   "outputs": [
    {
     "data": {
      "text/plain": [
       "['i', 'me', 'my', 'myself', 'we', 'our', 'ours', 'ourselves', 'you', \"you're\"]"
      ]
     },
     "execution_count": 35,
     "metadata": {},
     "output_type": "execute_result"
    }
   ],
   "source": [
    "from nltk.corpus import stopwords\n",
    "\n",
    "stopwords.words('english')[:10]"
   ]
  },
  {
   "cell_type": "code",
   "execution_count": 38,
   "metadata": {},
   "outputs": [
    {
     "name": "stdout",
     "output_type": "stream",
     "text": [
      "before stopping words: \t ['Family', 'is', 'not', 'an', 'important', 'thing', '.', 'It', \"'s\", 'everything', '.']\n",
      "after stopping words: \t ['Family', 'important', 'thing', '.', 'It', \"'s\", 'everything', '.']\n"
     ]
    }
   ],
   "source": [
    "text = \"Family is not an important thing. It's everything.\"\n",
    "\n",
    "from nltk.corpus import stopwords\n",
    "from nltk.tokenize import word_tokenize\n",
    "\n",
    "stop_words = set(stopwords.words('english'))\n",
    "\n",
    "word_tk = word_tokenize(text)\n",
    "print('before stopping words: \\t', word_tk)\n",
    "\n",
    "\n",
    "print('after stopping words: \\t', [w for w in word_tk if w not in stop_words])"
   ]
  },
  {
   "cell_type": "markdown",
   "metadata": {},
   "source": [
    "#### Regular Expression (re)\n",
    "\n",
    "1) 정규 표현식 문법\n",
    "\n",
    "정규 표현식을 위해 사용되는 문법 중 특수 문자들은 아래와 같습니다.\n",
    "특수 문자 \t설명\n",
    "    . \t한 개의 임의의 문자를 나타냅니다. (줄바꿈 문자인 \\n는 제외)\n",
    "    ? \t앞의 문자가 존재할 수도 있고, 존재하지 않을 수도 있습니다. (문자가 0개 또는 1개)\n",
    "    * \t앞의 문자가 무한개로 존재할 수도 있고, 존재하지 않을 수도 있습니다. (문자가 0개 이상)\n",
    "    + \t앞의 문자가 최소 한 개 이상 존재합니다. (문자가 1개 이상)\n",
    "    ^ \t뒤의 문자로 문자열이 시작됩니다.\n",
    "    $ \t앞의 문자로 문자열이 끝납니다.\n",
    "    {숫자} \t숫자만큼 반복합니다.\n",
    "    {숫자1, 숫자2} \t숫자1 이상 숫자2 이하만큼 반복합니다. ?, *, +를 이것으로 대체할 수 있습니다.\n",
    "    {숫자,} \t숫자 이상만큼 반복합니다.\n",
    "    [ ] \t대괄호 안의 문자들 중 한 개의 문자와 매치합니다. [amk]라고 한다면 a 또는 m 또는 k 중 하나라도 존재하면 매치를 의미합니다. \n",
    "    [a-z]와 같이 범위를 지정할 수도 있습니다. [a-zA-Z]는 알파벳 전체를 의미하는 범위이며, 문자열에 알파벳이 존재하면 매치를 의미합니다.\n",
    "    [^문자] \t해당 문자를 제외한 문자를 매치합니다.\n",
    "    | \tAlB와 같이 쓰이며 A 또는 B의 의미를 가집니다.\n",
    "\n",
    "\n",
    "문자 규칙 \t설명\n",
    "    \\\\ \t역 슬래쉬 문자 자체를 의미합니다\n",
    "    \\d \t모든 숫자를 의미합니다. [0-9]와 의미가 동일합니다.\n",
    "    \\D \t숫자를 제외한 모든 문자를 의미합니다. [^0-9]와 의미가 동일합니다.\n",
    "    \\s \t공백을 의미합니다. [ \\t\\n\\r\\f\\v]와 의미가 동일합니다.\n",
    "    \\S \t공백을 제외한 문자를 의미합니다. [^ \\t\\n\\r\\f\\v]와 의미가 동일합니다.\n",
    "    \\w \t문자 또는 숫자를 의미합니다. [a-zA-Z0-9]와 의미가 동일합니다.\n",
    "    \\W \t문자 또는 숫자가 아닌 문자를 의미합니다. [^a-zA-Z0-9]와 의미가 동일합니다.\n",
    "\n",
    "2) 정규표현식 모듈 함수\n",
    "\n",
    "정규표현식 모듈에서 지원하는 함수는 이와 같습니다.\n",
    "    모듈 함수 \t설명\n",
    "    re.compile() \t정규표현식을 컴파일하는 함수입니다. 다시 말해, 파이썬에게 전해주는 역할을 합니다. 찾고자 하는 패턴이 빈번한 경우에는 미리 컴파일해놓고 사용하면 속도와 편의성면에서 유리합니다.\n",
    "    \n",
    "    re.search() \t문자열 전체에 대해서 정규표현식과 매치되는지를 검색합니다.\n",
    "    \n",
    "    re.match() \t문자열의 처음이 정규표현식과 매치되는지를 검색합니다.\n",
    "    \n",
    "    re.split() \t정규 표현식을 기준으로 문자열을 분리하여 리스트로 리턴합니다.\n",
    "    \n",
    "    re.findall() \t문자열에서 정규 표현식과 매치되는 모든 경우의 문자열을 찾아서 리스트로 리턴합니다. 만약, 매치되는 문자열이 없다면 빈 리스트가 리턴됩니다.\n",
    "    \n",
    "    re.finditer() \t문자열에서 정규 표현식과 매치되는 모든 경우의 문자열에 대한 이터레이터 객체를 리턴합니다.\n",
    "    \n",
    "    re.sub() \t문자열에서 정규 표현식과 일치하는 부분에 대해서 다른 문자열로 대체합니다.\n",
    "    \n",
    "**https://wikidocs.net/21703"
   ]
  },
  {
   "cell_type": "code",
   "execution_count": 44,
   "metadata": {
    "scrolled": true
   },
   "outputs": [
    {
     "name": "stdout",
     "output_type": "stream",
     "text": [
      "['Don', 't', 'be', 'fooled', 'by', 'the', 'dark', 'sounding', 'name', 'Mr', 'Jone', 's', 'Orphanage', 'is', 'as', 'cheery', 'as', 'cheery', 'goes', 'for', 'a', 'pastry', 'shop']\n"
     ]
    },
    {
     "data": {
      "text/plain": [
       "True"
      ]
     },
     "execution_count": 44,
     "metadata": {},
     "output_type": "execute_result"
    }
   ],
   "source": [
    "text = \"Don't be fooled by the dark sounding name, Mr. Jone's Orphanage is as cheery as cheery goes for a pastry shop\"\n",
    "\n",
    "from nltk.tokenize import RegexpTokenizer\n",
    "\n",
    "# just get the words\n",
    "tokenizer= RegexpTokenizer('[\\w]+')\n",
    "tk = tokenizer.tokenize(text)\n",
    "print(tk)\n",
    "\n",
    "import re \n",
    "reg = re.findall(r'\\w+', text)\n",
    "\n",
    "tk == reg"
   ]
  },
  {
   "cell_type": "code",
   "execution_count": 45,
   "metadata": {},
   "outputs": [
    {
     "name": "stdout",
     "output_type": "stream",
     "text": [
      "[\"Don't\", 'be', 'fooled', 'by', 'the', 'dark', 'sounding', 'name,', 'Mr.', \"Jone's\", 'Orphanage', 'is', 'as', 'cheery', 'as', 'cheery', 'goes', 'for', 'a', 'pastry', 'shop']\n"
     ]
    }
   ],
   "source": [
    "tokenizer= RegexpTokenizer('[\\s]+', gaps= True)\n",
    "tk = tokenizer.tokenize(text)\n",
    "print(tk)"
   ]
  },
  {
   "cell_type": "markdown",
   "metadata": {},
   "source": [
    "#### Int Encoding "
   ]
  },
  {
   "cell_type": "code",
   "execution_count": 46,
   "metadata": {},
   "outputs": [
    {
     "data": {
      "text/plain": [
       "['A barber is a person.',\n",
       " 'a barber is good person.',\n",
       " 'a barber is huge person.',\n",
       " 'he Knew A Secret!',\n",
       " 'The Secret He Kept is huge secret.',\n",
       " 'Huge secret.',\n",
       " 'His barber kept his word.',\n",
       " 'a barber kept his word.',\n",
       " 'His barber kept his secret.',\n",
       " 'But keeping and keeping such a huge secret to himself was driving the barber crazy.',\n",
       " 'the barber went up a huge mountain.']"
      ]
     },
     "execution_count": 46,
     "metadata": {},
     "output_type": "execute_result"
    }
   ],
   "source": [
    "from nltk.tokenize import sent_tokenize, word_tokenize\n",
    "from nltk.corpus import stopwords\n",
    "\n",
    "text = \"A barber is a person. a barber is good person. a barber is huge person. he Knew A Secret! The Secret He Kept is huge secret. Huge secret. His barber kept his word. a barber kept his word. His barber kept his secret. But keeping and keeping such a huge secret to himself was driving the barber crazy. the barber went up a huge mountain.\"\n",
    "\n",
    "# sent_tokenize\n",
    "txt = sent_tokenize(text)\n",
    "txt"
   ]
  },
  {
   "cell_type": "code",
   "execution_count": 55,
   "metadata": {},
   "outputs": [
    {
     "data": {
      "text/plain": [
       "([['barber', 'person'],\n",
       "  ['barber', 'good', 'person'],\n",
       "  ['barber', 'huge', 'person'],\n",
       "  ['knew', 'secret'],\n",
       "  ['secret', 'kept', 'huge', 'secret'],\n",
       "  ['huge', 'secret'],\n",
       "  ['barber', 'kept', 'word'],\n",
       "  ['barber', 'kept', 'word'],\n",
       "  ['barber', 'kept', 'secret'],\n",
       "  ['keeping', 'keeping', 'huge', 'secret', 'driving', 'barber', 'crazy'],\n",
       "  ['barber', 'went', 'huge', 'mountain']],\n",
       " {'barber': 8,\n",
       "  'person': 3,\n",
       "  'good': 1,\n",
       "  'huge': 5,\n",
       "  'knew': 1,\n",
       "  'secret': 6,\n",
       "  'kept': 4,\n",
       "  'word': 2,\n",
       "  'keeping': 2,\n",
       "  'driving': 1,\n",
       "  'crazy': 1,\n",
       "  'went': 1,\n",
       "  'mountain': 1})"
      ]
     },
     "execution_count": 55,
     "metadata": {},
     "output_type": "execute_result"
    }
   ],
   "source": [
    "# cleaning and tokenizing\n",
    "\n",
    "vocab = {}\n",
    "sentences =[]\n",
    "sw = set(stopwords.words('english'))\n",
    "\n",
    "for i in txt:\n",
    "    sentence = word_tokenize(i) # tokenize\n",
    "    result =[]\n",
    "    \n",
    "    for word in sentence: \n",
    "        word = word.lower() #lowercase\n",
    "        \n",
    "        if word not in sw:\n",
    "            if(len(word)) > 2: #remove very short words\n",
    "                result.append(word)\n",
    "                \n",
    "                if word not in vocab:\n",
    "                    vocab[word] = 0\n",
    "                    \n",
    "                vocab[word] += 1 # ++ the count for each words\n",
    "    \n",
    "    sentences.append(result)\n",
    "    \n",
    "sentences, vocab"
   ]
  },
  {
   "cell_type": "code",
   "execution_count": 56,
   "metadata": {},
   "outputs": [
    {
     "data": {
      "text/plain": [
       "[('barber', 8),\n",
       " ('secret', 6),\n",
       " ('huge', 5),\n",
       " ('kept', 4),\n",
       " ('person', 3),\n",
       " ('word', 2),\n",
       " ('keeping', 2),\n",
       " ('good', 1),\n",
       " ('knew', 1),\n",
       " ('driving', 1),\n",
       " ('crazy', 1),\n",
       " ('went', 1),\n",
       " ('mountain', 1)]"
      ]
     },
     "execution_count": 56,
     "metadata": {},
     "output_type": "execute_result"
    }
   ],
   "source": [
    "sorted_vocab = sorted(vocab.items(), key= lambda x:x[1], reverse = True)\n",
    "sorted_vocab"
   ]
  },
  {
   "cell_type": "code",
   "execution_count": 60,
   "metadata": {},
   "outputs": [
    {
     "data": {
      "text/plain": [
       "{'barber': 1,\n",
       " 'secret': 2,\n",
       " 'huge': 3,\n",
       " 'kept': 4,\n",
       " 'person': 5,\n",
       " 'word': 6,\n",
       " 'keeping': 7}"
      ]
     },
     "execution_count": 60,
     "metadata": {},
     "output_type": "execute_result"
    }
   ],
   "source": [
    "# make the barber = 1 \n",
    "word_ind ={}\n",
    "i =0\n",
    "for word, freq in sorted_vocab:\n",
    "    if freq > 1: # remove words that apreas less than 1\n",
    "        i += 1\n",
    "        word_ind[word] = i\n",
    "        \n",
    "word_ind"
   ]
  },
  {
   "cell_type": "code",
   "execution_count": 65,
   "metadata": {},
   "outputs": [
    {
     "data": {
      "text/plain": [
       "{'barber': 1, 'secret': 2, 'huge': 3, 'kept': 4, 'person': 5}"
      ]
     },
     "execution_count": 65,
     "metadata": {},
     "output_type": "execute_result"
    }
   ],
   "source": [
    "# get the top n\n",
    "top_n = 5 # barber ~ person // del word & keeping\n",
    "\n",
    "del_word = [w for w,f in word_ind.items() if f >= top_n +1]\n",
    "del_word\n",
    "\n",
    "for w in del_word:\n",
    "    del word_ind[w]\n",
    "    \n",
    "word_ind\n",
    "\n",
    "#[w for w, f in word_ind.items() if f <= top_n +1]"
   ]
  },
  {
   "cell_type": "code",
   "execution_count": 66,
   "metadata": {},
   "outputs": [
    {
     "data": {
      "text/plain": [
       "{'barber': 1, 'secret': 2, 'huge': 3, 'kept': 4, 'person': 5, 'OOV': 6}"
      ]
     },
     "execution_count": 66,
     "metadata": {},
     "output_type": "execute_result"
    }
   ],
   "source": [
    "# creat out of vocab for the rest of the words\n",
    "word_ind['OOV'] = len(word_ind)+1\n",
    "word_ind"
   ]
  },
  {
   "cell_type": "code",
   "execution_count": 67,
   "metadata": {},
   "outputs": [
    {
     "data": {
      "text/plain": [
       "[[1, 5],\n",
       " [1, 6, 5],\n",
       " [1, 3, 5],\n",
       " [6, 2],\n",
       " [2, 4, 3, 2],\n",
       " [3, 2],\n",
       " [1, 4, 6],\n",
       " [1, 4, 6],\n",
       " [1, 4, 2],\n",
       " [6, 6, 3, 2, 6, 1, 6],\n",
       " [1, 6, 3, 6]]"
      ]
     },
     "execution_count": 67,
     "metadata": {},
     "output_type": "execute_result"
    }
   ],
   "source": [
    "# int encoding \n",
    "encode=[]\n",
    "for s in sentences: \n",
    "    temp=[]\n",
    "    \n",
    "    for w in s: \n",
    "        try:\n",
    "            temp.append(word_ind[w])\n",
    "        except KeyError:\n",
    "            temp.append(word_ind['OOV'])\n",
    "    \n",
    "    encode.append(temp)\n",
    "\n",
    "encode"
   ]
  },
  {
   "cell_type": "code",
   "execution_count": null,
   "metadata": {},
   "outputs": [],
   "source": []
  },
  {
   "cell_type": "code",
   "execution_count": null,
   "metadata": {},
   "outputs": [],
   "source": []
  },
  {
   "cell_type": "code",
   "execution_count": 79,
   "metadata": {},
   "outputs": [
    {
     "data": {
      "text/plain": [
       "Counter({'barber': 8,\n",
       "         'person': 3,\n",
       "         'good': 1,\n",
       "         'huge': 5,\n",
       "         'knew': 1,\n",
       "         'secret': 6,\n",
       "         'kept': 4,\n",
       "         'word': 2,\n",
       "         'keeping': 2,\n",
       "         'driving': 1,\n",
       "         'crazy': 1,\n",
       "         'went': 1,\n",
       "         'mountain': 1})"
      ]
     },
     "execution_count": 79,
     "metadata": {},
     "output_type": "execute_result"
    }
   ],
   "source": [
    "# instead of using dictionary this could be done faster via Counter \n",
    "\n",
    "from collections import Counter\n",
    "\n",
    "words = sum(sentences, []) #force into one list\n",
    "vocab = Counter(words)\n",
    "\n",
    "vocab"
   ]
  },
  {
   "cell_type": "code",
   "execution_count": 80,
   "metadata": {},
   "outputs": [
    {
     "data": {
      "text/plain": [
       "[('barber', 8), ('secret', 6), ('huge', 5), ('kept', 4), ('person', 3)]"
      ]
     },
     "execution_count": 80,
     "metadata": {},
     "output_type": "execute_result"
    }
   ],
   "source": [
    "top_n = 5\n",
    "top_vocabs = vocab.most_common(top_n) # most_common will return the top N \n",
    "top_vocabs"
   ]
  },
  {
   "cell_type": "code",
   "execution_count": 82,
   "metadata": {},
   "outputs": [
    {
     "data": {
      "text/plain": [
       "{'barber': 1, 'secret': 2, 'huge': 3, 'kept': 4, 'person': 5}"
      ]
     },
     "execution_count": 82,
     "metadata": {},
     "output_type": "execute_result"
    }
   ],
   "source": [
    "word_ind ={}\n",
    "i =0\n",
    "\n",
    "for w, f in top_vocabs:\n",
    "    i+=1\n",
    "    word_ind[w] = i\n",
    "\n",
    "word_ind"
   ]
  },
  {
   "cell_type": "code",
   "execution_count": null,
   "metadata": {},
   "outputs": [],
   "source": []
  },
  {
   "cell_type": "code",
   "execution_count": null,
   "metadata": {},
   "outputs": [],
   "source": []
  },
  {
   "cell_type": "code",
   "execution_count": 93,
   "metadata": {},
   "outputs": [
    {
     "data": {
      "text/plain": [
       "{'barber': 1, 'secret': 2, 'huge': 3, 'kept': 4, 'person': 5}"
      ]
     },
     "execution_count": 93,
     "metadata": {},
     "output_type": "execute_result"
    }
   ],
   "source": [
    "# this time use nltk FreqDist\n",
    "\n",
    "from nltk import FreqDist\n",
    "import numpy as np\n",
    "\n",
    "word = np.hstack(sentences)\n",
    "vocab = FreqDist(word)\n",
    "\n",
    "vocab\n",
    "\n",
    "# get the topN\n",
    "top_vocabs = vocab.most_common(top_n)\n",
    "top_vocabs\n",
    "\n",
    "# reversing the order\n",
    "word_ind = {w[0] : i+1 for i, w in enumerate(top_vocabs)}\n",
    "word_ind"
   ]
  },
  {
   "cell_type": "code",
   "execution_count": null,
   "metadata": {},
   "outputs": [],
   "source": []
  },
  {
   "cell_type": "code",
   "execution_count": null,
   "metadata": {},
   "outputs": [],
   "source": []
  },
  {
   "cell_type": "code",
   "execution_count": 110,
   "metadata": {},
   "outputs": [
    {
     "name": "stdout",
     "output_type": "stream",
     "text": [
      "[['barber', 'person'], ['barber', 'good', 'person'], ['barber', 'huge', 'person'], ['knew', 'secret'], ['secret', 'kept', 'huge', 'secret'], ['huge', 'secret'], ['barber', 'kept', 'word'], ['barber', 'kept', 'word'], ['barber', 'kept', 'secret'], ['keeping', 'keeping', 'huge', 'secret', 'driving', 'barber', 'crazy'], ['barber', 'went', 'huge', 'mountain']]\n"
     ]
    },
    {
     "data": {
      "text/plain": [
       "{'barber': 1,\n",
       " 'secret': 2,\n",
       " 'huge': 3,\n",
       " 'kept': 4,\n",
       " 'person': 5,\n",
       " 'word': 6,\n",
       " 'keeping': 7,\n",
       " 'good': 8,\n",
       " 'knew': 9,\n",
       " 'driving': 10,\n",
       " 'crazy': 11,\n",
       " 'went': 12,\n",
       " 'mountain': 13}"
      ]
     },
     "execution_count": 110,
     "metadata": {},
     "output_type": "execute_result"
    }
   ],
   "source": [
    "# keras \n",
    "from keras.preprocessing.text import Tokenizer\n",
    "print(sentences)\n",
    "\n",
    "tokenizer = Tokenizer()\n",
    "tokenizer.fit_on_texts(sentences) # this does int encoding automatically \n",
    "tokenizer.word_index"
   ]
  },
  {
   "cell_type": "code",
   "execution_count": 111,
   "metadata": {},
   "outputs": [
    {
     "data": {
      "text/plain": [
       "OrderedDict([('barber', 8),\n",
       "             ('person', 3),\n",
       "             ('good', 1),\n",
       "             ('huge', 5),\n",
       "             ('knew', 1),\n",
       "             ('secret', 6),\n",
       "             ('kept', 4),\n",
       "             ('word', 2),\n",
       "             ('keeping', 2),\n",
       "             ('driving', 1),\n",
       "             ('crazy', 1),\n",
       "             ('went', 1),\n",
       "             ('mountain', 1)])"
      ]
     },
     "execution_count": 111,
     "metadata": {},
     "output_type": "execute_result"
    }
   ],
   "source": [
    "# to see the counts for each words\n",
    "tokenizer.word_counts"
   ]
  },
  {
   "cell_type": "code",
   "execution_count": 112,
   "metadata": {},
   "outputs": [
    {
     "data": {
      "text/plain": [
       "[[1, 5],\n",
       " [1, 8, 5],\n",
       " [1, 3, 5],\n",
       " [9, 2],\n",
       " [2, 4, 3, 2],\n",
       " [3, 2],\n",
       " [1, 4, 6],\n",
       " [1, 4, 6],\n",
       " [1, 4, 2],\n",
       " [7, 7, 3, 2, 10, 1, 11],\n",
       " [1, 12, 3, 13]]"
      ]
     },
     "execution_count": 112,
     "metadata": {},
     "output_type": "execute_result"
    }
   ],
   "source": [
    "tokenizer.texts_to_sequences(sentences)"
   ]
  },
  {
   "cell_type": "code",
   "execution_count": 121,
   "metadata": {},
   "outputs": [
    {
     "data": {
      "text/plain": [
       "[[2, 6],\n",
       " [2, 1, 6],\n",
       " [2, 4, 6],\n",
       " [1, 3],\n",
       " [3, 5, 4, 3],\n",
       " [4, 3],\n",
       " [2, 5, 1],\n",
       " [2, 5, 1],\n",
       " [2, 5, 3],\n",
       " [1, 1, 4, 3, 1, 2, 1],\n",
       " [2, 1, 4, 1]]"
      ]
     },
     "execution_count": 121,
     "metadata": {},
     "output_type": "execute_result"
    }
   ],
   "source": [
    "# keras will delete OOV automatically.. so if i want to keep the oov words \n",
    "top_n = 5\n",
    "tokenizer = Tokenizer(num_words = top_n + 2, # since there are 0 and 'oov', i need to add 2\n",
    "                      oov_token= 'OOV') # OOV index will be 1!!\n",
    "\n",
    "tokenizer.fit_on_texts(sentences)\n",
    "\n",
    "f'in Keras the index of OOV is %d' %(tokenizer.word_index['OOV'])\n",
    "\n",
    "tokenizer.texts_to_sequences(sentences)"
   ]
  },
  {
   "cell_type": "markdown",
   "metadata": {},
   "source": [
    "#### Padding\n",
    "\n",
    "1. tokenizer = Tokenizer()\n",
    "2. tokenizer.fit_on_texts(sentences)\n",
    "3. encoded = tokenizer.texts_to_sequences(sentences)"
   ]
  },
  {
   "cell_type": "code",
   "execution_count": 122,
   "metadata": {},
   "outputs": [
    {
     "name": "stdout",
     "output_type": "stream",
     "text": [
      "[[1, 5], [1, 8, 5], [1, 3, 5], [9, 2], [2, 4, 3, 2], [3, 2], [1, 4, 6], [1, 4, 6], [1, 4, 2], [7, 7, 3, 2, 10, 1, 11], [1, 12, 3, 13]]\n"
     ]
    }
   ],
   "source": [
    "import numpy as np\n",
    "from keras.preprocessing.text import Tokenizer\n",
    "\n",
    "tokenizer = Tokenizer()\n",
    "tokenizer.fit_on_texts(sentences)\n",
    "\n",
    "encoded = tokenizer.texts_to_sequences(sentences)\n",
    "print(encoded)\n",
    "\n",
    "# as a preperation for modeling i need to have them all in same length!"
   ]
  },
  {
   "cell_type": "code",
   "execution_count": 123,
   "metadata": {},
   "outputs": [
    {
     "data": {
      "text/plain": [
       "array([[ 1,  5,  0,  0,  0,  0,  0],\n",
       "       [ 1,  8,  5,  0,  0,  0,  0],\n",
       "       [ 1,  3,  5,  0,  0,  0,  0],\n",
       "       [ 9,  2,  0,  0,  0,  0,  0],\n",
       "       [ 2,  4,  3,  2,  0,  0,  0],\n",
       "       [ 3,  2,  0,  0,  0,  0,  0],\n",
       "       [ 1,  4,  6,  0,  0,  0,  0],\n",
       "       [ 1,  4,  6,  0,  0,  0,  0],\n",
       "       [ 1,  4,  2,  0,  0,  0,  0],\n",
       "       [ 7,  7,  3,  2, 10,  1, 11],\n",
       "       [ 1, 12,  3, 13,  0,  0,  0]])"
      ]
     },
     "execution_count": 123,
     "metadata": {},
     "output_type": "execute_result"
    }
   ],
   "source": [
    "max_len = max(len(i) for i in encoded)\n",
    "\n",
    "#post padding\n",
    "for i in encoded: \n",
    "    while len(i) < max_len:\n",
    "        i.append(0)\n",
    "\n",
    "padded_np = np.array(encoded)\n",
    "padded_np"
   ]
  },
  {
   "cell_type": "code",
   "execution_count": 124,
   "metadata": {},
   "outputs": [
    {
     "data": {
      "text/plain": [
       "array([[ 0,  0,  0,  0,  0,  1,  5],\n",
       "       [ 0,  0,  0,  0,  1,  8,  5],\n",
       "       [ 0,  0,  0,  0,  1,  3,  5],\n",
       "       [ 0,  0,  0,  0,  0,  9,  2],\n",
       "       [ 0,  0,  0,  2,  4,  3,  2],\n",
       "       [ 0,  0,  0,  0,  0,  3,  2],\n",
       "       [ 0,  0,  0,  0,  1,  4,  6],\n",
       "       [ 0,  0,  0,  0,  1,  4,  6],\n",
       "       [ 0,  0,  0,  0,  1,  4,  2],\n",
       "       [ 7,  7,  3,  2, 10,  1, 11],\n",
       "       [ 0,  0,  0,  1, 12,  3, 13]])"
      ]
     },
     "execution_count": 124,
     "metadata": {},
     "output_type": "execute_result"
    }
   ],
   "source": [
    "# Using keras pad_sequences\n",
    "\n",
    "from keras.preprocessing.sequence import pad_sequences\n",
    "\n",
    "encoded = tokenizer.texts_to_sequences(sentences)\n",
    "\n",
    "pre_pad = pad_sequences(encoded)\n",
    "pre_pad"
   ]
  },
  {
   "cell_type": "code",
   "execution_count": 125,
   "metadata": {},
   "outputs": [
    {
     "data": {
      "text/plain": [
       "array([[ 1,  5,  0,  0,  0,  0,  0],\n",
       "       [ 1,  8,  5,  0,  0,  0,  0],\n",
       "       [ 1,  3,  5,  0,  0,  0,  0],\n",
       "       [ 9,  2,  0,  0,  0,  0,  0],\n",
       "       [ 2,  4,  3,  2,  0,  0,  0],\n",
       "       [ 3,  2,  0,  0,  0,  0,  0],\n",
       "       [ 1,  4,  6,  0,  0,  0,  0],\n",
       "       [ 1,  4,  6,  0,  0,  0,  0],\n",
       "       [ 1,  4,  2,  0,  0,  0,  0],\n",
       "       [ 7,  7,  3,  2, 10,  1, 11],\n",
       "       [ 1, 12,  3, 13,  0,  0,  0]])"
      ]
     },
     "execution_count": 125,
     "metadata": {},
     "output_type": "execute_result"
    }
   ],
   "source": [
    "post_pad = pad_sequences(encoded, padding='post')\n",
    "post_pad"
   ]
  },
  {
   "cell_type": "code",
   "execution_count": 127,
   "metadata": {},
   "outputs": [
    {
     "data": {
      "text/plain": [
       "array([[ 1,  5, 14, 14, 14],\n",
       "       [ 1,  8,  5, 14, 14],\n",
       "       [ 1,  3,  5, 14, 14],\n",
       "       [ 9,  2, 14, 14, 14],\n",
       "       [ 2,  4,  3,  2, 14],\n",
       "       [ 3,  2, 14, 14, 14],\n",
       "       [ 1,  4,  6, 14, 14],\n",
       "       [ 1,  4,  6, 14, 14],\n",
       "       [ 1,  4,  2, 14, 14],\n",
       "       [ 3,  2, 10,  1, 11],\n",
       "       [ 1, 12,  3, 13, 14]])"
      ]
     },
     "execution_count": 127,
     "metadata": {},
     "output_type": "execute_result"
    }
   ],
   "source": [
    "last_val = len(tokenizer.word_index) + 1\n",
    "\n",
    "padded = pad_sequences(encoded, \n",
    "                       padding='post', \n",
    "                       maxlen= 5,\n",
    "                       value = last_val) # \n",
    "padded"
   ]
  },
  {
   "cell_type": "markdown",
   "metadata": {},
   "source": [
    "#### One hot Encoding"
   ]
  },
  {
   "cell_type": "code",
   "execution_count": 132,
   "metadata": {},
   "outputs": [
    {
     "data": {
      "text/plain": [
       "'Would  you like to go have burger for lunch with me? The burger is really good'"
      ]
     },
     "execution_count": 132,
     "metadata": {},
     "output_type": "execute_result"
    }
   ],
   "source": [
    "text = 'Would  you like to go have burger for lunch with me? The burger is really good'\n",
    "text"
   ]
  },
  {
   "cell_type": "code",
   "execution_count": 133,
   "metadata": {},
   "outputs": [
    {
     "data": {
      "text/plain": [
       "{'burger': 1,\n",
       " 'would': 2,\n",
       " 'you': 3,\n",
       " 'like': 4,\n",
       " 'to': 5,\n",
       " 'go': 6,\n",
       " 'have': 7,\n",
       " 'for': 8,\n",
       " 'lunch': 9,\n",
       " 'with': 10,\n",
       " 'me': 11,\n",
       " 'the': 12,\n",
       " 'is': 13,\n",
       " 'really': 14,\n",
       " 'good': 15}"
      ]
     },
     "execution_count": 133,
     "metadata": {},
     "output_type": "execute_result"
    }
   ],
   "source": [
    "from keras.preprocessing.text import Tokenizer\n",
    "from keras.utils import to_categorical\n",
    "\n",
    "t = Tokenizer()\n",
    "t.fit_on_texts([text])\n",
    "t.word_index"
   ]
  },
  {
   "cell_type": "code",
   "execution_count": 135,
   "metadata": {},
   "outputs": [
    {
     "data": {
      "text/plain": [
       "[[2, 3, 4, 5, 6, 7, 14, 15, 1, 8, 9, 10, 11]]"
      ]
     },
     "execution_count": 135,
     "metadata": {},
     "output_type": "execute_result"
    }
   ],
   "source": [
    "sub_text = 'would you like to go have really good burger for lunch with me'\n",
    "\n",
    "encoded = t.texts_to_sequences([sub_text])\n",
    "encoded"
   ]
  },
  {
   "cell_type": "code",
   "execution_count": 136,
   "metadata": {},
   "outputs": [
    {
     "data": {
      "text/plain": [
       "array([[[0., 0., 1., 0., 0., 0., 0., 0., 0., 0., 0., 0., 0., 0., 0., 0.],\n",
       "        [0., 0., 0., 1., 0., 0., 0., 0., 0., 0., 0., 0., 0., 0., 0., 0.],\n",
       "        [0., 0., 0., 0., 1., 0., 0., 0., 0., 0., 0., 0., 0., 0., 0., 0.],\n",
       "        [0., 0., 0., 0., 0., 1., 0., 0., 0., 0., 0., 0., 0., 0., 0., 0.],\n",
       "        [0., 0., 0., 0., 0., 0., 1., 0., 0., 0., 0., 0., 0., 0., 0., 0.],\n",
       "        [0., 0., 0., 0., 0., 0., 0., 1., 0., 0., 0., 0., 0., 0., 0., 0.],\n",
       "        [0., 0., 0., 0., 0., 0., 0., 0., 0., 0., 0., 0., 0., 0., 1., 0.],\n",
       "        [0., 0., 0., 0., 0., 0., 0., 0., 0., 0., 0., 0., 0., 0., 0., 1.],\n",
       "        [0., 1., 0., 0., 0., 0., 0., 0., 0., 0., 0., 0., 0., 0., 0., 0.],\n",
       "        [0., 0., 0., 0., 0., 0., 0., 0., 1., 0., 0., 0., 0., 0., 0., 0.],\n",
       "        [0., 0., 0., 0., 0., 0., 0., 0., 0., 1., 0., 0., 0., 0., 0., 0.],\n",
       "        [0., 0., 0., 0., 0., 0., 0., 0., 0., 0., 1., 0., 0., 0., 0., 0.],\n",
       "        [0., 0., 0., 0., 0., 0., 0., 0., 0., 0., 0., 1., 0., 0., 0., 0.]]],\n",
       "      dtype=float32)"
      ]
     },
     "execution_count": 136,
     "metadata": {},
     "output_type": "execute_result"
    }
   ],
   "source": [
    "one_hot = to_categorical(encoded)\n",
    "one_hot "
   ]
  },
  {
   "cell_type": "markdown",
   "metadata": {},
   "source": [
    "One hot encoding demand high memory for increasing the dimensions, also cannot capture latent similarity between words. This could be remedied by \n",
    "    1. vectorlization : LSA, HAL, etc\n",
    "    2. prediction based vectorization: NNLM, RNNLM, Word2Vec, FastText, etc\n",
    "    3. Glove"
   ]
  },
  {
   "cell_type": "code",
   "execution_count": null,
   "metadata": {},
   "outputs": [],
   "source": []
  },
  {
   "cell_type": "markdown",
   "metadata": {},
   "source": [
    "BPE "
   ]
  },
  {
   "cell_type": "code",
   "execution_count": 137,
   "metadata": {},
   "outputs": [
    {
     "data": {
      "text/plain": [
       "{'l o w </w>': 5,\n",
       " 'l o w e r </w>': 2,\n",
       " 'n e w e s t </w>': 6,\n",
       " 'w i d e s t </w>': 3}"
      ]
     },
     "execution_count": 137,
     "metadata": {},
     "output_type": "execute_result"
    }
   ],
   "source": [
    "#dictionary = {'low' : 5, 'lower' : 2, 'newest' : 6, 'widest' : 3}\n",
    "\n",
    "import re, collections \n",
    "\n",
    "num_merge = 10\n",
    "vocab = {'l o w </w>' : 5,\n",
    "         'l o w e r </w>' : 2,\n",
    "         'n e w e s t </w>':6,\n",
    "         'w i d e s t </w>':3\n",
    "         }\n",
    "vocab"
   ]
  },
  {
   "cell_type": "code",
   "execution_count": 139,
   "metadata": {},
   "outputs": [
    {
     "name": "stdout",
     "output_type": "stream",
     "text": [
      "('e', 's')\n",
      "('es', 't')\n",
      "('est', '</w>')\n",
      "('l', 'o')\n",
      "('lo', 'w')\n",
      "('n', 'e')\n",
      "('ne', 'w')\n",
      "('new', 'est</w>')\n",
      "('low', '</w>')\n",
      "('w', 'i')\n"
     ]
    }
   ],
   "source": [
    "def get_stats(vocab):\n",
    "    pairs = collections.defaultdict(int)\n",
    "    for word, freq in vocab.items():\n",
    "        symbols = word.split()\n",
    "        for i in range(len(symbols)-1):\n",
    "            pairs[symbols[i],symbols[i+1]] += freq\n",
    "    return pairs\n",
    "\n",
    "def merge_vocab(pair, v_in):\n",
    "    v_out = {}\n",
    "    bigram = re.escape(' '.join(pair))\n",
    "    p = re.compile(r'(?<!\\S)' + bigram + r'(?!\\S)')\n",
    "    for word in v_in:\n",
    "        w_out = p.sub(''.join(pair), word)\n",
    "        v_out[w_out] = v_in[word]\n",
    "    return v_out\n",
    "\n",
    "for i in range(num_merge):\n",
    "    pairs = get_stats(vocab)\n",
    "    best = max(pairs, key=pairs.get)\n",
    "    vocab = merge_vocab(best, vocab)\n",
    "    print(best)"
   ]
  },
  {
   "cell_type": "markdown",
   "metadata": {},
   "source": [
    "### Bag of Words (BoW)"
   ]
  },
  {
   "cell_type": "code",
   "execution_count": 143,
   "metadata": {},
   "outputs": [
    {
     "name": "stdout",
     "output_type": "stream",
     "text": [
      "[[1 1 2 1 2 1]]\n",
      "{'you': 4, 'know': 1, 'want': 3, 'your': 5, 'love': 2, 'because': 0}\n"
     ]
    }
   ],
   "source": [
    "from sklearn.feature_extraction.text import CountVectorizer\n",
    "\n",
    "corpus = ['you know I want your love. Because I love you']\n",
    "vector = CountVectorizer()\n",
    "# this automatically picks up words with length > 2; it tokenizes based on space\n",
    "\n",
    "print(vector.fit_transform(corpus).toarray())\n",
    "print(vector.vocabulary_)"
   ]
  },
  {
   "cell_type": "code",
   "execution_count": 144,
   "metadata": {},
   "outputs": [
    {
     "name": "stdout",
     "output_type": "stream",
     "text": [
      "[[1 1 1 1 1 1]]\n",
      "{'family': 1, 'not': 4, 'important': 2, 'thing': 5, 'it': 3, 'everything': 0}\n"
     ]
    }
   ],
   "source": [
    "text=[\"Family is not an important thing. It's everything.\"]\n",
    "\n",
    "vector = CountVectorizer(stop_words=['is', 'an', 'the', 'a']) # or i can use stop_words = 'english'\n",
    "print(vector.fit_transform(text).toarray())\n",
    "print(vector.vocabulary_)"
   ]
  },
  {
   "cell_type": "code",
   "execution_count": 146,
   "metadata": {},
   "outputs": [
    {
     "name": "stdout",
     "output_type": "stream",
     "text": [
      "[[1 1 1]]\n",
      "{'family': 0, 'important': 1, 'thing': 2}\n",
      "[[1 1 1 1]]\n",
      "{'family': 1, 'important': 2, 'thing': 3, 'everything': 0}\n"
     ]
    }
   ],
   "source": [
    "from nltk.corpus import stopwords\n",
    "text=[\"Family is not an important thing. It's everything.\"]\n",
    "\n",
    "sw = stopwords.words('english')\n",
    "vector = CountVectorizer(stop_words='english')\n",
    "vector_nltk = CountVectorizer(stop_words= sw)\n",
    "print(vector.fit_transform(text).toarray())\n",
    "print(vector.vocabulary_)\n",
    "\n",
    "print(vector_nltk.fit_transform(text).toarray())\n",
    "print(vector_nltk.vocabulary_)"
   ]
  },
  {
   "cell_type": "markdown",
   "metadata": {},
   "source": [
    "### TF-IDF"
   ]
  },
  {
   "cell_type": "code",
   "execution_count": 157,
   "metadata": {},
   "outputs": [
    {
     "data": {
      "text/plain": [
       "['I', 'do', 'know', 'like', 'love', 'should', 'want', 'what', 'you', 'your']"
      ]
     },
     "execution_count": 157,
     "metadata": {},
     "output_type": "execute_result"
    }
   ],
   "source": [
    "docs = [\n",
    "    'you know I want your love',\n",
    "    'I like you',\n",
    "    'what should I do ',    \n",
    "]\n",
    "vocab = list(set(w for doc in docs for w in doc.split()))\n",
    "vocab.sort()\n",
    "vocab"
   ]
  },
  {
   "cell_type": "code",
   "execution_count": 158,
   "metadata": {},
   "outputs": [],
   "source": [
    "N = len(docs)\n",
    "\n",
    "def tf(t, d):\n",
    "    return d.count(t)\n",
    "\n",
    "def idf(t):\n",
    "    df = 0\n",
    "    for doc in docs: \n",
    "        df += t in doc\n",
    "    return np.log(N / (df+1))\n",
    "\n",
    "def tfidf(t,d):\n",
    "    return tf(t,d) * idf(t)\n"
   ]
  },
  {
   "cell_type": "code",
   "execution_count": 159,
   "metadata": {},
   "outputs": [
    {
     "data": {
      "text/html": [
       "<div>\n",
       "<style scoped>\n",
       "    .dataframe tbody tr th:only-of-type {\n",
       "        vertical-align: middle;\n",
       "    }\n",
       "\n",
       "    .dataframe tbody tr th {\n",
       "        vertical-align: top;\n",
       "    }\n",
       "\n",
       "    .dataframe thead th {\n",
       "        text-align: right;\n",
       "    }\n",
       "</style>\n",
       "<table border=\"1\" class=\"dataframe\">\n",
       "  <thead>\n",
       "    <tr style=\"text-align: right;\">\n",
       "      <th></th>\n",
       "      <th>I</th>\n",
       "      <th>do</th>\n",
       "      <th>know</th>\n",
       "      <th>like</th>\n",
       "      <th>love</th>\n",
       "      <th>should</th>\n",
       "      <th>want</th>\n",
       "      <th>what</th>\n",
       "      <th>you</th>\n",
       "      <th>your</th>\n",
       "    </tr>\n",
       "  </thead>\n",
       "  <tbody>\n",
       "    <tr>\n",
       "      <th>0</th>\n",
       "      <td>1</td>\n",
       "      <td>0</td>\n",
       "      <td>1</td>\n",
       "      <td>0</td>\n",
       "      <td>1</td>\n",
       "      <td>0</td>\n",
       "      <td>1</td>\n",
       "      <td>0</td>\n",
       "      <td>2</td>\n",
       "      <td>1</td>\n",
       "    </tr>\n",
       "    <tr>\n",
       "      <th>1</th>\n",
       "      <td>1</td>\n",
       "      <td>0</td>\n",
       "      <td>0</td>\n",
       "      <td>1</td>\n",
       "      <td>0</td>\n",
       "      <td>0</td>\n",
       "      <td>0</td>\n",
       "      <td>0</td>\n",
       "      <td>1</td>\n",
       "      <td>0</td>\n",
       "    </tr>\n",
       "    <tr>\n",
       "      <th>2</th>\n",
       "      <td>1</td>\n",
       "      <td>1</td>\n",
       "      <td>0</td>\n",
       "      <td>0</td>\n",
       "      <td>0</td>\n",
       "      <td>1</td>\n",
       "      <td>0</td>\n",
       "      <td>1</td>\n",
       "      <td>0</td>\n",
       "      <td>0</td>\n",
       "    </tr>\n",
       "  </tbody>\n",
       "</table>\n",
       "</div>"
      ],
      "text/plain": [
       "   I  do  know  like  love  should  want  what  you  your\n",
       "0  1   0     1     0     1       0     1     0    2     1\n",
       "1  1   0     0     1     0       0     0     0    1     0\n",
       "2  1   1     0     0     0       1     0     1    0     0"
      ]
     },
     "execution_count": 159,
     "metadata": {},
     "output_type": "execute_result"
    }
   ],
   "source": [
    "import pandas as pd\n",
    "result =[]\n",
    "\n",
    "for i in range(N):\n",
    "    result.append([])\n",
    "    d = docs[i]\n",
    "    \n",
    "    for j in range(len(vocab)):\n",
    "        t = vocab[j]\n",
    "        result[-1].append(tf(t,d))\n",
    "\n",
    "# DTM\n",
    "tf_ = pd.DataFrame(result, columns= vocab)\n",
    "tf_"
   ]
  },
  {
   "cell_type": "code",
   "execution_count": 160,
   "metadata": {},
   "outputs": [
    {
     "data": {
      "text/html": [
       "<div>\n",
       "<style scoped>\n",
       "    .dataframe tbody tr th:only-of-type {\n",
       "        vertical-align: middle;\n",
       "    }\n",
       "\n",
       "    .dataframe tbody tr th {\n",
       "        vertical-align: top;\n",
       "    }\n",
       "\n",
       "    .dataframe thead th {\n",
       "        text-align: right;\n",
       "    }\n",
       "</style>\n",
       "<table border=\"1\" class=\"dataframe\">\n",
       "  <thead>\n",
       "    <tr style=\"text-align: right;\">\n",
       "      <th></th>\n",
       "      <th>idf</th>\n",
       "    </tr>\n",
       "  </thead>\n",
       "  <tbody>\n",
       "    <tr>\n",
       "      <th>I</th>\n",
       "      <td>-0.287682</td>\n",
       "    </tr>\n",
       "    <tr>\n",
       "      <th>do</th>\n",
       "      <td>0.405465</td>\n",
       "    </tr>\n",
       "    <tr>\n",
       "      <th>know</th>\n",
       "      <td>0.405465</td>\n",
       "    </tr>\n",
       "    <tr>\n",
       "      <th>like</th>\n",
       "      <td>0.405465</td>\n",
       "    </tr>\n",
       "    <tr>\n",
       "      <th>love</th>\n",
       "      <td>0.405465</td>\n",
       "    </tr>\n",
       "    <tr>\n",
       "      <th>should</th>\n",
       "      <td>0.405465</td>\n",
       "    </tr>\n",
       "    <tr>\n",
       "      <th>want</th>\n",
       "      <td>0.405465</td>\n",
       "    </tr>\n",
       "    <tr>\n",
       "      <th>what</th>\n",
       "      <td>0.405465</td>\n",
       "    </tr>\n",
       "    <tr>\n",
       "      <th>you</th>\n",
       "      <td>0.000000</td>\n",
       "    </tr>\n",
       "    <tr>\n",
       "      <th>your</th>\n",
       "      <td>0.405465</td>\n",
       "    </tr>\n",
       "  </tbody>\n",
       "</table>\n",
       "</div>"
      ],
      "text/plain": [
       "             idf\n",
       "I      -0.287682\n",
       "do      0.405465\n",
       "know    0.405465\n",
       "like    0.405465\n",
       "love    0.405465\n",
       "should  0.405465\n",
       "want    0.405465\n",
       "what    0.405465\n",
       "you     0.000000\n",
       "your    0.405465"
      ]
     },
     "execution_count": 160,
     "metadata": {},
     "output_type": "execute_result"
    }
   ],
   "source": [
    "result = []\n",
    "for i in range(len(vocab)):\n",
    "    t = vocab[i]\n",
    "    \n",
    "    result.append(idf(t))\n",
    "\n",
    "idf_ = pd.DataFrame(result, index = vocab, columns=['idf'])\n",
    "idf_"
   ]
  },
  {
   "cell_type": "code",
   "execution_count": 161,
   "metadata": {},
   "outputs": [
    {
     "data": {
      "text/html": [
       "<div>\n",
       "<style scoped>\n",
       "    .dataframe tbody tr th:only-of-type {\n",
       "        vertical-align: middle;\n",
       "    }\n",
       "\n",
       "    .dataframe tbody tr th {\n",
       "        vertical-align: top;\n",
       "    }\n",
       "\n",
       "    .dataframe thead th {\n",
       "        text-align: right;\n",
       "    }\n",
       "</style>\n",
       "<table border=\"1\" class=\"dataframe\">\n",
       "  <thead>\n",
       "    <tr style=\"text-align: right;\">\n",
       "      <th></th>\n",
       "      <th>I</th>\n",
       "      <th>do</th>\n",
       "      <th>know</th>\n",
       "      <th>like</th>\n",
       "      <th>love</th>\n",
       "      <th>should</th>\n",
       "      <th>want</th>\n",
       "      <th>what</th>\n",
       "      <th>you</th>\n",
       "      <th>your</th>\n",
       "    </tr>\n",
       "  </thead>\n",
       "  <tbody>\n",
       "    <tr>\n",
       "      <th>0</th>\n",
       "      <td>-0.287682</td>\n",
       "      <td>0.000000</td>\n",
       "      <td>0.405465</td>\n",
       "      <td>0.000000</td>\n",
       "      <td>0.405465</td>\n",
       "      <td>0.000000</td>\n",
       "      <td>0.405465</td>\n",
       "      <td>0.000000</td>\n",
       "      <td>0.0</td>\n",
       "      <td>0.405465</td>\n",
       "    </tr>\n",
       "    <tr>\n",
       "      <th>1</th>\n",
       "      <td>-0.287682</td>\n",
       "      <td>0.000000</td>\n",
       "      <td>0.000000</td>\n",
       "      <td>0.405465</td>\n",
       "      <td>0.000000</td>\n",
       "      <td>0.000000</td>\n",
       "      <td>0.000000</td>\n",
       "      <td>0.000000</td>\n",
       "      <td>0.0</td>\n",
       "      <td>0.000000</td>\n",
       "    </tr>\n",
       "    <tr>\n",
       "      <th>2</th>\n",
       "      <td>-0.287682</td>\n",
       "      <td>0.405465</td>\n",
       "      <td>0.000000</td>\n",
       "      <td>0.000000</td>\n",
       "      <td>0.000000</td>\n",
       "      <td>0.405465</td>\n",
       "      <td>0.000000</td>\n",
       "      <td>0.405465</td>\n",
       "      <td>0.0</td>\n",
       "      <td>0.000000</td>\n",
       "    </tr>\n",
       "  </tbody>\n",
       "</table>\n",
       "</div>"
      ],
      "text/plain": [
       "          I        do      know      like      love    should      want      what  you      your\n",
       "0 -0.287682  0.000000  0.405465  0.000000  0.405465  0.000000  0.405465  0.000000  0.0  0.405465\n",
       "1 -0.287682  0.000000  0.000000  0.405465  0.000000  0.000000  0.000000  0.000000  0.0  0.000000\n",
       "2 -0.287682  0.405465  0.000000  0.000000  0.000000  0.405465  0.000000  0.405465  0.0  0.000000"
      ]
     },
     "execution_count": 161,
     "metadata": {},
     "output_type": "execute_result"
    }
   ],
   "source": [
    "result =[]\n",
    "\n",
    "for i in range(N):\n",
    "    result.append([])\n",
    "    d = docs[i]\n",
    "    \n",
    "    for j in range(len(vocab)):\n",
    "        t = vocab[j]\n",
    "        \n",
    "        result[-1].append(tfidf(t,d))\n",
    "\n",
    "tfidf_ = pd.DataFrame(result, columns= vocab)\n",
    "tfidf_"
   ]
  },
  {
   "cell_type": "code",
   "execution_count": 156,
   "metadata": {},
   "outputs": [
    {
     "name": "stdout",
     "output_type": "stream",
     "text": [
      "[[0.         0.46735098 0.         0.46735098 0.         0.46735098\n",
      "  0.         0.35543247 0.46735098]\n",
      " [0.         0.         0.79596054 0.         0.         0.\n",
      "  0.         0.60534851 0.        ]\n",
      " [0.57735027 0.         0.         0.         0.57735027 0.\n",
      "  0.57735027 0.         0.        ]]\n",
      "{'you': 7, 'know': 1, 'want': 5, 'your': 8, 'love': 3, 'like': 2, 'what': 6, 'should': 4, 'do': 0}\n"
     ]
    }
   ],
   "source": [
    "# using sklearn\n",
    "\n",
    "from sklearn.feature_extraction.text import TfidfVectorizer\n",
    "\n",
    "corpus = [\n",
    "    'you know I want your love',\n",
    "    'I like you',\n",
    "    'what should I do ',    \n",
    "]\n",
    "\n",
    "tfidf = TfidfVectorizer().fit(corpus)\n",
    "print(tfidf.transform(corpus).toarray())\n",
    "print(tfidf.vocabulary_)"
   ]
  },
  {
   "cell_type": "markdown",
   "metadata": {},
   "source": [
    "Very simple recommendation "
   ]
  },
  {
   "cell_type": "code",
   "execution_count": 164,
   "metadata": {},
   "outputs": [
    {
     "data": {
      "text/plain": [
       "['1069_1940_compressed_PS_20174392719_1491204439457_log.csv.zip',\n",
       " '3405_6663_bundle_archive.zip',\n",
       " 'iris.data.csv']"
      ]
     },
     "execution_count": 164,
     "metadata": {},
     "output_type": "execute_result"
    }
   ],
   "source": [
    "import pandas as pd\n",
    "import os \n",
    "\n",
    "os.listdir('../data')"
   ]
  },
  {
   "cell_type": "code",
   "execution_count": 166,
   "metadata": {},
   "outputs": [
    {
     "name": "stdout",
     "output_type": "stream",
     "text": [
      "File Name                                             Modified             Size\n",
      "credits.csv                                    2019-09-21 10:29:08    189917659\n",
      "keywords.csv                                   2019-09-21 10:29:24      6231943\n",
      "links.csv                                      2019-09-21 10:29:24       989107\n",
      "links_small.csv                                2019-09-21 10:29:24       183372\n",
      "movies_metadata.csv                            2019-09-21 10:29:24     34445126\n",
      "ratings.csv                                    2019-09-21 10:29:28    709550327\n",
      "ratings_small.csv                              2019-09-21 10:30:38      2438266\n",
      "Extracting all the files now...\n",
      "Done!\n"
     ]
    }
   ],
   "source": [
    "#dat = pd.read_csv('../data/3405_6663_bundle_archive.zip')\n",
    "\n",
    "from zipfile import ZipFile \n",
    "  \n",
    "# specifying the zip file name \n",
    "file_name = \"../data/3405_6663_bundle_archive.zip\"\n",
    "  \n",
    "\n",
    "with ZipFile(file_name, 'r') as zip: \n",
    "    zip.printdir() \n",
    "  \n",
    "    print('Extracting all the files now...') \n",
    "    zip.extractall() \n",
    "    print('Done!') "
   ]
  },
  {
   "cell_type": "code",
   "execution_count": 175,
   "metadata": {},
   "outputs": [],
   "source": [
    "dat = pd.read_csv(\"movies_metadata.csv\")"
   ]
  },
  {
   "cell_type": "code",
   "execution_count": 176,
   "metadata": {},
   "outputs": [],
   "source": [
    "dat = dat[:20000]"
   ]
  },
  {
   "cell_type": "code",
   "execution_count": 177,
   "metadata": {},
   "outputs": [
    {
     "data": {
      "text/plain": [
       "adult                        0\n",
       "belongs_to_collection    17601\n",
       "budget                       0\n",
       "genres                       0\n",
       "homepage                 16945\n",
       "id                           0\n",
       "imdb_id                      7\n",
       "original_language            1\n",
       "original_title               0\n",
       "overview                   135\n",
       "popularity                   2\n",
       "poster_path                 93\n",
       "production_companies         1\n",
       "production_countries         1\n",
       "release_date                17\n",
       "revenue                      2\n",
       "runtime                     29\n",
       "spoken_languages             2\n",
       "status                      21\n",
       "tagline                   8294\n",
       "title                        2\n",
       "video                        2\n",
       "vote_average                 2\n",
       "vote_count                   2\n",
       "dtype: int64"
      ]
     },
     "execution_count": 177,
     "metadata": {},
     "output_type": "execute_result"
    }
   ],
   "source": [
    "dat.isnull().sum(axis= 0)"
   ]
  },
  {
   "cell_type": "code",
   "execution_count": 178,
   "metadata": {},
   "outputs": [],
   "source": [
    "dat['overview'] = dat['overview'].fillna('')"
   ]
  },
  {
   "cell_type": "code",
   "execution_count": 179,
   "metadata": {},
   "outputs": [
    {
     "data": {
      "text/plain": [
       "0"
      ]
     },
     "execution_count": 179,
     "metadata": {},
     "output_type": "execute_result"
    }
   ],
   "source": [
    "dat['overview'].isnull().sum()"
   ]
  },
  {
   "cell_type": "code",
   "execution_count": 181,
   "metadata": {},
   "outputs": [
    {
     "data": {
      "text/plain": [
       "(20000, 47487)"
      ]
     },
     "execution_count": 181,
     "metadata": {},
     "output_type": "execute_result"
    }
   ],
   "source": [
    "from sklearn.feature_extraction.text import TfidfVectorizer\n",
    "\n",
    "tfidf = TfidfVectorizer(stop_words='english')\n",
    "tfidf_matrix = tfidf.fit_transform(dat['overview'])\n",
    "\n",
    "tfidf_matrix.shape"
   ]
  },
  {
   "cell_type": "code",
   "execution_count": 182,
   "metadata": {},
   "outputs": [
    {
     "data": {
      "text/plain": [
       "array([[1.        , 0.01575748, 0.        , ..., 0.        , 0.        ,\n",
       "        0.        ],\n",
       "       [0.01575748, 1.        , 0.04907345, ..., 0.        , 0.        ,\n",
       "        0.        ],\n",
       "       [0.        , 0.04907345, 1.        , ..., 0.        , 0.        ,\n",
       "        0.        ],\n",
       "       ...,\n",
       "       [0.        , 0.        , 0.        , ..., 1.        , 0.        ,\n",
       "        0.08375766],\n",
       "       [0.        , 0.        , 0.        , ..., 0.        , 1.        ,\n",
       "        0.        ],\n",
       "       [0.        , 0.        , 0.        , ..., 0.08375766, 0.        ,\n",
       "        1.        ]])"
      ]
     },
     "execution_count": 182,
     "metadata": {},
     "output_type": "execute_result"
    }
   ],
   "source": [
    "from sklearn.metrics.pairwise import linear_kernel\n",
    "cosine_sim = linear_kernel(tfidf_matrix, tfidf_matrix)\n",
    "cosine_sim"
   ]
  },
  {
   "cell_type": "code",
   "execution_count": 184,
   "metadata": {},
   "outputs": [
    {
     "data": {
      "text/plain": [
       "title\n",
       "Toy Story                      0\n",
       "Jumanji                        1\n",
       "Grumpier Old Men               2\n",
       "Waiting to Exhale              3\n",
       "Father of the Bride Part II    4\n",
       "dtype: int64"
      ]
     },
     "execution_count": 184,
     "metadata": {},
     "output_type": "execute_result"
    }
   ],
   "source": [
    "indices = pd.Series(dat.index, index = dat['title']).drop_duplicates()\n",
    "indices.head()"
   ]
  },
  {
   "cell_type": "code",
   "execution_count": 187,
   "metadata": {},
   "outputs": [],
   "source": [
    "def get_recommendations(title, cosine_sim=cosine_sim):\n",
    "    idx = indices[title]\n",
    "\n",
    "    sim_scores = list(enumerate(cosine_sim[idx]))\n",
    "    sim_scores = sorted(sim_scores, key=lambda x: x[1], reverse=True)\n",
    "\n",
    "    #top10\n",
    "    sim_scores = sim_scores[1:11]\n",
    "    movie_indices = [i[0] for i in sim_scores]\n",
    "\n",
    "    return dat['title'].iloc[movie_indices]"
   ]
  },
  {
   "cell_type": "code",
   "execution_count": 188,
   "metadata": {},
   "outputs": [
    {
     "data": {
      "text/plain": [
       "15348               Toy Story 3\n",
       "2997                Toy Story 2\n",
       "10301    The 40 Year Old Virgin\n",
       "8327                  The Champ\n",
       "1071      Rebel Without a Cause\n",
       "11399    For Your Consideration\n",
       "1932                  Condorman\n",
       "3057            Man on the Moon\n",
       "485                      Malice\n",
       "11606              Factory Girl\n",
       "Name: title, dtype: object"
      ]
     },
     "execution_count": 188,
     "metadata": {},
     "output_type": "execute_result"
    }
   ],
   "source": [
    "get_recommendations('Toy Story')"
   ]
  },
  {
   "cell_type": "markdown",
   "metadata": {},
   "source": [
    "#### SVD with Twenty Newsgroups"
   ]
  },
  {
   "cell_type": "code",
   "execution_count": 193,
   "metadata": {},
   "outputs": [
    {
     "data": {
      "text/plain": [
       "11314"
      ]
     },
     "execution_count": 193,
     "metadata": {},
     "output_type": "execute_result"
    }
   ],
   "source": [
    "import pandas as pd\n",
    "import numpy as np\n",
    "\n",
    "from sklearn.datasets import fetch_20newsgroups\n",
    "\n",
    "dat = fetch_20newsgroups(shuffle = True, random_state = 1, remove = ('headers', 'footers', 'quotes'))\n",
    "documents = dat.data\n",
    "\n",
    "len(documents)"
   ]
  },
  {
   "cell_type": "code",
   "execution_count": 194,
   "metadata": {},
   "outputs": [
    {
     "data": {
      "text/plain": [
       "\"\\n\\n\\n\\n\\n\\n\\nYeah, do you expect people to read the FAQ, etc. and actually accept hard\\natheism?  No, you need a little leap of faith, Jimmy.  Your logic runs out\\nof steam!\\n\\n\\n\\n\\n\\n\\n\\nJim,\\n\\nSorry I can't pity you, Jim.  And I'm sorry that you have these feelings of\\ndenial about the faith you need to get by.  Oh well, just pretend that it will\\nall end happily ever after anyway.  Maybe if you start a new newsgroup,\\nalt.atheist.hard, you won't be bummin' so much?\\n\\n\\n\\n\\n\\n\\nBye-Bye, Big Jim.  Don't forget your Flintstone's Chewables!  :) \\n--\\nBake Timmons, III\""
      ]
     },
     "execution_count": 194,
     "metadata": {},
     "output_type": "execute_result"
    }
   ],
   "source": [
    "documents[1]"
   ]
  },
  {
   "cell_type": "code",
   "execution_count": 197,
   "metadata": {},
   "outputs": [
    {
     "data": {
      "text/plain": [
       "['alt.atheism',\n",
       " 'comp.graphics',\n",
       " 'comp.os.ms-windows.misc',\n",
       " 'comp.sys.ibm.pc.hardware',\n",
       " 'comp.sys.mac.hardware',\n",
       " 'comp.windows.x',\n",
       " 'misc.forsale',\n",
       " 'rec.autos',\n",
       " 'rec.motorcycles',\n",
       " 'rec.sport.baseball',\n",
       " 'rec.sport.hockey',\n",
       " 'sci.crypt',\n",
       " 'sci.electronics',\n",
       " 'sci.med',\n",
       " 'sci.space',\n",
       " 'soc.religion.christian',\n",
       " 'talk.politics.guns',\n",
       " 'talk.politics.mideast',\n",
       " 'talk.politics.misc',\n",
       " 'talk.religion.misc']"
      ]
     },
     "execution_count": 197,
     "metadata": {},
     "output_type": "execute_result"
    }
   ],
   "source": [
    "dat.target_names"
   ]
  },
  {
   "cell_type": "code",
   "execution_count": 200,
   "metadata": {},
   "outputs": [],
   "source": [
    "# Cleaning the data\n",
    "\n",
    "df = pd.DataFrame({'documents': documents})\n",
    "\n",
    "# delete anything not an alphabet\n",
    "df['clean_doc'] = df['documents'].str.replace('[^a-zA-Z]', ' ')\n",
    "\n",
    "# removing characters shorter than 3\n",
    "df['clean_doc'] = df['clean_doc'].apply(lambda x:' '.join([w for w in x.split() if len(w) >3]))\n",
    "\n",
    "# lower case\n",
    "df['clean_doc'] = df['clean_doc'].apply(lambda x: x.lower())"
   ]
  },
  {
   "cell_type": "code",
   "execution_count": 201,
   "metadata": {},
   "outputs": [
    {
     "data": {
      "text/plain": [
       "'yeah expect people read actually accept hard atheism need little leap faith jimmy your logic runs steam sorry pity sorry that have these feelings denial about faith need well just pretend that will happily ever after anyway maybe start newsgroup atheist hard bummin much forget your flintstone chewables bake timmons'"
      ]
     },
     "execution_count": 201,
     "metadata": {},
     "output_type": "execute_result"
    }
   ],
   "source": [
    "df['clean_doc'][1]"
   ]
  },
  {
   "cell_type": "code",
   "execution_count": 202,
   "metadata": {},
   "outputs": [
    {
     "data": {
      "text/plain": [
       "\"\\n\\n\\n\\n\\n\\n\\nYeah, do you expect people to read the FAQ, etc. and actually accept hard\\natheism?  No, you need a little leap of faith, Jimmy.  Your logic runs out\\nof steam!\\n\\n\\n\\n\\n\\n\\n\\nJim,\\n\\nSorry I can't pity you, Jim.  And I'm sorry that you have these feelings of\\ndenial about the faith you need to get by.  Oh well, just pretend that it will\\nall end happily ever after anyway.  Maybe if you start a new newsgroup,\\nalt.atheist.hard, you won't be bummin' so much?\\n\\n\\n\\n\\n\\n\\nBye-Bye, Big Jim.  Don't forget your Flintstone's Chewables!  :) \\n--\\nBake Timmons, III\""
      ]
     },
     "execution_count": 202,
     "metadata": {},
     "output_type": "execute_result"
    }
   ],
   "source": [
    "# comparing with the pre-cleaning: \n",
    "documents[1]"
   ]
  },
  {
   "cell_type": "code",
   "execution_count": 205,
   "metadata": {
    "scrolled": true
   },
   "outputs": [
    {
     "data": {
      "text/plain": [
       "['yeah',\n",
       " 'expect',\n",
       " 'people',\n",
       " 'read',\n",
       " 'actually',\n",
       " 'accept',\n",
       " 'hard',\n",
       " 'atheism',\n",
       " 'need',\n",
       " 'little',\n",
       " 'leap',\n",
       " 'faith',\n",
       " 'jimmy',\n",
       " 'logic',\n",
       " 'runs',\n",
       " 'steam',\n",
       " 'sorry',\n",
       " 'pity',\n",
       " 'sorry',\n",
       " 'feelings',\n",
       " 'denial',\n",
       " 'faith',\n",
       " 'need',\n",
       " 'well',\n",
       " 'pretend',\n",
       " 'happily',\n",
       " 'ever',\n",
       " 'anyway',\n",
       " 'maybe',\n",
       " 'start',\n",
       " 'newsgroup',\n",
       " 'atheist',\n",
       " 'hard',\n",
       " 'bummin',\n",
       " 'much',\n",
       " 'forget',\n",
       " 'flintstone',\n",
       " 'chewables',\n",
       " 'bake',\n",
       " 'timmons']"
      ]
     },
     "execution_count": 205,
     "metadata": {},
     "output_type": "execute_result"
    }
   ],
   "source": [
    "# stopwords \n",
    "\n",
    "from nltk.corpus import stopwords\n",
    "sw = stopwords.words(\"english\")\n",
    "\n",
    "# tokenizing\n",
    "tokenized_doc = df['clean_doc'].apply(lambda x: x.split())\n",
    "#tokenized_doc\n",
    "# removing stopwords\n",
    "tokenized_doc = tokenized_doc.apply(lambda x: [w for w in x if w not in sw])\n",
    "tokenized_doc[1]"
   ]
  },
  {
   "cell_type": "code",
   "execution_count": 206,
   "metadata": {},
   "outputs": [
    {
     "data": {
      "text/plain": [
       "'yeah expect people read actually accept hard atheism need little leap faith jimmy logic runs steam sorry pity sorry feelings denial faith need well pretend happily ever anyway maybe start newsgroup atheist hard bummin much forget flintstone chewables bake timmons'"
      ]
     },
     "execution_count": 206,
     "metadata": {},
     "output_type": "execute_result"
    }
   ],
   "source": [
    "# to use tfidf need to detokenize the doc again\n",
    "\n",
    "detoken_doc =[]\n",
    "for i in range(len(df)):\n",
    "    t = ' '.join(tokenized_doc[i])\n",
    "    detoken_doc.append(t)\n",
    "    \n",
    "detoken_doc[1]"
   ]
  },
  {
   "cell_type": "code",
   "execution_count": 207,
   "metadata": {},
   "outputs": [],
   "source": [
    "df['clean_doc'] = detoken_doc"
   ]
  },
  {
   "cell_type": "code",
   "execution_count": 208,
   "metadata": {},
   "outputs": [
    {
     "data": {
      "text/plain": [
       "(11314, 1000)"
      ]
     },
     "execution_count": 208,
     "metadata": {},
     "output_type": "execute_result"
    }
   ],
   "source": [
    "# applying TfidfVectorizer to 1,000 words\n",
    "\n",
    "from sklearn.feature_extraction.text import TfidfVectorizer\n",
    "\n",
    "vectorizer = TfidfVectorizer(stop_words= 'english', \n",
    "                             max_features= 1000, \n",
    "                             max_df= 0.5, \n",
    "                             smooth_idf= True)\n",
    "\n",
    "X = vectorizer.fit_transform(df['clean_doc'])\n",
    "X.shape"
   ]
  },
  {
   "cell_type": "code",
   "execution_count": null,
   "metadata": {},
   "outputs": [],
   "source": []
  },
  {
   "cell_type": "code",
   "execution_count": 209,
   "metadata": {},
   "outputs": [
    {
     "data": {
      "text/plain": [
       "20"
      ]
     },
     "execution_count": 209,
     "metadata": {},
     "output_type": "execute_result"
    }
   ],
   "source": [
    "# Topic Model with 20 topics by using SVD (SVD = U, s, VT)\n",
    "\n",
    "from sklearn.decomposition import TruncatedSVD\n",
    "\n",
    "svd_model = TruncatedSVD(n_components=20, \n",
    "                         algorithm= 'randomized', \n",
    "                         n_iter= 100, \n",
    "                         random_state= 42)\n",
    "\n",
    "svd_model.fit(X)\n",
    "len(svd_model.components_) # VT"
   ]
  },
  {
   "cell_type": "code",
   "execution_count": 210,
   "metadata": {},
   "outputs": [
    {
     "data": {
      "text/plain": [
       "(20, 1000)"
      ]
     },
     "execution_count": 210,
     "metadata": {},
     "output_type": "execute_result"
    }
   ],
   "source": [
    "np.shape(svd_model.components_) # 20 topics with 1000 words!"
   ]
  },
  {
   "cell_type": "code",
   "execution_count": 211,
   "metadata": {},
   "outputs": [
    {
     "name": "stdout",
     "output_type": "stream",
     "text": [
      "Topic 1: [('like', 0.21386), ('know', 0.20046), ('people', 0.19293), ('think', 0.17805), ('good', 0.15128)]\n",
      "Topic 2: [('thanks', 0.32888), ('windows', 0.29088), ('card', 0.18069), ('drive', 0.17455), ('mail', 0.15111)]\n",
      "Topic 3: [('game', 0.37064), ('team', 0.32443), ('year', 0.28154), ('games', 0.2537), ('season', 0.18419)]\n",
      "Topic 4: [('drive', 0.53324), ('scsi', 0.20165), ('hard', 0.15628), ('disk', 0.15578), ('card', 0.13994)]\n",
      "Topic 5: [('windows', 0.40399), ('file', 0.25436), ('window', 0.18044), ('files', 0.16078), ('program', 0.13894)]\n",
      "Topic 6: [('chip', 0.16114), ('government', 0.16009), ('mail', 0.15625), ('space', 0.1507), ('information', 0.13562)]\n",
      "Topic 7: [('like', 0.67086), ('bike', 0.14236), ('chip', 0.11169), ('know', 0.11139), ('sounds', 0.10371)]\n",
      "Topic 8: [('card', 0.46633), ('video', 0.22137), ('sale', 0.21266), ('monitor', 0.15463), ('offer', 0.14643)]\n",
      "Topic 9: [('know', 0.46047), ('card', 0.33605), ('chip', 0.17558), ('government', 0.1522), ('video', 0.14356)]\n",
      "Topic 10: [('good', 0.42756), ('know', 0.23039), ('time', 0.1882), ('bike', 0.11406), ('jesus', 0.09027)]\n",
      "Topic 11: [('think', 0.78469), ('chip', 0.10899), ('good', 0.10635), ('thanks', 0.09123), ('clipper', 0.07946)]\n",
      "Topic 12: [('thanks', 0.36824), ('good', 0.22729), ('right', 0.21559), ('bike', 0.21037), ('problem', 0.20894)]\n",
      "Topic 13: [('good', 0.36212), ('people', 0.33985), ('windows', 0.28385), ('know', 0.26232), ('file', 0.18422)]\n",
      "Topic 14: [('space', 0.39946), ('think', 0.23258), ('know', 0.18074), ('nasa', 0.15174), ('problem', 0.12957)]\n",
      "Topic 15: [('space', 0.31613), ('good', 0.3094), ('card', 0.22603), ('people', 0.17476), ('time', 0.14496)]\n",
      "Topic 16: [('people', 0.48156), ('problem', 0.19961), ('window', 0.15281), ('time', 0.14664), ('game', 0.12871)]\n",
      "Topic 17: [('time', 0.34465), ('bike', 0.27303), ('right', 0.25557), ('windows', 0.1997), ('file', 0.19118)]\n",
      "Topic 18: [('time', 0.5973), ('problem', 0.15504), ('file', 0.14956), ('think', 0.12847), ('israel', 0.10903)]\n",
      "Topic 19: [('file', 0.44163), ('need', 0.26633), ('card', 0.18388), ('files', 0.17453), ('right', 0.15448)]\n",
      "Topic 20: [('problem', 0.33006), ('file', 0.27651), ('thanks', 0.23578), ('used', 0.19206), ('space', 0.13185)]\n"
     ]
    }
   ],
   "source": [
    "terms = vectorizer.get_feature_names() #storing 1000 words \n",
    "\n",
    "def get_topics(components, feature_names, n = 5):\n",
    "    for idx, topic in enumerate(components):\n",
    "        print(\"Topic %d:\" % (idx+1), [(feature_names[i], topic[i].round(5)) for i in topic.argsort()[:-n - 1:-1]])\n",
    "        \n",
    "get_topics(svd_model.components_, terms)"
   ]
  },
  {
   "cell_type": "markdown",
   "metadata": {},
   "source": [
    "#### LDA"
   ]
  },
  {
   "cell_type": "code",
   "execution_count": 212,
   "metadata": {},
   "outputs": [
    {
     "data": {
      "text/plain": [
       "0    [well, sure, story, seem, biased, disagree, st...\n",
       "1    [yeah, expect, people, read, actually, accept,...\n",
       "2    [although, realize, principle, strongest, poin...\n",
       "3    [notwithstanding, legitimate, fuss, proposal, ...\n",
       "4    [well, change, scoring, playoff, pool, unfortu...\n",
       "Name: clean_doc, dtype: object"
      ]
     },
     "execution_count": 212,
     "metadata": {},
     "output_type": "execute_result"
    }
   ],
   "source": [
    "tokenized_doc[:5]"
   ]
  },
  {
   "cell_type": "code",
   "execution_count": 215,
   "metadata": {
    "collapsed": true
   },
   "outputs": [
    {
     "name": "stdout",
     "output_type": "stream",
     "text": [
      "Collecting gensim\n",
      "  Downloading https://files.pythonhosted.org/packages/0b/66/04faeedb98bfa5f241d0399d0102456886179cabac0355475f23a2978847/gensim-3.8.3-cp37-cp37m-win_amd64.whl (24.2MB)\n",
      "Collecting Cython==0.29.14 (from gensim)\n",
      "  Downloading https://files.pythonhosted.org/packages/1f/be/b14be5c3ad1ff73096b518be1538282f053ec34faaca60a8753d975d7e93/Cython-0.29.14-cp37-cp37m-win_amd64.whl (1.7MB)\n",
      "Requirement already satisfied, skipping upgrade: numpy>=1.11.3 in c:\\users\\caffr\\anaconda3\\lib\\site-packages (from gensim) (1.16.2)\n",
      "Collecting smart-open>=1.8.1 (from gensim)\n",
      "  Downloading https://files.pythonhosted.org/packages/74/77/744c79da6e66691e3500b6dffff29bdd787015eae817d594791edc7b719b/smart_open-2.0.0.tar.gz (103kB)\n",
      "Requirement already satisfied, skipping upgrade: scipy>=0.18.1 in c:\\users\\caffr\\anaconda3\\lib\\site-packages (from gensim) (1.2.0)\n",
      "Requirement already satisfied, skipping upgrade: six>=1.5.0 in c:\\users\\caffr\\anaconda3\\lib\\site-packages (from gensim) (1.12.0)\n",
      "Requirement already satisfied, skipping upgrade: requests in c:\\users\\caffr\\anaconda3\\lib\\site-packages (from smart-open>=1.8.1->gensim) (2.21.0)\n",
      "Requirement already satisfied, skipping upgrade: boto in c:\\users\\caffr\\anaconda3\\lib\\site-packages (from smart-open>=1.8.1->gensim) (2.49.0)\n",
      "Collecting boto3 (from smart-open>=1.8.1->gensim)\n",
      "  Downloading https://files.pythonhosted.org/packages/0f/24/96aec437a819ed81b62d4c18dbe95416fd055e0d1ad45d06e77e0c3cde53/boto3-1.14.9-py2.py3-none-any.whl (128kB)\n",
      "Requirement already satisfied, skipping upgrade: idna<2.9,>=2.5 in c:\\users\\caffr\\anaconda3\\lib\\site-packages (from requests->smart-open>=1.8.1->gensim) (2.8)\n",
      "Requirement already satisfied, skipping upgrade: urllib3<1.25,>=1.21.1 in c:\\users\\caffr\\anaconda3\\lib\\site-packages (from requests->smart-open>=1.8.1->gensim) (1.24.1)\n",
      "Requirement already satisfied, skipping upgrade: chardet<3.1.0,>=3.0.2 in c:\\users\\caffr\\anaconda3\\lib\\site-packages (from requests->smart-open>=1.8.1->gensim) (3.0.4)\n",
      "Requirement already satisfied, skipping upgrade: certifi>=2017.4.17 in c:\\users\\caffr\\anaconda3\\lib\\site-packages (from requests->smart-open>=1.8.1->gensim) (2019.9.11)\n",
      "Collecting botocore<1.18.0,>=1.17.9 (from boto3->smart-open>=1.8.1->gensim)\n",
      "  Downloading https://files.pythonhosted.org/packages/20/c4/2439ed6266493ff0a075f7e19b5774e9bb3e742d3f0af7677fb7d2bba255/botocore-1.17.9-py2.py3-none-any.whl (6.3MB)\n",
      "Collecting s3transfer<0.4.0,>=0.3.0 (from boto3->smart-open>=1.8.1->gensim)\n",
      "  Downloading https://files.pythonhosted.org/packages/69/79/e6afb3d8b0b4e96cefbdc690f741d7dd24547ff1f94240c997a26fa908d3/s3transfer-0.3.3-py2.py3-none-any.whl (69kB)\n",
      "Collecting jmespath<1.0.0,>=0.7.1 (from boto3->smart-open>=1.8.1->gensim)\n",
      "  Downloading https://files.pythonhosted.org/packages/07/cb/5f001272b6faeb23c1c9e0acc04d48eaaf5c862c17709d20e3469c6e0139/jmespath-0.10.0-py2.py3-none-any.whl\n",
      "Requirement already satisfied, skipping upgrade: docutils<0.16,>=0.10 in c:\\users\\caffr\\anaconda3\\lib\\site-packages (from botocore<1.18.0,>=1.17.9->boto3->smart-open>=1.8.1->gensim) (0.14)\n",
      "Requirement already satisfied, skipping upgrade: python-dateutil<3.0.0,>=2.1 in c:\\users\\caffr\\anaconda3\\lib\\site-packages (from botocore<1.18.0,>=1.17.9->boto3->smart-open>=1.8.1->gensim) (2.8.0)\n",
      "Building wheels for collected packages: smart-open\n",
      "  Building wheel for smart-open (setup.py): started\n",
      "  Building wheel for smart-open (setup.py): finished with status 'done'\n",
      "  Stored in directory: C:\\Users\\caffr\\AppData\\Local\\pip\\Cache\\wheels\\27\\65\\38\\8d7f5fe8d7afb4e4566587b2d1933cec185fba19257836c943\n",
      "Successfully built smart-open\n",
      "Installing collected packages: Cython, jmespath, botocore, s3transfer, boto3, smart-open, gensim\n",
      "  Found existing installation: Cython 0.29.6\n",
      "    Uninstalling Cython-0.29.6:\n",
      "      Successfully uninstalled Cython-0.29.6\n",
      "Successfully installed Cython-0.29.14 boto3-1.14.9 botocore-1.17.9 gensim-3.8.3 jmespath-0.10.0 s3transfer-0.3.3 smart-open-2.0.0\n",
      "Note: you may need to restart the kernel to use updated packages.\n"
     ]
    }
   ],
   "source": [
    "#pip install --upgrade gensim"
   ]
  },
  {
   "cell_type": "code",
   "execution_count": 216,
   "metadata": {
    "scrolled": true
   },
   "outputs": [
    {
     "name": "stderr",
     "output_type": "stream",
     "text": [
      "C:\\Users\\caffr\\Anaconda3\\lib\\importlib\\_bootstrap.py:219: RuntimeWarning: numpy.ufunc size changed, may indicate binary incompatibility. Expected 192 from C header, got 216 from PyObject\n",
      "  return f(*args, **kwds)\n"
     ]
    },
    {
     "data": {
      "text/plain": [
       "[(52, 1),\n",
       " (55, 1),\n",
       " (56, 1),\n",
       " (57, 1),\n",
       " (58, 1),\n",
       " (59, 1),\n",
       " (60, 1),\n",
       " (61, 1),\n",
       " (62, 1),\n",
       " (63, 1),\n",
       " (64, 1),\n",
       " (65, 1),\n",
       " (66, 2),\n",
       " (67, 1),\n",
       " (68, 1),\n",
       " (69, 1),\n",
       " (70, 1),\n",
       " (71, 2),\n",
       " (72, 1),\n",
       " (73, 1),\n",
       " (74, 1),\n",
       " (75, 1),\n",
       " (76, 1),\n",
       " (77, 1),\n",
       " (78, 2),\n",
       " (79, 1),\n",
       " (80, 1),\n",
       " (81, 1),\n",
       " (82, 1),\n",
       " (83, 1),\n",
       " (84, 1),\n",
       " (85, 2),\n",
       " (86, 1),\n",
       " (87, 1),\n",
       " (88, 1),\n",
       " (89, 1)]"
      ]
     },
     "execution_count": 216,
     "metadata": {},
     "output_type": "execute_result"
    }
   ],
   "source": [
    "# int encoding and get the freq of each word\n",
    "\n",
    "from gensim import corpora \n",
    "dictionary = corpora.Dictionary(tokenized_doc)\n",
    "\n",
    "corpus = [dictionary.doc2bow(text) for text in tokenized_doc]\n",
    "corpus[1]"
   ]
  },
  {
   "cell_type": "code",
   "execution_count": 219,
   "metadata": {},
   "outputs": [
    {
     "name": "stdout",
     "output_type": "stream",
     "text": [
      "faith\n",
      "64281\n"
     ]
    }
   ],
   "source": [
    "print(dictionary[66])\n",
    "print(len(dictionary))"
   ]
  },
  {
   "cell_type": "code",
   "execution_count": 220,
   "metadata": {
    "scrolled": false
   },
   "outputs": [
    {
     "name": "stdout",
     "output_type": "stream",
     "text": [
      "(0, '0.006*\"people\" + 0.005*\"guns\" + 0.004*\"many\" + 0.004*\"control\"')\n",
      "(1, '0.013*\"jesus\" + 0.009*\"believe\" + 0.008*\"people\" + 0.008*\"christian\"')\n",
      "(2, '0.032*\"water\" + 0.008*\"plants\" + 0.008*\"cooling\" + 0.008*\"plant\"')\n",
      "(3, '0.026*\"president\" + 0.012*\"going\" + 0.011*\"jobs\" + 0.010*\"think\"')\n",
      "(4, '0.011*\"windows\" + 0.011*\"drive\" + 0.011*\"would\" + 0.010*\"know\"')\n",
      "(5, '0.039*\"window\" + 0.022*\"motif\" + 0.019*\"widget\" + 0.019*\"server\"')\n",
      "(6, '0.013*\"israel\" + 0.012*\"armenian\" + 0.011*\"jews\" + 0.010*\"turkish\"')\n",
      "(7, '0.019*\"would\" + 0.010*\"people\" + 0.008*\"think\" + 0.008*\"like\"')\n",
      "(8, '0.013*\"cover\" + 0.009*\"title\" + 0.008*\"copies\" + 0.007*\"crash\"')\n",
      "(9, '0.008*\"health\" + 0.006*\"national\" + 0.006*\"april\" + 0.006*\"information\"')\n",
      "(10, '0.023*\"game\" + 0.021*\"team\" + 0.018*\"year\" + 0.016*\"games\"')\n",
      "(11, '0.023*\"sale\" + 0.017*\"offer\" + 0.016*\"condition\" + 0.015*\"shipping\"')\n",
      "(12, '0.028*\"file\" + 0.018*\"program\" + 0.014*\"output\" + 0.013*\"files\"')\n",
      "(13, '0.012*\"pain\" + 0.011*\"picture\" + 0.007*\"judas\" + 0.004*\"sleeve\"')\n",
      "(14, '0.017*\"like\" + 0.012*\"good\" + 0.008*\"would\" + 0.008*\"much\"')\n",
      "(15, '0.020*\"period\" + 0.012*\"power\" + 0.012*\"play\" + 0.008*\"puck\"')\n",
      "(16, '0.014*\"said\" + 0.010*\"people\" + 0.008*\"went\" + 0.008*\"know\"')\n",
      "(17, '0.048*\"space\" + 0.019*\"nasa\" + 0.011*\"launch\" + 0.009*\"earth\"')\n",
      "(18, '0.018*\"mail\" + 0.014*\"please\" + 0.013*\"information\" + 0.012*\"send\"')\n",
      "(19, '0.052*\"printf\" + 0.023*\"radar\" + 0.016*\"detector\" + 0.012*\"expose\"')\n"
     ]
    }
   ],
   "source": [
    "import gensim \n",
    "\n",
    "num_topics = 20\n",
    "ldamodel = gensim.models.ldamodel.LdaModel(corpus, \n",
    "                                           num_topics=num_topics, \n",
    "                                           id2word=dictionary, \n",
    "                                           passes = 15) # num of iteration\n",
    "\n",
    "topics = ldamodel.print_topics(num_words = 4)\n",
    "\n",
    "for topic in topics: \n",
    "    print(topic)"
   ]
  },
  {
   "cell_type": "code",
   "execution_count": 222,
   "metadata": {
    "collapsed": true
   },
   "outputs": [
    {
     "name": "stdout",
     "output_type": "stream",
     "text": [
      "Collecting pyLDAvis\n",
      "  Downloading https://files.pythonhosted.org/packages/a5/3a/af82e070a8a96e13217c8f362f9a73e82d61ac8fff3a2561946a97f96266/pyLDAvis-2.1.2.tar.gz (1.6MB)\n",
      "Requirement already satisfied: wheel>=0.23.0 in c:\\users\\caffr\\anaconda3\\lib\\site-packages (from pyLDAvis) (0.33.1)\n",
      "Requirement already satisfied: numpy>=1.9.2 in c:\\users\\caffr\\anaconda3\\lib\\site-packages (from pyLDAvis) (1.16.2)\n",
      "Requirement already satisfied: scipy>=0.18.0 in c:\\users\\caffr\\anaconda3\\lib\\site-packages (from pyLDAvis) (1.2.0)\n",
      "Requirement already satisfied: pandas>=0.17.0 in c:\\users\\caffr\\anaconda3\\lib\\site-packages (from pyLDAvis) (0.24.2)\n",
      "Requirement already satisfied: joblib>=0.8.4 in c:\\users\\caffr\\anaconda3\\lib\\site-packages (from pyLDAvis) (0.13.2)\n",
      "Requirement already satisfied: jinja2>=2.7.2 in c:\\users\\caffr\\anaconda3\\lib\\site-packages (from pyLDAvis) (2.10)\n",
      "Requirement already satisfied: numexpr in c:\\users\\caffr\\anaconda3\\lib\\site-packages (from pyLDAvis) (2.6.9)\n",
      "Requirement already satisfied: pytest in c:\\users\\caffr\\anaconda3\\lib\\site-packages (from pyLDAvis) (4.3.1)\n",
      "Requirement already satisfied: future in c:\\users\\caffr\\anaconda3\\lib\\site-packages (from pyLDAvis) (0.17.1)\n",
      "Collecting funcy (from pyLDAvis)\n",
      "  Downloading https://files.pythonhosted.org/packages/ce/4b/6ffa76544e46614123de31574ad95758c421aae391a1764921b8a81e1eae/funcy-1.14.tar.gz (548kB)\n",
      "Requirement already satisfied: python-dateutil>=2.5.0 in c:\\users\\caffr\\anaconda3\\lib\\site-packages (from pandas>=0.17.0->pyLDAvis) (2.8.0)\n",
      "Requirement already satisfied: pytz>=2011k in c:\\users\\caffr\\anaconda3\\lib\\site-packages (from pandas>=0.17.0->pyLDAvis) (2018.9)\n",
      "Requirement already satisfied: MarkupSafe>=0.23 in c:\\users\\caffr\\anaconda3\\lib\\site-packages (from jinja2>=2.7.2->pyLDAvis) (1.1.1)\n",
      "Requirement already satisfied: py>=1.5.0 in c:\\users\\caffr\\anaconda3\\lib\\site-packages (from pytest->pyLDAvis) (1.8.0)\n",
      "Requirement already satisfied: six>=1.10.0 in c:\\users\\caffr\\anaconda3\\lib\\site-packages (from pytest->pyLDAvis) (1.12.0)\n",
      "Requirement already satisfied: setuptools in c:\\users\\caffr\\anaconda3\\lib\\site-packages (from pytest->pyLDAvis) (41.2.0)\n",
      "Requirement already satisfied: attrs>=17.4.0 in c:\\users\\caffr\\anaconda3\\lib\\site-packages (from pytest->pyLDAvis) (19.1.0)\n",
      "Requirement already satisfied: atomicwrites>=1.0 in c:\\users\\caffr\\anaconda3\\lib\\site-packages (from pytest->pyLDAvis) (1.3.0)\n",
      "Requirement already satisfied: pluggy>=0.7 in c:\\users\\caffr\\anaconda3\\lib\\site-packages (from pytest->pyLDAvis) (0.9.0)\n",
      "Requirement already satisfied: more-itertools>=4.0.0 in c:\\users\\caffr\\anaconda3\\lib\\site-packages (from pytest->pyLDAvis) (6.0.0)\n",
      "Requirement already satisfied: colorama in c:\\users\\caffr\\anaconda3\\lib\\site-packages (from pytest->pyLDAvis) (0.4.1)\n",
      "Building wheels for collected packages: pyLDAvis, funcy\n",
      "  Building wheel for pyLDAvis (setup.py): started\n",
      "  Building wheel for pyLDAvis (setup.py): finished with status 'done'\n",
      "  Stored in directory: C:\\Users\\caffr\\AppData\\Local\\pip\\Cache\\wheels\\98\\71\\24\\513a99e58bb6b8465bae4d2d5e9dba8f0bef8179e3051ac414\n",
      "  Building wheel for funcy (setup.py): started\n",
      "  Building wheel for funcy (setup.py): finished with status 'done'\n",
      "  Stored in directory: C:\\Users\\caffr\\AppData\\Local\\pip\\Cache\\wheels\\20\\5a\\d8\\1d875df03deae6f178dfdf70238cca33f948ef8a6f5209f2eb\n",
      "Successfully built pyLDAvis funcy\n",
      "Installing collected packages: funcy, pyLDAvis\n",
      "Successfully installed funcy-1.14 pyLDAvis-2.1.2\n",
      "Note: you may need to restart the kernel to use updated packages.\n"
     ]
    }
   ],
   "source": [
    "#!pip install pyLDAvis"
   ]
  },
  {
   "cell_type": "code",
   "execution_count": 226,
   "metadata": {
    "collapsed": true
   },
   "outputs": [
    {
     "name": "stderr",
     "output_type": "stream",
     "text": [
      "C:\\Users\\caffr\\Anaconda3\\lib\\site-packages\\pyLDAvis\\_prepare.py:257: FutureWarning: Sorting because non-concatenation axis is not aligned. A future version\n",
      "of pandas will change to not sort by default.\n",
      "\n",
      "To accept the future behavior, pass 'sort=False'.\n",
      "\n",
      "To retain the current behavior and silence the warning, pass 'sort=True'.\n",
      "\n",
      "  return pd.concat([default_term_info] + list(topic_dfs))\n"
     ]
    },
    {
     "ename": "NameError",
     "evalue": "name 'pyLADvis' is not defined",
     "output_type": "error",
     "traceback": [
      "\u001b[1;31m---------------------------------------------------------------------------\u001b[0m",
      "\u001b[1;31mNameError\u001b[0m                                 Traceback (most recent call last)",
      "\u001b[1;32m<ipython-input-226-71427bbe1ae9>\u001b[0m in \u001b[0;36m<module>\u001b[1;34m\u001b[0m\n\u001b[0;32m      5\u001b[0m \u001b[0mvis\u001b[0m \u001b[1;33m=\u001b[0m \u001b[0mpyLDAvis\u001b[0m\u001b[1;33m.\u001b[0m\u001b[0mgensim\u001b[0m\u001b[1;33m.\u001b[0m\u001b[0mprepare\u001b[0m\u001b[1;33m(\u001b[0m\u001b[0mldamodel\u001b[0m\u001b[1;33m,\u001b[0m \u001b[0mcorpus\u001b[0m\u001b[1;33m,\u001b[0m \u001b[0mdictionary\u001b[0m\u001b[1;33m)\u001b[0m\u001b[1;33m\u001b[0m\u001b[1;33m\u001b[0m\u001b[0m\n\u001b[0;32m      6\u001b[0m \u001b[1;33m\u001b[0m\u001b[0m\n\u001b[1;32m----> 7\u001b[1;33m \u001b[0mpyLADvis\u001b[0m\u001b[1;33m.\u001b[0m\u001b[0mdisplay\u001b[0m\u001b[1;33m(\u001b[0m\u001b[0mvis\u001b[0m\u001b[1;33m)\u001b[0m\u001b[1;33m\u001b[0m\u001b[1;33m\u001b[0m\u001b[0m\n\u001b[0m",
      "\u001b[1;31mNameError\u001b[0m: name 'pyLADvis' is not defined"
     ]
    }
   ],
   "source": [
    "#visualizing lda model \n",
    "import pyLDAvis.gensim \n",
    "\n",
    "pyLDAvis.enable_notebook()\n",
    "vis = pyLDAvis.gensim.prepare(ldamodel, corpus, dictionary)"
   ]
  },
  {
   "cell_type": "code",
   "execution_count": 227,
   "metadata": {},
   "outputs": [
    {
     "data": {
      "text/html": [
       "\n",
       "<link rel=\"stylesheet\" type=\"text/css\" href=\"https://cdn.rawgit.com/bmabey/pyLDAvis/files/ldavis.v1.0.0.css\">\n",
       "\n",
       "\n",
       "<div id=\"ldavis_el1313216193188552643783725353\"></div>\n",
       "<script type=\"text/javascript\">\n",
       "\n",
       "var ldavis_el1313216193188552643783725353_data = {\"mdsDat\": {\"x\": [-0.25671972438736396, -0.212458182138339, -0.12878240934902596, -0.19499750875557112, -0.14868222207336768, -0.10526336222462661, -0.07551229952508844, -0.03586419623279191, -0.1645255517259532, -0.011742704270469546, -0.027956548788045404, 0.07452579982605446, 0.012279644829990659, 0.035491966455700664, 0.07802865607306791, 0.21681022128528274, 0.16264939900459585, 0.23858472233586325, 0.27166086957974844, 0.272473430080339], \"y\": [0.07731995433327336, -0.02081292515820304, -0.043299806333586974, 0.07996535871706686, 0.17397750314252203, -0.24587560160095362, -0.2397323056093879, -0.16276680969275456, 0.13545565168019372, -0.01836489357930075, 0.13727363928379288, -0.1274469853152056, 0.0816888775960243, -0.04753134889340297, 0.11002284663958403, 0.06226973296228053, -0.029800902208990832, 0.02349557401364981, 0.0273684450341801, 0.02679399498921809], \"topics\": [1, 2, 3, 4, 5, 6, 7, 8, 9, 10, 11, 12, 13, 14, 15, 16, 17, 18, 19, 20], \"cluster\": [1, 1, 1, 1, 1, 1, 1, 1, 1, 1, 1, 1, 1, 1, 1, 1, 1, 1, 1, 1], \"Freq\": [21.9073486328125, 9.454790115356445, 8.13365650177002, 7.981588840484619, 6.812453269958496, 6.59998893737793, 6.038589954376221, 5.677667617797852, 5.170631408691406, 4.883223533630371, 3.82110333442688, 2.6508641242980957, 2.3000025749206543, 2.127171277999878, 1.8967766761779785, 1.6329798698425293, 1.4556422233581543, 0.7999218702316284, 0.3972107172012329, 0.25838688015937805]}, \"tinfo\": {\"Category\": [\"Default\", \"Default\", \"Default\", \"Default\", \"Default\", \"Default\", \"Default\", \"Default\", \"Default\", \"Default\", \"Default\", \"Default\", \"Default\", \"Default\", \"Default\", \"Default\", \"Default\", \"Default\", \"Default\", \"Default\", \"Default\", \"Default\", \"Default\", \"Default\", \"Default\", \"Default\", \"Default\", \"Default\", \"Default\", \"Default\", \"Topic1\", \"Topic1\", \"Topic1\", \"Topic1\", \"Topic1\", \"Topic1\", \"Topic1\", \"Topic1\", \"Topic1\", \"Topic1\", \"Topic1\", \"Topic1\", \"Topic1\", \"Topic1\", \"Topic1\", \"Topic1\", \"Topic1\", \"Topic1\", \"Topic1\", \"Topic1\", \"Topic1\", \"Topic1\", \"Topic1\", \"Topic1\", \"Topic1\", \"Topic1\", \"Topic1\", \"Topic1\", \"Topic1\", \"Topic1\", \"Topic1\", \"Topic1\", \"Topic1\", \"Topic1\", \"Topic1\", \"Topic1\", \"Topic1\", \"Topic1\", \"Topic1\", \"Topic1\", \"Topic1\", \"Topic1\", \"Topic1\", \"Topic1\", \"Topic1\", \"Topic1\", \"Topic1\", \"Topic1\", \"Topic1\", \"Topic1\", \"Topic1\", \"Topic1\", \"Topic1\", \"Topic1\", \"Topic1\", \"Topic1\", \"Topic1\", \"Topic1\", \"Topic1\", \"Topic1\", \"Topic1\", \"Topic1\", \"Topic1\", \"Topic1\", \"Topic1\", \"Topic1\", \"Topic1\", \"Topic1\", \"Topic1\", \"Topic1\", \"Topic1\", \"Topic1\", \"Topic1\", \"Topic1\", \"Topic1\", \"Topic1\", \"Topic1\", \"Topic1\", \"Topic1\", \"Topic1\", \"Topic1\", \"Topic1\", \"Topic1\", \"Topic1\", \"Topic2\", \"Topic2\", \"Topic2\", \"Topic2\", \"Topic2\", \"Topic2\", \"Topic2\", \"Topic2\", \"Topic2\", \"Topic2\", \"Topic2\", \"Topic2\", \"Topic2\", \"Topic2\", \"Topic2\", \"Topic2\", \"Topic2\", \"Topic2\", \"Topic2\", \"Topic2\", \"Topic2\", \"Topic2\", \"Topic2\", \"Topic2\", \"Topic2\", \"Topic2\", \"Topic2\", \"Topic2\", \"Topic2\", \"Topic2\", \"Topic2\", \"Topic2\", \"Topic2\", \"Topic2\", \"Topic2\", \"Topic2\", \"Topic2\", \"Topic2\", \"Topic2\", \"Topic2\", \"Topic2\", \"Topic2\", \"Topic2\", \"Topic2\", \"Topic2\", \"Topic2\", \"Topic2\", \"Topic2\", \"Topic2\", \"Topic2\", \"Topic2\", \"Topic2\", \"Topic2\", \"Topic2\", \"Topic2\", \"Topic2\", \"Topic2\", \"Topic2\", \"Topic2\", \"Topic2\", \"Topic2\", \"Topic2\", \"Topic2\", \"Topic2\", \"Topic2\", \"Topic2\", \"Topic2\", \"Topic2\", \"Topic2\", \"Topic2\", \"Topic2\", \"Topic2\", \"Topic2\", \"Topic2\", \"Topic2\", \"Topic2\", \"Topic3\", \"Topic3\", \"Topic3\", \"Topic3\", \"Topic3\", \"Topic3\", \"Topic3\", \"Topic3\", \"Topic3\", \"Topic3\", \"Topic3\", \"Topic3\", \"Topic3\", \"Topic3\", \"Topic3\", \"Topic3\", \"Topic3\", \"Topic3\", \"Topic3\", \"Topic3\", \"Topic3\", \"Topic3\", \"Topic3\", \"Topic3\", \"Topic3\", \"Topic3\", \"Topic3\", \"Topic3\", \"Topic3\", \"Topic3\", \"Topic3\", \"Topic3\", \"Topic3\", \"Topic3\", \"Topic3\", \"Topic3\", \"Topic3\", \"Topic3\", \"Topic3\", \"Topic3\", \"Topic3\", \"Topic3\", \"Topic3\", \"Topic3\", \"Topic3\", \"Topic3\", \"Topic3\", \"Topic3\", \"Topic3\", \"Topic3\", \"Topic3\", \"Topic3\", \"Topic3\", \"Topic3\", \"Topic3\", \"Topic3\", \"Topic3\", \"Topic3\", \"Topic3\", \"Topic3\", \"Topic3\", \"Topic3\", \"Topic3\", \"Topic3\", \"Topic3\", \"Topic3\", \"Topic3\", \"Topic3\", \"Topic3\", \"Topic3\", \"Topic3\", \"Topic3\", \"Topic3\", \"Topic3\", \"Topic4\", \"Topic4\", \"Topic4\", \"Topic4\", \"Topic4\", \"Topic4\", \"Topic4\", \"Topic4\", \"Topic4\", \"Topic4\", \"Topic4\", \"Topic4\", \"Topic4\", \"Topic4\", \"Topic4\", \"Topic4\", \"Topic4\", \"Topic4\", \"Topic4\", \"Topic4\", \"Topic4\", \"Topic4\", \"Topic4\", \"Topic4\", \"Topic4\", \"Topic4\", \"Topic4\", \"Topic4\", \"Topic4\", \"Topic4\", \"Topic4\", \"Topic4\", \"Topic4\", \"Topic4\", \"Topic4\", \"Topic4\", \"Topic4\", \"Topic4\", \"Topic4\", \"Topic4\", \"Topic4\", \"Topic4\", \"Topic4\", \"Topic4\", \"Topic4\", \"Topic4\", \"Topic4\", \"Topic4\", \"Topic4\", \"Topic4\", \"Topic4\", \"Topic4\", \"Topic4\", \"Topic4\", \"Topic4\", \"Topic4\", \"Topic4\", \"Topic4\", \"Topic4\", \"Topic4\", \"Topic4\", \"Topic4\", \"Topic4\", \"Topic4\", \"Topic4\", \"Topic4\", \"Topic5\", \"Topic5\", \"Topic5\", \"Topic5\", \"Topic5\", \"Topic5\", \"Topic5\", \"Topic5\", \"Topic5\", \"Topic5\", \"Topic5\", \"Topic5\", \"Topic5\", \"Topic5\", \"Topic5\", \"Topic5\", \"Topic5\", \"Topic5\", \"Topic5\", \"Topic5\", \"Topic5\", \"Topic5\", \"Topic5\", \"Topic5\", \"Topic5\", \"Topic5\", \"Topic5\", \"Topic5\", \"Topic5\", \"Topic5\", \"Topic5\", \"Topic5\", \"Topic5\", \"Topic5\", \"Topic5\", \"Topic5\", \"Topic5\", \"Topic5\", \"Topic5\", \"Topic5\", \"Topic5\", \"Topic5\", \"Topic5\", \"Topic5\", \"Topic5\", \"Topic5\", \"Topic5\", \"Topic5\", \"Topic5\", \"Topic5\", \"Topic5\", \"Topic5\", \"Topic5\", \"Topic5\", \"Topic5\", \"Topic5\", \"Topic5\", \"Topic5\", \"Topic5\", \"Topic5\", \"Topic5\", \"Topic5\", \"Topic5\", \"Topic5\", \"Topic5\", \"Topic5\", \"Topic5\", \"Topic5\", \"Topic5\", \"Topic5\", \"Topic5\", \"Topic5\", \"Topic5\", \"Topic5\", \"Topic5\", \"Topic5\", \"Topic5\", \"Topic5\", \"Topic6\", \"Topic6\", \"Topic6\", \"Topic6\", \"Topic6\", \"Topic6\", \"Topic6\", \"Topic6\", \"Topic6\", \"Topic6\", \"Topic6\", \"Topic6\", \"Topic6\", \"Topic6\", \"Topic6\", \"Topic6\", \"Topic6\", \"Topic6\", \"Topic6\", \"Topic6\", \"Topic6\", \"Topic6\", \"Topic6\", \"Topic6\", \"Topic6\", \"Topic6\", \"Topic6\", \"Topic6\", \"Topic6\", \"Topic6\", \"Topic6\", \"Topic6\", \"Topic6\", \"Topic6\", \"Topic6\", \"Topic6\", \"Topic6\", \"Topic6\", \"Topic6\", \"Topic6\", \"Topic6\", \"Topic6\", \"Topic6\", \"Topic6\", \"Topic6\", \"Topic6\", \"Topic6\", \"Topic6\", \"Topic6\", \"Topic6\", \"Topic6\", \"Topic6\", \"Topic6\", \"Topic6\", \"Topic6\", \"Topic6\", \"Topic6\", \"Topic6\", \"Topic6\", \"Topic6\", \"Topic6\", \"Topic6\", \"Topic6\", \"Topic6\", \"Topic6\", \"Topic6\", \"Topic6\", \"Topic6\", \"Topic7\", \"Topic7\", \"Topic7\", \"Topic7\", \"Topic7\", \"Topic7\", \"Topic7\", \"Topic7\", \"Topic7\", \"Topic7\", \"Topic7\", \"Topic7\", \"Topic7\", \"Topic7\", \"Topic7\", \"Topic7\", \"Topic7\", \"Topic7\", \"Topic7\", \"Topic7\", \"Topic7\", \"Topic7\", \"Topic7\", \"Topic7\", \"Topic7\", \"Topic7\", \"Topic7\", \"Topic7\", \"Topic7\", \"Topic7\", \"Topic7\", \"Topic7\", \"Topic7\", \"Topic7\", \"Topic7\", \"Topic7\", \"Topic7\", \"Topic7\", \"Topic7\", \"Topic7\", \"Topic7\", \"Topic7\", \"Topic7\", \"Topic7\", \"Topic7\", \"Topic7\", \"Topic7\", \"Topic7\", \"Topic7\", \"Topic7\", \"Topic7\", \"Topic7\", \"Topic7\", \"Topic7\", \"Topic7\", \"Topic7\", \"Topic7\", \"Topic7\", \"Topic7\", \"Topic7\", \"Topic7\", \"Topic7\", \"Topic7\", \"Topic7\", \"Topic7\", \"Topic7\", \"Topic7\", \"Topic7\", \"Topic7\", \"Topic7\", \"Topic7\", \"Topic8\", \"Topic8\", \"Topic8\", \"Topic8\", \"Topic8\", \"Topic8\", \"Topic8\", \"Topic8\", \"Topic8\", \"Topic8\", \"Topic8\", \"Topic8\", \"Topic8\", \"Topic8\", \"Topic8\", \"Topic8\", \"Topic8\", \"Topic8\", \"Topic8\", \"Topic8\", \"Topic8\", \"Topic8\", \"Topic8\", \"Topic8\", \"Topic8\", \"Topic8\", \"Topic8\", \"Topic8\", \"Topic8\", \"Topic8\", \"Topic8\", \"Topic8\", \"Topic8\", \"Topic8\", \"Topic8\", \"Topic8\", \"Topic8\", \"Topic8\", \"Topic8\", \"Topic8\", \"Topic8\", \"Topic8\", \"Topic8\", \"Topic8\", \"Topic8\", \"Topic8\", \"Topic8\", \"Topic8\", \"Topic8\", \"Topic8\", \"Topic8\", \"Topic8\", \"Topic8\", \"Topic8\", \"Topic8\", \"Topic8\", \"Topic8\", \"Topic8\", \"Topic8\", \"Topic8\", \"Topic8\", \"Topic8\", \"Topic8\", \"Topic8\", \"Topic8\", \"Topic8\", \"Topic8\", \"Topic8\", \"Topic8\", \"Topic8\", \"Topic8\", \"Topic8\", \"Topic8\", \"Topic9\", \"Topic9\", \"Topic9\", \"Topic9\", \"Topic9\", \"Topic9\", \"Topic9\", \"Topic9\", \"Topic9\", \"Topic9\", \"Topic9\", \"Topic9\", \"Topic9\", \"Topic9\", \"Topic9\", \"Topic9\", \"Topic9\", \"Topic9\", \"Topic9\", \"Topic9\", \"Topic9\", \"Topic9\", \"Topic9\", \"Topic9\", \"Topic9\", \"Topic9\", \"Topic9\", \"Topic9\", \"Topic9\", \"Topic9\", \"Topic9\", \"Topic9\", \"Topic9\", \"Topic9\", \"Topic9\", \"Topic9\", \"Topic9\", \"Topic9\", \"Topic9\", \"Topic9\", \"Topic9\", \"Topic9\", \"Topic9\", \"Topic9\", \"Topic9\", \"Topic9\", \"Topic9\", \"Topic9\", \"Topic9\", \"Topic9\", \"Topic9\", \"Topic9\", \"Topic9\", \"Topic9\", \"Topic9\", \"Topic9\", \"Topic9\", \"Topic9\", \"Topic9\", \"Topic9\", \"Topic9\", \"Topic9\", \"Topic9\", \"Topic9\", \"Topic9\", \"Topic9\", \"Topic9\", \"Topic9\", \"Topic9\", \"Topic9\", \"Topic10\", \"Topic10\", \"Topic10\", \"Topic10\", \"Topic10\", \"Topic10\", \"Topic10\", \"Topic10\", \"Topic10\", \"Topic10\", \"Topic10\", \"Topic10\", \"Topic10\", \"Topic10\", \"Topic10\", \"Topic10\", \"Topic10\", \"Topic10\", \"Topic10\", \"Topic10\", \"Topic10\", \"Topic10\", \"Topic10\", \"Topic10\", \"Topic10\", \"Topic10\", \"Topic10\", \"Topic10\", \"Topic10\", \"Topic10\", \"Topic10\", \"Topic10\", \"Topic10\", \"Topic10\", \"Topic10\", \"Topic10\", \"Topic10\", \"Topic10\", \"Topic10\", \"Topic10\", \"Topic10\", \"Topic10\", \"Topic10\", \"Topic10\", \"Topic10\", \"Topic10\", \"Topic10\", \"Topic10\", \"Topic10\", \"Topic10\", \"Topic10\", \"Topic10\", \"Topic10\", \"Topic10\", \"Topic10\", \"Topic10\", \"Topic10\", \"Topic11\", \"Topic11\", \"Topic11\", \"Topic11\", \"Topic11\", \"Topic11\", \"Topic11\", \"Topic11\", \"Topic11\", \"Topic11\", \"Topic11\", \"Topic11\", \"Topic11\", \"Topic11\", \"Topic11\", \"Topic11\", \"Topic11\", \"Topic11\", \"Topic11\", \"Topic11\", \"Topic11\", \"Topic11\", \"Topic11\", \"Topic11\", \"Topic11\", \"Topic11\", \"Topic11\", \"Topic11\", \"Topic11\", \"Topic11\", \"Topic11\", \"Topic11\", \"Topic11\", \"Topic11\", \"Topic11\", \"Topic11\", \"Topic11\", \"Topic11\", \"Topic11\", \"Topic11\", \"Topic11\", \"Topic11\", \"Topic11\", \"Topic11\", \"Topic11\", \"Topic11\", \"Topic11\", \"Topic11\", \"Topic11\", \"Topic11\", \"Topic11\", \"Topic11\", \"Topic11\", \"Topic11\", \"Topic11\", \"Topic11\", \"Topic11\", \"Topic11\", \"Topic11\", \"Topic11\", \"Topic11\", \"Topic11\", \"Topic12\", \"Topic12\", \"Topic12\", \"Topic12\", \"Topic12\", \"Topic12\", \"Topic12\", \"Topic12\", \"Topic12\", \"Topic12\", \"Topic12\", \"Topic12\", \"Topic12\", \"Topic12\", \"Topic12\", \"Topic12\", \"Topic12\", \"Topic12\", \"Topic12\", \"Topic12\", \"Topic12\", \"Topic12\", \"Topic12\", \"Topic12\", \"Topic12\", \"Topic12\", \"Topic12\", \"Topic12\", \"Topic12\", \"Topic12\", \"Topic12\", \"Topic12\", \"Topic12\", \"Topic12\", \"Topic12\", \"Topic12\", \"Topic12\", \"Topic12\", \"Topic12\", \"Topic12\", \"Topic12\", \"Topic12\", \"Topic12\", \"Topic12\", \"Topic12\", \"Topic12\", \"Topic12\", \"Topic12\", \"Topic12\", \"Topic12\", \"Topic12\", \"Topic12\", \"Topic13\", \"Topic13\", \"Topic13\", \"Topic13\", \"Topic13\", \"Topic13\", \"Topic13\", \"Topic13\", \"Topic13\", \"Topic13\", \"Topic13\", \"Topic13\", \"Topic13\", \"Topic13\", \"Topic13\", \"Topic13\", \"Topic13\", \"Topic13\", \"Topic13\", \"Topic13\", \"Topic13\", \"Topic13\", \"Topic13\", \"Topic13\", \"Topic13\", \"Topic13\", \"Topic13\", \"Topic13\", \"Topic13\", \"Topic13\", \"Topic13\", \"Topic13\", \"Topic13\", \"Topic13\", \"Topic13\", \"Topic13\", \"Topic13\", \"Topic13\", \"Topic13\", \"Topic13\", \"Topic13\", \"Topic13\", \"Topic13\", \"Topic13\", \"Topic13\", \"Topic13\", \"Topic13\", \"Topic13\", \"Topic13\", \"Topic13\", \"Topic13\", \"Topic13\", \"Topic13\", \"Topic13\", \"Topic13\", \"Topic13\", \"Topic13\", \"Topic13\", \"Topic13\", \"Topic13\", \"Topic13\", \"Topic13\", \"Topic13\", \"Topic14\", \"Topic14\", \"Topic14\", \"Topic14\", \"Topic14\", \"Topic14\", \"Topic14\", \"Topic14\", \"Topic14\", \"Topic14\", \"Topic14\", \"Topic14\", \"Topic14\", \"Topic14\", \"Topic14\", \"Topic14\", \"Topic14\", \"Topic14\", \"Topic14\", \"Topic14\", \"Topic14\", \"Topic14\", \"Topic14\", \"Topic14\", \"Topic14\", \"Topic14\", \"Topic14\", \"Topic14\", \"Topic14\", \"Topic14\", \"Topic14\", \"Topic14\", \"Topic14\", \"Topic14\", \"Topic14\", \"Topic14\", \"Topic14\", \"Topic14\", \"Topic14\", \"Topic14\", \"Topic14\", \"Topic14\", \"Topic14\", \"Topic14\", \"Topic14\", \"Topic14\", \"Topic14\", \"Topic14\", \"Topic14\", \"Topic14\", \"Topic14\", \"Topic14\", \"Topic14\", \"Topic14\", \"Topic14\", \"Topic14\", \"Topic14\", \"Topic14\", \"Topic14\", \"Topic15\", \"Topic15\", \"Topic15\", \"Topic15\", \"Topic15\", \"Topic15\", \"Topic15\", \"Topic15\", \"Topic15\", \"Topic15\", \"Topic15\", \"Topic15\", \"Topic15\", \"Topic15\", \"Topic15\", \"Topic15\", \"Topic15\", \"Topic15\", \"Topic15\", \"Topic15\", \"Topic15\", \"Topic15\", \"Topic15\", \"Topic15\", \"Topic15\", \"Topic15\", \"Topic15\", \"Topic15\", \"Topic15\", \"Topic15\", \"Topic15\", \"Topic15\", \"Topic15\", \"Topic15\", \"Topic15\", \"Topic15\", \"Topic15\", \"Topic15\", \"Topic15\", \"Topic15\", \"Topic15\", \"Topic15\", \"Topic15\", \"Topic15\", \"Topic15\", \"Topic15\", \"Topic15\", \"Topic15\", \"Topic15\", \"Topic15\", \"Topic15\", \"Topic15\", \"Topic15\", \"Topic15\", \"Topic15\", \"Topic15\", \"Topic15\", \"Topic15\", \"Topic15\", \"Topic15\", \"Topic15\", \"Topic15\", \"Topic16\", \"Topic16\", \"Topic16\", \"Topic16\", \"Topic16\", \"Topic16\", \"Topic16\", \"Topic16\", \"Topic16\", \"Topic16\", \"Topic16\", \"Topic16\", \"Topic16\", \"Topic16\", \"Topic16\", \"Topic16\", \"Topic16\", \"Topic16\", \"Topic16\", \"Topic16\", \"Topic16\", \"Topic16\", \"Topic16\", \"Topic16\", \"Topic16\", \"Topic16\", \"Topic16\", \"Topic16\", \"Topic16\", \"Topic16\", \"Topic16\", \"Topic16\", \"Topic16\", \"Topic16\", \"Topic16\", \"Topic16\", \"Topic16\", \"Topic16\", \"Topic16\", \"Topic16\", \"Topic16\", \"Topic16\", \"Topic16\", \"Topic16\", \"Topic16\", \"Topic16\", \"Topic16\", \"Topic16\", \"Topic16\", \"Topic16\", \"Topic16\", \"Topic16\", \"Topic16\", \"Topic16\", \"Topic16\", \"Topic16\", \"Topic16\", \"Topic16\", \"Topic16\", \"Topic16\", \"Topic16\", \"Topic17\", \"Topic17\", \"Topic17\", \"Topic17\", \"Topic17\", \"Topic17\", \"Topic17\", \"Topic17\", \"Topic17\", \"Topic17\", \"Topic17\", \"Topic17\", \"Topic17\", \"Topic17\", \"Topic17\", \"Topic17\", \"Topic17\", \"Topic17\", \"Topic17\", \"Topic17\", \"Topic17\", \"Topic17\", \"Topic17\", \"Topic17\", \"Topic17\", \"Topic17\", \"Topic17\", \"Topic17\", \"Topic17\", \"Topic17\", \"Topic17\", \"Topic17\", \"Topic17\", \"Topic17\", \"Topic17\", \"Topic17\", \"Topic17\", \"Topic17\", \"Topic17\", \"Topic17\", \"Topic17\", \"Topic17\", \"Topic17\", \"Topic17\", \"Topic17\", \"Topic17\", \"Topic17\", \"Topic17\", \"Topic17\", \"Topic17\", \"Topic17\", \"Topic17\", \"Topic17\", \"Topic17\", \"Topic17\", \"Topic17\", \"Topic17\", \"Topic17\", \"Topic17\", \"Topic17\", \"Topic18\", \"Topic18\", \"Topic18\", \"Topic18\", \"Topic18\", \"Topic18\", \"Topic18\", \"Topic18\", \"Topic18\", \"Topic18\", \"Topic18\", \"Topic18\", \"Topic18\", \"Topic18\", \"Topic18\", \"Topic18\", \"Topic18\", \"Topic18\", \"Topic18\", \"Topic18\", \"Topic18\", \"Topic18\", \"Topic18\", \"Topic18\", \"Topic18\", \"Topic18\", \"Topic18\", \"Topic18\", \"Topic18\", \"Topic18\", \"Topic18\", \"Topic18\", \"Topic18\", \"Topic18\", \"Topic18\", \"Topic18\", \"Topic18\", \"Topic18\", \"Topic18\", \"Topic18\", \"Topic18\", \"Topic18\", \"Topic18\", \"Topic18\", \"Topic18\", \"Topic18\", \"Topic18\", \"Topic18\", \"Topic18\", \"Topic18\", \"Topic18\", \"Topic18\", \"Topic19\", \"Topic19\", \"Topic19\", \"Topic19\", \"Topic19\", \"Topic19\", \"Topic19\", \"Topic19\", \"Topic19\", \"Topic19\", \"Topic19\", \"Topic19\", \"Topic19\", \"Topic19\", \"Topic19\", \"Topic19\", \"Topic19\", \"Topic19\", \"Topic19\", \"Topic19\", \"Topic19\", \"Topic19\", \"Topic19\", \"Topic19\", \"Topic19\", \"Topic19\", \"Topic19\", \"Topic19\", \"Topic19\", \"Topic19\", \"Topic19\", \"Topic19\", \"Topic19\", \"Topic19\", \"Topic19\", \"Topic19\", \"Topic19\", \"Topic19\", \"Topic19\", \"Topic19\", \"Topic19\", \"Topic19\", \"Topic19\", \"Topic19\", \"Topic19\", \"Topic19\", \"Topic20\", \"Topic20\", \"Topic20\", \"Topic20\", \"Topic20\", \"Topic20\", \"Topic20\", \"Topic20\", \"Topic20\", \"Topic20\", \"Topic20\", \"Topic20\", \"Topic20\", \"Topic20\", \"Topic20\", \"Topic20\", \"Topic20\", \"Topic20\", \"Topic20\", \"Topic20\", \"Topic20\", \"Topic20\", \"Topic20\", \"Topic20\", \"Topic20\", \"Topic20\", \"Topic20\", \"Topic20\", \"Topic20\", \"Topic20\", \"Topic20\", \"Topic20\", \"Topic20\", \"Topic20\", \"Topic20\", \"Topic20\", \"Topic20\", \"Topic20\"], \"Freq\": [1897.0, 1342.0, 831.0, 1626.0, 3661.0, 4386.0, 3196.0, 4198.0, 856.0, 1257.0, 6522.0, 1861.0, 785.0, 961.0, 2603.0, 864.0, 1435.0, 1579.0, 1318.0, 1584.0, 1687.0, 1596.0, 611.0, 1100.0, 920.0, 1126.0, 646.0, 1486.0, 1316.0, 2089.0, 242.94920349121094, 203.05299377441406, 104.44891357421875, 101.45278930664062, 96.269775390625, 547.0321044921875, 95.80506134033203, 86.15528869628906, 84.8998031616211, 84.65476989746094, 79.99488830566406, 79.28435516357422, 78.40325927734375, 76.30278778076172, 73.27901458740234, 67.14827728271484, 59.70027160644531, 56.507991790771484, 56.15093994140625, 56.183963775634766, 55.62706756591797, 55.03644561767578, 53.07917785644531, 52.87081527709961, 52.54206085205078, 51.84340286254883, 50.61965560913086, 50.26229476928711, 48.66630554199219, 48.42523956298828, 406.6809997558594, 147.80911254882812, 139.11888122558594, 104.8847427368164, 179.0365447998047, 73.38349914550781, 202.7822723388672, 335.33251953125, 249.38409423828125, 91.74010467529297, 998.6489868164062, 115.82167053222656, 94.61593627929688, 4008.685302734375, 215.5638427734375, 264.7240295410156, 413.8312072753906, 2193.886962890625, 212.0077667236328, 1673.9229736328125, 1437.3916015625, 1313.8094482421875, 1146.5247802734375, 627.9935302734375, 337.60009765625, 312.868896484375, 644.3634643554688, 961.9262084960938, 1045.1893310546875, 434.76202392578125, 539.40087890625, 779.9171752929688, 1592.150634765625, 677.62939453125, 1247.1309814453125, 1074.4190673828125, 826.9473266601562, 400.364990234375, 624.62060546875, 1220.4400634765625, 612.1337280273438, 963.850341796875, 696.9067993164062, 539.7528076171875, 585.4401245117188, 629.2855224609375, 590.2378540039062, 652.9069213867188, 716.9207153320312, 591.5880737304688, 762.6686401367188, 637.1146240234375, 597.6961669921875, 606.3623046875, 620.5202026367188, 329.32257080078125, 309.5155944824219, 171.2071075439453, 170.40528869628906, 161.4462127685547, 159.06285095214844, 159.02259826660156, 146.13018798828125, 141.60548400878906, 119.81424713134766, 114.20929718017578, 111.09874725341797, 106.3224105834961, 96.49580383300781, 91.3732681274414, 86.6618423461914, 86.58597564697266, 84.46614837646484, 83.00582122802734, 81.24210357666016, 78.97152709960938, 78.78388977050781, 78.48014068603516, 78.01412200927734, 73.76904296875, 73.2127456665039, 71.50089263916016, 70.90601348876953, 70.13868713378906, 773.5510864257812, 369.6939392089844, 242.85838317871094, 1005.615478515625, 535.5779418945312, 647.8680419921875, 449.6036071777344, 277.3800354003906, 405.3960266113281, 222.78929138183594, 237.41122436523438, 123.46558380126953, 338.8153076171875, 254.8739776611328, 253.8364715576172, 1033.9571533203125, 201.837890625, 311.8431091308594, 277.55413818359375, 324.9886169433594, 315.8339538574219, 750.831787109375, 744.2489624023438, 469.19879150390625, 845.9761962890625, 715.4002685546875, 268.16412353515625, 273.363525390625, 654.6493530273438, 329.1716613769531, 331.0896301269531, 871.5673828125, 568.776123046875, 583.3770141601562, 810.2241821289062, 960.7266845703125, 437.7924499511719, 617.8955688476562, 491.55743408203125, 400.8551940917969, 411.20684814453125, 425.0829162597656, 347.3659973144531, 390.12176513671875, 367.9439392089844, 364.7586975097656, 221.18637084960938, 169.57235717773438, 168.98980712890625, 165.7288360595703, 104.48551940917969, 93.93605041503906, 88.24940490722656, 75.44857788085938, 63.825828552246094, 63.57107162475586, 61.98778533935547, 61.439979553222656, 60.901641845703125, 60.088714599609375, 56.55231857299805, 55.87615203857422, 55.710594177246094, 54.53602981567383, 54.164852142333984, 53.975830078125, 53.65519714355469, 53.22891616821289, 52.599735260009766, 52.445106506347656, 52.014522552490234, 51.217472076416016, 50.65544891357422, 50.15071105957031, 50.078372955322266, 49.91191864013672, 200.76913452148438, 374.7635498046875, 216.62643432617188, 68.26923370361328, 120.10151672363281, 179.5350341796875, 166.86500549316406, 153.0245361328125, 161.9896697998047, 270.11181640625, 92.55494689941406, 119.65857696533203, 216.54754638671875, 85.365966796875, 228.4348907470703, 245.4410400390625, 225.9540557861328, 228.86024475097656, 92.4482421875, 168.11245727539062, 286.7312316894531, 128.58641052246094, 201.86146545410156, 310.57269287109375, 132.3527069091797, 145.06893920898438, 144.8005828857422, 204.37062072753906, 149.40377807617188, 342.28094482421875, 434.78460693359375, 307.9964294433594, 269.9530944824219, 230.15757751464844, 233.88926696777344, 197.63079833984375, 205.1099853515625, 197.70449829101562, 194.9384307861328, 207.4568328857422, 203.057373046875, 183.73361206054688, 188.08140563964844, 178.4127960205078, 960.2830200195312, 552.421630859375, 481.40740966796875, 398.38458251953125, 397.42584228515625, 251.92904663085938, 190.4434814453125, 181.791748046875, 222.66531372070312, 171.92025756835938, 164.37437438964844, 162.9931640625, 606.1471557617188, 146.01882934570312, 140.7290802001953, 140.6188507080078, 135.081298828125, 114.10366821289062, 439.4183349609375, 98.95862579345703, 98.58233642578125, 92.04209899902344, 89.98436737060547, 86.126708984375, 83.66056823730469, 79.76057434082031, 79.33417510986328, 78.73920440673828, 74.79110717773438, 71.99891662597656, 165.81983947753906, 203.8043670654297, 190.5035858154297, 413.52081298828125, 202.58358764648438, 190.287353515625, 185.38479614257812, 119.32376861572266, 383.7837219238281, 259.4490661621094, 217.1898956298828, 191.41879272460938, 194.4512176513672, 655.8626708984375, 420.0437316894531, 457.81072998046875, 342.0238952636719, 246.2112274169922, 252.42701721191406, 246.17205810546875, 244.69581604003906, 611.96044921875, 286.71533203125, 338.7597961425781, 420.5174255371094, 260.55633544921875, 417.39874267578125, 306.70416259765625, 369.92559814453125, 417.7370910644531, 301.60784912109375, 349.8768005371094, 271.8283996582031, 266.505615234375, 272.1343078613281, 261.026123046875, 174.92108154296875, 154.1574249267578, 130.89974975585938, 124.39700317382812, 123.90250396728516, 119.09716033935547, 102.07876586914062, 101.34585571289062, 89.79293823242188, 88.1311264038086, 85.82647705078125, 84.95082092285156, 81.47164154052734, 77.6259536743164, 74.1485824584961, 60.285430908203125, 61.043678283691406, 57.79110336303711, 54.93797302246094, 54.117454528808594, 52.07809829711914, 50.22964096069336, 47.903907775878906, 45.30342483520508, 44.742000579833984, 43.125160217285156, 43.075050354003906, 42.959228515625, 41.29792022705078, 40.66488265991211, 67.27369689941406, 175.55349731445312, 529.9730834960938, 94.79154205322266, 83.45915222167969, 243.6009063720703, 346.2248840332031, 169.35025024414062, 86.62635040283203, 327.1064147949219, 112.07613372802734, 372.1235656738281, 878.6100463867188, 142.29757690429688, 339.4852600097656, 239.5528564453125, 148.69631958007812, 216.98143005371094, 305.27899169921875, 291.6894836425781, 202.16162109375, 301.5062255859375, 302.9252624511719, 183.50506591796875, 200.43154907226562, 185.13279724121094, 161.88272094726562, 670.1453857421875, 360.4081115722656, 529.1873779296875, 462.8263854980469, 216.21495056152344, 219.018798828125, 298.573486328125, 247.54156494140625, 217.57212829589844, 325.4669189453125, 251.11135864257812, 347.53533935546875, 295.2464599609375, 362.1038818359375, 263.9386291503906, 239.51092529296875, 276.5849609375, 268.58990478515625, 246.00657653808594, 244.30319213867188, 229.8692626953125, 863.2333984375, 275.4800109863281, 253.89881896972656, 188.0423126220703, 148.8902587890625, 135.9959716796875, 103.66703033447266, 83.78909301757812, 83.612060546875, 82.50071716308594, 79.57431030273438, 70.44947052001953, 63.11665344238281, 61.30918884277344, 58.340087890625, 84.02467346191406, 55.39812088012695, 52.485198974609375, 50.11566162109375, 48.0726203918457, 47.52830123901367, 44.931095123291016, 42.892948150634766, 42.817752838134766, 42.662376403808594, 39.524574279785156, 39.41475296020508, 697.2667236328125, 39.38775634765625, 38.793601989746094, 250.6892547607422, 172.43724060058594, 77.97776794433594, 1779.8551025390625, 649.7603759765625, 215.9232177734375, 300.3593444824219, 375.7959899902344, 820.5694580078125, 257.0996398925781, 202.8860321044922, 173.6121368408203, 328.9432678222656, 311.3011779785156, 110.23208618164062, 1151.340087890625, 260.65869140625, 254.7105712890625, 482.649658203125, 347.5706481933594, 391.4292907714844, 529.5026245117188, 430.1348876953125, 529.4114990234375, 304.4289855957031, 641.6874389648438, 539.9006958007812, 302.2903137207031, 418.50787353515625, 309.45196533203125, 309.94110107421875, 424.236083984375, 324.4286804199219, 286.27001953125, 289.5461730957031, 347.8079833984375, 301.96966552734375, 298.8389892578125, 258.6561279296875, 241.21559143066406, 185.15576171875, 96.36763000488281, 85.43074035644531, 81.21464538574219, 79.31893157958984, 75.8854751586914, 68.2185287475586, 63.73613739013672, 62.213623046875, 61.815921783447266, 59.196529388427734, 56.917137145996094, 54.936092376708984, 54.35759735107422, 53.3115119934082, 51.57952117919922, 50.07050323486328, 49.19868087768555, 52.73178482055664, 48.2259521484375, 47.950252532958984, 44.59486389160156, 44.10600280761719, 43.93833923339844, 43.692867279052734, 42.341888427734375, 40.37142562866211, 39.83762741088867, 58.953369140625, 415.21435546875, 155.81304931640625, 206.216552734375, 409.4158630371094, 1022.3370971679688, 127.65461730957031, 718.2073974609375, 123.14585876464844, 631.333984375, 334.519775390625, 497.2325439453125, 303.7720642089844, 100.0089111328125, 697.9828491210938, 174.29275512695312, 93.79669189453125, 99.51111602783203, 808.1239624023438, 324.3567810058594, 203.30897521972656, 743.161376953125, 313.05059814453125, 333.9467468261719, 402.84130859375, 246.92140197753906, 124.07144165039062, 381.5177001953125, 185.83482360839844, 219.2408905029297, 475.23974609375, 336.1356201171875, 286.1038818359375, 395.77349853515625, 244.9796905517578, 288.7966613769531, 313.3138427734375, 256.3741149902344, 391.578125, 251.68280029296875, 231.33053588867188, 120.60184478759766, 119.75234985351562, 104.69735717773438, 71.37079620361328, 68.94434356689453, 68.81869506835938, 66.68798065185547, 62.58141326904297, 57.985225677490234, 50.666175842285156, 50.23955154418945, 48.17213821411133, 44.82107162475586, 43.98923110961914, 43.17542266845703, 42.98611068725586, 41.932891845703125, 41.46595001220703, 41.46013259887695, 92.99954986572266, 41.22598648071289, 40.75059509277344, 95.85530090332031, 39.52193832397461, 39.22639083862305, 38.972537994384766, 37.68383026123047, 37.00054931640625, 36.098609924316406, 35.97956085205078, 110.29186248779297, 427.6458740234375, 51.72267532348633, 67.23480987548828, 84.16556549072266, 76.47491455078125, 56.76266860961914, 266.73876953125, 169.15310668945312, 226.72265625, 79.46672058105469, 335.6802062988281, 100.8159408569336, 349.00537109375, 75.44839477539062, 175.74420166015625, 61.99545669555664, 254.25750732421875, 155.6925506591797, 180.04441833496094, 148.1311798095703, 155.16748046875, 259.5956726074219, 237.2880096435547, 186.32147216796875, 113.33373260498047, 116.68726348876953, 333.6858825683594, 172.9114990234375, 237.0896453857422, 176.69656372070312, 129.79010009765625, 209.1048583984375, 199.98544311523438, 120.84166717529297, 137.46347045898438, 163.50099182128906, 157.67604064941406, 156.24388122558594, 147.39012145996094, 132.02574157714844, 133.8714141845703, 129.01393127441406, 350.25762939453125, 147.26344299316406, 112.8128662109375, 106.77191162109375, 96.16962432861328, 93.21424865722656, 79.68272399902344, 77.54667663574219, 77.44661712646484, 71.3048095703125, 66.7370834350586, 118.31928253173828, 65.4769058227539, 62.133705139160156, 56.21577072143555, 54.960391998291016, 54.84090805053711, 51.07357406616211, 49.34842300415039, 46.99092102050781, 46.87038803100586, 46.039798736572266, 44.30426025390625, 44.270503997802734, 42.9468994140625, 41.81535720825195, 41.599822998046875, 40.8278923034668, 40.031280517578125, 39.65665817260742, 250.52035522460938, 261.39398193359375, 93.51412200927734, 82.57329559326172, 175.1603546142578, 77.99500274658203, 152.17556762695312, 198.2998046875, 113.40240478515625, 175.09861755371094, 90.6749267578125, 83.25208282470703, 839.568115234375, 596.7695922851562, 209.5497589111328, 101.53138732910156, 262.1661071777344, 374.8004455566406, 258.6979064941406, 171.3826446533203, 220.07936096191406, 257.4642028808594, 281.2672424316406, 334.8352355957031, 159.32113647460938, 386.7361145019531, 277.8702697753906, 197.53060913085938, 224.56546020507812, 271.08087158203125, 234.45370483398438, 189.50436401367188, 181.431884765625, 244.835693359375, 235.1942138671875, 194.35699462890625, 195.04856872558594, 178.4307403564453, 190.07862854003906, 179.32716369628906, 487.4901428222656, 381.6465148925781, 307.03424072265625, 252.43429565429688, 228.2092742919922, 204.56800842285156, 175.8449249267578, 131.6168975830078, 129.68087768554688, 119.41458892822266, 113.1227035522461, 105.66234588623047, 105.49264526367188, 100.82632446289062, 100.34514617919922, 97.7811279296875, 96.61709594726562, 93.26713562011719, 92.91744232177734, 86.71707153320312, 86.51451110839844, 84.28356170654297, 80.6657485961914, 80.30044555664062, 78.45179748535156, 94.13402557373047, 72.6310043334961, 68.48637390136719, 66.32357788085938, 64.62149047851562, 606.1607055664062, 203.0850372314453, 504.58367919921875, 209.97215270996094, 543.0507202148438, 153.45394897460938, 160.48281860351562, 164.86500549316406, 382.0601806640625, 236.38558959960938, 252.29440307617188, 174.3518524169922, 188.93731689453125, 214.35662841796875, 173.08213806152344, 176.30807495117188, 152.04884338378906, 229.70443725585938, 153.9765167236328, 172.81130981445312, 292.0250244140625, 246.96429443359375, 173.78465270996094, 217.76351928710938, 169.6705780029297, 258.07611083984375, 174.6849365234375, 443.6215515136719, 381.11346435546875, 368.4625244140625, 272.2647399902344, 148.31683349609375, 108.35839080810547, 99.50901794433594, 95.81307220458984, 95.68955993652344, 93.79339599609375, 85.26532745361328, 82.52032470703125, 80.55858612060547, 80.34934997558594, 76.57577514648438, 846.5263671875, 75.42535400390625, 68.24541473388672, 67.12556457519531, 62.49075698852539, 61.588809967041016, 61.537410736083984, 59.39327621459961, 55.87102127075195, 55.72147750854492, 53.26984405517578, 52.179229736328125, 49.018035888671875, 47.6431884765625, 579.4773559570312, 763.328857421875, 82.26734924316406, 194.60462951660156, 133.73397827148438, 343.7218933105469, 98.41888427734375, 236.64718627929688, 106.2649154663086, 161.03746032714844, 107.14620208740234, 142.9957733154297, 662.2904663085938, 326.1885070800781, 163.2852325439453, 175.29473876953125, 113.8198013305664, 130.26968383789062, 142.25845336914062, 134.73793029785156, 349.35565185546875, 180.58885192871094, 162.98394775390625, 153.13479614257812, 127.21026611328125, 264.47540283203125, 248.57608032226562, 192.669921875, 141.39869689941406, 174.71365356445312, 162.89395141601562, 163.31884765625, 143.5267791748047, 268.4088439941406, 226.2940216064453, 197.94003295898438, 189.98927307128906, 172.5774383544922, 133.100341796875, 116.48310852050781, 112.40753173828125, 89.81156921386719, 85.77035522460938, 84.86695098876953, 82.39556121826172, 81.72130584716797, 81.71257019042969, 77.46883392333984, 70.08222961425781, 68.14754486083984, 67.9435806274414, 64.21941375732422, 54.73798370361328, 53.631614685058594, 53.588218688964844, 51.05080795288086, 49.874794006347656, 48.76918411254883, 48.71268844604492, 167.30810546875, 46.856407165527344, 46.66289138793945, 44.599857330322266, 468.7825012207031, 1221.298095703125, 91.24417114257812, 156.02821350097656, 170.6541290283203, 70.48733520507812, 63.51759338378906, 106.59048461914062, 236.95172119140625, 136.32777404785156, 101.38230895996094, 136.76116943359375, 127.90506744384766, 165.9241943359375, 122.48442077636719, 119.54212951660156, 152.01454162597656, 115.32787322998047, 119.15373992919922, 105.57455444335938, 101.25751495361328, 99.52597045898438, 236.89353942871094, 158.01576232910156, 112.75816345214844, 100.35173034667969, 84.70308685302734, 82.10250091552734, 81.98588562011719, 77.45350646972656, 74.30780029296875, 73.59396362304688, 72.158447265625, 60.36376190185547, 58.160987854003906, 57.3245735168457, 51.257232666015625, 46.587738037109375, 42.943504333496094, 42.49626541137695, 42.359352111816406, 40.14714431762695, 37.469051361083984, 35.76484680175781, 35.6027946472168, 31.001760482788086, 27.274385452270508, 26.224597930908203, 25.582881927490234, 25.414775848388672, 23.7530460357666, 23.145784378051758, 571.5643920898438, 98.19054412841797, 87.55492401123047, 108.80767059326172, 100.71365356445312, 119.1805648803711, 84.15789794921875, 190.09889221191406, 183.66708374023438, 111.34146118164062, 79.93489074707031, 170.2122802734375, 146.1455535888672, 57.907039642333984, 82.75226593017578, 266.9637145996094, 153.69187927246094, 94.21334838867188, 119.32791900634766, 140.7827606201172, 121.51305389404297, 130.23007202148438, 214.59359741210938, 202.65040588378906, 112.01022338867188, 154.79754638671875, 149.4366912841797, 134.8203125, 109.36241149902344, 94.56566619873047, 97.94890594482422, 107.4970474243164, 109.08393859863281, 391.6932373046875, 199.4142303466797, 139.4667510986328, 91.4373550415039, 83.53250885009766, 79.17501068115234, 76.02488708496094, 73.75357055664062, 65.57007598876953, 60.38560485839844, 439.22369384765625, 53.431358337402344, 48.79554748535156, 48.32388687133789, 44.07612228393555, 42.116783142089844, 40.51237106323242, 40.25900650024414, 39.232460021972656, 38.086978912353516, 35.6428337097168, 34.6451530456543, 32.51264190673828, 32.158267974853516, 32.10467529296875, 31.84965705871582, 31.616622924804688, 31.23795509338379, 26.30061149597168, 23.770896911621094, 787.3795776367188, 113.90921020507812, 163.5063018798828, 162.2880859375, 218.46466064453125, 74.82201385498047, 389.26544189453125, 119.89067077636719, 101.18734741210938, 262.6610412597656, 305.3310546875, 58.234458923339844, 100.04615020751953, 79.9017562866211, 86.7673110961914, 187.28285217285156, 107.98392486572266, 91.99273681640625, 79.93631744384766, 163.86431884765625, 117.79782104492188, 127.97208404541016, 135.58226013183594, 183.77435302734375, 145.9283905029297, 102.06998443603516, 110.90815734863281, 80.54910278320312, 81.96098327636719, 134.11294555664062, 75.48906707763672, 70.12869262695312, 66.09544372558594, 54.916141510009766, 48.787864685058594, 34.57038116455078, 31.621721267700195, 31.073440551757812, 29.76640510559082, 29.592348098754883, 29.26517105102539, 29.066688537597656, 28.504484176635742, 28.47760009765625, 28.42159652709961, 28.010292053222656, 27.865798950195312, 27.847204208374023, 26.15431022644043, 26.144376754760742, 25.41304588317871, 25.39539909362793, 24.278657913208008, 24.276960372924805, 24.081581115722656, 23.692628860473633, 22.50569725036621, 22.170368194580078, 22.12270164489746, 223.6291961669922, 45.764286041259766, 197.41351318359375, 57.73678207397461, 56.199195861816406, 44.7509651184082, 28.884267807006836, 45.06364822387695, 39.32577133178711, 33.182594299316406, 65.8343505859375, 36.48219299316406, 61.4112663269043, 51.12055969238281, 49.112152099609375, 35.89794158935547, 39.36208724975586, 43.85276412963867, 48.011985778808594, 67.09402465820312, 68.67436981201172, 68.6316909790039, 45.208518981933594, 66.13915252685547, 50.830936431884766, 42.001686096191406, 59.73952102661133, 50.494102478027344, 48.89825439453125, 41.8858757019043, 43.45160675048828, 42.14729309082031, 115.75452423095703, 72.31401062011719, 64.83162689208984, 53.451271057128906, 47.640132904052734, 44.352943420410156, 43.90528106689453, 41.03947830200195, 39.19598388671875, 38.220462799072266, 36.629371643066406, 36.24814987182617, 34.85505294799805, 34.550537109375, 33.492374420166016, 33.327537536621094, 32.875240325927734, 32.69580841064453, 31.070579528808594, 30.42232322692871, 30.137983322143555, 29.698976516723633, 29.619041442871094, 29.43143081665039, 28.76310920715332, 28.716354370117188, 28.600881576538086, 27.7189884185791, 27.46799087524414, 27.29452896118164, 126.8522720336914, 81.81266021728516, 53.860084533691406, 318.9317932128906, 62.57201385498047, 73.08170318603516, 40.55205154418945, 56.29301071166992, 74.61351776123047, 49.25677490234375, 185.38014221191406, 51.0767707824707, 78.81783294677734, 100.248046875, 190.8214569091797, 64.41183471679688, 61.36034393310547, 74.41756439208984, 96.87113952636719, 66.43335723876953, 50.422550201416016, 54.83741760253906, 112.03482818603516, 65.69578552246094, 57.04545211791992, 73.99431610107422, 60.99995803833008, 93.75022888183594, 60.75293731689453, 56.30332565307617, 53.624969482421875, 315.58038330078125, 194.17422485351562, 94.24378204345703, 65.20823669433594, 51.3381233215332, 50.507080078125, 48.14850616455078, 62.580604553222656, 45.65145492553711, 35.43950271606445, 35.38914489746094, 31.72504997253418, 30.847841262817383, 30.847841262817383, 30.480710983276367, 30.162134170532227, 29.764799118041992, 28.768695831298828, 27.532623291015625, 26.189189910888672, 25.49622917175293, 24.62696647644043, 22.77826499938965, 22.383377075195312, 21.923072814941406, 20.70161247253418, 20.635162353515625, 20.173385620117188, 20.11964225769043, 32.024871826171875, 83.94239807128906, 72.28042602539062, 105.61457061767578, 107.80908203125, 207.80462646484375, 218.29124450683594, 240.48416137695312, 83.9580307006836, 180.6974334716797, 180.06297302246094, 140.08993530273438, 58.30068588256836, 81.41390228271484, 65.35888671875, 115.43955993652344, 53.833351135253906, 165.75440979003906, 43.687618255615234, 106.3016357421875, 121.96454620361328, 84.98306274414062, 56.662025451660156, 58.466888427734375, 109.35079956054688, 108.27262115478516, 78.46965789794922, 93.29582977294922, 103.80618286132812, 76.90568542480469, 66.23533630371094, 54.88392639160156, 45.037906646728516, 37.818206787109375, 35.829158782958984, 34.44337844848633, 32.56785583496094, 31.10976791381836, 30.901573181152344, 28.377050399780273, 27.513233184814453, 26.04849624633789, 25.567121505737305, 25.069969177246094, 23.97243881225586, 23.561750411987305, 23.399763107299805, 22.367103576660156, 21.988636016845703, 20.678255081176758, 19.304094314575195, 18.91023826599121, 18.311185836791992, 18.13846778869629, 17.97443962097168, 17.810373306274414, 17.16559410095215, 16.738279342651367, 16.506746292114258, 16.156530380249023, 16.129316329956055, 56.40642166137695, 41.19258117675781, 53.98015594482422, 21.769086837768555, 30.44564437866211, 40.29656982421875, 100.18983459472656, 42.80287551879883, 46.84003448486328, 61.8558349609375, 26.191360473632812, 68.08264923095703, 39.773704528808594, 52.162837982177734, 33.50004196166992, 42.32246780395508, 31.37099266052246, 40.719425201416016, 28.81047248840332, 29.99471092224121, 27.749317169189453, 27.030628204345703, 30.27776527404785, 29.383956909179688, 21.99669075012207, 21.677736282348633, 18.91061019897461, 18.53997802734375, 17.973121643066406, 17.380979537963867, 15.798656463623047, 12.820777893066406, 12.308234214782715, 12.143418312072754, 11.831907272338867, 10.530464172363281, 9.85527515411377, 9.757713317871094, 9.669840812683105, 9.523921966552734, 8.958605766296387, 8.459914207458496, 8.390411376953125, 7.915330410003662, 7.885391712188721, 7.728291988372803, 7.605836868286133, 7.595058917999268, 7.49379825592041, 7.432671070098877, 7.392202377319336, 7.175705432891846, 18.14392852783203, 12.953469276428223, 28.71272087097168, 120.19197845458984, 29.10282325744629, 14.750022888183594, 14.01130485534668, 18.385391235351562, 24.136821746826172, 27.6650447845459, 21.625595092773438, 19.44295883178711, 17.885347366333008, 17.879520416259766, 20.59953498840332, 12.61679744720459, 128.91766357421875, 39.83281326293945, 26.409406661987305, 23.61971664428711, 23.005077362060547, 18.38247299194336, 16.838016510009766, 16.060001373291016, 15.889236450195312, 14.227731704711914, 13.890384674072266, 12.526826858520508, 12.068572998046875, 11.596007347106934, 9.666484832763672, 7.7506208419799805, 6.861973285675049, 6.7957282066345215, 6.398784637451172, 6.0548295974731445, 5.627645492553711, 5.470017433166504, 5.271796703338623, 5.239983081817627, 4.9224395751953125, 4.816633701324463, 4.688237190246582, 4.48236608505249, 4.258526802062988, 3.6030170917510986, 28.642627716064453, 55.78889465332031, 24.93693733215332, 21.048656463623047, 12.358731269836426, 5.494930267333984, 7.516702175140381, 5.434267044067383], \"Term\": [\"file\", \"space\", \"window\", \"program\", \"know\", \"people\", \"think\", \"like\", \"game\", \"mail\", \"would\", \"said\", \"team\", \"jesus\", \"good\", \"output\", \"going\", \"year\", \"windows\", \"please\", \"problem\", \"information\", \"president\", \"drive\", \"files\", \"power\", \"server\", \"available\", \"thanks\", \"system\", \"secure\", \"escrow\", \"wiretap\", \"warrant\", \"curious\", \"encryption\", \"sector\", \"claiming\", \"favor\", \"interests\", \"ancient\", \"philosophy\", \"easter\", \"conversations\", \"prophecy\", \"scholars\", \"decrypt\", \"responding\", \"zionist\", \"protecting\", \"ultimate\", \"denning\", \"abortion\", \"incredibly\", \"apologize\", \"proud\", \"vitamin\", \"pagan\", \"distinction\", \"worthy\", \"clipper\", \"absolute\", \"proposal\", \"stands\", \"trust\", \"feds\", \"enforcement\", \"strong\", \"secret\", \"unlikely\", \"government\", \"legitimate\", \"phones\", \"would\", \"protect\", \"court\", \"perhaps\", \"people\", \"reasons\", \"think\", \"could\", \"even\", \"make\", \"fact\", \"agree\", \"keys\", \"question\", \"right\", \"much\", \"chip\", \"enough\", \"really\", \"like\", \"might\", \"time\", \"well\", \"want\", \"idea\", \"better\", \"know\", \"sure\", \"good\", \"since\", \"thing\", \"case\", \"take\", \"things\", \"something\", \"many\", \"point\", \"also\", \"first\", \"still\", \"need\", \"scsi\", \"drives\", \"controller\", \"motherboard\", \"bios\", \"microsoft\", \"filename\", \"install\", \"simms\", \"upgrade\", \"cache\", \"boot\", \"adapter\", \"sony\", \"vesa\", \"adaptec\", \"nubus\", \"quadra\", \"connector\", \"svga\", \"diamond\", \"slots\", \"vram\", \"swap\", \"typing\", \"clone\", \"warranty\", \"centris\", \"slower\", \"ethernet\", \"card\", \"monitor\", \"floppy\", \"drive\", \"memory\", \"disk\", \"video\", \"modem\", \"apple\", \"printer\", \"installed\", \"wiring\", \"drivers\", \"port\", \"cards\", \"windows\", \"disks\", \"keyboard\", \"tape\", \"driver\", \"mode\", \"thanks\", \"anyone\", \"hard\", \"system\", \"problem\", \"advance\", \"board\", \"need\", \"hardware\", \"speed\", \"know\", \"using\", \"work\", \"like\", \"would\", \"help\", \"also\", \"used\", \"software\", \"please\", \"could\", \"computer\", \"time\", \"want\", \"good\", \"firearms\", \"tobacco\", \"weapon\", \"militia\", \"smokeless\", \"firearm\", \"handgun\", \"handguns\", \"genetic\", \"rkba\", \"differently\", \"cryptology\", \"cure\", \"regulated\", \"adult\", \"regulations\", \"partners\", \"assertion\", \"homicides\", \"chronic\", \"integration\", \"deaf\", \"meat\", \"immoral\", \"orientation\", \"accidents\", \"tasks\", \"reducing\", \"kidney\", \"chamber\", \"amendment\", \"guns\", \"disease\", \"infection\", \"judges\", \"drugs\", \"remark\", \"treatment\", \"constitution\", \"crime\", \"sexual\", \"animals\", \"weapons\", \"violent\", \"laws\", \"self\", \"study\", \"cases\", \"remarks\", \"entries\", \"states\", \"patients\", \"rate\", \"control\", \"studies\", \"arms\", \"drug\", \"cause\", \"carry\", \"many\", \"people\", \"well\", \"used\", \"part\", \"number\", \"less\", \"case\", \"second\", \"state\", \"right\", \"year\", \"person\", \"also\", \"must\", \"jesus\", \"bible\", \"church\", \"faith\", \"christ\", \"christianity\", \"beliefs\", \"atheism\", \"belief\", \"atheists\", \"morality\", \"heaven\", \"christian\", \"eternal\", \"religions\", \"catholic\", \"scripture\", \"biblical\", \"christians\", \"pope\", \"worship\", \"divine\", \"resurrection\", \"revelation\", \"testament\", \"sabbath\", \"gospel\", \"orthodox\", \"gods\", \"believing\", \"universe\", \"lord\", \"matthew\", \"religion\", \"spirit\", \"islam\", \"holy\", \"atheist\", \"truth\", \"religious\", \"moral\", \"objective\", \"existence\", \"believe\", \"life\", \"true\", \"word\", \"hell\", \"exist\", \"argument\", \"love\", \"people\", \"book\", \"world\", \"many\", \"evidence\", \"think\", \"things\", \"also\", \"would\", \"must\", \"know\", \"point\", \"read\", \"even\", \"said\", \"apartment\", \"henrik\", \"azerbaijani\", \"sumgait\", \"karina\", \"daughter\", \"karabakh\", \"tanks\", \"mamma\", \"baku\", \"compass\", \"candida\", \"azerbaijanis\", \"azeris\", \"rockefeller\", \"yankees\", \"tear\", \"lyuda\", \"junk\", \"karabagh\", \"sister\", \"marina\", \"shouting\", \"walls\", \"rows\", \"nagorno\", \"jumped\", \"yeast\", \"intake\", \"armored\", \"snow\", \"wife\", \"went\", \"fired\", \"crowd\", \"fire\", \"started\", \"woman\", \"burned\", \"took\", \"floor\", \"told\", \"said\", \"town\", \"came\", \"women\", \"door\", \"face\", \"home\", \"children\", \"happened\", \"says\", \"left\", \"night\", \"dead\", \"building\", \"room\", \"people\", \"back\", \"know\", \"time\", \"later\", \"armenians\", \"going\", \"three\", \"heard\", \"could\", \"around\", \"like\", \"even\", \"would\", \"something\", \"come\", \"well\", \"first\", \"years\", \"still\", \"last\", \"output\", \"jpeg\", \"contrib\", \"postscript\", \"uuencode\", \"formats\", \"shareware\", \"ansi\", \"prog\", \"converter\", \"tiff\", \"bitmap\", \"allocation\", \"shar\", \"edit\", \"xview\", \"viewer\", \"floppies\", \"cmos\", \"ieee\", \"cica\", \"raster\", \"digit\", \"arithmetic\", \"siggraph\", \"parameter\", \"builder\", \"entry\", \"compilers\", \"menus\", \"stream\", \"string\", \"interactive\", \"file\", \"image\", \"null\", \"export\", \"format\", \"files\", \"bits\", \"functions\", \"contest\", \"input\", \"directory\", \"routines\", \"program\", \"images\", \"function\", \"code\", \"build\", \"graphics\", \"version\", \"source\", \"line\", \"section\", \"available\", \"data\", \"size\", \"software\", \"include\", \"check\", \"number\", \"info\", \"programs\", \"open\", \"also\", \"name\", \"using\", \"char\", \"ripem\", \"mailing\", \"programmer\", \"borland\", \"ncsl\", \"eisa\", \"jumper\", \"anon\", \"listserv\", \"layout\", \"financial\", \"login\", \"telnet\", \"emacs\", \"sync\", \"isbn\", \"cluster\", \"digest\", \"chipset\", \"forsale\", \"mailer\", \"reilly\", \"argc\", \"wisc\", \"dram\", \"sender\", \"xfree\", \"authentication\", \"flags\", \"jumpers\", \"anonymous\", \"requests\", \"usenet\", \"internet\", \"mail\", \"newsgroups\", \"send\", \"nist\", \"email\", \"request\", \"address\", \"comp\", \"guidelines\", \"list\", \"guide\", \"crypt\", \"addresses\", \"please\", \"posting\", \"newsgroup\", \"information\", \"contact\", \"message\", \"computer\", \"posted\", \"lists\", \"info\", \"site\", \"users\", \"available\", \"group\", \"news\", \"thanks\", \"access\", \"post\", \"name\", \"server\", \"also\", \"system\", \"public\", \"newsletter\", \"cancer\", \"dept\", \"avenue\", \"hicnet\", \"surveillance\", \"terminals\", \"defaults\", \"maryland\", \"patent\", \"presentation\", \"adobe\", \"elected\", \"idaho\", \"keyboards\", \"thumb\", \"sensing\", \"deputy\", \"denver\", \"networks\", \"torque\", \"fuse\", \"naval\", \"movies\", \"defeated\", \"evaluate\", \"wordperfect\", \"fleet\", \"hospitals\", \"relay\", \"navy\", \"health\", \"rumors\", \"homicide\", \"aids\", \"centers\", \"compressed\", \"washington\", \"reported\", \"medical\", \"transmission\", \"april\", \"funds\", \"national\", \"identified\", \"department\", \"increasing\", \"center\", \"page\", \"report\", \"california\", \"street\", \"university\", \"research\", \"office\", \"insurance\", \"committee\", \"information\", \"service\", \"public\", \"among\", \"volume\", \"control\", \"state\", \"conference\", \"care\", \"data\", \"available\", \"years\", \"number\", \"current\", \"high\", \"local\", \"bike\", \"ride\", \"motorcycle\", \"bikes\", \"honda\", \"helmet\", \"wheel\", \"tires\", \"autos\", \"gear\", \"motorcycles\", \"riding\", \"chinese\", \"tire\", \"brake\", \"offset\", \"steering\", \"cylinder\", \"parking\", \"riders\", \"kong\", \"paranoid\", \"restaurant\", \"muscle\", \"contracts\", \"init\", \"neck\", \"clutch\", \"glutamate\", \"suck\", \"engine\", \"cars\", \"rear\", \"ford\", \"miles\", \"sport\", \"driving\", \"front\", \"lock\", \"road\", \"push\", \"chain\", \"like\", \"good\", \"stuff\", \"buying\", \"little\", \"much\", \"look\", \"side\", \"enough\", \"really\", \"right\", \"know\", \"speed\", \"would\", \"well\", \"thing\", \"back\", \"think\", \"make\", \"probably\", \"course\", \"also\", \"time\", \"take\", \"want\", \"around\", \"could\", \"better\", \"turkish\", \"israeli\", \"turkey\", \"arab\", \"turks\", \"genocide\", \"nazi\", \"palestinian\", \"villages\", \"arabs\", \"greece\", \"nazis\", \"republic\", \"argic\", \"civilians\", \"ottoman\", \"serdar\", \"southern\", \"ethnic\", \"occupied\", \"lebanon\", \"palestine\", \"cyprus\", \"palestinians\", \"israelis\", \"massacre\", \"lebanese\", \"liar\", \"gaza\", \"kurds\", \"israel\", \"muslim\", \"jews\", \"armenia\", \"armenian\", \"british\", \"german\", \"germany\", \"armenians\", \"greek\", \"jewish\", \"army\", \"peace\", \"russian\", \"south\", \"land\", \"soviet\", \"history\", \"western\", \"population\", \"world\", \"government\", \"killed\", \"state\", \"anti\", \"people\", \"university\", \"season\", \"players\", \"hockey\", \"teams\", \"montreal\", \"playoffs\", \"cubs\", \"quebec\", \"braves\", \"leafs\", \"pens\", \"defensive\", \"coach\", \"wins\", \"sharks\", \"game\", \"jets\", \"stanley\", \"bruins\", \"hawks\", \"hitter\", \"traded\", \"mets\", \"defenseman\", \"finals\", \"standings\", \"dodgers\", \"goalie\", \"penguins\", \"games\", \"team\", \"playoff\", \"baseball\", \"fans\", \"league\", \"scored\", \"player\", \"score\", \"played\", \"stats\", \"detroit\", \"year\", \"play\", \"chicago\", \"division\", \"jose\", \"playing\", \"toronto\", \"boston\", \"last\", \"runs\", \"points\", \"series\", \"pittsburgh\", \"good\", \"first\", \"best\", \"lost\", \"better\", \"well\", \"think\", \"great\", \"launch\", \"satellite\", \"shuttle\", \"orbit\", \"lunar\", \"solar\", \"satellites\", \"spacecraft\", \"mars\", \"saturn\", \"missions\", \"probe\", \"planetary\", \"telescope\", \"astronomy\", \"outlets\", \"propulsion\", \"orbital\", \"payload\", \"venus\", \"ozone\", \"aerospace\", \"observatory\", \"astro\", \"launches\", \"exploration\", \"moon\", \"explorer\", \"titan\", \"retail\", \"nasa\", \"space\", \"launched\", \"flight\", \"mission\", \"ames\", \"atmosphere\", \"rocket\", \"earth\", \"station\", \"surface\", \"center\", \"science\", \"data\", \"cost\", \"technology\", \"program\", \"research\", \"also\", \"first\", \"system\", \"year\", \"jobs\", \"myers\", \"pitt\", \"surrender\", \"skepticism\", \"espn\", \"spending\", \"intellect\", \"shameful\", \"cadre\", \"chastity\", \"senator\", \"republicans\", \"subjective\", \"deficit\", \"alomar\", \"libertarians\", \"stimulus\", \"astros\", \"laughter\", \"reagan\", \"dole\", \"briefing\", \"reich\", \"democrats\", \"beer\", \"yeltsin\", \"baerga\", \"medication\", \"limbaugh\", \"president\", \"economy\", \"senate\", \"banks\", \"gordon\", \"secretary\", \"bush\", \"clinton\", \"congress\", \"george\", \"taxes\", \"bill\", \"administration\", \"investment\", \"meeting\", \"going\", \"package\", \"russia\", \"soon\", \"money\", \"house\", \"working\", \"think\", \"know\", \"white\", \"said\", \"work\", \"program\", \"american\", \"education\", \"young\", \"something\", \"people\", \"widget\", \"xterm\", \"xlib\", \"openwindows\", \"colormap\", \"pixmap\", \"cursor\", \"icon\", \"width\", \"phillies\", \"motif\", \"clemens\", \"click\", \"reds\", \"innings\", \"inning\", \"pitched\", \"giants\", \"erzurum\", \"cincinnati\", \"runner\", \"batting\", \"xsun\", \"grayscale\", \"toplevel\", \"olwm\", \"allocated\", \"phigs\", \"mpeg\", \"popup\", \"window\", \"clients\", \"client\", \"font\", \"manager\", \"sunos\", \"server\", \"shell\", \"widgets\", \"application\", \"display\", \"symbol\", \"visual\", \"patch\", \"root\", \"screen\", \"resource\", \"default\", \"button\", \"running\", \"mouse\", \"error\", \"color\", \"problem\", \"using\", \"value\", \"windows\", \"events\", \"work\", \"judas\", \"sleeve\", \"weaver\", \"pitcher\", \"temple\", \"decenso\", \"apostles\", \"outs\", \"palette\", \"affair\", \"premises\", \"nerve\", \"swing\", \"sugar\", \"headache\", \"debugger\", \"drain\", \"seal\", \"anecdotal\", \"cardinals\", \"coffee\", \"seizures\", \"viola\", \"potter\", \"prophecies\", \"waves\", \"smiley\", \"inflated\", \"foreground\", \"hebrews\", \"pain\", \"taste\", \"picture\", \"prophet\", \"pitch\", \"randy\", \"thin\", \"pounds\", \"hung\", \"bolt\", \"pitching\", \"fingers\", \"weight\", \"spring\", \"weekend\", \"advertising\", \"weird\", \"jack\", \"joseph\", \"field\", \"black\", \"days\", \"feet\", \"back\", \"lines\", \"sign\", \"good\", \"high\", \"long\", \"missing\", \"area\", \"inside\", \"scorer\", \"murphy\", \"francis\", \"jagr\", \"recchi\", \"stevens\", \"sanderson\", \"soderstrom\", \"vernon\", \"nolan\", \"tocchet\", \"otto\", \"amour\", \"promo\", \"fleury\", \"carson\", \"unassisted\", \"brind\", \"bure\", \"hull\", \"dineen\", \"sandberg\", \"courtnall\", \"mullen\", \"cassels\", \"shanahan\", \"sandstrom\", \"roenick\", \"juneau\", \"galley\", \"puck\", \"hartford\", \"lindros\", \"period\", \"lemieux\", \"flyers\", \"tommy\", \"saves\", \"shots\", \"dale\", \"play\", \"gary\", \"kings\", \"goal\", \"power\", \"brown\", \"calgary\", \"smith\", \"third\", \"flames\", \"jersey\", \"scoring\", \"second\", \"dave\", \"brian\", \"mark\", \"pittsburgh\", \"first\", \"shot\", \"philadelphia\", \"mike\", \"sale\", \"wire\", \"voltage\", \"wires\", \"cooper\", \"pointer\", \"aluminum\", \"hook\", \"conductor\", \"ingr\", \"disc\", \"lamp\", \"dtmedin\", \"catbyte\", \"copper\", \"dial\", \"cassette\", \"gainey\", \"shack\", \"panasonic\", \"methanol\", \"huntsville\", \"volt\", \"intergraph\", \"proceeds\", \"transformer\", \"emulator\", \"tuning\", \"titled\", \"amplifier\", \"plastic\", \"stereo\", \"neutral\", \"circuit\", \"shipping\", \"condition\", \"offer\", \"electrical\", \"asking\", \"ground\", \"excellent\", \"metal\", \"audio\", \"manuals\", \"radio\", \"mask\", \"price\", \"speakers\", \"sell\", \"phone\", \"cable\", \"electronics\", \"plug\", \"current\", \"best\", \"included\", \"power\", \"used\", \"original\", \"interested\", \"ships\", \"polygon\", \"ghost\", \"ctrl\", \"hulk\", \"vpic\", \"wolverine\", \"comics\", \"gamma\", \"cape\", \"installations\", \"logo\", \"abort\", \"mint\", \"bindings\", \"couples\", \"hawk\", \"wagon\", \"taurus\", \"punisher\", \"easiest\", \"exercises\", \"acids\", \"utica\", \"races\", \"bagged\", \"nail\", \"spiderman\", \"adventures\", \"buffers\", \"crash\", \"judging\", \"marriage\", \"springfield\", \"designated\", \"married\", \"cover\", \"wave\", \"annual\", \"copies\", \"rochester\", \"title\", \"echo\", \"appears\", \"georgia\", \"copy\", \"rider\", \"issue\", \"holes\", \"force\", \"print\", \"green\", \"plants\", \"cooling\", \"losses\", \"prisoners\", \"steam\", \"rayshade\", \"theist\", \"xputimage\", \"towers\", \"fossil\", \"rtrace\", \"portal\", \"radiosity\", \"resembles\", \"heal\", \"stein\", \"imaginary\", \"triangles\", \"diffs\", \"canvas\", \"experimentation\", \"aliases\", \"djgpp\", \"shaky\", \"radiance\", \"silverlining\", \"bombers\", \"robb\", \"connecticut\", \"finishes\", \"mobile\", \"tracer\", \"temp\", \"water\", \"plant\", \"discharge\", \"queen\", \"crystal\", \"loop\", \"heat\", \"temperature\", \"tower\", \"milwaukee\", \"circuits\", \"nuclear\", \"incoming\", \"printf\", \"detector\", \"handler\", \"printers\", \"detectors\", \"packard\", \"hewlett\", \"emulation\", \"qemm\", \"echl\", \"targa\", \"appletalk\", \"uniforms\", \"laserwriter\", \"compliant\", \"zenith\", \"localtalk\", \"mossad\", \"cisc\", \"ramsey\", \"kelvin\", \"xremote\", \"assorted\", \"troy\", \"asthma\", \"runtime\", \"alfa\", \"xcopyarea\", \"bureaucracy\", \"halo\", \"expose\", \"radar\", \"argv\", \"event\", \"virginia\", \"pathetic\", \"opened\", \"stuart\"], \"Total\": [1897.0, 1342.0, 831.0, 1626.0, 3661.0, 4386.0, 3196.0, 4198.0, 856.0, 1257.0, 6522.0, 1861.0, 785.0, 961.0, 2603.0, 864.0, 1435.0, 1579.0, 1318.0, 1584.0, 1687.0, 1596.0, 611.0, 1100.0, 920.0, 1126.0, 646.0, 1486.0, 1316.0, 2089.0, 243.8727264404297, 203.9765167236328, 105.37246704101562, 102.3763427734375, 97.20470428466797, 552.3535766601562, 96.74238586425781, 87.08043670654297, 85.82335662841797, 85.57832336425781, 80.91844177246094, 80.21061706542969, 79.32681274414062, 77.2263412475586, 74.20256805419922, 68.07183074951172, 60.63276290893555, 57.431541442871094, 57.07448959350586, 57.109039306640625, 56.554359436035156, 55.95999526977539, 54.00272750854492, 53.79473114013672, 53.46561050415039, 52.76695251464844, 51.54320526123047, 51.18584442138672, 49.58985900878906, 49.34878921508789, 414.5312194824219, 150.6988067626953, 144.51022338867188, 108.67599487304688, 190.86280822753906, 75.9822769165039, 222.87924194335938, 381.9856872558594, 281.21478271484375, 96.54351043701172, 1276.929443359375, 126.20586395263672, 101.48158264160156, 6522.322265625, 257.4647521972656, 336.9920654296875, 583.1023559570312, 4386.1630859375, 264.8269958496094, 3196.76171875, 2677.879638671875, 2435.24755859375, 2166.6640625, 1073.3670654296875, 497.427734375, 451.2123107910156, 1151.4320068359375, 1952.56396484375, 2217.060302734375, 699.1299438476562, 936.111083984375, 1541.0382080078125, 4198.10693359375, 1303.1424560546875, 3157.121337890625, 2655.696533203125, 1874.0604248046875, 640.0548095703125, 1249.3609619140625, 3661.48681640625, 1262.39453125, 2603.990234375, 1611.7237548828125, 1053.7950439453125, 1213.8853759765625, 1417.5384521484375, 1311.051025390625, 1679.6986083984375, 2291.275146484375, 1372.7470703125, 3595.890625, 2300.35791015625, 1486.8424072265625, 1746.6849365234375, 621.446044921875, 330.24822998046875, 310.4412536621094, 172.1327667236328, 171.33094787597656, 162.3718719482422, 159.98851013183594, 159.94842529296875, 147.05584716796875, 142.53114318847656, 120.7399673461914, 115.13499450683594, 112.02444458007812, 107.25926208496094, 97.42151641845703, 92.29896545410156, 87.58753967285156, 87.51167297363281, 85.391845703125, 83.93159484863281, 82.16780090332031, 79.89722442626953, 79.70958709716797, 79.40591430664062, 78.9398193359375, 74.69474029541016, 74.13844299316406, 72.42658996582031, 71.83171081542969, 71.06438446044922, 792.1865234375, 376.68975830078125, 247.05250549316406, 1100.2021484375, 576.1810913085938, 708.3509521484375, 484.18359375, 293.1177062988281, 436.5994873046875, 234.2298583984375, 253.69937133789062, 127.81612396240234, 374.6150207519531, 278.7713317871094, 281.3559265136719, 1318.84765625, 221.72991943359375, 370.621826171875, 339.49542236328125, 422.70831298828125, 416.1625061035156, 1316.60205078125, 1688.9432373046875, 843.665283203125, 2089.84521484375, 1687.3316650390625, 365.3069763183594, 379.1754150390625, 1746.6849365234375, 523.3602294921875, 531.9334106445312, 3661.48681640625, 1570.6453857421875, 1746.8526611328125, 4198.10693359375, 6522.322265625, 1257.4837646484375, 3595.890625, 2033.9144287109375, 1074.10400390625, 1584.185546875, 2677.879638671875, 814.2296752929688, 3157.121337890625, 1874.0604248046875, 2603.990234375, 222.23736572265625, 170.49349975585938, 169.91163635253906, 166.6499786376953, 105.40679168701172, 94.85722351074219, 89.17057800292969, 76.3697509765625, 64.74699401855469, 64.49231719970703, 62.9089469909668, 62.361141204833984, 61.82280349731445, 61.0098762512207, 57.473480224609375, 56.79731369018555, 56.63175582885742, 55.457191467285156, 55.08601379394531, 54.89699172973633, 54.576358795166016, 54.15007781982422, 53.520896911621094, 53.36876678466797, 52.93568801879883, 52.138919830322266, 51.57661056518555, 51.07187271118164, 50.999534606933594, 50.83308029174805, 206.91188049316406, 400.85736083984375, 235.8065948486328, 70.56640625, 128.5513153076172, 202.0662384033203, 188.7345733642578, 172.74615478515625, 185.57034301757812, 337.0663146972656, 102.33224487304688, 142.0623321533203, 310.8246765136719, 97.8603744506836, 350.707763671875, 389.4735107421875, 364.33489990234375, 394.1025390625, 113.1888656616211, 275.1875, 636.1621704101562, 189.79147338867188, 379.9450988769531, 791.84423828125, 203.24412536621094, 240.95021057128906, 245.91847229003906, 500.505126953125, 286.31732177734375, 2291.275146484375, 4386.1630859375, 2655.696533203125, 2033.9144287109375, 1206.5992431640625, 1440.4356689453125, 784.3594360351562, 1213.8853759765625, 1023.4810791015625, 975.8888549804688, 1952.56396484375, 1579.2314453125, 753.3538818359375, 3595.890625, 1437.850830078125, 961.2086181640625, 553.3472290039062, 482.33282470703125, 399.30999755859375, 398.35125732421875, 252.85447692871094, 191.36891174316406, 182.71717834472656, 223.822265625, 172.84568786621094, 165.2998046875, 163.91859436035156, 609.9368896484375, 146.9442596435547, 141.65451049804688, 141.54428100585938, 136.00672912597656, 115.02913665771484, 443.49969482421875, 99.88409423828125, 99.50780487060547, 92.96756744384766, 90.90983581542969, 87.05217742919922, 84.5860366821289, 80.68604278564453, 80.2596435546875, 79.6646728515625, 75.7165756225586, 72.92438507080078, 168.58905029296875, 210.0288543701172, 196.1249542236328, 433.6009521484375, 212.06809997558594, 201.28170776367188, 198.0824432373047, 123.44082641601562, 441.9649963378906, 317.251220703125, 271.87567138671875, 234.5247039794922, 245.8504638671875, 1412.4317626953125, 839.9559326171875, 1037.6324462890625, 649.734130859375, 375.2890319824219, 405.3058166503906, 413.5950012207031, 415.50531005859375, 4386.1630859375, 673.6631469726562, 1188.3048095703125, 2291.275146484375, 567.3564453125, 3196.76171875, 1311.051025390625, 3595.890625, 6522.322265625, 1437.850830078125, 3661.48681640625, 1372.7470703125, 1215.9266357421875, 2435.24755859375, 1861.865234375, 175.84817504882812, 155.0845184326172, 131.82684326171875, 125.32411193847656, 124.8296127319336, 120.03018188476562, 103.00587463378906, 102.2729721069336, 90.72004699707031, 89.05823516845703, 86.75358581542969, 85.8779296875, 82.39875030517578, 78.55306243896484, 75.07569122314453, 61.21253967285156, 61.98337173461914, 58.71821212768555, 55.865081787109375, 55.04456329345703, 53.00520706176758, 51.1567497253418, 48.831016540527344, 46.230533599853516, 45.66910934448242, 44.052268981933594, 44.002159118652344, 43.88633728027344, 42.22502899169922, 41.59199142456055, 69.23892211914062, 185.70338439941406, 604.3547973632812, 101.39520263671875, 89.52424621582031, 318.7398986816406, 488.44964599609375, 212.95188903808594, 98.53950500488281, 491.55322265625, 135.91864013671875, 621.766845703125, 1861.865234375, 186.3846435546875, 605.91796875, 389.3877258300781, 212.4189910888672, 364.9482421875, 618.0249633789062, 627.003662109375, 352.8154296875, 720.7659301757812, 727.1455078125, 311.680419921875, 388.5077819824219, 337.101318359375, 266.51959228515625, 4386.1630859375, 1539.773681640625, 3661.48681640625, 3157.121337890625, 577.1058349609375, 601.9534301757812, 1435.9315185546875, 860.6285400390625, 660.9306640625, 2677.879638671875, 1100.7008056640625, 4198.10693359375, 2435.24755859375, 6522.322265625, 1679.6986083984375, 1063.51806640625, 2655.696533203125, 2300.35791015625, 1477.19140625, 1486.8424072265625, 1395.28955078125, 864.1657104492188, 276.407470703125, 254.82627868652344, 188.9697723388672, 149.81771850585938, 136.92343139648438, 104.5945053100586, 84.71656799316406, 84.53953552246094, 83.42819213867188, 80.5018081665039, 71.37694549560547, 64.04412078857422, 62.23666000366211, 59.26755905151367, 85.42658233642578, 56.325592041015625, 53.41267013549805, 51.04313278198242, 49.000091552734375, 48.455772399902344, 45.85856628417969, 43.82041931152344, 43.74522399902344, 43.589847564697266, 40.45204544067383, 40.3422737121582, 713.6851806640625, 40.31522750854492, 39.721073150634766, 259.8905029296875, 178.1197967529297, 79.9290771484375, 1897.7415771484375, 690.59326171875, 227.6531219482422, 319.570556640625, 403.207763671875, 920.4088745117188, 284.4378967285156, 223.45751953125, 191.94972229003906, 386.0666809082031, 371.46636962890625, 119.31017303466797, 1626.025146484375, 310.7137451171875, 316.1112060546875, 718.6887817382812, 515.4310302734375, 637.3079833984375, 968.1824951171875, 742.422607421875, 1044.8529052734375, 497.6968078613281, 1486.21826171875, 1304.6632080078125, 545.914794921875, 1074.10400390625, 629.2601928710938, 641.7589721679688, 1440.4356689453125, 869.0209350585938, 594.3228759765625, 681.3598022460938, 3595.890625, 1165.3524169921875, 1570.6453857421875, 259.5802307128906, 242.1396942138672, 186.0799102783203, 97.291748046875, 86.3548583984375, 82.13876342773438, 80.24304962158203, 76.8095932006836, 69.14266967773438, 64.6602554321289, 63.13774108886719, 62.74003982543945, 60.1209602355957, 57.84125518798828, 55.86172103881836, 55.281715393066406, 54.23563003540039, 52.503639221191406, 50.99462890625, 50.122798919677734, 53.72987365722656, 49.15007019042969, 48.87437057495117, 45.51898193359375, 45.030120849609375, 44.862457275390625, 44.61698532104492, 43.26600646972656, 41.2955436706543, 40.76174545288086, 60.38846969604492, 438.54083251953125, 164.37814331054688, 223.87095642089844, 459.1128234863281, 1257.5555419921875, 138.65524291992188, 906.3802490234375, 135.37051391601562, 811.1742553710938, 417.69622802734375, 653.3084106445312, 381.1078796386719, 110.11673736572266, 1028.391845703125, 211.61595153808594, 105.34910583496094, 113.74861907958984, 1584.185546875, 517.7003173828125, 289.5295104980469, 1596.2904052734375, 517.3699340820312, 624.251220703125, 814.2296752929688, 415.48565673828125, 155.41543579101562, 869.0209350585938, 303.35687255859375, 400.4762268066406, 1486.21826171875, 829.3521118164062, 664.302734375, 1316.60205078125, 544.627685546875, 851.2317504882812, 1165.3524169921875, 646.5177001953125, 3595.890625, 2089.84521484375, 928.0593872070312, 121.52633666992188, 120.67683410644531, 105.62184143066406, 72.32727813720703, 69.86882781982422, 69.74317932128906, 67.61246490478516, 63.50589370727539, 58.909706115722656, 51.59065628051758, 51.164031982421875, 49.09661865234375, 45.74555206298828, 44.91371154785156, 44.09990310668945, 43.915306091308594, 42.85737228393555, 42.39043045043945, 42.38461685180664, 95.08002471923828, 42.15046691894531, 41.67507553100586, 98.095947265625, 40.44641876220703, 40.15087127685547, 39.89701843261719, 38.60831069946289, 37.92502975463867, 37.02309036254883, 36.9041748046875, 114.831787109375, 466.50433349609375, 53.81974411010742, 70.99911499023438, 91.20304870605469, 85.68694305419922, 61.885196685791016, 404.62738037109375, 234.26022338867188, 345.2171936035156, 94.8748779296875, 577.78857421875, 128.91690063476562, 636.7451171875, 90.01254272460938, 272.2334899902344, 69.9238510131836, 515.4188232421875, 258.4012451171875, 319.5481872558594, 249.779052734375, 270.07025146484375, 630.2759399414062, 570.5338134765625, 387.8335876464844, 181.9576416015625, 198.6315460205078, 1596.2904052734375, 460.2893371582031, 928.0593872070312, 508.43145751953125, 272.4228820800781, 791.84423828125, 975.8888549804688, 247.58216857910156, 439.8578186035156, 1304.6632080078125, 1486.21826171875, 1477.19140625, 1440.4356689453125, 706.3545532226562, 891.0291137695312, 657.272216796875, 351.183349609375, 148.1891632080078, 113.73859405517578, 107.69763946533203, 97.09535217285156, 94.13997650146484, 80.60845184326172, 78.47240447998047, 78.37235260009766, 72.23053741455078, 67.66281127929688, 119.97128295898438, 66.40263366699219, 63.05943298339844, 57.14149856567383, 55.8861198425293, 55.76663589477539, 51.99930191040039, 50.27418518066406, 47.916648864746094, 47.79611587524414, 46.96552658081055, 45.22998809814453, 45.197296142578125, 43.872886657714844, 42.741085052490234, 42.525550842285156, 41.75362014770508, 40.957008361816406, 40.5823860168457, 263.29193115234375, 284.6132507324219, 99.17032623291016, 88.6021499633789, 213.8689727783203, 86.55270385742188, 193.9258270263672, 313.8115234375, 152.7103271484375, 301.1791687011719, 121.73011016845703, 109.0136489868164, 4198.10693359375, 2603.990234375, 574.1473388671875, 170.8272705078125, 1048.748779296875, 2217.060302734375, 1159.2352294921875, 512.2002563476562, 936.111083984375, 1541.0382080078125, 1952.56396484375, 3661.48681640625, 531.9334106445312, 6522.322265625, 2655.696533203125, 1053.7950439453125, 1539.773681640625, 3196.76171875, 2166.6640625, 1083.942138671875, 974.3375854492188, 3595.890625, 3157.121337890625, 1417.5384521484375, 1874.0604248046875, 1100.7008056640625, 2677.879638671875, 1249.3609619140625, 488.4153137207031, 382.5716857910156, 307.95941162109375, 253.35948181152344, 229.13446044921875, 205.49319458007812, 176.77011108398438, 132.54208374023438, 130.60606384277344, 120.33977508544922, 114.04788970947266, 106.58753204345703, 106.41783142089844, 101.75151062011719, 101.27275085449219, 98.70631408691406, 97.54228210449219, 94.19345092773438, 93.8426284790039, 87.64225769042969, 87.439697265625, 85.20874786376953, 81.59093475341797, 81.22563171386719, 79.37698364257812, 95.32354736328125, 73.55619049072266, 69.41156005859375, 67.24876403808594, 65.54667663574219, 623.1177368164062, 214.36073303222656, 619.2623901367188, 237.0881805419922, 686.9520263671875, 167.45944213867188, 193.3657684326172, 200.6136474609375, 601.9534301757812, 341.0712585449219, 383.324951171875, 229.26272583007812, 276.08953857421875, 348.1015319824219, 250.04615783691406, 272.99505615234375, 211.22023010253906, 480.3245849609375, 224.83065795898438, 291.3354797363281, 1188.3048095703125, 1276.929443359375, 393.1816711425781, 975.8888549804688, 374.7292175292969, 4386.1630859375, 630.2759399414062, 444.549560546875, 382.0414733886719, 369.3905334472656, 273.1927490234375, 149.2448272705078, 109.28638458251953, 100.43701171875, 96.7410659790039, 96.6175537109375, 94.72758483886719, 86.19332122802734, 83.44831848144531, 81.48657989501953, 81.27734375, 77.50376892089844, 856.9014892578125, 76.35334777832031, 69.17340850830078, 68.05355834960938, 63.41875076293945, 62.51680374145508, 62.46540451049805, 60.32126998901367, 56.799015045166016, 56.649471282958984, 54.197837829589844, 53.10722351074219, 49.94602966308594, 48.57118225097656, 591.2432250976562, 785.84765625, 84.07886505126953, 202.47994995117188, 139.3556365966797, 377.31488037109375, 102.67481231689453, 275.11376953125, 114.5877685546875, 198.6267852783203, 122.60238647460938, 180.13417053222656, 1579.2314453125, 619.6437377929688, 234.7406005859375, 267.36053466796875, 140.87762451171875, 174.79637145996094, 201.87530517578125, 193.09768676757812, 1395.28955078125, 403.59027099609375, 360.5221862792969, 354.9076843261719, 222.71470642089844, 2603.990234375, 2300.35791015625, 1005.9791259765625, 357.79071044921875, 1249.3609619140625, 2655.696533203125, 3196.76171875, 898.5352783203125, 269.3311767578125, 227.2163543701172, 198.86236572265625, 190.91160583496094, 173.49977111816406, 134.02267456054688, 117.40543365478516, 113.3298568725586, 90.73389434814453, 86.69268035888672, 85.78927612304688, 83.31788635253906, 82.64363098144531, 82.63489532470703, 78.39115905761719, 71.00455474853516, 69.06986999511719, 68.86590576171875, 65.14173889160156, 55.660308837890625, 54.55393981933594, 54.51054382324219, 51.9731330871582, 50.79768371582031, 49.69150924682617, 49.635013580322266, 170.5064239501953, 47.77873229980469, 47.5852165222168, 45.52218246459961, 486.67437744140625, 1342.3182373046875, 95.28206634521484, 172.4094696044922, 190.80860900878906, 75.18517303466797, 67.81458282470703, 134.53103637695312, 400.5646667480469, 248.3548583984375, 175.15823364257812, 515.4188232421875, 505.7813720703125, 1304.6632080078125, 486.2441711425781, 498.5438537597656, 1626.025146484375, 570.5338134765625, 3595.890625, 2300.35791015625, 2089.84521484375, 1579.2314453125, 237.82225036621094, 158.94447326660156, 113.68685150146484, 101.2804183959961, 85.63177490234375, 83.03118896484375, 82.9145736694336, 78.38219451904297, 75.23648834228516, 74.52265167236328, 73.0871353149414, 61.29245376586914, 59.08967971801758, 58.253265380859375, 52.1859245300293, 47.51642990112305, 43.872196197509766, 43.424957275390625, 43.28813171386719, 41.075836181640625, 38.397743225097656, 36.693538665771484, 36.53157043457031, 31.93045425415039, 28.203079223632812, 27.153291702270508, 26.51157569885254, 26.343469619750977, 24.681739807128906, 24.074478149414062, 611.6543579101562, 107.74493408203125, 102.14762115478516, 129.73568725585938, 121.65919494628906, 150.28785705566406, 103.36405944824219, 277.7134094238281, 269.5333251953125, 146.90086364746094, 101.65602111816406, 399.2850036621094, 337.51947021484375, 75.96155548095703, 149.13868713378906, 1435.9315185546875, 520.3251953125, 194.34788513183594, 361.1770935058594, 587.2780151367188, 428.9326477050781, 554.323486328125, 3196.76171875, 3661.48681640625, 388.6755676269531, 1861.865234375, 1746.8526611328125, 1626.025146484375, 603.3143310546875, 236.1751251220703, 355.35845947265625, 1679.6986083984375, 4386.1630859375, 392.661865234375, 200.3431854248047, 140.39581298828125, 92.36629486083984, 84.4614486694336, 80.10395050048828, 76.95382690429688, 74.68287658691406, 66.49903106689453, 61.314544677734375, 446.32684326171875, 54.36029815673828, 49.7244873046875, 49.25282669067383, 45.005062103271484, 43.04572296142578, 41.44131088256836, 41.18794631958008, 40.161399841308594, 39.01591873168945, 36.571773529052734, 35.574092864990234, 33.44158935546875, 33.08720779418945, 33.03361511230469, 32.77859878540039, 32.545562744140625, 32.16689682006836, 27.229551315307617, 24.69983673095703, 831.1193237304688, 120.62313842773438, 183.21334838867188, 182.26341247558594, 290.9722595214844, 88.304443359375, 646.5177001953125, 160.77369689941406, 136.12831115722656, 459.2077941894531, 590.2284545898438, 68.52078247070312, 144.39239501953125, 110.54254150390625, 131.0109405517578, 436.70361328125, 187.7544403076172, 156.12767028808594, 127.1064224243164, 607.8980102539062, 330.26141357421875, 412.36651611328125, 558.0175170898438, 1687.3316650390625, 1570.6453857421875, 415.09161376953125, 1318.84765625, 246.60398864746094, 1746.8526611328125, 135.04281616210938, 76.4189224243164, 71.05854797363281, 67.02529907226562, 55.84600067138672, 49.720516204833984, 35.500240325927734, 32.55158233642578, 32.003299713134766, 30.696266174316406, 30.522207260131836, 30.195030212402344, 29.99654769897461, 29.434343338012695, 29.407459259033203, 29.351455688476562, 28.94015121459961, 28.795658111572266, 28.777063369750977, 27.084182739257812, 27.074235916137695, 26.342905044555664, 26.325258255004883, 25.20851707458496, 25.206819534301758, 25.01144027709961, 24.622488021850586, 23.435556411743164, 23.10022735595703, 23.052560806274414, 244.62022399902344, 48.841712951660156, 242.5349578857422, 66.65360260009766, 64.92710876464844, 50.991703033447266, 30.84657859802246, 55.141929626464844, 46.94123077392578, 38.22337341308594, 106.33549499511719, 45.07244873046875, 143.186279296875, 100.2567138671875, 92.53770446777344, 48.607444763183594, 61.24706268310547, 81.31012725830078, 106.9365234375, 304.818359375, 351.13214111328125, 563.5072631835938, 158.3953857421875, 1539.773681640625, 427.00128173828125, 160.54144287109375, 2603.990234375, 891.0291137695312, 1217.099853515625, 160.26812744140625, 484.4537353515625, 231.53768920898438, 116.68399047851562, 73.24347686767578, 65.76109313964844, 54.3807487487793, 48.569610595703125, 45.28242111206055, 44.83475875854492, 41.969200134277344, 40.12546157836914, 39.149940490722656, 37.5588493347168, 37.17762756347656, 35.78453063964844, 35.48001480102539, 34.421852111816406, 34.257015228271484, 33.804718017578125, 33.62528610229492, 32.00005340576172, 31.35179901123047, 31.067459106445312, 30.62845230102539, 30.54851722717285, 30.36090660095215, 29.692584991455078, 29.645830154418945, 29.530357360839844, 28.64846420288086, 28.3974666595459, 28.2240047454834, 132.04818725585938, 86.60020446777344, 60.76652908325195, 517.287841796875, 74.48888397216797, 94.39590454101562, 46.72518539428711, 74.32774353027344, 124.90080261230469, 66.22416687011719, 619.6437377929688, 75.96891784667969, 163.54794311523438, 262.7485656738281, 1126.1624755859375, 132.2318878173828, 124.07992553710938, 204.904541015625, 464.7522277832031, 177.35037231445312, 88.47105407714844, 115.2376708984375, 1023.4810791015625, 219.6369171142578, 137.3130645751953, 389.4383850097656, 222.71470642089844, 2300.35791015625, 244.60238647460938, 158.19631958007812, 244.8038787841797, 316.5130920410156, 195.10623168945312, 95.17585754394531, 66.14019012451172, 52.270076751708984, 51.43903350830078, 49.08045959472656, 63.825401306152344, 46.58340835571289, 36.371456146240234, 36.32109832763672, 32.65700149536133, 31.77979278564453, 31.77979278564453, 31.412662506103516, 31.094085693359375, 30.69675064086914, 29.700647354125977, 28.464574813842773, 27.12114143371582, 26.428180694580078, 25.558917999267578, 23.710216522216797, 23.31532859802246, 22.855024337768555, 21.633563995361328, 21.567113876342773, 21.105337142944336, 21.051593780517578, 33.53934097290039, 98.3233413696289, 84.21190643310547, 128.6402130126953, 132.28317260742188, 275.59478759765625, 317.4952392578125, 359.8343505859375, 111.96774291992188, 313.9833068847656, 330.2176818847656, 253.20765686035156, 79.8681411743164, 133.47349548339844, 97.78075408935547, 281.441650390625, 82.71712493896484, 604.2345581054688, 59.963077545166016, 362.9366760253906, 497.71759033203125, 254.62815856933594, 105.76018524169922, 114.9127426147461, 706.3545532226562, 1005.9791259765625, 340.1973876953125, 1126.1624755859375, 2033.9144287109375, 576.0675048828125, 548.7652587890625, 55.81904602050781, 45.973026275634766, 38.753326416015625, 36.76430892944336, 35.37849807739258, 33.50297546386719, 32.04488754272461, 31.836694717407227, 29.312171936035156, 28.448354721069336, 26.983619689941406, 26.502330780029297, 26.005090713500977, 24.907560348510742, 24.496871948242188, 24.334884643554688, 23.30222511291504, 22.923757553100586, 21.61337661743164, 20.239215850830078, 19.845359802246094, 19.246307373046875, 19.073589324951172, 18.909561157226562, 18.745494842529297, 18.10071563720703, 17.67340087890625, 17.44186782836914, 17.091651916503906, 17.064437866210938, 62.45896911621094, 47.295955657958984, 69.66585540771484, 25.462814331054688, 41.69242477416992, 64.12410736083984, 278.3265380859375, 89.06990814208984, 105.0767593383789, 176.54684448242188, 37.58640670776367, 305.24169921875, 117.41339111328125, 239.750244140625, 87.05035400390625, 413.9092102050781, 99.98428344726562, 572.0574951171875, 76.33594512939453, 416.01611328125, 181.7189483642578, 116.21338653564453, 31.221315383911133, 30.32750701904297, 22.94024085998535, 22.621286392211914, 19.85416030883789, 19.48352813720703, 18.916671752929688, 18.32452964782715, 16.742206573486328, 13.764327049255371, 13.25178337097168, 13.086967468261719, 12.775456428527832, 11.474013328552246, 10.798824310302734, 10.701262474060059, 10.61338996887207, 10.4674711227417, 9.902154922485352, 9.403482437133789, 9.33396053314209, 8.858880043029785, 8.828941345214844, 8.671841621398926, 8.549386024475098, 8.53860855102539, 8.437348365783691, 8.376220703125, 8.3357515335083, 8.119255065917969, 20.700571060180664, 15.349249839782715, 40.65248107910156, 219.41246032714844, 50.07891082763672, 21.7097110748291, 20.65787124633789, 32.338645935058594, 67.30375671386719, 98.99256896972656, 64.45140075683594, 54.60271453857422, 50.13996124267578, 68.32220458984375, 166.57809448242188, 36.255271911621094, 129.86917114257812, 40.78432083129883, 27.36091423034668, 24.571226119995117, 23.956584930419922, 19.333980560302734, 17.78952407836914, 17.01150894165039, 16.840744018554688, 15.179240226745605, 14.841893196105957, 13.4783353805542, 13.020081520080566, 12.547515869140625, 10.617993354797363, 8.702129364013672, 7.813481330871582, 7.747236251831055, 7.350292682647705, 7.006337642669678, 6.579153537750244, 6.421525478363037, 6.223304748535156, 6.19149112701416, 5.873947620391846, 5.768141746520996, 5.639745235443115, 5.433874130249023, 5.2100348472595215, 4.554525375366211, 41.034088134765625, 86.29551696777344, 41.2291259765625, 238.97996520996094, 67.21424102783203, 8.419692993164062, 78.165283203125, 15.201231956481934], \"loglift\": [30.0, 29.0, 28.0, 27.0, 26.0, 25.0, 24.0, 23.0, 22.0, 21.0, 20.0, 19.0, 18.0, 17.0, 16.0, 15.0, 14.0, 13.0, 12.0, 11.0, 10.0, 9.0, 8.0, 7.0, 6.0, 5.0, 4.0, 3.0, 2.0, 1.0, 1.5146000385284424, 1.513800024986267, 1.5095000267028809, 1.5092999935150146, 1.5087000131607056, 1.5087000131607056, 1.5085999965667725, 1.507699966430664, 1.5075000524520874, 1.5075000524520874, 1.5068999528884888, 1.506700038909912, 1.506600022315979, 1.5062999725341797, 1.5058000087738037, 1.504699945449829, 1.5027999877929688, 1.5020999908447266, 1.5019999742507935, 1.5019999742507935, 1.5017999410629272, 1.5017000436782837, 1.501099944114685, 1.5010000467300415, 1.5009000301361084, 1.5006999969482422, 1.5003000497817993, 1.500100016593933, 1.499500036239624, 1.499500036239624, 1.4991999864578247, 1.4989999532699585, 1.480299949645996, 1.482800006866455, 1.4543999433517456, 1.4835000038146973, 1.4239000082015991, 1.388100028038025, 1.3982000350952148, 1.4673000574111938, 1.2725000381469727, 1.4325000047683716, 1.4483000040054321, 1.031599998474121, 1.3407000303268433, 1.2769999504089355, 1.1754000186920166, 0.8256000280380249, 1.2958999872207642, 0.871399998664856, 0.8962000012397766, 0.901199996471405, 0.8819000124931335, 0.9822999835014343, 1.1308000087738037, 1.1521999835968018, 0.9377999901771545, 0.8104000091552734, 0.7663999795913696, 1.0433000326156616, 0.9671000242233276, 0.8373000025749207, 0.548799991607666, 0.8644000291824341, 0.5895000100135803, 0.6133999824523926, 0.7002000212669373, 1.0492000579833984, 0.8251000046730042, 0.4196999967098236, 0.7944999933242798, 0.5245000123977661, 0.6798999905586243, 0.8493000268936157, 0.7890999913215637, 0.7063000202178955, 0.720300018787384, 0.5734000205993652, 0.3564000129699707, 0.6765999794006348, -0.03240000084042549, 0.2345000058412552, 0.6069999933242798, 0.4603999853134155, 2.3571999073028564, 2.355799913406372, 2.3557000160217285, 2.353300094604492, 2.3531999588012695, 2.3529000282287598, 2.352799892425537, 2.352799892425537, 2.352299928665161, 2.352099895477295, 2.3510000705718994, 2.350600004196167, 2.350399971008301, 2.349900007247925, 2.349100112915039, 2.348599910736084, 2.3480000495910645, 2.3480000495910645, 2.3477001190185547, 2.347599983215332, 2.3473000526428223, 2.3469998836517334, 2.3469998836517334, 2.34689998626709, 2.34689998626709, 2.3461999893188477, 2.346100091934204, 2.3457999229431152, 2.3457000255584717, 2.3454999923706055, 2.3348000049591064, 2.339900016784668, 2.3415000438690186, 2.2688000202178955, 2.285599946975708, 2.269399881362915, 2.284600019454956, 2.303499937057495, 2.2844998836517334, 2.3085999488830566, 2.29229998588562, 2.3239998817443848, 2.25819993019104, 2.2690000534057617, 2.25570011138916, 2.115299940109253, 2.264699935913086, 2.186000108718872, 2.1572000980377197, 2.0957999229431152, 2.0827999114990234, 1.7970000505447388, 1.539199948310852, 1.7719000577926636, 1.454300045967102, 1.500599980354309, 2.049499988555908, 2.0315001010894775, 1.3773000240325928, 1.8949999809265137, 1.8845000267028809, 0.92330002784729, 1.342900037765503, 1.2618999481201172, 0.7135999798774719, 0.44339999556541443, 1.3035000562667847, 0.5974000096321106, 0.9384999871253967, 1.3730000257492065, 1.0098999738693237, 0.5181999802589417, 1.5068000555038452, 0.2676999866962433, 0.7307000160217285, 0.39309999346733093, 2.5044000148773193, 2.503700017929077, 2.503700017929077, 2.5035998821258545, 2.5004000663757324, 2.4993999004364014, 2.498800039291382, 2.496999979019165, 2.494800090789795, 2.494800090789795, 2.4944000244140625, 2.49429988861084, 2.4941000938415527, 2.4939000606536865, 2.493000030517578, 2.492799997329712, 2.492799997329712, 2.4923999309539795, 2.492300033569336, 2.4921998977661133, 2.4921000003814697, 2.492000102996826, 2.49180006980896, 2.4916999340057373, 2.4916000366210938, 2.491300106048584, 2.4911000728607178, 2.490999937057495, 2.4909000396728516, 2.4909000396728516, 2.4790000915527344, 2.441800117492676, 2.424299955368042, 2.476099967956543, 2.441200017929077, 2.390899896621704, 2.385999917984009, 2.3879001140594482, 2.373300075531006, 2.2876999378204346, 2.4086999893188477, 2.3375000953674316, 2.147700071334839, 2.3726000785827637, 2.0804998874664307, 2.0473999977111816, 2.031399965286255, 1.9657000303268433, 2.30679988861084, 2.0162999629974365, 1.7122999429702759, 2.119800090789795, 1.8767000436782837, 1.573199987411499, 2.080199956893921, 2.001800060272217, 1.9795000553131104, 1.6134999990463257, 1.8587000370025635, 0.6079000234603882, 0.19779999554157257, 0.3547999858856201, 0.48969998955726624, 0.852400004863739, 0.6912999749183655, 1.1306999921798706, 0.7311000227928162, 0.8650000095367432, 0.8985000252723694, 0.2671999931335449, 0.4580000042915344, 1.098099946975708, -0.4415000081062317, 0.42239999771118164, 2.527100086212158, 2.526400089263916, 2.526099920272827, 2.525700092315674, 2.525700092315674, 2.524399995803833, 2.523200035095215, 2.5230000019073486, 2.522900104522705, 2.522700071334839, 2.52239990234375, 2.52239990234375, 2.5218000411987305, 2.521699905395508, 2.5215001106262207, 2.5215001106262207, 2.521199941635132, 2.5199999809265137, 2.5188000202178955, 2.518699884414673, 2.518699884414673, 2.5179998874664307, 2.5178000926971436, 2.5172998905181885, 2.5169999599456787, 2.5164999961853027, 2.516400098800659, 2.5162999629974365, 2.515700101852417, 2.5153000354766846, 2.5114998817443848, 2.4979000091552734, 2.499000072479248, 2.480600118637085, 2.482300043106079, 2.47189998626709, 2.4618000984191895, 2.4941000938415527, 2.386899948120117, 2.326900005340576, 2.303499937057495, 2.324899911880493, 2.2934999465942383, 1.7609000205993652, 1.8350000381469727, 1.7098000049591064, 1.8863999843597412, 2.1064999103546143, 2.054500102996826, 2.009200096130371, 1.9986000061035156, 0.5584999918937683, 1.673799991607666, 1.2730000019073486, 0.8327000141143799, 1.749899983406067, 0.49219998717308044, 1.0752999782562256, 0.25380000472068787, -0.22010000050067902, 0.9663000106811523, 0.18000000715255737, 0.9085999727249146, 1.010200023651123, 0.33649998903274536, 0.5633000135421753, 2.6810998916625977, 2.6803998947143555, 2.6793999671936035, 2.678999900817871, 2.678999900817871, 2.6786000728607178, 2.6774001121520996, 2.677299976348877, 2.676100015640259, 2.6760001182556152, 2.6756999492645264, 2.675600051879883, 2.675100088119507, 2.674499988555908, 2.6740000247955322, 2.6712000370025635, 2.671099901199341, 2.6705000400543213, 2.6696999073028564, 2.6693999767303467, 2.668800115585327, 2.668100118637085, 2.6672000885009766, 2.6661999225616455, 2.6658999919891357, 2.66510009765625, 2.66510009765625, 2.66510009765625, 2.6642000675201416, 2.6638998985290527, 2.657599925994873, 2.630199909210205, 2.5550999641418457, 2.6191000938415527, 2.616300106048584, 2.41759991645813, 2.3422999382019043, 2.4572999477386475, 2.5576000213623047, 2.279099941253662, 2.493499994277954, 2.173099994659424, 1.9354000091552734, 2.4165000915527344, 2.107100009918213, 2.2005999088287354, 2.3297998905181885, 2.1665000915527344, 1.9810999631881714, 1.9212000370025635, 2.129499912261963, 1.8149000406265259, 1.8107999563217163, 2.1566998958587646, 2.024600028991699, 2.087100028991699, 2.1877999305725098, 0.807699978351593, 1.2343000173568726, 0.7520999908447266, 0.7663999795913696, 1.704699993133545, 1.6754000186920166, 1.1159000396728516, 1.4402999877929688, 1.5752999782562256, 0.5788999795913696, 1.2086000442504883, 0.1949000060558319, 0.5763999819755554, -0.2046000063419342, 0.8357999920845032, 1.1957000494003296, 0.4244999885559082, 0.5388000011444092, 0.8938999772071838, 0.8804000020027161, 0.8830999732017517, 2.7170000076293945, 2.7146999835968018, 2.7144999504089355, 2.713200092315674, 2.711899995803833, 2.7112998962402344, 2.709199905395508, 2.7070999145507812, 2.7070999145507812, 2.706899881362915, 2.7065000534057617, 2.7049999237060547, 2.7035000324249268, 2.7030999660491943, 2.7023000717163086, 2.7016000747680664, 2.7014999389648438, 2.7005999088287354, 2.6998000144958496, 2.6989998817443848, 2.6988000869750977, 2.697700023651123, 2.696700096130371, 2.696700096130371, 2.6965999603271484, 2.6949000358581543, 2.6947999000549316, 2.6947999000549316, 2.6947999000549316, 2.694499969482422, 2.6821000576019287, 2.685699939727783, 2.6933999061584473, 2.6540000438690186, 2.6572000980377197, 2.6651999950408936, 2.656100034713745, 2.647700071334839, 2.603300094604492, 2.6171000003814697, 2.621500015258789, 2.6177000999450684, 2.558000087738037, 2.5413999557495117, 2.6389999389648438, 2.3729000091552734, 2.5423998832702637, 2.5020999908447266, 2.319999933242798, 2.3241000175476074, 2.2307000160217285, 2.1145999431610107, 2.172300100326538, 2.0381999015808105, 2.2265000343322754, 1.8782000541687012, 1.835800051689148, 2.127000093460083, 1.7755999565124512, 2.0083999633789062, 1.9903000593185425, 1.4957000017166138, 1.732800006866455, 1.9875999689102173, 1.8623000383377075, 0.3822000026702881, 1.3675999641418457, 1.0587999820709229, 2.8034000396728516, 2.8032000064849854, 2.802000045776367, 2.797499895095825, 2.7962000370025635, 2.7957000732421875, 2.7953999042510986, 2.7948999404907227, 2.7934999465942383, 2.79259991645813, 2.79229998588562, 2.7922000885009766, 2.7915000915527344, 2.7908999919891357, 2.790299892425537, 2.79010009765625, 2.789799928665161, 2.7892000675201416, 2.7887001037597656, 2.7883999347686768, 2.7881999015808105, 2.7880001068115234, 2.787899971008301, 2.7864999771118164, 2.78629994392395, 2.7862000465393066, 2.786099910736084, 2.785399913787842, 2.78439998626709, 2.78410005569458, 2.782900094985962, 2.7523000240325928, 2.753499984741211, 2.724900007247925, 2.6923999786376953, 2.599900007247925, 2.724299907684326, 2.5743000507354736, 2.712399959564209, 2.5564000606536865, 2.58489990234375, 2.5339999198913574, 2.580199956893921, 2.710700035095215, 2.4193999767303467, 2.61299991607666, 2.6907999515533447, 2.67330002784729, 2.1338999271392822, 2.339400053024292, 2.4535000324249268, 2.0425000190734863, 2.3046000003814697, 2.1814000606536865, 2.103300094604492, 2.286600112915039, 2.5817999839782715, 1.9838000535964966, 2.3169000148773193, 2.2044999599456787, 1.6668000221252441, 1.9039000272750854, 1.9645999670028687, 1.6050000190734863, 2.0081000328063965, 1.7259999513626099, 1.493399977684021, 1.8819999694824219, 0.5896000266075134, 0.6902999877929688, 1.417799949645996, 2.8610000610351562, 2.8608999252319336, 2.859800100326538, 2.855299949645996, 2.855299949645996, 2.855299949645996, 2.8548998832702637, 2.8540000915527344, 2.852799892425537, 2.8505001068115234, 2.850399971008301, 2.849600076675415, 2.8482000827789307, 2.8478000164031982, 2.847399950027466, 2.8471999168395996, 2.8468000888824463, 2.84660005569458, 2.84660005569458, 2.8464999198913574, 2.8464999198913574, 2.8461999893188477, 2.8454999923706055, 2.8454999923706055, 2.8452999591827393, 2.8452000617980957, 2.844399929046631, 2.8440001010894775, 2.8433001041412354, 2.8433001041412354, 2.8282999992370605, 2.7816998958587646, 2.828900098800659, 2.814199924468994, 2.788300037384033, 2.7548999786376953, 2.7822000980377197, 2.451900005340576, 2.5429999828338623, 2.448199987411499, 2.6914000511169434, 2.3255999088287354, 2.62280011177063, 2.2672998905181885, 2.6921000480651855, 2.430999994277954, 2.748300075531006, 2.1619999408721924, 2.361999988555908, 2.2948999404907227, 2.3461999893188477, 2.314500093460083, 1.981600046157837, 1.9912999868392944, 2.135499954223633, 2.39520001411438, 2.336699962615967, 1.3034000396728516, 1.8896000385284424, 1.503999948501587, 1.8116999864578247, 2.12719988822937, 1.5370999574661255, 1.2834999561309814, 2.151400089263916, 1.7055000066757202, 0.791700005531311, 0.6251999735832214, 0.6220999956130981, 0.5889999866485596, 1.191499948501587, 0.9731000065803528, 1.2404999732971191, 2.9595000743865967, 2.955899953842163, 2.9539999961853027, 2.9535000324249268, 2.9526000022888184, 2.9523000717163086, 2.9505999088287354, 2.9502999782562256, 2.9502999782562256, 2.9493000507354736, 2.9484000205993652, 2.9482998847961426, 2.9481000900268555, 2.9474000930786133, 2.9458000659942627, 2.945499897003174, 2.9453999996185303, 2.944200038909912, 2.9435999393463135, 2.942699909210205, 2.9426000118255615, 2.9423000812530518, 2.941499948501587, 2.941499948501587, 2.9407999515533447, 2.9402999877929688, 2.940200090408325, 2.9398000240325928, 2.939300060272217, 2.9391000270843506, 2.9124999046325684, 2.8770999908447266, 2.90339994430542, 2.891700029373169, 2.762500047683716, 2.858099937438965, 2.7197000980377197, 2.503200054168701, 2.664599895477295, 2.419800043106079, 2.66759991645813, 2.6926000118255615, 1.3526999950408936, 1.4888999462127686, 1.954300045967102, 2.4419000148773193, 1.5757999420166016, 1.1845999956130981, 1.4622999429702759, 1.867400050163269, 1.5144000053405762, 1.1727999448776245, 1.0246000289916992, 0.5702000260353088, 1.756600022315979, 0.13689999282360077, 0.7049000263214111, 1.2878999710083008, 1.0369999408721924, 0.49470001459121704, 0.7384999990463257, 1.2181999683380127, 1.2812999486923218, 0.2752000093460083, 0.365200012922287, 0.9751999974250793, 0.6995999813079834, 1.142699956893921, 0.31679999828338623, 1.0210000276565552, 3.0174999237060547, 3.016900062561035, 3.016400098800659, 3.015700101852417, 3.0153000354766846, 3.014899969100952, 3.0141000747680664, 3.012399911880493, 3.0123000144958496, 3.0116000175476074, 3.011199951171875, 3.0106000900268555, 3.0106000900268555, 3.010200023651123, 3.010200023651123, 3.0099000930786133, 3.0097999572753906, 3.009500026702881, 3.009500026702881, 3.0088000297546387, 3.008699893951416, 3.0083999633789062, 3.007999897003174, 3.0078999996185303, 3.0076000690460205, 3.0067999362945557, 3.006700038909912, 3.0058999061584473, 3.005500078201294, 3.0051000118255615, 2.99180006980896, 2.9653000831604004, 2.8145999908447266, 2.897900104522705, 2.7843000888824463, 2.931999921798706, 2.8329999446868896, 2.8231000900268555, 2.5648000240325928, 2.6526999473571777, 2.601099967956543, 2.7455999851226807, 2.6401000022888184, 2.5344998836517334, 2.6514999866485596, 2.5820999145507812, 2.690700054168701, 2.2816998958587646, 2.6407999992370605, 2.4971001148223877, 1.6159000396728516, 1.3763999938964844, 2.202899932861328, 1.5194000005722046, 2.2269999980926514, 0.18639999628067017, 1.736199975013733, 3.262500047683716, 3.262200117111206, 3.2620999813079834, 3.261199951171875, 3.2583999633789062, 3.2560999393463135, 3.2553000450134277, 3.255000114440918, 3.255000114440918, 3.254699945449829, 3.2537999153137207, 3.2534000873565674, 3.253200054168701, 3.2530999183654785, 3.2525999546051025, 3.2523999214172363, 3.2523999214172363, 3.2511000633239746, 3.2509000301361084, 3.2499001026153564, 3.2497000694274902, 3.2497000694274902, 3.2490999698638916, 3.248199939727783, 3.2481000423431396, 3.2474000453948975, 3.246999979019165, 3.2458999156951904, 3.245300054550171, 3.244499921798706, 3.235599994659424, 3.242799997329712, 3.2249999046325684, 3.2235000133514404, 3.1714000701904297, 3.2223000526428223, 3.114000082015991, 3.189199924468994, 3.054800033569336, 3.1298999786376953, 3.0336999893188477, 2.3956000804901123, 2.622999906539917, 2.901599884033203, 2.8424999713897705, 3.0513999462127686, 2.970599889755249, 2.914599895477295, 2.9047999382019043, 1.8798999786376953, 2.4605000019073486, 2.4707000255584717, 2.424099922180176, 2.7046000957489014, 0.9775999784469604, 1.0396000146865845, 1.611899971961975, 2.3362998962402344, 1.2973999977111816, 0.4733000099658966, 0.2903999984264374, 1.430400013923645, 3.6268999576568604, 3.626199960708618, 3.6256000995635986, 3.6254000663757324, 3.625, 3.6233999729156494, 3.6224000453948975, 3.6221001148223877, 3.6201000213623047, 3.6196000576019287, 3.619499921798706, 3.6191999912261963, 3.6191000938415527, 3.6191000938415527, 3.6184000968933105, 3.6171998977661133, 3.61680006980896, 3.61680006980896, 3.615999937057495, 3.613600015640259, 3.6131999492645264, 3.6131999492645264, 3.6124000549316406, 3.6119000911712646, 3.6115000247955322, 3.6115000247955322, 3.611299991607666, 3.61080002784729, 3.6106998920440674, 3.609800100326538, 3.5927999019622803, 3.535799980163574, 3.5869998931884766, 3.530400037765503, 3.518699884414673, 3.5657999515533447, 3.5648000240325928, 3.3975000381469727, 3.105299949645996, 3.0304999351501465, 3.0834999084472656, 2.303499937057495, 2.255500078201294, 1.5680999755859375, 2.2516000270843506, 2.2023000717163086, 1.2604000568389893, 2.0315001010894775, 0.2231999933719635, 0.5489000082015991, 0.6031000018119812, 0.8659999966621399, 3.7683000564575195, 3.766400098800659, 3.7641000747680664, 3.763000011444092, 3.761399984359741, 3.760999917984009, 3.760999917984009, 3.7602999210357666, 3.7597999572753906, 3.759700059890747, 3.759500026702881, 3.756999969482422, 3.7564001083374023, 3.756200075149536, 3.754300117492676, 3.752500057220459, 3.7509000301361084, 3.7506000995635986, 3.7506000995635986, 3.7493999004364014, 3.74780011177063, 3.7465999126434326, 3.746500015258789, 3.7427000999450684, 3.738800048828125, 3.737499952316284, 3.736599922180176, 3.7363998889923096, 3.7339000701904297, 3.7328999042510986, 3.7044999599456787, 3.6793999671936035, 3.6180999279022217, 3.596299886703491, 3.5833001136779785, 3.540299892425537, 3.566699981689453, 3.393199920654297, 3.388700008392334, 3.4951000213623047, 3.531899929046631, 2.919600009918213, 2.9351999759674072, 3.5009000301361084, 3.183199882507324, 2.0897998809814453, 2.552799940109253, 3.0481998920440674, 2.664799928665161, 2.3440001010894775, 2.510999917984009, 2.3238000869750977, 1.0710999965667725, 0.8780999779701233, 2.52810001373291, 1.284999966621399, 1.313599944114685, 1.2822999954223633, 2.064500093460083, 2.8570001125335693, 2.483599901199341, 1.0233999490737915, 0.07819999754428864, 3.847899913787842, 3.8457000255584717, 3.8436999320983887, 3.8403000831604004, 3.8392999172210693, 3.83870005607605, 3.838200092315674, 3.837899923324585, 3.8362998962402344, 3.835099935531616, 3.8343000411987305, 3.8331000804901123, 3.8315000534057617, 3.8313000202178955, 3.8294999599456787, 3.8285999298095703, 3.827699899673462, 3.8276000022888184, 3.8269999027252197, 3.8262999057769775, 3.8245999813079834, 3.823899984359741, 3.822200059890747, 3.821899890899658, 3.821899890899658, 3.8215999603271484, 3.8213999271392822, 3.8210999965667725, 3.815700054168701, 3.812000036239624, 3.796299934387207, 3.793100118637085, 3.736599922180176, 3.734299898147583, 3.563800096511841, 3.6847000122070312, 3.3429999351501465, 3.556999921798706, 3.553800106048584, 3.2916998863220215, 3.1912999153137207, 3.687700033187866, 3.4835000038146973, 3.5257999897003174, 3.4382998943328857, 3.003700017929077, 3.2971999645233154, 3.3213999271392822, 3.3866000175476074, 2.539400100708008, 2.819499969482422, 2.680299997329712, 2.4356000423431396, 1.6332000494003296, 1.4743000268936157, 2.447499990463257, 1.3746000528335571, 2.7314999103546143, 0.7910000085830688, 3.9581000804901123, 3.9528000354766846, 3.9518001079559326, 3.9509999752044678, 3.948199987411499, 3.9460999965667725, 3.938499927520752, 3.936000108718872, 3.935499906539917, 3.934299945831299, 3.9340999126434326, 3.9337000846862793, 3.933500051498413, 3.9328999519348145, 3.9328999519348145, 3.932800054550171, 3.9323999881744385, 3.9321999549865723, 3.9321999549865723, 3.9300999641418457, 3.9300999641418457, 3.9291000366210938, 3.9291000366210938, 3.9274001121520996, 3.9274001121520996, 3.9270999431610107, 3.926500082015991, 3.924499988555908, 3.9238998889923096, 3.923799991607666, 3.8752999305725098, 3.899899959564209, 3.759200096130371, 3.8213999271392822, 3.82069993019104, 3.8345000743865967, 3.8993000984191895, 3.763200044631958, 3.7880001068115234, 3.8236000537872314, 3.485599994659424, 3.7535998821258545, 3.118499994277954, 3.2915000915527344, 3.3315000534057617, 3.661900043487549, 3.522900104522705, 3.347599983215332, 3.1642000675201416, 2.4514000415802, 2.333199977874756, 1.8595999479293823, 2.711199998855591, 0.8173999786376953, 1.8366999626159668, 2.6242001056671143, 0.19020000100135803, 1.094499945640564, 0.7505000233650208, 2.6231000423431396, 1.5535999536514282, 2.261399984359741, 4.106800079345703, 4.1020002365112305, 4.100500106811523, 4.097499847412109, 4.095399856567383, 4.093999862670898, 4.093800067901611, 4.092400074005127, 4.091300010681152, 4.090700149536133, 4.089700222015381, 4.089399814605713, 4.088399887084961, 4.088200092315674, 4.087399959564209, 4.087299823760986, 4.086900234222412, 4.086699962615967, 4.085299968719482, 4.084700107574463, 4.084400177001953, 4.083899974822998, 4.083899974822998, 4.083700180053711, 4.083000183105469, 4.082900047302246, 4.082799911499023, 4.0817999839782715, 4.081500053405762, 4.081299781799316, 4.0746002197265625, 4.0578999519348145, 3.9941000938415527, 3.6310999393463135, 3.9403998851776123, 3.858799934387207, 3.973099946975708, 3.8368000984191895, 3.599600076675415, 3.8187999725341797, 2.9079999923706055, 3.7177999019622803, 3.3847999572753906, 3.15120005607605, 2.3394999504089355, 3.3954999446868896, 3.410599946975708, 3.101900100708008, 2.546600103378296, 3.1328001022338867, 3.552500009536743, 3.3721001148223877, 1.9026000499725342, 2.9077999591827393, 3.236299991607666, 2.4539999961853027, 2.819700002670288, 0.9146000146865845, 2.72189998626709, 3.081700086593628, 2.596299886703491, 4.226799964904785, 4.224899768829346, 4.219900131225586, 4.2154998779296875, 4.211699962615967, 4.211400032043457, 4.210599899291992, 4.210000038146973, 4.209499835968018, 4.203800201416016, 4.203700065612793, 4.200799942016602, 4.199999809265137, 4.199999809265137, 4.1996002197265625, 4.1992998123168945, 4.19890022277832, 4.197800159454346, 4.196400165557861, 4.194799900054932, 4.19379997253418, 4.192599773406982, 4.189599990844727, 4.188899993896484, 4.1880998611450195, 4.185699939727783, 4.185500144958496, 4.184599876403809, 4.1844000816345215, 4.183499813079834, 4.071599960327148, 4.076900005340576, 4.03249979019165, 4.025100231170654, 3.9474000930786133, 3.85509991645813, 3.82669997215271, 3.941800117492676, 3.6772000789642334, 3.623300075531006, 3.6377999782562256, 3.9149999618530273, 3.7353999614715576, 3.826900005340576, 3.3385000228881836, 3.8001999855041504, 2.936300039291382, 3.913100004196167, 3.001800060272217, 2.8234000205993652, 3.1324000358581543, 3.6057000160217285, 3.553999900817871, 2.3642001152038574, 2.000699996948242, 2.7629001140594482, 1.7388999462127686, 1.2545000314712524, 2.216099977493286, 2.115299940109253, 4.811500072479248, 4.8078999519348145, 4.803999900817871, 4.802599906921387, 4.801599979400635, 4.800099849700928, 4.798799991607666, 4.798600196838379, 4.796000003814697, 4.795000076293945, 4.793099880218506, 4.792500019073486, 4.791800022125244, 4.79010009765625, 4.7895002365112305, 4.7891998291015625, 4.787499904632568, 4.786799907684326, 4.784200191497803, 4.781099796295166, 4.780099868774414, 4.778600215911865, 4.77810001373291, 4.777699947357178, 4.777200222015381, 4.775400161743164, 4.77400016784668, 4.7733001708984375, 4.77209997177124, 4.77209997177124, 4.726500034332275, 4.690199851989746, 4.573299884796143, 4.6717000007629395, 4.513999938964844, 4.363900184631348, 3.8066999912261963, 4.095600128173828, 4.020500183105469, 3.779599905014038, 4.467199802398682, 3.328000068664551, 3.7458999156951904, 3.3032000064849854, 3.873500108718872, 2.548099994659424, 3.669300079345703, 2.1858999729156494, 3.8540000915527344, 2.198699951171875, 2.949199914932251, 3.369999885559082, 5.497799873352051, 5.4969000816345215, 5.486499786376953, 5.485899925231934, 5.479800224304199, 5.478799819946289, 5.47730016708374, 5.475599765777588, 5.4704999923706055, 5.457399845123291, 5.454599857330322, 5.45359992980957, 5.451700210571289, 5.442599773406982, 5.436999797821045, 5.436200141906738, 5.435400009155273, 5.434000015258789, 5.428299903869629, 5.422699928283691, 5.421899795532227, 5.415800094604492, 5.41540002822876, 5.413300037384033, 5.411499977111816, 5.411399841308594, 5.409900188446045, 5.408899784088135, 5.408299922943115, 5.404900074005127, 5.396599769592285, 5.358799934387207, 5.180699825286865, 4.926599979400635, 4.9857001304626465, 5.141900062561035, 5.140200138092041, 4.963799953460693, 4.502999782562256, 4.253600120544434, 4.436399936676025, 4.4959001541137695, 4.497600078582764, 4.187900066375732, 3.4382998943328857, 4.472899913787842, 5.951099872589111, 5.934899806976318, 5.923099994659424, 5.919000148773193, 5.917900085449219, 5.9079999923706055, 5.903500080108643, 5.900899887084961, 5.900300025939941, 5.893700122833252, 5.892199993133545, 5.885300159454346, 5.882599830627441, 5.8796000480651855, 5.86460018157959, 5.842700004577637, 5.82859992980957, 5.827400207519531, 5.819799900054932, 5.8125, 5.802299976348877, 5.798099994659424, 5.792500019073486, 5.791600227355957, 5.781700134277344, 5.778200149536133, 5.77370023727417, 5.765999794006348, 5.756800174713135, 5.724100112915039, 5.598999977111816, 5.522299766540527, 5.455699920654297, 3.528899908065796, 4.264900207519531, 5.531700134277344, 3.61680006980896, 4.929800033569336], \"logprob\": [30.0, 29.0, 28.0, 27.0, 26.0, 25.0, 24.0, 23.0, 22.0, 21.0, 20.0, 19.0, 18.0, 17.0, 16.0, 15.0, 14.0, 13.0, 12.0, 11.0, 10.0, 9.0, 8.0, 7.0, 6.0, 5.0, 4.0, 3.0, 2.0, 1.0, -6.758299827575684, -6.937699794769287, -7.602399826049805, -7.631499767303467, -7.684000015258789, -5.946599960327148, -7.688799858093262, -7.795000076293945, -7.809700012207031, -7.8125, -7.869200229644775, -7.8780999183654785, -7.8892998695373535, -7.916399955749512, -7.9567999839782715, -8.04419994354248, -8.161800384521484, -8.216699600219727, -8.223099708557129, -8.22249984741211, -8.232500076293945, -8.2431001663208, -8.27929973602295, -8.283300399780273, -8.28950023651123, -8.302900314331055, -8.326800346374512, -8.333900451660156, -8.366100311279297, -8.371100425720215, -6.243100166320801, -7.255199909210205, -7.315800189971924, -7.598299980163574, -7.063499927520752, -7.955399990081787, -6.939000129699707, -6.435999870300293, -6.732100009918213, -7.7322001457214355, -5.344699859619141, -7.499100208282471, -7.701300144195557, -3.954900026321411, -6.877900123596191, -6.672399997711182, -6.2256999015808105, -4.557700157165527, -6.894499778747559, -4.828199863433838, -4.980500221252441, -5.070400238037109, -5.206600189208984, -5.808599948883057, -6.429299831390381, -6.505300045013428, -5.782899856567383, -5.382199764251709, -5.299200057983398, -6.176300048828125, -5.960700035095215, -5.591899871826172, -4.878300189971924, -5.732500076293945, -5.122499942779541, -5.271599769592285, -5.533400058746338, -6.258699893951416, -5.814000129699707, -5.144199848175049, -5.834199905395508, -5.380199909210205, -5.704500198364258, -5.960000038146973, -5.878799915313721, -5.80649995803833, -5.87060022354126, -5.769700050354004, -5.676199913024902, -5.868299961090088, -5.614299774169922, -5.7941999435424805, -5.857999801635742, -5.843599796295166, -4.980299949645996, -5.613800048828125, -5.67579984664917, -6.267899990081787, -6.272600173950195, -6.326700210571289, -6.3414998054504395, -6.341800212860107, -6.426300048828125, -6.457799911499023, -6.624899864196777, -6.672800064086914, -6.700399875640869, -6.74429988861084, -6.841300010681152, -6.895899772644043, -6.948800086975098, -6.949699878692627, -6.9745001792907715, -6.9918999671936035, -7.013400077819824, -7.0416998863220215, -7.044099807739258, -7.047999858856201, -7.053899765014648, -7.109899997711182, -7.117499828338623, -7.14109992980957, -7.149499893188477, -7.160299777984619, -4.759799957275391, -5.4980998039245605, -5.918300151824951, -4.497499942779541, -5.127500057220459, -4.937099933624268, -5.302499771118164, -5.785399913787842, -5.406000137329102, -6.0046000480651855, -5.940999984741211, -6.594900131225586, -5.585400104522705, -5.870100021362305, -5.874100208282471, -4.469699859619141, -6.103400230407715, -5.668300151824951, -5.784800052642822, -5.626999855041504, -5.655600070953369, -4.789599895477295, -4.798399925231934, -5.259799957275391, -4.670300006866455, -4.8379998207092285, -5.819200038909912, -5.800000190734863, -4.926700115203857, -5.614200115203857, -5.608399868011475, -4.640500068664551, -5.067299842834473, -5.041999816894531, -4.713500022888184, -4.543099880218506, -5.329100131988525, -4.984499931335449, -5.213200092315674, -5.417200088500977, -5.39169979095459, -5.358500003814697, -5.560400009155273, -5.444399833679199, -5.502900123596191, -5.511600017547607, -5.861299991607666, -6.126999855041504, -6.130499839782715, -6.150000095367432, -6.611299991607666, -6.717700004577637, -6.780099868774414, -6.9369001388549805, -7.1041998863220215, -7.1082000732421875, -7.133399963378906, -7.142300128936768, -7.151100158691406, -7.1645002365112305, -7.225100040435791, -7.237199783325195, -7.240099906921387, -7.26140022277832, -7.2683000564575195, -7.2718000411987305, -7.277699947357178, -7.285699844360352, -7.297599792480469, -7.30049991607666, -7.308800220489502, -7.32420015335083, -7.335299968719482, -7.345300197601318, -7.346700191497803, -7.350100040435791, -5.958199977874756, -5.334000110626221, -5.8821001052856445, -7.036900043487549, -6.4720001220703125, -6.069900035858154, -6.143099784851074, -6.229700088500977, -6.172800064086914, -5.661499977111816, -6.732500076293945, -6.4756999015808105, -5.882500171661377, -6.813399791717529, -5.829100131988525, -5.757299900054932, -5.840000152587891, -5.827199935913086, -6.733699798583984, -6.135700225830078, -5.601799964904785, -6.40369987487793, -5.952700138092041, -5.521900177001953, -6.374800205230713, -6.283100128173828, -6.284999847412109, -5.940400123596191, -6.253699779510498, -5.424699783325195, -5.185500144958496, -5.530200004577637, -5.662099838256836, -5.821499824523926, -5.805500030517578, -5.973899841308594, -5.936800003051758, -5.973499774932861, -5.987599849700928, -5.9253997802734375, -5.946800231933594, -6.046800136566162, -6.023399829864502, -6.076200008392334, -4.374199867248535, -4.92710018157959, -5.064700126647949, -5.254000186920166, -5.256400108337402, -5.712299823760986, -5.992099761962891, -6.038599967956543, -5.8358001708984375, -6.094399929046631, -6.1392998695373535, -6.14769983291626, -4.8343000411987305, -6.257699966430664, -6.294600009918213, -6.295400142669678, -6.335599899291992, -6.504300117492676, -5.156000137329102, -6.646699905395508, -6.6504998207092285, -6.719200134277344, -6.741799831390381, -6.785600185394287, -6.814700126647949, -6.862400054931641, -6.867800235748291, -6.87529993057251, -6.926700115203857, -6.964799880981445, -6.130499839782715, -5.924300193786621, -5.991799831390381, -5.216700077056885, -5.930300235748291, -5.9928998947143555, -6.019000053405762, -6.45959997177124, -5.291399955749512, -5.6828999519348145, -5.8607001304626465, -5.986999988555908, -5.97130012512207, -4.755499839782715, -5.201099872589111, -5.114999771118164, -5.406599998474121, -5.735199928283691, -5.710299968719482, -5.735400199890137, -5.741399765014648, -4.82480001449585, -5.582900047302246, -5.416100025177002, -5.199999809265137, -5.678599834442139, -5.207399845123291, -5.515600204467773, -5.328100204467773, -5.206600189208984, -5.532299995422363, -5.383900165557861, -5.636300086975098, -5.656000137329102, -5.6350998878479, -5.676799774169922, -5.918700218200684, -6.045100212097168, -6.208600044250488, -6.2596001625061035, -6.263599872589111, -6.303100109100342, -6.457300186157227, -6.4644999504089355, -6.5854997634887695, -6.6041998863220215, -6.63070011138916, -6.640999794006348, -6.682799816131592, -6.731200218200684, -6.7769999504089355, -6.984000205993652, -6.971499919891357, -7.026199817657471, -7.0767998695373535, -7.091899871826172, -7.130300045013428, -7.166399955749512, -7.213900089263916, -7.269700050354004, -7.282100200653076, -7.318900108337402, -7.320099830627441, -7.322800159454346, -7.362199783325195, -7.377699851989746, -6.874300003051758, -5.91510009765625, -4.810200214385986, -6.531400203704834, -6.658699989318848, -5.587500095367432, -5.236000061035156, -5.951099872589111, -6.621399879455566, -5.292799949645996, -6.363900184631348, -5.16379976272583, -4.304699897766113, -6.125100135803223, -5.2555999755859375, -5.604300022125244, -6.081099987030029, -5.703199863433838, -5.361800193786621, -5.407400131225586, -5.77400016784668, -5.374300003051758, -5.36959981918335, -5.870800018310547, -5.782599925994873, -5.861999988555908, -5.996200084686279, -4.5756001472473145, -5.195799827575684, -4.811699867248535, -4.945700168609619, -5.7067999839782715, -5.693900108337402, -5.383999824523926, -5.571499824523926, -5.700500011444092, -5.297800064086914, -5.557199954986572, -5.2322001457214355, -5.395199775695801, -5.191100120544434, -5.507299900054932, -5.604499816894531, -5.4604997634887695, -5.4899001121521, -5.577700138092041, -5.58459997177124, -5.645500183105469, -4.2906999588012695, -5.4328999519348145, -5.514400005340576, -5.814700126647949, -6.0482001304626465, -6.138700008392334, -6.410200119018555, -6.6230998039245605, -6.625199794769287, -6.638599872589111, -6.674699783325195, -6.796500205993652, -6.906400203704834, -6.935400009155273, -6.985099792480469, -6.620299816131592, -7.036799907684326, -7.090799808502197, -7.13700008392334, -7.178699970245361, -7.190000057220459, -7.246200084686279, -7.292699813842773, -7.294400215148926, -7.298099994659424, -7.3744001388549805, -7.377200126647949, -4.504199981689453, -7.377900123596191, -7.393099784851074, -5.527200222015381, -5.901299953460693, -6.694900035858154, -3.5671000480651855, -4.57480001449585, -5.676400184631348, -5.346399784088135, -5.122300148010254, -4.341400146484375, -5.5019001960754395, -5.738699913024902, -5.894499778747559, -5.255499839782715, -5.3105998039245605, -6.348800182342529, -4.002699851989746, -5.4882001876831055, -5.511199951171875, -4.872099876403809, -5.200399875640869, -5.081600189208984, -4.779399871826172, -4.987299919128418, -4.779600143432617, -5.332900047302246, -4.587299823760986, -4.760000228881836, -5.340000152587891, -5.014699935913086, -5.3165998458862305, -5.315000057220459, -5.001100063323975, -5.2692999839782715, -5.394400119781494, -5.3831000328063965, -5.199699878692627, -5.341000080108643, -5.351500034332275, -5.4070000648498535, -5.476799964904785, -5.741300106048584, -6.3942999839782715, -6.514800071716309, -6.565400123596191, -6.589000225067139, -6.633200168609619, -6.739799976348877, -6.807700157165527, -6.831900119781494, -6.8383002281188965, -6.8815999031066895, -6.920899868011475, -6.956299781799316, -6.966899871826172, -6.986299991607666, -7.0192999839782715, -7.048999786376953, -7.0665998458862305, -6.997300148010254, -7.086599826812744, -7.092299938201904, -7.164899826049805, -7.175899982452393, -7.179699897766113, -7.185299873352051, -7.216700077056885, -7.2642998695373535, -7.277699947357178, -6.885700225830078, -4.933700084686279, -5.91379976272583, -5.633500099182129, -4.947700023651123, -4.032599925994873, -6.113100051879883, -4.385700225830078, -6.149099826812744, -4.514599800109863, -5.149799823760986, -4.753399848937988, -5.246200084686279, -6.3572001457214355, -4.414299964904785, -5.801700115203857, -6.421299934387207, -6.362199783325195, -4.2677998542785645, -5.180600166320801, -5.64769983291626, -4.351600170135498, -5.216100215911865, -5.151500225067139, -4.963900089263916, -5.453400135040283, -6.141600131988525, -5.0183000564575195, -5.737599849700928, -5.572299957275391, -4.798699855804443, -5.144999980926514, -5.306099891662598, -4.981599807739258, -5.461299896240234, -5.2967000007629395, -5.2153000831604, -5.415800094604492, -4.992300033569336, -5.434299945831299, -5.518599987030029, -6.10830020904541, -6.1153998374938965, -6.249800205230713, -6.632999897003174, -6.667500019073486, -6.669400215148926, -6.700799942016602, -6.764400005340576, -6.840700149536133, -6.975599765777588, -6.984000205993652, -7.026100158691406, -7.098199844360352, -7.1168999671936035, -7.1356000900268555, -7.139999866485596, -7.16480016708374, -7.176000118255615, -7.17609977722168, -6.368199825286865, -7.18179988861084, -7.193399906158447, -6.3379998207092285, -7.223999977111816, -7.231500148773193, -7.23799991607666, -7.271599769592285, -7.289899826049805, -7.314599990844727, -7.31790018081665, -6.197700023651123, -4.84250020980835, -6.954899787902832, -6.692599773406982, -6.468100070953369, -6.563899993896484, -6.861999988555908, -5.314599990844727, -5.769999980926514, -5.477099895477295, -6.5254998207092285, -5.084700107574463, -6.287499904632568, -5.04580020904541, -6.577400207519531, -5.731800079345703, -6.773799896240234, -5.362500190734863, -5.853000164031982, -5.707600116729736, -5.902699947357178, -5.856299877166748, -5.341700077056885, -5.431600093841553, -5.673399925231934, -6.170499801635742, -6.141300201416016, -5.09060001373291, -5.7480998039245605, -5.432400226593018, -5.726399898529053, -6.034900188446045, -5.558000087738037, -5.60260009765625, -6.106400012969971, -5.977499961853027, -5.803999900817871, -5.8403000831604, -5.849400043487549, -5.907800197601318, -6.0177998542785645, -6.004000186920166, -6.040900230407715, -4.948599815368652, -5.815100193023682, -6.081600189208984, -6.136600017547607, -6.241199970245361, -6.27239990234375, -6.429200172424316, -6.456399917602539, -6.457699775695801, -6.540299892425537, -6.606500148773193, -6.033899784088135, -6.6255998611450195, -6.677999973297119, -6.77810001373291, -6.8007001876831055, -6.8028998374938965, -6.874000072479248, -6.908400058746338, -6.957300186157227, -6.95989990234375, -6.977799892425537, -7.016200065612793, -7.017000198364258, -7.047299861907959, -7.073999881744385, -7.07919979095459, -7.097899913787842, -7.117599964141846, -7.126999855041504, -5.28380012512207, -5.241300106048584, -6.269199848175049, -6.393599987030029, -5.641600131988525, -6.450699806213379, -5.782299995422363, -5.517499923706055, -6.076399803161621, -5.641900062561035, -6.300000190734863, -6.38539981842041, -4.074399948120117, -4.415800094604492, -5.462299823760986, -6.1869001388549805, -5.23829984664917, -4.880899906158447, -5.2515997886657715, -5.663400173187256, -5.413300037384033, -5.256400108337402, -5.168000221252441, -4.99370002746582, -5.736400127410889, -4.849599838256836, -5.180099964141846, -5.521399974822998, -5.393099784851074, -5.204899787902832, -5.349999904632568, -5.562900066375732, -5.606400012969971, -5.306700229644775, -5.34689998626709, -5.537600040435791, -5.533999919891357, -5.6230998039245605, -5.559899806976318, -5.618100166320801, -4.560800075531006, -4.805600166320801, -5.023099899291992, -5.218999862670898, -5.319799900054932, -5.429200172424316, -5.58050012588501, -5.870200157165527, -5.885000228881836, -5.96750020980835, -6.021599769592285, -6.089900016784668, -6.0914998054504395, -6.13670015335083, -6.141499996185303, -6.167399883270264, -6.1793999671936035, -6.214600086212158, -6.218400001525879, -6.287499904632568, -6.28980016708374, -6.315899848937988, -6.359799861907959, -6.364299774169922, -6.387599945068359, -6.205399990081787, -6.464700222015381, -6.523499965667725, -6.555600166320801, -6.581600189208984, -4.3429999351501465, -5.436500072479248, -4.526400089263916, -5.40310001373291, -4.452899932861328, -5.716700077056885, -5.671899795532227, -5.644999980926514, -4.804500102996826, -5.284599781036377, -5.2195000648498535, -5.589000225067139, -5.508699893951416, -5.382500171661377, -5.59630012512207, -5.577899932861328, -5.725900173187256, -5.313300132751465, -5.7133002281188965, -5.597899913787842, -5.073299884796143, -5.240900039672852, -5.592299938201904, -5.366700172424316, -5.616199970245361, -5.196899890899658, -5.587100028991699, -4.409900188446045, -4.561699867248535, -4.5954999923706055, -4.898099899291992, -5.505499839782715, -5.819399833679199, -5.904600143432617, -5.942399978637695, -5.943699836730957, -5.963699817657471, -6.059100151062012, -6.091800212860107, -6.115900039672852, -6.118500232696533, -6.166600227355957, -3.763700008392334, -6.181700229644775, -6.281700134277344, -6.298299789428711, -6.369800090789795, -6.384399890899658, -6.385200023651123, -6.4207000732421875, -6.481800079345703, -6.484499931335449, -6.5295000076293945, -6.55019998550415, -6.61269998550415, -6.64109992980957, -4.1427001953125, -3.8671998977661133, -6.094900131225586, -5.23390007019043, -5.609000205993652, -4.664999961853027, -5.915599822998047, -5.038300037384033, -5.838900089263916, -5.4232001304626465, -5.830599784851074, -5.541999816894531, -4.009099960327148, -4.717400074005127, -5.409299850463867, -5.338399887084961, -5.770199775695801, -5.635200023651123, -5.5472002029418945, -5.601500034332275, -4.648799896240234, -5.308599948883057, -5.411200046539307, -5.473499774932861, -5.658999919891357, -4.92710018157959, -4.989099979400635, -5.243899822235107, -5.553299903869629, -5.341700077056885, -5.4116997718811035, -5.40910005569458, -5.538300037384033, -4.5467000007629395, -4.717400074005127, -4.851200103759766, -4.892199993133545, -4.98829984664917, -5.2480998039245605, -5.381400108337402, -5.417099952697754, -5.641499996185303, -5.6875, -5.6981000900268555, -5.727700233459473, -5.735899925231934, -5.736000061035156, -5.789299964904785, -5.889500141143799, -5.917500019073486, -5.920499801635742, -5.976900100708008, -6.136600017547607, -6.1570000648498535, -6.157899856567383, -6.206399917602539, -6.229700088500977, -6.252099990844727, -6.253200054168701, -5.0192999839782715, -6.292099952697754, -6.296199798583984, -6.3414998054504395, -3.989000082015991, -3.0315001010894775, -5.6255998611450195, -5.089200019836426, -4.999499797821045, -5.883800029754639, -5.9878997802734375, -5.470200061798096, -4.671299934387207, -5.224100112915039, -5.520299911499023, -5.2210001945495605, -5.287899971008301, -5.027699947357178, -5.331200122833252, -5.355500221252441, -5.115200042724609, -5.39139986038208, -5.358799934387207, -5.479800224304199, -5.521500110626221, -5.53879976272583, -4.529600143432617, -4.934500217437744, -5.271999835968018, -5.388500213623047, -5.55810022354126, -5.589200019836426, -5.590700149536133, -5.647500038146973, -5.689000129699707, -5.698599815368652, -5.718299865722656, -5.8968000411987305, -5.934000015258789, -5.948500156402588, -6.060400009155273, -6.155900001525879, -6.237299919128418, -6.247799873352051, -6.250999927520752, -6.304699897766113, -6.373700141906738, -6.420199871063232, -6.424799919128418, -6.563199996948242, -6.691299915313721, -6.730500221252441, -6.755300045013428, -6.761899948120117, -6.829500198364258, -6.855400085449219, -3.6487998962402344, -5.410299777984619, -5.524899959564209, -5.307600021362305, -5.384900093078613, -5.216599941253662, -5.564499855041504, -4.74970006942749, -4.78410005569458, -5.284599781036377, -5.616000175476074, -4.860199928283691, -5.012599945068359, -5.938399791717529, -5.581399917602539, -4.410099983215332, -4.962299823760986, -5.451600074768066, -5.2153000831604, -5.050000190734863, -5.197199821472168, -5.127900123596191, -4.628499984741211, -4.685699939727783, -5.278600215911865, -4.955100059509277, -4.990300178527832, -5.093299865722656, -5.302499771118164, -5.44789981842041, -5.412799835205078, -5.319699764251709, -5.305099964141846, -3.9486000537872314, -4.623700141906738, -4.981299877166748, -5.40339994430542, -5.493899822235107, -5.547399997711182, -5.5879998207092285, -5.6184000968933105, -5.736000061035156, -5.818299770355225, -3.8341000080108643, -5.940700054168701, -6.031499862670898, -6.041200160980225, -6.133200168609619, -6.178599834442139, -6.21750020980835, -6.223800182342529, -6.249599933624268, -6.279200077056885, -6.3454999923706055, -6.373899936676025, -6.4375, -6.448400020599365, -6.450099945068359, -6.458099842071533, -6.465400218963623, -6.477499961853027, -6.649499893188477, -6.7505998611450195, -3.2504000663757324, -5.183700084686279, -4.822199821472168, -4.829699993133545, -4.53249979019165, -5.604000091552734, -3.9547998905181885, -5.132500171661377, -5.30210018157959, -4.348199844360352, -4.197700023651123, -5.854599952697754, -5.313499927520752, -5.538300037384033, -5.455900192260742, -4.686500072479248, -5.237100124359131, -5.39739990234375, -5.537899971008301, -4.820099830627441, -5.150100231170654, -5.067299842834473, -5.009500026702881, -4.705399990081787, -4.935999870300293, -5.293399810791016, -5.210400104522705, -5.530200004577637, -5.512899875640869, -4.905799865722656, -5.480500221252441, -5.554100036621094, -5.613399982452393, -5.798600196838379, -5.916999816894531, -6.261499881744385, -6.350599765777588, -6.368100166320801, -6.411099910736084, -6.416900157928467, -6.428100109100342, -6.434899806976318, -6.454400062561035, -6.4552998542785645, -6.457300186157227, -6.47189998626709, -6.477099895477295, -6.477700233459473, -6.54040002822876, -6.540800094604492, -6.569200038909912, -6.569900035858154, -6.6149001121521, -6.6149001121521, -6.623000144958496, -6.6392998695373535, -6.690700054168701, -6.705699920654297, -6.707900047302246, -4.394499778747559, -5.980999946594238, -4.519199848175049, -5.748600006103516, -5.775599956512451, -6.003300189971924, -6.441199779510498, -5.996399879455566, -6.132599830627441, -6.3024001121521, -5.617300033569336, -6.207600116729736, -5.6869001388549805, -5.870299816131592, -5.910399913787842, -6.223800182342529, -6.131700038909912, -6.023600101470947, -5.933000087738037, -5.598400115966797, -5.575099945068359, -5.575699806213379, -5.993199825286865, -5.61269998550415, -5.875999927520752, -6.066699981689453, -5.7144999504089355, -5.882599830627441, -5.914700031280518, -6.069499969482422, -6.032800197601318, -6.063300132751465, -4.903200149536133, -5.373700141906738, -5.482900142669678, -5.675899982452393, -5.790999889373779, -5.862500190734863, -5.872700214385986, -5.940199851989746, -5.986100196838379, -6.011300086975098, -6.053899765014648, -6.064300060272217, -6.103499889373779, -6.112299919128418, -6.143400192260742, -6.1483001708984375, -6.1620001792907715, -6.167500019073486, -6.218400001525879, -6.239500045776367, -6.248899936676025, -6.263599872589111, -6.266300201416016, -6.272600173950195, -6.295599937438965, -6.2972002029418945, -6.301300048828125, -6.332600116729736, -6.341700077056885, -6.3480000495910645, -4.811699867248535, -5.25029993057251, -5.668300151824951, -3.889699935913086, -5.518400192260742, -5.363100051879883, -5.952099800109863, -5.624100208282471, -5.342400074005127, -5.757699966430664, -4.432300090789795, -5.721399784088135, -5.287600040435791, -5.047100067138672, -4.40339994430542, -5.4893999099731445, -5.537899971008301, -5.34499979019165, -5.081299781799316, -5.458499908447266, -5.734300136566162, -5.650300025939941, -4.9359002113342285, -5.469699859619141, -5.610899925231934, -5.3506999015808105, -5.543799877166748, -5.114099979400635, -5.547900199890137, -5.624000072479248, -5.672699928283691, -3.7853000164031982, -4.270999908447266, -4.993899822235107, -5.362199783325195, -5.60129976272583, -5.617599964141846, -5.665500164031982, -5.403299808502197, -5.718699932098389, -5.97189998626709, -5.973299980163574, -6.082600116729736, -6.1107001304626465, -6.1107001304626465, -6.122700214385986, -6.133200168609619, -6.146399974822998, -6.180500030517578, -6.224400043487549, -6.274400234222412, -6.301199913024902, -6.335899829864502, -6.413899898529053, -6.431399822235107, -6.452199935913086, -6.509500026702881, -6.512800216674805, -6.535399913787842, -6.538099765777588, -6.073200225830078, -5.109600067138672, -5.259200096130371, -4.880000114440918, -4.859399795532227, -4.203100204467773, -4.153900146484375, -4.05709981918335, -5.109399795532227, -4.342899799346924, -4.346399784088135, -4.597499847412109, -5.474100112915039, -5.140200138092041, -5.359899997711182, -4.790999889373779, -5.553899765014648, -4.429200172424316, -5.762700080871582, -4.873499870300293, -4.736000061035156, -5.097300052642822, -5.502600193023682, -5.47130012512207, -4.845200061798096, -4.855100154876709, -5.177000045776367, -5.004000186920166, -4.897200107574463, -5.197199821472168, -5.346499919891357, -4.935800075531006, -5.133600234985352, -5.308300018310547, -5.362299919128418, -5.401700019836426, -5.457699775695801, -5.503499984741211, -5.510300159454346, -5.5954999923706055, -5.626399993896484, -5.681099891662598, -5.69980001449585, -5.719399929046631, -5.764200210571289, -5.781400203704834, -5.788300037384033, -5.833499908447266, -5.850500106811523, -5.9120001792907715, -5.9807000160217285, -6.001399993896484, -6.0335001945495605, -6.043000221252441, -6.05210018157959, -6.061299800872803, -6.098199844360352, -6.1234002113342285, -6.13730001449585, -6.158699989318848, -6.160399913787842, -4.9085001945495605, -5.222799777984619, -4.952400207519531, -5.860599994659424, -5.525100231170654, -5.244800090789795, -4.334000110626221, -5.184500217437744, -5.094299793243408, -4.816299915313721, -5.675600051879883, -4.720300197601318, -5.257900238037109, -4.986700057983398, -5.429500102996826, -5.195700168609619, -5.495200157165527, -5.234399795532227, -5.5802998542785645, -5.539999961853027, -5.617800235748291, -5.644100189208984, -4.830599784851074, -4.860599994659424, -5.150100231170654, -5.164700031280518, -5.301300048828125, -5.321100234985352, -5.352099895477295, -5.3856000900268555, -5.481100082397461, -5.689899921417236, -5.7307000160217285, -5.744200229644775, -5.770199775695801, -5.88670015335083, -5.953000068664551, -5.9629998207092285, -5.9720001220703125, -5.987199783325195, -6.048399925231934, -6.1057000160217285, -6.113900184631348, -6.1722002029418945, -6.176000118255615, -6.196100234985352, -6.212100028991699, -6.213500022888184, -6.226900100708008, -6.235099792480469, -6.240600109100342, -6.270299911499023, -5.342700004577637, -5.679599761962891, -4.883699893951416, -3.451900005340576, -4.870200157165527, -5.549799919128418, -5.601099967956543, -5.329500198364258, -5.057300090789795, -4.92080020904541, -5.167099952697754, -5.273499965667725, -5.35699987411499, -5.357399940490723, -5.215700149536133, -5.705999851226807, -2.9518001079559326, -4.126299858093262, -4.537300109863281, -4.648900032043457, -4.675300121307373, -4.899600028991699, -4.987400054931641, -5.0346999168396, -5.045400142669678, -5.155799865722656, -5.179800033569336, -5.283100128173828, -5.320400238037109, -5.360300064086914, -5.542300224304199, -5.763199806213379, -5.885000228881836, -5.894700050354004, -5.954899787902832, -6.0100998878479, -6.0833001136779785, -6.111700057983398, -6.148600101470947, -6.154699802398682, -6.217199802398682, -6.238900184631348, -6.265900135040283, -6.3109002113342285, -6.362100124359131, -6.529200077056885, -4.456099987030029, -3.789400100708008, -4.594699859619141, -4.764200210571289, -5.296599864959717, -6.1072001457214355, -5.793900012969971, -6.118299961090088]}, \"token.table\": {\"Topic\": [18, 1, 1, 17, 1, 2, 7, 8, 3, 18, 2, 2, 2, 3, 4, 5, 6, 7, 8, 10, 13, 7, 8, 1, 8, 10, 13, 8, 3, 1, 2, 5, 7, 10, 14, 18, 7, 15, 12, 15, 1, 3, 4, 9, 3, 8, 13, 20, 19, 14, 6, 13, 1, 2, 3, 4, 5, 6, 7, 8, 9, 10, 11, 12, 13, 14, 15, 17, 3, 8, 1, 3, 8, 10, 11, 12, 13, 7, 12, 1, 3, 4, 5, 6, 8, 10, 16, 2, 17, 1, 15, 3, 5, 8, 18, 7, 6, 7, 6, 1, 3, 4, 5, 8, 10, 1, 2, 4, 5, 7, 9, 11, 14, 5, 1, 15, 1, 2, 3, 4, 14, 18, 2, 6, 20, 2, 3, 6, 7, 8, 14, 2, 5, 7, 8, 10, 11, 12, 13, 15, 16, 10, 10, 1, 2, 3, 5, 6, 8, 9, 10, 12, 13, 14, 15, 7, 10, 1, 3, 4, 13, 14, 14, 20, 6, 5, 10, 5, 10, 5, 10, 5, 1, 3, 5, 10, 13, 3, 5, 10, 1, 2, 3, 4, 5, 6, 7, 9, 11, 12, 13, 14, 15, 17, 1, 4, 5, 7, 13, 17, 3, 20, 20, 12, 12, 13, 4, 4, 18, 4, 3, 12, 2, 8, 17, 7, 9, 1, 2, 3, 6, 7, 8, 9, 12, 8, 5, 5, 5, 1, 2, 4, 5, 6, 7, 8, 9, 11, 12, 13, 15, 17, 13, 18, 5, 1, 2, 13, 3, 11, 14, 13, 4, 4, 1, 2, 3, 4, 5, 9, 11, 13, 15, 4, 1, 2, 3, 4, 5, 6, 7, 9, 11, 13, 15, 17, 1, 2, 3, 4, 5, 6, 8, 9, 11, 12, 15, 4, 4, 9, 9, 1, 3, 8, 11, 13, 16, 18, 2, 6, 1, 2, 6, 1, 3, 4, 5, 6, 8, 9, 11, 14, 15, 17, 18, 2, 5, 7, 8, 13, 3, 15, 19, 1, 2, 3, 4, 5, 6, 7, 9, 10, 15, 17, 18, 2, 7, 10, 11, 16, 9, 11, 2, 4, 7, 11, 14, 15, 16, 13, 16, 3, 10, 3, 6, 7, 12, 13, 15, 16, 11, 18, 1, 2, 6, 8, 12, 6, 1, 5, 6, 7, 8, 12, 13, 16, 20, 5, 10, 1, 13, 2, 14, 17, 2, 9, 2, 17, 18, 2, 13, 11, 16, 1, 7, 8, 10, 11, 12, 13, 1, 2, 4, 5, 10, 11, 13, 15, 16, 17, 8, 5, 19, 18, 2, 18, 15, 1, 2, 10, 14, 1, 2, 4, 5, 8, 9, 13, 1, 3, 5, 8, 9, 11, 12, 5, 9, 16, 1, 2, 3, 4, 5, 6, 8, 9, 14, 15, 17, 1, 2, 3, 7, 8, 9, 16, 17, 17, 4, 1, 2, 3, 4, 5, 9, 10, 14, 15, 7, 8, 10, 11, 12, 8, 10, 11, 2, 1, 2, 9, 3, 7, 13, 1, 2, 3, 6, 7, 8, 9, 11, 13, 15, 17, 3, 8, 11, 16, 3, 4, 5, 8, 10, 13, 14, 9, 1, 2, 7, 4, 4, 16, 4, 4, 10, 3, 4, 6, 14, 2, 17, 8, 19, 20, 10, 1, 14, 14, 7, 14, 6, 7, 14, 1, 13, 1, 7, 2, 7, 9, 6, 11, 1, 3, 6, 7, 8, 14, 17, 15, 2, 6, 14, 14, 1, 2, 4, 5, 7, 9, 11, 13, 18, 18, 3, 5, 8, 10, 6, 7, 5, 6, 20, 8, 17, 1, 2, 6, 7, 8, 12, 3, 5, 8, 17, 18, 17, 6, 7, 8, 10, 11, 13, 1, 3, 8, 10, 13, 19, 2, 1, 3, 10, 1, 5, 6, 7, 8, 9, 11, 12, 13, 15, 16, 17, 6, 12, 9, 6, 1, 2, 3, 5, 6, 8, 9, 10, 12, 2, 1, 6, 19, 17, 1, 4, 6, 7, 18, 17, 1, 2, 3, 6, 7, 8, 18, 1, 2, 8, 9, 11, 12, 17, 1, 2, 3, 4, 5, 7, 8, 9, 10, 11, 13, 14, 15, 18, 1, 2, 3, 4, 5, 7, 8, 9, 10, 11, 1, 3, 8, 16, 1, 5, 8, 9, 10, 18, 5, 18, 1, 3, 10, 1, 5, 1, 7, 3, 1, 12, 19, 18, 11, 3, 1, 1, 2, 3, 5, 6, 7, 8, 9, 17, 18, 14, 9, 10, 8, 13, 16, 1, 2, 3, 6, 7, 8, 12, 5, 2, 4, 7, 9, 11, 15, 16, 17, 1, 2, 4, 5, 7, 8, 9, 10, 12, 13, 15, 1, 2, 4, 5, 10, 3, 15, 15, 1, 1, 2, 6, 7, 14, 8, 8, 11, 11, 13, 13, 1, 8, 1, 3, 7, 8, 10, 13, 8, 8, 3, 12, 18, 20, 20, 11, 16, 17, 2, 3, 19, 7, 6, 16, 6, 7, 17, 5, 19, 3, 8, 2, 6, 2, 6, 2, 6, 14, 1, 4, 3, 8, 10, 11, 19, 11, 13, 1, 5, 9, 15, 7, 2, 5, 9, 2, 5, 8, 9, 16, 2, 3, 5, 8, 2, 1, 5, 9, 10, 1, 3, 8, 3, 5, 13, 17, 1, 4, 12, 18, 1, 20, 6, 18, 3, 13, 6, 3, 4, 8, 10, 13, 7, 8, 1, 2, 8, 17, 2, 9, 17, 7, 2, 6, 7, 17, 20, 17, 1, 6, 1, 8, 9, 12, 1, 2, 3, 4, 5, 6, 8, 9, 11, 14, 15, 18, 3, 7, 6, 8, 11, 1, 2, 4, 6, 7, 14, 14, 1, 13, 4, 2, 10, 8, 1, 2, 3, 4, 5, 8, 9, 11, 15, 1, 3, 4, 5, 6, 7, 10, 15, 20, 1, 3, 4, 5, 10, 12, 14, 1, 3, 4, 10, 1, 2, 3, 4, 6, 8, 11, 12, 15, 17, 18, 1, 2, 3, 4, 6, 7, 8, 18, 1, 3, 4, 10, 19, 12, 12, 1, 6, 1, 20, 1, 3, 4, 5, 9, 10, 11, 15, 1, 3, 4, 5, 9, 10, 15, 4, 8, 11, 1, 1, 13, 5, 9, 12, 15, 1, 3, 4, 6, 8, 11, 12, 14, 15, 6, 7, 8, 10, 2, 6, 7, 10, 11, 7, 5, 15, 19, 1, 3, 5, 17, 3, 3, 3, 5, 11, 19, 1, 2, 3, 4, 5, 6, 7, 8, 9, 10, 11, 12, 13, 14, 15, 16, 18, 7, 4, 9, 10, 11, 16, 8, 16, 3, 5, 12, 18, 5, 8, 6, 2, 7, 11, 16, 7, 14, 1, 3, 10, 12, 13, 18, 8, 9, 15, 6, 7, 6, 7, 19, 16, 1, 5, 7, 9, 10, 11, 3, 6, 3, 6, 7, 1, 8, 10, 12, 8, 17, 16, 6, 11, 7, 11, 18, 3, 8, 12, 16, 10, 9, 3, 10, 7, 10, 13, 16, 5, 8, 10, 18, 1, 7, 10, 6, 7, 8, 10, 18, 14, 9, 1, 3, 11, 12, 13, 16, 11, 4, 1, 2, 4, 5, 9, 11, 13, 15, 1, 2, 3, 4, 5, 6, 7, 8, 9, 11, 12, 13, 15, 3, 13, 4, 1, 8, 10, 13, 2, 6, 7, 14, 1, 2, 3, 4, 5, 7, 9, 11, 12, 15, 17, 10, 4, 10, 15, 2, 7, 9, 11, 14, 16, 17, 18, 1, 4, 5, 8, 9, 10, 12, 17, 1, 2, 3, 4, 5, 7, 8, 10, 13, 4, 7, 7, 8, 3, 5, 20, 3, 3, 20, 1, 2, 4, 5, 1, 2, 4, 5, 9, 11, 13, 1, 2, 6, 7, 12, 11, 16, 18, 11, 15, 19, 3, 8, 13, 1, 2, 4, 5, 7, 9, 11, 15, 1, 2, 5, 12, 15, 19, 4, 15, 1, 4, 5, 9, 9, 1, 2, 4, 5, 6, 7, 8, 9, 10, 13, 14, 5, 20, 8, 1, 2, 3, 5, 6, 8, 9, 11, 12, 15, 16, 17, 18, 1, 3, 4, 10, 11, 13, 15, 11, 11, 1, 12, 17, 18, 4, 5, 1, 2, 5, 7, 8, 9, 10, 11, 14, 1, 8, 3, 9, 17, 8, 1, 3, 5, 8, 13, 17, 18, 16, 2, 15, 17, 14, 8, 1, 2, 4, 5, 7, 9, 15, 1, 8, 6, 3, 4, 6, 10, 12, 6, 12, 19, 3, 1, 2, 3, 4, 6, 7, 8, 10, 11, 12, 14, 15, 1, 2, 3, 5, 6, 7, 8, 10, 12, 17, 6, 8, 19, 3, 8, 12, 1, 3, 5, 15, 2, 6, 7, 9, 1, 2, 3, 6, 7, 8, 10, 12, 17, 9, 14, 14, 2, 6, 17, 1, 2, 3, 5, 6, 14, 15, 17, 2, 18, 2, 6, 8, 9, 5, 3, 13, 6, 7, 1, 2, 4, 7, 8, 9, 11, 17, 1, 17, 3, 7, 8, 15, 17, 12, 13, 7, 4, 10, 4, 10, 10, 10, 1, 2, 3, 4, 6, 7, 8, 10, 13, 18, 3, 15, 17, 16, 8, 11, 16, 4, 11, 4, 10, 4, 10, 13, 10, 11, 16, 1, 11, 15, 16, 6, 15, 1, 3, 10, 18, 5, 7, 7, 18, 16, 5, 5, 5, 5, 20, 2, 7, 14, 17, 8, 1, 6, 17, 3, 3, 5, 10, 4, 11, 16, 1, 2, 3, 4, 5, 7, 9, 11, 13, 14, 15, 9, 10, 17, 1, 5, 9, 10, 12, 17, 20, 1, 2, 3, 4, 5, 6, 7, 8, 9, 10, 11, 12, 13, 15, 18, 1, 2, 3, 4, 5, 6, 9, 15, 16, 13, 12, 10, 12, 12, 1, 3, 4, 10, 7, 11, 10, 11, 18, 10, 10, 1, 2, 4, 5, 8, 9, 10, 11, 13, 17, 18, 1, 3, 11, 16, 1, 2, 3, 4, 5, 8, 9, 11, 17, 10, 13, 1, 3, 4, 5, 8, 9, 10, 12, 1, 2, 3, 4, 5, 6, 7, 8, 9, 10, 11, 13, 14, 15, 17, 13, 11, 16, 1, 2, 3, 4, 5, 6, 7, 9, 11, 13, 14, 15, 16, 17, 1, 2, 6, 7, 9, 10, 15, 16, 17, 1, 2, 3, 4, 5, 6, 7, 8, 9, 10, 11, 12, 16, 18, 5, 7, 7, 1, 2, 3, 4, 5, 9, 11, 12, 13, 14, 15, 1, 2, 3, 5, 7, 8, 10, 11, 13, 17, 20, 2, 5, 8, 9, 7, 18, 1, 2, 3, 4, 5, 6, 8, 9, 10, 11, 12, 13, 15, 17, 1, 2, 3, 4, 5, 6, 7, 9, 11, 13, 14, 17, 2, 4, 14, 19, 1, 4, 19, 1, 2, 4, 5, 7, 11, 14, 15, 1, 2, 3, 4, 5, 7, 9, 15, 12, 5, 2, 7, 9, 11, 17, 7, 7, 1, 2, 3, 4, 5, 6, 7, 8, 9, 11, 13, 14, 15, 17, 5, 2, 7, 11, 14, 2, 17, 1, 2, 3, 4, 5, 6, 7, 8, 9, 10, 11, 13, 5, 1, 2, 3, 4, 5, 7, 9, 11, 16, 18, 1, 18, 1, 18, 12, 8, 7, 17, 10, 4, 15, 3, 3, 5, 8, 13, 13, 1, 3, 5, 7, 10, 12, 13, 2, 3, 10, 14, 6, 1, 2, 4, 6, 7, 5, 17, 17, 11, 2, 1, 2, 3, 4, 5, 6, 7, 8, 9, 10, 11, 15, 1, 2, 7, 9, 11, 13, 14, 15, 16, 5, 9, 10, 3, 10, 14, 19, 18, 1, 2, 4, 5, 6, 7, 9, 10, 15, 4, 10, 12, 12, 10, 19, 2, 6, 2, 7, 1, 2, 5, 8, 9, 11, 12, 13, 2, 8, 11, 4, 12, 1, 3, 4, 4, 20, 2, 6, 7, 14, 9, 9, 2, 14, 8, 14, 1, 2, 3, 4, 5, 6, 7, 8, 9, 11, 12, 13, 14, 15, 16, 16, 9, 1, 5, 10, 1, 2, 3, 4, 5, 6, 7, 8, 9, 10, 13, 5, 18, 1, 4, 5, 6, 7, 9, 10, 11, 12, 14, 7, 12, 1, 3, 7, 8, 10, 11, 12, 13, 8, 18, 8, 19, 10, 10, 7, 9, 1, 2, 3, 4, 5, 6, 7, 8, 9, 11, 13, 14, 15, 8, 20, 1, 10, 16, 17, 1, 4, 5, 7, 8, 10, 11, 12, 15, 1, 2, 4, 7, 4, 7, 8, 5, 11, 13, 15, 18, 1, 7, 16, 2, 1, 3, 10, 12, 19, 6, 14, 1, 2, 3, 5, 6, 7, 8, 10, 11, 13, 3, 4, 8, 12, 13, 12, 10, 1, 2, 4, 6, 12, 17, 1, 3, 5, 8, 10, 11, 12, 13, 17, 9, 14, 1, 2, 3, 4, 5, 6, 7, 9, 10, 13, 14, 15, 2, 5, 8, 16, 17, 18, 20, 14, 12, 12, 3, 1, 2, 3, 4, 6, 7, 9, 17, 18, 4, 16, 10, 12, 6, 15, 12, 2, 6, 7, 13, 17, 20, 1, 2, 6, 7, 8, 10, 14, 4, 15, 10, 10, 10, 15, 17, 6, 9, 9, 1, 2, 3, 4, 5, 6, 7, 8, 9, 10, 13, 3, 6, 14, 8, 8, 20, 3, 8, 12, 4, 5, 10, 11, 11, 1, 2, 3, 4, 5, 7, 9, 10, 13, 1, 2, 3, 4, 5, 9, 13, 14, 1, 3, 8, 10, 12, 16, 1, 3, 4, 5, 7, 15, 14, 7, 11, 16, 14, 1, 1, 2, 5, 7, 17, 1, 17, 2, 5, 6, 9, 15, 1, 2, 15, 14, 15, 14, 15, 13, 11, 13, 16, 14, 12, 5, 19, 19, 15, 17, 1, 2, 4, 11, 16, 10, 11, 15, 16, 11, 16, 17, 11, 1, 2, 10, 11, 11, 16, 11, 1, 2, 3, 4, 5, 6, 7, 8, 9, 15, 17, 7, 9, 15, 17, 1, 2, 3, 4, 5, 6, 7, 8, 9, 11, 13, 15, 17, 1, 2, 3, 4, 6, 8, 9, 11, 14, 18, 4, 1, 3, 10, 14, 2, 7, 10, 19, 1, 2, 3, 4, 7, 8, 9, 10, 11, 1, 2, 3, 4, 6, 7, 11, 17, 18, 1, 4, 7, 6, 15, 8, 15, 1, 2, 3, 4, 8, 9, 10, 12, 15, 16, 17, 19, 15, 8, 1, 10, 13, 1, 2, 5, 7, 8, 9, 10, 16, 17, 18, 2, 3, 6, 7, 18, 2, 6, 20, 20, 19, 1, 2, 3, 4, 5, 6, 7, 9, 11, 13, 14, 15, 12, 1, 2, 3, 4, 5, 8, 9, 14, 15, 17, 6, 2, 6, 7, 8, 10, 12, 13, 14, 7, 2, 6, 7, 8, 12, 13, 18, 16, 15, 1, 1, 15, 1, 7, 12, 1, 3, 5, 8, 1, 1, 1, 3, 6, 7, 8, 10, 13, 11, 16, 18, 1, 5, 8, 9, 11, 20, 2, 11, 2, 3, 19, 1, 2, 3, 4, 7, 9, 13, 14, 18, 12, 20, 19, 1, 5, 8, 10, 11, 12, 13, 17, 18, 19, 20, 15, 16, 6, 2, 3, 8, 11, 19, 1, 2, 3, 4, 5, 6, 7, 9, 14, 13, 1, 2, 4, 5, 9, 11, 13, 15, 5, 9, 1, 3, 4, 8, 16, 14, 3, 3, 3, 13, 7, 8, 4, 10, 4, 4, 10, 1, 3, 8, 1, 3, 13, 2, 3, 5, 6, 8, 10, 12, 13, 5, 8, 10, 10, 13, 1, 6, 7, 7, 8, 3, 4, 7, 8, 10, 12, 19, 6, 7, 8, 14, 19, 1, 9, 4, 12, 4, 9, 9, 18, 9, 5, 9, 1, 2, 3, 4, 5, 6, 9, 11, 13, 14, 15, 17, 7, 3, 5, 6, 7, 9, 10, 11, 13, 15, 19, 8, 11, 18, 5, 3, 5, 10, 12, 16, 1, 2, 5, 8, 9, 13, 1, 8, 14, 2, 6, 5, 19, 8, 14, 14, 1, 2, 5, 7, 9, 11, 14, 15, 2, 5, 6, 7, 11, 14, 15, 20, 10, 12, 13, 5, 10, 11, 12, 13, 4, 1, 2, 3, 4, 5, 8, 9, 10, 11, 13, 15, 17, 16, 16, 16, 12, 12, 12, 1, 6, 11, 16, 1, 2, 3, 4, 5, 8, 13, 1, 3, 4, 7, 8, 12, 1, 11, 11, 16, 16, 11, 16, 2, 6, 14, 4, 2, 15, 11, 1, 2, 3, 4, 5, 6, 9, 10, 11, 12, 14, 15, 16, 1, 10, 5, 8, 13, 3, 6, 8, 10, 11, 1, 1, 15, 1, 3, 4, 9, 10, 1, 2, 3, 8, 9, 16, 17, 3, 8, 13, 13, 1, 2, 4, 6, 7, 9, 10, 11, 12, 17, 7, 8, 10, 1, 2, 6, 7, 8, 10, 11, 12, 17, 18, 7, 14, 1, 2, 3, 5, 7, 8, 9, 10, 12, 17, 1, 3, 17, 19, 13, 16, 6, 6, 11, 2, 7, 10, 14, 2, 6, 17, 18, 18, 1, 3, 5, 11, 15, 16, 5, 11, 16, 5, 12, 1, 2, 3, 4, 5, 8, 9, 10, 13, 14, 15, 16, 6, 1, 3, 5, 9, 15, 19, 2, 1, 2, 3, 4, 5, 6, 8, 9, 10, 11, 12, 14, 15, 5, 5, 6, 7, 8, 10, 12, 1, 2, 3, 5, 6, 8, 9, 11, 14, 13, 15, 2, 2, 15, 3, 7, 11, 15, 16, 18, 3, 5, 14, 16, 2, 6, 7, 8, 12, 1, 2, 3, 4, 5, 6, 9, 13, 14, 15, 2, 1, 2, 5, 7, 8, 9, 11, 12, 13, 1, 2, 3, 4, 6, 7, 8, 10, 12, 8, 9, 10, 12, 10, 5, 10, 12, 6, 12, 18, 12, 8, 17, 1, 2, 8, 9, 11, 12, 13, 18, 1, 4, 9, 13, 1, 2, 3, 4, 8, 10, 11, 15, 3, 18, 11, 1, 15, 11, 1, 4, 5, 7, 11, 14, 16, 1, 2, 3, 8, 10, 1, 2, 3, 4, 8, 10, 13, 1, 2, 5, 8, 11, 12, 7, 9, 11, 19, 9, 19, 2, 17, 16, 1, 2, 3, 4, 5, 7, 8, 9, 10, 11, 12, 13, 14, 15, 13, 5, 6, 2, 5, 8, 9, 17, 6, 11, 1, 3, 4, 11, 3, 20, 3, 4, 8, 10, 12, 1, 3, 4, 8, 12, 1, 2, 4, 5, 6, 7, 9, 15, 13, 9, 15, 5, 7, 14, 1, 2, 3, 4, 5, 6, 9, 11, 13, 14, 6, 8, 9, 12, 15, 13, 8, 2, 2, 15, 1, 14, 7, 1, 2, 3, 6, 7, 8, 12, 1, 2, 3, 4, 5, 9, 11, 13, 14, 15, 5, 2, 5, 6, 8, 20, 3, 7, 15, 18, 8, 13, 11, 12, 16, 11, 5, 1, 2, 7, 8, 12, 12, 7, 2, 19, 3, 5, 15, 19, 15, 8, 4, 1, 2, 4, 5, 7, 9, 11, 14, 19, 15, 20, 1, 2, 3, 4, 5, 9, 13, 15, 18, 1, 2, 3, 4, 5, 6, 9, 13, 15, 1, 2, 3, 4, 5, 9, 11, 13, 15, 1, 2, 3, 4, 5, 6, 10, 11, 12, 16, 1, 2, 3, 4, 5, 6, 7, 8, 10, 11, 12, 15, 8, 6, 1, 2, 3, 4, 5, 6, 7, 8, 9, 10, 11, 12, 13, 14, 15, 9, 9, 12, 1, 3, 4, 6, 7, 10, 11, 14, 16, 18, 17, 3, 16, 1, 2, 4, 5, 9, 10, 13, 11, 16, 1, 2, 4, 5, 9, 10, 11, 12, 13, 15, 16, 14, 7, 11, 16, 8, 2, 19, 19, 5, 10, 13, 5, 19, 11, 17, 1, 5, 8, 3, 5, 10, 19, 20, 1, 2, 3, 4, 5, 6, 9, 11, 14, 1, 4, 1, 3, 4, 10, 17, 10, 10, 10, 2, 1, 16, 20, 3, 4, 7, 8, 10, 11, 12, 13, 1, 17, 2, 1, 2, 3, 4, 5, 6, 7, 8, 9, 14, 15, 17, 1, 7, 1, 6, 7, 8, 1, 2, 3, 4, 6, 7, 8, 9, 12, 14, 18, 6, 1, 3, 4, 6, 8, 11, 14, 12, 16, 1, 2, 3, 4, 6, 7, 10, 2, 2, 5, 7, 8, 6, 10, 15, 3, 10, 3, 8, 12, 13, 17, 20, 6, 14, 1, 17, 17, 5, 6, 7, 8, 10, 12, 17, 18, 2, 18, 5, 1, 2, 3, 4, 5, 6, 7, 9, 13, 14, 1, 2, 3, 7, 8, 10, 11, 13, 16, 3, 5, 9, 13, 15, 17, 19, 2, 10, 15, 18, 15, 3, 1, 3, 5, 8, 10, 15, 1, 8, 10, 15, 1, 3, 9, 12, 15, 16, 2, 3, 15, 1, 2, 3, 4, 5, 6, 7, 8, 9, 10, 11, 13, 15, 1, 2, 5, 11, 16, 2, 4, 8, 10, 9, 1, 3, 4, 5, 6, 8, 11, 12, 13, 15, 17, 18, 14, 6, 14, 14, 1, 5, 10, 5, 7, 14, 2, 5, 6, 7, 14, 11, 17, 17, 1, 2, 5, 12, 7, 18, 4, 5, 18, 1, 3, 4, 5, 10, 1, 2, 3, 4, 5, 6, 7, 11, 12, 8, 1, 2, 3, 4, 5, 6, 7, 8, 9, 13, 14, 1, 2, 5, 6, 7, 8, 12, 13, 14, 1, 2, 3, 4, 7, 8, 9, 10, 11, 12, 4, 1, 1, 2, 3, 4, 5, 7, 8, 9, 10, 11, 12, 13, 15, 20, 7, 14, 19, 20, 14, 14, 6, 7, 5, 1, 2, 3, 5, 6, 8, 9, 10, 11, 12, 13, 1, 2, 3, 5, 8, 9, 10, 11, 12, 13, 15, 17, 5, 13, 1, 3, 4, 5, 10, 11, 13, 14, 16, 20, 1], \"Freq\": [0.9613502025604248, 0.9814319014549255, 0.9820913672447205, 0.013271505013108253, 0.22400623559951782, 0.2570563554763794, 0.44984859228134155, 0.06610020250082016, 0.9781560301780701, 0.9437133073806763, 0.9859265685081482, 0.9908551573753357, 0.01836804673075676, 0.03673609346151352, 0.0352054238319397, 0.00918402336537838, 0.07194151729345322, 0.7607433199882507, 0.03214408457279205, 0.013776035979390144, 0.021429389715194702, 0.879131555557251, 0.11428710073232651, 0.3140559494495392, 0.24591173231601715, 0.002962792059406638, 0.43256762623786926, 0.977664053440094, 0.9917617440223694, 0.04653620347380638, 0.733629584312439, 0.02463681437075138, 0.16972027719020844, 0.005474847741425037, 0.01916196569800377, 0.9361295104026794, 0.24687576293945312, 0.7406272888183594, 0.990634024143219, 0.9773175716400146, 0.6794956922531128, 0.002010342199355364, 0.2653651833534241, 0.05025855824351311, 0.043858181685209274, 0.9210218191146851, 0.021929090842604637, 0.8865648508071899, 0.9030486941337585, 0.9832369685173035, 0.9836968779563904, 0.9891315698623657, 0.21218664944171906, 0.17186284065246582, 0.052281901240348816, 0.10289523005485535, 0.03170285373926163, 0.09677713364362717, 0.10901332646608353, 0.03337142616510391, 0.06813333183526993, 0.040045712143182755, 0.026140950620174408, 0.03309332951903343, 0.01362666580826044, 0.002502857008948922, 0.006396190263330936, 0.9779859781265259, 0.9714280366897583, 0.024164875969290733, 0.24531158804893494, 0.11768326163291931, 0.1839836984872818, 0.18564119935035706, 0.0762454941868782, 0.008287553675472736, 0.1806686669588089, 0.053201980888843536, 0.9310346245765686, 0.0393366701900959, 0.2596220076084137, 0.1573466807603836, 0.06097183749079704, 0.02753566764295101, 0.3481295108795166, 0.10424217581748962, 0.9780762791633606, 0.029815731570124626, 0.954103410243988, 0.9886497855186462, 0.9729971289634705, 0.8446996212005615, 0.15486159920692444, 0.542460560798645, 0.4472920596599579, 0.9834737181663513, 0.05016636475920677, 0.946320116519928, 0.9915415644645691, 0.06938343495130539, 0.33090561628341675, 0.07205202430486679, 0.07205202430486679, 0.002668593544512987, 0.45366090536117554, 0.2534129023551941, 0.44051215052604675, 0.05387984588742256, 0.051511500030756, 0.12137767672538757, 0.06216905266046524, 0.01539424154907465, 0.0011841724626719952, 0.9951766729354858, 0.9912914037704468, 0.9859088063240051, 0.33368057012557983, 0.10010417550802231, 0.15015625953674316, 0.07507812976837158, 0.12095920741558075, 0.21689237654209137, 0.9276236295700073, 0.06871286034584045, 0.9645107984542847, 0.09363952279090881, 0.08928419649600983, 0.1981673687696457, 0.02613196149468422, 0.017421307042241096, 0.5727254748344421, 0.006922947708517313, 0.005192210897803307, 0.024230316281318665, 0.581527590751648, 0.1921117901802063, 0.11595936864614487, 0.013845895417034626, 0.04672989621758461, 0.0017307369271293283, 0.013845895417034626, 0.9946341514587402, 0.9888667464256287, 0.1341717392206192, 0.04541197419166565, 0.049540333449840546, 0.03921943157911301, 0.05779705569148064, 0.14862100780010223, 0.20435388386249542, 0.16719862818717957, 0.016513444483280182, 0.010320902802050114, 0.03715525195002556, 0.08875976502895355, 0.9885985851287842, 0.9926142692565918, 0.2732141315937042, 0.08945949375629425, 0.5947847366333008, 0.0024178242310881615, 0.03626736253499985, 0.36382046341896057, 0.6063674688339233, 0.9829644560813904, 0.10966383665800095, 0.885746419429779, 0.20816591382026672, 0.7904481887817383, 0.3638155162334442, 0.6346005797386169, 0.9857667088508606, 0.02075117453932762, 0.6017840504646301, 0.12035681307315826, 0.2075117528438568, 0.045652586966753006, 0.15266327559947968, 0.0828743502497673, 0.7589545845985413, 0.24984082579612732, 0.14081937074661255, 0.01544470526278019, 0.020895779132843018, 0.2280365377664566, 0.047242630273103714, 0.003634048392996192, 0.16171514987945557, 0.05360221490263939, 0.017261730507016182, 0.010902144946157932, 0.005451072473078966, 0.020895779132843018, 0.023621315136551857, 0.248420849442482, 0.028663944453001022, 0.03821859136223793, 0.08280695229768753, 0.02229417860507965, 0.5764637589454651, 0.9917559623718262, 0.8034316301345825, 0.8512163162231445, 0.9842968583106995, 0.9822536110877991, 0.9702428579330444, 0.996074914932251, 0.9640246629714966, 0.024303141981363297, 0.9951072931289673, 0.04423827305436134, 0.9437497854232788, 0.22476372122764587, 0.1573346108198166, 0.6068620681762695, 0.9686275124549866, 0.9824893474578857, 0.02960534207522869, 0.06392062455415726, 0.01883976347744465, 0.4319688677787781, 0.3196031153202057, 0.10631009191274643, 0.004709940869361162, 0.024895401671528816, 0.9816489815711975, 0.9937278032302856, 0.9830245971679688, 0.9929593801498413, 0.3123835623264313, 0.12404420226812363, 0.00389667646959424, 0.23380059003829956, 0.013638367876410484, 0.0006494460976682603, 0.00389667646959424, 0.14612537622451782, 0.08312910050153732, 0.0012988921953365207, 0.029225073754787445, 0.04286344349384308, 0.005195568781346083, 0.9490017890930176, 0.9391893744468689, 0.988117516040802, 0.1002037301659584, 0.05395585671067238, 0.8401697278022766, 0.034571323543787, 0.9630582928657532, 0.983862042427063, 0.9575266242027283, 0.9963262677192688, 0.9928467273712158, 0.33275943994522095, 0.06442788988351822, 0.01699197106063366, 0.4644472301006317, 0.013451977632939816, 0.029027951881289482, 0.013451977632939816, 0.05380791053175926, 0.012035979889333248, 0.987324059009552, 0.2047756165266037, 0.14712034165859222, 0.0566612146794796, 0.07654234021902084, 0.0019881129264831543, 0.09244724363088608, 0.007952451705932617, 0.10536997765302658, 0.1918528825044632, 0.006958394777029753, 0.0009940564632415771, 0.10735809057950974, 0.5002557635307312, 0.12486383318901062, 0.0008004091796465218, 0.026413504034280777, 0.0064032734371721745, 0.04642373323440552, 0.0008004091796465218, 0.1432732492685318, 0.14007161557674408, 0.005602864548563957, 0.005602864548563957, 0.9975653290748596, 0.9910532236099243, 0.9966303706169128, 0.9935222268104553, 0.11520592868328094, 0.1177104040980339, 0.21538500487804413, 0.06762087345123291, 0.42576104402542114, 0.05760296434164047, 0.9797168970108032, 0.9922317266464233, 0.9807088375091553, 0.04218846932053566, 0.0527355894446373, 0.9035364389419556, 0.16802790760993958, 0.10822136700153351, 0.028479306027293205, 0.11106929928064346, 0.03987102955579758, 0.04556689038872719, 0.054110683500766754, 0.03987102955579758, 0.03132723644375801, 0.19650721549987793, 0.1281568855047226, 0.04841482266783714, 0.7199833989143372, 0.03692222386598587, 0.11340397596359253, 0.08703096210956573, 0.03428492322564125, 0.10464800894260406, 0.8633460998535156, 0.8296445608139038, 0.017813056707382202, 0.031172849237918854, 0.025235164910554886, 0.42602893710136414, 0.020781898871064186, 0.0044532641768455505, 0.26719585061073303, 0.05195474997162819, 0.07570549100637436, 0.0044532641768455505, 0.04304822161793709, 0.03265726938843727, 0.9901420474052429, 0.9843105673789978, 0.05178726091980934, 0.6991280317306519, 0.24340012669563293, 0.9800233244895935, 0.9936082363128662, 0.08010891079902649, 0.08739154040813446, 0.17478308081626892, 0.08739154040813446, 0.1019567921757698, 0.0509783960878849, 0.4151098132133484, 0.9854490160942078, 0.9814043045043945, 0.07763073593378067, 0.913654088973999, 0.030249889940023422, 0.1512494534254074, 0.03781236335635185, 0.11343708634376526, 0.045374833047389984, 0.12856203317642212, 0.48399823904037476, 0.9845187067985535, 0.9376224279403687, 0.19207225739955902, 0.06402408331632614, 0.6751630902290344, 0.001940123736858368, 0.06596420705318451, 0.9667278528213501, 0.08009461313486099, 0.5487964153289795, 0.1453568935394287, 0.04449700936675072, 0.10085988789796829, 0.062295809388160706, 0.017798803746700287, 0.9687483906745911, 0.7677491903305054, 0.8828946352005005, 0.11163035780191422, 0.1741417646408081, 0.8126615881919861, 0.3068295121192932, 0.6293938159942627, 0.055071961134672165, 0.39806291460990906, 0.5970943570137024, 0.6008762121200562, 0.333820104598999, 0.06283672899007797, 0.9938713908195496, 0.9929866790771484, 0.4996779263019562, 0.4916186034679413, 0.032028306275606155, 0.07606722414493561, 0.5925236940383911, 0.15213444828987122, 0.09608491510152817, 0.032028306275606155, 0.016014153137803078, 0.08747058361768723, 0.10067369043827057, 0.12377913296222687, 0.559481680393219, 0.023105438798666, 0.04125970974564552, 0.013203107751905918, 0.006601553875952959, 0.0016503884689882398, 0.042910099029541016, 0.9943913221359253, 0.9897770285606384, 0.8507486581802368, 0.9842396974563599, 0.9770426154136658, 0.022721922025084496, 0.9599698781967163, 0.017771083861589432, 0.9027711153030396, 0.04975903779268265, 0.02843373641371727, 0.49788814783096313, 0.004546924028545618, 0.025008080527186394, 0.011367309838533401, 0.3114642798900604, 0.05001616105437279, 0.09775885939598083, 0.16415353119373322, 0.5204015970230103, 0.1362125128507614, 0.04889679700136185, 0.06635993719100952, 0.04540416970849037, 0.017463142052292824, 0.0772978737950325, 0.9170339107513428, 0.9633063673973083, 0.48192358016967773, 0.09720852226018906, 0.1688792109489441, 0.02471403032541275, 0.011533213779330254, 0.0815562978386879, 0.02965683676302433, 0.05848987028002739, 0.015652218833565712, 0.000823801034130156, 0.028009233996272087, 0.2740403413772583, 0.0532856248319149, 0.5810670256614685, 0.010149642825126648, 0.06343526393175125, 0.015224464237689972, 0.9766747951507568, 0.9773021340370178, 0.9754626154899597, 0.9961546659469604, 0.17582237720489502, 0.08990916609764099, 0.40758824348449707, 0.08391522616147995, 0.06992935389280319, 0.06793136894702911, 0.017981834709644318, 0.017981834709644318, 0.06593339145183563, 0.003880339441820979, 0.4928031265735626, 0.11835035681724548, 0.11641018092632294, 0.2658032476902008, 0.8869495987892151, 0.058351948857307434, 0.04668155685067177, 0.9941100478172302, 0.10090479254722595, 0.1284242868423462, 0.7613725662231445, 0.9836114645004272, 0.9977647066116333, 0.9851254820823669, 0.038955435156822205, 0.08881839364767075, 0.05921225994825363, 0.48304739594459534, 0.07791087031364441, 0.009349304251372814, 0.1776367872953415, 0.028047913685441017, 0.015582174062728882, 0.004674652125686407, 0.01869860850274563, 0.11076056212186813, 0.02130010724067688, 0.6943835020065308, 0.1661408394575119, 0.18500688672065735, 0.16905802488327026, 0.465707004070282, 0.06060570478439331, 0.0988829955458641, 0.011164208874106407, 0.009569321759045124, 0.9788768291473389, 0.6222019195556641, 0.37618187069892883, 0.977599024772644, 0.9966078996658325, 0.993545413017273, 0.004918541759252548, 0.9966206550598145, 0.989854097366333, 0.006764378864318132, 0.9836604595184326, 0.9972367286682129, 0.9905940294265747, 0.9739614129066467, 0.1814289689064026, 0.816430389881134, 0.7318264842033386, 0.2634575366973877, 0.8162940144538879, 0.9874324202537537, 0.9875926375389099, 0.9749762415885925, 0.9854299426078796, 0.10370423644781113, 0.8951312899589539, 0.01658056676387787, 0.03316113352775574, 0.9450923204421997, 0.3132725954055786, 0.6841585636138916, 0.981831967830658, 0.016886545345187187, 0.9906989336013794, 0.9904075264930725, 0.9819507598876953, 0.9795637130737305, 0.9940286874771118, 0.03756841644644737, 0.0807025283575058, 0.6720572710037231, 0.07931110262870789, 0.04869979992508888, 0.06122260540723801, 0.019479919224977493, 0.9603225588798523, 0.36916404962539673, 0.38708463311195374, 0.2437199503183365, 0.9945365786552429, 0.3610658049583435, 0.0893261730670929, 0.20686061680316925, 0.2256661206483841, 0.0028208266012370586, 0.034790195524692535, 0.039491571485996246, 0.03761101886630058, 0.0028208266012370586, 0.9737191796302795, 0.12586118280887604, 0.2416534572839737, 0.5890303254127502, 0.04027557745575905, 0.19941860437393188, 0.7976744174957275, 0.9913135170936584, 0.9673764109611511, 0.9417975544929504, 0.92106032371521, 0.06463581323623657, 0.03930095210671425, 0.4261696934700012, 0.024563094601035118, 0.49494633078575134, 0.007368928287178278, 0.0061407736502587795, 0.17638060450553894, 0.11968683451414108, 0.006299307104200125, 0.6866244673728943, 0.006299307104200125, 0.9874760508537292, 0.028273440897464752, 0.09289845079183578, 0.4887266457080841, 0.08482032269239426, 0.25850003957748413, 0.048468757420778275, 0.025970814749598503, 0.12985406816005707, 0.1409844160079956, 0.018550582230091095, 0.6826614141464233, 0.8397563099861145, 0.9837005138397217, 0.048499129712581635, 0.8729843497276306, 0.0754430890083313, 0.028992794454097748, 0.013529970310628414, 0.02705994062125683, 0.6049829721450806, 0.17588961124420166, 0.03285849839448929, 0.009664264507591724, 0.02126138284802437, 0.005798558704555035, 0.009664264507591724, 0.0019328529015183449, 0.06958270817995071, 0.9064874053001404, 0.08856485784053802, 0.9801042079925537, 0.9967575073242188, 0.11113296449184418, 0.17553956806659698, 0.3927540183067322, 0.003788623958826065, 0.01515449583530426, 0.26394081115722656, 0.010102996602654457, 0.02399461716413498, 0.0025257491506636143, 0.9985786080360413, 0.9841201901435852, 0.9948675632476807, 0.9562276005744934, 0.975701630115509, 0.10762016475200653, 0.016992656514048576, 0.1585981398820877, 0.3681742250919342, 0.3511815667152405, 0.9550288915634155, 0.10388751327991486, 0.24401485919952393, 0.0217438992112875, 0.23676690459251404, 0.2560948133468628, 0.036239832639694214, 0.10147152841091156, 0.17686587572097778, 0.23033694922924042, 0.13367769122123718, 0.1604132354259491, 0.018509218469262123, 0.2509027421474457, 0.026735538616776466, 0.5366185903549194, 0.1587076485157013, 0.006348306313157082, 0.03846326842904091, 0.12136467546224594, 0.013070042245090008, 0.014937191270291805, 0.07095165550708771, 0.0007468595285899937, 0.02203235775232315, 0.004481157287955284, 0.010082604363560677, 0.0018671489087864757, 0.9451452493667603, 0.4567205607891083, 0.04105353355407715, 0.029763810336589813, 0.14471369981765747, 0.06979100406169891, 0.01231606025248766, 0.03386916592717171, 0.18576723337173462, 0.013342398218810558, 0.014368736185133457, 0.7863686680793762, 0.2047525942325592, 0.008902287110686302, 0.9820443987846375, 0.21557413041591644, 0.14371608197689056, 0.19042381644248962, 0.05030062794685364, 0.039521921426057816, 0.359290212392807, 0.08005255460739136, 0.8965886235237122, 0.11273746192455292, 0.8010293245315552, 0.08306970447301865, 0.0558507926762104, 0.9271231293678284, 0.10441474616527557, 0.8922714591026306, 0.9781732559204102, 0.2164592742919922, 0.18553651869297028, 0.556609570980072, 0.9792105555534363, 0.9956489205360413, 0.9866909384727478, 0.9876065254211426, 0.1911221444606781, 0.0792803019285202, 0.01840435527265072, 0.014157196506857872, 0.2958854138851166, 0.04388730973005295, 0.18687498569488525, 0.008494317531585693, 0.15431344509124756, 0.005662878509610891, 0.9876052141189575, 0.9807823896408081, 0.9927573204040527, 0.030200455337762833, 0.21140319108963013, 0.7399111390113831, 0.06285146623849869, 0.1586616337299347, 0.011497220024466515, 0.4138999283313751, 0.10040905326604843, 0.12570293247699738, 0.12723590433597565, 0.9914172887802124, 0.03187078237533569, 0.040976718068122864, 0.16845984756946564, 0.07284750044345856, 0.10016530752182007, 0.16845984756946564, 0.3004959225654602, 0.11382421851158142, 0.1810092031955719, 0.01419680006802082, 0.06743480265140533, 0.322977215051651, 0.0301681999117136, 0.0993776023387909, 0.0408158004283905, 0.023069800809025764, 0.04613960161805153, 0.051463399082422256, 0.12244740128517151, 0.1364194005727768, 0.018017657101154327, 0.20334212481975555, 0.5147901773452759, 0.12354964762926102, 0.9787613153457642, 0.9539560675621033, 0.9855086803436279, 0.9895640015602112, 0.019215043634176254, 0.11529026180505753, 0.23058052361011505, 0.03843008726835251, 0.5892613530158997, 0.9920338988304138, 0.971336305141449, 0.9859325885772705, 0.9946275949478149, 0.977275013923645, 0.957342267036438, 0.9828449487686157, 0.9673320651054382, 0.051426444202661514, 0.025713222101330757, 0.17631922662258148, 0.6465038657188416, 0.05877307802438736, 0.0404064916074276, 0.9941125512123108, 0.967199444770813, 0.14391103386878967, 0.09594068676233292, 0.7195551991462708, 0.9807690382003784, 0.9600700736045837, 0.793852686882019, 0.19985103607177734, 0.9648137092590332, 0.9857876300811768, 0.9855514168739319, 0.9088930487632751, 0.9804953932762146, 0.9812777042388916, 0.9656406044960022, 0.8372225165367126, 0.15882998704910278, 0.9636272192001343, 0.2763740122318268, 0.6909350156784058, 0.9202457070350647, 0.07633374631404877, 0.914800763130188, 0.08470377326011658, 0.9110182523727417, 0.08568983525037766, 0.16942591965198517, 0.31174370646476746, 0.5167490839958191, 0.9881052374839783, 0.989592432975769, 0.07106509059667587, 0.2468576729297638, 0.02618187479674816, 0.654546856880188, 0.9061108827590942, 0.97915118932724, 0.9810991883277893, 0.2636299133300781, 0.7014438509941101, 0.032953739166259766, 0.9675139784812927, 0.9807755351066589, 0.9143773913383484, 0.013633858412504196, 0.07180498540401459, 0.7688516974449158, 0.05914243683218956, 0.018925579264760017, 0.11591918021440506, 0.035485461354255676, 0.904928982257843, 0.06940458714962006, 0.018685849383473396, 0.0053388141095638275, 0.9962203502655029, 0.005156610626727343, 0.09281899034976959, 0.7838048338890076, 0.11344543844461441, 0.27244800329208374, 0.5896263122558594, 0.13419081270694733, 0.8907970190048218, 0.009897744283080101, 0.09897744655609131, 0.9754626154899597, 0.10235550999641418, 0.30207356810569763, 0.5916647911071777, 0.9574026465415955, 0.9832741022109985, 0.922312319278717, 0.6558025479316711, 0.3406766355037689, 0.08353061228990555, 0.9095554947853088, 0.9786129593849182, 0.29639023542404175, 0.04657560959458351, 0.22440974414348602, 0.033873170614242554, 0.40224388241767883, 0.9845089316368103, 0.9837021827697754, 0.03572457656264305, 0.13396716117858887, 0.0714491531252861, 0.7502160668373108, 0.34039273858070374, 0.12291960418224335, 0.5389552116394043, 0.984574019908905, 0.10478636622428894, 0.07519962638616562, 0.7778846621513367, 0.04068176448345184, 0.9405397176742554, 0.9737046957015991, 0.9903076887130737, 0.007241738028824329, 0.9108071327209473, 0.0852479562163353, 0.9533144235610962, 0.0455767847597599, 0.5757863521575928, 0.0502077154815197, 0.0021364986896514893, 0.03204748034477234, 0.06302671134471893, 0.013887240551412106, 0.007477744948118925, 0.23501484096050262, 0.007477744948118925, 0.007477744948118925, 0.0021364986896514893, 0.0021364986896514893, 0.6104928255081177, 0.3851919174194336, 0.9766210913658142, 0.0014011780731379986, 0.019616492092609406, 0.04607551544904709, 0.18672709167003632, 0.15277671813964844, 0.29585331678390503, 0.007275081239640713, 0.3104034662246704, 0.9710816740989685, 0.9952126145362854, 0.9875807166099548, 0.9935740232467651, 0.985022246837616, 0.9910208582878113, 0.9775166511535645, 0.5395755171775818, 0.08294844627380371, 0.041884858161211014, 0.11169295758008957, 0.1211375817656517, 0.004106358624994755, 0.06036347150802612, 0.029565783217549324, 0.00821271724998951, 0.12971799075603485, 0.033475611358881, 0.28872713446617126, 0.020922256633639336, 0.3724161684513092, 0.012553353793919086, 0.04184451326727867, 0.00836890283972025, 0.08787347376346588, 0.13381779193878174, 0.0324406772851944, 0.18247880041599274, 0.1378728747367859, 0.1622033715248108, 0.0162203386425972, 0.32846182584762573, 0.24675846099853516, 0.2696717381477356, 0.4600282609462738, 0.024675846099853516, 0.1342771351337433, 0.011847983114421368, 0.01974663883447647, 0.055290587246418, 0.023695966228842735, 0.011847983114421368, 0.1382264643907547, 0.03554394841194153, 0.015797311440110207, 0.5529058575630188, 0.9352443218231201, 0.1579054594039917, 0.06661636382341385, 0.017270909622311592, 0.6217527389526367, 0.07895272970199585, 0.039476364850997925, 0.012336364015936852, 0.004934545606374741, 0.008135026320815086, 0.0894852876663208, 0.7890975475311279, 0.10982285439968109, 0.8570852875709534, 0.9872063398361206, 0.9837012887001038, 0.05632558837532997, 0.9387598037719727, 0.2680698037147522, 0.7067294716835022, 0.2493504285812378, 0.01918080262839794, 0.10412435233592987, 0.5946048498153687, 0.008220343850553036, 0.008220343850553036, 0.0027401146944612265, 0.013700572773814201, 0.585074782371521, 0.09782301634550095, 0.19005614519119263, 0.05403557047247887, 0.0121114207431674, 0.0568305104970932, 0.0027949432842433453, 0.9967193603515625, 0.03587942570447922, 0.9615685939788818, 0.9904063940048218, 0.9607503414154053, 0.026321927085518837, 0.4356187582015991, 0.10101304203271866, 0.17045950889587402, 0.28409919142723083, 0.2591707408428192, 0.16731275618076324, 0.019683854654431343, 0.00656128441914916, 0.05577091872692108, 0.07545477151870728, 0.12466440349817276, 0.06889348477125168, 0.21980303525924683, 0.9379569888114929, 0.05322115495800972, 0.001580826356075704, 0.006850247737020254, 0.993821382522583, 0.8919948935508728, 0.10104204714298248, 0.006518842186778784, 0.9885352849960327, 0.9882046580314636, 0.17749202251434326, 0.7987141013145447, 0.8621480464935303, 0.07215914875268936, 0.14745564758777618, 0.7655144333839417, 0.012549417093396187, 0.9909630417823792, 0.9944322109222412, 0.009862399660050869, 0.9369279742240906, 0.019724799320101738, 0.029587198048830032, 0.27691343426704407, 0.05520879849791527, 0.07129325717687607, 0.056512944400310516, 0.11693832278251648, 0.05477408692240715, 0.021735748276114464, 0.005216579418629408, 0.05520879849791527, 0.05216579511761665, 0.10824402421712875, 0.046079784631729126, 0.006520724389702082, 0.020431602373719215, 0.008259584195911884, 0.04086320474743843, 0.003912434447556734, 0.9813122749328613, 0.06766267120838165, 0.1353253424167633, 0.0394698902964592, 0.38342180848121643, 0.3721446990966797, 0.9756090044975281, 0.9586933255195618, 0.023200582712888718, 0.03480087220668793, 0.9048227071762085, 0.03480087220668793, 0.8240223526954651, 0.16921888291835785, 0.9735517501831055, 0.9835965633392334, 0.012143167667090893, 0.2118736058473587, 0.7733386158943176, 0.10424473136663437, 0.8888234496116638, 0.5095956325531006, 0.19470399618148804, 0.07211259007453918, 0.052882567048072815, 0.09615012258291245, 0.07211259007453918, 0.05643203854560852, 0.9367718696594238, 0.9523715972900391, 0.9325217008590698, 0.06696299463510513, 0.9932558536529541, 0.9864158630371094, 0.9444704651832581, 0.9884263873100281, 0.05735927075147629, 0.1816376894712448, 0.022306382656097412, 0.630952000617981, 0.07010577619075775, 0.035052888095378876, 0.18980662524700165, 0.8066781163215637, 0.05817660689353943, 0.9084500670433044, 0.026850741356611252, 0.16289563477039337, 0.7834504246711731, 0.007756934966892004, 0.04654160887002945, 0.9838014841079712, 0.9764096736907959, 0.9566324949264526, 0.010502957738935947, 0.988444983959198, 0.018604863435029984, 0.9792923927307129, 0.9552345871925354, 0.05265311151742935, 0.13163277506828308, 0.13163277506828308, 0.6713271737098694, 0.9814306497573853, 0.9829637408256531, 0.9884628653526306, 0.9975999593734741, 0.11572430282831192, 0.07488042861223221, 0.7556115984916687, 0.04084387049078941, 0.06892562657594681, 0.16082645952701569, 0.37909093499183655, 0.3905785381793976, 0.11894556134939194, 0.0465439148247242, 0.8274474143981934, 0.014954117126762867, 0.11963293701410294, 0.044862352311611176, 0.8224764466285706, 0.9805609583854675, 0.9711579084396362, 0.9766338467597961, 0.2740262448787689, 0.06850656121969223, 0.21693743765354156, 0.03044736012816429, 0.026641439646482468, 0.3805919885635376, 0.9810589551925659, 0.990536093711853, 0.3872050940990448, 0.09192638844251633, 0.007660532370209694, 0.20822720229625702, 0.08565868437290192, 0.03133854269981384, 0.18594200909137726, 0.0027856482192873955, 0.37020108103752136, 0.14016950130462646, 0.004608312156051397, 0.07526910305023193, 0.011904806829988956, 0.005376364104449749, 0.028801951557397842, 0.0003840260033030063, 0.2292635291814804, 0.10138286650180817, 0.0007680520066060126, 0.008832598105072975, 0.023041561245918274, 0.16439366340637207, 0.830187976360321, 0.9843053817749023, 0.7823454737663269, 0.0007831286056898534, 0.1934327632188797, 0.022710729390382767, 0.18986110389232635, 0.6135181188583374, 0.19456841051578522, 0.9671411514282227, 0.32497331500053406, 0.09125963598489761, 0.008903378620743752, 0.11463100463151932, 0.09459839761257172, 0.026710135862231255, 0.09793716669082642, 0.16026082634925842, 0.014467990957200527, 0.007790456525981426, 0.06009780615568161, 0.990811824798584, 0.2990577518939972, 0.6919375061988831, 0.0058638774789869785, 0.12046805024147034, 0.025814581662416458, 0.10325832664966583, 0.07744374871253967, 0.22372637689113617, 0.043024301528930664, 0.17209720611572266, 0.23233123123645782, 0.009084916673600674, 0.045424580574035645, 0.11507560312747955, 0.03028305433690548, 0.11204729974269867, 0.03028305433690548, 0.10901899635791779, 0.5450949668884277, 0.1893043965101242, 0.004823042079806328, 0.08802051842212677, 0.10490116477012634, 0.06390530616044998, 0.40513551235198975, 0.07596290856599808, 0.06390530616044998, 0.002411521039903164, 0.1701194941997528, 0.8222442269325256, 0.9081271886825562, 0.08173144608736038, 0.9354948401451111, 0.06236632540822029, 0.8782473802566528, 0.9868726134300232, 0.9820642471313477, 0.9502606391906738, 0.4024767279624939, 0.014171715825796127, 0.008503029122948647, 0.5725373029708862, 0.2299490123987198, 0.555907666683197, 0.06519173085689545, 0.024891387671232224, 0.06637703627347946, 0.03437381982803345, 0.022520780563354492, 0.040125325322151184, 0.6286301016807556, 0.15476912260055542, 0.1490369290113449, 0.024839486926794052, 0.04618926718831062, 0.9468799829483032, 0.9441158175468445, 0.9776288270950317, 0.9521393775939941, 0.9260267615318298, 0.006430808454751968, 0.9174619913101196, 0.07502609491348267, 0.2572130560874939, 0.23300477862358093, 0.07867693901062012, 0.3298379182815552, 0.0015130180399864912, 0.08321598917245865, 0.01210414431989193, 0.00453905388712883, 0.060610610991716385, 0.2929512858390808, 0.20203536748886108, 0.08081414550542831, 0.08081414550542831, 0.28284952044487, 0.9943960309028625, 0.9543408155441284, 0.15188293159008026, 0.655494749546051, 0.021316902711987495, 0.17053522169589996, 0.9878906011581421, 0.23300500214099884, 0.34831464290618896, 0.017495255917310715, 0.08429532498121262, 0.06123339384794235, 0.1558668166399002, 0.0015904777683317661, 0.02942383848130703, 0.01829049549996853, 0.023061927407979965, 0.028628600761294365, 0.9930069446563721, 0.9556186199188232, 0.9875648617744446, 0.15038789808750153, 0.21660347282886505, 0.16722236573696136, 0.01571216806769371, 0.013467573560774326, 0.15038789808750153, 0.09315071254968643, 0.037035826593637466, 0.07743854820728302, 0.056114889681339264, 0.011222978122532368, 0.007856084033846855, 0.0033668933901935816, 0.2165202498435974, 0.03331080824136734, 0.22901180386543274, 0.4788428544998169, 0.024983106181025505, 0.010409627109766006, 0.006245776545256376, 0.9917333722114563, 0.9962356090545654, 0.4715995788574219, 0.052399951964616776, 0.09169992059469223, 0.37989965081214905, 0.9339545369148254, 0.06058083474636078, 0.03397921100258827, 0.056632015854120255, 0.4935075640678406, 0.009708345867693424, 0.11811820417642593, 0.07119453698396683, 0.0016180576058104634, 0.19740302860736847, 0.014562518335878849, 0.04225404933094978, 0.9436737298965454, 0.980285108089447, 0.9887188076972961, 0.9870678186416626, 0.9723661541938782, 0.10258020460605621, 0.011656842194497585, 0.2704387307167053, 0.247125044465065, 0.2844269275665283, 0.08392926305532455, 0.9610357284545898, 0.956882894039154, 0.14912264049053192, 0.8308261036872864, 0.9781321883201599, 0.9908562898635864, 0.9796562790870667, 0.6249464750289917, 0.12967640161514282, 0.10467853397130966, 0.0062494645826518536, 0.010936563834547997, 0.09061723947525024, 0.031247323378920555, 0.15553387999534607, 0.833217203617096, 0.9795899987220764, 0.0014480303507298231, 0.03330469876527786, 0.9412197470664978, 0.007240151520818472, 0.017376363277435303, 0.8400014638900757, 0.15770141780376434, 0.9422060251235962, 0.9743526577949524, 0.05562087148427963, 0.009535006247460842, 0.022248348221182823, 0.03496168926358223, 0.4910528361797333, 0.16845178604125977, 0.15891677141189575, 0.0015891677467152476, 0.009535006247460842, 0.015891676768660545, 0.015891676768660545, 0.015891676768660545, 0.11169985681772232, 0.05878939852118492, 0.07936568558216095, 0.02351575903594494, 0.16167084872722626, 0.22339971363544464, 0.07054727524518967, 0.02351575903594494, 0.017636818811297417, 0.22927865386009216, 0.30340415239334106, 0.330986350774765, 0.35856854915618896, 0.057205088436603546, 0.8866788744926453, 0.04290381446480751, 0.985226571559906, 0.9636313319206238, 0.014171048998832703, 0.9814147353172302, 0.15879939496517181, 0.37283337116241455, 0.4395751357078552, 0.027617286890745163, 0.08895624428987503, 0.015034858137369156, 0.003758714534342289, 0.17415377497673035, 0.4654541611671448, 0.20923511683940887, 0.030069716274738312, 0.013155501335859299, 0.9622930884361267, 0.9826610684394836, 0.9757066965103149, 0.9776678085327148, 0.06734587997198105, 0.8521844148635864, 0.07770678400993347, 0.11229273676872253, 0.1598012000322342, 0.04318951442837715, 0.38006770610809326, 0.07342217117547989, 0.004318951163440943, 0.18139594793319702, 0.04318951442837715, 0.9940704107284546, 0.9635475277900696, 0.9341765642166138, 0.05912509560585022, 0.6210236549377441, 0.37371334433555603, 0.9709880948066711, 0.9894394278526306, 0.9823659658432007, 0.9758651256561279, 0.01251109130680561, 0.15671545267105103, 0.19498318433761597, 0.032800909131765366, 0.3936109244823456, 0.04737909138202667, 0.04737909138202667, 0.007289091125130653, 0.1202700063586235, 0.9932422041893005, 0.943585216999054, 0.021781139075756073, 0.8908485770225525, 0.01742491126060486, 0.010890569537878036, 0.05663096159696579, 0.22379742562770844, 0.7635441422462463, 0.9772173762321472, 0.9439506530761719, 0.049681615084409714, 0.025677330791950226, 0.972528874874115, 0.9985056519508362, 0.9826526045799255, 0.3670959770679474, 0.02971729263663292, 0.21326526999473572, 0.13809800148010254, 0.01922883652150631, 0.02971729263663292, 0.06293074041604996, 0.01922883652150631, 0.04719805344939232, 0.07167112082242966, 0.12298590689897537, 0.5411379933357239, 0.3320619463920593, 0.9746096134185791, 0.0339093953371048, 0.38430649042129517, 0.5651565790176392, 0.9987425804138184, 0.9822751879692078, 0.33913785219192505, 0.65740567445755, 0.18408997356891632, 0.8154863119125366, 0.9965425729751587, 0.0070983595214784145, 0.8092129826545715, 0.1774589866399765, 0.2524862289428711, 0.10286476463079453, 0.4488644003868103, 0.18702684342861176, 0.9949079751968384, 0.9922778606414795, 0.06223195791244507, 0.933479368686676, 0.10571728646755219, 0.8668817281723022, 0.9772247672080994, 0.989459753036499, 0.9770076870918274, 0.016559451818466187, 0.9507890343666077, 0.9845148324966431, 0.9810233116149902, 0.9902347922325134, 0.9933540225028992, 0.9119714498519897, 0.841828465461731, 0.05666153132915497, 0.08364321291446686, 0.016189008951187134, 0.9750588536262512, 0.6936867237091064, 0.29919397830963135, 0.0066487547010183334, 0.9804010987281799, 0.11953761428594589, 0.43745681643486023, 0.44254350662231445, 0.085601806640625, 0.4280090630054474, 0.4830387830734253, 0.3331979811191559, 0.23815461993217468, 0.00027311310986988246, 0.09558958560228348, 0.14447683095932007, 0.03195423260331154, 0.09149288386106491, 0.008466506376862526, 0.0554419569671154, 0.00027311310986988246, 0.0008193393005058169, 0.9833434820175171, 0.9916597604751587, 0.979881763458252, 0.2271103411912918, 0.003663070034235716, 0.03663070127367973, 0.6447003483772278, 0.058609120547771454, 0.025641489773988724, 0.9563645720481873, 0.20999225974082947, 0.06450273841619492, 0.025801096111536026, 0.02150091342628002, 0.16484034061431885, 0.01791742816567421, 0.0659361332654953, 0.0035834854934364557, 0.05518567934632301, 0.040135037153959274, 0.25012728571891785, 0.025801096111536026, 0.04586861655116081, 0.005016879644244909, 0.005016879644244909, 0.2685815989971161, 0.06584580987691879, 0.02945733442902565, 0.12476047873497009, 0.3742814362049103, 0.062380239367485046, 0.03985404223203659, 0.015595059841871262, 0.01906062848865986, 0.9738085269927979, 0.9950574636459351, 0.03148546442389488, 0.9550590515136719, 0.986083984375, 0.2452184110879898, 0.6501139402389526, 0.07128442078828812, 0.028513768687844276, 0.98198002576828, 0.9923191666603088, 0.07685888558626175, 0.9117053747177124, 0.0079509187489748, 0.992438554763794, 0.9949713945388794, 0.1100192442536354, 0.0550096221268177, 0.026129569858312607, 0.4166978895664215, 0.004125721752643585, 0.16090314090251923, 0.04400769993662834, 0.14302502572536469, 0.0013752406230196357, 0.00825144350528717, 0.031630534678697586, 0.919133186340332, 0.07923562079668045, 0.14767304062843323, 0.8457638025283813, 0.3684535324573517, 0.15426601469516754, 0.2524352967739105, 0.01912388578057289, 0.005099702626466751, 0.06629613786935806, 0.11091853678226471, 0.015299108810722828, 0.007649554405361414, 0.9796639084815979, 0.9801195859909058, 0.3012062907218933, 0.05595531687140465, 0.5000262260437012, 0.08809985965490341, 0.002381077269092202, 0.03333508223295212, 0.005952693056315184, 0.011905386112630367, 0.37921854853630066, 0.19294410943984985, 0.006907875649631023, 0.046211306005716324, 0.08289450407028198, 0.009528104215860367, 0.03239555284380913, 0.0014292156556621194, 0.2000901848077774, 0.0009528103983029723, 0.025964083150029182, 0.0019056207966059446, 0.01572137139737606, 0.0038112415932118893, 0.00047640519915148616, 0.9553685784339905, 0.09873856604099274, 0.8886470794677734, 0.10144968330860138, 0.058381423354148865, 0.005742434877902269, 0.026798030361533165, 0.04976776987314224, 0.506291389465332, 0.07082336395978928, 0.036368757486343384, 0.04115411639213562, 0.006699507590383291, 0.0019141450757160783, 0.021055595949292183, 0.030626321211457253, 0.04115411639213562, 0.15690819919109344, 0.10070227086544037, 0.44730544090270996, 0.03981252759695053, 0.021077219396829605, 0.049180179834365845, 0.11943758279085159, 0.032786786556243896, 0.032786786556243896, 0.02042023278772831, 0.008751528337597847, 0.03597850352525711, 0.02042023278772831, 0.06417787075042725, 0.07584657520055771, 0.6787295937538147, 0.02528219111263752, 0.0048619601875543594, 0.017503056675195694, 0.03208893537521362, 0.01069631241261959, 0.002917175879701972, 0.002917175879701972, 0.19303101301193237, 0.7978615760803223, 0.989788830280304, 0.33659157156944275, 0.10488688945770264, 0.023837929591536522, 0.07246730476617813, 0.12681779265403748, 0.2498215138912201, 0.024791447445750237, 0.007628137711435556, 0.020977377891540527, 0.010488688945770264, 0.020977377891540527, 0.16279403865337372, 0.2738591432571411, 0.018257275223731995, 0.1201937273144722, 0.14605820178985596, 0.19626571238040924, 0.03347167372703552, 0.019778715446591377, 0.02586447447538376, 0.0015214396407827735, 0.8958874940872192, 0.032741729170084, 0.0982251837849617, 0.11787021905183792, 0.7399630546569824, 0.9813548922538757, 0.9810457825660706, 0.4321748912334442, 0.04190288856625557, 0.0903787836432457, 0.0164325051009655, 0.08627065271139145, 0.08873552829027176, 0.01889738067984581, 0.10845453292131424, 0.00821625255048275, 0.01478925533592701, 0.0287568848580122, 0.01971900649368763, 0.04025963693857193, 0.003286501159891486, 0.2242857962846756, 0.04399452358484268, 0.008626377210021019, 0.09747806191444397, 0.12767037749290466, 0.168214350938797, 0.026741769164800644, 0.22342316806316376, 0.026741769164800644, 0.03364286944270134, 0.009489014744758606, 0.008626377210021019, 0.17829613387584686, 0.11886409670114517, 0.3268762528896332, 0.3565922677516937, 0.0238062534481287, 0.9712951183319092, 0.9590134620666504, 0.3130321502685547, 0.053103670477867126, 0.027949299663305283, 0.10341241210699081, 0.08105297386646271, 0.3940851390361786, 0.011179720051586628, 0.013974649831652641, 0.15884274244308472, 0.02406708151102066, 0.009626832790672779, 0.5896434783935547, 0.038507331162691116, 0.01203354075551033, 0.15402932465076447, 0.01203354075551033, 0.9971194863319397, 0.9877684712409973, 0.13279731571674347, 0.8126877546310425, 0.021470224484801292, 0.0063615478575229645, 0.02624138630926609, 0.9766008257865906, 0.9941965341567993, 0.5293852686882019, 0.12600015103816986, 0.045692361891269684, 0.05676930025219917, 0.00738462433218956, 0.05169237032532692, 0.00738462433218956, 0.002769234124571085, 0.10800012946128845, 0.02584618516266346, 0.02630772441625595, 0.0032307731453329325, 0.00369231216609478, 0.005076928995549679, 0.9920629858970642, 0.1477804034948349, 0.037804290652275085, 0.061861567199230194, 0.7492123246192932, 0.3272627592086792, 0.6647524833679199, 0.31292620301246643, 0.055864088237285614, 0.14926186203956604, 0.18374048173427582, 0.07201230525970459, 0.030550673604011536, 0.08641476184129715, 0.0061101350001990795, 0.049753956496715546, 0.03098711185157299, 0.012656708247959614, 0.010038078762590885, 0.9773881435394287, 0.05905940756201744, 0.017974602058529854, 0.03338140249252319, 0.16690701246261597, 0.04108480364084244, 0.3286784291267395, 0.051356006413698196, 0.09757640957832336, 0.1900172233581543, 0.015406801365315914, 0.21531350910663605, 0.7751286625862122, 0.3586794435977936, 0.6237903833389282, 0.9919115900993347, 0.9845576286315918, 0.33850306272506714, 0.6528273224830627, 0.9861152172088623, 0.9738689064979553, 0.02549395151436329, 0.9902673959732056, 0.28098252415657043, 0.04634763300418854, 0.6575570702552795, 0.011586908251047134, 0.9723787903785706, 0.14751370251178741, 0.060346513986587524, 0.05364134535193443, 0.07375685125589371, 0.07375685125589371, 0.04023100808262825, 0.5565289855003357, 0.930263102054596, 0.001735565485432744, 0.008677827194333076, 0.057273659855127335, 0.9818465709686279, 0.16179384291172028, 0.06407676637172699, 0.1025228276848793, 0.136163130402565, 0.5350409746170044, 0.2629333734512329, 0.7261969447135925, 0.9459599256515503, 0.9780961275100708, 0.9915510416030884, 0.5202807784080505, 0.1281517595052719, 0.052948929369449615, 0.09361984580755234, 0.0023021274246275425, 0.026090778410434723, 0.0030695032328367233, 0.0007673758082091808, 0.11203686892986298, 0.006139006465673447, 0.04143829271197319, 0.013812764547765255, 0.08169805258512497, 0.02450941503047943, 0.05718863755464554, 0.2532639503479004, 0.277773380279541, 0.04493393003940582, 0.02859431877732277, 0.012254707515239716, 0.22058473527431488, 0.107542484998703, 0.8182579874992371, 0.07013639807701111, 0.9960997104644775, 0.09972085803747177, 0.5185484886169434, 0.35899507999420166, 0.9635628461837769, 0.13726995885372162, 0.0998326987028122, 0.09359315782785416, 0.06863497942686081, 0.13103042542934418, 0.13726995885372162, 0.056155893951654434, 0.012479087337851524, 0.26206085085868835, 0.08909451216459274, 0.01572256162762642, 0.8961859941482544, 0.9907998442649841, 0.09661569446325302, 0.8695412278175354, 0.7593187689781189, 0.23788784444332123, 0.9450128674507141, 0.05117398127913475, 0.5312645435333252, 0.06470529735088348, 0.0034055421128869057, 0.01873048208653927, 0.10727457702159882, 0.006811084225773811, 0.02894710749387741, 0.24009071290493011, 0.9822406768798828, 0.015928227454423904, 0.9916591644287109, 0.011729762889444828, 0.9794352650642395, 0.16551683843135834, 0.03310336545109749, 0.7981589436531067, 0.9921366572380066, 0.903548002243042, 0.9934192299842834, 0.00448102131485939, 0.011202552355825901, 0.9835841059684753, 0.9935061931610107, 0.9902042150497437, 0.6419157385826111, 0.35729271173477173, 0.988962709903717, 0.9548449516296387, 0.47134485840797424, 0.15651355683803558, 0.049615249037742615, 0.054576773196458817, 0.02029714733362198, 0.00856990646570921, 0.0063146683387458324, 0.00045104773016646504, 0.16914290189743042, 0.03833905607461929, 0.005412572529166937, 0.007216763682663441, 0.0027062862645834684, 0.009472002275288105, 0.9551756978034973, 0.9830226898193359, 0.9735095500946045, 0.03265523537993431, 0.018660133704543114, 0.9470018148422241, 0.3352225422859192, 0.07093920558691025, 0.12379587441682816, 0.21003569662570953, 0.03894701600074768, 0.15091969072818756, 0.007650306914001703, 0.026428332552313805, 0.026428332552313805, 0.009041272103786469, 0.994057834148407, 0.9761132001876831, 0.9618974924087524, 0.16818946599960327, 0.12185154855251312, 0.119277223944664, 0.25914907455444336, 0.26858827471733093, 0.013729752041399479, 0.023168956860899925, 0.023168956860899925, 0.0008581095025874674, 0.0017162190051749349, 0.03493095189332962, 0.9636833667755127, 0.0266982801258564, 0.08166532963514328, 0.04083266481757164, 0.5480999946594238, 0.11621604859828949, 0.04868509992957115, 0.0628194808959961, 0.07224240899085999, 0.9786337018013, 0.010194101370871067, 0.9579229354858398, 0.03483356162905693, 0.9956434369087219, 0.9944878220558167, 0.9861360788345337, 0.9876415133476257, 0.3469429314136505, 0.3749960660934448, 0.006297644227743149, 0.023473037406802177, 0.0303431935608387, 0.07557173073291779, 0.01946544460952282, 0.020037958398461342, 0.06354895234107971, 0.005152618046849966, 0.01946544460952282, 0.01431282702833414, 0.960422933101654, 0.9781234264373779, 0.010517456568777561, 0.031094476580619812, 0.07773619145154953, 0.062188953161239624, 0.8240036368370056, 0.21526330709457397, 0.0030106755439192057, 0.019569391384720802, 0.43052661418914795, 0.15956580638885498, 0.08279357850551605, 0.07376155257225037, 0.0015053377719596028, 0.012042702175676823, 0.11397802084684372, 0.048354312777519226, 0.13470129668712616, 0.7011374831199646, 0.07212132960557938, 0.9231529831886292, 0.9956689476966858, 0.5903483033180237, 0.2245890200138092, 0.0802103653550148, 0.08341877907514572, 0.01925048790872097, 0.08125846087932587, 0.908617377281189, 0.9706272482872009, 0.993291974067688, 0.0060031902976334095, 0.18609890341758728, 0.5282807350158691, 0.15007975697517395, 0.12606699764728546, 0.948811948299408, 0.04831912741065025, 0.1811951845884323, 0.0708119124174118, 0.1624508500099182, 0.031240548938512802, 0.2943553924560547, 0.09996975213289261, 0.10205245763063431, 0.029157845303416252, 0.02152126654982567, 0.006942343898117542, 0.004263943061232567, 0.8144131302833557, 0.08954280614852905, 0.04263943061232567, 0.046903375536203384, 0.9812762141227722, 0.9926718473434448, 0.12505754828453064, 0.1028250902891159, 0.036127734929323196, 0.04446490481495857, 0.022232452407479286, 0.6669735908508301, 0.056725360453128815, 0.0025784254539757967, 0.13665655255317688, 0.4795871376991272, 0.020627403631806374, 0.018048977479338646, 0.09798017144203186, 0.1289212703704834, 0.056725360453128815, 0.9841442108154297, 0.97624671459198, 0.2495010644197464, 0.04109429568052292, 0.01027357392013073, 0.014676533639431, 0.09392981231212616, 0.4256194829940796, 0.073382668197155, 0.0073382668197155, 0.01027357392013073, 0.014676533639431, 0.02788541465997696, 0.03228837251663208, 0.1407274305820465, 0.562909722328186, 0.0127934031188488, 0.0127934031188488, 0.1151406317949295, 0.0511736124753952, 0.1023472249507904, 0.9852078557014465, 0.9952250123023987, 0.987426221370697, 0.9823240637779236, 0.2274039089679718, 0.19789347052574158, 0.013887261040508747, 0.18921393156051636, 0.16664713621139526, 0.01735907606780529, 0.050341323018074036, 0.13366489112377167, 0.0034718152601271868, 0.9916566014289856, 0.9683243036270142, 0.99284428358078, 0.9858522415161133, 0.9986510276794434, 0.9830551147460938, 0.9898459911346436, 0.13068750500679016, 0.5150625109672546, 0.015375000424683094, 0.2959687411785126, 0.04228125140070915, 0.9310033321380615, 0.9768325686454773, 0.1199684590101242, 0.08513890951871872, 0.019349751994013786, 0.603712260723114, 0.14705811440944672, 0.02708965353667736, 0.08175938576459885, 0.915705144405365, 0.9858142733573914, 0.995910108089447, 0.984910786151886, 0.9686501026153564, 0.9586617350578308, 0.9888251423835754, 0.9794418215751648, 0.974655270576477, 0.33896923065185547, 0.05635673925280571, 0.1906183809041977, 0.09448041766881943, 0.04392510652542114, 0.12265878915786743, 0.05718551576137543, 0.028178369626402855, 0.029007146134972572, 0.02983592078089714, 0.008287755772471428, 0.9888445138931274, 0.2713887393474579, 0.7237032651901245, 0.9885510802268982, 0.23753835260868073, 0.5938459038734436, 0.679693341255188, 0.3161364495754242, 0.9824730157852173, 0.2897610664367676, 0.018110066652297974, 0.6845605373382568, 0.9882403016090393, 0.9861552715301514, 0.500209391117096, 0.010487525723874569, 0.09917552024126053, 0.13952969014644623, 0.1527530997991562, 0.004559793975204229, 0.009575567208230495, 0.05882134288549423, 0.0248508770018816, 0.7099953889846802, 0.030869366601109505, 0.03601425886154175, 0.13033732771873474, 0.0017149647464975715, 0.07374348491430283, 0.0017149647464975715, 0.015434683300554752, 0.1295216977596283, 0.15078645944595337, 0.038663193583488464, 0.04832899197936058, 0.013532117940485477, 0.6166779398918152, 0.32255756855010986, 0.2442411184310913, 0.23760414123535156, 0.13672193884849548, 0.04778630658984184, 0.01194657664746046, 0.9637236595153809, 0.03160629794001579, 0.6068409085273743, 0.3539905250072479, 0.9785606265068054, 0.9849070310592651, 0.329504132270813, 0.07835768908262253, 0.020091714337468147, 0.32548579573631287, 0.24511893093585968, 0.9361304640769958, 0.05912403017282486, 0.012369350530207157, 0.012369350530207157, 0.10720103979110718, 0.04947740212082863, 0.8122540712356567, 0.015401886776089668, 0.09241132438182831, 0.8625056743621826, 0.9893509149551392, 0.9847028255462646, 0.376167893409729, 0.6206770539283752, 0.9939584136009216, 0.5702362656593323, 0.15266168117523193, 0.27389299869537354, 0.9862185120582581, 0.9922119975090027, 0.3993697166442871, 0.5790860652923584, 0.9608820080757141, 0.13221682608127594, 0.8543241024017334, 0.09521600604057312, 0.07423620671033859, 0.003227661130949855, 0.5261087417602539, 0.29855865240097046, 0.09062221646308899, 0.8105654120445251, 0.07551851868629456, 0.020138271152973175, 0.8614618182182312, 0.014539439231157303, 0.11995037645101547, 0.9972739219665527, 0.11441884934902191, 0.09153508394956589, 0.045767541974782944, 0.7437225580215454, 0.9752748012542725, 0.011893595568835735, 0.9882292151451111, 0.1155167743563652, 0.2594393193721771, 0.020830893889069557, 0.0681738331913948, 0.006943630985915661, 0.000631239206995815, 0.5100412368774414, 0.0037874351255595684, 0.007574870251119137, 0.0037874351255595684, 0.0031561958603560925, 0.20885412395000458, 0.20015186071395874, 0.07832029461860657, 0.5047308206558228, 0.43125206232070923, 0.05026417598128319, 0.06046270579099655, 0.19814284145832062, 0.026953253895044327, 0.05463497340679169, 0.006556196603924036, 0.017483191564679146, 0.09615755081176758, 0.033509451895952225, 0.009470062330365181, 0.014569326303899288, 0.9914649724960327, 0.11372393369674683, 0.01941628009080887, 0.1470089852809906, 0.07766512036323547, 0.09985515475273132, 0.002773754298686981, 0.011095017194747925, 0.4521219730377197, 0.07766512036323547, 0.978834867477417, 0.9911487698554993, 0.0789467841386795, 0.32608455419540405, 0.5938171148300171, 0.9716663360595703, 0.9147282242774963, 0.06456904858350754, 0.017935847863554955, 0.9169427752494812, 0.3817996680736542, 0.05756364390254021, 0.004699072800576687, 0.0681365579366684, 0.3395080268383026, 0.021145828068256378, 0.07518516480922699, 0.0011747682001441717, 0.052864570170640945, 0.2310549020767212, 0.019254576414823532, 0.04332279413938522, 0.036102328449487686, 0.0577637255191803, 0.5944850444793701, 0.004813644103705883, 0.009627288207411766, 0.004813644103705883, 0.21634137630462646, 0.15452955663204193, 0.6258447170257568, 0.9948680996894836, 0.9520591497421265, 0.16321517527103424, 0.8160759210586548, 0.27083125710487366, 0.23620037734508514, 0.024863196536898613, 0.023087255656719208, 0.0195353701710701, 0.04795045405626297, 0.06038204953074455, 0.05860610678792, 0.0008879713132046163, 0.16960252821445465, 0.08258133381605148, 0.004439856857061386, 0.9828909039497375, 0.977249026298523, 0.013079281896352768, 0.05231712758541107, 0.9351686835289001, 0.07612937688827515, 0.3657520115375519, 0.014894877560436726, 0.0016549864085391164, 0.03640970215201378, 0.19032344222068787, 0.02151482366025448, 0.0033099728170782328, 0.2747277617454529, 0.016549864783883095, 0.6273424029350281, 0.027515016496181488, 0.14858108758926392, 0.0440240278840065, 0.15408410131931305, 0.9520562291145325, 0.04696241393685341, 0.9767522215843201, 0.99330735206604, 0.9725353121757507, 0.4852657616138458, 0.10886190086603165, 0.01107070129364729, 0.016606053337454796, 0.057198625057935715, 0.010148143395781517, 0.023986520245671272, 0.17528611421585083, 0.05443095043301582, 0.013838376849889755, 0.023063961416482925, 0.019373727962374687, 0.9841824173927307, 0.2957332134246826, 0.4237459599971771, 0.07408146560192108, 0.04444887861609459, 0.0065191686153411865, 0.005333865527063608, 0.037337057292461395, 0.10904791206121445, 0.0029632586520165205, 0.9625892043113708, 0.9936179518699646, 0.03382481634616852, 0.7078611254692078, 0.003689979901537299, 0.05350470915436745, 0.0006149966502562165, 0.09347949177026749, 0.08302454650402069, 0.023984868079423904, 0.9867229461669922, 0.1564805954694748, 0.48121991753578186, 0.048795025795698166, 0.1581631898880005, 0.013460696674883366, 0.1379721462726593, 0.0033651741687208414, 0.9864708185195923, 0.9521232843399048, 0.9837934374809265, 0.12002351880073547, 0.870170533657074, 0.9618696570396423, 0.034599628299474716, 0.9845103025436401, 0.8389497995376587, 0.031072214245796204, 0.023304160684347153, 0.10486872494220734, 0.9805803298950195, 0.9854652881622314, 0.4105340838432312, 0.07434868812561035, 0.0010775172850117087, 0.2489064782857895, 0.2553716003894806, 0.004310069140046835, 0.004310069140046835, 0.030291972681879997, 0.9617701172828674, 0.9387715458869934, 0.057504259049892426, 0.07393404841423035, 0.057504259049892426, 0.7475553750991821, 0.057504259049892426, 0.9500768184661865, 0.9941530823707581, 0.9923396706581116, 0.09681539982557297, 0.19363079965114594, 0.6777077913284302, 0.5593035221099854, 0.11377137154340744, 0.027791479602456093, 0.21191003918647766, 0.01910664327442646, 0.028659963980317116, 0.013895739801228046, 0.025186028331518173, 0.9602307081222534, 0.3476426303386688, 0.6489328742027283, 0.9357396960258484, 0.0035531343892216682, 0.14212536811828613, 0.049743879586458206, 0.03553134202957153, 0.12080656737089157, 0.1598910391330719, 0.06750955432653427, 0.408610463142395, 0.014212537556886673, 0.939301073551178, 0.8563675284385681, 0.8824965357780457, 0.0980551689863205, 0.9812779426574707, 0.2500361204147339, 0.5316557884216309, 0.2000288963317871, 0.01579175516963005, 0.9751827120780945, 0.27057552337646484, 0.08141938596963882, 0.03700881078839302, 0.2195856124162674, 0.03454155847430229, 0.22452013194561005, 0.1003350019454956, 0.022205287590622902, 0.009869016706943512, 0.9635983109474182, 0.5061522722244263, 0.11291089653968811, 0.08046523481607437, 0.07916741073131561, 0.16677068173885345, 0.039583705365657806, 0.0019467395031824708, 0.012329350225627422, 0.05041830614209175, 0.9478641748428345, 0.8005226254463196, 0.09440125524997711, 0.08307310193777084, 0.018880249932408333, 0.9882723093032837, 0.9745633602142334, 0.9790124893188477, 0.9834473133087158, 0.9859621524810791, 0.970859944820404, 0.9821098446846008, 0.9754993915557861, 0.9547949433326721, 0.04381909221410751, 0.9953795075416565, 0.8163877129554749, 0.1796683371067047, 0.10596892237663269, 0.8848405480384827, 0.005298446398228407, 0.05300874635577202, 0.8128008246421814, 0.12368708103895187, 0.06571778655052185, 0.16898860037326813, 0.05945895239710808, 0.003129418473690748, 0.563295304775238, 0.06884720921516418, 0.03442360460758209, 0.03442360460758209, 0.17075029015541077, 0.7214199304580688, 0.1024501696228981, 0.9866767525672913, 0.9815588593482971, 0.09815745800733566, 0.09815745800733566, 0.8020182847976685, 0.9490312933921814, 0.0486682690680027, 0.14197230339050293, 0.038560379296541214, 0.11217565089464188, 0.4154004454612732, 0.08763722330331802, 0.20156562328338623, 0.9586880803108215, 0.28760969638824463, 0.04793495312333107, 0.07989158481359482, 0.5752193927764893, 0.005326105747371912, 0.9924860000610352, 0.972805917263031, 0.9899919033050537, 0.9885290265083313, 0.9879132509231567, 0.9919753670692444, 0.6801068782806396, 0.3100487291812897, 0.9808699488639832, 0.008335327729582787, 0.9835687279701233, 0.4926855266094208, 0.057872623205184937, 0.10601445287466049, 0.032777413725852966, 0.10755089670419693, 0.0020485883578658104, 0.14391334354877472, 0.04353250563144684, 0.0005121470894664526, 0.005121471360325813, 0.0030728827696293592, 0.003585029859095812, 0.9952932596206665, 0.9923662543296814, 0.08632735162973404, 0.019921695813536644, 0.05644480511546135, 0.5810495018959045, 0.16269385814666748, 0.05976508930325508, 0.019921695813536644, 0.013281131163239479, 0.8356990814208984, 0.23944826424121857, 0.053210727870464325, 0.6917394399642944, 0.9856719374656677, 0.014866458252072334, 0.11149843782186508, 0.07433228939771652, 0.795355498790741, 0.9773647785186768, 0.09004966169595718, 0.07879345864057541, 0.6078352332115173, 0.17259518802165985, 0.011256207711994648, 0.03376862406730652, 0.3053179979324341, 0.022898850962519646, 0.6640666723251343, 0.06705211848020554, 0.9219666719436646, 0.9853487610816956, 0.9055384993553162, 0.9661881923675537, 0.018580541014671326, 0.984365701675415, 0.01974015310406685, 0.41618824005126953, 0.0921207144856453, 0.106925830245018, 0.07567058503627777, 0.008225063793361187, 0.26978209614753723, 0.011515089310705662, 0.2006985992193222, 0.002477760426700115, 0.15609890222549438, 0.101588174700737, 0.448474645614624, 0.08672161400318146, 0.00495552085340023, 0.8668302893638611, 0.42706921696662903, 0.08232659846544266, 0.4836687445640564, 0.08618175238370895, 0.6147631406784058, 0.014363625086843967, 0.08043630421161652, 0.19821803271770477, 0.9914973974227905, 0.17240774631500244, 0.022558024153113365, 0.0005370958242565393, 0.1401820033788681, 0.4721072018146515, 0.0048338621854782104, 0.0010741916485130787, 0.07358212769031525, 0.02094673551619053, 0.08324985206127167, 0.00859353318810463, 0.9983789324760437, 0.9794813990592957, 0.9813814163208008, 0.982040286064148, 0.9946467280387878, 0.9880292415618896, 0.9920099377632141, 0.0941774845123291, 0.10763141512870789, 0.02690785378217697, 0.7534198760986328, 0.1318042278289795, 0.1040559709072113, 0.07908254116773605, 0.24834692478179932, 0.41899871826171875, 0.00138741300906986, 0.0180363692343235, 0.9842544198036194, 0.2155081331729889, 0.41124486923217773, 0.07117699831724167, 0.04942847043275833, 0.2530737817287445, 0.06108854338526726, 0.9250550866127014, 0.9544697403907776, 0.029218461364507675, 0.9941381216049194, 0.5206630825996399, 0.47727447748184204, 0.5335426330566406, 0.03663812205195427, 0.42820805311203003, 0.9925979375839233, 0.9992822408676147, 0.9723688364028931, 0.9987637996673584, 0.2628284990787506, 0.12897160649299622, 0.19345740973949432, 0.018564095720648766, 0.0879351869225502, 0.004885287955403328, 0.03126584365963936, 0.019541151821613312, 0.10454516857862473, 0.016609979793429375, 0.020518209785223007, 0.00195411522872746, 0.1094304546713829, 0.8854442238807678, 0.1102360263466835, 0.15303964912891388, 0.04657728224992752, 0.7918137907981873, 0.30741608142852783, 0.6108136177062988, 0.022101810202002525, 0.0482221283018589, 0.010046277195215225, 0.9923261404037476, 0.9964213967323303, 0.949022114276886, 0.13094601035118103, 0.6290543079376221, 0.1232432946562767, 0.05648651346564293, 0.05648651346564293, 0.311349093914032, 0.1763392984867096, 0.005510603077709675, 0.0082659050822258, 0.198381707072258, 0.005510603077709675, 0.2920619547367096, 0.06852827221155167, 0.05873851850628853, 0.8614982962608337, 0.9789133071899414, 0.06399080157279968, 0.06068093329668045, 0.001103289658203721, 0.03751185163855553, 0.7921620011329651, 0.013239476829767227, 0.008826317265629768, 0.006619738414883614, 0.008826317265629768, 0.008826317265629768, 0.986171543598175, 0.9799947738647461, 0.9944405555725098, 0.008452902548015118, 0.10143482685089111, 0.042264509946107864, 0.08734665811061859, 0.09579955786466599, 0.011270536109805107, 0.43109801411628723, 0.07607612013816833, 0.09861719608306885, 0.04789977893233299, 0.3959675133228302, 0.6016849875450134, 0.0369332917034626, 0.04779602214694023, 0.004345092922449112, 0.013035278767347336, 0.3280545175075531, 0.3758505582809448, 0.08255676925182343, 0.028243103995919228, 0.034760743379592896, 0.049968570470809937, 0.08794882148504257, 0.9088044762611389, 0.9836788177490234, 0.9225260615348816, 0.9835653305053711, 0.9782151579856873, 0.9801297187805176, 0.9943161010742188, 0.9935000538825989, 0.08707892149686813, 0.06841915100812912, 0.09951876848936081, 0.7463907599449158, 0.195939838886261, 0.03265663981437683, 0.7547312378883362, 0.010885546915233135, 0.9853267669677734, 0.11855975538492203, 0.024529606103897095, 0.49468037486076355, 0.10629495978355408, 0.008176535367965698, 0.2493843138217926, 0.3602859079837799, 0.04003176838159561, 0.6004765033721924, 0.98298180103302, 0.9956635236740112, 0.1522841900587082, 0.07223737239837646, 0.023428335785865784, 0.027333058416843414, 0.15618890523910522, 0.015618891455233097, 0.3338538110256195, 0.07809445261955261, 0.013666529208421707, 0.0253806971013546, 0.05857084318995476, 0.04295194894075394, 0.9864682555198669, 0.5606029033660889, 0.024915684014558792, 0.06228921189904213, 0.0809759795665741, 0.26161468029022217, 0.9369208216667175, 0.9928200840950012, 0.43245625495910645, 0.17000432312488556, 0.09927259385585785, 0.06700900197029114, 0.055220380425453186, 0.00930680613964796, 0.024197695776820183, 0.06700900197029114, 0.0037227224092930555, 0.048395391553640366, 0.003102268557995558, 0.004343176260590553, 0.016131795942783356, 0.9810357093811035, 0.0494467131793499, 0.15493303537368774, 0.6131392121315002, 0.04285381734371185, 0.023075131699442863, 0.11207921802997589, 0.05129005387425423, 0.16119731962680817, 0.038467541337013245, 0.005495362915098667, 0.5531998872756958, 0.02198145166039467, 0.11173904687166214, 0.012822513468563557, 0.04029932990670204, 0.9926221966743469, 0.981432318687439, 0.9887702465057373, 0.9884213805198669, 0.9747186899185181, 0.14640964567661285, 0.1024867445230484, 0.22937510907649994, 0.11224739253520966, 0.3611437678337097, 0.043922893702983856, 0.9866536855697632, 0.9676638245582581, 0.014442743733525276, 0.9769068956375122, 0.37333443760871887, 0.3900925815105438, 0.20668388903141022, 0.02979227341711521, 0.9923694133758545, 0.38876020908355713, 0.14228743314743042, 0.004167414270341396, 0.11906898021697998, 0.15717105567455292, 0.025004485622048378, 0.08334828913211823, 0.06370190531015396, 0.014883622527122498, 0.0011906898580491543, 0.9882596135139465, 0.23811033368110657, 0.1578173190355301, 0.1245926171541214, 0.08859919756650925, 0.02214979939162731, 0.008306174539029598, 0.02214979939162731, 0.011074899695813656, 0.32947826385498047, 0.02693883515894413, 0.02828577719628811, 0.04040825366973877, 0.10506145656108856, 0.5791849493980408, 0.03771436959505081, 0.04983684420585632, 0.11179616302251816, 0.020204126834869385, 0.23595643043518066, 0.03999261558055878, 0.691872239112854, 0.027994832023978233, 0.9873297810554504, 0.1515006422996521, 0.7196280360221863, 0.1278286576271057, 0.0886525958776474, 0.9096203446388245, 0.0007449798285961151, 0.9882656335830688, 0.25015392899513245, 0.7337849140167236, 0.048878297209739685, 0.6222583651542664, 0.005639803595840931, 0.29890960454940796, 0.013159542344510555, 0.009399672970175743, 0.9889696836471558, 0.9746662378311157, 0.04243919625878334, 0.9572396874427795, 0.9011850357055664, 0.09242923557758331, 0.019948787987232208, 0.10971833765506744, 0.04987196996808052, 0.04987196996808052, 0.039897575974464417, 0.009974393993616104, 0.20946228504180908, 0.5086941123008728, 0.11781886965036392, 0.8640050292015076, 0.9778987765312195, 0.9661747217178345, 0.02760499157011509, 0.9830366969108582, 0.12693221867084503, 0.006141881924122572, 0.7083637118339539, 0.07779716700315475, 0.07370258122682571, 0.006141881924122572, 0.0020472940523177385, 0.3576226830482483, 0.01332118920981884, 0.19981783628463745, 0.20494137704372406, 0.22338609397411346, 0.0031438523437827826, 0.007859631441533566, 0.451142817735672, 0.023578893393278122, 0.1603364795446396, 0.22321352362632751, 0.12889795005321503, 0.020132483914494514, 0.05234445631504059, 0.22548380494117737, 0.08858292549848557, 0.06442394852638245, 0.5476035475730896, 0.08972092717885971, 0.03262579068541527, 0.8727399706840515, 0.9569782614707947, 0.9862527847290039, 0.9344691634178162, 0.13062286376953125, 0.8549860119819641, 0.9716795086860657, 0.402194619178772, 0.14325660467147827, 0.006725662387907505, 0.07196458429098129, 0.16410616040229797, 0.005380529910326004, 0.008070794865489006, 0.10626546293497086, 0.001345132477581501, 0.06860175728797913, 0.006725662387907505, 0.001345132477581501, 0.0073982286266982555, 0.006725662387907505, 0.9671857357025146, 0.030782194808125496, 0.9657913446426392, 0.029621921479701996, 0.26289457082748413, 0.573924720287323, 0.1221904307603836, 0.007405480369925499, 0.9656422138214111, 0.028070995584130287, 0.8769962191581726, 0.007853697054088116, 0.04712218418717384, 0.06806537508964539, 0.5920572876930237, 0.32892072200775146, 0.6494652628898621, 0.039361532777547836, 0.11316440254449844, 0.09840382635593414, 0.09840382635593414, 0.03842618316411972, 0.6203083992004395, 0.129002183675766, 0.1674283742904663, 0.041170910000801086, 0.19507187604904175, 0.21248900890350342, 0.05050968378782272, 0.020900558680295944, 0.06444338709115982, 0.09056908637285233, 0.3657597601413727, 0.0017417131457477808, 0.9784859418869019, 0.9856492877006531, 0.9852436780929565, 0.9894344806671143, 0.14721795916557312, 0.8493343591690063, 0.4847929775714874, 0.1560526341199875, 0.01980363391339779, 0.011882180348038673, 0.0609951950609684, 0.08079882711172104, 0.1354568600654602, 0.019011490046977997, 0.029309378936886787, 0.0007921453798189759, 0.10276422649621964, 0.2112375646829605, 0.08563685417175293, 0.5766214728355408, 0.017127370461821556, 0.9873576760292053, 0.98934406042099, 0.9889005422592163, 0.9822946190834045, 0.9667779207229614, 0.13134701550006866, 0.8464584946632385, 0.976814866065979, 0.2713119685649872, 0.4048146605491638, 0.019618676975369453, 0.08182424306869507, 0.12058309465646744, 0.05407099053263664, 0.0483289398252964, 0.44372692704200745, 0.08959192782640457, 0.03527241200208664, 0.07971565425395966, 0.14884957671165466, 0.13685695827007294, 0.03809420391917229, 0.014814413152635098, 0.007759930565953255, 0.004232689272612333, 0.9875531792640686, 0.8188623189926147, 0.029455477371811867, 0.12076745927333832, 0.029455477371811867, 0.9432758688926697, 0.9888203144073486, 0.04094860330224037, 0.9418179392814636, 0.971620500087738, 0.20657901465892792, 0.7869676351547241, 0.9709261059761047, 0.022905202582478523, 0.005090045277029276, 0.9956340193748474, 0.9841349124908447, 0.373086541891098, 0.04412851482629776, 0.11834465712308884, 0.2266601026058197, 0.24070098996162415, 0.9923168420791626, 0.9854558110237122, 0.27058619260787964, 0.7133635878562927, 0.2792801856994629, 0.10860896855592728, 0.2637646198272705, 0.3413424789905548, 0.9848511815071106, 0.9909415245056152, 0.9930717349052429, 0.010633433237671852, 0.5704077482223511, 0.00835484080016613, 0.007595309522002935, 0.3007742464542389, 0.05316716432571411, 0.0022785929031670094, 0.04557185620069504, 0.9515416026115417, 0.9401366710662842, 0.03241850435733795, 0.5124335885047913, 0.1432916224002838, 0.002846853341907263, 0.0816098004579544, 0.053141262382268906, 0.18789231777191162, 0.005693706683814526, 0.007591608911752701, 0.005693706683814526, 0.45002061128616333, 0.09839434176683426, 0.004576480947434902, 0.23416326940059662, 0.0892413780093193, 0.012966696172952652, 0.09991983324289322, 0.004576480947434902, 0.005339227616786957, 0.5236549377441406, 0.08133230358362198, 0.004692248534411192, 0.1304445117712021, 0.05380444973707199, 0.08477328717708588, 0.050989098846912384, 0.06725555658340454, 0.0028153490275144577, 0.23668526113033295, 0.08391568064689636, 0.012910105288028717, 0.03873031586408615, 0.18074147403240204, 0.010758420452475548, 0.05594378709793091, 0.13985946774482727, 0.030123578384518623, 0.2087133675813675, 0.09644114226102829, 0.09992697089910507, 0.0720403715968132, 0.06971649080514908, 0.2881614863872528, 0.04299183562397957, 0.004647765774279833, 0.07320231199264526, 0.0360201857984066, 0.12548968195915222, 0.08249784260988235, 0.006971648894250393, 0.9791574478149414, 0.9937664866447449, 0.3949800729751587, 0.12353025376796722, 0.022805584594607353, 0.05954791605472565, 0.14665257930755615, 0.0655660554766655, 0.00475116353482008, 0.0174209326505661, 0.07443489879369736, 0.004434419330209494, 0.0414934940636158, 0.012986513786017895, 0.020588375627994537, 0.0012669769348576665, 0.009819071739912033, 0.9831994771957397, 0.9939799904823303, 0.9877017140388489, 0.00327609246596694, 0.045865293592214584, 0.05241747945547104, 0.5602117776870728, 0.01310436986386776, 0.03931310772895813, 0.019656553864479065, 0.032760921865701675, 0.01310436986386776, 0.22277428209781647, 0.9500468373298645, 0.9971054792404175, 0.9851207137107849, 0.1865651160478592, 0.06915775686502457, 0.07880767434835434, 0.5982950329780579, 0.025733118876814842, 0.0064332797192037106, 0.0337747186422348, 0.1070086732506752, 0.8774710893630981, 0.04475608840584755, 0.020343676209449768, 0.06713413447141647, 0.6652382612228394, 0.03661862015724182, 0.0305155161768198, 0.01220620609819889, 0.022378044202923775, 0.020343676209449768, 0.022378044202923775, 0.05696229636669159, 0.96871018409729, 0.10897815972566605, 0.7034044861793518, 0.18328145146369934, 0.9727057218551636, 0.6226796507835388, 0.34796804189682007, 0.9556685090065002, 0.7618653178215027, 0.15559221804141998, 0.07511348277330399, 0.13029952347278595, 0.8469469547271729, 0.9925494194030762, 0.9707138538360596, 0.13702256977558136, 0.021080395206809044, 0.8326756358146667, 0.8856926560401917, 0.03473304584622383, 0.06946609169244766, 0.955340564250946, 0.8075599074363708, 0.32574155926704407, 0.08480845391750336, 0.040476761758327484, 0.44138944149017334, 0.013492253609001637, 0.05878767743706703, 0.013492253609001637, 0.019274648278951645, 0.0028911971021443605, 0.9378464221954346, 0.05763301998376846, 0.09955539554357529, 0.002262622583657503, 0.8688470721244812, 0.027151471003890038, 0.947627604007721, 0.9968846440315247, 0.9971022605895996, 0.9950489401817322, 0.9880945086479187, 0.9901977777481079, 0.9761950969696045, 0.9216532111167908, 0.011863166466355324, 0.9846428036689758, 0.26179009675979614, 0.4125177264213562, 0.2776561677455902, 0.00317321321927011, 0.028558919206261635, 0.017452673986554146, 0.9529381990432739, 0.04143209755420685, 0.9962735176086426, 0.25910627841949463, 0.2418980896472931, 0.13274894654750824, 0.03982468321919441, 0.01769986003637314, 0.13422393798828125, 0.011799906380474567, 0.013766557909548283, 0.08210768550634384, 0.013274895027279854, 0.0024583139456808567, 0.0511329285800457, 0.07593660056591034, 0.920172929763794, 0.029964325949549675, 0.14233054220676422, 0.5468489527702332, 0.27717000246047974, 0.1897309273481369, 0.3622714579105377, 0.07385499030351639, 0.0012733618495985866, 0.19036760926246643, 0.026103919371962547, 0.04647770896553993, 0.0038200856652110815, 0.013370299711823463, 0.09295541793107986, 0.9518994092941284, 0.9945418834686279, 0.30836567282676697, 0.004818213637918234, 0.1493646204471588, 0.23127424716949463, 0.05059124156832695, 0.007227320224046707, 0.24572888016700745, 0.9881368279457092, 0.971951425075531, 0.0030985893681645393, 0.21586839854717255, 0.012394357472658157, 0.044413115829229355, 0.5474174618721008, 0.17248813807964325, 0.0051643154583871365, 0.98540860414505, 0.9293995499610901, 0.0185879897326231, 0.016522658988833427, 0.03511064872145653, 0.9764655232429504, 0.9953595995903015, 0.9496582746505737, 0.8685844540596008, 0.12262368947267532, 0.25292259454727173, 0.25292259454727173, 0.029755599796772003, 0.20828919112682343, 0.059511199593544006, 0.17853359878063202, 0.29779961705207825, 0.6925572752952576, 0.9894611835479736, 0.9700459837913513, 0.9876454472541809, 0.07708603888750076, 0.2312581092119217, 0.10278137773275375, 0.4771992564201355, 0.05139068886637688, 0.011012290604412556, 0.05139068886637688, 0.9849871397018433, 0.9910978674888611, 0.9597030282020569, 0.9733826518058777, 0.4412877857685089, 0.19636507332324982, 0.0021344029810279608, 0.03521764650940895, 0.09764893352985382, 0.029881641268730164, 0.024545634165406227, 0.10405214130878448, 0.03415044769644737, 0.03415044769644737, 0.9865560531616211, 0.98464435338974, 0.0024714095052331686, 0.0024714095052331686, 0.6598663926124573, 0.0790851041674614, 0.0988563820719719, 0.06672806292772293, 0.08897074311971664, 0.018230505287647247, 0.2506694495677948, 0.018230505287647247, 0.02278813160955906, 0.11849828064441681, 0.02278813160955906, 0.5469151735305786, 0.25822412967681885, 0.12349849939346313, 0.1347256302833557, 0.48276686668395996, 0.9595608711242676, 0.9946346282958984, 0.06756220012903214, 0.6981427669525146, 0.03217247873544693, 0.0032172477804124355, 0.19946935772895813, 0.9851031303405762, 0.34580498933792114, 0.10806406289339066, 0.02161281183362007, 0.5295138955116272, 0.15364600718021393, 0.006983909290283918, 0.3422115743160248, 0.041903454810380936, 0.42601847648620605, 0.020951727405190468, 0.22858239710330963, 0.11429119855165482, 0.6367652416229248, 0.4044136703014374, 0.09187796711921692, 0.11597710847854614, 0.05535271018743515, 0.10430408269166946, 0.01882745325565338, 0.002259294269606471, 0.006401333957910538, 0.104680635035038, 0.003765490371733904, 0.061377495527267456, 0.028994277119636536, 0.0015061962185427547, 0.006618628744035959, 0.03971177339553833, 0.8769683241844177, 0.04963971674442291, 0.024819858372211456, 0.1823594719171524, 0.04003012925386429, 0.0889558419585228, 0.6849599480628967, 0.9924517869949341, 0.16466175019741058, 0.03859259933233261, 0.01800987869501114, 0.04373827949166298, 0.01800987869501114, 0.16980743408203125, 0.05145679786801338, 0.020582718774676323, 0.2881580591201782, 0.07461235672235489, 0.07718519866466522, 0.03344691917300224, 0.9983144402503967, 0.2497643530368805, 0.7419470548629761, 0.9924956560134888, 0.01615479402244091, 0.9477479457855225, 0.03769452124834061, 0.05053425952792168, 0.0012031967053189874, 0.9469158053398132, 0.7840177416801453, 0.011373565532267094, 0.09326323866844177, 0.027296556159853935, 0.08416438102722168, 0.9842841625213623, 0.994330108165741, 0.982761025428772, 0.9869750738143921, 0.9623199105262756, 0.01564747840166092, 0.01564747840166092, 0.9771237373352051, 0.9673929810523987, 0.18783585727214813, 0.7936064600944519, 0.014087689109146595, 0.010272537358105183, 0.046226419508457184, 0.11556604504585266, 0.6163522601127625, 0.20801888406276703, 0.14313547313213348, 0.12774455547332764, 0.02154727466404438, 0.5263691544532776, 0.060024552047252655, 0.060024552047252655, 0.02770363911986351, 0.007695455569773912, 0.026164548471570015, 0.9842440485954285, 0.2713451385498047, 0.3337430953979492, 0.006869497708976269, 0.028622906655073166, 0.054383523762226105, 0.045796651393175125, 0.0045796651393175125, 0.05266614630818367, 0.06869497150182724, 0.08529625833034515, 0.046941567212343216, 0.24714811146259308, 0.2651881277561188, 0.09741604328155518, 0.01984400860965252, 0.03968801721930504, 0.007216003257781267, 0.0360800139605999, 0.2345201075077057, 0.05051202327013016, 0.2516189515590668, 0.047967489808797836, 0.009256884455680847, 0.28528034687042236, 0.07068893313407898, 0.012623024173080921, 0.004207674413919449, 0.24572819471359253, 0.045442886650562286, 0.026929117739200592, 0.9948968291282654, 0.9726682305335999, 0.6146583557128906, 0.14734016358852386, 0.023304583504796028, 0.06408759951591492, 0.055501703172922134, 0.006439424119889736, 0.0018398355459794402, 0.05933469533920288, 0.0003066392382606864, 0.021311428397893906, 0.000766598095651716, 0.003373031737282872, 0.001686515868641436, 0.7361230254173279, 0.9707390069961548, 0.9900580048561096, 0.9277182221412659, 0.7786312103271484, 0.98679518699646, 0.9932955503463745, 0.983300507068634, 0.011705958284437656, 0.9801912903785706, 0.05255721136927605, 0.025328775867819786, 0.12854354083538055, 0.056989748030900955, 0.08105208724737167, 0.05065755173563957, 0.04685823619365692, 0.013930827379226685, 0.41919124126434326, 0.06332194060087204, 0.06205550208687782, 0.3804517090320587, 0.005415682680904865, 0.05144898593425751, 0.1665322482585907, 0.10560581088066101, 0.035878896713256836, 0.06566515564918518, 0.08462004363536835, 0.04400242120027542, 0.020985770970582962, 0.018954889848828316, 0.019631849601864815, 0.9798038005828857, 0.9807037115097046, 0.02532653883099556, 0.10693427920341492, 0.05346713960170746, 0.23356696963310242, 0.07316555827856064, 0.11537645757198334, 0.2757778763771057, 0.03095465898513794, 0.0844217985868454, 0.9193152189254761, 0.9811739325523376], \"Term\": [\"abort\", \"abortion\", \"absolute\", \"absolute\", \"access\", \"access\", \"access\", \"access\", \"accidents\", \"acids\", \"adaptec\", \"adapter\", \"address\", \"address\", \"address\", \"address\", \"address\", \"address\", \"address\", \"address\", \"address\", \"addresses\", \"addresses\", \"administration\", \"administration\", \"administration\", \"administration\", \"adobe\", \"adult\", \"advance\", \"advance\", \"advance\", \"advance\", \"advance\", \"advance\", \"adventures\", \"advertising\", \"advertising\", \"aerospace\", \"affair\", \"agree\", \"agree\", \"agree\", \"agree\", \"aids\", \"aids\", \"aids\", \"alfa\", \"aliases\", \"allocated\", \"allocation\", \"alomar\", \"also\", \"also\", \"also\", \"also\", \"also\", \"also\", \"also\", \"also\", \"also\", \"also\", \"also\", \"also\", \"also\", \"also\", \"also\", \"aluminum\", \"amendment\", \"amendment\", \"american\", \"american\", \"american\", \"american\", \"american\", \"american\", \"american\", \"ames\", \"ames\", \"among\", \"among\", \"among\", \"among\", \"among\", \"among\", \"among\", \"amour\", \"amplifier\", \"amplifier\", \"ancient\", \"anecdotal\", \"animals\", \"animals\", \"annual\", \"annual\", \"anon\", \"anonymous\", \"anonymous\", \"ansi\", \"anti\", \"anti\", \"anti\", \"anti\", \"anti\", \"anti\", \"anyone\", \"anyone\", \"anyone\", \"anyone\", \"anyone\", \"anyone\", \"anyone\", \"anyone\", \"apartment\", \"apologize\", \"apostles\", \"appears\", \"appears\", \"appears\", \"appears\", \"appears\", \"appears\", \"apple\", \"apple\", \"appletalk\", \"application\", \"application\", \"application\", \"application\", \"application\", \"application\", \"april\", \"april\", \"april\", \"april\", \"april\", \"april\", \"april\", \"april\", \"april\", \"april\", \"arab\", \"arabs\", \"area\", \"area\", \"area\", \"area\", \"area\", \"area\", \"area\", \"area\", \"area\", \"area\", \"area\", \"area\", \"argc\", \"argic\", \"argument\", \"argument\", \"argument\", \"argument\", \"argument\", \"argv\", \"argv\", \"arithmetic\", \"armenia\", \"armenia\", \"armenian\", \"armenian\", \"armenians\", \"armenians\", \"armored\", \"arms\", \"arms\", \"arms\", \"arms\", \"arms\", \"army\", \"army\", \"army\", \"around\", \"around\", \"around\", \"around\", \"around\", \"around\", \"around\", \"around\", \"around\", \"around\", \"around\", \"around\", \"around\", \"around\", \"asking\", \"asking\", \"asking\", \"asking\", \"asking\", \"asking\", \"assertion\", \"assorted\", \"asthma\", \"astro\", \"astronomy\", \"astros\", \"atheism\", \"atheist\", \"atheist\", \"atheists\", \"atmosphere\", \"atmosphere\", \"audio\", \"audio\", \"audio\", \"authentication\", \"autos\", \"available\", \"available\", \"available\", \"available\", \"available\", \"available\", \"available\", \"available\", \"avenue\", \"azerbaijani\", \"azerbaijanis\", \"azeris\", \"back\", \"back\", \"back\", \"back\", \"back\", \"back\", \"back\", \"back\", \"back\", \"back\", \"back\", \"back\", \"back\", \"baerga\", \"bagged\", \"baku\", \"banks\", \"banks\", \"banks\", \"baseball\", \"baseball\", \"batting\", \"beer\", \"belief\", \"beliefs\", \"believe\", \"believe\", \"believe\", \"believe\", \"believe\", \"believe\", \"believe\", \"believe\", \"believe\", \"believing\", \"best\", \"best\", \"best\", \"best\", \"best\", \"best\", \"best\", \"best\", \"best\", \"best\", \"best\", \"best\", \"better\", \"better\", \"better\", \"better\", \"better\", \"better\", \"better\", \"better\", \"better\", \"better\", \"better\", \"bible\", \"biblical\", \"bike\", \"bikes\", \"bill\", \"bill\", \"bill\", \"bill\", \"bill\", \"bill\", \"bindings\", \"bios\", \"bitmap\", \"bits\", \"bits\", \"bits\", \"black\", \"black\", \"black\", \"black\", \"black\", \"black\", \"black\", \"black\", \"black\", \"black\", \"black\", \"black\", \"board\", \"board\", \"board\", \"board\", \"board\", \"bolt\", \"bolt\", \"bombers\", \"book\", \"book\", \"book\", \"book\", \"book\", \"book\", \"book\", \"book\", \"book\", \"book\", \"book\", \"book\", \"boot\", \"borland\", \"boston\", \"boston\", \"boston\", \"brake\", \"braves\", \"brian\", \"brian\", \"brian\", \"brian\", \"brian\", \"brian\", \"brian\", \"briefing\", \"brind\", \"british\", \"british\", \"brown\", \"brown\", \"brown\", \"brown\", \"brown\", \"brown\", \"brown\", \"bruins\", \"buffers\", \"build\", \"build\", \"build\", \"build\", \"build\", \"builder\", \"building\", \"building\", \"building\", \"building\", \"building\", \"building\", \"building\", \"bure\", \"bureaucracy\", \"burned\", \"burned\", \"bush\", \"bush\", \"button\", \"button\", \"button\", \"buying\", \"buying\", \"cable\", \"cable\", \"cable\", \"cache\", \"cadre\", \"calgary\", \"calgary\", \"california\", \"california\", \"california\", \"california\", \"california\", \"california\", \"california\", \"came\", \"came\", \"came\", \"came\", \"came\", \"came\", \"came\", \"came\", \"came\", \"came\", \"cancer\", \"candida\", \"canvas\", \"cape\", \"card\", \"card\", \"cardinals\", \"cards\", \"cards\", \"cards\", \"cards\", \"care\", \"care\", \"care\", \"care\", \"care\", \"care\", \"care\", \"carry\", \"carry\", \"carry\", \"carry\", \"carry\", \"carry\", \"carry\", \"cars\", \"cars\", \"carson\", \"case\", \"case\", \"case\", \"case\", \"case\", \"case\", \"case\", \"case\", \"case\", \"case\", \"case\", \"cases\", \"cases\", \"cases\", \"cases\", \"cases\", \"cases\", \"cassels\", \"cassette\", \"catbyte\", \"catholic\", \"cause\", \"cause\", \"cause\", \"cause\", \"cause\", \"cause\", \"cause\", \"cause\", \"cause\", \"center\", \"center\", \"center\", \"center\", \"center\", \"centers\", \"centers\", \"centers\", \"centris\", \"chain\", \"chain\", \"chain\", \"chamber\", \"char\", \"chastity\", \"check\", \"check\", \"check\", \"check\", \"check\", \"check\", \"check\", \"check\", \"check\", \"check\", \"check\", \"chicago\", \"chicago\", \"chicago\", \"chicago\", \"children\", \"children\", \"children\", \"children\", \"children\", \"children\", \"children\", \"chinese\", \"chip\", \"chip\", \"chipset\", \"christ\", \"christian\", \"christian\", \"christianity\", \"christians\", \"christians\", \"chronic\", \"church\", \"cica\", \"cincinnati\", \"circuit\", \"circuit\", \"circuits\", \"circuits\", \"cisc\", \"civilians\", \"claiming\", \"clemens\", \"click\", \"client\", \"client\", \"clients\", \"clients\", \"clients\", \"clinton\", \"clinton\", \"clipper\", \"clipper\", \"clone\", \"cluster\", \"clutch\", \"cmos\", \"coach\", \"code\", \"code\", \"code\", \"code\", \"code\", \"code\", \"code\", \"coffee\", \"color\", \"color\", \"color\", \"colormap\", \"come\", \"come\", \"come\", \"come\", \"come\", \"come\", \"come\", \"come\", \"come\", \"comics\", \"committee\", \"committee\", \"committee\", \"committee\", \"comp\", \"comp\", \"compass\", \"compilers\", \"compliant\", \"compressed\", \"compressed\", \"computer\", \"computer\", \"computer\", \"computer\", \"computer\", \"computer\", \"condition\", \"condition\", \"condition\", \"condition\", \"condition\", \"conductor\", \"conference\", \"conference\", \"conference\", \"conference\", \"conference\", \"conference\", \"congress\", \"congress\", \"congress\", \"congress\", \"congress\", \"connecticut\", \"connector\", \"constitution\", \"constitution\", \"constitution\", \"contact\", \"contact\", \"contact\", \"contact\", \"contact\", \"contact\", \"contact\", \"contact\", \"contact\", \"contact\", \"contact\", \"contact\", \"contest\", \"contest\", \"contracts\", \"contrib\", \"control\", \"control\", \"control\", \"control\", \"control\", \"control\", \"control\", \"control\", \"control\", \"controller\", \"conversations\", \"converter\", \"cooling\", \"cooper\", \"copies\", \"copies\", \"copies\", \"copies\", \"copies\", \"copper\", \"copy\", \"copy\", \"copy\", \"copy\", \"copy\", \"copy\", \"copy\", \"cost\", \"cost\", \"cost\", \"cost\", \"cost\", \"cost\", \"cost\", \"could\", \"could\", \"could\", \"could\", \"could\", \"could\", \"could\", \"could\", \"could\", \"could\", \"could\", \"could\", \"could\", \"couples\", \"course\", \"course\", \"course\", \"course\", \"course\", \"course\", \"course\", \"course\", \"course\", \"course\", \"court\", \"court\", \"court\", \"courtnall\", \"cover\", \"cover\", \"cover\", \"cover\", \"cover\", \"cover\", \"crash\", \"crash\", \"crime\", \"crime\", \"crime\", \"crowd\", \"crowd\", \"crypt\", \"crypt\", \"cryptology\", \"crystal\", \"crystal\", \"crystal\", \"ctrl\", \"cubs\", \"cure\", \"curious\", \"current\", \"current\", \"current\", \"current\", \"current\", \"current\", \"current\", \"current\", \"current\", \"current\", \"cursor\", \"cylinder\", \"cyprus\", \"dale\", \"dale\", \"dale\", \"data\", \"data\", \"data\", \"data\", \"data\", \"data\", \"data\", \"daughter\", \"dave\", \"dave\", \"dave\", \"dave\", \"dave\", \"dave\", \"dave\", \"dave\", \"days\", \"days\", \"days\", \"days\", \"days\", \"days\", \"days\", \"days\", \"days\", \"days\", \"days\", \"dead\", \"dead\", \"dead\", \"dead\", \"dead\", \"deaf\", \"debugger\", \"decenso\", \"decrypt\", \"default\", \"default\", \"default\", \"default\", \"default\", \"defaults\", \"defeated\", \"defenseman\", \"defensive\", \"deficit\", \"democrats\", \"denning\", \"denver\", \"department\", \"department\", \"department\", \"department\", \"department\", \"department\", \"dept\", \"deputy\", \"designated\", \"designated\", \"designated\", \"detector\", \"detectors\", \"detroit\", \"detroit\", \"dial\", \"diamond\", \"differently\", \"diffs\", \"digest\", \"digit\", \"dineen\", \"directory\", \"directory\", \"disc\", \"discharge\", \"discharge\", \"disease\", \"disease\", \"disk\", \"disk\", \"disks\", \"disks\", \"display\", \"display\", \"display\", \"distinction\", \"divine\", \"division\", \"division\", \"division\", \"division\", \"djgpp\", \"dodgers\", \"dole\", \"door\", \"door\", \"door\", \"drain\", \"dram\", \"drive\", \"drive\", \"drive\", \"driver\", \"driver\", \"driver\", \"driver\", \"driver\", \"drivers\", \"drivers\", \"drivers\", \"drivers\", \"drives\", \"driving\", \"driving\", \"driving\", \"driving\", \"drug\", \"drug\", \"drug\", \"drugs\", \"drugs\", \"drugs\", \"dtmedin\", \"earth\", \"earth\", \"earth\", \"easiest\", \"easter\", \"echl\", \"echo\", \"echo\", \"economy\", \"economy\", \"edit\", \"education\", \"education\", \"education\", \"education\", \"education\", \"eisa\", \"elected\", \"electrical\", \"electrical\", \"electrical\", \"electrical\", \"electronics\", \"electronics\", \"electronics\", \"emacs\", \"email\", \"email\", \"email\", \"email\", \"emulation\", \"emulator\", \"encryption\", \"encryption\", \"enforcement\", \"enforcement\", \"engine\", \"engine\", \"enough\", \"enough\", \"enough\", \"enough\", \"enough\", \"enough\", \"enough\", \"enough\", \"enough\", \"enough\", \"enough\", \"enough\", \"entries\", \"entries\", \"entry\", \"entry\", \"entry\", \"error\", \"error\", \"error\", \"error\", \"error\", \"error\", \"erzurum\", \"escrow\", \"espn\", \"eternal\", \"ethernet\", \"ethnic\", \"evaluate\", \"even\", \"even\", \"even\", \"even\", \"even\", \"even\", \"even\", \"even\", \"even\", \"event\", \"event\", \"event\", \"event\", \"event\", \"event\", \"event\", \"event\", \"event\", \"events\", \"events\", \"events\", \"events\", \"events\", \"events\", \"events\", \"evidence\", \"evidence\", \"evidence\", \"evidence\", \"excellent\", \"excellent\", \"excellent\", \"excellent\", \"excellent\", \"excellent\", \"excellent\", \"excellent\", \"excellent\", \"excellent\", \"exercises\", \"exist\", \"exist\", \"exist\", \"exist\", \"exist\", \"exist\", \"exist\", \"exist\", \"existence\", \"existence\", \"existence\", \"existence\", \"experimentation\", \"exploration\", \"explorer\", \"export\", \"export\", \"expose\", \"expose\", \"face\", \"face\", \"face\", \"face\", \"face\", \"face\", \"face\", \"face\", \"fact\", \"fact\", \"fact\", \"fact\", \"fact\", \"fact\", \"fact\", \"faith\", \"fans\", \"fans\", \"favor\", \"feds\", \"feds\", \"feet\", \"feet\", \"feet\", \"feet\", \"field\", \"field\", \"field\", \"field\", \"field\", \"field\", \"field\", \"field\", \"field\", \"file\", \"file\", \"file\", \"file\", \"filename\", \"files\", \"files\", \"files\", \"finals\", \"financial\", \"fingers\", \"fingers\", \"finishes\", \"fire\", \"fire\", \"fire\", \"fire\", \"firearm\", \"firearms\", \"fired\", \"fired\", \"fired\", \"fired\", \"first\", \"first\", \"first\", \"first\", \"first\", \"first\", \"first\", \"first\", \"first\", \"first\", \"first\", \"first\", \"first\", \"first\", \"first\", \"first\", \"first\", \"flags\", \"flames\", \"flames\", \"flames\", \"flames\", \"flames\", \"fleet\", \"fleury\", \"flight\", \"flight\", \"flight\", \"flight\", \"floor\", \"floor\", \"floppies\", \"floppy\", \"floppy\", \"flyers\", \"flyers\", \"font\", \"font\", \"force\", \"force\", \"force\", \"force\", \"force\", \"force\", \"ford\", \"ford\", \"foreground\", \"format\", \"format\", \"formats\", \"forsale\", \"fossil\", \"francis\", \"front\", \"front\", \"front\", \"front\", \"front\", \"front\", \"function\", \"function\", \"functions\", \"functions\", \"functions\", \"funds\", \"funds\", \"funds\", \"funds\", \"fuse\", \"gainey\", \"galley\", \"game\", \"game\", \"games\", \"games\", \"gamma\", \"gary\", \"gary\", \"gary\", \"gary\", \"gaza\", \"gear\", \"genetic\", \"genocide\", \"george\", \"george\", \"george\", \"george\", \"georgia\", \"georgia\", \"georgia\", \"georgia\", \"german\", \"german\", \"german\", \"germany\", \"germany\", \"germany\", \"germany\", \"ghost\", \"giants\", \"glutamate\", \"goal\", \"goal\", \"goal\", \"goal\", \"goal\", \"goal\", \"goalie\", \"gods\", \"going\", \"going\", \"going\", \"going\", \"going\", \"going\", \"going\", \"going\", \"good\", \"good\", \"good\", \"good\", \"good\", \"good\", \"good\", \"good\", \"good\", \"good\", \"good\", \"good\", \"good\", \"gordon\", \"gordon\", \"gospel\", \"government\", \"government\", \"government\", \"government\", \"graphics\", \"graphics\", \"graphics\", \"grayscale\", \"great\", \"great\", \"great\", \"great\", \"great\", \"great\", \"great\", \"great\", \"great\", \"great\", \"great\", \"greece\", \"greek\", \"greek\", \"greek\", \"green\", \"green\", \"green\", \"green\", \"green\", \"green\", \"green\", \"green\", \"ground\", \"ground\", \"ground\", \"ground\", \"ground\", \"ground\", \"ground\", \"ground\", \"group\", \"group\", \"group\", \"group\", \"group\", \"group\", \"group\", \"group\", \"group\", \"guide\", \"guide\", \"guidelines\", \"guidelines\", \"guns\", \"guns\", \"halo\", \"handgun\", \"handguns\", \"handler\", \"happened\", \"happened\", \"happened\", \"happened\", \"hard\", \"hard\", \"hard\", \"hard\", \"hard\", \"hard\", \"hard\", \"hardware\", \"hardware\", \"hardware\", \"hardware\", \"hardware\", \"hartford\", \"hartford\", \"hawk\", \"hawks\", \"headache\", \"heal\", \"health\", \"health\", \"health\", \"heard\", \"heard\", \"heard\", \"heard\", \"heard\", \"heard\", \"heard\", \"heard\", \"heat\", \"heat\", \"heat\", \"heat\", \"heat\", \"heat\", \"heaven\", \"hebrews\", \"hell\", \"hell\", \"hell\", \"hell\", \"helmet\", \"help\", \"help\", \"help\", \"help\", \"help\", \"help\", \"help\", \"help\", \"help\", \"help\", \"help\", \"henrik\", \"hewlett\", \"hicnet\", \"high\", \"high\", \"high\", \"high\", \"high\", \"high\", \"high\", \"high\", \"high\", \"high\", \"high\", \"high\", \"high\", \"history\", \"history\", \"history\", \"history\", \"history\", \"history\", \"history\", \"hitter\", \"hockey\", \"holes\", \"holes\", \"holes\", \"holes\", \"holy\", \"holy\", \"home\", \"home\", \"home\", \"home\", \"home\", \"home\", \"home\", \"home\", \"home\", \"homicide\", \"homicide\", \"homicides\", \"honda\", \"hook\", \"hospitals\", \"house\", \"house\", \"house\", \"house\", \"house\", \"house\", \"hulk\", \"hull\", \"hung\", \"hung\", \"huntsville\", \"icon\", \"idaho\", \"idea\", \"idea\", \"idea\", \"idea\", \"idea\", \"idea\", \"idea\", \"identified\", \"identified\", \"ieee\", \"image\", \"image\", \"image\", \"image\", \"image\", \"images\", \"images\", \"imaginary\", \"immoral\", \"include\", \"include\", \"include\", \"include\", \"include\", \"include\", \"include\", \"include\", \"include\", \"include\", \"include\", \"include\", \"included\", \"included\", \"included\", \"included\", \"included\", \"included\", \"included\", \"included\", \"included\", \"included\", \"incoming\", \"incoming\", \"incoming\", \"increasing\", \"increasing\", \"increasing\", \"incredibly\", \"infection\", \"infection\", \"inflated\", \"info\", \"info\", \"info\", \"info\", \"information\", \"information\", \"information\", \"information\", \"information\", \"information\", \"information\", \"information\", \"ingr\", \"init\", \"inning\", \"innings\", \"input\", \"input\", \"input\", \"inside\", \"inside\", \"inside\", \"inside\", \"inside\", \"inside\", \"inside\", \"inside\", \"install\", \"installations\", \"installed\", \"installed\", \"insurance\", \"insurance\", \"intake\", \"integration\", \"intellect\", \"interactive\", \"interactive\", \"interested\", \"interested\", \"interested\", \"interested\", \"interested\", \"interested\", \"interested\", \"interested\", \"interests\", \"intergraph\", \"internet\", \"internet\", \"internet\", \"internet\", \"internet\", \"investment\", \"investment\", \"isbn\", \"islam\", \"islam\", \"israel\", \"israel\", \"israeli\", \"israelis\", \"issue\", \"issue\", \"issue\", \"issue\", \"issue\", \"issue\", \"issue\", \"issue\", \"issue\", \"issue\", \"jack\", \"jack\", \"jack\", \"jagr\", \"jersey\", \"jersey\", \"jersey\", \"jesus\", \"jets\", \"jewish\", \"jewish\", \"jews\", \"jews\", \"jobs\", \"jose\", \"jose\", \"jose\", \"joseph\", \"joseph\", \"joseph\", \"joseph\", \"jpeg\", \"judas\", \"judges\", \"judges\", \"judging\", \"judging\", \"jumped\", \"jumper\", \"jumpers\", \"jumpers\", \"juneau\", \"junk\", \"karabagh\", \"karabakh\", \"karina\", \"kelvin\", \"keyboard\", \"keyboard\", \"keyboard\", \"keyboard\", \"keyboards\", \"keys\", \"keys\", \"keys\", \"kidney\", \"killed\", \"killed\", \"killed\", \"kings\", \"kings\", \"kings\", \"know\", \"know\", \"know\", \"know\", \"know\", \"know\", \"know\", \"know\", \"know\", \"know\", \"know\", \"kong\", \"kurds\", \"lamp\", \"land\", \"land\", \"land\", \"land\", \"land\", \"land\", \"laserwriter\", \"last\", \"last\", \"last\", \"last\", \"last\", \"last\", \"last\", \"last\", \"last\", \"last\", \"last\", \"last\", \"last\", \"last\", \"last\", \"later\", \"later\", \"later\", \"later\", \"later\", \"later\", \"later\", \"later\", \"later\", \"laughter\", \"launch\", \"launched\", \"launched\", \"launches\", \"laws\", \"laws\", \"laws\", \"laws\", \"layout\", \"leafs\", \"league\", \"league\", \"league\", \"lebanese\", \"lebanon\", \"left\", \"left\", \"left\", \"left\", \"left\", \"left\", \"left\", \"left\", \"left\", \"left\", \"left\", \"legitimate\", \"legitimate\", \"lemieux\", \"lemieux\", \"less\", \"less\", \"less\", \"less\", \"less\", \"less\", \"less\", \"less\", \"less\", \"liar\", \"libertarians\", \"life\", \"life\", \"life\", \"life\", \"life\", \"life\", \"life\", \"life\", \"like\", \"like\", \"like\", \"like\", \"like\", \"like\", \"like\", \"like\", \"like\", \"like\", \"like\", \"like\", \"like\", \"like\", \"like\", \"limbaugh\", \"lindros\", \"lindros\", \"line\", \"line\", \"line\", \"line\", \"line\", \"line\", \"line\", \"line\", \"line\", \"line\", \"line\", \"line\", \"line\", \"line\", \"lines\", \"lines\", \"lines\", \"lines\", \"lines\", \"lines\", \"lines\", \"lines\", \"lines\", \"list\", \"list\", \"list\", \"list\", \"list\", \"list\", \"list\", \"list\", \"list\", \"list\", \"list\", \"list\", \"list\", \"list\", \"lists\", \"lists\", \"listserv\", \"little\", \"little\", \"little\", \"little\", \"little\", \"little\", \"little\", \"little\", \"little\", \"little\", \"little\", \"local\", \"local\", \"local\", \"local\", \"local\", \"local\", \"local\", \"local\", \"local\", \"local\", \"localtalk\", \"lock\", \"lock\", \"lock\", \"lock\", \"login\", \"logo\", \"long\", \"long\", \"long\", \"long\", \"long\", \"long\", \"long\", \"long\", \"long\", \"long\", \"long\", \"long\", \"long\", \"long\", \"look\", \"look\", \"look\", \"look\", \"look\", \"look\", \"look\", \"look\", \"look\", \"look\", \"look\", \"look\", \"loop\", \"loop\", \"loop\", \"loop\", \"lord\", \"lord\", \"losses\", \"lost\", \"lost\", \"lost\", \"lost\", \"lost\", \"lost\", \"lost\", \"lost\", \"love\", \"love\", \"love\", \"love\", \"love\", \"love\", \"love\", \"love\", \"lunar\", \"lyuda\", \"mail\", \"mail\", \"mail\", \"mail\", \"mail\", \"mailer\", \"mailing\", \"make\", \"make\", \"make\", \"make\", \"make\", \"make\", \"make\", \"make\", \"make\", \"make\", \"make\", \"make\", \"make\", \"make\", \"mamma\", \"manager\", \"manager\", \"manager\", \"manager\", \"manuals\", \"manuals\", \"many\", \"many\", \"many\", \"many\", \"many\", \"many\", \"many\", \"many\", \"many\", \"many\", \"many\", \"many\", \"marina\", \"mark\", \"mark\", \"mark\", \"mark\", \"mark\", \"mark\", \"mark\", \"mark\", \"mark\", \"mark\", \"marriage\", \"marriage\", \"married\", \"married\", \"mars\", \"maryland\", \"mask\", \"mask\", \"massacre\", \"matthew\", \"matthew\", \"meat\", \"medical\", \"medical\", \"medical\", \"medical\", \"medication\", \"meeting\", \"meeting\", \"meeting\", \"meeting\", \"meeting\", \"meeting\", \"meeting\", \"memory\", \"memory\", \"memory\", \"memory\", \"menus\", \"message\", \"message\", \"message\", \"message\", \"message\", \"metal\", \"metal\", \"methanol\", \"mets\", \"microsoft\", \"might\", \"might\", \"might\", \"might\", \"might\", \"might\", \"might\", \"might\", \"might\", \"might\", \"might\", \"might\", \"mike\", \"mike\", \"mike\", \"mike\", \"mike\", \"mike\", \"mike\", \"mike\", \"mike\", \"miles\", \"miles\", \"miles\", \"militia\", \"milwaukee\", \"milwaukee\", \"milwaukee\", \"mint\", \"missing\", \"missing\", \"missing\", \"missing\", \"missing\", \"missing\", \"missing\", \"missing\", \"missing\", \"mission\", \"mission\", \"mission\", \"missions\", \"mobile\", \"mobile\", \"mode\", \"mode\", \"modem\", \"modem\", \"money\", \"money\", \"money\", \"money\", \"money\", \"money\", \"money\", \"money\", \"monitor\", \"monitor\", \"montreal\", \"moon\", \"moon\", \"moral\", \"moral\", \"moral\", \"morality\", \"mossad\", \"motherboard\", \"motif\", \"motif\", \"motif\", \"motorcycle\", \"motorcycles\", \"mouse\", \"mouse\", \"movies\", \"mpeg\", \"much\", \"much\", \"much\", \"much\", \"much\", \"much\", \"much\", \"much\", \"much\", \"much\", \"much\", \"much\", \"much\", \"much\", \"mullen\", \"murphy\", \"muscle\", \"muslim\", \"muslim\", \"muslim\", \"must\", \"must\", \"must\", \"must\", \"must\", \"must\", \"must\", \"must\", \"must\", \"must\", \"myers\", \"nagorno\", \"nail\", \"name\", \"name\", \"name\", \"name\", \"name\", \"name\", \"name\", \"name\", \"name\", \"name\", \"nasa\", \"nasa\", \"national\", \"national\", \"national\", \"national\", \"national\", \"national\", \"national\", \"national\", \"naval\", \"naval\", \"navy\", \"navy\", \"nazi\", \"nazis\", \"ncsl\", \"neck\", \"need\", \"need\", \"need\", \"need\", \"need\", \"need\", \"need\", \"need\", \"need\", \"need\", \"need\", \"need\", \"nerve\", \"networks\", \"networks\", \"neutral\", \"neutral\", \"neutral\", \"neutral\", \"news\", \"news\", \"news\", \"news\", \"news\", \"news\", \"news\", \"news\", \"news\", \"newsgroup\", \"newsgroup\", \"newsgroup\", \"newsgroup\", \"newsgroups\", \"newsgroups\", \"newsletter\", \"night\", \"night\", \"night\", \"night\", \"night\", \"nist\", \"nist\", \"nolan\", \"nubus\", \"nuclear\", \"nuclear\", \"nuclear\", \"nuclear\", \"nuclear\", \"null\", \"null\", \"number\", \"number\", \"number\", \"number\", \"number\", \"number\", \"number\", \"number\", \"number\", \"number\", \"objective\", \"objective\", \"objective\", \"objective\", \"objective\", \"observatory\", \"occupied\", \"offer\", \"offer\", \"offer\", \"offer\", \"offer\", \"offer\", \"office\", \"office\", \"office\", \"office\", \"office\", \"office\", \"office\", \"office\", \"office\", \"offset\", \"olwm\", \"open\", \"open\", \"open\", \"open\", \"open\", \"open\", \"open\", \"open\", \"open\", \"open\", \"open\", \"open\", \"opened\", \"opened\", \"opened\", \"opened\", \"opened\", \"opened\", \"opened\", \"openwindows\", \"orbit\", \"orbital\", \"orientation\", \"original\", \"original\", \"original\", \"original\", \"original\", \"original\", \"original\", \"original\", \"original\", \"orthodox\", \"otto\", \"ottoman\", \"outlets\", \"output\", \"outs\", \"ozone\", \"package\", \"package\", \"package\", \"package\", \"package\", \"packard\", \"pagan\", \"page\", \"page\", \"page\", \"page\", \"page\", \"page\", \"pain\", \"pain\", \"palestine\", \"palestinian\", \"palestinians\", \"palette\", \"panasonic\", \"parameter\", \"paranoid\", \"parking\", \"part\", \"part\", \"part\", \"part\", \"part\", \"part\", \"part\", \"part\", \"part\", \"part\", \"part\", \"partners\", \"patch\", \"patch\", \"patent\", \"pathetic\", \"pathetic\", \"patients\", \"patients\", \"payload\", \"peace\", \"peace\", \"peace\", \"penguins\", \"pens\", \"people\", \"people\", \"people\", \"people\", \"people\", \"people\", \"people\", \"people\", \"people\", \"perhaps\", \"perhaps\", \"perhaps\", \"perhaps\", \"perhaps\", \"perhaps\", \"perhaps\", \"perhaps\", \"period\", \"period\", \"period\", \"period\", \"period\", \"period\", \"person\", \"person\", \"person\", \"person\", \"person\", \"person\", \"phigs\", \"philadelphia\", \"philadelphia\", \"philadelphia\", \"phillies\", \"philosophy\", \"phone\", \"phone\", \"phone\", \"phone\", \"phone\", \"phones\", \"phones\", \"picture\", \"picture\", \"picture\", \"picture\", \"picture\", \"pitch\", \"pitch\", \"pitch\", \"pitched\", \"pitcher\", \"pitching\", \"pitching\", \"pitt\", \"pittsburgh\", \"pittsburgh\", \"pittsburgh\", \"pixmap\", \"planetary\", \"plant\", \"plant\", \"plants\", \"plastic\", \"plastic\", \"play\", \"play\", \"play\", \"play\", \"play\", \"played\", \"played\", \"played\", \"played\", \"player\", \"player\", \"player\", \"players\", \"playing\", \"playing\", \"playing\", \"playing\", \"playoff\", \"playoff\", \"playoffs\", \"please\", \"please\", \"please\", \"please\", \"please\", \"please\", \"please\", \"please\", \"please\", \"please\", \"please\", \"plug\", \"plug\", \"plug\", \"plug\", \"point\", \"point\", \"point\", \"point\", \"point\", \"point\", \"point\", \"point\", \"point\", \"point\", \"point\", \"point\", \"pointer\", \"points\", \"points\", \"points\", \"points\", \"points\", \"points\", \"points\", \"points\", \"points\", \"polygon\", \"pope\", \"population\", \"population\", \"population\", \"popup\", \"port\", \"port\", \"port\", \"portal\", \"post\", \"post\", \"post\", \"post\", \"post\", \"post\", \"post\", \"post\", \"post\", \"posted\", \"posted\", \"posted\", \"posted\", \"posted\", \"posted\", \"posted\", \"posted\", \"posted\", \"posting\", \"posting\", \"posting\", \"postscript\", \"potter\", \"pounds\", \"pounds\", \"power\", \"power\", \"power\", \"power\", \"power\", \"power\", \"power\", \"power\", \"power\", \"power\", \"power\", \"power\", \"premises\", \"presentation\", \"president\", \"president\", \"president\", \"price\", \"price\", \"price\", \"price\", \"price\", \"price\", \"price\", \"price\", \"price\", \"price\", \"print\", \"print\", \"print\", \"print\", \"print\", \"printer\", \"printer\", \"printers\", \"printf\", \"prisoners\", \"probably\", \"probably\", \"probably\", \"probably\", \"probably\", \"probably\", \"probably\", \"probably\", \"probably\", \"probably\", \"probably\", \"probably\", \"probe\", \"problem\", \"problem\", \"problem\", \"problem\", \"problem\", \"problem\", \"problem\", \"problem\", \"problem\", \"proceeds\", \"prog\", \"program\", \"program\", \"program\", \"program\", \"program\", \"program\", \"program\", \"program\", \"programmer\", \"programs\", \"programs\", \"programs\", \"programs\", \"programs\", \"programs\", \"programs\", \"promo\", \"prophecies\", \"prophecy\", \"prophet\", \"prophet\", \"proposal\", \"proposal\", \"propulsion\", \"protect\", \"protect\", \"protect\", \"protect\", \"protecting\", \"proud\", \"public\", \"public\", \"public\", \"public\", \"public\", \"public\", \"public\", \"puck\", \"puck\", \"punisher\", \"push\", \"push\", \"push\", \"push\", \"push\", \"qemm\", \"quadra\", \"quebec\", \"queen\", \"queen\", \"queen\", \"question\", \"question\", \"question\", \"question\", \"question\", \"question\", \"question\", \"question\", \"races\", \"radar\", \"radar\", \"radiance\", \"radio\", \"radio\", \"radio\", \"radio\", \"radio\", \"radio\", \"radio\", \"radio\", \"radio\", \"radiosity\", \"ramsey\", \"randy\", \"randy\", \"raster\", \"rate\", \"rate\", \"rate\", \"rate\", \"rayshade\", \"read\", \"read\", \"read\", \"read\", \"read\", \"read\", \"read\", \"read\", \"read\", \"reagan\", \"really\", \"really\", \"really\", \"really\", \"really\", \"really\", \"really\", \"really\", \"rear\", \"rear\", \"reasons\", \"reasons\", \"reasons\", \"reasons\", \"recchi\", \"reds\", \"reducing\", \"regulated\", \"regulations\", \"reich\", \"reilly\", \"relay\", \"religion\", \"religion\", \"religions\", \"religious\", \"religious\", \"remark\", \"remark\", \"remark\", \"remarks\", \"remarks\", \"remarks\", \"report\", \"report\", \"report\", \"report\", \"report\", \"report\", \"report\", \"report\", \"reported\", \"reported\", \"reported\", \"republic\", \"republicans\", \"request\", \"request\", \"request\", \"requests\", \"requests\", \"research\", \"research\", \"research\", \"research\", \"research\", \"research\", \"resembles\", \"resource\", \"resource\", \"resource\", \"resource\", \"resource\", \"responding\", \"restaurant\", \"resurrection\", \"retail\", \"revelation\", \"ride\", \"rider\", \"rider\", \"riders\", \"riding\", \"riding\", \"right\", \"right\", \"right\", \"right\", \"right\", \"right\", \"right\", \"right\", \"right\", \"right\", \"right\", \"right\", \"ripem\", \"rkba\", \"road\", \"road\", \"road\", \"road\", \"road\", \"road\", \"road\", \"road\", \"robb\", \"rochester\", \"rochester\", \"rochester\", \"rockefeller\", \"rocket\", \"rocket\", \"rocket\", \"rocket\", \"roenick\", \"room\", \"room\", \"room\", \"room\", \"room\", \"room\", \"root\", \"root\", \"root\", \"routines\", \"routines\", \"rows\", \"rtrace\", \"rumors\", \"rumors\", \"runner\", \"running\", \"running\", \"running\", \"running\", \"running\", \"running\", \"running\", \"running\", \"runs\", \"runs\", \"runs\", \"runs\", \"runs\", \"runs\", \"runs\", \"runtime\", \"russia\", \"russia\", \"russia\", \"russian\", \"russian\", \"russian\", \"russian\", \"russian\", \"sabbath\", \"said\", \"said\", \"said\", \"said\", \"said\", \"said\", \"said\", \"said\", \"said\", \"said\", \"said\", \"sale\", \"sandberg\", \"sanderson\", \"sandstrom\", \"satellite\", \"satellites\", \"saturn\", \"saves\", \"saves\", \"saves\", \"saves\", \"says\", \"says\", \"says\", \"says\", \"says\", \"says\", \"says\", \"scholars\", \"science\", \"science\", \"science\", \"science\", \"science\", \"score\", \"score\", \"scored\", \"scored\", \"scorer\", \"scoring\", \"scoring\", \"screen\", \"screen\", \"screen\", \"scripture\", \"scsi\", \"seal\", \"season\", \"second\", \"second\", \"second\", \"second\", \"second\", \"second\", \"second\", \"second\", \"second\", \"second\", \"second\", \"second\", \"second\", \"secret\", \"secret\", \"secretary\", \"secretary\", \"secretary\", \"section\", \"section\", \"section\", \"section\", \"section\", \"sector\", \"secure\", \"seizures\", \"self\", \"self\", \"self\", \"self\", \"self\", \"sell\", \"sell\", \"sell\", \"sell\", \"sell\", \"sell\", \"sell\", \"senate\", \"senate\", \"senate\", \"senator\", \"send\", \"send\", \"send\", \"send\", \"send\", \"send\", \"send\", \"send\", \"send\", \"send\", \"sender\", \"sensing\", \"serdar\", \"series\", \"series\", \"series\", \"series\", \"series\", \"series\", \"series\", \"series\", \"series\", \"series\", \"server\", \"server\", \"service\", \"service\", \"service\", \"service\", \"service\", \"service\", \"service\", \"service\", \"service\", \"service\", \"sexual\", \"sexual\", \"shack\", \"shaky\", \"shameful\", \"shanahan\", \"shar\", \"shareware\", \"sharks\", \"shell\", \"shell\", \"shell\", \"shell\", \"shipping\", \"shipping\", \"shipping\", \"shipping\", \"ships\", \"shot\", \"shot\", \"shot\", \"shot\", \"shot\", \"shot\", \"shots\", \"shots\", \"shots\", \"shouting\", \"shuttle\", \"side\", \"side\", \"side\", \"side\", \"side\", \"side\", \"side\", \"side\", \"side\", \"side\", \"side\", \"side\", \"siggraph\", \"sign\", \"sign\", \"sign\", \"sign\", \"sign\", \"silverlining\", \"simms\", \"since\", \"since\", \"since\", \"since\", \"since\", \"since\", \"since\", \"since\", \"since\", \"since\", \"since\", \"since\", \"since\", \"sister\", \"site\", \"site\", \"site\", \"site\", \"site\", \"site\", \"size\", \"size\", \"size\", \"size\", \"size\", \"size\", \"size\", \"size\", \"size\", \"skepticism\", \"sleeve\", \"slots\", \"slower\", \"smiley\", \"smith\", \"smith\", \"smith\", \"smith\", \"smith\", \"smith\", \"smokeless\", \"snow\", \"snow\", \"soderstrom\", \"software\", \"software\", \"software\", \"software\", \"solar\", \"something\", \"something\", \"something\", \"something\", \"something\", \"something\", \"something\", \"something\", \"something\", \"something\", \"sony\", \"soon\", \"soon\", \"soon\", \"soon\", \"soon\", \"soon\", \"soon\", \"soon\", \"soon\", \"source\", \"source\", \"source\", \"source\", \"source\", \"source\", \"source\", \"source\", \"source\", \"south\", \"south\", \"south\", \"south\", \"southern\", \"soviet\", \"soviet\", \"soviet\", \"space\", \"space\", \"space\", \"spacecraft\", \"speakers\", \"speakers\", \"speed\", \"speed\", \"speed\", \"speed\", \"speed\", \"speed\", \"spending\", \"spiderman\", \"spirit\", \"spirit\", \"sport\", \"sport\", \"spring\", \"spring\", \"spring\", \"spring\", \"spring\", \"spring\", \"spring\", \"spring\", \"springfield\", \"springfield\", \"standings\", \"stands\", \"stands\", \"stanley\", \"started\", \"started\", \"started\", \"started\", \"started\", \"started\", \"started\", \"state\", \"state\", \"state\", \"state\", \"state\", \"states\", \"states\", \"states\", \"states\", \"states\", \"states\", \"states\", \"station\", \"station\", \"station\", \"station\", \"station\", \"station\", \"stats\", \"stats\", \"stats\", \"steam\", \"steering\", \"stein\", \"stereo\", \"stereo\", \"stevens\", \"still\", \"still\", \"still\", \"still\", \"still\", \"still\", \"still\", \"still\", \"still\", \"still\", \"still\", \"still\", \"still\", \"still\", \"stimulus\", \"stream\", \"stream\", \"street\", \"street\", \"street\", \"street\", \"street\", \"string\", \"string\", \"strong\", \"strong\", \"strong\", \"strong\", \"stuart\", \"stuart\", \"studies\", \"studies\", \"studies\", \"studies\", \"studies\", \"study\", \"study\", \"study\", \"study\", \"study\", \"stuff\", \"stuff\", \"stuff\", \"stuff\", \"stuff\", \"stuff\", \"stuff\", \"stuff\", \"subjective\", \"suck\", \"sugar\", \"sumgait\", \"sunos\", \"sunos\", \"sure\", \"sure\", \"sure\", \"sure\", \"sure\", \"sure\", \"sure\", \"sure\", \"sure\", \"sure\", \"surface\", \"surface\", \"surface\", \"surface\", \"surface\", \"surrender\", \"surveillance\", \"svga\", \"swap\", \"swing\", \"symbol\", \"symbol\", \"sync\", \"system\", \"system\", \"system\", \"system\", \"system\", \"system\", \"system\", \"take\", \"take\", \"take\", \"take\", \"take\", \"take\", \"take\", \"take\", \"take\", \"take\", \"tanks\", \"tape\", \"tape\", \"tape\", \"tape\", \"targa\", \"tasks\", \"taste\", \"taste\", \"taurus\", \"taxes\", \"taxes\", \"team\", \"team\", \"team\", \"teams\", \"tear\", \"technology\", \"technology\", \"technology\", \"technology\", \"technology\", \"telescope\", \"telnet\", \"temp\", \"temp\", \"temperature\", \"temperature\", \"temperature\", \"temperature\", \"temple\", \"terminals\", \"testament\", \"thanks\", \"thanks\", \"thanks\", \"thanks\", \"thanks\", \"thanks\", \"thanks\", \"thanks\", \"theist\", \"thin\", \"thin\", \"thing\", \"thing\", \"thing\", \"thing\", \"thing\", \"thing\", \"thing\", \"thing\", \"thing\", \"things\", \"things\", \"things\", \"things\", \"things\", \"things\", \"things\", \"things\", \"things\", \"think\", \"think\", \"think\", \"think\", \"think\", \"think\", \"think\", \"think\", \"think\", \"third\", \"third\", \"third\", \"third\", \"third\", \"third\", \"third\", \"third\", \"third\", \"third\", \"three\", \"three\", \"three\", \"three\", \"three\", \"three\", \"three\", \"three\", \"three\", \"three\", \"three\", \"three\", \"thumb\", \"tiff\", \"time\", \"time\", \"time\", \"time\", \"time\", \"time\", \"time\", \"time\", \"time\", \"time\", \"time\", \"time\", \"time\", \"time\", \"time\", \"tire\", \"tires\", \"titan\", \"title\", \"title\", \"title\", \"title\", \"title\", \"title\", \"title\", \"title\", \"title\", \"title\", \"titled\", \"tobacco\", \"tocchet\", \"told\", \"told\", \"told\", \"told\", \"told\", \"told\", \"told\", \"tommy\", \"tommy\", \"took\", \"took\", \"took\", \"took\", \"took\", \"took\", \"took\", \"took\", \"took\", \"took\", \"took\", \"toplevel\", \"toronto\", \"toronto\", \"toronto\", \"torque\", \"tower\", \"tower\", \"towers\", \"town\", \"town\", \"town\", \"tracer\", \"tracer\", \"traded\", \"transformer\", \"transmission\", \"transmission\", \"transmission\", \"treatment\", \"treatment\", \"treatment\", \"triangles\", \"troy\", \"true\", \"true\", \"true\", \"true\", \"true\", \"true\", \"true\", \"true\", \"true\", \"trust\", \"trust\", \"truth\", \"truth\", \"truth\", \"truth\", \"tuning\", \"turkey\", \"turkish\", \"turks\", \"typing\", \"ultimate\", \"unassisted\", \"uniforms\", \"universe\", \"universe\", \"university\", \"university\", \"university\", \"university\", \"university\", \"university\", \"unlikely\", \"unlikely\", \"upgrade\", \"used\", \"used\", \"used\", \"used\", \"used\", \"used\", \"used\", \"used\", \"used\", \"used\", \"used\", \"used\", \"usenet\", \"usenet\", \"users\", \"users\", \"users\", \"users\", \"using\", \"using\", \"using\", \"using\", \"using\", \"using\", \"using\", \"using\", \"using\", \"using\", \"utica\", \"uuencode\", \"value\", \"value\", \"value\", \"value\", \"value\", \"value\", \"value\", \"venus\", \"vernon\", \"version\", \"version\", \"version\", \"version\", \"version\", \"version\", \"version\", \"vesa\", \"video\", \"video\", \"video\", \"video\", \"viewer\", \"villages\", \"viola\", \"violent\", \"violent\", \"virginia\", \"virginia\", \"virginia\", \"virginia\", \"virginia\", \"virginia\", \"visual\", \"visual\", \"vitamin\", \"volt\", \"voltage\", \"volume\", \"volume\", \"volume\", \"volume\", \"volume\", \"volume\", \"volume\", \"vpic\", \"vram\", \"wagon\", \"walls\", \"want\", \"want\", \"want\", \"want\", \"want\", \"want\", \"want\", \"want\", \"want\", \"want\", \"warrant\", \"warranty\", \"washington\", \"washington\", \"washington\", \"washington\", \"washington\", \"washington\", \"washington\", \"water\", \"water\", \"water\", \"water\", \"water\", \"water\", \"water\", \"wave\", \"wave\", \"wave\", \"wave\", \"waves\", \"weapon\", \"weapons\", \"weapons\", \"weapons\", \"weapons\", \"weapons\", \"weaver\", \"weekend\", \"weekend\", \"weekend\", \"weekend\", \"weight\", \"weight\", \"weight\", \"weight\", \"weight\", \"weight\", \"weird\", \"weird\", \"weird\", \"well\", \"well\", \"well\", \"well\", \"well\", \"well\", \"well\", \"well\", \"well\", \"well\", \"well\", \"well\", \"well\", \"went\", \"went\", \"went\", \"went\", \"went\", \"western\", \"western\", \"western\", \"western\", \"wheel\", \"white\", \"white\", \"white\", \"white\", \"white\", \"white\", \"white\", \"white\", \"white\", \"white\", \"white\", \"white\", \"widget\", \"widgets\", \"widgets\", \"width\", \"wife\", \"wife\", \"wife\", \"window\", \"window\", \"window\", \"windows\", \"windows\", \"windows\", \"windows\", \"windows\", \"wins\", \"wire\", \"wires\", \"wiretap\", \"wiring\", \"wiring\", \"wiring\", \"wisc\", \"wolverine\", \"woman\", \"woman\", \"woman\", \"women\", \"women\", \"women\", \"women\", \"women\", \"word\", \"word\", \"word\", \"word\", \"word\", \"word\", \"word\", \"word\", \"word\", \"wordperfect\", \"work\", \"work\", \"work\", \"work\", \"work\", \"work\", \"work\", \"work\", \"work\", \"work\", \"work\", \"working\", \"working\", \"working\", \"working\", \"working\", \"working\", \"working\", \"working\", \"working\", \"world\", \"world\", \"world\", \"world\", \"world\", \"world\", \"world\", \"world\", \"world\", \"world\", \"worship\", \"worthy\", \"would\", \"would\", \"would\", \"would\", \"would\", \"would\", \"would\", \"would\", \"would\", \"would\", \"would\", \"would\", \"would\", \"xcopyarea\", \"xfree\", \"xlib\", \"xputimage\", \"xremote\", \"xsun\", \"xterm\", \"xview\", \"xview\", \"yankees\", \"year\", \"year\", \"year\", \"year\", \"year\", \"year\", \"year\", \"year\", \"year\", \"year\", \"year\", \"years\", \"years\", \"years\", \"years\", \"years\", \"years\", \"years\", \"years\", \"years\", \"years\", \"years\", \"years\", \"yeast\", \"yeltsin\", \"young\", \"young\", \"young\", \"young\", \"young\", \"young\", \"young\", \"young\", \"young\", \"zenith\", \"zionist\"]}, \"R\": 30, \"lambda.step\": 0.01, \"plot.opts\": {\"xlab\": \"PC1\", \"ylab\": \"PC2\"}, \"topic.order\": [8, 5, 1, 2, 17, 13, 19, 10, 15, 7, 11, 18, 4, 6, 14, 16, 12, 9, 3, 20]};\n",
       "\n",
       "function LDAvis_load_lib(url, callback){\n",
       "  var s = document.createElement('script');\n",
       "  s.src = url;\n",
       "  s.async = true;\n",
       "  s.onreadystatechange = s.onload = callback;\n",
       "  s.onerror = function(){console.warn(\"failed to load library \" + url);};\n",
       "  document.getElementsByTagName(\"head\")[0].appendChild(s);\n",
       "}\n",
       "\n",
       "if(typeof(LDAvis) !== \"undefined\"){\n",
       "   // already loaded: just create the visualization\n",
       "   !function(LDAvis){\n",
       "       new LDAvis(\"#\" + \"ldavis_el1313216193188552643783725353\", ldavis_el1313216193188552643783725353_data);\n",
       "   }(LDAvis);\n",
       "}else if(typeof define === \"function\" && define.amd){\n",
       "   // require.js is available: use it to load d3/LDAvis\n",
       "   require.config({paths: {d3: \"https://cdnjs.cloudflare.com/ajax/libs/d3/3.5.5/d3.min\"}});\n",
       "   require([\"d3\"], function(d3){\n",
       "      window.d3 = d3;\n",
       "      LDAvis_load_lib(\"https://cdn.rawgit.com/bmabey/pyLDAvis/files/ldavis.v1.0.0.js\", function(){\n",
       "        new LDAvis(\"#\" + \"ldavis_el1313216193188552643783725353\", ldavis_el1313216193188552643783725353_data);\n",
       "      });\n",
       "    });\n",
       "}else{\n",
       "    // require.js not available: dynamically load d3 & LDAvis\n",
       "    LDAvis_load_lib(\"https://cdnjs.cloudflare.com/ajax/libs/d3/3.5.5/d3.min.js\", function(){\n",
       "         LDAvis_load_lib(\"https://cdn.rawgit.com/bmabey/pyLDAvis/files/ldavis.v1.0.0.js\", function(){\n",
       "                 new LDAvis(\"#\" + \"ldavis_el1313216193188552643783725353\", ldavis_el1313216193188552643783725353_data);\n",
       "            })\n",
       "         });\n",
       "}\n",
       "</script>"
      ],
      "text/plain": [
       "<IPython.core.display.HTML object>"
      ]
     },
     "execution_count": 227,
     "metadata": {},
     "output_type": "execute_result"
    }
   ],
   "source": [
    "pyLDAvis.display(vis)"
   ]
  },
  {
   "cell_type": "markdown",
   "metadata": {},
   "source": [
    "Here, circles represents 20 topics. And the distance btw the circles means how much a topic is different from the others. If two circles overlap then the topics are overlapping. "
   ]
  },
  {
   "cell_type": "code",
   "execution_count": 229,
   "metadata": {},
   "outputs": [
    {
     "name": "stdout",
     "output_type": "stream",
     "text": [
      "0 th documents topic is:  [(0, 0.13395585), (1, 0.10933098), (6, 0.31871432), (7, 0.28932667), (8, 0.018454913), (12, 0.11870777)]\n",
      "1 th documents topic is:  [(1, 0.30886817), (2, 0.027623694), (7, 0.6002353), (10, 0.042196106)]\n",
      "2 th documents topic is:  [(1, 0.16538571), (6, 0.26848772), (7, 0.4159749), (16, 0.13720335)]\n",
      "3 th documents topic is:  [(4, 0.12732254), (7, 0.8091132), (9, 0.022848625), (12, 0.027999116)]\n",
      "4 th documents topic is:  [(10, 0.39591396), (14, 0.57074046)]\n"
     ]
    }
   ],
   "source": [
    "for i, topic_list in enumerate(ldamodel[corpus]):\n",
    "    if i == 5: \n",
    "        break \n",
    "    print(i, 'th documents topic is: ', topic_list)"
   ]
  },
  {
   "cell_type": "code",
   "execution_count": 228,
   "metadata": {},
   "outputs": [],
   "source": [
    "def make_topictable_per_doc(ldamodel, corpus):\n",
    "    topic_table = pd.DataFrame()\n",
    "\n",
    "    \n",
    "    for i, topic_list in enumerate(ldamodel[corpus]):\n",
    "        doc = topic_list[0] if ldamodel.per_word_topics else topic_list            \n",
    "        # sort the documents by weights of topics\n",
    "        doc = sorted(doc, key=lambda x: (x[1]), reverse=True)\n",
    "        \n",
    "        \n",
    "        # applying to all the docs\n",
    "        for j, (topic_num, prop_topic) in enumerate(doc): #  store the topic number and its weigths\n",
    "            if j == 0:  # since its already sorted the left is the most important(weighted) topic\n",
    "                topic_table = topic_table.append(pd.Series([int(topic_num), round(prop_topic,4), topic_list]), \n",
    "                                                 ignore_index=True)\n",
    "            else:\n",
    "                break\n",
    "    return(topic_table)"
   ]
  },
  {
   "cell_type": "code",
   "execution_count": 230,
   "metadata": {},
   "outputs": [
    {
     "data": {
      "text/html": [
       "<div>\n",
       "<style scoped>\n",
       "    .dataframe tbody tr th:only-of-type {\n",
       "        vertical-align: middle;\n",
       "    }\n",
       "\n",
       "    .dataframe tbody tr th {\n",
       "        vertical-align: top;\n",
       "    }\n",
       "\n",
       "    .dataframe thead th {\n",
       "        text-align: right;\n",
       "    }\n",
       "</style>\n",
       "<table border=\"1\" class=\"dataframe\">\n",
       "  <thead>\n",
       "    <tr style=\"text-align: right;\">\n",
       "      <th></th>\n",
       "      <th>doc_#</th>\n",
       "      <th>Most weighted Topic</th>\n",
       "      <th>Topic Weights</th>\n",
       "      <th>Weights</th>\n",
       "    </tr>\n",
       "  </thead>\n",
       "  <tbody>\n",
       "    <tr>\n",
       "      <th>0</th>\n",
       "      <td>0</td>\n",
       "      <td>6.0</td>\n",
       "      <td>0.3187</td>\n",
       "      <td>[(0, 0.13396183), (1, 0.109256946), (6, 0.3187...</td>\n",
       "    </tr>\n",
       "    <tr>\n",
       "      <th>1</th>\n",
       "      <td>1</td>\n",
       "      <td>7.0</td>\n",
       "      <td>0.6002</td>\n",
       "      <td>[(1, 0.30891076), (2, 0.027623694), (7, 0.6002...</td>\n",
       "    </tr>\n",
       "    <tr>\n",
       "      <th>2</th>\n",
       "      <td>2</td>\n",
       "      <td>7.0</td>\n",
       "      <td>0.4159</td>\n",
       "      <td>[(1, 0.16541779), (6, 0.2684898), (7, 0.415893...</td>\n",
       "    </tr>\n",
       "    <tr>\n",
       "      <th>3</th>\n",
       "      <td>3</td>\n",
       "      <td>7.0</td>\n",
       "      <td>0.8090</td>\n",
       "      <td>[(4, 0.12699461), (7, 0.80902475), (9, 0.02327...</td>\n",
       "    </tr>\n",
       "    <tr>\n",
       "      <th>4</th>\n",
       "      <td>4</td>\n",
       "      <td>14.0</td>\n",
       "      <td>0.5707</td>\n",
       "      <td>[(10, 0.39593396), (14, 0.5707205)]</td>\n",
       "    </tr>\n",
       "    <tr>\n",
       "      <th>5</th>\n",
       "      <td>5</td>\n",
       "      <td>7.0</td>\n",
       "      <td>0.4618</td>\n",
       "      <td>[(1, 0.2686706), (3, 0.07334986), (7, 0.461804...</td>\n",
       "    </tr>\n",
       "    <tr>\n",
       "      <th>6</th>\n",
       "      <td>6</td>\n",
       "      <td>4.0</td>\n",
       "      <td>0.5397</td>\n",
       "      <td>[(0, 0.16975811), (3, 0.018858196), (4, 0.5397...</td>\n",
       "    </tr>\n",
       "    <tr>\n",
       "      <th>7</th>\n",
       "      <td>7</td>\n",
       "      <td>7.0</td>\n",
       "      <td>0.4462</td>\n",
       "      <td>[(1, 0.086775295), (5, 0.035179533), (6, 0.300...</td>\n",
       "    </tr>\n",
       "    <tr>\n",
       "      <th>8</th>\n",
       "      <td>8</td>\n",
       "      <td>7.0</td>\n",
       "      <td>0.4886</td>\n",
       "      <td>[(2, 0.18689574), (3, 0.18662259), (7, 0.48857...</td>\n",
       "    </tr>\n",
       "    <tr>\n",
       "      <th>9</th>\n",
       "      <td>9</td>\n",
       "      <td>14.0</td>\n",
       "      <td>0.4153</td>\n",
       "      <td>[(4, 0.1548003), (6, 0.013576224), (7, 0.20823...</td>\n",
       "    </tr>\n",
       "  </tbody>\n",
       "</table>\n",
       "</div>"
      ],
      "text/plain": [
       "   doc_#  Most weighted Topic  Topic Weights                                            Weights\n",
       "0      0                  6.0         0.3187  [(0, 0.13396183), (1, 0.109256946), (6, 0.3187...\n",
       "1      1                  7.0         0.6002  [(1, 0.30891076), (2, 0.027623694), (7, 0.6002...\n",
       "2      2                  7.0         0.4159  [(1, 0.16541779), (6, 0.2684898), (7, 0.415893...\n",
       "3      3                  7.0         0.8090  [(4, 0.12699461), (7, 0.80902475), (9, 0.02327...\n",
       "4      4                 14.0         0.5707                [(10, 0.39593396), (14, 0.5707205)]\n",
       "5      5                  7.0         0.4618  [(1, 0.2686706), (3, 0.07334986), (7, 0.461804...\n",
       "6      6                  4.0         0.5397  [(0, 0.16975811), (3, 0.018858196), (4, 0.5397...\n",
       "7      7                  7.0         0.4462  [(1, 0.086775295), (5, 0.035179533), (6, 0.300...\n",
       "8      8                  7.0         0.4886  [(2, 0.18689574), (3, 0.18662259), (7, 0.48857...\n",
       "9      9                 14.0         0.4153  [(4, 0.1548003), (6, 0.013576224), (7, 0.20823..."
      ]
     },
     "execution_count": 230,
     "metadata": {},
     "output_type": "execute_result"
    }
   ],
   "source": [
    "topictab = make_topictable_per_doc(ldamodel, corpus)\n",
    "topictab = topictab.reset_index()\n",
    "topictab.columns = ['doc_#', 'Most weighted Topic', 'Topic Weights', 'Weights']\n",
    "topictab[:10]"
   ]
  },
  {
   "cell_type": "code",
   "execution_count": null,
   "metadata": {},
   "outputs": [],
   "source": []
  },
  {
   "cell_type": "markdown",
   "metadata": {},
   "source": [
    "#### LDA 2"
   ]
  },
  {
   "cell_type": "code",
   "execution_count": 231,
   "metadata": {},
   "outputs": [],
   "source": [
    "import pandas as pd\n",
    "import urllib.request\n",
    "urllib.request.urlretrieve(\"https://raw.githubusercontent.com/franciscadias/data/master/abcnews-date-text.csv\", filename=\"abcnews-date-text.csv\")\n",
    "data = pd.read_csv('abcnews-date-text.csv', error_bad_lines=False)"
   ]
  },
  {
   "cell_type": "code",
   "execution_count": 232,
   "metadata": {},
   "outputs": [
    {
     "data": {
      "text/html": [
       "<div>\n",
       "<style scoped>\n",
       "    .dataframe tbody tr th:only-of-type {\n",
       "        vertical-align: middle;\n",
       "    }\n",
       "\n",
       "    .dataframe tbody tr th {\n",
       "        vertical-align: top;\n",
       "    }\n",
       "\n",
       "    .dataframe thead th {\n",
       "        text-align: right;\n",
       "    }\n",
       "</style>\n",
       "<table border=\"1\" class=\"dataframe\">\n",
       "  <thead>\n",
       "    <tr style=\"text-align: right;\">\n",
       "      <th></th>\n",
       "      <th>publish_date</th>\n",
       "      <th>headline_text</th>\n",
       "    </tr>\n",
       "  </thead>\n",
       "  <tbody>\n",
       "    <tr>\n",
       "      <th>0</th>\n",
       "      <td>20030219</td>\n",
       "      <td>aba decides against community broadcasting lic...</td>\n",
       "    </tr>\n",
       "    <tr>\n",
       "      <th>1</th>\n",
       "      <td>20030219</td>\n",
       "      <td>act fire witnesses must be aware of defamation</td>\n",
       "    </tr>\n",
       "    <tr>\n",
       "      <th>2</th>\n",
       "      <td>20030219</td>\n",
       "      <td>a g calls for infrastructure protection summit</td>\n",
       "    </tr>\n",
       "    <tr>\n",
       "      <th>3</th>\n",
       "      <td>20030219</td>\n",
       "      <td>air nz staff in aust strike for pay rise</td>\n",
       "    </tr>\n",
       "    <tr>\n",
       "      <th>4</th>\n",
       "      <td>20030219</td>\n",
       "      <td>air nz strike to affect australian travellers</td>\n",
       "    </tr>\n",
       "  </tbody>\n",
       "</table>\n",
       "</div>"
      ],
      "text/plain": [
       "   publish_date                                      headline_text\n",
       "0      20030219  aba decides against community broadcasting lic...\n",
       "1      20030219     act fire witnesses must be aware of defamation\n",
       "2      20030219     a g calls for infrastructure protection summit\n",
       "3      20030219           air nz staff in aust strike for pay rise\n",
       "4      20030219      air nz strike to affect australian travellers"
      ]
     },
     "execution_count": 232,
     "metadata": {},
     "output_type": "execute_result"
    }
   ],
   "source": [
    "data.head()"
   ]
  },
  {
   "cell_type": "code",
   "execution_count": 238,
   "metadata": {},
   "outputs": [
    {
     "data": {
      "text/html": [
       "<div>\n",
       "<style scoped>\n",
       "    .dataframe tbody tr th:only-of-type {\n",
       "        vertical-align: middle;\n",
       "    }\n",
       "\n",
       "    .dataframe tbody tr th {\n",
       "        vertical-align: top;\n",
       "    }\n",
       "\n",
       "    .dataframe thead th {\n",
       "        text-align: right;\n",
       "    }\n",
       "</style>\n",
       "<table border=\"1\" class=\"dataframe\">\n",
       "  <thead>\n",
       "    <tr style=\"text-align: right;\">\n",
       "      <th></th>\n",
       "      <th>headline_text</th>\n",
       "    </tr>\n",
       "  </thead>\n",
       "  <tbody>\n",
       "    <tr>\n",
       "      <th>0</th>\n",
       "      <td>aba decides against community broadcasting lic...</td>\n",
       "    </tr>\n",
       "    <tr>\n",
       "      <th>1</th>\n",
       "      <td>act fire witnesses must be aware of defamation</td>\n",
       "    </tr>\n",
       "    <tr>\n",
       "      <th>2</th>\n",
       "      <td>a g calls for infrastructure protection summit</td>\n",
       "    </tr>\n",
       "    <tr>\n",
       "      <th>3</th>\n",
       "      <td>air nz staff in aust strike for pay rise</td>\n",
       "    </tr>\n",
       "    <tr>\n",
       "      <th>4</th>\n",
       "      <td>air nz strike to affect australian travellers</td>\n",
       "    </tr>\n",
       "  </tbody>\n",
       "</table>\n",
       "</div>"
      ],
      "text/plain": [
       "                                       headline_text\n",
       "0  aba decides against community broadcasting lic...\n",
       "1     act fire witnesses must be aware of defamation\n",
       "2     a g calls for infrastructure protection summit\n",
       "3           air nz staff in aust strike for pay rise\n",
       "4      air nz strike to affect australian travellers"
      ]
     },
     "execution_count": 238,
     "metadata": {},
     "output_type": "execute_result"
    }
   ],
   "source": [
    "text = data[['headline_text']]\n",
    "text.head()"
   ]
  },
  {
   "cell_type": "code",
   "execution_count": 239,
   "metadata": {},
   "outputs": [
    {
     "name": "stderr",
     "output_type": "stream",
     "text": [
      "C:\\Users\\caffr\\Anaconda3\\lib\\site-packages\\ipykernel_launcher.py:4: SettingWithCopyWarning: \n",
      "A value is trying to be set on a copy of a slice from a DataFrame.\n",
      "Try using .loc[row_indexer,col_indexer] = value instead\n",
      "\n",
      "See the caveats in the documentation: http://pandas.pydata.org/pandas-docs/stable/indexing.html#indexing-view-versus-copy\n",
      "  after removing the cwd from sys.path.\n"
     ]
    }
   ],
   "source": [
    "# preprocess: stopwords, [^a-zA-Z], short words\n",
    "\n",
    "import nltk\n",
    "text['headline_text'] = text.apply(lambda row: nltk.word_tokenize(row['headline_text']), axis=1)"
   ]
  },
  {
   "cell_type": "code",
   "execution_count": 240,
   "metadata": {},
   "outputs": [
    {
     "data": {
      "text/html": [
       "<div>\n",
       "<style scoped>\n",
       "    .dataframe tbody tr th:only-of-type {\n",
       "        vertical-align: middle;\n",
       "    }\n",
       "\n",
       "    .dataframe tbody tr th {\n",
       "        vertical-align: top;\n",
       "    }\n",
       "\n",
       "    .dataframe thead th {\n",
       "        text-align: right;\n",
       "    }\n",
       "</style>\n",
       "<table border=\"1\" class=\"dataframe\">\n",
       "  <thead>\n",
       "    <tr style=\"text-align: right;\">\n",
       "      <th></th>\n",
       "      <th>headline_text</th>\n",
       "    </tr>\n",
       "  </thead>\n",
       "  <tbody>\n",
       "    <tr>\n",
       "      <th>0</th>\n",
       "      <td>[aba, decides, against, community, broadcastin...</td>\n",
       "    </tr>\n",
       "    <tr>\n",
       "      <th>1</th>\n",
       "      <td>[act, fire, witnesses, must, be, aware, of, de...</td>\n",
       "    </tr>\n",
       "    <tr>\n",
       "      <th>2</th>\n",
       "      <td>[a, g, calls, for, infrastructure, protection,...</td>\n",
       "    </tr>\n",
       "    <tr>\n",
       "      <th>3</th>\n",
       "      <td>[air, nz, staff, in, aust, strike, for, pay, r...</td>\n",
       "    </tr>\n",
       "    <tr>\n",
       "      <th>4</th>\n",
       "      <td>[air, nz, strike, to, affect, australian, trav...</td>\n",
       "    </tr>\n",
       "  </tbody>\n",
       "</table>\n",
       "</div>"
      ],
      "text/plain": [
       "                                       headline_text\n",
       "0  [aba, decides, against, community, broadcastin...\n",
       "1  [act, fire, witnesses, must, be, aware, of, de...\n",
       "2  [a, g, calls, for, infrastructure, protection,...\n",
       "3  [air, nz, staff, in, aust, strike, for, pay, r...\n",
       "4  [air, nz, strike, to, affect, australian, trav..."
      ]
     },
     "execution_count": 240,
     "metadata": {},
     "output_type": "execute_result"
    }
   ],
   "source": [
    "text.head()"
   ]
  },
  {
   "cell_type": "code",
   "execution_count": 241,
   "metadata": {},
   "outputs": [
    {
     "name": "stderr",
     "output_type": "stream",
     "text": [
      "C:\\Users\\caffr\\Anaconda3\\lib\\site-packages\\ipykernel_launcher.py:4: SettingWithCopyWarning: \n",
      "A value is trying to be set on a copy of a slice from a DataFrame.\n",
      "Try using .loc[row_indexer,col_indexer] = value instead\n",
      "\n",
      "See the caveats in the documentation: http://pandas.pydata.org/pandas-docs/stable/indexing.html#indexing-view-versus-copy\n",
      "  after removing the cwd from sys.path.\n"
     ]
    },
    {
     "data": {
      "text/html": [
       "<div>\n",
       "<style scoped>\n",
       "    .dataframe tbody tr th:only-of-type {\n",
       "        vertical-align: middle;\n",
       "    }\n",
       "\n",
       "    .dataframe tbody tr th {\n",
       "        vertical-align: top;\n",
       "    }\n",
       "\n",
       "    .dataframe thead th {\n",
       "        text-align: right;\n",
       "    }\n",
       "</style>\n",
       "<table border=\"1\" class=\"dataframe\">\n",
       "  <thead>\n",
       "    <tr style=\"text-align: right;\">\n",
       "      <th></th>\n",
       "      <th>headline_text</th>\n",
       "    </tr>\n",
       "  </thead>\n",
       "  <tbody>\n",
       "    <tr>\n",
       "      <th>0</th>\n",
       "      <td>[aba, decides, community, broadcasting, licence]</td>\n",
       "    </tr>\n",
       "    <tr>\n",
       "      <th>1</th>\n",
       "      <td>[act, fire, witnesses, must, aware, defamation]</td>\n",
       "    </tr>\n",
       "    <tr>\n",
       "      <th>2</th>\n",
       "      <td>[g, calls, infrastructure, protection, summit]</td>\n",
       "    </tr>\n",
       "    <tr>\n",
       "      <th>3</th>\n",
       "      <td>[air, nz, staff, aust, strike, pay, rise]</td>\n",
       "    </tr>\n",
       "    <tr>\n",
       "      <th>4</th>\n",
       "      <td>[air, nz, strike, affect, australian, travellers]</td>\n",
       "    </tr>\n",
       "  </tbody>\n",
       "</table>\n",
       "</div>"
      ],
      "text/plain": [
       "                                       headline_text\n",
       "0   [aba, decides, community, broadcasting, licence]\n",
       "1    [act, fire, witnesses, must, aware, defamation]\n",
       "2     [g, calls, infrastructure, protection, summit]\n",
       "3          [air, nz, staff, aust, strike, pay, rise]\n",
       "4  [air, nz, strike, affect, australian, travellers]"
      ]
     },
     "execution_count": 241,
     "metadata": {},
     "output_type": "execute_result"
    }
   ],
   "source": [
    "from nltk.corpus import stopwords\n",
    "sw = stopwords.words('english')\n",
    "\n",
    "text['headline_text'] = text['headline_text'].apply(lambda x: [word for word in x if word not in sw])\n",
    "text.head()"
   ]
  },
  {
   "cell_type": "code",
   "execution_count": 242,
   "metadata": {},
   "outputs": [
    {
     "name": "stderr",
     "output_type": "stream",
     "text": [
      "C:\\Users\\caffr\\Anaconda3\\lib\\site-packages\\ipykernel_launcher.py:3: SettingWithCopyWarning: \n",
      "A value is trying to be set on a copy of a slice from a DataFrame.\n",
      "Try using .loc[row_indexer,col_indexer] = value instead\n",
      "\n",
      "See the caveats in the documentation: http://pandas.pydata.org/pandas-docs/stable/indexing.html#indexing-view-versus-copy\n",
      "  This is separate from the ipykernel package so we can avoid doing imports until\n"
     ]
    },
    {
     "data": {
      "text/html": [
       "<div>\n",
       "<style scoped>\n",
       "    .dataframe tbody tr th:only-of-type {\n",
       "        vertical-align: middle;\n",
       "    }\n",
       "\n",
       "    .dataframe tbody tr th {\n",
       "        vertical-align: top;\n",
       "    }\n",
       "\n",
       "    .dataframe thead th {\n",
       "        text-align: right;\n",
       "    }\n",
       "</style>\n",
       "<table border=\"1\" class=\"dataframe\">\n",
       "  <thead>\n",
       "    <tr style=\"text-align: right;\">\n",
       "      <th></th>\n",
       "      <th>headline_text</th>\n",
       "    </tr>\n",
       "  </thead>\n",
       "  <tbody>\n",
       "    <tr>\n",
       "      <th>0</th>\n",
       "      <td>[aba, decide, community, broadcast, licence]</td>\n",
       "    </tr>\n",
       "    <tr>\n",
       "      <th>1</th>\n",
       "      <td>[act, fire, witness, must, aware, defamation]</td>\n",
       "    </tr>\n",
       "    <tr>\n",
       "      <th>2</th>\n",
       "      <td>[g, call, infrastructure, protection, summit]</td>\n",
       "    </tr>\n",
       "    <tr>\n",
       "      <th>3</th>\n",
       "      <td>[air, nz, staff, aust, strike, pay, rise]</td>\n",
       "    </tr>\n",
       "    <tr>\n",
       "      <th>4</th>\n",
       "      <td>[air, nz, strike, affect, australian, travellers]</td>\n",
       "    </tr>\n",
       "  </tbody>\n",
       "</table>\n",
       "</div>"
      ],
      "text/plain": [
       "                                       headline_text\n",
       "0       [aba, decide, community, broadcast, licence]\n",
       "1      [act, fire, witness, must, aware, defamation]\n",
       "2      [g, call, infrastructure, protection, summit]\n",
       "3          [air, nz, staff, aust, strike, pay, rise]\n",
       "4  [air, nz, strike, affect, australian, travellers]"
      ]
     },
     "execution_count": 242,
     "metadata": {},
     "output_type": "execute_result"
    }
   ],
   "source": [
    "from nltk.stem import WordNetLemmatizer\n",
    "\n",
    "text['headline_text'] = text['headline_text'].apply(lambda x: [WordNetLemmatizer().lemmatize(word, pos='v') for word in x])\n",
    "text.head()"
   ]
  },
  {
   "cell_type": "code",
   "execution_count": 243,
   "metadata": {},
   "outputs": [
    {
     "data": {
      "text/plain": [
       "0       [decide, community, broadcast, licence]\n",
       "1      [fire, witness, must, aware, defamation]\n",
       "2    [call, infrastructure, protection, summit]\n",
       "3                   [staff, aust, strike, rise]\n",
       "4      [strike, affect, australian, travellers]\n",
       "Name: headline_text, dtype: object"
      ]
     },
     "execution_count": 243,
     "metadata": {},
     "output_type": "execute_result"
    }
   ],
   "source": [
    "tokenized_doc = text['headline_text'].apply(lambda x: [word for word in x if len(word) > 3])\n",
    "tokenized_doc[:5]"
   ]
  },
  {
   "cell_type": "code",
   "execution_count": 244,
   "metadata": {},
   "outputs": [
    {
     "name": "stderr",
     "output_type": "stream",
     "text": [
      "C:\\Users\\caffr\\Anaconda3\\lib\\site-packages\\ipykernel_launcher.py:6: SettingWithCopyWarning: \n",
      "A value is trying to be set on a copy of a slice from a DataFrame.\n",
      "Try using .loc[row_indexer,col_indexer] = value instead\n",
      "\n",
      "See the caveats in the documentation: http://pandas.pydata.org/pandas-docs/stable/indexing.html#indexing-view-versus-copy\n",
      "  \n"
     ]
    }
   ],
   "source": [
    "detokenized_doc = []\n",
    "for i in range(len(text)):\n",
    "    t = ' '.join(tokenized_doc[i])\n",
    "    detokenized_doc.append(t)\n",
    "\n",
    "text['headline_text'] = detokenized_doc "
   ]
  },
  {
   "cell_type": "code",
   "execution_count": 245,
   "metadata": {},
   "outputs": [
    {
     "data": {
      "text/plain": [
       "0       decide community broadcast licence\n",
       "1       fire witness must aware defamation\n",
       "2    call infrastructure protection summit\n",
       "3                   staff aust strike rise\n",
       "4      strike affect australian travellers\n",
       "Name: headline_text, dtype: object"
      ]
     },
     "execution_count": 245,
     "metadata": {},
     "output_type": "execute_result"
    }
   ],
   "source": [
    "text['headline_text'][:5]"
   ]
  },
  {
   "cell_type": "code",
   "execution_count": 248,
   "metadata": {},
   "outputs": [
    {
     "data": {
      "text/plain": [
       "(1082168, 1000)"
      ]
     },
     "execution_count": 248,
     "metadata": {},
     "output_type": "execute_result"
    }
   ],
   "source": [
    "from sklearn.feature_extraction.text import TfidfVectorizer\n",
    "\n",
    "vectorizer = TfidfVectorizer(stop_words='english', \n",
    "                            max_features = 1000)\n",
    "\n",
    "X = vectorizer.fit_transform(text['headline_text'])\n",
    "X.shape"
   ]
  },
  {
   "cell_type": "code",
   "execution_count": 249,
   "metadata": {},
   "outputs": [],
   "source": [
    "# modeling\n",
    "\n",
    "from sklearn.decomposition import LatentDirichletAllocation\n",
    "lda_model = LatentDirichletAllocation(n_components= 10, \n",
    "                                     learning_method='online', \n",
    "                                     random_state=42,\n",
    "                                     max_iter= 1)"
   ]
  },
  {
   "cell_type": "code",
   "execution_count": 250,
   "metadata": {
    "collapsed": true
   },
   "outputs": [
    {
     "ename": "AttributeError",
     "evalue": "'numpy.ndarray' object has no attribute 'components_'",
     "output_type": "error",
     "traceback": [
      "\u001b[1;31m---------------------------------------------------------------------------\u001b[0m",
      "\u001b[1;31mAttributeError\u001b[0m                            Traceback (most recent call last)",
      "\u001b[1;32m<ipython-input-250-8357dc649d58>\u001b[0m in \u001b[0;36m<module>\u001b[1;34m\u001b[0m\n\u001b[0;32m      1\u001b[0m \u001b[0mlda_top\u001b[0m \u001b[1;33m=\u001b[0m \u001b[0mlda_model\u001b[0m\u001b[1;33m.\u001b[0m\u001b[0mfit_transform\u001b[0m\u001b[1;33m(\u001b[0m\u001b[0mX\u001b[0m\u001b[1;33m)\u001b[0m\u001b[1;33m\u001b[0m\u001b[1;33m\u001b[0m\u001b[0m\n\u001b[0;32m      2\u001b[0m \u001b[1;33m\u001b[0m\u001b[0m\n\u001b[1;32m----> 3\u001b[1;33m \u001b[0mprint\u001b[0m\u001b[1;33m(\u001b[0m\u001b[0mlda_top\u001b[0m\u001b[1;33m.\u001b[0m\u001b[0mcomponents_\u001b[0m\u001b[1;33m)\u001b[0m\u001b[1;33m\u001b[0m\u001b[1;33m\u001b[0m\u001b[0m\n\u001b[0m\u001b[0;32m      4\u001b[0m \u001b[0mprint\u001b[0m\u001b[1;33m(\u001b[0m\u001b[0mlda_top\u001b[0m\u001b[1;33m.\u001b[0m\u001b[0mcomponents_\u001b[0m\u001b[1;33m.\u001b[0m\u001b[0mshape\u001b[0m\u001b[1;33m)\u001b[0m\u001b[1;33m\u001b[0m\u001b[1;33m\u001b[0m\u001b[0m\n",
      "\u001b[1;31mAttributeError\u001b[0m: 'numpy.ndarray' object has no attribute 'components_'"
     ]
    }
   ],
   "source": [
    "lda_top = lda_model.fit_transform(X)"
   ]
  },
  {
   "cell_type": "code",
   "execution_count": 254,
   "metadata": {},
   "outputs": [
    {
     "data": {
      "text/plain": [
       "array([[0.03669227, 0.03669227, 0.03669227, ..., 0.48500584, 0.03669227,\n",
       "        0.03669227],\n",
       "       [0.05      , 0.05      , 0.05      , ..., 0.55      , 0.05      ,\n",
       "        0.05      ],\n",
       "       [0.25184311, 0.03660966, 0.03660966, ..., 0.03660966, 0.03660966,\n",
       "        0.03660966],\n",
       "       ...,\n",
       "       [0.03663014, 0.24045712, 0.26244076, ..., 0.03663014, 0.03663014,\n",
       "        0.03663014],\n",
       "       [0.23295112, 0.03354632, 0.03354632, ..., 0.20853926, 0.03354632,\n",
       "        0.32368536],\n",
       "       [0.05      , 0.05      , 0.05      , ..., 0.05      , 0.05      ,\n",
       "        0.05      ]])"
      ]
     },
     "execution_count": 254,
     "metadata": {},
     "output_type": "execute_result"
    }
   ],
   "source": [
    "lda_top"
   ]
  },
  {
   "cell_type": "code",
   "execution_count": 253,
   "metadata": {},
   "outputs": [
    {
     "name": "stdout",
     "output_type": "stream",
     "text": [
      "[[1.00001578e-01 1.00001244e-01 3.50170827e+03 ... 1.00004257e-01\n",
      "  1.00001722e-01 1.00003979e-01]\n",
      " [1.00001847e-01 1.00001158e-01 1.00002229e-01 ... 1.00005861e-01\n",
      "  1.00006065e-01 1.00002605e-01]\n",
      " [1.00002307e-01 1.00001528e-01 1.00007348e-01 ... 1.00005637e-01\n",
      "  1.00002505e-01 1.00005427e-01]\n",
      " ...\n",
      " [3.51600411e+02 1.00001057e-01 1.00003859e-01 ... 1.00003895e-01\n",
      "  1.00005142e-01 1.00004596e-01]\n",
      " [1.00001062e-01 1.00001649e-01 1.00006522e-01 ... 1.77619511e+03\n",
      "  1.50652738e+02 7.53381835e+02]\n",
      " [1.00004033e-01 1.13513398e+03 1.00030595e-01 ... 1.00009276e-01\n",
      "  1.00003667e-01 1.00003605e-01]]\n",
      "(10, 1000)\n"
     ]
    }
   ],
   "source": [
    "print(lda_model.components_)\n",
    "print(lda_model.components_.shape)"
   ]
  },
  {
   "cell_type": "code",
   "execution_count": 258,
   "metadata": {},
   "outputs": [
    {
     "name": "stdout",
     "output_type": "stream",
     "text": [
      "Topic 1 [('queensland', 7720.12), ('house', 6113.49), ('leave', 3849.71), ('2015', 3501.71), ('federal', 3120.93)]\n",
      "Topic 2 [('police', 12092.44), ('sydney', 8393.29), ('melbourne', 7528.43), ('south', 6677.03), ('open', 5663.0)]\n",
      "Topic 3 [('plan', 6033.16), ('change', 5874.27), ('year', 5586.42), ('school', 5465.06), ('coast', 5429.41)]\n",
      "Topic 4 [('kill', 5851.6), ('woman', 5456.76), ('help', 5225.56), ('minister', 3973.22), ('child', 3838.44)]\n",
      "Topic 5 [('death', 5935.06), ('women', 4232.53), ('indigenous', 4223.4), ('price', 3818.24), ('need', 3708.86)]\n",
      "Topic 6 [('interview', 5924.98), ('record', 3987.87), ('league', 3911.12), ('fight', 3872.94), ('dead', 3503.84)]\n",
      "Topic 7 [('charge', 8428.8), ('court', 7542.74), ('perth', 6456.53), ('murder', 6268.13), ('face', 5193.63)]\n",
      "Topic 8 [('trump', 11966.41), ('australian', 11088.95), ('election', 7561.63), ('adelaide', 6758.36), ('canberra', 6112.23)]\n",
      "Topic 9 [('home', 5674.38), ('market', 5545.86), ('north', 5142.38), ('warn', 5115.01), ('state', 4923.41)]\n",
      "Topic 10 [('australia', 13691.08), ('government', 8725.19), ('attack', 6959.64), ('world', 6707.7), ('2016', 5488.19)]\n"
     ]
    }
   ],
   "source": [
    "terms = vectorizer.get_feature_names()\n",
    "\n",
    "def get_topics(components, feature_names, n = 5):\n",
    "    for idx, topic in enumerate(components):\n",
    "        print('Topic %d' %(idx+1), [(feature_names[i], topic[i].round(2)) for i in topic.argsort()[: -n -1 : -1]])\n",
    "        \n",
    "get_topics(lda_model.components_, terms)"
   ]
  }
 ],
 "metadata": {
  "kernelspec": {
   "display_name": "Python 3",
   "language": "python",
   "name": "python3"
  },
  "language_info": {
   "codemirror_mode": {
    "name": "ipython",
    "version": 3
   },
   "file_extension": ".py",
   "mimetype": "text/x-python",
   "name": "python",
   "nbconvert_exporter": "python",
   "pygments_lexer": "ipython3",
   "version": "3.7.3"
  }
 },
 "nbformat": 4,
 "nbformat_minor": 2
}
