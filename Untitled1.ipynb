{
 "cells": [
  {
   "cell_type": "code",
   "execution_count": null,
   "metadata": {},
   "outputs": [],
   "source": [
    "dat['diagnosis'] = dat['diagnosis'].map({'M':1, 'B':0})"
   ]
  },
  {
   "cell_type": "code",
   "execution_count": null,
   "metadata": {},
   "outputs": [],
   "source": [
    "import datetime as dt\n",
    "dat['date_added'] = pd.to_datetime(dat['date_added'])\n",
    "dat['year_added'] = dat['date_added'].dt.year\n",
    "dat['month_added'] = dat['date_added'].dt.month"
   ]
  },
  {
   "cell_type": "code",
   "execution_count": null,
   "metadata": {},
   "outputs": [],
   "source": [
    "def duplicate_columns(dat):\n",
    "    groups = dat.columns.to_series().groupby(dat.dtypes).groups\n",
    "    dups = []\n",
    "\n",
    "    for t, v in groups.items():\n",
    "\n",
    "        cs = dat[v].columns\n",
    "        vs = dat[v]\n",
    "        lcs = len(cs)\n",
    "\n",
    "        for i in range(lcs):\n",
    "            ia = vs.iloc[:,i].values\n",
    "            for j in range(i+1, lcs):\n",
    "                ja = vs.iloc[:,j].values\n",
    "                if np.array_equal(ia, ja):\n",
    "                    dups.append(cs[i])\n",
    "                    break\n",
    "\n",
    "    return dups"
   ]
  },
  {
   "cell_type": "code",
   "execution_count": null,
   "metadata": {},
   "outputs": [],
   "source": [
    "def drop_sparse(train, test):\n",
    "    cols = [x for x in train.columns if not x in ['ID','target']]\n",
    "    for i in cols:\n",
    "        if len(np.unique(train[i]))<2:\n",
    "            train.drop(i, axis=1, inplace=True)\n",
    "            test.drop(i, axis=1, inplace=True)\n",
    "    return train, test"
   ]
  },
  {
   "cell_type": "code",
   "execution_count": null,
   "metadata": {},
   "outputs": [],
   "source": [
    "def calulate_perc(data_frame, col):\n",
    "    col_vals = data_frame[col].value_counts().reset_index()\n",
    "\n",
    "    # If the number of unique instances in column exceeds 20 print warning\n",
    "    if len(col_vals['index']) > 20:\n",
    "        print('Warning: values in column are more than 20 \\nPlease try a column with lower value counts!')\n",
    "    # Else it calculates/prints percentage for each unique value in column\n",
    "    else:\n",
    "        # Create a function to output the percentage\n",
    "        f = lambda x, y: 100 * (x / sum(y))\n",
    "        for i in range(0, len(col_vals['index'])):\n",
    "            print('{0} accounts for {1:.2f}% of the {2} column'\\\n",
    "                .format(col_vals['index'][i],\n",
    "                        f(col_vals[col].iloc[i],\n",
    "                        col_vals[col]),\n",
    "                        col))\n",
    "            \n",
    "calulate_perc(dat, 'diagnosis')\n",
    "#0 accounts for 62.74% of the diagnosis column\n",
    "#1 accounts for 37.26% of the diagnosis column"
   ]
  },
  {
   "cell_type": "code",
   "execution_count": null,
   "metadata": {},
   "outputs": [],
   "source": []
  }
 ],
 "metadata": {
  "kernelspec": {
   "display_name": "Python 3",
   "language": "python",
   "name": "python3"
  },
  "language_info": {
   "codemirror_mode": {
    "name": "ipython",
    "version": 3
   },
   "file_extension": ".py",
   "mimetype": "text/x-python",
   "name": "python",
   "nbconvert_exporter": "python",
   "pygments_lexer": "ipython3",
   "version": "3.7.3"
  }
 },
 "nbformat": 4,
 "nbformat_minor": 2
}
