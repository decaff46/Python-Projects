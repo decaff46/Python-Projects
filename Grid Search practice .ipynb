{
 "cells": [
  {
   "cell_type": "code",
   "execution_count": 1,
   "metadata": {},
   "outputs": [],
   "source": [
    "import numpy as np \n",
    "import pandas as pd \n",
    "\n",
    "from sklearn.datasets import load_iris\n",
    "iris=load_iris()"
   ]
  },
  {
   "cell_type": "code",
   "execution_count": 4,
   "metadata": {},
   "outputs": [
    {
     "name": "stdout",
     "output_type": "stream",
     "text": [
      "data\n",
      "target\n",
      "target_names\n",
      "DESCR\n",
      "feature_names\n",
      "filename\n"
     ]
    }
   ],
   "source": [
    "for key in iris.keys():\n",
    "    print(key)"
   ]
  },
  {
   "cell_type": "code",
   "execution_count": 7,
   "metadata": {},
   "outputs": [
    {
     "name": "stdout",
     "output_type": "stream",
     "text": [
      "(150, 4)\n",
      "(150,)\n"
     ]
    }
   ],
   "source": [
    "x, y = iris.data, iris.target\n",
    "\n",
    "print(x.shape)\n",
    "print(y.shape)"
   ]
  },
  {
   "cell_type": "code",
   "execution_count": 9,
   "metadata": {},
   "outputs": [],
   "source": [
    "from sklearn.model_selection import train_test_split\n",
    "\n",
    "x_train, x_test, y_train, y_test = train_test_split(x, y, test_size = 0.3, random_state = 42)"
   ]
  },
  {
   "cell_type": "code",
   "execution_count": 26,
   "metadata": {},
   "outputs": [],
   "source": [
    "## logistic regression : \n",
    "\n",
    "from sklearn.linear_model import LogisticRegression\n",
    "\n",
    "lg = LogisticRegression(C = 1)\n",
    "\n",
    "lg.fit(x_train, y_train)\n",
    "y_pred= lg.predict(x_test)"
   ]
  },
  {
   "cell_type": "code",
   "execution_count": 27,
   "metadata": {},
   "outputs": [
    {
     "data": {
      "text/plain": [
       "1.0"
      ]
     },
     "execution_count": 27,
     "metadata": {},
     "output_type": "execute_result"
    }
   ],
   "source": [
    "correct = sum(y_pred == y_test)\n",
    "total= y_test.size\n",
    "\n",
    "correct/ total"
   ]
  },
  {
   "cell_type": "code",
   "execution_count": 28,
   "metadata": {
    "collapsed": true
   },
   "outputs": [
    {
     "data": {
      "text/plain": [
       "array([0.81229126, 0.05796594, 0.0020942 , 0.77323378, 0.75129818,\n",
       "       0.04990712, 0.90413963, 0.14749245, 0.78060926, 0.94080716,\n",
       "       0.22532261, 0.03726369, 0.03079442, 0.04394044, 0.0234552 ,\n",
       "       0.66333334, 0.02672919, 0.94515081, 0.82008868, 0.04146005,\n",
       "       0.04125564, 0.38668099, 0.04369618, 0.05211085, 0.02037042,\n",
       "       0.10553939, 0.06985503, 0.01949447, 0.03900287, 0.05048125,\n",
       "       0.00679582, 0.01928864, 0.89002376, 0.035316  , 0.01739074,\n",
       "       0.28537849, 0.81215651, 0.03583227, 0.0218803 , 0.01691739,\n",
       "       0.19405419, 0.7369853 , 0.75170181, 0.01822954, 0.03334508])"
      ]
     },
     "execution_count": 28,
     "metadata": {},
     "output_type": "execute_result"
    }
   ],
   "source": [
    "y_pred_proba = lg.predict_proba(x_test)[:, 1]\n",
    "y_pred_proba"
   ]
  },
  {
   "cell_type": "code",
   "execution_count": 21,
   "metadata": {},
   "outputs": [
    {
     "name": "stdout",
     "output_type": "stream",
     "text": [
      "Best Parameters using grid search: \n",
      " {'C': 0.5, 'penalty': 'l2'}\n"
     ]
    }
   ],
   "source": [
    "import warnings\n",
    "warnings.filterwarnings('ignore')\n",
    "from sklearn.model_selection import GridSearchCV\n",
    "\n",
    "paramgrid = {'C': [0.01, 0.05, 0.1, 0.5, 1, 5, 10], 'penalty': ['l1','l2']}\n",
    "\n",
    "model= GridSearchCV(lg, paramgrid, cv=10)\n",
    "model.fit(x_train, y_train)\n",
    "\n",
    "print('Best Parameters using grid search: \\n', \n",
    "      model.best_params_)"
   ]
  },
  {
   "cell_type": "code",
   "execution_count": 22,
   "metadata": {},
   "outputs": [
    {
     "data": {
      "text/plain": [
       "LogisticRegression(C=0.5, class_weight=None, dual=False, fit_intercept=True,\n",
       "                   intercept_scaling=1, l1_ratio=None, max_iter=100,\n",
       "                   multi_class='auto', n_jobs=None, penalty='l2',\n",
       "                   random_state=None, solver='lbfgs', tol=0.0001, verbose=0,\n",
       "                   warm_start=False)"
      ]
     },
     "execution_count": 22,
     "metadata": {},
     "output_type": "execute_result"
    }
   ],
   "source": [
    "lg.set_params(C = 0.5, penalty = 'l2')"
   ]
  },
  {
   "cell_type": "code",
   "execution_count": 30,
   "metadata": {},
   "outputs": [
    {
     "data": {
      "text/plain": [
       "1.0"
      ]
     },
     "execution_count": 30,
     "metadata": {},
     "output_type": "execute_result"
    }
   ],
   "source": [
    "from sklearn.metrics import accuracy_score\n",
    "optimized_lg = lg.fit(x_train,y_train)\n",
    "y_pred= optimized_lg.predict(x_test)\n",
    "\n",
    "accuracy = accuracy_score(y_test, y_pred)\n",
    "accuracy"
   ]
  },
  {
   "cell_type": "code",
   "execution_count": 32,
   "metadata": {},
   "outputs": [
    {
     "data": {
      "text/plain": [
       "1.0"
      ]
     },
     "execution_count": 32,
     "metadata": {},
     "output_type": "execute_result"
    }
   ],
   "source": [
    "optimizer = GridSearchCV(lg, paramgrid, cv=10)\n",
    "\n",
    "#Fit it for original data\n",
    "optimizer.fit(x_train, y_train)\n",
    "predict = optimizer.best_estimator_.predict(x_test)\n",
    "accuracy_score(y_test,predict)"
   ]
  },
  {
   "cell_type": "code",
   "execution_count": 33,
   "metadata": {},
   "outputs": [
    {
     "data": {
      "text/plain": [
       "1.0"
      ]
     },
     "execution_count": 33,
     "metadata": {},
     "output_type": "execute_result"
    }
   ],
   "source": [
    "# KNN \n",
    "from sklearn.neighbors import KNeighborsClassifier\n",
    "from sklearn import metrics\n",
    "\n",
    "knn = KNeighborsClassifier(n_neighbors= 5, metric='minkowski')\n",
    "knn.fit(x_train, y_train)\n",
    "\n",
    "knn.score(x_test, y_test)"
   ]
  },
  {
   "cell_type": "code",
   "execution_count": 74,
   "metadata": {},
   "outputs": [
    {
     "data": {
      "image/png": "[encoded data removed]",
      "text/plain": [
       "<Figure size 432x288 with 1 Axes>"
      ]
     },
     "metadata": {
      "needs_background": "light"
     },
     "output_type": "display_data"
    }
   ],
   "source": [
    "import matplotlib.pyplot as plt\n",
    "import seaborn as sns\n",
    "\n",
    "k_range= range (1,10)\n",
    "scores=[]\n",
    "for k in k_range :\n",
    "    knn=KNeighborsClassifier(n_neighbors=k)\n",
    "    knn.fit(x_train,y_train)\n",
    "    y_pred=knn.predict(x_test)\n",
    "    scores.append(metrics.accuracy_score(y_test,y_pred))\n",
    "    \n",
    "plt.plot(k_range,scores)\n",
    "plt.show()"
   ]
  },
  {
   "cell_type": "code",
   "execution_count": 46,
   "metadata": {},
   "outputs": [
    {
     "data": {
      "text/plain": [
       "1.0"
      ]
     },
     "execution_count": 46,
     "metadata": {},
     "output_type": "execute_result"
    }
   ],
   "source": [
    "#param_grid = dict(n_neighbors=k_range)\n",
    "paramgrid = {'n_neighbors': list(range(1,10))}\n",
    "paramgrid\n",
    "\n",
    "knn_opt = GridSearchCV(estimator=knn, param_grid=paramgrid, cv = 10, scoring='accuracy')\n",
    "predict = knn_opt.fit(x_train, y_train).best_estimator_.predict(x_test)\n",
    "\n",
    "accuracy_score(y_test, predict)"
   ]
  },
  {
   "cell_type": "code",
   "execution_count": 47,
   "metadata": {},
   "outputs": [
    {
     "data": {
      "text/plain": [
       "0.9555555555555556"
      ]
     },
     "execution_count": 47,
     "metadata": {},
     "output_type": "execute_result"
    }
   ],
   "source": [
    "# SVM \n",
    "from sklearn.svm import SVC\n",
    "\n",
    "svm = SVC(kernel='rbf', gamma= 1.0, C = 1000)\n",
    "svm.fit(x_train, y_train)\n",
    "\n",
    "y_pred = svm.predict(x_test)\n",
    "accuracy_score(y_test, y_pred)"
   ]
  },
  {
   "cell_type": "code",
   "execution_count": 50,
   "metadata": {},
   "outputs": [
    {
     "data": {
      "text/plain": [
       "1.0"
      ]
     },
     "execution_count": 50,
     "metadata": {},
     "output_type": "execute_result"
    }
   ],
   "source": [
    "paramgrid= {'kernel':['linear', 'poly', 'rbf'],\n",
    "           'C':[0.1, 1, 10, 100, 1000],\n",
    "           'gamma': [1, 0.1, 0.01, 0.001, 0.0001]}\n",
    "\n",
    "\n",
    "svm_opt = GridSearchCV(estimator=svm, param_grid=paramgrid, cv = 10, scoring= 'accuracy')\n",
    "y_pred = svm_opt.fit(x_train, y_train).best_estimator_.predict(x_test)\n",
    "accuracy_score(y_test, y_pred)"
   ]
  },
  {
   "cell_type": "code",
   "execution_count": 54,
   "metadata": {},
   "outputs": [
    {
     "data": {
      "text/plain": [
       "1.0"
      ]
     },
     "execution_count": 54,
     "metadata": {},
     "output_type": "execute_result"
    }
   ],
   "source": [
    "# XG boost \n",
    "import xgboost as xgb\n",
    "\n",
    "xgb = xgb.XGBClassifier(earning_rate=0.02, n_estimators=600, objective='binary:logistic', silent=True, nthread=1)\n",
    "xgb.fit(x_train, y_train)\n",
    "y_pred = xgb.predict(x_test)\n",
    "accuracy_score(y_test, y_pred)"
   ]
  },
  {
   "cell_type": "code",
   "execution_count": 67,
   "metadata": {},
   "outputs": [
    {
     "data": {
      "text/plain": [
       "1.0"
      ]
     },
     "execution_count": 67,
     "metadata": {},
     "output_type": "execute_result"
    }
   ],
   "source": [
    "paramgrid = {\n",
    "        'min_child_weight': [1, 5, 10],\n",
    "        'colsample_bytree': [0.6, 0.8, 1.0],\n",
    "        'max_depth': [3, 4, 5], \n",
    "        'n_estimators' : list(range(100,1000, 300))\n",
    "        }\n",
    "\n",
    "xgb_opt= GridSearchCV(estimator= xgb, param_grid=paramgrid, cv = 10, scoring='accuracy')\n",
    "xgb_opt.fit(x_train, y_train)\n",
    "y_pred = xgb_opt.best_estimator_.predict(x_test)\n",
    "accuracy_score(y_test, y_pred)"
   ]
  },
  {
   "cell_type": "code",
   "execution_count": 68,
   "metadata": {},
   "outputs": [
    {
     "data": {
      "text/plain": [
       "1.0"
      ]
     },
     "execution_count": 68,
     "metadata": {},
     "output_type": "execute_result"
    }
   ],
   "source": [
    "# RF\n",
    "from sklearn.ensemble import RandomForestClassifier\n",
    "\n",
    "rf = RandomForestClassifier()\n",
    "rf.fit(x_train, y_train)\n",
    "y_pred = rf.predict(x_test)\n",
    "accuracy_score(y_test, y_pred)"
   ]
  },
  {
   "cell_type": "code",
   "execution_count": 72,
   "metadata": {},
   "outputs": [
    {
     "data": {
      "text/plain": [
       "1.0"
      ]
     },
     "execution_count": 72,
     "metadata": {},
     "output_type": "execute_result"
    }
   ],
   "source": [
    "n_estimators = [10, 100, 500]\n",
    "max_depth = [None, 5, 10, 20]\n",
    "min_samples_leaf = [1, 2, 3, 4, 5, 6]\n",
    "bootstrap = [True, False]\n",
    "paramgrid = dict(n_estimators=n_estimators, max_depth=max_depth, min_samples_leaf=min_samples_leaf, bootstrap=bootstrap)\n",
    "\n",
    "rf_opt = GridSearchCV(estimator=rf, param_grid=paramgrid, cv = 10, scoring='accuracy')\n",
    "rf_opt.fit(x_train, y_train)\n",
    "y_pred = rf_opt.best_estimator_.predict(x_test)\n",
    "accuracy_score(y_test, y_pred)"
   ]
  }
 ],
 "metadata": {
  "kernelspec": {
   "display_name": "Python 3",
   "language": "python",
   "name": "python3"
  },
  "language_info": {
   "codemirror_mode": {
    "name": "ipython",
    "version": 3
   },
   "file_extension": ".py",
   "mimetype": "text/x-python",
   "name": "python",
   "nbconvert_exporter": "python",
   "pygments_lexer": "ipython3",
   "version": "3.7.3"
  }
 },
 "nbformat": 4,
 "nbformat_minor": 2
}
